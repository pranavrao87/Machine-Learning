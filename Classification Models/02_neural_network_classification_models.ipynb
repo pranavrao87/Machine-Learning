{
  "nbformat": 4,
  "nbformat_minor": 0,
  "metadata": {
    "colab": {
      "provenance": [],
      "authorship_tag": "ABX9TyNTerPY+c9mr5sZGlxffYfJ",
      "include_colab_link": true
    },
    "kernelspec": {
      "name": "python3",
      "display_name": "Python 3"
    },
    "language_info": {
      "name": "python"
    }
  },
  "cells": [
    {
      "cell_type": "markdown",
      "metadata": {
        "id": "view-in-github",
        "colab_type": "text"
      },
      "source": [
        "<a href=\"https://colab.research.google.com/github/pranavrao87/Machine-Learning/blob/Classification-Models/Classification%20Models/02_neural_network_classification_models.ipynb\" target=\"_parent\"><img src=\"https://colab.research.google.com/assets/colab-badge.svg\" alt=\"Open In Colab\"/></a>"
      ]
    },
    {
      "cell_type": "markdown",
      "source": [
        "# Intro to neural network classification w/ tensordlow\n",
        "\n",
        "Learning how to write neural networks for classification problems\n",
        "- Classification problem: when you to try to classify something as one thing or another\n",
        "    - Binary classification\n",
        "    - Multiclass classification\n",
        "    - Multilabel classification\n",
        "    "
      ],
      "metadata": {
        "id": "91LnRZVJ4tDl"
      }
    },
    {
      "cell_type": "markdown",
      "source": [
        "# Creating data to view and fit"
      ],
      "metadata": {
        "id": "4n4kD3m75JrD"
      }
    },
    {
      "cell_type": "code",
      "source": [
        "from sklearn.datasets import make_circles\n",
        "\n",
        "# 1000 examples\n",
        "n_samples = 1000\n",
        "\n",
        "# Create circles\n",
        "X, y = make_circles(n_samples,\n",
        "                    noise=0.3,\n",
        "                    random_state=42)"
      ],
      "metadata": {
        "id": "AuVkDoXz5Mx5"
      },
      "execution_count": null,
      "outputs": []
    }
  ]
}
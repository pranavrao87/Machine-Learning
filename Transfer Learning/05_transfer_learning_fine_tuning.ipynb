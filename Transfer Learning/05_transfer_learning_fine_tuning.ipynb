{
  "nbformat": 4,
  "nbformat_minor": 0,
  "metadata": {
    "colab": {
      "provenance": [],
      "gpuType": "T4",
      "authorship_tag": "ABX9TyPE0Kmk+uj4dw/AMKDv+7xO",
      "include_colab_link": true
    },
    "kernelspec": {
      "name": "python3",
      "display_name": "Python 3"
    },
    "language_info": {
      "name": "python"
    },
    "accelerator": "GPU"
  },
  "cells": [
    {
      "cell_type": "markdown",
      "metadata": {
        "id": "view-in-github",
        "colab_type": "text"
      },
      "source": [
        "<a href=\"https://colab.research.google.com/github/pranavrao87/Machine-Learning/blob/main/Transfer%20Learning/05_transfer_learning_fine_tuning.ipynb\" target=\"_parent\"><img src=\"https://colab.research.google.com/assets/colab-badge.svg\" alt=\"Open In Colab\"/></a>"
      ]
    },
    {
      "cell_type": "markdown",
      "source": [
        "# Transfer Learning: Fine-Tuning\n",
        "\n",
        "previously experimented w/ feature extraction, now time to look at fine-tuning"
      ],
      "metadata": {
        "id": "FnI5VNk1KMlb"
      }
    },
    {
      "cell_type": "code",
      "source": [
        "!nvidia-smi"
      ],
      "metadata": {
        "colab": {
          "base_uri": "https://localhost:8080/"
        },
        "id": "b5SiJbGfKhXi",
        "outputId": "68fdde5f-820c-40f5-fcff-83f824dd375b"
      },
      "execution_count": 1,
      "outputs": [
        {
          "output_type": "stream",
          "name": "stdout",
          "text": [
            "Tue Sep  5 04:05:40 2023       \n",
            "+-----------------------------------------------------------------------------+\n",
            "| NVIDIA-SMI 525.105.17   Driver Version: 525.105.17   CUDA Version: 12.0     |\n",
            "|-------------------------------+----------------------+----------------------+\n",
            "| GPU  Name        Persistence-M| Bus-Id        Disp.A | Volatile Uncorr. ECC |\n",
            "| Fan  Temp  Perf  Pwr:Usage/Cap|         Memory-Usage | GPU-Util  Compute M. |\n",
            "|                               |                      |               MIG M. |\n",
            "|===============================+======================+======================|\n",
            "|   0  Tesla T4            Off  | 00000000:00:04.0 Off |                    0 |\n",
            "| N/A   68C    P8    11W /  70W |      0MiB / 15360MiB |      0%      Default |\n",
            "|                               |                      |                  N/A |\n",
            "+-------------------------------+----------------------+----------------------+\n",
            "                                                                               \n",
            "+-----------------------------------------------------------------------------+\n",
            "| Processes:                                                                  |\n",
            "|  GPU   GI   CI        PID   Type   Process name                  GPU Memory |\n",
            "|        ID   ID                                                   Usage      |\n",
            "|=============================================================================|\n",
            "|  No running processes found                                                 |\n",
            "+-----------------------------------------------------------------------------+\n"
          ]
        }
      ]
    },
    {
      "cell_type": "markdown",
      "source": [
        "## Creating helper functions\n",
        "\n",
        "previously been creating numerous helper functions every time very annoying\n",
        "\n",
        "Instead put reusable functions in a script that can be downloaded and imported again and again w/o having to write the functions every time"
      ],
      "metadata": {
        "id": "6UlJE6_XKjD2"
      }
    },
    {
      "cell_type": "code",
      "source": [
        "!wget https://raw.githubusercontent.com/pranavrao87/Machine-Learning/main/ML_helper_functions.py"
      ],
      "metadata": {
        "colab": {
          "base_uri": "https://localhost:8080/"
        },
        "id": "R2hBKnFYKuVa",
        "outputId": "7247b3ea-56cf-463b-b007-d70f99e33b8d"
      },
      "execution_count": 2,
      "outputs": [
        {
          "output_type": "stream",
          "name": "stdout",
          "text": [
            "--2023-09-05 04:05:40--  https://raw.githubusercontent.com/pranavrao87/Machine-Learning/main/ML_helper_functions.py\n",
            "Resolving raw.githubusercontent.com (raw.githubusercontent.com)... 185.199.108.133, 185.199.109.133, 185.199.110.133, ...\n",
            "Connecting to raw.githubusercontent.com (raw.githubusercontent.com)|185.199.108.133|:443... connected.\n",
            "HTTP request sent, awaiting response... 200 OK\n",
            "Length: 10534 (10K) [text/plain]\n",
            "Saving to: ‘ML_helper_functions.py’\n",
            "\n",
            "ML_helper_functions 100%[===================>]  10.29K  --.-KB/s    in 0s      \n",
            "\n",
            "2023-09-05 04:05:41 (127 MB/s) - ‘ML_helper_functions.py’ saved [10534/10534]\n",
            "\n"
          ]
        }
      ]
    },
    {
      "cell_type": "code",
      "source": [
        "from ML_helper_functions import create_tensorboard_callback, plot_loss_curves, unzip_data, walk_through_dir"
      ],
      "metadata": {
        "id": "daSm8eihLFnx"
      },
      "execution_count": 3,
      "outputs": []
    },
    {
      "cell_type": "markdown",
      "source": [
        "When runtime deletes, Colab deletes ML_helper_functions.py, so it needs to be re-downloaded"
      ],
      "metadata": {
        "id": "wTEXDUQ1LorN"
      }
    },
    {
      "cell_type": "markdown",
      "source": [
        "## Getting Data\n",
        "\n",
        "using pretrained models w/in tf.keras.applications and applying them to diff problems (in this case recognizing images of food)\n",
        "\n",
        "link: https://www.tensorflow.org/api_docs/python/tf/keras/applications"
      ],
      "metadata": {
        "id": "Qs33Tw-cLfLs"
      }
    },
    {
      "cell_type": "code",
      "source": [
        "# Get 10% of training data of 10 classes of food\n",
        "!wget https://storage.googleapis.com/ztm_tf_course/food_vision/10_food_classes_10_percent.zip\n",
        "\n",
        "unzip_data(\"10_food_classes_10_percent.zip\")"
      ],
      "metadata": {
        "colab": {
          "base_uri": "https://localhost:8080/"
        },
        "id": "umlbT4Dvhik8",
        "outputId": "6bcac1d9-daca-4928-da3a-303f11392a1f"
      },
      "execution_count": 4,
      "outputs": [
        {
          "output_type": "stream",
          "name": "stdout",
          "text": [
            "--2023-09-05 04:09:12--  https://storage.googleapis.com/ztm_tf_course/food_vision/10_food_classes_10_percent.zip\n",
            "Resolving storage.googleapis.com (storage.googleapis.com)... 74.125.68.128, 64.233.170.128, 142.251.175.128, ...\n",
            "Connecting to storage.googleapis.com (storage.googleapis.com)|74.125.68.128|:443... connected.\n",
            "HTTP request sent, awaiting response... 200 OK\n",
            "Length: 168546183 (161M) [application/zip]\n",
            "Saving to: ‘10_food_classes_10_percent.zip’\n",
            "\n",
            "10_food_classes_10_ 100%[===================>] 160.74M  22.5MB/s    in 8.3s    \n",
            "\n",
            "2023-09-05 04:09:22 (19.3 MB/s) - ‘10_food_classes_10_percent.zip’ saved [168546183/168546183]\n",
            "\n"
          ]
        }
      ]
    },
    {
      "cell_type": "code",
      "source": [
        "# Check out num of images and subdirectories in dataset\n",
        "walk_through_dir(\"10_food_classes_10_percent\")"
      ],
      "metadata": {
        "colab": {
          "base_uri": "https://localhost:8080/"
        },
        "id": "EQ-MtY-dhNKb",
        "outputId": "e742122f-0201-4b8d-b09e-2a84052c7093"
      },
      "execution_count": 6,
      "outputs": [
        {
          "output_type": "stream",
          "name": "stdout",
          "text": [
            "There are 2 directories and 0 images in '10_food_classes_10_percent'.\n",
            "There are 10 directories and 0 images in '10_food_classes_10_percent/test'.\n",
            "There are 0 directories and 250 images in '10_food_classes_10_percent/test/grilled_salmon'.\n",
            "There are 0 directories and 250 images in '10_food_classes_10_percent/test/chicken_curry'.\n",
            "There are 0 directories and 250 images in '10_food_classes_10_percent/test/sushi'.\n",
            "There are 0 directories and 250 images in '10_food_classes_10_percent/test/hamburger'.\n",
            "There are 0 directories and 250 images in '10_food_classes_10_percent/test/chicken_wings'.\n",
            "There are 0 directories and 250 images in '10_food_classes_10_percent/test/steak'.\n",
            "There are 0 directories and 250 images in '10_food_classes_10_percent/test/fried_rice'.\n",
            "There are 0 directories and 250 images in '10_food_classes_10_percent/test/ramen'.\n",
            "There are 0 directories and 250 images in '10_food_classes_10_percent/test/pizza'.\n",
            "There are 0 directories and 250 images in '10_food_classes_10_percent/test/ice_cream'.\n",
            "There are 10 directories and 0 images in '10_food_classes_10_percent/train'.\n",
            "There are 0 directories and 75 images in '10_food_classes_10_percent/train/grilled_salmon'.\n",
            "There are 0 directories and 75 images in '10_food_classes_10_percent/train/chicken_curry'.\n",
            "There are 0 directories and 75 images in '10_food_classes_10_percent/train/sushi'.\n",
            "There are 0 directories and 75 images in '10_food_classes_10_percent/train/hamburger'.\n",
            "There are 0 directories and 75 images in '10_food_classes_10_percent/train/chicken_wings'.\n",
            "There are 0 directories and 75 images in '10_food_classes_10_percent/train/steak'.\n",
            "There are 0 directories and 75 images in '10_food_classes_10_percent/train/fried_rice'.\n",
            "There are 0 directories and 75 images in '10_food_classes_10_percent/train/ramen'.\n",
            "There are 0 directories and 75 images in '10_food_classes_10_percent/train/pizza'.\n",
            "There are 0 directories and 75 images in '10_food_classes_10_percent/train/ice_cream'.\n"
          ]
        }
      ]
    },
    {
      "cell_type": "code",
      "source": [
        "# Create training and testing directory paths\n",
        "train_dir = \"10_food_classes_10_percent/train\"\n",
        "test_dir = \"10_food_classes_10_percent/test\""
      ],
      "metadata": {
        "id": "F9Smmmr9iDQf"
      },
      "execution_count": 8,
      "outputs": []
    },
    {
      "cell_type": "code",
      "source": [
        "import tensorflow as tf\n",
        "IMG_SIZE = (224, 224)\n",
        "BATCH_SIZE = 32\n",
        "train_data_10_percent = tf.keras.preprocessing.image_dataset_from_directory(directory=train_dir,\n",
        "                                                                            image_size=IMG_SIZE,\n",
        "                                                                            label_mode=\"categorical\",\n",
        "                                                                            batch_size=BATCH_SIZE)\n",
        "test_data = tf.keras.preprocessing.image_dataset_from_directory(directory=test_dir,\n",
        "                                                                image_size=IMG_SIZE,\n",
        "                                                                label_mode=\"categorical\",\n",
        "                                                                batch_size=BATCH_SIZE)"
      ],
      "metadata": {
        "colab": {
          "base_uri": "https://localhost:8080/"
        },
        "id": "Z3LpAzUOiVW4",
        "outputId": "30d3d266-665d-4f99-fbd7-a31e8643778b"
      },
      "execution_count": 10,
      "outputs": [
        {
          "output_type": "stream",
          "name": "stdout",
          "text": [
            "Found 750 files belonging to 10 classes.\n",
            "Found 2500 files belonging to 10 classes.\n"
          ]
        }
      ]
    },
    {
      "cell_type": "code",
      "source": [
        "train_data_10_percent"
      ],
      "metadata": {
        "colab": {
          "base_uri": "https://localhost:8080/"
        },
        "id": "fkD8hsXqiY5F",
        "outputId": "87487eac-190d-40ec-fd86-677ab30345d1"
      },
      "execution_count": 11,
      "outputs": [
        {
          "output_type": "execute_result",
          "data": {
            "text/plain": [
              "<_BatchDataset element_spec=(TensorSpec(shape=(None, 224, 224, 3), dtype=tf.float32, name=None), TensorSpec(shape=(None, 10), dtype=tf.float32, name=None))>"
            ]
          },
          "metadata": {},
          "execution_count": 11
        }
      ]
    },
    {
      "cell_type": "markdown",
      "source": [
        "Creating batches of 32 imafes of size 224x224 split into red, green, and blue color channels."
      ],
      "metadata": {
        "id": "JvxvjpBHjub9"
      }
    },
    {
      "cell_type": "markdown",
      "source": [
        "BatchDataset - datatype that signifies that the data has been turned into batches"
      ],
      "metadata": {
        "id": "dj4HOgiajfYe"
      }
    },
    {
      "cell_type": "code",
      "source": [
        "# Check out class names of dataset\n",
        "train_data_10_percent.class_names"
      ],
      "metadata": {
        "colab": {
          "base_uri": "https://localhost:8080/"
        },
        "id": "kdjnzZKLjmJ6",
        "outputId": "e5cd173a-f5c8-4d31-d48b-a9c5bd125391"
      },
      "execution_count": 12,
      "outputs": [
        {
          "output_type": "execute_result",
          "data": {
            "text/plain": [
              "['chicken_curry',\n",
              " 'chicken_wings',\n",
              " 'fried_rice',\n",
              " 'grilled_salmon',\n",
              " 'hamburger',\n",
              " 'ice_cream',\n",
              " 'pizza',\n",
              " 'ramen',\n",
              " 'steak',\n",
              " 'sushi']"
            ]
          },
          "metadata": {},
          "execution_count": 12
        }
      ]
    },
    {
      "cell_type": "code",
      "source": [
        "# Examples of a batch of data\n",
        "for images, labels in train_data_10_percent.take(1):\n",
        "  print(images, labels)"
      ],
      "metadata": {
        "colab": {
          "base_uri": "https://localhost:8080/"
        },
        "id": "eq0MU5O7kAuW",
        "outputId": "da7bb931-de92-41ff-fb55-af92cb7883d0"
      },
      "execution_count": 14,
      "outputs": [
        {
          "output_type": "stream",
          "name": "stdout",
          "text": [
            "tf.Tensor(\n",
            "[[[[254.        255.        247.       ]\n",
            "   [254.        255.        247.       ]\n",
            "   [254.        255.        247.       ]\n",
            "   ...\n",
            "   [129.99405   108.56553   125.351265 ]\n",
            "   [ 89.35203    69.158165   88.56123  ]\n",
            "   [ 91.892944   74.06646    93.4797   ]]\n",
            "\n",
            "  [[254.        255.        247.       ]\n",
            "   [254.        255.        247.       ]\n",
            "   [254.        255.        247.       ]\n",
            "   ...\n",
            "   [160.67268   137.87164   153.38701  ]\n",
            "   [ 99.79062    77.07636    96.93859  ]\n",
            "   [ 93.21971    73.025894   92.09732  ]]\n",
            "\n",
            "  [[254.        255.        247.       ]\n",
            "   [254.        255.        247.       ]\n",
            "   [254.        255.        247.       ]\n",
            "   ...\n",
            "   [196.02995   171.60138   185.21875  ]\n",
            "   [112.63236    88.09157   103.86197  ]\n",
            "   [ 87.153076   64.653145   81.15304  ]]\n",
            "\n",
            "  ...\n",
            "\n",
            "  [[244.77547   219.06625   122.13774  ]\n",
            "   [250.38803   219.14828   125.633026 ]\n",
            "   [238.29057   204.34166   111.770256 ]\n",
            "   ...\n",
            "   [237.12245   176.9746    162.92868  ]\n",
            "   [232.5561    172.1735    160.72966  ]\n",
            "   [239.27565   180.05121   168.12778  ]]\n",
            "\n",
            "  [[245.16324   214.35709   127.04593  ]\n",
            "   [240.24986   213.0968    124.45911  ]\n",
            "   [245.72458   222.6532    132.65324  ]\n",
            "   ...\n",
            "   [236.51012   176.11221   165.89795  ]\n",
            "   [237.3623    179.29086   168.50519  ]\n",
            "   [236.5459    177.87755   168.88257  ]]\n",
            "\n",
            "  [[235.5204    201.44897   123.52047  ]\n",
            "   [240.47478   213.16354   132.97484  ]\n",
            "   [253.43886   237.43388   153.85742  ]\n",
            "   ...\n",
            "   [240.51042   180.79106   172.36253  ]\n",
            "   [242.09184   183.09184   177.09184  ]\n",
            "   [243.25516   186.25516   179.25516  ]]]\n",
            "\n",
            "\n",
            " [[[172.91327   144.91327   185.91327  ]\n",
            "   [174.38266   146.38266   187.38266  ]\n",
            "   [175.20409   147.06633   188.4796   ]\n",
            "   ...\n",
            "   [ 90.35714    36.076523   72.91838  ]\n",
            "   [ 91.005104   37.214314   75.71939  ]\n",
            "   [ 93.612236   40.372505   78.32652  ]]\n",
            "\n",
            "  [[199.16327   172.16327   215.16327  ]\n",
            "   [193.91837   166.91837   211.77551  ]\n",
            "   [185.65817   158.62755   203.53061  ]\n",
            "   ...\n",
            "   [ 89.80104    32.872467   66.01533  ]\n",
            "   [ 90.92856    34.142868   67.34694  ]\n",
            "   [ 89.64282    33.428604   66.306114 ]]\n",
            "\n",
            "  [[225.13776   202.06633   243.07144  ]\n",
            "   [221.72958   199.22958   240.17346  ]\n",
            "   [220.81123   196.45409   237.59694  ]\n",
            "   ...\n",
            "   [ 89.59191    26.928593   55.331673 ]\n",
            "   [ 91.65818    31.015322   58.801037 ]\n",
            "   [ 93.86225    33.219395   61.005108 ]]\n",
            "\n",
            "  ...\n",
            "\n",
            "  [[195.3825    145.3825    156.66313  ]\n",
            "   [197.37756   145.57652   156.97964  ]\n",
            "   [201.87227   148.87227   158.87227  ]\n",
            "   ...\n",
            "   [ 74.474434   23.831646   53.04591  ]\n",
            "   [ 68.71423    19.928558   48.857117 ]\n",
            "   [ 63.07653    19.07653    46.07653  ]]\n",
            "\n",
            "  [[183.56639   133.16333   146.37253  ]\n",
            "   [193.73975   142.01527   154.01527  ]\n",
            "   [213.4489    159.66318   172.02032  ]\n",
            "   ...\n",
            "   [ 75.015305   23.372515   54.58678  ]\n",
            "   [ 71.576454   22.79078    52.719337 ]\n",
            "   [ 65.07144    20.071442   49.07144  ]]\n",
            "\n",
            "  [[195.14758   144.14758   159.14758  ]\n",
            "   [197.21422   147.21422   159.21422  ]\n",
            "   [201.45387   147.66817   160.0253   ]\n",
            "   ...\n",
            "   [ 74.14788    22.505089   53.719353 ]\n",
            "   [ 69.0254     20.23972    50.168278 ]\n",
            "   [ 65.         20.         49.       ]]]\n",
            "\n",
            "\n",
            " [[[  5.586735    5.586735    3.5867348]\n",
            "   [  5.357143    5.357143    3.357143 ]\n",
            "   [  6.494898    6.494898    4.494898 ]\n",
            "   ...\n",
            "   [151.1479    128.08669   120.142876 ]\n",
            "   [149.95918   129.76534   124.36226  ]\n",
            "   [149.51015   131.09691   127.09691  ]]\n",
            "\n",
            "  [[  5.          5.          3.       ]\n",
            "   [  4.1377544   4.1377544   2.1377547]\n",
            "   [  5.0714283   5.0714283   3.0714283]\n",
            "   ...\n",
            "   [155.44392   130.90317   120.81645  ]\n",
            "   [157.42853   134.84692   128.70915  ]\n",
            "   [148.3111    128.11728   122.71418  ]]\n",
            "\n",
            "  [[  6.214286    6.214286    4.214286 ]\n",
            "   [  5.270408    5.270408    3.2704082]\n",
            "   [  5.          5.          3.       ]\n",
            "   ...\n",
            "   [153.8317    126.61743   115.40317  ]\n",
            "   [155.69896   131.05614   123.341835 ]\n",
            "   [154.01015   131.85207   125.14285  ]]\n",
            "\n",
            "  ...\n",
            "\n",
            "  [[112.28571    40.499977   14.857186 ]\n",
            "   [107.28569    36.22957     8.39794  ]\n",
            "   [120.57143    49.571426   20.806156 ]\n",
            "   ...\n",
            "   [232.18855   191.40282   129.40282  ]\n",
            "   [224.9132    184.12746   122.12746  ]\n",
            "   [224.28047   183.49474   121.49473  ]]\n",
            "\n",
            "  [[114.57142    42.571415   17.571415 ]\n",
            "   [107.20918    35.209183   10.209182 ]\n",
            "   [117.41323    46.3571     18.525501 ]\n",
            "   ...\n",
            "   [225.41316   183.41316   123.41316  ]\n",
            "   [225.        183.        123.       ]\n",
            "   [226.38269   184.38269   124.3827   ]]\n",
            "\n",
            "  [[112.74494    42.74494    17.744944 ]\n",
            "   [109.11745    39.117447   13.117449 ]\n",
            "   [117.13785    47.35214    20.70928  ]\n",
            "   ...\n",
            "   [219.71417   177.71417   119.71417  ]\n",
            "   [222.97449   180.97449   122.97448  ]\n",
            "   [225.07153   183.07153   125.07153  ]]]\n",
            "\n",
            "\n",
            " ...\n",
            "\n",
            "\n",
            " [[[ 27.142857   14.142857   24.142857 ]\n",
            "   [ 31.82653    18.82653    28.82653  ]\n",
            "   [ 33.77551    17.34694    28.561224 ]\n",
            "   ...\n",
            "   [ 84.612465   75.54611    71.8165   ]\n",
            "   [ 94.69919    85.69919    80.69919  ]\n",
            "   [125.255295  116.255295  109.71446  ]]\n",
            "\n",
            "  [[ 23.10204    11.10204    21.10204  ]\n",
            "   [ 32.57143    19.57143    29.57143  ]\n",
            "   [ 28.030613   11.60204    22.816326 ]\n",
            "   ...\n",
            "   [ 59.58684    50.01537    47.872536 ]\n",
            "   [ 60.70913    50.77547    48.576454 ]\n",
            "   [ 52.12746    43.081543   38.21929  ]]\n",
            "\n",
            "  [[ 27.581633   16.367348   24.79592  ]\n",
            "   [ 32.627552   19.627552   28.841839 ]\n",
            "   [ 30.785713   14.693877   24.954082 ]\n",
            "   ...\n",
            "   [ 59.744915   49.836742   50.36226  ]\n",
            "   [ 58.9591     48.9591     47.744812 ]\n",
            "   [ 53.984844   44.061382   42.336845 ]]\n",
            "\n",
            "  ...\n",
            "\n",
            "  [[ 14.224487   17.224487   24.653076 ]\n",
            "   [  7.51527    10.316282   19.801003 ]\n",
            "   [ 13.760145   15.760146   28.234646 ]\n",
            "   ...\n",
            "   [ 15.377537   12.377537   29.469368 ]\n",
            "   [ 26.484537   23.484537   40.48454  ]\n",
            "   [ 13.948804   10.948804   27.948803 ]]\n",
            "\n",
            "  [[ 10.948922   13.948922   22.948921 ]\n",
            "   [  3.3673258   5.3724265  17.357124 ]\n",
            "   [  2.1274333   4.1274333  17.556005 ]\n",
            "   ...\n",
            "   [ 11.397926    8.397926   25.826454 ]\n",
            "   [ 14.061086   11.061086   28.061085 ]\n",
            "   [  9.26026     6.26026    23.26026  ]]\n",
            "\n",
            "  [[  8.841838   10.841838   22.841837 ]\n",
            "   [ 13.244869   15.244869   28.24487  ]\n",
            "   [  3.6479475   5.6479473  19.076519 ]\n",
            "   ...\n",
            "   [ 16.93364    13.9336405  32.372395 ]\n",
            "   [ 14.449      11.449      28.449    ]\n",
            "   [ 17.056124   15.056124   29.056124 ]]]\n",
            "\n",
            "\n",
            " [[[177.64287   161.64287   136.64287  ]\n",
            "   [179.38264   163.38264   138.38264  ]\n",
            "   [177.43367   161.43367   136.43367  ]\n",
            "   ...\n",
            "   [106.658035   88.44377    76.576485 ]\n",
            "   [116.57643    99.719315   92.719315 ]\n",
            "   [ 83.948425   70.361664   66.12193  ]]\n",
            "\n",
            "  [[175.18878   158.18878   132.18878  ]\n",
            "   [175.21428   158.21428   132.21428  ]\n",
            "   [173.21428   156.        130.42856  ]\n",
            "   ...\n",
            "   [189.14284   170.92857   158.50005  ]\n",
            "   [201.03064   184.17352   176.3113   ]\n",
            "   [178.9023    165.9023    159.9023   ]]\n",
            "\n",
            "  [[168.86224   151.43367   123.005104 ]\n",
            "   [167.9847    150.55612   122.12755  ]\n",
            "   [168.61734   150.97449   124.7602   ]\n",
            "   ...\n",
            "   [190.19397   172.40823   157.9797   ]\n",
            "   [195.41336   181.41336   170.52562  ]\n",
            "   [191.67818   178.67818   170.46388  ]]\n",
            "\n",
            "  ...\n",
            "\n",
            "  [[140.92342   103.28062    14.494884 ]\n",
            "   [137.35712   100.35712    12.3571205]\n",
            "   [133.99998    95.99998    11.42855  ]\n",
            "   ...\n",
            "   [143.78574    64.142944   21.785736 ]\n",
            "   [145.80104    67.80104    21.801043 ]\n",
            "   [144.64282    66.64282    19.07135  ]]\n",
            "\n",
            "  [[142.95407   105.95407    16.954073 ]\n",
            "   [139.14285   102.14285    14.142857 ]\n",
            "   [134.77042    96.7704     12.1989765]\n",
            "   ...\n",
            "   [143.49991    63.857117   21.499908 ]\n",
            "   [144.         66.         20.       ]\n",
            "   [143.64282    65.64282    17.642822 ]]\n",
            "\n",
            "  [[142.71432   105.71432    16.714321 ]\n",
            "   [138.50003   102.90313    14.096941 ]\n",
            "   [133.86226    97.43368    12.076538 ]\n",
            "   ...\n",
            "   [139.56627    60.137733   17.137733 ]\n",
            "   [142.14288    64.14288    18.142883 ]\n",
            "   [144.35718    66.35718    18.357178 ]]]\n",
            "\n",
            "\n",
            " [[[137.29178   201.5829    248.3597   ]\n",
            "   [158.44197   232.44675   255.       ]\n",
            "   [168.01785   247.01785   253.3106   ]\n",
            "   ...\n",
            "   [173.30879   200.05975   241.35834  ]\n",
            "   [193.36218   218.9288    239.24884  ]\n",
            "   [232.7318    252.27661   255.       ]]\n",
            "\n",
            "  [[126.61894   177.65625   227.9139   ]\n",
            "   [147.24904   214.91486   254.15881  ]\n",
            "   [150.54272   230.86511   255.       ]\n",
            "   ...\n",
            "   [169.83095   205.71747   241.97073  ]\n",
            "   [208.89944   242.84998   253.95537  ]\n",
            "   [229.69739   255.        255.       ]]\n",
            "\n",
            "  [[122.72672   142.01276   186.07526  ]\n",
            "   [141.56601   179.3482    229.60236  ]\n",
            "   [136.09853   192.63712   245.294    ]\n",
            "   ...\n",
            "   [177.01178   219.53857   254.2733   ]\n",
            "   [198.16942   238.95413   253.38008  ]\n",
            "   [213.88033   248.7294    253.74588  ]]\n",
            "\n",
            "  ...\n",
            "\n",
            "  [[209.13742   198.91931   191.93677  ]\n",
            "   [218.87843   203.54803   196.38283  ]\n",
            "   [205.39803   187.73883   180.73883  ]\n",
            "   ...\n",
            "   [190.79517   186.40962   210.63855  ]\n",
            "   [226.55444   214.16068   231.43652  ]\n",
            "   [212.195     193.17311   204.40529  ]]\n",
            "\n",
            "  [[207.82301   196.61188   185.45877  ]\n",
            "   [212.26935   192.65353   183.78297  ]\n",
            "   [207.68112   183.38734   178.06946  ]\n",
            "   ...\n",
            "   [212.42398   208.63824   234.06677  ]\n",
            "   [200.66267   192.52078   213.26187  ]\n",
            "   [201.91443   190.69894   207.54147  ]]\n",
            "\n",
            "  [[200.96034   187.67464   174.5694   ]\n",
            "   [202.69635   179.6874    169.31369  ]\n",
            "   [207.02899   178.18013   171.08731  ]\n",
            "   ...\n",
            "   [198.78795   195.43529   217.14061  ]\n",
            "   [178.04677   172.97118   194.94598  ]\n",
            "   [145.68346   137.5575    158.30557  ]]]], shape=(32, 224, 224, 3), dtype=float32) tf.Tensor(\n",
            "[[0. 1. 0. 0. 0. 0. 0. 0. 0. 0.]\n",
            " [0. 0. 0. 0. 0. 1. 0. 0. 0. 0.]\n",
            " [0. 1. 0. 0. 0. 0. 0. 0. 0. 0.]\n",
            " [1. 0. 0. 0. 0. 0. 0. 0. 0. 0.]\n",
            " [0. 1. 0. 0. 0. 0. 0. 0. 0. 0.]\n",
            " [0. 0. 0. 1. 0. 0. 0. 0. 0. 0.]\n",
            " [0. 0. 0. 0. 0. 0. 0. 1. 0. 0.]\n",
            " [0. 1. 0. 0. 0. 0. 0. 0. 0. 0.]\n",
            " [0. 0. 0. 0. 1. 0. 0. 0. 0. 0.]\n",
            " [0. 0. 1. 0. 0. 0. 0. 0. 0. 0.]\n",
            " [0. 0. 0. 0. 0. 0. 0. 0. 0. 1.]\n",
            " [0. 0. 0. 0. 0. 1. 0. 0. 0. 0.]\n",
            " [0. 0. 1. 0. 0. 0. 0. 0. 0. 0.]\n",
            " [0. 0. 0. 0. 0. 0. 0. 0. 0. 1.]\n",
            " [0. 0. 0. 1. 0. 0. 0. 0. 0. 0.]\n",
            " [0. 0. 0. 0. 0. 0. 0. 1. 0. 0.]\n",
            " [0. 0. 0. 0. 0. 1. 0. 0. 0. 0.]\n",
            " [0. 0. 0. 0. 0. 0. 1. 0. 0. 0.]\n",
            " [0. 1. 0. 0. 0. 0. 0. 0. 0. 0.]\n",
            " [0. 0. 1. 0. 0. 0. 0. 0. 0. 0.]\n",
            " [0. 0. 0. 0. 0. 0. 1. 0. 0. 0.]\n",
            " [0. 0. 0. 0. 0. 0. 0. 0. 1. 0.]\n",
            " [0. 1. 0. 0. 0. 0. 0. 0. 0. 0.]\n",
            " [0. 0. 1. 0. 0. 0. 0. 0. 0. 0.]\n",
            " [0. 0. 0. 1. 0. 0. 0. 0. 0. 0.]\n",
            " [0. 0. 0. 0. 0. 0. 1. 0. 0. 0.]\n",
            " [0. 0. 0. 0. 0. 0. 0. 0. 0. 1.]\n",
            " [0. 0. 1. 0. 0. 0. 0. 0. 0. 0.]\n",
            " [0. 0. 0. 0. 0. 0. 0. 0. 1. 0.]\n",
            " [0. 0. 0. 0. 0. 0. 0. 0. 1. 0.]\n",
            " [1. 0. 0. 0. 0. 0. 0. 0. 0. 0.]\n",
            " [0. 0. 0. 0. 1. 0. 0. 0. 0. 0.]], shape=(32, 10), dtype=float32)\n"
          ]
        }
      ]
    },
    {
      "cell_type": "markdown",
      "source": [
        ".take unravels the batch into images and labels"
      ],
      "metadata": {
        "id": "19Bgo0t7kcEP"
      }
    },
    {
      "cell_type": "code",
      "source": [],
      "metadata": {
        "id": "Xw6n_PAkkWax"
      },
      "execution_count": null,
      "outputs": []
    }
  ]
}
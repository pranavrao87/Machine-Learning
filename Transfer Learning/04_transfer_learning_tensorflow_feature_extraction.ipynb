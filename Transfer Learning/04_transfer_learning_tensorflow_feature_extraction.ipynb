{
  "nbformat": 4,
  "nbformat_minor": 0,
  "metadata": {
    "colab": {
      "provenance": [],
      "gpuType": "T4",
      "toc_visible": true,
      "authorship_tag": "ABX9TyNsZoK5iE7IszZHTC5iSlQv",
      "include_colab_link": true
    },
    "kernelspec": {
      "name": "python3",
      "display_name": "Python 3"
    },
    "language_info": {
      "name": "python"
    },
    "accelerator": "GPU"
  },
  "cells": [
    {
      "cell_type": "markdown",
      "metadata": {
        "id": "view-in-github",
        "colab_type": "text"
      },
      "source": [
        "<a href=\"https://colab.research.google.com/github/pranavrao87/Machine-Learning/blob/main/Transfer%20Learning/04_transfer_learning_tensorflow_feature_extraction.ipynb\" target=\"_parent\"><img src=\"https://colab.research.google.com/assets/colab-badge.svg\" alt=\"Open In Colab\"/></a>"
      ]
    },
    {
      "cell_type": "markdown",
      "source": [
        "# Transfer learning w/ TensorFlow Part 1: Feature Extraction\n",
        "\n",
        "Transfer learning is leveraging a working model's existing architecture and patterns for another specific problem\n",
        "\n",
        "Two main benefits:\n",
        "- Can leverage an exixsting neural network architecture proven to work on similar problems\n",
        "- Can leverage a working neural network architecture which has already learned patterns on similar data to our own, then can adapt those patterns to other data"
      ],
      "metadata": {
        "id": "fUk-chETyB6A"
      }
    },
    {
      "cell_type": "code",
      "source": [
        "# Check if using gpu\n",
        "!nvidia-smi"
      ],
      "metadata": {
        "colab": {
          "base_uri": "https://localhost:8080/"
        },
        "id": "Xh5WsriUyH8y",
        "outputId": "13764b0f-da5c-4ce5-dcb8-7a2f8f28aee8"
      },
      "execution_count": 1,
      "outputs": [
        {
          "output_type": "stream",
          "name": "stdout",
          "text": [
            "Sun Aug 20 02:02:25 2023       \n",
            "+-----------------------------------------------------------------------------+\n",
            "| NVIDIA-SMI 525.105.17   Driver Version: 525.105.17   CUDA Version: 12.0     |\n",
            "|-------------------------------+----------------------+----------------------+\n",
            "| GPU  Name        Persistence-M| Bus-Id        Disp.A | Volatile Uncorr. ECC |\n",
            "| Fan  Temp  Perf  Pwr:Usage/Cap|         Memory-Usage | GPU-Util  Compute M. |\n",
            "|                               |                      |               MIG M. |\n",
            "|===============================+======================+======================|\n",
            "|   0  Tesla T4            Off  | 00000000:00:04.0 Off |                    0 |\n",
            "| N/A   50C    P8     9W /  70W |      0MiB / 15360MiB |      0%      Default |\n",
            "|                               |                      |                  N/A |\n",
            "+-------------------------------+----------------------+----------------------+\n",
            "                                                                               \n",
            "+-----------------------------------------------------------------------------+\n",
            "| Processes:                                                                  |\n",
            "|  GPU   GI   CI        PID   Type   Process name                  GPU Memory |\n",
            "|        ID   ID                                                   Usage      |\n",
            "|=============================================================================|\n",
            "|  No running processes found                                                 |\n",
            "+-----------------------------------------------------------------------------+\n"
          ]
        }
      ]
    },
    {
      "cell_type": "markdown",
      "source": [
        "## Downloading data"
      ],
      "metadata": {
        "id": "SmYWMkd6yt3-"
      }
    },
    {
      "cell_type": "code",
      "source": [
        "# Get data (10% of 10 food classes from Food101)\n",
        "import zipfile\n",
        "\n",
        "# Download data\n",
        "!wget https://storage.googleapis.com/ztm_tf_course/food_vision/10_food_classes_10_percent.zip\n",
        "\n",
        "# Unzip downloaded file\n",
        "zip_ref = zipfile.ZipFile(\"10_food_classes_10_percent.zip\")\n",
        "zip_ref.extractall()\n",
        "zip_ref.close()"
      ],
      "metadata": {
        "colab": {
          "base_uri": "https://localhost:8080/"
        },
        "id": "NRf2J2DQy0RL",
        "outputId": "9e7e6fc9-d592-48a5-d098-1ffc84b46a80"
      },
      "execution_count": 2,
      "outputs": [
        {
          "output_type": "stream",
          "name": "stdout",
          "text": [
            "--2023-08-20 02:02:25--  https://storage.googleapis.com/ztm_tf_course/food_vision/10_food_classes_10_percent.zip\n",
            "Resolving storage.googleapis.com (storage.googleapis.com)... 142.251.175.128, 74.125.24.128, 142.251.10.128, ...\n",
            "Connecting to storage.googleapis.com (storage.googleapis.com)|142.251.175.128|:443... connected.\n",
            "HTTP request sent, awaiting response... 200 OK\n",
            "Length: 168546183 (161M) [application/zip]\n",
            "Saving to: ‘10_food_classes_10_percent.zip’\n",
            "\n",
            "10_food_classes_10_ 100%[===================>] 160.74M  22.4MB/s    in 8.7s    \n",
            "\n",
            "2023-08-20 02:02:35 (18.4 MB/s) - ‘10_food_classes_10_percent.zip’ saved [168546183/168546183]\n",
            "\n"
          ]
        }
      ]
    },
    {
      "cell_type": "code",
      "source": [
        "# Walk through the data\n",
        "import os\n",
        "\n",
        "for dirpath, dirnames, filenames, in os.walk(\"10_food_classes_10_percent\"):\n",
        "  print(f\"There are {len(dirnames)} directories and {len(filenames)} images in '{dirpath}'.\")"
      ],
      "metadata": {
        "colab": {
          "base_uri": "https://localhost:8080/"
        },
        "id": "RkNXfc1vzLPC",
        "outputId": "46deb2ef-19a5-472c-e8b3-d02d1aa2e1a3"
      },
      "execution_count": 3,
      "outputs": [
        {
          "output_type": "stream",
          "name": "stdout",
          "text": [
            "There are 2 directories and 0 images in '10_food_classes_10_percent'.\n",
            "There are 10 directories and 0 images in '10_food_classes_10_percent/train'.\n",
            "There are 0 directories and 75 images in '10_food_classes_10_percent/train/chicken_wings'.\n",
            "There are 0 directories and 75 images in '10_food_classes_10_percent/train/ice_cream'.\n",
            "There are 0 directories and 75 images in '10_food_classes_10_percent/train/sushi'.\n",
            "There are 0 directories and 75 images in '10_food_classes_10_percent/train/pizza'.\n",
            "There are 0 directories and 75 images in '10_food_classes_10_percent/train/steak'.\n",
            "There are 0 directories and 75 images in '10_food_classes_10_percent/train/fried_rice'.\n",
            "There are 0 directories and 75 images in '10_food_classes_10_percent/train/chicken_curry'.\n",
            "There are 0 directories and 75 images in '10_food_classes_10_percent/train/ramen'.\n",
            "There are 0 directories and 75 images in '10_food_classes_10_percent/train/grilled_salmon'.\n",
            "There are 0 directories and 75 images in '10_food_classes_10_percent/train/hamburger'.\n",
            "There are 10 directories and 0 images in '10_food_classes_10_percent/test'.\n",
            "There are 0 directories and 250 images in '10_food_classes_10_percent/test/chicken_wings'.\n",
            "There are 0 directories and 250 images in '10_food_classes_10_percent/test/ice_cream'.\n",
            "There are 0 directories and 250 images in '10_food_classes_10_percent/test/sushi'.\n",
            "There are 0 directories and 250 images in '10_food_classes_10_percent/test/pizza'.\n",
            "There are 0 directories and 250 images in '10_food_classes_10_percent/test/steak'.\n",
            "There are 0 directories and 250 images in '10_food_classes_10_percent/test/fried_rice'.\n",
            "There are 0 directories and 250 images in '10_food_classes_10_percent/test/chicken_curry'.\n",
            "There are 0 directories and 250 images in '10_food_classes_10_percent/test/ramen'.\n",
            "There are 0 directories and 250 images in '10_food_classes_10_percent/test/grilled_salmon'.\n",
            "There are 0 directories and 250 images in '10_food_classes_10_percent/test/hamburger'.\n"
          ]
        }
      ]
    },
    {
      "cell_type": "markdown",
      "source": [
        "Instead of 750 images for each class, there are only 75 training images (compared to previous datasets in Convolutional Neural Network)"
      ],
      "metadata": {
        "id": "xmCJ35Nuzlfw"
      }
    },
    {
      "cell_type": "markdown",
      "source": [
        "## Creating data loaders (Data Preprocessing)\n",
        "\n",
        "Using the 'ImageDataGenerator' class to load in images in batches"
      ],
      "metadata": {
        "id": "OIYJ51lxzzPc"
      }
    },
    {
      "cell_type": "code",
      "source": [
        "# Setup data inputs\n",
        "from tensorflow.keras.preprocessing.image import ImageDataGenerator\n",
        "\n",
        "IMAGE_SHAPE = (224, 224)\n",
        "BATCH_SIZE = 32\n",
        "\n",
        "train_dir = \"10_food_classes_10_percent/train/\"\n",
        "test_dir = \"10_food_classes_10_percent/test/\"\n",
        "\n",
        "train_datagen = ImageDataGenerator(rescale=1/255.)\n",
        "test_datagen = ImageDataGenerator(rescale=1/255.)\n",
        "\n",
        "print(\"Training images: \")\n",
        "train_data_10_percent = train_datagen.flow_from_directory(train_dir,\n",
        "                                                          target_size=IMAGE_SHAPE,\n",
        "                                                          batch_size=BATCH_SIZE,\n",
        "                                                          class_mode=\"categorical\")\n",
        "\n",
        "print(\"Testing images: \")\n",
        "test_data = test_datagen.flow_from_directory(test_dir,\n",
        "                                             target_size=IMAGE_SHAPE,\n",
        "                                             batch_size=BATCH_SIZE,\n",
        "                                             class_mode=\"categorical\")"
      ],
      "metadata": {
        "colab": {
          "base_uri": "https://localhost:8080/"
        },
        "id": "rk9l740O0B0l",
        "outputId": "299c4594-ec7b-4ac4-82f9-8aea69d38ca7"
      },
      "execution_count": 4,
      "outputs": [
        {
          "output_type": "stream",
          "name": "stdout",
          "text": [
            "Training images: \n",
            "Found 750 images belonging to 10 classes.\n",
            "Testing images: \n",
            "Found 2500 images belonging to 10 classes.\n"
          ]
        }
      ]
    },
    {
      "cell_type": "markdown",
      "source": [
        "## Setting up callbacks (things to run while model is training)\n",
        "\n",
        "Callbacks are extra functionality that can be added to models to be performed during or after training. Some common ones:\n",
        "- Tracking experiments w/ TensorBoard callback\n",
        "- Model checkpoint w/ ModelCheckpoint callback\n",
        "- Stopping a model from training (before it trains too long and overfits) w/ EarlyStopping callback"
      ],
      "metadata": {
        "id": "pNqr5-zl01Ry"
      }
    },
    {
      "cell_type": "code",
      "source": [
        "# Create TensorBoard callback (functionized b/c we need to create a new one for each model)\n",
        "import datetime\n",
        "\n",
        "def create_tensorboard_callback(dir_name, experiment_name):\n",
        "  log_dir = dir_name + \"/\" + experiment_name + \"/\" + datetime.datetime.now().strftime(\"%Y%m%d-%H%M%S\")\n",
        "  tensorboard_callback = tf.keras.callbacks.TensorBoard(log_dir=log_dir)\n",
        "  print(f\"Saving TensorBoard log files to: {log_dir}\")\n",
        "  return tensorboard_callback"
      ],
      "metadata": {
        "id": "b0EQVTgYsdLy"
      },
      "execution_count": 6,
      "outputs": []
    },
    {
      "cell_type": "markdown",
      "source": [
        "## Creating models using TensorFlow Hub\n",
        "\n",
        "Previously: Used tensorflow to create own models layer by layer from scratch.\n",
        "\n",
        "Now: Similar process, but majority of the model's layers are coming from TensorFlow Hub.\n",
        "\n",
        "Can access pretrained models on: https://tfhub.dev/\n",
        "\n",
        "Specifically for classification models:\n",
        "  - resnet\n",
        "  - effecientnet\n",
        "\n",
        "Additional Resources:\n",
        "(paperswithcode.com)\n",
        "\n",
        "Browsed the TensorFlowHub and found following feature vector mdodel link: https://tfhub.dev/tensorflow/efficientnet/b0/feature-vector/1"
      ],
      "metadata": {
        "id": "ilvjSa-Ptt7g"
      }
    },
    {
      "cell_type": "code",
      "source": [
        "# Comparing two models\n",
        "resnet_url = \"https://tfhub.dev/google/imagenet/resnet_v2_50/feature_vector/5\"\n",
        "\n",
        "efficientnet_url = \"https://tfhub.dev/tensorflow/efficientnet/b0/feature-vector/1\"\n"
      ],
      "metadata": {
        "id": "X4TN9jD_vIx5"
      },
      "execution_count": 9,
      "outputs": []
    },
    {
      "cell_type": "code",
      "source": [
        "# Import dependencies\n",
        "\n",
        "import tensorflow as tf\n",
        "import tensorflow_hub as hub\n",
        "from tensorflow.keras import layers\n"
      ],
      "metadata": {
        "id": "CkL_Vm_Qy1MI"
      },
      "execution_count": 10,
      "outputs": []
    },
    {
      "cell_type": "code",
      "source": [
        "# create_mode() to create a model from a URL\n",
        "def create_model(model_url, num_classes=10):\n",
        "  \"\"\"\n",
        "  Takes a TensorFlow Hub URL and creates a Keras Sequential model w/ it.\n",
        "\n",
        "  Args:\n",
        "    model_url (str): A TensorFlow Hub feature extraction URL.\n",
        "    num_classes (int): Number of output neurons in output layer,\n",
        "      should be equal to number of target classes, default 10\n",
        "\n",
        "  Returns:\n",
        "    An uncompiled Keras Sequential model w/ model_url as feature extractor\n",
        "    layer and Dense output layer w/ num_classes output neurons.\n",
        "  \"\"\"\n",
        "\n",
        "  # Download pretrained model and save it as a Keras layer\n",
        "  feature_extractor_layer = hub.KerasLayer(model_url,\n",
        "                                            trainable=False,\n",
        "                                            name=\"feature_extraction_layer\",\n",
        "                                            input_shape=IMAGE_SHAPE+(3,)) # freeeze already learned patterns\n",
        "  # Creating own model\n",
        "  model = tf.keras.Sequential([\n",
        "      feature_extractor_layer,\n",
        "      layers.Dense(num_classes, activation=\"softmax\", name=\"output_layet\")\n",
        "  ])\n",
        "\n",
        "  return model"
      ],
      "metadata": {
        "id": "oY6zkXg9zQ9j"
      },
      "execution_count": 14,
      "outputs": []
    },
    {
      "cell_type": "markdown",
      "source": [
        "### Creating + testing ResNet TensorFlow Hub Feature Extraction Model"
      ],
      "metadata": {
        "id": "0z_t92ld0weY"
      }
    },
    {
      "cell_type": "code",
      "source": [
        "# Create Resnet model\n",
        "resnet_model = create_model(resnet_url,\n",
        "                            num_classes=train_data_10_percent.num_classes)\n"
      ],
      "metadata": {
        "id": "ZXTCQtSj0uPe"
      },
      "execution_count": 15,
      "outputs": []
    },
    {
      "cell_type": "code",
      "source": [
        "# Compile model\n",
        "resnet_model.compile(loss=\"categorical_crossentropy\",\n",
        "                     optimizer=tf.keras.optimizers.Adam(),\n",
        "                     metrics=[\"accuracy\"])"
      ],
      "metadata": {
        "id": "cK4c2kFz1lF8"
      },
      "execution_count": 17,
      "outputs": []
    },
    {
      "cell_type": "code",
      "source": [
        "# Fitting model (10 percent of the og data)\n",
        "\n",
        "resnet_history = resnet_model.fit(train_data_10_percent,\n",
        "                                  epochs=5,\n",
        "                                  steps_per_epoch=len(train_data_10_percent),\n",
        "                                  validation_data=test_data,\n",
        "                                  validation_steps=len(test_data),\n",
        "                                  callbacks=[create_tensorboard_callback(dir_name=\"tensorflow_hub\",\n",
        "                                                                         experiment_name=\"resnet50V2\")])\n"
      ],
      "metadata": {
        "colab": {
          "base_uri": "https://localhost:8080/"
        },
        "id": "STQqwZhL1bEN",
        "outputId": "9e1aceab-6406-4364-ddcc-6c7a05c860ec"
      },
      "execution_count": 20,
      "outputs": [
        {
          "output_type": "stream",
          "name": "stdout",
          "text": [
            "Saving TensorBoard log files to: tensorflow_hub/resnet50V2/20230820-025058\n",
            "Epoch 1/5\n",
            "24/24 [==============================] - 27s 551ms/step - loss: 1.9314 - accuracy: 0.3573 - val_loss: 1.2120 - val_accuracy: 0.6184\n",
            "Epoch 2/5\n",
            "24/24 [==============================] - 11s 492ms/step - loss: 0.8920 - accuracy: 0.7440 - val_loss: 0.8404 - val_accuracy: 0.7372\n",
            "Epoch 3/5\n",
            "24/24 [==============================] - 10s 447ms/step - loss: 0.6017 - accuracy: 0.8347 - val_loss: 0.7656 - val_accuracy: 0.7448\n",
            "Epoch 4/5\n",
            "24/24 [==============================] - 11s 450ms/step - loss: 0.4664 - accuracy: 0.8813 - val_loss: 0.7002 - val_accuracy: 0.7708\n",
            "Epoch 5/5\n",
            "24/24 [==============================] - 10s 441ms/step - loss: 0.3713 - accuracy: 0.9213 - val_loss: 0.6737 - val_accuracy: 0.7680\n"
          ]
        }
      ]
    },
    {
      "cell_type": "markdown",
      "source": [
        "Transfer learning feature extractor outperformed all previous models built by \"hand\" in less training time AND w/ 10% of the training examples. ~"
      ],
      "metadata": {
        "id": "A-QJ8_7T2fZq"
      }
    },
    {
      "cell_type": "code",
      "source": [
        "# Creating function to plot loss curves\n",
        "import matplotlib.pyplot as plt\n",
        "\n",
        "def plot_loss_curves(history):\n",
        "  \"\"\"\n",
        "  Returns seperate loss curve for training and validation metrics.\n",
        "\n",
        "  Args:\n",
        "    history: TensorFlow History object.\n",
        "\n",
        "  Returns:\n",
        "    Plots of training/validation loss and accuracy metrics.\n",
        "  \"\"\"\n",
        "  loss = history.history[\"loss\"]\n",
        "  val_loss = history.history[\"val_loss\"]\n",
        "\n",
        "  accuracy = history.history[\"accuracy\"]\n",
        "  val_accuracy=history.history[\"val_accuracy\"]\n",
        "\n",
        "  epochs = range(len(history.history[\"loss\"]))\n",
        "\n",
        "  # Plot loss\n",
        "  plt.plot(epochs, loss, label=\"training_loss\")\n",
        "  plt.plot(epochs, val_loss, label=\"val_loss\")\n",
        "  plt.title(\"loss\")\n",
        "  plt.xlabel(\"Epochs\")\n",
        "  plt.legend()\n",
        "\n",
        "  # Plot accuracy\n",
        "  plt.figure()\n",
        "  plt.plot(epochs, accuracy, label=\"training_accuracy\")\n",
        "  plt.plot(epochs, val_accuracy, label=\"val_accuracy\")\n",
        "  plt.title(\"Accuracy\")\n",
        "  plt.xlabel(\"Epochs\")\n",
        "  plt.legend()"
      ],
      "metadata": {
        "id": "GhF_zj0H34F-"
      },
      "execution_count": 22,
      "outputs": []
    },
    {
      "cell_type": "code",
      "source": [
        "plot_loss_curves(resnet_history)"
      ],
      "metadata": {
        "colab": {
          "base_uri": "https://localhost:8080/",
          "height": 927
        },
        "id": "j9bUzLDA5Shi",
        "outputId": "cb3119fd-3f7b-4495-d136-091ac57ff44b"
      },
      "execution_count": 23,
      "outputs": [
        {
          "output_type": "display_data",
          "data": {
            "text/plain": [
              "<Figure size 640x480 with 1 Axes>"
            ],
            "image/png": "[encoded data removed]"
          },
          "metadata": {}
        },
        {
          "output_type": "display_data",
          "data": {
            "text/plain": [
              "<Figure size 640x480 with 1 Axes>"
            ],
            "image/png": "[encoded data removed]"
          },
          "metadata": {}
        }
      ]
    },
    {
      "cell_type": "markdown",
      "source": [
        "### Creating + testing EffecientNetB0 TensorFlow Hub Feature Extraction Model"
      ],
      "metadata": {
        "id": "iHK3k0805nHk"
      }
    },
    {
      "cell_type": "code",
      "source": [
        "# Create EfficientNetB0 Feature Extractor Model\n",
        "efficientnet_model = create_model(model_url=efficientnet_url,\n",
        "                                  num_classes=train_data_10_percent.num_classes)\n",
        "\n",
        "# Compile EfficientNet model\n",
        "efficientnet_model.compile(loss=\"categorical_crossentropy\",\n",
        "                          optimizer=tf.keras.optimizers.Adam(),\n",
        "                          metrics=[\"accuracy\"])\n",
        "\n",
        "# Fit EfficientNet model to 10% of training data\n",
        "efficientnet_history = efficientnet_model.fit(train_data_10_percent,\n",
        "                                              epochs=5,\n",
        "                                              steps_per_epoch=len(train_data_10_percent),\n",
        "                                              validation_data=test_data,\n",
        "                                              validation_steps=len(test_data),\n",
        "                                              callbacks=[create_tensorboard_callback(dir_name=\"tensorflow_hub\",\n",
        "                                                                                     experiment_name=\"efficientnetb0\")])\n"
      ],
      "metadata": {
        "colab": {
          "base_uri": "https://localhost:8080/"
        },
        "id": "99f3NUmW5Xzg",
        "outputId": "85c1d971-2bd7-4b83-e075-21e50e39d8f7"
      },
      "execution_count": 26,
      "outputs": [
        {
          "output_type": "stream",
          "name": "stdout",
          "text": [
            "Saving TensorBoard log files to: tensorflow_hub/efficientnetb0/20230820-032115\n",
            "Epoch 1/5\n",
            "24/24 [==============================] - 22s 514ms/step - loss: 1.8204 - accuracy: 0.4520 - val_loss: 1.2844 - val_accuracy: 0.7316\n",
            "Epoch 2/5\n",
            "24/24 [==============================] - 12s 534ms/step - loss: 1.0383 - accuracy: 0.7747 - val_loss: 0.8562 - val_accuracy: 0.8296\n",
            "Epoch 3/5\n",
            "24/24 [==============================] - 12s 535ms/step - loss: 0.7416 - accuracy: 0.8533 - val_loss: 0.6894 - val_accuracy: 0.8460\n",
            "Epoch 4/5\n",
            "24/24 [==============================] - 9s 395ms/step - loss: 0.5931 - accuracy: 0.8680 - val_loss: 0.6046 - val_accuracy: 0.8500\n",
            "Epoch 5/5\n",
            "24/24 [==============================] - 10s 427ms/step - loss: 0.5015 - accuracy: 0.8813 - val_loss: 0.5544 - val_accuracy: 0.8588\n"
          ]
        }
      ]
    },
    {
      "cell_type": "code",
      "source": [
        "plot_loss_curves(efficientnet_history)"
      ],
      "metadata": {
        "colab": {
          "base_uri": "https://localhost:8080/",
          "height": 927
        },
        "id": "U10qURKB9X1T",
        "outputId": "3ab99086-6141-4f52-9eb1-b42927440c44"
      },
      "execution_count": 27,
      "outputs": [
        {
          "output_type": "display_data",
          "data": {
            "text/plain": [
              "<Figure size 640x480 with 1 Axes>"
            ],
            "image/png": "[encoded data removed]"
          },
          "metadata": {}
        },
        {
          "output_type": "display_data",
          "data": {
            "text/plain": [
              "<Figure size 640x480 with 1 Axes>"
            ],
            "image/png": "[encoded data removed]"
          },
          "metadata": {}
        }
      ]
    },
    {
      "cell_type": "code",
      "source": [
        "efficientnet_model.summary()"
      ],
      "metadata": {
        "colab": {
          "base_uri": "https://localhost:8080/"
        },
        "id": "A2tdwpFY-M_5",
        "outputId": "fdf2fdf7-ace3-4262-a97c-51af57ce22eb"
      },
      "execution_count": 28,
      "outputs": [
        {
          "output_type": "stream",
          "name": "stdout",
          "text": [
            "Model: \"sequential_4\"\n",
            "_________________________________________________________________\n",
            " Layer (type)                Output Shape              Param #   \n",
            "=================================================================\n",
            " feature_extraction_layer (K  (None, 1280)             4049564   \n",
            " erasLayer)                                                      \n",
            "                                                                 \n",
            " output_layet (Dense)        (None, 10)                12810     \n",
            "                                                                 \n",
            "=================================================================\n",
            "Total params: 4,062,374\n",
            "Trainable params: 12,810\n",
            "Non-trainable params: 4,049,564\n",
            "_________________________________________________________________\n"
          ]
        }
      ]
    },
    {
      "cell_type": "code",
      "source": [
        "resnet_model.summary()"
      ],
      "metadata": {
        "colab": {
          "base_uri": "https://localhost:8080/"
        },
        "id": "H98wJ3tZ-yqr",
        "outputId": "62fa3fce-c84b-4ae8-c9fc-4db52417aad9"
      },
      "execution_count": 29,
      "outputs": [
        {
          "output_type": "stream",
          "name": "stdout",
          "text": [
            "Model: \"sequential_2\"\n",
            "_________________________________________________________________\n",
            " Layer (type)                Output Shape              Param #   \n",
            "=================================================================\n",
            " feature_extraction_layer (K  (None, 2048)             23564800  \n",
            " erasLayer)                                                      \n",
            "                                                                 \n",
            " output_layet (Dense)        (None, 10)                20490     \n",
            "                                                                 \n",
            "=================================================================\n",
            "Total params: 23,585,290\n",
            "Trainable params: 20,490\n",
            "Non-trainable params: 23,564,800\n",
            "_________________________________________________________________\n"
          ]
        }
      ]
    },
    {
      "cell_type": "markdown",
      "source": [
        "Only the features in the output layer are trainable as everything else is non-trainable and already \"frozen\""
      ],
      "metadata": {
        "id": "Kkg7mSZb-sU0"
      }
    },
    {
      "cell_type": "markdown",
      "source": [
        "## Different types of transfer learning\n",
        "\n",
        "- **\"As is\"** transfer learning - using an existing model w/ no changes what so ever (ex. using ImageNet model on a 1000 ImageNet classes, none of your own)\n",
        "- **\"Feature extraction\"** transfer learning - using the prelearned patterns of an existing model (e.g. EfficientNetB0 trained on ImageNet) and adjust the output layer for your own problem (ex, 1000 classes --> 10 classes of food)\n",
        "- **\"Fine-tuning\"** transfer learning - use prelearned patterns of an existing model and fine tune many or all of the underlying layers (including new output layers)"
      ],
      "metadata": {
        "id": "ZMLdE6Sh_Ech"
      }
    },
    {
      "cell_type": "code",
      "source": [
        "# How many layers does efficientnetb0 feature extractor have?\n",
        "len(efficientnet_model.layers[0].weights)"
      ],
      "metadata": {
        "colab": {
          "base_uri": "https://localhost:8080/"
        },
        "id": "DcT-tmtL_v2W",
        "outputId": "a1a53fbd-3286-4854-9fdf-12a7c3c7ef0e"
      },
      "execution_count": 33,
      "outputs": [
        {
          "output_type": "execute_result",
          "data": {
            "text/plain": [
              "309"
            ]
          },
          "metadata": {},
          "execution_count": 33
        }
      ]
    },
    {
      "cell_type": "markdown",
      "source": [
        "## Comparing models results w/ TensorBoard"
      ],
      "metadata": {
        "id": "yTaj3IedAdII"
      }
    },
    {
      "cell_type": "code",
      "source": [
        "# Upload TensorBoard dev records (coming from the tensorflow_hub directory)\n",
        "!tensorboard dev upload --logdir ./tensorflow_hub/ \\\n",
        "  --name \"EfficientNetB0 vs. ResNet50V2\" \\\n",
        "  --description \"Comparing two diff TF Hub feature extraction model architectures using 10% of total training data\" \\\n",
        "  --one_shot"
      ],
      "metadata": {
        "id": "1W4RJmLnBh_H"
      },
      "execution_count": null,
      "outputs": []
    },
    {
      "cell_type": "markdown",
      "source": [
        "TensorBoard experiments uploaded publicly: https://tensorboard.dev/experiment/pmh3XOosRGe6o9gwB8k7iw/"
      ],
      "metadata": {
        "id": "mPT7pZ9qC0KI"
      }
    },
    {
      "cell_type": "code",
      "source": [
        "# Check what TensorBoard experiments are uploaded\n",
        "!tensorboard dev list"
      ],
      "metadata": {
        "colab": {
          "base_uri": "https://localhost:8080/"
        },
        "id": "h0LkTvzaDTsj",
        "outputId": "6ef30514-05e3-431b-d720-cc87e6f00fe3"
      },
      "execution_count": 37,
      "outputs": [
        {
          "output_type": "stream",
          "name": "stdout",
          "text": [
            "2023-08-20 03:49:28.821552: W tensorflow/compiler/tf2tensorrt/utils/py_utils.cc:38] TF-TRT Warning: Could not find TensorRT\n",
            "https://tensorboard.dev/experiment/pmh3XOosRGe6o9gwB8k7iw/\n",
            "\tName                 EfficientNetB0 vs. ResNet50V2\n",
            "\tDescription          Comparing two diff TF Hub feature extraction model architectures using 10% of total training data\n",
            "\tId                   pmh3XOosRGe6o9gwB8k7iw\n",
            "\tCreated              2023-08-20 03:45:28 (4 minutes ago)\n",
            "\tUpdated              2023-08-20 03:45:33 (3 minutes ago)\n",
            "\tRuns                 4\n",
            "\tTags                 5\n",
            "\tScalars              60\n",
            "\tTensor bytes         0\n",
            "\tBinary object bytes  5816723\n",
            "Total: 1 experiment(s)\n"
          ]
        }
      ]
    },
    {
      "cell_type": "code",
      "source": [
        "# Deleting an experiment\n",
        "# !tensorboard dev delete --experiment_id (copy and paste the ID)\n",
        "# Confirm deletion by re-checking what experiments are left"
      ],
      "metadata": {
        "id": "5-NQ2HEOD9II"
      },
      "execution_count": 38,
      "outputs": []
    }
  ]
}
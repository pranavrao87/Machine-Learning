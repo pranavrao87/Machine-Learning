{
  "nbformat": 4,
  "nbformat_minor": 0,
  "metadata": {
    "colab": {
      "provenance": [],
      "authorship_tag": "ABX9TyNdW6mb2KA/52Zp5k75GEBM",
      "include_colab_link": true
    },
    "kernelspec": {
      "name": "python3",
      "display_name": "Python 3"
    },
    "language_info": {
      "name": "python"
    }
  },
  "cells": [
    {
      "cell_type": "markdown",
      "metadata": {
        "id": "view-in-github",
        "colab_type": "text"
      },
      "source": [
        "<a href=\"https://colab.research.google.com/github/pranavrao87/Machine-Learning/blob/main/Tensors/tensor_practice.ipynb\" target=\"_parent\"><img src=\"https://colab.research.google.com/assets/colab-badge.svg\" alt=\"Open In Colab\"/></a>"
      ]
    },
    {
      "cell_type": "code",
      "source": [
        "import tensorflow as tf"
      ],
      "metadata": {
        "id": "r1ss0t8xT4O4"
      },
      "execution_count": 6,
      "outputs": []
    },
    {
      "cell_type": "code",
      "execution_count": 12,
      "metadata": {
        "colab": {
          "base_uri": "https://localhost:8080/"
        },
        "id": "jru-p7DpR9d2",
        "outputId": "06b476d6-c02c-44d6-a957-ca465e1530d6"
      },
      "outputs": [
        {
          "output_type": "execute_result",
          "data": {
            "text/plain": [
              "<tf.Tensor: shape=(), dtype=int32, numpy=1>"
            ]
          },
          "metadata": {},
          "execution_count": 12
        }
      ],
      "source": [
        "# Creating a scalar\n",
        "A = tf.constant(1)\n",
        "A"
      ]
    },
    {
      "cell_type": "code",
      "source": [
        "# Check properties of scalar\n",
        "A.shape, tf.rank(A), tf.size(A)"
      ],
      "metadata": {
        "colab": {
          "base_uri": "https://localhost:8080/"
        },
        "id": "XBgfESQ7U2eW",
        "outputId": "29cf68fd-50ba-4fba-dea4-4f8c203bb171"
      },
      "execution_count": 15,
      "outputs": [
        {
          "output_type": "execute_result",
          "data": {
            "text/plain": [
              "(TensorShape([]),\n",
              " <tf.Tensor: shape=(), dtype=int32, numpy=0>,\n",
              " <tf.Tensor: shape=(), dtype=int32, numpy=1>)"
            ]
          },
          "metadata": {},
          "execution_count": 15
        }
      ]
    },
    {
      "cell_type": "code",
      "source": [
        "# Creating a vector\n",
        "B = tf.constant([1, 2, 3, 4, 5, 6, 7, 8], dtype=tf.float32)\n",
        "B"
      ],
      "metadata": {
        "colab": {
          "base_uri": "https://localhost:8080/"
        },
        "id": "foU9GQv8Tg45",
        "outputId": "dedf9ec3-a64f-46ea-88ed-988ec62e1404"
      },
      "execution_count": 10,
      "outputs": [
        {
          "output_type": "execute_result",
          "data": {
            "text/plain": [
              "<tf.Tensor: shape=(8,), dtype=float32, numpy=array([1., 2., 3., 4., 5., 6., 7., 8.], dtype=float32)>"
            ]
          },
          "metadata": {},
          "execution_count": 10
        }
      ]
    },
    {
      "cell_type": "code",
      "source": [
        "# Check properties of vector\n",
        "B.shape, tf.rank(B), tf.size(B)"
      ],
      "metadata": {
        "colab": {
          "base_uri": "https://localhost:8080/"
        },
        "id": "VcPrU8eQVBVC",
        "outputId": "cfc98af0-e857-4aa1-e904-e1d345ca67e6"
      },
      "execution_count": 16,
      "outputs": [
        {
          "output_type": "execute_result",
          "data": {
            "text/plain": [
              "(TensorShape([8]),\n",
              " <tf.Tensor: shape=(), dtype=int32, numpy=1>,\n",
              " <tf.Tensor: shape=(), dtype=int32, numpy=8>)"
            ]
          },
          "metadata": {},
          "execution_count": 16
        }
      ]
    },
    {
      "cell_type": "code",
      "source": [
        "# Creating a matrix\n",
        "C = tf.constant([1, 2, 3, 4, 5, 6, 7, 8], dtype=tf.float32, shape=[2, 4])\n",
        "C"
      ],
      "metadata": {
        "colab": {
          "base_uri": "https://localhost:8080/"
        },
        "id": "jMveZeqATiSM",
        "outputId": "dc4d22e5-0142-4372-e274-4b3973acdaef"
      },
      "execution_count": 9,
      "outputs": [
        {
          "output_type": "execute_result",
          "data": {
            "text/plain": [
              "<tf.Tensor: shape=(2, 4), dtype=float32, numpy=\n",
              "array([[1., 2., 3., 4.],\n",
              "       [5., 6., 7., 8.]], dtype=float32)>"
            ]
          },
          "metadata": {},
          "execution_count": 9
        }
      ]
    },
    {
      "cell_type": "code",
      "source": [
        "# Check properties of matrix\n",
        "C.shape, tf.rank(C), tf.size(C)"
      ],
      "metadata": {
        "colab": {
          "base_uri": "https://localhost:8080/"
        },
        "id": "r9lIaVVeVEav",
        "outputId": "1c79a361-c934-4a3b-f56b-dd774eb4ca48"
      },
      "execution_count": 17,
      "outputs": [
        {
          "output_type": "execute_result",
          "data": {
            "text/plain": [
              "(TensorShape([2, 4]),\n",
              " <tf.Tensor: shape=(), dtype=int32, numpy=2>,\n",
              " <tf.Tensor: shape=(), dtype=int32, numpy=8>)"
            ]
          },
          "metadata": {},
          "execution_count": 17
        }
      ]
    },
    {
      "cell_type": "code",
      "source": [
        "# Creating a tensor\n",
        "D = tf.constant([1, 2, 3, 4, 5, 6, 7, 8], dtype=tf.float32, shape=[2, 2, 2])\n",
        "D"
      ],
      "metadata": {
        "colab": {
          "base_uri": "https://localhost:8080/"
        },
        "id": "LL9D3NqeTjnl",
        "outputId": "4a377be7-7498-4756-92fc-b8e3ec673cb5"
      },
      "execution_count": 8,
      "outputs": [
        {
          "output_type": "execute_result",
          "data": {
            "text/plain": [
              "<tf.Tensor: shape=(2, 2, 2), dtype=float32, numpy=\n",
              "array([[[1., 2.],\n",
              "        [3., 4.]],\n",
              "\n",
              "       [[5., 6.],\n",
              "        [7., 8.]]], dtype=float32)>"
            ]
          },
          "metadata": {},
          "execution_count": 8
        }
      ]
    },
    {
      "cell_type": "code",
      "source": [
        "# Check properties of tensor\n",
        "D.shape, tf.rank(D), tf.size(D)"
      ],
      "metadata": {
        "colab": {
          "base_uri": "https://localhost:8080/"
        },
        "id": "Ho7u31zAVHXm",
        "outputId": "9cc44b86-3865-46d4-939a-622518fec94e"
      },
      "execution_count": 18,
      "outputs": [
        {
          "output_type": "execute_result",
          "data": {
            "text/plain": [
              "(TensorShape([2, 2, 2]),\n",
              " <tf.Tensor: shape=(), dtype=int32, numpy=3>,\n",
              " <tf.Tensor: shape=(), dtype=int32, numpy=8>)"
            ]
          },
          "metadata": {},
          "execution_count": 18
        }
      ]
    },
    {
      "cell_type": "code",
      "source": [
        "# Create two random tensors w/ values b/w [0,1] and w/ size [5, 300]\n",
        "E = tf.random.uniform(minval=0, maxval=1, dtype=tf.float32, shape=[5,300])\n",
        "D = tf.random.uniform(minval=0, maxval=1, dtype=tf.float32, shape=[5,300])\n",
        "E, D"
      ],
      "metadata": {
        "colab": {
          "base_uri": "https://localhost:8080/"
        },
        "id": "REfJ2FwGTmaB",
        "outputId": "e3a3ef89-05bc-4921-ae1b-ac0bea2ab18a"
      },
      "execution_count": 20,
      "outputs": [
        {
          "output_type": "execute_result",
          "data": {
            "text/plain": [
              "(<tf.Tensor: shape=(5, 300), dtype=float32, numpy=\n",
              " array([[0.68568957, 0.2664894 , 0.51911354, ..., 0.5326425 , 0.51320124,\n",
              "         0.66698444],\n",
              "        [0.4041443 , 0.09420657, 0.844471  , ..., 0.63790226, 0.1628921 ,\n",
              "         0.5862659 ],\n",
              "        [0.91919637, 0.8834492 , 0.7939255 , ..., 0.1611917 , 0.6044657 ,\n",
              "         0.6462759 ],\n",
              "        [0.35312784, 0.8410202 , 0.37143242, ..., 0.01890993, 0.81857324,\n",
              "         0.22181976],\n",
              "        [0.0356549 , 0.68998885, 0.4289987 , ..., 0.21584237, 0.97913945,\n",
              "         0.05594397]], dtype=float32)>,\n",
              " <tf.Tensor: shape=(5, 300), dtype=float32, numpy=\n",
              " array([[0.5772563 , 0.829689  , 0.2680533 , ..., 0.15931082, 0.6277517 ,\n",
              "         0.6267731 ],\n",
              "        [0.318228  , 0.92214906, 0.21026611, ..., 0.8895674 , 0.10025179,\n",
              "         0.27956533],\n",
              "        [0.61641896, 0.43719792, 0.03646648, ..., 0.9929749 , 0.19485533,\n",
              "         0.33670962],\n",
              "        [0.54557323, 0.7735615 , 0.15404654, ..., 0.6987845 , 0.14473963,\n",
              "         0.8359544 ],\n",
              "        [0.60699093, 0.4441495 , 0.6639744 , ..., 0.98147583, 0.22408104,\n",
              "         0.25507128]], dtype=float32)>)"
            ]
          },
          "metadata": {},
          "execution_count": 20
        }
      ]
    },
    {
      "cell_type": "code",
      "source": [
        "# Multiply both matrices using matrix multiplication\n",
        "print(tf.matmul(E, tf.transpose(D)))\n",
        "# OR\n",
        "print(tf.matmul(D, tf.transpose(E)))"
      ],
      "metadata": {
        "colab": {
          "base_uri": "https://localhost:8080/"
        },
        "id": "C1j5yVK_V6wJ",
        "outputId": "c04cc25f-49bc-42e1-be0f-1283dd2eaebd"
      },
      "execution_count": 24,
      "outputs": [
        {
          "output_type": "stream",
          "name": "stdout",
          "text": [
            "tf.Tensor(\n",
            "[[77.69507  84.19354  80.42373  77.72168  80.788376]\n",
            " [75.31914  80.45297  78.464294 77.42594  79.22336 ]\n",
            " [72.178345 75.20564  73.39848  68.342026 73.164276]\n",
            " [76.22011  79.51027  74.01793  75.13998  75.31381 ]\n",
            " [70.69284  76.02426  73.22025  71.070724 68.53309 ]], shape=(5, 5), dtype=float32)\n",
            "tf.Tensor(\n",
            "[[77.69507  75.31914  72.178345 76.22011  70.69284 ]\n",
            " [84.19354  80.45297  75.20564  79.51027  76.02426 ]\n",
            " [80.42373  78.464294 73.39848  74.01793  73.22025 ]\n",
            " [77.72168  77.42594  68.342026 75.13998  71.070724]\n",
            " [80.788376 79.22336  73.164276 75.31381  68.53309 ]], shape=(5, 5), dtype=float32)\n"
          ]
        }
      ]
    },
    {
      "cell_type": "code",
      "source": [
        "# Multiply both matrices using dot product\n",
        "print(tf.tensordot(E, tf.transpose(D), axes=1))\n",
        "# OR \n",
        "print(tf.tensordot(D, tf.transpose(E), axes=1))"
      ],
      "metadata": {
        "colab": {
          "base_uri": "https://localhost:8080/"
        },
        "id": "mth_hepUWHQU",
        "outputId": "3f27ab4b-ec03-4806-9abf-7538651f3d3d"
      },
      "execution_count": 36,
      "outputs": [
        {
          "output_type": "stream",
          "name": "stdout",
          "text": [
            "tf.Tensor(\n",
            "[[77.69507  84.19354  80.42373  77.72168  80.788376]\n",
            " [75.31914  80.45297  78.464294 77.42594  79.22336 ]\n",
            " [72.178345 75.20564  73.39848  68.342026 73.164276]\n",
            " [76.22011  79.51027  74.01793  75.13998  75.31381 ]\n",
            " [70.69284  76.02426  73.22025  71.070724 68.53309 ]], shape=(5, 5), dtype=float32)\n",
            "tf.Tensor(\n",
            "[[77.69507  75.31914  72.178345 76.22011  70.69284 ]\n",
            " [84.19354  80.45297  75.20564  79.51027  76.02426 ]\n",
            " [80.42373  78.464294 73.39848  74.01793  73.22025 ]\n",
            " [77.72168  77.42594  68.342026 75.13998  71.070724]\n",
            " [80.788376 79.22336  73.164276 75.31381  68.53309 ]], shape=(5, 5), dtype=float32)\n"
          ]
        }
      ]
    },
    {
      "cell_type": "code",
      "source": [
        "# Create rand tensor w/ values b/w [0, 1] and shape [224, 224, 3]\n",
        "F = tf.random.uniform(minval=0, maxval=1, dtype=tf.float32, shape=[224, 224, 3])\n",
        "F"
      ],
      "metadata": {
        "colab": {
          "base_uri": "https://localhost:8080/"
        },
        "id": "dAVDDtukW7nr",
        "outputId": "eb1b7713-6185-4567-872c-76f490359045"
      },
      "execution_count": 38,
      "outputs": [
        {
          "output_type": "execute_result",
          "data": {
            "text/plain": [
              "<tf.Tensor: shape=(224, 224, 3), dtype=float32, numpy=\n",
              "array([[[0.18933702, 0.13485432, 0.29768312],\n",
              "        [0.02303588, 0.2939589 , 0.7494451 ],\n",
              "        [0.4949479 , 0.22881532, 0.6625569 ],\n",
              "        ...,\n",
              "        [0.02931845, 0.01648474, 0.3528527 ],\n",
              "        [0.9627075 , 0.9681579 , 0.09593153],\n",
              "        [0.34061027, 0.1288383 , 0.16795254]],\n",
              "\n",
              "       [[0.63410974, 0.74327886, 0.45129704],\n",
              "        [0.9259746 , 0.9876225 , 0.16102648],\n",
              "        [0.37457883, 0.19167387, 0.6254437 ],\n",
              "        ...,\n",
              "        [0.8748456 , 0.41118038, 0.1943891 ],\n",
              "        [0.91464496, 0.3440007 , 0.8555815 ],\n",
              "        [0.00679624, 0.8484124 , 0.22003639]],\n",
              "\n",
              "       [[0.18993413, 0.9367404 , 0.76818573],\n",
              "        [0.46808815, 0.6990626 , 0.92095387],\n",
              "        [0.6636269 , 0.6693964 , 0.70554507],\n",
              "        ...,\n",
              "        [0.32843792, 0.83746064, 0.31219232],\n",
              "        [0.98219776, 0.893276  , 0.29025126],\n",
              "        [0.2213124 , 0.63982415, 0.17675579]],\n",
              "\n",
              "       ...,\n",
              "\n",
              "       [[0.04118216, 0.6600311 , 0.06818032],\n",
              "        [0.09781241, 0.12868822, 0.2943958 ],\n",
              "        [0.9959028 , 0.7242023 , 0.6548883 ],\n",
              "        ...,\n",
              "        [0.85149145, 0.61503434, 0.58198965],\n",
              "        [0.903906  , 0.47355974, 0.7147857 ],\n",
              "        [0.638747  , 0.20567858, 0.9160954 ]],\n",
              "\n",
              "       [[0.44355333, 0.24086595, 0.6776743 ],\n",
              "        [0.01910102, 0.5613071 , 0.7878822 ],\n",
              "        [0.8565843 , 0.28384662, 0.47940636],\n",
              "        ...,\n",
              "        [0.48331988, 0.89511526, 0.9727682 ],\n",
              "        [0.978515  , 0.8884667 , 0.08605194],\n",
              "        [0.8730968 , 0.9929304 , 0.30641985]],\n",
              "\n",
              "       [[0.08086777, 0.10649872, 0.98862493],\n",
              "        [0.379313  , 0.1402551 , 0.3858416 ],\n",
              "        [0.15643644, 0.28584206, 0.975909  ],\n",
              "        ...,\n",
              "        [0.024979  , 0.6255921 , 0.833405  ],\n",
              "        [0.46315753, 0.64731073, 0.8528081 ],\n",
              "        [0.12077582, 0.7428131 , 0.85603106]]], dtype=float32)>"
            ]
          },
          "metadata": {},
          "execution_count": 38
        }
      ]
    },
    {
      "cell_type": "code",
      "source": [
        "# Find min of tensor F\n",
        "tf.reduce_min(F)"
      ],
      "metadata": {
        "colab": {
          "base_uri": "https://localhost:8080/"
        },
        "id": "JFisvXL6ZTeC",
        "outputId": "f3efc668-c019-4d39-ffe5-74586403d89a"
      },
      "execution_count": 56,
      "outputs": [
        {
          "output_type": "execute_result",
          "data": {
            "text/plain": [
              "<tf.Tensor: shape=(), dtype=float32, numpy=6.4373016e-06>"
            ]
          },
          "metadata": {},
          "execution_count": 56
        }
      ]
    },
    {
      "cell_type": "code",
      "source": [
        "# Find max of tensor F\n",
        "tf.reduce_max(F)"
      ],
      "metadata": {
        "colab": {
          "base_uri": "https://localhost:8080/"
        },
        "id": "SzNhcMDnZX48",
        "outputId": "68715e2b-5737-4635-d47f-90a5689843cc"
      },
      "execution_count": 57,
      "outputs": [
        {
          "output_type": "execute_result",
          "data": {
            "text/plain": [
              "<tf.Tensor: shape=(), dtype=float32, numpy=0.9999957>"
            ]
          },
          "metadata": {},
          "execution_count": 57
        }
      ]
    },
    {
      "cell_type": "code",
      "source": [
        "# Create a tensor w/ random values of shape [1, 224, 224, 3] then squeeze it to change the shape to [224, 224, 3].\n",
        "G = tf.random.uniform(minval=0, maxval=0, shape=[1, 224, 224, 3], dtype=tf.float32)\n",
        "tf.squeeze(G).shape"
      ],
      "metadata": {
        "colab": {
          "base_uri": "https://localhost:8080/"
        },
        "id": "yOIfslCfaOGO",
        "outputId": "d7cfbc44-ab46-4f96-ec6e-88acc652a3d9"
      },
      "execution_count": 62,
      "outputs": [
        {
          "output_type": "execute_result",
          "data": {
            "text/plain": [
              "TensorShape([224, 224, 3])"
            ]
          },
          "metadata": {},
          "execution_count": 62
        }
      ]
    },
    {
      "cell_type": "code",
      "source": [
        "# Create a tensor with shape [10] using some values, then find the index which has the maximum value.\n",
        "H = tf.random.uniform(shape=[10], dtype=tf.float32)\n",
        "print(H)\n",
        "H[tf.argmax(H)]"
      ],
      "metadata": {
        "colab": {
          "base_uri": "https://localhost:8080/"
        },
        "id": "KCdWUfGbafaa",
        "outputId": "0d27e9ca-07b3-43fe-b3b9-410c86eec817"
      },
      "execution_count": 65,
      "outputs": [
        {
          "output_type": "stream",
          "name": "stdout",
          "text": [
            "tf.Tensor(\n",
            "[0.5886283  0.2973771  0.24681902 0.8618721  0.01993382 0.8052851\n",
            " 0.00747478 0.38971877 0.9635532  0.7989701 ], shape=(10,), dtype=float32)\n"
          ]
        },
        {
          "output_type": "execute_result",
          "data": {
            "text/plain": [
              "<tf.Tensor: shape=(), dtype=float32, numpy=0.9635532>"
            ]
          },
          "metadata": {},
          "execution_count": 65
        }
      ]
    },
    {
      "cell_type": "code",
      "source": [
        "tf.one_hot(H.numpy(), depth=10)"
      ],
      "metadata": {
        "colab": {
          "base_uri": "https://localhost:8080/"
        },
        "id": "SVV6zOXrbDFp",
        "outputId": "aa0fb6b5-160b-4d04-df04-053bb27aa3d0"
      },
      "execution_count": 71,
      "outputs": [
        {
          "output_type": "execute_result",
          "data": {
            "text/plain": [
              "<tf.Tensor: shape=(10, 10), dtype=float32, numpy=\n",
              "array([[1., 0., 0., 0., 0., 0., 0., 0., 0., 0.],\n",
              "       [1., 0., 0., 0., 0., 0., 0., 0., 0., 0.],\n",
              "       [1., 0., 0., 0., 0., 0., 0., 0., 0., 0.],\n",
              "       [1., 0., 0., 0., 0., 0., 0., 0., 0., 0.],\n",
              "       [1., 0., 0., 0., 0., 0., 0., 0., 0., 0.],\n",
              "       [1., 0., 0., 0., 0., 0., 0., 0., 0., 0.],\n",
              "       [1., 0., 0., 0., 0., 0., 0., 0., 0., 0.],\n",
              "       [1., 0., 0., 0., 0., 0., 0., 0., 0., 0.],\n",
              "       [1., 0., 0., 0., 0., 0., 0., 0., 0., 0.],\n",
              "       [1., 0., 0., 0., 0., 0., 0., 0., 0., 0.]], dtype=float32)>"
            ]
          },
          "metadata": {},
          "execution_count": 71
        }
      ]
    }
  ]
}
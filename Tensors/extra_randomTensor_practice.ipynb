{
  "nbformat": 4,
  "nbformat_minor": 0,
  "metadata": {
    "colab": {
      "provenance": [],
      "authorship_tag": "ABX9TyNgJu4ESsGluItIcJEi21TA",
      "include_colab_link": true
    },
    "kernelspec": {
      "name": "python3",
      "display_name": "Python 3"
    },
    "language_info": {
      "name": "python"
    }
  },
  "cells": [
    {
      "cell_type": "markdown",
      "metadata": {
        "id": "view-in-github",
        "colab_type": "text"
      },
      "source": [
        "<a href=\"https://colab.research.google.com/github/pranavrao87/Machine-Learning/blob/Tensors/extra_randomTensor_practice.ipynb\" target=\"_parent\"><img src=\"https://colab.research.google.com/assets/colab-badge.svg\" alt=\"Open In Colab\"/></a>"
      ]
    },
    {
      "cell_type": "markdown",
      "source": [
        "#Some extra practice based on the random generation of tensors and seeds\n",
        "\n",
        "##### All practice was based on officaial tensor flow documentation found here: https://www.tensorflow.org/api_docs/python/tf/random/set_seed \n",
        "\n"
      ],
      "metadata": {
        "id": "j7nNDKoBvjdD"
      }
    },
    {
      "cell_type": "markdown",
      "source": [
        "#### Random and .set_seed() *exploration*"
      ],
      "metadata": {
        "id": "OVBUm5YemwLL"
      }
    },
    {
      "cell_type": "code",
      "source": [
        "#Scenario 1 no global or operational seed set:\n",
        "# Remember .uniform outputs values from a uniform bell distribution curve in \n",
        "#this case the maxVal value = 1\n",
        "print(tf.random.uniform([1]))\n",
        "print(tf.random.uniform([1]))\n",
        "# results in different values every time for each tensor"
      ],
      "metadata": {
        "colab": {
          "base_uri": "https://localhost:8080/"
        },
        "id": "zyOU3WyUlgje",
        "outputId": "3e5359c4-2088-47a2-ebba-e324a82f0615"
      },
      "execution_count": null,
      "outputs": [
        {
          "output_type": "stream",
          "name": "stdout",
          "text": [
            "tf.Tensor([0.53272355], shape=(1,), dtype=float32)\n",
            "tf.Tensor([0.01041746], shape=(1,), dtype=float32)\n"
          ]
        }
      ]
    },
    {
      "cell_type": "code",
      "source": [
        "#Scenario 2 only global seed set:\n",
        "tf.random.set_seed(1234)\n",
        "print(tf.random.uniform([1]))  \n",
        "print(tf.random.uniform([1]))  \n",
        "# results will be a randomly generated set of values, but will stay constant\n",
        "# such that 1st tensor always holds randomly generated value X1 and 2nd tensor\n",
        "# always holds randomly generated value X2 b/c second call uses different\n",
        "# OPERATIONAL seed"
      ],
      "metadata": {
        "colab": {
          "base_uri": "https://localhost:8080/"
        },
        "id": "nP0vGsCynLYP",
        "outputId": "7177df4a-4aba-43cf-da4b-d7989bb4df8e"
      },
      "execution_count": null,
      "outputs": [
        {
          "output_type": "stream",
          "name": "stdout",
          "text": [
            "tf.Tensor([0.5380393], shape=(1,), dtype=float32)\n",
            "tf.Tensor([0.3253647], shape=(1,), dtype=float32)\n"
          ]
        }
      ]
    },
    {
      "cell_type": "code",
      "source": [
        "#Scenario 3 only local operational seed set:\n",
        "print(tf.random.uniform([1], seed=1)) \n",
        "print(tf.random.uniform([1], seed=1))\n",
        "\n",
        "def f():\n",
        "  a = tf.random.uniform([1], seed=1)\n",
        "  b = tf.random.uniform([1], seed=1)\n",
        "  return a, b\n",
        "\n",
        "@tf.function    #@tf.function acts as rerun of program\n",
        "def g():\n",
        "  a = tf.random.uniform([1], seed=1)\n",
        "  b = tf.random.uniform([1], seed=1)\n",
        "  return a, b\n",
        "\n",
        "print(f())\n",
        "print(g())\n",
        "\n",
        "#results in diff values for every call to program, but same values for reruns"
      ],
      "metadata": {
        "colab": {
          "base_uri": "https://localhost:8080/"
        },
        "id": "qt_-lil8nam2",
        "outputId": "f82d1d86-2afc-4f13-f190-c7b7f617db53"
      },
      "execution_count": null,
      "outputs": [
        {
          "output_type": "stream",
          "name": "stdout",
          "text": [
            "tf.Tensor([0.8399737], shape=(1,), dtype=float32)\n",
            "tf.Tensor([0.25597703], shape=(1,), dtype=float32)\n",
            "(<tf.Tensor: shape=(1,), dtype=float32, numpy=array([0.8998898], dtype=float32)>, <tf.Tensor: shape=(1,), dtype=float32, numpy=array([0.576313], dtype=float32)>)\n",
            "(<tf.Tensor: shape=(1,), dtype=float32, numpy=array([0.1689806], dtype=float32)>, <tf.Tensor: shape=(1,), dtype=float32, numpy=array([0.1689806], dtype=float32)>)\n"
          ]
        }
      ]
    },
    {
      "cell_type": "code",
      "source": [
        "#Scenario 4 when both global and operational seed set to sam value\n",
        "# both seeds are used to determine random val\n",
        "\n",
        "tf.random.set_seed(69)\n",
        "print(tf.random.uniform([1], seed=69))\n",
        "print(tf.random.uniform([1], seed=69))\n",
        "#Every rerun of program keeps values constant although each tensor has a different value"
      ],
      "metadata": {
        "colab": {
          "base_uri": "https://localhost:8080/"
        },
        "id": "Zm53h8jjtbSc",
        "outputId": "f49e7daa-1b0f-4dfe-af61-34139aa60a34"
      },
      "execution_count": null,
      "outputs": [
        {
          "output_type": "stream",
          "name": "stdout",
          "text": [
            "tf.Tensor([0.9949682], shape=(1,), dtype=float32)\n",
            "tf.Tensor([0.95429695], shape=(1,), dtype=float32)\n"
          ]
        }
      ]
    },
    {
      "cell_type": "code",
      "source": [],
      "metadata": {
        "id": "_KmO3ryfuUc6"
      },
      "execution_count": null,
      "outputs": []
    }
  ]
}

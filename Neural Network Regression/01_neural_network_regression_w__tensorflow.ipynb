{
  "nbformat": 4,
  "nbformat_minor": 0,
  "metadata": {
    "colab": {
      "provenance": [],
      "authorship_tag": "ABX9TyOaWLhr32EZGApLvFAdR88c",
      "include_colab_link": true
    },
    "kernelspec": {
      "name": "python3",
      "display_name": "Python 3"
    },
    "language_info": {
      "name": "python"
    }
  },
  "cells": [
    {
      "cell_type": "markdown",
      "metadata": {
        "id": "view-in-github",
        "colab_type": "text"
      },
      "source": [
        "<a href=\"https://colab.research.google.com/github/pranavrao87/Machine-Learning/blob/main/Neural%20Network%20Regression/01_neural_network_regression_w__tensorflow.ipynb\" target=\"_parent\"><img src=\"https://colab.research.google.com/assets/colab-badge.svg\" alt=\"Open In Colab\"/></a>"
      ]
    },
    {
      "cell_type": "markdown",
      "source": [
        "# Regression w/ neural networks in Tensorflow\n",
        "\n",
        "Regression problem - predicting a numerical variable based on combination of inputs, essentially predicting a number"
      ],
      "metadata": {
        "id": "5BWNZ9pEPchh"
      }
    },
    {
      "cell_type": "code",
      "source": [
        "import tensorflow as tf\n",
        "print(tf.__version__)"
      ],
      "metadata": {
        "colab": {
          "base_uri": "https://localhost:8080/"
        },
        "id": "ZCdqiB3KQFH6",
        "outputId": "6e5dbfcf-06a1-4dca-f509-b7a66f5dbb8c"
      },
      "execution_count": 2,
      "outputs": [
        {
          "output_type": "stream",
          "name": "stdout",
          "text": [
            "2.12.0\n"
          ]
        }
      ]
    },
    {
      "cell_type": "markdown",
      "source": [
        "## Creating data to view and fit"
      ],
      "metadata": {
        "id": "uTaRvggJQJE7"
      }
    },
    {
      "cell_type": "code",
      "source": [
        "import numpy as np\n",
        "import matplotlib.pyplot as plt\n",
        "\n",
        "# Create features (input data)\n",
        "X = np.array([-7.0, -4.0, -1.0, 2.0, 5.0, 8.0, 11.0, 14.0])\n",
        "\n",
        "# Create labels\n",
        "y = np.array([3.0, 6.0, 9.0, 12.0, 15.0, 18.0, 21.0, 24.0])\n",
        "\n",
        "# Visualize\n",
        "plt.scatter(X, y)"
      ],
      "metadata": {
        "colab": {
          "base_uri": "https://localhost:8080/",
          "height": 452
        },
        "id": "y150jbkfQWiy",
        "outputId": "c219e736-b491-4001-fab8-41f30279e581"
      },
      "execution_count": 3,
      "outputs": [
        {
          "output_type": "execute_result",
          "data": {
            "text/plain": [
              "<matplotlib.collections.PathCollection at 0x7f4a99870fd0>"
            ]
          },
          "metadata": {},
          "execution_count": 3
        },
        {
          "output_type": "display_data",
          "data": {
            "text/plain": [
              "<Figure size 640x480 with 1 Axes>"
            ],
            "image/png": "[encoded data removed]"
          },
          "metadata": {}
        }
      ]
    },
    {
      "cell_type": "code",
      "source": [
        "y == X + 10"
      ],
      "metadata": {
        "colab": {
          "base_uri": "https://localhost:8080/"
        },
        "id": "4wAY4qkkQ-bY",
        "outputId": "f58f4dbf-8ccf-4e8c-b955-ca31c15f36dd"
      },
      "execution_count": 4,
      "outputs": [
        {
          "output_type": "execute_result",
          "data": {
            "text/plain": [
              "array([ True,  True,  True,  True,  True,  True,  True,  True])"
            ]
          },
          "metadata": {},
          "execution_count": 4
        }
      ]
    },
    {
      "cell_type": "markdown",
      "source": [
        "## Input and output shapes"
      ],
      "metadata": {
        "id": "R3LZO9WBRPdL"
      }
    },
    {
      "cell_type": "code",
      "source": [
        "# Create demo tensor for hosuing price prediction problem\n",
        "house_info = tf.constant([\"bedroom\", \"bathroom\", \"garage\"])\n",
        "house_price = tf.constant([939700])\n",
        "house_info, house_price"
      ],
      "metadata": {
        "colab": {
          "base_uri": "https://localhost:8080/"
        },
        "id": "ZpArt6w0RW6H",
        "outputId": "ca8558d4-6794-4039-c11d-316100065fb8"
      },
      "execution_count": 5,
      "outputs": [
        {
          "output_type": "execute_result",
          "data": {
            "text/plain": [
              "(<tf.Tensor: shape=(3,), dtype=string, numpy=array([b'bedroom', b'bathroom', b'garage'], dtype=object)>,\n",
              " <tf.Tensor: shape=(1,), dtype=int32, numpy=array([939700], dtype=int32)>)"
            ]
          },
          "metadata": {},
          "execution_count": 5
        }
      ]
    },
    {
      "cell_type": "code",
      "source": [
        "X[0], y[0]"
      ],
      "metadata": {
        "colab": {
          "base_uri": "https://localhost:8080/"
        },
        "id": "8vahFD5MSHdS",
        "outputId": "7aeaacaf-a3c3-46d1-e47a-fedeb29270ed"
      },
      "execution_count": 6,
      "outputs": [
        {
          "output_type": "execute_result",
          "data": {
            "text/plain": [
              "(-7.0, 3.0)"
            ]
          },
          "metadata": {},
          "execution_count": 6
        }
      ]
    },
    {
      "cell_type": "code",
      "source": [
        "X[1], y[1]"
      ],
      "metadata": {
        "colab": {
          "base_uri": "https://localhost:8080/"
        },
        "id": "-1IuhY8DSKCM",
        "outputId": "9023153b-c6ff-4ccb-f1f0-d3fe160defde"
      },
      "execution_count": 7,
      "outputs": [
        {
          "output_type": "execute_result",
          "data": {
            "text/plain": [
              "(-4.0, 6.0)"
            ]
          },
          "metadata": {},
          "execution_count": 7
        }
      ]
    },
    {
      "cell_type": "code",
      "source": [
        "input_shape = X[0].shape # --> X[0] is a scalar!\n",
        "output_shape = y[0].shape\n",
        "input_shape, output_shape"
      ],
      "metadata": {
        "colab": {
          "base_uri": "https://localhost:8080/"
        },
        "id": "3GNzP0MSR1DX",
        "outputId": "376a2d7b-eb55-499d-f269-7ad61441b168"
      },
      "execution_count": 8,
      "outputs": [
        {
          "output_type": "execute_result",
          "data": {
            "text/plain": [
              "((), ())"
            ]
          },
          "metadata": {},
          "execution_count": 8
        }
      ]
    },
    {
      "cell_type": "code",
      "source": [
        "# Turn NumPy arrays into tensors\n",
        "X = tf.cast(tf.constant(X), dtype=tf.float32)\n",
        "y = tf.cast(tf.constant(y), dtype=tf.float32)\n",
        "X, y"
      ],
      "metadata": {
        "colab": {
          "base_uri": "https://localhost:8080/"
        },
        "id": "_QBc46_aSDjT",
        "outputId": "1cd8848c-caff-4d58-da97-31ffbb54948b"
      },
      "execution_count": 9,
      "outputs": [
        {
          "output_type": "execute_result",
          "data": {
            "text/plain": [
              "(<tf.Tensor: shape=(8,), dtype=float32, numpy=array([-7., -4., -1.,  2.,  5.,  8., 11., 14.], dtype=float32)>,\n",
              " <tf.Tensor: shape=(8,), dtype=float32, numpy=array([ 3.,  6.,  9., 12., 15., 18., 21., 24.], dtype=float32)>)"
            ]
          },
          "metadata": {},
          "execution_count": 9
        }
      ]
    },
    {
      "cell_type": "code",
      "source": [
        "input_shape = X[0].shape\n",
        "output_shape = y[0].shape\n",
        "input_shape, output_shape"
      ],
      "metadata": {
        "colab": {
          "base_uri": "https://localhost:8080/"
        },
        "id": "5ondxt5YW_OP",
        "outputId": "8f75bf75-f6ed-40ac-8c53-5b319e90e539"
      },
      "execution_count": 10,
      "outputs": [
        {
          "output_type": "execute_result",
          "data": {
            "text/plain": [
              "(TensorShape([]), TensorShape([]))"
            ]
          },
          "metadata": {},
          "execution_count": 10
        }
      ]
    },
    {
      "cell_type": "code",
      "source": [
        "plt.scatter(X, y)"
      ],
      "metadata": {
        "colab": {
          "base_uri": "https://localhost:8080/",
          "height": 452
        },
        "id": "WIsX7KBhXFY7",
        "outputId": "42f1ddc4-d8ea-4ea3-a79d-0953ece02d6b"
      },
      "execution_count": 11,
      "outputs": [
        {
          "output_type": "execute_result",
          "data": {
            "text/plain": [
              "<matplotlib.collections.PathCollection at 0x7f4a97777b20>"
            ]
          },
          "metadata": {},
          "execution_count": 11
        },
        {
          "output_type": "display_data",
          "data": {
            "text/plain": [
              "<Figure size 640x480 with 1 Axes>"
            ],
            "image/png": "[encoded data removed]"
          },
          "metadata": {}
        }
      ]
    },
    {
      "cell_type": "markdown",
      "source": [
        "## Steps in modelling w/ TensorFlow\n",
        "\n",
        "1.   **Creating a model** - define input and output layers, as well as the hidden layers of deep learning model.\n",
        "2.   **Compiling a model** - define loss function (function which tells model how wrong it is) and the optimizer (tells model how to improve the patterns model is learning) and evaluation metrics (what to use to interpret the performance of model)\n",
        "3.    **Fitting model** - letting model try to find patterns b/w X and y (features and labels)\n",
        "\n"
      ],
      "metadata": {
        "id": "b-4dyC0uXN4c"
      }
    },
    {
      "cell_type": "code",
      "source": [
        "# Set random seed\n",
        "tf.random.set_seed(42)\n",
        "\n",
        "# 1. Creating a model using the sequential API\n",
        "model = tf.keras.Sequential([\n",
        "    tf.keras.layers.Dense(1)\n",
        "])\n",
        "\n",
        "# 2. Compile model\n",
        "model.compile(loss=tf.keras.losses.mae, #mae is short for mean absolute error\n",
        "              optimizer=tf.keras.optimizers.SGD(), #SGD - Stochastic gradient descent\n",
        "              metrics=[\"mae\"])\n",
        "\n",
        "# 3. Fit model\n",
        "model.fit(tf.expand_dims(X, -1), y, epochs=5)"
      ],
      "metadata": {
        "colab": {
          "base_uri": "https://localhost:8080/"
        },
        "id": "9Owf2g3JXS8j",
        "outputId": "83ec536a-331e-475f-e748-9fdd4579b602"
      },
      "execution_count": 12,
      "outputs": [
        {
          "output_type": "stream",
          "name": "stdout",
          "text": [
            "Epoch 1/5\n",
            "1/1 [==============================] - 2s 2s/step - loss: 16.3523 - mae: 16.3523\n",
            "Epoch 2/5\n",
            "1/1 [==============================] - 0s 14ms/step - loss: 16.0710 - mae: 16.0710\n",
            "Epoch 3/5\n",
            "1/1 [==============================] - 0s 9ms/step - loss: 15.7898 - mae: 15.7898\n",
            "Epoch 4/5\n",
            "1/1 [==============================] - 0s 9ms/step - loss: 15.5085 - mae: 15.5085\n",
            "Epoch 5/5\n",
            "1/1 [==============================] - 0s 30ms/step - loss: 15.2273 - mae: 15.2273\n"
          ]
        },
        {
          "output_type": "execute_result",
          "data": {
            "text/plain": [
              "<keras.callbacks.History at 0x7f4a9469bf40>"
            ]
          },
          "metadata": {},
          "execution_count": 12
        }
      ]
    },
    {
      "cell_type": "code",
      "source": [
        "# Check out X and y\n",
        "X, y"
      ],
      "metadata": {
        "colab": {
          "base_uri": "https://localhost:8080/"
        },
        "id": "jaikOq2KcqXb",
        "outputId": "783c1785-d522-42cd-8dd7-de96640c5b34"
      },
      "execution_count": 13,
      "outputs": [
        {
          "output_type": "execute_result",
          "data": {
            "text/plain": [
              "(<tf.Tensor: shape=(8,), dtype=float32, numpy=array([-7., -4., -1.,  2.,  5.,  8., 11., 14.], dtype=float32)>,\n",
              " <tf.Tensor: shape=(8,), dtype=float32, numpy=array([ 3.,  6.,  9., 12., 15., 18., 21., 24.], dtype=float32)>)"
            ]
          },
          "metadata": {},
          "execution_count": 13
        }
      ]
    },
    {
      "cell_type": "code",
      "source": [
        "# Try and make prediction using model\n",
        "y_pred = model.predict([17.0])\n",
        "y_pred"
      ],
      "metadata": {
        "colab": {
          "base_uri": "https://localhost:8080/"
        },
        "id": "yOe4SpU4csW5",
        "outputId": "90a37d7f-316f-4d34-eb79-0724eb75d567"
      },
      "execution_count": 14,
      "outputs": [
        {
          "output_type": "stream",
          "name": "stdout",
          "text": [
            "1/1 [==============================] - 0s 257ms/step\n"
          ]
        },
        {
          "output_type": "execute_result",
          "data": {
            "text/plain": [
              "array([[-7.1645284]], dtype=float32)"
            ]
          },
          "metadata": {},
          "execution_count": 14
        }
      ]
    },
    {
      "cell_type": "code",
      "source": [
        "y_pred + 11"
      ],
      "metadata": {
        "colab": {
          "base_uri": "https://localhost:8080/"
        },
        "id": "mKU9-zS7c39G",
        "outputId": "6b19bec4-0ea0-4242-d322-143245953131"
      },
      "execution_count": 15,
      "outputs": [
        {
          "output_type": "execute_result",
          "data": {
            "text/plain": [
              "array([[3.8354716]], dtype=float32)"
            ]
          },
          "metadata": {},
          "execution_count": 15
        }
      ]
    },
    {
      "cell_type": "markdown",
      "source": [
        "## Improve Model\n",
        "\n",
        "Can improve model by altering steps taken to create model\n",
        "\n",
        "1. **Creating a model** - add more layers, increase # of hidden layers, increase # of neurons/layer, change activation function of each layer\n",
        "2. **Compiling a model** - change optimization function or **learning rate** of optmization function\n",
        "3. **Fitting a model** - fit model for more epochs (increase epochs or give mode more data/examples)"
      ],
      "metadata": {
        "id": "fKcjT3RkdHKa"
      }
    },
    {
      "cell_type": "code",
      "source": [
        "# Rebuild model\n",
        "\n",
        "# 1. Create model\n",
        "tf.keras.Sequential([\n",
        "    tf.keras.layers.Dense(1)\n",
        "])\n",
        "\n",
        "#2. Compile model\n",
        "model.compile(loss=tf.keras.losses.mae,\n",
        "              optimizer=tf.keras.optimizers.SGD(),\n",
        "              metrics=[\"mae\"])\n",
        "\n",
        "#3. Fit model (this time w/ inc. epochs or training time)\n",
        "model.fit(tf.expand_dims(X, -1), y, epochs=100)"
      ],
      "metadata": {
        "colab": {
          "base_uri": "https://localhost:8080/"
        },
        "id": "DkOdu1tAdLkw",
        "outputId": "f4ee4eca-fff4-48bf-ece1-72795dea279d"
      },
      "execution_count": 16,
      "outputs": [
        {
          "output_type": "stream",
          "name": "stdout",
          "text": [
            "Epoch 1/100\n",
            "1/1 [==============================] - 1s 654ms/step - loss: 14.9460 - mae: 14.9460\n",
            "Epoch 2/100\n",
            "1/1 [==============================] - 0s 26ms/step - loss: 14.7540 - mae: 14.7540\n",
            "Epoch 3/100\n",
            "1/1 [==============================] - 0s 39ms/step - loss: 14.6215 - mae: 14.6215\n",
            "Epoch 4/100\n",
            "1/1 [==============================] - 0s 27ms/step - loss: 14.4890 - mae: 14.4890\n",
            "Epoch 5/100\n",
            "1/1 [==============================] - 0s 27ms/step - loss: 14.3565 - mae: 14.3565\n",
            "Epoch 6/100\n",
            "1/1 [==============================] - 0s 26ms/step - loss: 14.2240 - mae: 14.2240\n",
            "Epoch 7/100\n",
            "1/1 [==============================] - 0s 21ms/step - loss: 14.0915 - mae: 14.0915\n",
            "Epoch 8/100\n",
            "1/1 [==============================] - 0s 22ms/step - loss: 13.9590 - mae: 13.9590\n",
            "Epoch 9/100\n",
            "1/1 [==============================] - 0s 19ms/step - loss: 13.8265 - mae: 13.8265\n",
            "Epoch 10/100\n",
            "1/1 [==============================] - 0s 31ms/step - loss: 13.6940 - mae: 13.6940\n",
            "Epoch 11/100\n",
            "1/1 [==============================] - 0s 18ms/step - loss: 13.5615 - mae: 13.5615\n",
            "Epoch 12/100\n",
            "1/1 [==============================] - 0s 17ms/step - loss: 13.4290 - mae: 13.4290\n",
            "Epoch 13/100\n",
            "1/1 [==============================] - 0s 20ms/step - loss: 13.2965 - mae: 13.2965\n",
            "Epoch 14/100\n",
            "1/1 [==============================] - 0s 17ms/step - loss: 13.1640 - mae: 13.1640\n",
            "Epoch 15/100\n",
            "1/1 [==============================] - 0s 13ms/step - loss: 13.0315 - mae: 13.0315\n",
            "Epoch 16/100\n",
            "1/1 [==============================] - 0s 15ms/step - loss: 12.8990 - mae: 12.8990\n",
            "Epoch 17/100\n",
            "1/1 [==============================] - 0s 18ms/step - loss: 12.7665 - mae: 12.7665\n",
            "Epoch 18/100\n",
            "1/1 [==============================] - 0s 14ms/step - loss: 12.6340 - mae: 12.6340\n",
            "Epoch 19/100\n",
            "1/1 [==============================] - 0s 23ms/step - loss: 12.5015 - mae: 12.5015\n",
            "Epoch 20/100\n",
            "1/1 [==============================] - 0s 22ms/step - loss: 12.3690 - mae: 12.3690\n",
            "Epoch 21/100\n",
            "1/1 [==============================] - 0s 21ms/step - loss: 12.2365 - mae: 12.2365\n",
            "Epoch 22/100\n",
            "1/1 [==============================] - 0s 20ms/step - loss: 12.1040 - mae: 12.1040\n",
            "Epoch 23/100\n",
            "1/1 [==============================] - 0s 21ms/step - loss: 11.9715 - mae: 11.9715\n",
            "Epoch 24/100\n",
            "1/1 [==============================] - 0s 19ms/step - loss: 11.8390 - mae: 11.8390\n",
            "Epoch 25/100\n",
            "1/1 [==============================] - 0s 39ms/step - loss: 11.7065 - mae: 11.7065\n",
            "Epoch 26/100\n",
            "1/1 [==============================] - 0s 24ms/step - loss: 11.5740 - mae: 11.5740\n",
            "Epoch 27/100\n",
            "1/1 [==============================] - 0s 27ms/step - loss: 11.4415 - mae: 11.4415\n",
            "Epoch 28/100\n",
            "1/1 [==============================] - 0s 17ms/step - loss: 11.3090 - mae: 11.3090\n",
            "Epoch 29/100\n",
            "1/1 [==============================] - 0s 12ms/step - loss: 11.1765 - mae: 11.1765\n",
            "Epoch 30/100\n",
            "1/1 [==============================] - 0s 25ms/step - loss: 11.0440 - mae: 11.0440\n",
            "Epoch 31/100\n",
            "1/1 [==============================] - 0s 16ms/step - loss: 10.9115 - mae: 10.9115\n",
            "Epoch 32/100\n",
            "1/1 [==============================] - 0s 26ms/step - loss: 10.7790 - mae: 10.7790\n",
            "Epoch 33/100\n",
            "1/1 [==============================] - 0s 29ms/step - loss: 10.6465 - mae: 10.6465\n",
            "Epoch 34/100\n",
            "1/1 [==============================] - 0s 35ms/step - loss: 10.5140 - mae: 10.5140\n",
            "Epoch 35/100\n",
            "1/1 [==============================] - 0s 17ms/step - loss: 10.3815 - mae: 10.3815\n",
            "Epoch 36/100\n",
            "1/1 [==============================] - 0s 18ms/step - loss: 10.2490 - mae: 10.2490\n",
            "Epoch 37/100\n",
            "1/1 [==============================] - 0s 18ms/step - loss: 10.1165 - mae: 10.1165\n",
            "Epoch 38/100\n",
            "1/1 [==============================] - 0s 27ms/step - loss: 9.9840 - mae: 9.9840\n",
            "Epoch 39/100\n",
            "1/1 [==============================] - 0s 28ms/step - loss: 9.8515 - mae: 9.8515\n",
            "Epoch 40/100\n",
            "1/1 [==============================] - 0s 25ms/step - loss: 9.7190 - mae: 9.7190\n",
            "Epoch 41/100\n",
            "1/1 [==============================] - 0s 22ms/step - loss: 9.5865 - mae: 9.5865\n",
            "Epoch 42/100\n",
            "1/1 [==============================] - 0s 14ms/step - loss: 9.4540 - mae: 9.4540\n",
            "Epoch 43/100\n",
            "1/1 [==============================] - 0s 17ms/step - loss: 9.3215 - mae: 9.3215\n",
            "Epoch 44/100\n",
            "1/1 [==============================] - 0s 15ms/step - loss: 9.1890 - mae: 9.1890\n",
            "Epoch 45/100\n",
            "1/1 [==============================] - 0s 13ms/step - loss: 9.0565 - mae: 9.0565\n",
            "Epoch 46/100\n",
            "1/1 [==============================] - 0s 17ms/step - loss: 8.9240 - mae: 8.9240\n",
            "Epoch 47/100\n",
            "1/1 [==============================] - 0s 15ms/step - loss: 8.7915 - mae: 8.7915\n",
            "Epoch 48/100\n",
            "1/1 [==============================] - 0s 15ms/step - loss: 8.6590 - mae: 8.6590\n",
            "Epoch 49/100\n",
            "1/1 [==============================] - 0s 13ms/step - loss: 8.5265 - mae: 8.5265\n",
            "Epoch 50/100\n",
            "1/1 [==============================] - 0s 13ms/step - loss: 8.3940 - mae: 8.3940\n",
            "Epoch 51/100\n",
            "1/1 [==============================] - 0s 15ms/step - loss: 8.2615 - mae: 8.2615\n",
            "Epoch 52/100\n",
            "1/1 [==============================] - 0s 13ms/step - loss: 8.1290 - mae: 8.1290\n",
            "Epoch 53/100\n",
            "1/1 [==============================] - 0s 13ms/step - loss: 7.9965 - mae: 7.9965\n",
            "Epoch 54/100\n",
            "1/1 [==============================] - 0s 27ms/step - loss: 7.8640 - mae: 7.8640\n",
            "Epoch 55/100\n",
            "1/1 [==============================] - 0s 12ms/step - loss: 7.7315 - mae: 7.7315\n",
            "Epoch 56/100\n",
            "1/1 [==============================] - 0s 16ms/step - loss: 7.5990 - mae: 7.5990\n",
            "Epoch 57/100\n",
            "1/1 [==============================] - 0s 22ms/step - loss: 7.4665 - mae: 7.4665\n",
            "Epoch 58/100\n",
            "1/1 [==============================] - 0s 17ms/step - loss: 7.3340 - mae: 7.3340\n",
            "Epoch 59/100\n",
            "1/1 [==============================] - 0s 12ms/step - loss: 7.2015 - mae: 7.2015\n",
            "Epoch 60/100\n",
            "1/1 [==============================] - 0s 11ms/step - loss: 7.0690 - mae: 7.0690\n",
            "Epoch 61/100\n",
            "1/1 [==============================] - 0s 15ms/step - loss: 7.0238 - mae: 7.0238\n",
            "Epoch 62/100\n",
            "1/1 [==============================] - 0s 23ms/step - loss: 7.0181 - mae: 7.0181\n",
            "Epoch 63/100\n",
            "1/1 [==============================] - 0s 17ms/step - loss: 7.0125 - mae: 7.0125\n",
            "Epoch 64/100\n",
            "1/1 [==============================] - 0s 23ms/step - loss: 7.0069 - mae: 7.0069\n",
            "Epoch 65/100\n",
            "1/1 [==============================] - 0s 12ms/step - loss: 7.0013 - mae: 7.0013\n",
            "Epoch 66/100\n",
            "1/1 [==============================] - 0s 12ms/step - loss: 6.9956 - mae: 6.9956\n",
            "Epoch 67/100\n",
            "1/1 [==============================] - 0s 12ms/step - loss: 6.9900 - mae: 6.9900\n",
            "Epoch 68/100\n",
            "1/1 [==============================] - 0s 14ms/step - loss: 6.9844 - mae: 6.9844\n",
            "Epoch 69/100\n",
            "1/1 [==============================] - 0s 13ms/step - loss: 6.9788 - mae: 6.9788\n",
            "Epoch 70/100\n",
            "1/1 [==============================] - 0s 14ms/step - loss: 6.9731 - mae: 6.9731\n",
            "Epoch 71/100\n",
            "1/1 [==============================] - 0s 13ms/step - loss: 6.9675 - mae: 6.9675\n",
            "Epoch 72/100\n",
            "1/1 [==============================] - 0s 13ms/step - loss: 6.9619 - mae: 6.9619\n",
            "Epoch 73/100\n",
            "1/1 [==============================] - 0s 14ms/step - loss: 6.9563 - mae: 6.9563\n",
            "Epoch 74/100\n",
            "1/1 [==============================] - 0s 18ms/step - loss: 6.9506 - mae: 6.9506\n",
            "Epoch 75/100\n",
            "1/1 [==============================] - 0s 13ms/step - loss: 6.9450 - mae: 6.9450\n",
            "Epoch 76/100\n",
            "1/1 [==============================] - 0s 14ms/step - loss: 6.9394 - mae: 6.9394\n",
            "Epoch 77/100\n",
            "1/1 [==============================] - 0s 12ms/step - loss: 6.9338 - mae: 6.9338\n",
            "Epoch 78/100\n",
            "1/1 [==============================] - 0s 14ms/step - loss: 6.9281 - mae: 6.9281\n",
            "Epoch 79/100\n",
            "1/1 [==============================] - 0s 15ms/step - loss: 6.9225 - mae: 6.9225\n",
            "Epoch 80/100\n",
            "1/1 [==============================] - 0s 14ms/step - loss: 6.9169 - mae: 6.9169\n",
            "Epoch 81/100\n",
            "1/1 [==============================] - 0s 16ms/step - loss: 6.9113 - mae: 6.9113\n",
            "Epoch 82/100\n",
            "1/1 [==============================] - 0s 12ms/step - loss: 6.9056 - mae: 6.9056\n",
            "Epoch 83/100\n",
            "1/1 [==============================] - 0s 16ms/step - loss: 6.9000 - mae: 6.9000\n",
            "Epoch 84/100\n",
            "1/1 [==============================] - 0s 12ms/step - loss: 6.8944 - mae: 6.8944\n",
            "Epoch 85/100\n",
            "1/1 [==============================] - 0s 19ms/step - loss: 6.8888 - mae: 6.8888\n",
            "Epoch 86/100\n",
            "1/1 [==============================] - 0s 14ms/step - loss: 6.8831 - mae: 6.8831\n",
            "Epoch 87/100\n",
            "1/1 [==============================] - 0s 13ms/step - loss: 6.8775 - mae: 6.8775\n",
            "Epoch 88/100\n",
            "1/1 [==============================] - 0s 17ms/step - loss: 6.8719 - mae: 6.8719\n",
            "Epoch 89/100\n",
            "1/1 [==============================] - 0s 13ms/step - loss: 6.8663 - mae: 6.8663\n",
            "Epoch 90/100\n",
            "1/1 [==============================] - 0s 10ms/step - loss: 6.8606 - mae: 6.8606\n",
            "Epoch 91/100\n",
            "1/1 [==============================] - 0s 8ms/step - loss: 6.8550 - mae: 6.8550\n",
            "Epoch 92/100\n",
            "1/1 [==============================] - 0s 10ms/step - loss: 6.8494 - mae: 6.8494\n",
            "Epoch 93/100\n",
            "1/1 [==============================] - 0s 15ms/step - loss: 6.8438 - mae: 6.8438\n",
            "Epoch 94/100\n",
            "1/1 [==============================] - 0s 19ms/step - loss: 6.8381 - mae: 6.8381\n",
            "Epoch 95/100\n",
            "1/1 [==============================] - 0s 12ms/step - loss: 6.8325 - mae: 6.8325\n",
            "Epoch 96/100\n",
            "1/1 [==============================] - 0s 15ms/step - loss: 6.8269 - mae: 6.8269\n",
            "Epoch 97/100\n",
            "1/1 [==============================] - 0s 24ms/step - loss: 6.8212 - mae: 6.8212\n",
            "Epoch 98/100\n",
            "1/1 [==============================] - 0s 21ms/step - loss: 6.8156 - mae: 6.8156\n",
            "Epoch 99/100\n",
            "1/1 [==============================] - 0s 14ms/step - loss: 6.8100 - mae: 6.8100\n",
            "Epoch 100/100\n",
            "1/1 [==============================] - 0s 15ms/step - loss: 6.8044 - mae: 6.8044\n"
          ]
        },
        {
          "output_type": "execute_result",
          "data": {
            "text/plain": [
              "<keras.callbacks.History at 0x7f4a94353940>"
            ]
          },
          "metadata": {},
          "execution_count": 16
        }
      ]
    },
    {
      "cell_type": "code",
      "source": [
        "X, y"
      ],
      "metadata": {
        "colab": {
          "base_uri": "https://localhost:8080/"
        },
        "id": "xhHL2Z2EhVb0",
        "outputId": "a8f62b27-1e1b-411f-92c7-6374d509a744"
      },
      "execution_count": 17,
      "outputs": [
        {
          "output_type": "execute_result",
          "data": {
            "text/plain": [
              "(<tf.Tensor: shape=(8,), dtype=float32, numpy=array([-7., -4., -1.,  2.,  5.,  8., 11., 14.], dtype=float32)>,\n",
              " <tf.Tensor: shape=(8,), dtype=float32, numpy=array([ 3.,  6.,  9., 12., 15., 18., 21., 24.], dtype=float32)>)"
            ]
          },
          "metadata": {},
          "execution_count": 17
        }
      ]
    },
    {
      "cell_type": "code",
      "source": [
        "# Predict w/ improved model\n",
        "model.predict([17.0])"
      ],
      "metadata": {
        "colab": {
          "base_uri": "https://localhost:8080/"
        },
        "id": "igIqHalKhWUw",
        "outputId": "d026ae45-a1dd-45d0-cc69-d62697df961b"
      },
      "execution_count": 18,
      "outputs": [
        {
          "output_type": "stream",
          "name": "stdout",
          "text": [
            "1/1 [==============================] - 0s 112ms/step\n"
          ]
        },
        {
          "output_type": "execute_result",
          "data": {
            "text/plain": [
              "array([[29.730467]], dtype=float32)"
            ]
          },
          "metadata": {},
          "execution_count": 18
        }
      ]
    },
    {
      "cell_type": "code",
      "source": [
        "# Rebuild model\n",
        "\n",
        "# 1. Create model \n",
        "tf.keras.Sequential([\n",
        "    tf.keras.layers.Dense(50, activation=None),\n",
        "    tf.keras.layers.Dense(1)\n",
        "])\n",
        "\n",
        "#2. Compile model\n",
        "model.compile(loss=tf.keras.losses.mae,\n",
        "              optimizer=tf.keras.optimizers.Adam(lr=0.01),\n",
        "              metrics=[\"mae\"])\n",
        "\n",
        "#3. Fit model\n",
        "model.fit(tf.expand_dims(X, 1), y, epochs=100)"
      ],
      "metadata": {
        "colab": {
          "base_uri": "https://localhost:8080/"
        },
        "id": "qy6IhBzclAxD",
        "outputId": "f491d921-f148-46ca-af35-211684cda6a5"
      },
      "execution_count": 19,
      "outputs": [
        {
          "output_type": "stream",
          "name": "stderr",
          "text": [
            "WARNING:absl:`lr` is deprecated in Keras optimizer, please use `learning_rate` or use the legacy optimizer, e.g.,tf.keras.optimizers.legacy.Adam.\n"
          ]
        },
        {
          "output_type": "stream",
          "name": "stdout",
          "text": [
            "Epoch 1/100\n",
            "1/1 [==============================] - 1s 723ms/step - loss: 6.7988 - mae: 6.7988\n",
            "Epoch 2/100\n",
            "1/1 [==============================] - 0s 17ms/step - loss: 6.7980 - mae: 6.7980\n",
            "Epoch 3/100\n",
            "1/1 [==============================] - 0s 10ms/step - loss: 6.7973 - mae: 6.7973\n",
            "Epoch 4/100\n",
            "1/1 [==============================] - 0s 11ms/step - loss: 6.7965 - mae: 6.7965\n",
            "Epoch 5/100\n",
            "1/1 [==============================] - 0s 10ms/step - loss: 6.7958 - mae: 6.7958\n",
            "Epoch 6/100\n",
            "1/1 [==============================] - 0s 10ms/step - loss: 6.7950 - mae: 6.7950\n",
            "Epoch 7/100\n",
            "1/1 [==============================] - 0s 12ms/step - loss: 6.7943 - mae: 6.7943\n",
            "Epoch 8/100\n",
            "1/1 [==============================] - 0s 10ms/step - loss: 6.7935 - mae: 6.7935\n",
            "Epoch 9/100\n",
            "1/1 [==============================] - 0s 10ms/step - loss: 6.7928 - mae: 6.7928\n",
            "Epoch 10/100\n",
            "1/1 [==============================] - 0s 11ms/step - loss: 6.7920 - mae: 6.7920\n",
            "Epoch 11/100\n",
            "1/1 [==============================] - 0s 18ms/step - loss: 6.7913 - mae: 6.7913\n",
            "Epoch 12/100\n",
            "1/1 [==============================] - 0s 10ms/step - loss: 6.7905 - mae: 6.7905\n",
            "Epoch 13/100\n",
            "1/1 [==============================] - 0s 27ms/step - loss: 6.7898 - mae: 6.7898\n",
            "Epoch 14/100\n",
            "1/1 [==============================] - 0s 25ms/step - loss: 6.7890 - mae: 6.7890\n",
            "Epoch 15/100\n",
            "1/1 [==============================] - 0s 11ms/step - loss: 6.7882 - mae: 6.7882\n",
            "Epoch 16/100\n",
            "1/1 [==============================] - 0s 10ms/step - loss: 6.7875 - mae: 6.7875\n",
            "Epoch 17/100\n",
            "1/1 [==============================] - 0s 13ms/step - loss: 6.7868 - mae: 6.7868\n",
            "Epoch 18/100\n",
            "1/1 [==============================] - 0s 15ms/step - loss: 6.7860 - mae: 6.7860\n",
            "Epoch 19/100\n",
            "1/1 [==============================] - 0s 18ms/step - loss: 6.7853 - mae: 6.7853\n",
            "Epoch 20/100\n",
            "1/1 [==============================] - 0s 11ms/step - loss: 6.7845 - mae: 6.7845\n",
            "Epoch 21/100\n",
            "1/1 [==============================] - 0s 24ms/step - loss: 6.7838 - mae: 6.7838\n",
            "Epoch 22/100\n",
            "1/1 [==============================] - 0s 16ms/step - loss: 6.7830 - mae: 6.7830\n",
            "Epoch 23/100\n",
            "1/1 [==============================] - 0s 16ms/step - loss: 6.7823 - mae: 6.7823\n",
            "Epoch 24/100\n",
            "1/1 [==============================] - 0s 14ms/step - loss: 6.7815 - mae: 6.7815\n",
            "Epoch 25/100\n",
            "1/1 [==============================] - 0s 17ms/step - loss: 6.7808 - mae: 6.7808\n",
            "Epoch 26/100\n",
            "1/1 [==============================] - 0s 16ms/step - loss: 6.7800 - mae: 6.7800\n",
            "Epoch 27/100\n",
            "1/1 [==============================] - 0s 17ms/step - loss: 6.7793 - mae: 6.7793\n",
            "Epoch 28/100\n",
            "1/1 [==============================] - 0s 15ms/step - loss: 6.7785 - mae: 6.7785\n",
            "Epoch 29/100\n",
            "1/1 [==============================] - 0s 17ms/step - loss: 6.7778 - mae: 6.7778\n",
            "Epoch 30/100\n",
            "1/1 [==============================] - 0s 14ms/step - loss: 6.7770 - mae: 6.7770\n",
            "Epoch 31/100\n",
            "1/1 [==============================] - 0s 11ms/step - loss: 6.7763 - mae: 6.7763\n",
            "Epoch 32/100\n",
            "1/1 [==============================] - 0s 12ms/step - loss: 6.7755 - mae: 6.7755\n",
            "Epoch 33/100\n",
            "1/1 [==============================] - 0s 11ms/step - loss: 6.7748 - mae: 6.7748\n",
            "Epoch 34/100\n",
            "1/1 [==============================] - 0s 16ms/step - loss: 6.7740 - mae: 6.7740\n",
            "Epoch 35/100\n",
            "1/1 [==============================] - 0s 10ms/step - loss: 6.7733 - mae: 6.7733\n",
            "Epoch 36/100\n",
            "1/1 [==============================] - 0s 17ms/step - loss: 6.7725 - mae: 6.7725\n",
            "Epoch 37/100\n",
            "1/1 [==============================] - 0s 11ms/step - loss: 6.7718 - mae: 6.7718\n",
            "Epoch 38/100\n",
            "1/1 [==============================] - 0s 12ms/step - loss: 6.7710 - mae: 6.7710\n",
            "Epoch 39/100\n",
            "1/1 [==============================] - 0s 13ms/step - loss: 6.7703 - mae: 6.7703\n",
            "Epoch 40/100\n",
            "1/1 [==============================] - 0s 12ms/step - loss: 6.7695 - mae: 6.7695\n",
            "Epoch 41/100\n",
            "1/1 [==============================] - 0s 11ms/step - loss: 6.7688 - mae: 6.7688\n",
            "Epoch 42/100\n",
            "1/1 [==============================] - 0s 14ms/step - loss: 6.7680 - mae: 6.7680\n",
            "Epoch 43/100\n",
            "1/1 [==============================] - 0s 17ms/step - loss: 6.7673 - mae: 6.7673\n",
            "Epoch 44/100\n",
            "1/1 [==============================] - 0s 16ms/step - loss: 6.7665 - mae: 6.7665\n",
            "Epoch 45/100\n",
            "1/1 [==============================] - 0s 25ms/step - loss: 6.7658 - mae: 6.7658\n",
            "Epoch 46/100\n",
            "1/1 [==============================] - 0s 15ms/step - loss: 6.7650 - mae: 6.7650\n",
            "Epoch 47/100\n",
            "1/1 [==============================] - 0s 25ms/step - loss: 6.7643 - mae: 6.7643\n",
            "Epoch 48/100\n",
            "1/1 [==============================] - 0s 28ms/step - loss: 6.7635 - mae: 6.7635\n",
            "Epoch 49/100\n",
            "1/1 [==============================] - 0s 15ms/step - loss: 6.7628 - mae: 6.7628\n",
            "Epoch 50/100\n",
            "1/1 [==============================] - 0s 20ms/step - loss: 6.7620 - mae: 6.7620\n",
            "Epoch 51/100\n",
            "1/1 [==============================] - 0s 22ms/step - loss: 6.7613 - mae: 6.7613\n",
            "Epoch 52/100\n",
            "1/1 [==============================] - 0s 17ms/step - loss: 6.7605 - mae: 6.7605\n",
            "Epoch 53/100\n",
            "1/1 [==============================] - 0s 21ms/step - loss: 6.7598 - mae: 6.7598\n",
            "Epoch 54/100\n",
            "1/1 [==============================] - 0s 13ms/step - loss: 6.7590 - mae: 6.7590\n",
            "Epoch 55/100\n",
            "1/1 [==============================] - 0s 21ms/step - loss: 6.7583 - mae: 6.7583\n",
            "Epoch 56/100\n",
            "1/1 [==============================] - 0s 19ms/step - loss: 6.7575 - mae: 6.7575\n",
            "Epoch 57/100\n",
            "1/1 [==============================] - 0s 18ms/step - loss: 6.7568 - mae: 6.7568\n",
            "Epoch 58/100\n",
            "1/1 [==============================] - 0s 16ms/step - loss: 6.7560 - mae: 6.7560\n",
            "Epoch 59/100\n",
            "1/1 [==============================] - 0s 17ms/step - loss: 6.7553 - mae: 6.7553\n",
            "Epoch 60/100\n",
            "1/1 [==============================] - 0s 15ms/step - loss: 6.7545 - mae: 6.7545\n",
            "Epoch 61/100\n",
            "1/1 [==============================] - 0s 11ms/step - loss: 6.7538 - mae: 6.7538\n",
            "Epoch 62/100\n",
            "1/1 [==============================] - 0s 10ms/step - loss: 6.7530 - mae: 6.7530\n",
            "Epoch 63/100\n",
            "1/1 [==============================] - 0s 10ms/step - loss: 6.7523 - mae: 6.7523\n",
            "Epoch 64/100\n",
            "1/1 [==============================] - 0s 10ms/step - loss: 6.7515 - mae: 6.7515\n",
            "Epoch 65/100\n",
            "1/1 [==============================] - 0s 21ms/step - loss: 6.7508 - mae: 6.7508\n",
            "Epoch 66/100\n",
            "1/1 [==============================] - 0s 13ms/step - loss: 6.7500 - mae: 6.7500\n",
            "Epoch 67/100\n",
            "1/1 [==============================] - 0s 13ms/step - loss: 6.7493 - mae: 6.7493\n",
            "Epoch 68/100\n",
            "1/1 [==============================] - 0s 15ms/step - loss: 6.7485 - mae: 6.7485\n",
            "Epoch 69/100\n",
            "1/1 [==============================] - 0s 11ms/step - loss: 6.7478 - mae: 6.7478\n",
            "Epoch 70/100\n",
            "1/1 [==============================] - 0s 14ms/step - loss: 6.7470 - mae: 6.7470\n",
            "Epoch 71/100\n",
            "1/1 [==============================] - 0s 15ms/step - loss: 6.7463 - mae: 6.7463\n",
            "Epoch 72/100\n",
            "1/1 [==============================] - 0s 11ms/step - loss: 6.7455 - mae: 6.7455\n",
            "Epoch 73/100\n",
            "1/1 [==============================] - 0s 14ms/step - loss: 6.7448 - mae: 6.7448\n",
            "Epoch 74/100\n",
            "1/1 [==============================] - 0s 17ms/step - loss: 6.7440 - mae: 6.7440\n",
            "Epoch 75/100\n",
            "1/1 [==============================] - 0s 14ms/step - loss: 6.7433 - mae: 6.7433\n",
            "Epoch 76/100\n",
            "1/1 [==============================] - 0s 12ms/step - loss: 6.7425 - mae: 6.7425\n",
            "Epoch 77/100\n",
            "1/1 [==============================] - 0s 12ms/step - loss: 6.7418 - mae: 6.7418\n",
            "Epoch 78/100\n",
            "1/1 [==============================] - 0s 19ms/step - loss: 6.7410 - mae: 6.7410\n",
            "Epoch 79/100\n",
            "1/1 [==============================] - 0s 16ms/step - loss: 6.7403 - mae: 6.7403\n",
            "Epoch 80/100\n",
            "1/1 [==============================] - 0s 13ms/step - loss: 6.7395 - mae: 6.7395\n",
            "Epoch 81/100\n",
            "1/1 [==============================] - 0s 19ms/step - loss: 6.7388 - mae: 6.7388\n",
            "Epoch 82/100\n",
            "1/1 [==============================] - 0s 31ms/step - loss: 6.7380 - mae: 6.7380\n",
            "Epoch 83/100\n",
            "1/1 [==============================] - 0s 16ms/step - loss: 6.7373 - mae: 6.7373\n",
            "Epoch 84/100\n",
            "1/1 [==============================] - 0s 25ms/step - loss: 6.7365 - mae: 6.7365\n",
            "Epoch 85/100\n",
            "1/1 [==============================] - 0s 20ms/step - loss: 6.7358 - mae: 6.7358\n",
            "Epoch 86/100\n",
            "1/1 [==============================] - 0s 12ms/step - loss: 6.7350 - mae: 6.7350\n",
            "Epoch 87/100\n",
            "1/1 [==============================] - 0s 15ms/step - loss: 6.7343 - mae: 6.7343\n",
            "Epoch 88/100\n",
            "1/1 [==============================] - 0s 14ms/step - loss: 6.7335 - mae: 6.7335\n",
            "Epoch 89/100\n",
            "1/1 [==============================] - 0s 14ms/step - loss: 6.7327 - mae: 6.7327\n",
            "Epoch 90/100\n",
            "1/1 [==============================] - 0s 18ms/step - loss: 6.7320 - mae: 6.7320\n",
            "Epoch 91/100\n",
            "1/1 [==============================] - 0s 22ms/step - loss: 6.7312 - mae: 6.7312\n",
            "Epoch 92/100\n",
            "1/1 [==============================] - 0s 13ms/step - loss: 6.7305 - mae: 6.7305\n",
            "Epoch 93/100\n",
            "1/1 [==============================] - 0s 15ms/step - loss: 6.7297 - mae: 6.7297\n",
            "Epoch 94/100\n",
            "1/1 [==============================] - 0s 12ms/step - loss: 6.7290 - mae: 6.7290\n",
            "Epoch 95/100\n",
            "1/1 [==============================] - 0s 14ms/step - loss: 6.7282 - mae: 6.7282\n",
            "Epoch 96/100\n",
            "1/1 [==============================] - 0s 15ms/step - loss: 6.7275 - mae: 6.7275\n",
            "Epoch 97/100\n",
            "1/1 [==============================] - 0s 10ms/step - loss: 6.7267 - mae: 6.7267\n",
            "Epoch 98/100\n",
            "1/1 [==============================] - 0s 14ms/step - loss: 6.7260 - mae: 6.7260\n",
            "Epoch 99/100\n",
            "1/1 [==============================] - 0s 9ms/step - loss: 6.7252 - mae: 6.7252\n",
            "Epoch 100/100\n",
            "1/1 [==============================] - 0s 20ms/step - loss: 6.7245 - mae: 6.7245\n"
          ]
        },
        {
          "output_type": "execute_result",
          "data": {
            "text/plain": [
              "<keras.callbacks.History at 0x7f4a9441a530>"
            ]
          },
          "metadata": {},
          "execution_count": 19
        }
      ]
    },
    {
      "cell_type": "code",
      "source": [
        "X, y"
      ],
      "metadata": {
        "colab": {
          "base_uri": "https://localhost:8080/"
        },
        "id": "0jvPIIW7l0iJ",
        "outputId": "0d769312-c43e-4519-8b5c-432cb1bf55b6"
      },
      "execution_count": 20,
      "outputs": [
        {
          "output_type": "execute_result",
          "data": {
            "text/plain": [
              "(<tf.Tensor: shape=(8,), dtype=float32, numpy=array([-7., -4., -1.,  2.,  5.,  8., 11., 14.], dtype=float32)>,\n",
              " <tf.Tensor: shape=(8,), dtype=float32, numpy=array([ 3.,  6.,  9., 12., 15., 18., 21., 24.], dtype=float32)>)"
            ]
          },
          "metadata": {},
          "execution_count": 20
        }
      ]
    },
    {
      "cell_type": "code",
      "source": [
        "# Predict w/ newer model\n",
        "model.predict([17.0])"
      ],
      "metadata": {
        "colab": {
          "base_uri": "https://localhost:8080/"
        },
        "id": "9m6TVuPJmIxF",
        "outputId": "8560e0f5-8c53-48b2-f96a-586306fdf4bd"
      },
      "execution_count": 21,
      "outputs": [
        {
          "output_type": "stream",
          "name": "stdout",
          "text": [
            "1/1 [==============================] - 0s 376ms/step\n"
          ]
        },
        {
          "output_type": "execute_result",
          "data": {
            "text/plain": [
              "array([[29.830467]], dtype=float32)"
            ]
          },
          "metadata": {},
          "execution_count": 21
        }
      ]
    },
    {
      "cell_type": "markdown",
      "source": [
        "## Evaluating a model\n",
        "\n",
        "Build model --> fit model --> evaluate it --> tweak model --> Repeat...\n",
        "\n",
        "Visualizing is very important:\n",
        "- The data: what does data look like?\n",
        "- The model - what does model look like?\n",
        "- The training of a model- how does model perform while it learns?\n",
        "- The predictions of the model - how does the model's predictions line up w/ original labels or expected outcomes"
      ],
      "metadata": {
        "id": "KHaaoOJzmMfS"
      }
    },
    {
      "cell_type": "code",
      "source": [
        " # Make bigger dataset\n",
        " X = tf.range(-100, 100, 4)\n",
        " X"
      ],
      "metadata": {
        "colab": {
          "base_uri": "https://localhost:8080/"
        },
        "id": "n6eHZBW2n23N",
        "outputId": "68b51057-6941-4745-a70d-cce4ea1b75f4"
      },
      "execution_count": 22,
      "outputs": [
        {
          "output_type": "execute_result",
          "data": {
            "text/plain": [
              "<tf.Tensor: shape=(50,), dtype=int32, numpy=\n",
              "array([-100,  -96,  -92,  -88,  -84,  -80,  -76,  -72,  -68,  -64,  -60,\n",
              "        -56,  -52,  -48,  -44,  -40,  -36,  -32,  -28,  -24,  -20,  -16,\n",
              "        -12,   -8,   -4,    0,    4,    8,   12,   16,   20,   24,   28,\n",
              "         32,   36,   40,   44,   48,   52,   56,   60,   64,   68,   72,\n",
              "         76,   80,   84,   88,   92,   96], dtype=int32)>"
            ]
          },
          "metadata": {},
          "execution_count": 22
        }
      ]
    },
    {
      "cell_type": "code",
      "source": [
        "# Make labels for dataset\n",
        "y = X + 10\n",
        "y"
      ],
      "metadata": {
        "colab": {
          "base_uri": "https://localhost:8080/"
        },
        "id": "AbvdwKL2p259",
        "outputId": "74ecf5ce-a4cf-42ae-bd1c-72b2ae60f528"
      },
      "execution_count": 23,
      "outputs": [
        {
          "output_type": "execute_result",
          "data": {
            "text/plain": [
              "<tf.Tensor: shape=(50,), dtype=int32, numpy=\n",
              "array([-90, -86, -82, -78, -74, -70, -66, -62, -58, -54, -50, -46, -42,\n",
              "       -38, -34, -30, -26, -22, -18, -14, -10,  -6,  -2,   2,   6,  10,\n",
              "        14,  18,  22,  26,  30,  34,  38,  42,  46,  50,  54,  58,  62,\n",
              "        66,  70,  74,  78,  82,  86,  90,  94,  98, 102, 106], dtype=int32)>"
            ]
          },
          "metadata": {},
          "execution_count": 23
        }
      ]
    },
    {
      "cell_type": "code",
      "source": [
        "# Visualize data\n",
        "\n",
        "import matplotlib.pyplot as plt\n",
        "plt.scatter(X, y)"
      ],
      "metadata": {
        "colab": {
          "base_uri": "https://localhost:8080/",
          "height": 447
        },
        "id": "r_mp3zGFp_cH",
        "outputId": "b2debe31-d9cb-48d5-9f3f-115003c78e2c"
      },
      "execution_count": 24,
      "outputs": [
        {
          "output_type": "execute_result",
          "data": {
            "text/plain": [
              "<matplotlib.collections.PathCollection at 0x7f4a94e32dd0>"
            ]
          },
          "metadata": {},
          "execution_count": 24
        },
        {
          "output_type": "display_data",
          "data": {
            "text/plain": [
              "<Figure size 640x480 with 1 Axes>"
            ],
            "image/png": "[encoded data removed]"
          },
          "metadata": {}
        }
      ]
    },
    {
      "cell_type": "markdown",
      "source": [
        "### The 3 sets: \n",
        "\n",
        "- **Training set** - model learns from data, typically 70-80% of total data available\n",
        "- **Validation set** - model is tuned based on this data, 10-15% of available data\n",
        "- **Test set** - model is evaluated on data to test what it has learned, typically 10-15% of total available data"
      ],
      "metadata": {
        "id": "LN6svG2TqIxD"
      }
    },
    {
      "cell_type": "code",
      "source": [
        "# Check length of num of samples\n",
        "len(X)"
      ],
      "metadata": {
        "colab": {
          "base_uri": "https://localhost:8080/"
        },
        "id": "YML8l712rMP8",
        "outputId": "380214a6-74e0-4561-84a5-3f61a782c71b"
      },
      "execution_count": 25,
      "outputs": [
        {
          "output_type": "execute_result",
          "data": {
            "text/plain": [
              "50"
            ]
          },
          "metadata": {},
          "execution_count": 25
        }
      ]
    },
    {
      "cell_type": "code",
      "source": [
        "# Split data into test and train sets\n",
        "X_train = X[:40] # first 40 training samples(80% of total data)\n",
        "y_train = y[:40]\n",
        "\n",
        "X_test = X[40:] # last testing samples (20% of total data)\n",
        "y_test = y[40:]\n",
        "\n",
        "len(X_train), len(X_test), len(y_train), len(y_test)"
      ],
      "metadata": {
        "colab": {
          "base_uri": "https://localhost:8080/"
        },
        "id": "K5AoYbr8rfxn",
        "outputId": "1796e850-3f4f-4f5b-ecb6-1e465b7d31c9"
      },
      "execution_count": 26,
      "outputs": [
        {
          "output_type": "execute_result",
          "data": {
            "text/plain": [
              "(40, 10, 40, 10)"
            ]
          },
          "metadata": {},
          "execution_count": 26
        }
      ]
    },
    {
      "cell_type": "markdown",
      "source": [
        "### Visualizing data in newly created training and test sets\n"
      ],
      "metadata": {
        "id": "c_2HqvE-saM2"
      }
    },
    {
      "cell_type": "code",
      "source": [
        "plt.figure(figsize=(10, 7))\n",
        "# Plot training data in blue\n",
        "plt.scatter(X_train, y_train, c=\"b\", label=\"Training data\") # model learns on training data\n",
        "# Plot test data in green\n",
        "plt.scatter(X_test, y_test, c=\"g\", label=\"Testing data\") # moedl tested on testing data\n",
        "# Show legend\n",
        "plt.legend()"
      ],
      "metadata": {
        "colab": {
          "base_uri": "https://localhost:8080/",
          "height": 616
        },
        "id": "VRsiwzy2sf1q",
        "outputId": "95914133-e049-4d50-ffae-f18ea65c012a"
      },
      "execution_count": 27,
      "outputs": [
        {
          "output_type": "execute_result",
          "data": {
            "text/plain": [
              "<matplotlib.legend.Legend at 0x7f4a9428fdc0>"
            ]
          },
          "metadata": {},
          "execution_count": 27
        },
        {
          "output_type": "display_data",
          "data": {
            "text/plain": [
              "<Figure size 1000x700 with 1 Axes>"
            ],
            "image/png": "[encoded data removed]"
          },
          "metadata": {}
        }
      ]
    },
    {
      "cell_type": "code",
      "source": [
        "# 1. Create model\n",
        "model = tf.keras.Sequential([\n",
        "    tf.keras.layers.Dense(1)\n",
        "])\n",
        "\n",
        "#2. Compile model\n",
        "model.compile(loss=tf.keras.losses.mae,\n",
        "              optimizer=tf.keras.optimizers.SGD(),\n",
        "              metrics=[\"mae\"])\n",
        "\n",
        "#3. Fit model\n",
        "#model.fit(X_train, y_train, epochs=100) #Fit model only on training"
      ],
      "metadata": {
        "id": "1uBhpSZws9mo"
      },
      "execution_count": 28,
      "outputs": []
    },
    {
      "cell_type": "markdown",
      "source": [
        "### Visualizing the model"
      ],
      "metadata": {
        "id": "yYcJVrsd7oEO"
      }
    },
    {
      "cell_type": "code",
      "source": [
        "model.summary()"
      ],
      "metadata": {
        "colab": {
          "base_uri": "https://localhost:8080/",
          "height": 305
        },
        "id": "2IaKafO07q5S",
        "outputId": "01b4c536-ccad-4816-ad7f-26e78a6584ef"
      },
      "execution_count": 29,
      "outputs": [
        {
          "output_type": "error",
          "ename": "ValueError",
          "evalue": "ignored",
          "traceback": [
            "\u001b[0;31m---------------------------------------------------------------------------\u001b[0m",
            "\u001b[0;31mValueError\u001b[0m                                Traceback (most recent call last)",
            "\u001b[0;32m<ipython-input-29-5f15418b3570>\u001b[0m in \u001b[0;36m<cell line: 1>\u001b[0;34m()\u001b[0m\n\u001b[0;32m----> 1\u001b[0;31m \u001b[0mmodel\u001b[0m\u001b[0;34m.\u001b[0m\u001b[0msummary\u001b[0m\u001b[0;34m(\u001b[0m\u001b[0;34m)\u001b[0m\u001b[0;34m\u001b[0m\u001b[0;34m\u001b[0m\u001b[0m\n\u001b[0m",
            "\u001b[0;32m/usr/local/lib/python3.10/dist-packages/keras/engine/training.py\u001b[0m in \u001b[0;36msummary\u001b[0;34m(self, line_length, positions, print_fn, expand_nested, show_trainable, layer_range)\u001b[0m\n\u001b[1;32m   3227\u001b[0m         \"\"\"\n\u001b[1;32m   3228\u001b[0m         \u001b[0;32mif\u001b[0m \u001b[0;32mnot\u001b[0m \u001b[0mself\u001b[0m\u001b[0;34m.\u001b[0m\u001b[0mbuilt\u001b[0m\u001b[0;34m:\u001b[0m\u001b[0;34m\u001b[0m\u001b[0;34m\u001b[0m\u001b[0m\n\u001b[0;32m-> 3229\u001b[0;31m             raise ValueError(\n\u001b[0m\u001b[1;32m   3230\u001b[0m                 \u001b[0;34m\"This model has not yet been built. \"\u001b[0m\u001b[0;34m\u001b[0m\u001b[0;34m\u001b[0m\u001b[0m\n\u001b[1;32m   3231\u001b[0m                 \u001b[0;34m\"Build the model first by calling `build()` or by calling \"\u001b[0m\u001b[0;34m\u001b[0m\u001b[0;34m\u001b[0m\u001b[0m\n",
            "\u001b[0;31mValueError\u001b[0m: This model has not yet been built. Build the model first by calling `build()` or by calling the model on a batch of data."
          ]
        }
      ]
    },
    {
      "cell_type": "code",
      "source": [
        "# Create model which builds automatically by defining input_shape arg in first layer\n",
        "tf.random.set_seed(42)\n",
        "\n",
        "# 1. Create model\n",
        "model = tf.keras.Sequential([\n",
        "    tf.keras.layers.Dense(1, input_shape=[1]) # input_shape = 1 b/c both X[0] and y[0] are scalars w/ shape of [1] or 1 number\n",
        "])\n",
        "\n",
        "# 2. Compile model\n",
        "model.compile(loss = tf.keras.losses.mae,\n",
        "              optimizer=tf.keras.optimizers.SGD(),\n",
        "              metrics=[\"mae\"])"
      ],
      "metadata": {
        "id": "Mt94-2Hi7tBa"
      },
      "execution_count": 31,
      "outputs": []
    },
    {
      "cell_type": "code",
      "source": [
        "model.summary()"
      ],
      "metadata": {
        "colab": {
          "base_uri": "https://localhost:8080/"
        },
        "id": "bjNCVH_671Ow",
        "outputId": "2a8e94d1-25d0-4633-da56-6872a45f235a"
      },
      "execution_count": 32,
      "outputs": [
        {
          "output_type": "stream",
          "name": "stdout",
          "text": [
            "Model: \"sequential_5\"\n",
            "_________________________________________________________________\n",
            " Layer (type)                Output Shape              Param #   \n",
            "=================================================================\n",
            " dense_6 (Dense)             (None, 1)                 2         \n",
            "                                                                 \n",
            "=================================================================\n",
            "Total params: 2\n",
            "Trainable params: 2\n",
            "Non-trainable params: 0\n",
            "_________________________________________________________________\n"
          ]
        }
      ]
    },
    {
      "cell_type": "markdown",
      "source": [
        "- Total params - total # of params in model\n",
        "- Trainable params - params (patterns) model can update as it trains\n",
        "- Non-trainable params - params aren't updated during training (typical when importing already learned patterns or params through **transfer learning**)"
      ],
      "metadata": {
        "id": "8EY2kcTa8w9M"
      }
    },
    {
      "cell_type": "code",
      "source": [
        "# Experimenting w/ # of hidden layers and trainable params/total params\n",
        "tf.random.set_seed(42)\n",
        "\n",
        "# 1. Create model\n",
        "model = tf.keras.Sequential([\n",
        "   tf.keras.layers.Dense(10, input_shape=[1], name = \"input_layer\"), #input_shape = 1 b/c both X[0] and y[0] are scalars w/ shape of [1] or 1 number\n",
        "   tf.keras.layers.Dense(1, name=\"output_layer\")\n",
        "], name = \"model_1\")\n",
        "\n",
        "# 2. Compile model\n",
        "model.compile(loss = tf.keras.losses.mae,\n",
        "              optimizer=tf.keras.optimizers.SGD(),\n",
        "              metrics=[\"mae\"])\n",
        "model.summary()"
      ],
      "metadata": {
        "colab": {
          "base_uri": "https://localhost:8080/"
        },
        "id": "60O7tPxq_O52",
        "outputId": "18c4217e-bb66-4862-face-91b5cd6e4d4d"
      },
      "execution_count": 33,
      "outputs": [
        {
          "output_type": "stream",
          "name": "stdout",
          "text": [
            "Model: \"model_1\"\n",
            "_________________________________________________________________\n",
            " Layer (type)                Output Shape              Param #   \n",
            "=================================================================\n",
            " input_layer (Dense)         (None, 10)                20        \n",
            "                                                                 \n",
            " output_layer (Dense)        (None, 1)                 11        \n",
            "                                                                 \n",
            "=================================================================\n",
            "Total params: 31\n",
            "Trainable params: 31\n",
            "Non-trainable params: 0\n",
            "_________________________________________________________________\n"
          ]
        }
      ]
    },
    {
      "cell_type": "markdown",
      "source": [
        "For every hidden layer added there are 2 trainable params per layer b/c number of layers * 2 = total params"
      ],
      "metadata": {
        "id": "GTntjzGV_fE1"
      }
    },
    {
      "cell_type": "code",
      "source": [
        "# Fitting original model to trianing\n",
        "model.fit(X_train, y_train, epochs=100, verbose=2)"
      ],
      "metadata": {
        "colab": {
          "base_uri": "https://localhost:8080/"
        },
        "id": "YYZaWEqj-zvO",
        "outputId": "1d6a2bae-3359-48dd-f8e9-00312acfd476"
      },
      "execution_count": 34,
      "outputs": [
        {
          "output_type": "stream",
          "name": "stdout",
          "text": [
            "Epoch 1/100\n",
            "2/2 - 0s - loss: 12.5901 - mae: 12.5901 - 434ms/epoch - 217ms/step\n",
            "Epoch 2/100\n",
            "2/2 - 0s - loss: 18.3358 - mae: 18.3358 - 11ms/epoch - 6ms/step\n",
            "Epoch 3/100\n",
            "2/2 - 0s - loss: 22.0424 - mae: 22.0424 - 10ms/epoch - 5ms/step\n",
            "Epoch 4/100\n",
            "2/2 - 0s - loss: 12.7650 - mae: 12.7650 - 10ms/epoch - 5ms/step\n",
            "Epoch 5/100\n",
            "2/2 - 0s - loss: 15.7703 - mae: 15.7703 - 11ms/epoch - 6ms/step\n",
            "Epoch 6/100\n",
            "2/2 - 0s - loss: 12.4968 - mae: 12.4968 - 8ms/epoch - 4ms/step\n",
            "Epoch 7/100\n",
            "2/2 - 0s - loss: 11.7623 - mae: 11.7623 - 7ms/epoch - 4ms/step\n",
            "Epoch 8/100\n",
            "2/2 - 0s - loss: 12.1220 - mae: 12.1220 - 7ms/epoch - 4ms/step\n",
            "Epoch 9/100\n",
            "2/2 - 0s - loss: 38.1905 - mae: 38.1905 - 9ms/epoch - 4ms/step\n",
            "Epoch 10/100\n",
            "2/2 - 0s - loss: 25.7514 - mae: 25.7514 - 8ms/epoch - 4ms/step\n",
            "Epoch 11/100\n",
            "2/2 - 0s - loss: 10.2391 - mae: 10.2391 - 8ms/epoch - 4ms/step\n",
            "Epoch 12/100\n",
            "2/2 - 0s - loss: 25.2425 - mae: 25.2425 - 8ms/epoch - 4ms/step\n",
            "Epoch 13/100\n",
            "2/2 - 0s - loss: 17.1113 - mae: 17.1113 - 8ms/epoch - 4ms/step\n",
            "Epoch 14/100\n",
            "2/2 - 0s - loss: 26.3410 - mae: 26.3410 - 8ms/epoch - 4ms/step\n",
            "Epoch 15/100\n",
            "2/2 - 0s - loss: 16.8339 - mae: 16.8339 - 8ms/epoch - 4ms/step\n",
            "Epoch 16/100\n",
            "2/2 - 0s - loss: 9.8075 - mae: 9.8075 - 9ms/epoch - 4ms/step\n",
            "Epoch 17/100\n",
            "2/2 - 0s - loss: 17.5840 - mae: 17.5840 - 7ms/epoch - 4ms/step\n",
            "Epoch 18/100\n",
            "2/2 - 0s - loss: 14.0672 - mae: 14.0672 - 7ms/epoch - 3ms/step\n",
            "Epoch 19/100\n",
            "2/2 - 0s - loss: 13.9043 - mae: 13.9043 - 9ms/epoch - 5ms/step\n",
            "Epoch 20/100\n",
            "2/2 - 0s - loss: 11.1792 - mae: 11.1792 - 9ms/epoch - 5ms/step\n",
            "Epoch 21/100\n",
            "2/2 - 0s - loss: 17.2264 - mae: 17.2264 - 9ms/epoch - 5ms/step\n",
            "Epoch 22/100\n",
            "2/2 - 0s - loss: 15.4649 - mae: 15.4649 - 10ms/epoch - 5ms/step\n",
            "Epoch 23/100\n",
            "2/2 - 0s - loss: 9.2350 - mae: 9.2350 - 7ms/epoch - 4ms/step\n",
            "Epoch 24/100\n",
            "2/2 - 0s - loss: 17.2758 - mae: 17.2758 - 8ms/epoch - 4ms/step\n",
            "Epoch 25/100\n",
            "2/2 - 0s - loss: 15.9434 - mae: 15.9434 - 7ms/epoch - 4ms/step\n",
            "Epoch 26/100\n",
            "2/2 - 0s - loss: 20.9469 - mae: 20.9469 - 13ms/epoch - 6ms/step\n",
            "Epoch 27/100\n",
            "2/2 - 0s - loss: 25.9240 - mae: 25.9240 - 11ms/epoch - 5ms/step\n",
            "Epoch 28/100\n",
            "2/2 - 0s - loss: 18.4268 - mae: 18.4268 - 9ms/epoch - 5ms/step\n",
            "Epoch 29/100\n",
            "2/2 - 0s - loss: 9.2335 - mae: 9.2335 - 9ms/epoch - 5ms/step\n",
            "Epoch 30/100\n",
            "2/2 - 0s - loss: 29.0478 - mae: 29.0478 - 9ms/epoch - 4ms/step\n",
            "Epoch 31/100\n",
            "2/2 - 0s - loss: 52.6059 - mae: 52.6059 - 7ms/epoch - 4ms/step\n",
            "Epoch 32/100\n",
            "2/2 - 0s - loss: 11.9035 - mae: 11.9035 - 8ms/epoch - 4ms/step\n",
            "Epoch 33/100\n",
            "2/2 - 0s - loss: 15.4919 - mae: 15.4919 - 8ms/epoch - 4ms/step\n",
            "Epoch 34/100\n",
            "2/2 - 0s - loss: 12.5897 - mae: 12.5897 - 7ms/epoch - 4ms/step\n",
            "Epoch 35/100\n",
            "2/2 - 0s - loss: 9.1903 - mae: 9.1903 - 7ms/epoch - 4ms/step\n",
            "Epoch 36/100\n",
            "2/2 - 0s - loss: 16.4836 - mae: 16.4836 - 8ms/epoch - 4ms/step\n",
            "Epoch 37/100\n",
            "2/2 - 0s - loss: 11.0765 - mae: 11.0765 - 8ms/epoch - 4ms/step\n",
            "Epoch 38/100\n",
            "2/2 - 0s - loss: 18.2054 - mae: 18.2054 - 7ms/epoch - 4ms/step\n",
            "Epoch 39/100\n",
            "2/2 - 0s - loss: 19.1371 - mae: 19.1371 - 7ms/epoch - 4ms/step\n",
            "Epoch 40/100\n",
            "2/2 - 0s - loss: 20.4982 - mae: 20.4982 - 8ms/epoch - 4ms/step\n",
            "Epoch 41/100\n",
            "2/2 - 0s - loss: 14.8159 - mae: 14.8159 - 9ms/epoch - 4ms/step\n",
            "Epoch 42/100\n",
            "2/2 - 0s - loss: 12.2104 - mae: 12.2104 - 8ms/epoch - 4ms/step\n",
            "Epoch 43/100\n",
            "2/2 - 0s - loss: 10.6933 - mae: 10.6933 - 8ms/epoch - 4ms/step\n",
            "Epoch 44/100\n",
            "2/2 - 0s - loss: 32.3449 - mae: 32.3449 - 8ms/epoch - 4ms/step\n",
            "Epoch 45/100\n",
            "2/2 - 0s - loss: 12.4805 - mae: 12.4805 - 10ms/epoch - 5ms/step\n",
            "Epoch 46/100\n",
            "2/2 - 0s - loss: 17.5792 - mae: 17.5792 - 9ms/epoch - 4ms/step\n",
            "Epoch 47/100\n",
            "2/2 - 0s - loss: 15.7266 - mae: 15.7266 - 7ms/epoch - 3ms/step\n",
            "Epoch 48/100\n",
            "2/2 - 0s - loss: 8.3538 - mae: 8.3538 - 8ms/epoch - 4ms/step\n",
            "Epoch 49/100\n",
            "2/2 - 0s - loss: 13.9556 - mae: 13.9556 - 8ms/epoch - 4ms/step\n",
            "Epoch 50/100\n",
            "2/2 - 0s - loss: 12.8018 - mae: 12.8018 - 8ms/epoch - 4ms/step\n",
            "Epoch 51/100\n",
            "2/2 - 0s - loss: 14.8162 - mae: 14.8162 - 7ms/epoch - 4ms/step\n",
            "Epoch 52/100\n",
            "2/2 - 0s - loss: 18.7042 - mae: 18.7042 - 7ms/epoch - 4ms/step\n",
            "Epoch 53/100\n",
            "2/2 - 0s - loss: 24.1340 - mae: 24.1340 - 7ms/epoch - 4ms/step\n",
            "Epoch 54/100\n",
            "2/2 - 0s - loss: 23.2571 - mae: 23.2571 - 8ms/epoch - 4ms/step\n",
            "Epoch 55/100\n",
            "2/2 - 0s - loss: 24.1220 - mae: 24.1220 - 7ms/epoch - 3ms/step\n",
            "Epoch 56/100\n",
            "2/2 - 0s - loss: 11.1820 - mae: 11.1820 - 7ms/epoch - 3ms/step\n",
            "Epoch 57/100\n",
            "2/2 - 0s - loss: 13.1500 - mae: 13.1500 - 7ms/epoch - 4ms/step\n",
            "Epoch 58/100\n",
            "2/2 - 0s - loss: 9.8279 - mae: 9.8279 - 7ms/epoch - 4ms/step\n",
            "Epoch 59/100\n",
            "2/2 - 0s - loss: 13.3488 - mae: 13.3488 - 7ms/epoch - 4ms/step\n",
            "Epoch 60/100\n",
            "2/2 - 0s - loss: 10.8926 - mae: 10.8926 - 7ms/epoch - 4ms/step\n",
            "Epoch 61/100\n",
            "2/2 - 0s - loss: 13.5112 - mae: 13.5112 - 8ms/epoch - 4ms/step\n",
            "Epoch 62/100\n",
            "2/2 - 0s - loss: 17.5897 - mae: 17.5897 - 8ms/epoch - 4ms/step\n",
            "Epoch 63/100\n",
            "2/2 - 0s - loss: 9.1727 - mae: 9.1727 - 11ms/epoch - 5ms/step\n",
            "Epoch 64/100\n",
            "2/2 - 0s - loss: 18.4640 - mae: 18.4640 - 12ms/epoch - 6ms/step\n",
            "Epoch 65/100\n",
            "2/2 - 0s - loss: 10.1296 - mae: 10.1296 - 10ms/epoch - 5ms/step\n",
            "Epoch 66/100\n",
            "2/2 - 0s - loss: 24.3565 - mae: 24.3565 - 6ms/epoch - 3ms/step\n",
            "Epoch 67/100\n",
            "2/2 - 0s - loss: 10.9136 - mae: 10.9136 - 7ms/epoch - 4ms/step\n",
            "Epoch 68/100\n",
            "2/2 - 0s - loss: 10.7877 - mae: 10.7877 - 7ms/epoch - 3ms/step\n",
            "Epoch 69/100\n",
            "2/2 - 0s - loss: 23.3669 - mae: 23.3669 - 8ms/epoch - 4ms/step\n",
            "Epoch 70/100\n",
            "2/2 - 0s - loss: 8.7912 - mae: 8.7912 - 7ms/epoch - 4ms/step\n",
            "Epoch 71/100\n",
            "2/2 - 0s - loss: 15.9384 - mae: 15.9384 - 8ms/epoch - 4ms/step\n",
            "Epoch 72/100\n",
            "2/2 - 0s - loss: 8.1135 - mae: 8.1135 - 8ms/epoch - 4ms/step\n",
            "Epoch 73/100\n",
            "2/2 - 0s - loss: 9.4550 - mae: 9.4550 - 9ms/epoch - 5ms/step\n",
            "Epoch 74/100\n",
            "2/2 - 0s - loss: 28.1206 - mae: 28.1206 - 8ms/epoch - 4ms/step\n",
            "Epoch 75/100\n",
            "2/2 - 0s - loss: 10.2276 - mae: 10.2276 - 7ms/epoch - 4ms/step\n",
            "Epoch 76/100\n",
            "2/2 - 0s - loss: 13.1855 - mae: 13.1855 - 8ms/epoch - 4ms/step\n",
            "Epoch 77/100\n",
            "2/2 - 0s - loss: 18.7032 - mae: 18.7032 - 10ms/epoch - 5ms/step\n",
            "Epoch 78/100\n",
            "2/2 - 0s - loss: 8.8313 - mae: 8.8313 - 7ms/epoch - 4ms/step\n",
            "Epoch 79/100\n",
            "2/2 - 0s - loss: 27.0966 - mae: 27.0966 - 8ms/epoch - 4ms/step\n",
            "Epoch 80/100\n",
            "2/2 - 0s - loss: 30.6617 - mae: 30.6617 - 8ms/epoch - 4ms/step\n",
            "Epoch 81/100\n",
            "2/2 - 0s - loss: 13.1788 - mae: 13.1788 - 10ms/epoch - 5ms/step\n",
            "Epoch 82/100\n",
            "2/2 - 0s - loss: 14.6019 - mae: 14.6019 - 10ms/epoch - 5ms/step\n",
            "Epoch 83/100\n",
            "2/2 - 0s - loss: 18.6409 - mae: 18.6409 - 9ms/epoch - 4ms/step\n",
            "Epoch 84/100\n",
            "2/2 - 0s - loss: 9.4142 - mae: 9.4142 - 9ms/epoch - 4ms/step\n",
            "Epoch 85/100\n",
            "2/2 - 0s - loss: 25.0378 - mae: 25.0378 - 8ms/epoch - 4ms/step\n",
            "Epoch 86/100\n",
            "2/2 - 0s - loss: 17.1250 - mae: 17.1250 - 8ms/epoch - 4ms/step\n",
            "Epoch 87/100\n",
            "2/2 - 0s - loss: 11.0267 - mae: 11.0267 - 8ms/epoch - 4ms/step\n",
            "Epoch 88/100\n",
            "2/2 - 0s - loss: 24.7968 - mae: 24.7968 - 8ms/epoch - 4ms/step\n",
            "Epoch 89/100\n",
            "2/2 - 0s - loss: 9.6675 - mae: 9.6675 - 8ms/epoch - 4ms/step\n",
            "Epoch 90/100\n",
            "2/2 - 0s - loss: 18.8039 - mae: 18.8039 - 8ms/epoch - 4ms/step\n",
            "Epoch 91/100\n",
            "2/2 - 0s - loss: 10.5077 - mae: 10.5077 - 10ms/epoch - 5ms/step\n",
            "Epoch 92/100\n",
            "2/2 - 0s - loss: 18.0327 - mae: 18.0327 - 11ms/epoch - 6ms/step\n",
            "Epoch 93/100\n",
            "2/2 - 0s - loss: 6.5821 - mae: 6.5821 - 9ms/epoch - 4ms/step\n",
            "Epoch 94/100\n",
            "2/2 - 0s - loss: 11.1573 - mae: 11.1573 - 8ms/epoch - 4ms/step\n",
            "Epoch 95/100\n",
            "2/2 - 0s - loss: 24.4009 - mae: 24.4009 - 9ms/epoch - 4ms/step\n",
            "Epoch 96/100\n",
            "2/2 - 0s - loss: 10.7637 - mae: 10.7637 - 11ms/epoch - 5ms/step\n",
            "Epoch 97/100\n",
            "2/2 - 0s - loss: 15.3846 - mae: 15.3846 - 12ms/epoch - 6ms/step\n",
            "Epoch 98/100\n",
            "2/2 - 0s - loss: 8.2720 - mae: 8.2720 - 10ms/epoch - 5ms/step\n",
            "Epoch 99/100\n",
            "2/2 - 0s - loss: 16.5445 - mae: 16.5445 - 9ms/epoch - 5ms/step\n",
            "Epoch 100/100\n",
            "2/2 - 0s - loss: 14.3265 - mae: 14.3265 - 9ms/epoch - 5ms/step\n"
          ]
        },
        {
          "output_type": "execute_result",
          "data": {
            "text/plain": [
              "<keras.callbacks.History at 0x7f4a94eb2170>"
            ]
          },
          "metadata": {},
          "execution_count": 34
        }
      ]
    },
    {
      "cell_type": "code",
      "source": [
        "from tensorflow.keras.utils import plot_model\n",
        "\n",
        "plot_model(model=model, show_shapes=True)"
      ],
      "metadata": {
        "colab": {
          "base_uri": "https://localhost:8080/",
          "height": 312
        },
        "id": "TO3ci-GhgOGM",
        "outputId": "3eef839a-2e11-48c1-abfc-7f1440b16b11"
      },
      "execution_count": 35,
      "outputs": [
        {
          "output_type": "execute_result",
          "data": {
            "image/png": "[encoded data removed]",
            "text/plain": [
              "<IPython.core.display.Image object>"
            ]
          },
          "metadata": {},
          "execution_count": 35
        }
      ]
    },
    {
      "cell_type": "code",
      "source": [
        "# Get summary of model\n",
        "model.summary()"
      ],
      "metadata": {
        "colab": {
          "base_uri": "https://localhost:8080/"
        },
        "id": "E-nPInR2h94s",
        "outputId": "4825bfaf-5431-4b00-86d0-cd5d899f5c1c"
      },
      "execution_count": 36,
      "outputs": [
        {
          "output_type": "stream",
          "name": "stdout",
          "text": [
            "Model: \"model_1\"\n",
            "_________________________________________________________________\n",
            " Layer (type)                Output Shape              Param #   \n",
            "=================================================================\n",
            " input_layer (Dense)         (None, 10)                20        \n",
            "                                                                 \n",
            " output_layer (Dense)        (None, 1)                 11        \n",
            "                                                                 \n",
            "=================================================================\n",
            "Total params: 31\n",
            "Trainable params: 31\n",
            "Non-trainable params: 0\n",
            "_________________________________________________________________\n"
          ]
        }
      ]
    },
    {
      "cell_type": "markdown",
      "source": [
        "### More model visualization and experimentation"
      ],
      "metadata": {
        "id": "-QGf6rUfikE0"
      }
    },
    {
      "cell_type": "code",
      "source": [
        "# Experimenting w/ # of hidden layers and trainable params/total params\n",
        "tf.random.set_seed(42)\n",
        "\n",
        "# 1. Create model\n",
        "model = tf.keras.Sequential([\n",
        "   tf.keras.layers.Dense(10, input_shape=[1], name = \"input_layer\"), #input_shape = 1 b/c both X[0] and y[0] are scalars w/ shape of [1] or 1 number\n",
        "   tf.keras.layers.Dense(100, name=\"hidden_layer1\"),\n",
        "   tf.keras.layers.Dense(10, name=\"hidden_layer2\"),\n",
        "   tf.keras.layers.Dense(1, name=\"output_layer1\")\n",
        "], name = \"model_2\")\n",
        "\n",
        "# 2. Compile model\n",
        "model.compile(loss = tf.keras.losses.mae,\n",
        "              optimizer=tf.keras.optimizers.SGD(),\n",
        "              metrics=[\"mae\"])\n",
        "model.summary()"
      ],
      "metadata": {
        "colab": {
          "base_uri": "https://localhost:8080/"
        },
        "id": "r-LkhodRijyj",
        "outputId": "ce052515-198d-4ee9-bf72-81a42e9bfbbf"
      },
      "execution_count": 37,
      "outputs": [
        {
          "output_type": "stream",
          "name": "stdout",
          "text": [
            "Model: \"model_2\"\n",
            "_________________________________________________________________\n",
            " Layer (type)                Output Shape              Param #   \n",
            "=================================================================\n",
            " input_layer (Dense)         (None, 10)                20        \n",
            "                                                                 \n",
            " hidden_layer1 (Dense)       (None, 100)               1100      \n",
            "                                                                 \n",
            " hidden_layer2 (Dense)       (None, 10)                1010      \n",
            "                                                                 \n",
            " output_layer1 (Dense)       (None, 1)                 11        \n",
            "                                                                 \n",
            "=================================================================\n",
            "Total params: 2,141\n",
            "Trainable params: 2,141\n",
            "Non-trainable params: 0\n",
            "_________________________________________________________________\n"
          ]
        }
      ]
    },
    {
      "cell_type": "code",
      "source": [
        "plot_model(model=model, show_shapes=True)"
      ],
      "metadata": {
        "colab": {
          "base_uri": "https://localhost:8080/",
          "height": 533
        },
        "id": "en_xKdxmkV4i",
        "outputId": "49565a8f-e777-40a3-809a-b8b6e6a0ad1a"
      },
      "execution_count": 38,
      "outputs": [
        {
          "output_type": "execute_result",
          "data": {
            "image/png": "[encoded data removed]",
            "text/plain": [
              "<IPython.core.display.Image object>"
            ]
          },
          "metadata": {},
          "execution_count": 38
        }
      ]
    },
    {
      "cell_type": "markdown",
      "source": [
        "### Visualizing model predictions\n",
        "\n",
        "(Predictions from the original model from cell 75)\n",
        "\n",
        "To visualize predictions: plot predictions vs actual values.\n",
        "\n",
        "'y_test' or 'y_pred' vs 'y_pred' (actual vs model predictions)"
      ],
      "metadata": {
        "id": "7hXwfsxNiAuU"
      }
    },
    {
      "cell_type": "code",
      "source": [
        "# Making predictions\n",
        "y_pred = model.predict(X_test)\n",
        "y_pred"
      ],
      "metadata": {
        "colab": {
          "base_uri": "https://localhost:8080/"
        },
        "id": "zeBKQLoqiOfm",
        "outputId": "b465a416-5b3b-45a5-bd5c-5eceec87462f"
      },
      "execution_count": 39,
      "outputs": [
        {
          "output_type": "stream",
          "name": "stdout",
          "text": [
            "1/1 [==============================] - 0s 73ms/step\n"
          ]
        },
        {
          "output_type": "execute_result",
          "data": {
            "text/plain": [
              "array([[-10.924352],\n",
              "       [-11.65263 ],\n",
              "       [-12.380944],\n",
              "       [-13.109217],\n",
              "       [-13.837503],\n",
              "       [-14.565804],\n",
              "       [-15.294094],\n",
              "       [-16.022387],\n",
              "       [-16.75068 ],\n",
              "       [-17.478962]], dtype=float32)"
            ]
          },
          "metadata": {},
          "execution_count": 39
        }
      ]
    },
    {
      "cell_type": "code",
      "source": [
        "y_test"
      ],
      "metadata": {
        "colab": {
          "base_uri": "https://localhost:8080/"
        },
        "id": "MPpfyV9vlCA3",
        "outputId": "c3dea0c4-9c89-4c0a-fbd3-d3f4b1ba0240"
      },
      "execution_count": 40,
      "outputs": [
        {
          "output_type": "execute_result",
          "data": {
            "text/plain": [
              "<tf.Tensor: shape=(10,), dtype=int32, numpy=array([ 70,  74,  78,  82,  86,  90,  94,  98, 102, 106], dtype=int32)>"
            ]
          },
          "metadata": {},
          "execution_count": 40
        }
      ]
    },
    {
      "cell_type": "code",
      "source": [
        "# Creating plot function\n",
        "def plot_predictions(train_data=X_train,\n",
        "                     train_labels=y_train,\n",
        "                     test_data=X_test,\n",
        "                     test_labels=y_test,\n",
        "                     predictions=y_pred):\n",
        "\n",
        "  \"\"\" \n",
        "  Plots training data, test data and compares predictions to actual value\n",
        "  \"\"\"\n",
        "  plt.figure(figsize=(10,7))\n",
        "  # Plot training data in blue\n",
        "  plt.scatter(train_data, train_labels, c=\"b\", label=\"Training data\")\n",
        "  # Plot testing data in green\n",
        "  plt.scatter(test_data, test_labels, c=\"g\", label=\"Testing data\")\n",
        "  # Plot model's predictions in red\n",
        "  plt.scatter(test_data, predictions, c=\"r\", label=\"Predictions\")\n",
        "  # Show legend\n",
        "  plt.legend()"
      ],
      "metadata": {
        "id": "LbLATlMLlD_b"
      },
      "execution_count": 41,
      "outputs": []
    },
    {
      "cell_type": "code",
      "source": [
        "plot_predictions(train_data=X_train,\n",
        "                 train_labels=y_train,\n",
        "                 test_data=X_test,\n",
        "                 test_labels=y_test,\n",
        "                 predictions=y_pred\n",
        "                 )"
      ],
      "metadata": {
        "colab": {
          "base_uri": "https://localhost:8080/",
          "height": 599
        },
        "id": "JwmDSPqQmVht",
        "outputId": "88286a7c-2a00-4e6f-e8d0-ae10e5903d59"
      },
      "execution_count": 42,
      "outputs": [
        {
          "output_type": "display_data",
          "data": {
            "text/plain": [
              "<Figure size 1000x700 with 1 Axes>"
            ],
            "image/png": "[encoded data removed]"
          },
          "metadata": {}
        }
      ]
    },
    {
      "cell_type": "markdown",
      "source": [
        "### Evaluating model's predictions w/ regression evaluation metrics\n",
        "\n",
        "Depending on problem, there will be diff evaluation metrics to evaluate model's performance. \n",
        "\n",
        "Current problem: regression problem, therefore 2 of the main metrics are:\n",
        "- MAE - mean absolute error, \"On avg how wrong is each model's prediction\"\n",
        "- MSE - mean square error, \"square avg errors\" (when larger errors are more significant than smaller errors)\n",
        "- Huber - combination of MSE and MAE (less sensitive to outliers than MSE)"
      ],
      "metadata": {
        "id": "la94hpxCma3x"
      }
    },
    {
      "cell_type": "code",
      "source": [
        "# Evaluate model on test set\n",
        "model.evaluate(X_test, y_test)"
      ],
      "metadata": {
        "colab": {
          "base_uri": "https://localhost:8080/"
        },
        "id": "mYKGtAnCo6Ta",
        "outputId": "a16c8044-8e04-4ce4-8ac9-f4287bfff906"
      },
      "execution_count": 43,
      "outputs": [
        {
          "output_type": "stream",
          "name": "stdout",
          "text": [
            "1/1 [==============================] - 0s 246ms/step - loss: 102.2017 - mae: 102.2017\n"
          ]
        },
        {
          "output_type": "execute_result",
          "data": {
            "text/plain": [
              "[102.20166015625, 102.20166015625]"
            ]
          },
          "metadata": {},
          "execution_count": 43
        }
      ]
    },
    {
      "cell_type": "code",
      "source": [
        "y_pred"
      ],
      "metadata": {
        "colab": {
          "base_uri": "https://localhost:8080/"
        },
        "id": "2NbWa9yIquu6",
        "outputId": "91087e72-9416-42a8-8272-a2eb07613f69"
      },
      "execution_count": 44,
      "outputs": [
        {
          "output_type": "execute_result",
          "data": {
            "text/plain": [
              "array([[-10.924352],\n",
              "       [-11.65263 ],\n",
              "       [-12.380944],\n",
              "       [-13.109217],\n",
              "       [-13.837503],\n",
              "       [-14.565804],\n",
              "       [-15.294094],\n",
              "       [-16.022387],\n",
              "       [-16.75068 ],\n",
              "       [-17.478962]], dtype=float32)"
            ]
          },
          "metadata": {},
          "execution_count": 44
        }
      ]
    },
    {
      "cell_type": "code",
      "source": [
        "y_test"
      ],
      "metadata": {
        "colab": {
          "base_uri": "https://localhost:8080/"
        },
        "id": "tAqbHZnNq6jr",
        "outputId": "c1507481-5633-4122-9933-00d7154bbdfb"
      },
      "execution_count": 45,
      "outputs": [
        {
          "output_type": "execute_result",
          "data": {
            "text/plain": [
              "<tf.Tensor: shape=(10,), dtype=int32, numpy=array([ 70,  74,  78,  82,  86,  90,  94,  98, 102, 106], dtype=int32)>"
            ]
          },
          "metadata": {},
          "execution_count": 45
        }
      ]
    },
    {
      "cell_type": "code",
      "source": [
        "# Calculate mean absolute error\n",
        "mae = tf.keras.losses.MAE(y_true=y_test, y_pred=tf.constant(y_pred))\n",
        "mae"
      ],
      "metadata": {
        "colab": {
          "base_uri": "https://localhost:8080/"
        },
        "id": "3Lh_ogjAq7vK",
        "outputId": "1caf8184-ce07-4da4-f9d6-5d0af56a48db"
      },
      "execution_count": 46,
      "outputs": [
        {
          "output_type": "execute_result",
          "data": {
            "text/plain": [
              "<tf.Tensor: shape=(10,), dtype=float32, numpy=\n",
              "array([ 98.924355,  99.65263 , 100.38094 , 101.109215, 101.8375  ,\n",
              "       102.56581 , 103.29409 , 104.022385, 104.75069 , 105.47896 ],\n",
              "      dtype=float32)>"
            ]
          },
          "metadata": {},
          "execution_count": 46
        }
      ]
    },
    {
      "cell_type": "markdown",
      "source": [
        "Doesn't seem to be working right b/c it isn't outputting the same value as above in the evaluate model call (cell 99)"
      ],
      "metadata": {
        "id": "utI5wExUuZzl"
      }
    },
    {
      "cell_type": "code",
      "source": [
        "tf.constant(y_pred)"
      ],
      "metadata": {
        "colab": {
          "base_uri": "https://localhost:8080/"
        },
        "id": "XrEH6S6dtpdx",
        "outputId": "fa4fbf52-f5ee-49f1-8fc9-6de745807f8b"
      },
      "execution_count": 47,
      "outputs": [
        {
          "output_type": "execute_result",
          "data": {
            "text/plain": [
              "<tf.Tensor: shape=(10, 1), dtype=float32, numpy=\n",
              "array([[-10.924352],\n",
              "       [-11.65263 ],\n",
              "       [-12.380944],\n",
              "       [-13.109217],\n",
              "       [-13.837503],\n",
              "       [-14.565804],\n",
              "       [-15.294094],\n",
              "       [-16.022387],\n",
              "       [-16.75068 ],\n",
              "       [-17.478962]], dtype=float32)>"
            ]
          },
          "metadata": {},
          "execution_count": 47
        }
      ]
    },
    {
      "cell_type": "code",
      "source": [
        "y_test"
      ],
      "metadata": {
        "colab": {
          "base_uri": "https://localhost:8080/"
        },
        "id": "Fod6fWxBtsgU",
        "outputId": "93ba19f6-d37f-4990-e65d-3a600d44c087"
      },
      "execution_count": 48,
      "outputs": [
        {
          "output_type": "execute_result",
          "data": {
            "text/plain": [
              "<tf.Tensor: shape=(10,), dtype=int32, numpy=array([ 70,  74,  78,  82,  86,  90,  94,  98, 102, 106], dtype=int32)>"
            ]
          },
          "metadata": {},
          "execution_count": 48
        }
      ]
    },
    {
      "cell_type": "markdown",
      "source": [
        "**Shape of y_test and y_pred tensor isn't equal therefore that is messing w/ calculating the MAE**"
      ],
      "metadata": {
        "id": "kPVrwv9yuk18"
      }
    },
    {
      "cell_type": "code",
      "source": [
        "# Squeeze shape of y_pred tensor to get its shape to be same as y_test tensor\n",
        "tf.squeeze(y_pred)"
      ],
      "metadata": {
        "colab": {
          "base_uri": "https://localhost:8080/"
        },
        "id": "Svo8XrnMtxOj",
        "outputId": "56fa426d-0518-4edb-a8c6-a5656d0a23c6"
      },
      "execution_count": 49,
      "outputs": [
        {
          "output_type": "execute_result",
          "data": {
            "text/plain": [
              "<tf.Tensor: shape=(10,), dtype=float32, numpy=\n",
              "array([-10.924352, -11.65263 , -12.380944, -13.109217, -13.837503,\n",
              "       -14.565804, -15.294094, -16.022387, -16.75068 , -17.478962],\n",
              "      dtype=float32)>"
            ]
          },
          "metadata": {},
          "execution_count": 49
        }
      ]
    },
    {
      "cell_type": "code",
      "source": [
        "# Calculate mean absolute error\n",
        "mae = tf.metrics.mean_absolute_error(y_true=y_test, y_pred=tf.squeeze(y_pred))\n",
        "mae"
      ],
      "metadata": {
        "colab": {
          "base_uri": "https://localhost:8080/"
        },
        "id": "OKXvu_nPuD70",
        "outputId": "23bddae0-6948-4d3f-c815-2fd03e16c705"
      },
      "execution_count": 50,
      "outputs": [
        {
          "output_type": "execute_result",
          "data": {
            "text/plain": [
              "<tf.Tensor: shape=(), dtype=float32, numpy=102.20166>"
            ]
          },
          "metadata": {},
          "execution_count": 50
        }
      ]
    },
    {
      "cell_type": "code",
      "source": [
        "# Calculate mean square error\n",
        "mse = tf.keras.losses.MSE(y_true=y_test, y_pred=tf.squeeze(y_pred))\n",
        "mse"
      ],
      "metadata": {
        "colab": {
          "base_uri": "https://localhost:8080/"
        },
        "id": "jhDZLqNUrLbI",
        "outputId": "12782221-2bd5-43dc-d398-e45a93098e2b"
      },
      "execution_count": 51,
      "outputs": [
        {
          "output_type": "execute_result",
          "data": {
            "text/plain": [
              "<tf.Tensor: shape=(), dtype=float32, numpy=10629.622>"
            ]
          },
          "metadata": {},
          "execution_count": 51
        }
      ]
    },
    {
      "cell_type": "code",
      "source": [
        "# Make functions to reuse MAE and MSE\n",
        "def mae(y_true, y_pred):\n",
        "  return tf.metrics.mean_absolute_error(y_true=y_true,\n",
        "                                        y_pred=tf.squeeze(y_pred))\n",
        "\n",
        "def mse(y_true, y_pred):\n",
        "  return tf.metrics.mean_squared_error(y_true=y_true,\n",
        "                                        y_pred=tf.squeeze(y_pred))"
      ],
      "metadata": {
        "id": "bP67DJwqrWNq"
      },
      "execution_count": 52,
      "outputs": []
    },
    {
      "cell_type": "markdown",
      "source": [
        "### Running experiments to improve model\n",
        "\n",
        "How to improve model:\n",
        "1. Get more data - more examples for model to train on (more opportunities to learn patterns or relationships b/w features and labels).\n",
        "2. Make model larger (using a more complex model) - more layers or more hidden units per layer.\n",
        "3. Train longer - give model more time/data to find patterns in data.\n",
        "\n",
        "3 modelling experiments that are done in section below:\n",
        "1. 'model_1' - same as original model, 1 layer, trained for 100 epochs.\n",
        "2. 'model_2' - 2 layers, trained for 100 epochs\n",
        "3. 'model_3' - 2 layers, trained for 500 epochs\n",
        "4. 'model_4' - \n",
        "5. 'model_5' - "
      ],
      "metadata": {
        "id": "ja2TJmHLvZeZ"
      }
    },
    {
      "cell_type": "code",
      "source": [
        "X_train, y_train"
      ],
      "metadata": {
        "colab": {
          "base_uri": "https://localhost:8080/"
        },
        "id": "_W3k-0uHxRZy",
        "outputId": "81865841-fb1a-4d63-b88a-18fb7795392a"
      },
      "execution_count": 53,
      "outputs": [
        {
          "output_type": "execute_result",
          "data": {
            "text/plain": [
              "(<tf.Tensor: shape=(40,), dtype=int32, numpy=\n",
              " array([-100,  -96,  -92,  -88,  -84,  -80,  -76,  -72,  -68,  -64,  -60,\n",
              "         -56,  -52,  -48,  -44,  -40,  -36,  -32,  -28,  -24,  -20,  -16,\n",
              "         -12,   -8,   -4,    0,    4,    8,   12,   16,   20,   24,   28,\n",
              "          32,   36,   40,   44,   48,   52,   56], dtype=int32)>,\n",
              " <tf.Tensor: shape=(40,), dtype=int32, numpy=\n",
              " array([-90, -86, -82, -78, -74, -70, -66, -62, -58, -54, -50, -46, -42,\n",
              "        -38, -34, -30, -26, -22, -18, -14, -10,  -6,  -2,   2,   6,  10,\n",
              "         14,  18,  22,  26,  30,  34,  38,  42,  46,  50,  54,  58,  62,\n",
              "         66], dtype=int32)>)"
            ]
          },
          "metadata": {},
          "execution_count": 53
        }
      ]
    },
    {
      "cell_type": "code",
      "source": [
        "# Set random seed for reproducibility\n",
        "tf.random.set_seed(42)\n",
        "\n",
        "# 1. Create model\n",
        "model_1 = tf.keras.Sequential([\n",
        "    tf.keras.layers.Dense(1)\n",
        "])\n",
        "\n",
        "# 2. Compile model\n",
        "model_1.compile(loss=tf.keras.losses.mae,\n",
        "                optimizer=tf.keras.optimizers.SGD(),\n",
        "                metrics=[\"mae\"])\n",
        "\n",
        "# 3. Fit model\n",
        "model_1.fit(tf.expand_dims(X_train, -1), y_train, epochs=100)"
      ],
      "metadata": {
        "colab": {
          "base_uri": "https://localhost:8080/"
        },
        "id": "QCK4N-Env_GJ",
        "outputId": "40fb1cd2-9703-49a8-ef97-3aa96606b474"
      },
      "execution_count": 54,
      "outputs": [
        {
          "output_type": "stream",
          "name": "stdout",
          "text": [
            "Epoch 1/100\n",
            "2/2 [==============================] - 0s 11ms/step - loss: 97.9962 - mae: 97.9962\n",
            "Epoch 2/100\n",
            "2/2 [==============================] - 0s 7ms/step - loss: 62.5407 - mae: 62.5407\n",
            "Epoch 3/100\n",
            "2/2 [==============================] - 0s 9ms/step - loss: 25.4406 - mae: 25.4406\n",
            "Epoch 4/100\n",
            "2/2 [==============================] - 0s 6ms/step - loss: 11.6723 - mae: 11.6723\n",
            "Epoch 5/100\n",
            "2/2 [==============================] - 0s 9ms/step - loss: 13.0704 - mae: 13.0704\n",
            "Epoch 6/100\n",
            "2/2 [==============================] - 0s 6ms/step - loss: 7.6740 - mae: 7.6740\n",
            "Epoch 7/100\n",
            "2/2 [==============================] - 0s 7ms/step - loss: 13.3093 - mae: 13.3093\n",
            "Epoch 8/100\n",
            "2/2 [==============================] - 0s 10ms/step - loss: 7.7736 - mae: 7.7736\n",
            "Epoch 9/100\n",
            "2/2 [==============================] - 0s 8ms/step - loss: 19.9321 - mae: 19.9321\n",
            "Epoch 10/100\n",
            "2/2 [==============================] - 0s 8ms/step - loss: 13.7593 - mae: 13.7593\n",
            "Epoch 11/100\n",
            "2/2 [==============================] - 0s 5ms/step - loss: 11.8436 - mae: 11.8436\n",
            "Epoch 12/100\n",
            "2/2 [==============================] - 0s 7ms/step - loss: 16.3800 - mae: 16.3800\n",
            "Epoch 13/100\n",
            "2/2 [==============================] - 0s 9ms/step - loss: 11.9328 - mae: 11.9328\n",
            "Epoch 14/100\n",
            "2/2 [==============================] - 0s 7ms/step - loss: 13.8502 - mae: 13.8502\n",
            "Epoch 15/100\n",
            "2/2 [==============================] - 0s 7ms/step - loss: 11.2381 - mae: 11.2381\n",
            "Epoch 16/100\n",
            "2/2 [==============================] - 0s 7ms/step - loss: 8.6240 - mae: 8.6240\n",
            "Epoch 17/100\n",
            "2/2 [==============================] - 0s 7ms/step - loss: 13.7985 - mae: 13.7985\n",
            "Epoch 18/100\n",
            "2/2 [==============================] - 0s 7ms/step - loss: 11.6598 - mae: 11.6598\n",
            "Epoch 19/100\n",
            "2/2 [==============================] - 0s 6ms/step - loss: 17.7349 - mae: 17.7349\n",
            "Epoch 20/100\n",
            "2/2 [==============================] - 0s 7ms/step - loss: 14.8709 - mae: 14.8709\n",
            "Epoch 21/100\n",
            "2/2 [==============================] - 0s 7ms/step - loss: 10.7835 - mae: 10.7835\n",
            "Epoch 22/100\n",
            "2/2 [==============================] - 0s 6ms/step - loss: 8.5252 - mae: 8.5252\n",
            "Epoch 23/100\n",
            "2/2 [==============================] - 0s 7ms/step - loss: 9.8180 - mae: 9.8180\n",
            "Epoch 24/100\n",
            "2/2 [==============================] - 0s 7ms/step - loss: 10.8814 - mae: 10.8814\n",
            "Epoch 25/100\n",
            "2/2 [==============================] - 0s 6ms/step - loss: 9.1486 - mae: 9.1486\n",
            "Epoch 26/100\n",
            "2/2 [==============================] - 0s 6ms/step - loss: 13.1106 - mae: 13.1106\n",
            "Epoch 27/100\n",
            "2/2 [==============================] - 0s 7ms/step - loss: 10.4414 - mae: 10.4414\n",
            "Epoch 28/100\n",
            "2/2 [==============================] - 0s 7ms/step - loss: 13.4538 - mae: 13.4538\n",
            "Epoch 29/100\n",
            "2/2 [==============================] - 0s 7ms/step - loss: 9.6452 - mae: 9.6452\n",
            "Epoch 30/100\n",
            "2/2 [==============================] - 0s 7ms/step - loss: 17.2791 - mae: 17.2791\n",
            "Epoch 31/100\n",
            "2/2 [==============================] - 0s 7ms/step - loss: 22.8129 - mae: 22.8129\n",
            "Epoch 32/100\n",
            "2/2 [==============================] - 0s 8ms/step - loss: 7.9453 - mae: 7.9453\n",
            "Epoch 33/100\n",
            "2/2 [==============================] - 0s 7ms/step - loss: 14.1997 - mae: 14.1997\n",
            "Epoch 34/100\n",
            "2/2 [==============================] - 0s 6ms/step - loss: 12.4576 - mae: 12.4576\n",
            "Epoch 35/100\n",
            "2/2 [==============================] - 0s 7ms/step - loss: 8.2724 - mae: 8.2724\n",
            "Epoch 36/100\n",
            "2/2 [==============================] - 0s 7ms/step - loss: 10.4811 - mae: 10.4811\n",
            "Epoch 37/100\n",
            "2/2 [==============================] - 0s 6ms/step - loss: 10.1319 - mae: 10.1319\n",
            "Epoch 38/100\n",
            "2/2 [==============================] - 0s 7ms/step - loss: 11.3079 - mae: 11.3079\n",
            "Epoch 39/100\n",
            "2/2 [==============================] - 0s 9ms/step - loss: 14.8237 - mae: 14.8237\n",
            "Epoch 40/100\n",
            "2/2 [==============================] - 0s 8ms/step - loss: 12.9535 - mae: 12.9535\n",
            "Epoch 41/100\n",
            "2/2 [==============================] - 0s 7ms/step - loss: 9.3503 - mae: 9.3503\n",
            "Epoch 42/100\n",
            "2/2 [==============================] - 0s 7ms/step - loss: 10.9978 - mae: 10.9978\n",
            "Epoch 43/100\n",
            "2/2 [==============================] - 0s 7ms/step - loss: 8.3547 - mae: 8.3547\n",
            "Epoch 44/100\n",
            "2/2 [==============================] - 0s 7ms/step - loss: 13.0094 - mae: 13.0094\n",
            "Epoch 45/100\n",
            "2/2 [==============================] - 0s 8ms/step - loss: 13.7502 - mae: 13.7502\n",
            "Epoch 46/100\n",
            "2/2 [==============================] - 0s 6ms/step - loss: 8.4497 - mae: 8.4497\n",
            "Epoch 47/100\n",
            "2/2 [==============================] - 0s 7ms/step - loss: 9.1927 - mae: 9.1927\n",
            "Epoch 48/100\n",
            "2/2 [==============================] - 0s 10ms/step - loss: 10.6955 - mae: 10.6955\n",
            "Epoch 49/100\n",
            "2/2 [==============================] - 0s 7ms/step - loss: 7.8047 - mae: 7.8047\n",
            "Epoch 50/100\n",
            "2/2 [==============================] - 0s 7ms/step - loss: 9.6120 - mae: 9.6120\n",
            "Epoch 51/100\n",
            "2/2 [==============================] - 0s 8ms/step - loss: 9.1959 - mae: 9.1959\n",
            "Epoch 52/100\n",
            "2/2 [==============================] - 0s 6ms/step - loss: 16.4666 - mae: 16.4666\n",
            "Epoch 53/100\n",
            "2/2 [==============================] - 0s 8ms/step - loss: 14.1095 - mae: 14.1095\n",
            "Epoch 54/100\n",
            "2/2 [==============================] - 0s 8ms/step - loss: 21.0340 - mae: 21.0340\n",
            "Epoch 55/100\n",
            "2/2 [==============================] - 0s 7ms/step - loss: 16.4962 - mae: 16.4962\n",
            "Epoch 56/100\n",
            "2/2 [==============================] - 0s 8ms/step - loss: 9.8955 - mae: 9.8955\n",
            "Epoch 57/100\n",
            "2/2 [==============================] - 0s 7ms/step - loss: 9.6815 - mae: 9.6815\n",
            "Epoch 58/100\n",
            "2/2 [==============================] - 0s 13ms/step - loss: 9.0029 - mae: 9.0029\n",
            "Epoch 59/100\n",
            "2/2 [==============================] - 0s 7ms/step - loss: 10.2095 - mae: 10.2095\n",
            "Epoch 60/100\n",
            "2/2 [==============================] - 0s 7ms/step - loss: 8.4494 - mae: 8.4494\n",
            "Epoch 61/100\n",
            "2/2 [==============================] - 0s 7ms/step - loss: 9.2878 - mae: 9.2878\n",
            "Epoch 62/100\n",
            "2/2 [==============================] - 0s 7ms/step - loss: 7.1029 - mae: 7.1029\n",
            "Epoch 63/100\n",
            "2/2 [==============================] - 0s 10ms/step - loss: 8.6794 - mae: 8.6794\n",
            "Epoch 64/100\n",
            "2/2 [==============================] - 0s 6ms/step - loss: 9.2568 - mae: 9.2568\n",
            "Epoch 65/100\n",
            "2/2 [==============================] - 0s 6ms/step - loss: 10.5188 - mae: 10.5188\n",
            "Epoch 66/100\n",
            "2/2 [==============================] - 0s 12ms/step - loss: 15.6559 - mae: 15.6559\n",
            "Epoch 67/100\n",
            "2/2 [==============================] - 0s 9ms/step - loss: 10.0574 - mae: 10.0574\n",
            "Epoch 68/100\n",
            "2/2 [==============================] - 0s 12ms/step - loss: 9.0390 - mae: 9.0390\n",
            "Epoch 69/100\n",
            "2/2 [==============================] - 0s 6ms/step - loss: 12.5280 - mae: 12.5280\n",
            "Epoch 70/100\n",
            "2/2 [==============================] - 0s 7ms/step - loss: 9.0125 - mae: 9.0125\n",
            "Epoch 71/100\n",
            "2/2 [==============================] - 0s 6ms/step - loss: 9.9900 - mae: 9.9900\n",
            "Epoch 72/100\n",
            "2/2 [==============================] - 0s 8ms/step - loss: 10.0216 - mae: 10.0216\n",
            "Epoch 73/100\n",
            "2/2 [==============================] - 0s 6ms/step - loss: 12.5137 - mae: 12.5137\n",
            "Epoch 74/100\n",
            "2/2 [==============================] - 0s 7ms/step - loss: 10.5451 - mae: 10.5451\n",
            "Epoch 75/100\n",
            "2/2 [==============================] - 0s 7ms/step - loss: 9.6832 - mae: 9.6832\n",
            "Epoch 76/100\n",
            "2/2 [==============================] - 0s 7ms/step - loss: 11.1607 - mae: 11.1607\n",
            "Epoch 77/100\n",
            "2/2 [==============================] - 0s 7ms/step - loss: 8.3283 - mae: 8.3283\n",
            "Epoch 78/100\n",
            "2/2 [==============================] - 0s 8ms/step - loss: 9.0418 - mae: 9.0418\n",
            "Epoch 79/100\n",
            "2/2 [==============================] - 0s 7ms/step - loss: 19.7224 - mae: 19.7224\n",
            "Epoch 80/100\n",
            "2/2 [==============================] - 0s 7ms/step - loss: 17.8964 - mae: 17.8964\n",
            "Epoch 81/100\n",
            "2/2 [==============================] - 0s 7ms/step - loss: 7.0779 - mae: 7.0779\n",
            "Epoch 82/100\n",
            "2/2 [==============================] - 0s 7ms/step - loss: 10.4667 - mae: 10.4667\n",
            "Epoch 83/100\n",
            "2/2 [==============================] - 0s 7ms/step - loss: 9.8981 - mae: 9.8981\n",
            "Epoch 84/100\n",
            "2/2 [==============================] - 0s 8ms/step - loss: 7.9425 - mae: 7.9425\n",
            "Epoch 85/100\n",
            "2/2 [==============================] - 0s 6ms/step - loss: 9.4383 - mae: 9.4383\n",
            "Epoch 86/100\n",
            "2/2 [==============================] - 0s 6ms/step - loss: 9.2645 - mae: 9.2645\n",
            "Epoch 87/100\n",
            "2/2 [==============================] - 0s 6ms/step - loss: 12.0384 - mae: 12.0384\n",
            "Epoch 88/100\n",
            "2/2 [==============================] - 0s 7ms/step - loss: 10.6585 - mae: 10.6585\n",
            "Epoch 89/100\n",
            "2/2 [==============================] - 0s 7ms/step - loss: 7.2896 - mae: 7.2896\n",
            "Epoch 90/100\n",
            "2/2 [==============================] - 0s 6ms/step - loss: 12.7978 - mae: 12.7978\n",
            "Epoch 91/100\n",
            "2/2 [==============================] - 0s 6ms/step - loss: 7.3712 - mae: 7.3712\n",
            "Epoch 92/100\n",
            "2/2 [==============================] - 0s 6ms/step - loss: 7.7415 - mae: 7.7415\n",
            "Epoch 93/100\n",
            "2/2 [==============================] - 0s 6ms/step - loss: 7.1499 - mae: 7.1499\n",
            "Epoch 94/100\n",
            "2/2 [==============================] - 0s 7ms/step - loss: 12.6387 - mae: 12.6387\n",
            "Epoch 95/100\n",
            "2/2 [==============================] - 0s 6ms/step - loss: 10.0157 - mae: 10.0157\n",
            "Epoch 96/100\n",
            "2/2 [==============================] - 0s 7ms/step - loss: 9.1428 - mae: 9.1428\n",
            "Epoch 97/100\n",
            "2/2 [==============================] - 0s 7ms/step - loss: 12.0408 - mae: 12.0408\n",
            "Epoch 98/100\n",
            "2/2 [==============================] - 0s 7ms/step - loss: 9.1598 - mae: 9.1598\n",
            "Epoch 99/100\n",
            "2/2 [==============================] - 0s 6ms/step - loss: 8.5092 - mae: 8.5092\n",
            "Epoch 100/100\n",
            "2/2 [==============================] - 0s 7ms/step - loss: 14.3820 - mae: 14.3820\n"
          ]
        },
        {
          "output_type": "execute_result",
          "data": {
            "text/plain": [
              "<keras.callbacks.History at 0x7f4a941330d0>"
            ]
          },
          "metadata": {},
          "execution_count": 54
        }
      ]
    },
    {
      "cell_type": "code",
      "source": [
        "# Make and plot predictions for model_1\n",
        "y_preds_1 = model_1.predict(X_test)\n",
        "plot_predictions(predictions=y_preds_1)"
      ],
      "metadata": {
        "colab": {
          "base_uri": "https://localhost:8080/",
          "height": 654
        },
        "id": "GWXiaInBwAuV",
        "outputId": "afeb2d44-12b7-4091-fdd3-cd746820a936"
      },
      "execution_count": 55,
      "outputs": [
        {
          "output_type": "stream",
          "name": "stderr",
          "text": [
            "WARNING:tensorflow:5 out of the last 5 calls to <function Model.make_predict_function.<locals>.predict_function at 0x7f4a945c65f0> triggered tf.function retracing. Tracing is expensive and the excessive number of tracings could be due to (1) creating @tf.function repeatedly in a loop, (2) passing tensors with different shapes, (3) passing Python objects instead of tensors. For (1), please define your @tf.function outside of the loop. For (2), @tf.function has reduce_retracing=True option that can avoid unnecessary retracing. For (3), please refer to https://www.tensorflow.org/guide/function#controlling_retracing and https://www.tensorflow.org/api_docs/python/tf/function for  more details.\n"
          ]
        },
        {
          "output_type": "stream",
          "name": "stdout",
          "text": [
            "1/1 [==============================] - 0s 90ms/step\n"
          ]
        },
        {
          "output_type": "display_data",
          "data": {
            "text/plain": [
              "<Figure size 1000x700 with 1 Axes>"
            ],
            "image/png": "[encoded data removed]"
          },
          "metadata": {}
        }
      ]
    },
    {
      "cell_type": "code",
      "source": [
        "# Calculate mode_1 evaluation metrics\n",
        "mae_1 = mae(y_test, y_preds_1)\n",
        "mse_1 = mse(y_test, y_preds_1)\n",
        "mae_1, mse_1"
      ],
      "metadata": {
        "colab": {
          "base_uri": "https://localhost:8080/"
        },
        "id": "LQVZLDhyyJs8",
        "outputId": "0cd83355-265e-455a-f542-e9e73c6991ab"
      },
      "execution_count": 56,
      "outputs": [
        {
          "output_type": "execute_result",
          "data": {
            "text/plain": [
              "(<tf.Tensor: shape=(), dtype=float32, numpy=30.902328>,\n",
              " <tf.Tensor: shape=(), dtype=float32, numpy=965.6092>)"
            ]
          },
          "metadata": {},
          "execution_count": 56
        }
      ]
    },
    {
      "cell_type": "markdown",
      "source": [
        "**model_2**\n",
        "\n",
        "- 2 dense layers created for 100 epochs"
      ],
      "metadata": {
        "id": "Wji14Mzzy5Np"
      }
    },
    {
      "cell_type": "code",
      "source": [
        "# Set random seed\n",
        "tf.random.set_seed(42)\n",
        "\n",
        "# 1. Create model\n",
        "model_2 = tf.keras.Sequential([\n",
        "    tf.keras.layers.Dense(10),\n",
        "    tf.keras.layers.Dense(1)\n",
        "])\n",
        "\n",
        "# 2. Compile model\n",
        "model_2.compile(loss=tf.keras.losses.mae,\n",
        "                optimizer=tf.keras.optimizers.SGD(),\n",
        "                metrics=[\"mse\"])\n",
        "\n",
        "# 3. Fit model\n",
        "model_2.fit(tf.expand_dims(X_train, -1), y_train, epochs=100)"
      ],
      "metadata": {
        "colab": {
          "base_uri": "https://localhost:8080/"
        },
        "id": "n1htlLjfzOkH",
        "outputId": "f39fa412-f82a-43b4-e501-3c76e33b36af"
      },
      "execution_count": 57,
      "outputs": [
        {
          "output_type": "stream",
          "name": "stdout",
          "text": [
            "Epoch 1/100\n",
            "2/2 [==============================] - 1s 17ms/step - loss: 45.6457 - mse: 3187.9502\n",
            "Epoch 2/100\n",
            "2/2 [==============================] - 0s 11ms/step - loss: 26.2287 - mse: 1095.0966\n",
            "Epoch 3/100\n",
            "2/2 [==============================] - 0s 8ms/step - loss: 16.2311 - mse: 372.0373\n",
            "Epoch 4/100\n",
            "2/2 [==============================] - 0s 8ms/step - loss: 14.1230 - mse: 256.9889\n",
            "Epoch 5/100\n",
            "2/2 [==============================] - 0s 12ms/step - loss: 15.6373 - mse: 318.6739\n",
            "Epoch 6/100\n",
            "2/2 [==============================] - 0s 12ms/step - loss: 12.3897 - mse: 196.2293\n",
            "Epoch 7/100\n",
            "2/2 [==============================] - 0s 9ms/step - loss: 11.6499 - mse: 166.5150\n",
            "Epoch 8/100\n",
            "2/2 [==============================] - 0s 6ms/step - loss: 12.0255 - mse: 197.3373\n",
            "Epoch 9/100\n",
            "2/2 [==============================] - 0s 9ms/step - loss: 37.5656 - mse: 2173.3301\n",
            "Epoch 10/100\n",
            "2/2 [==============================] - 0s 10ms/step - loss: 25.2226 - mse: 892.4342\n",
            "Epoch 11/100\n",
            "2/2 [==============================] - 0s 7ms/step - loss: 10.2411 - mse: 146.5663\n",
            "Epoch 12/100\n",
            "2/2 [==============================] - 0s 8ms/step - loss: 25.3952 - mse: 897.8378\n",
            "Epoch 13/100\n",
            "2/2 [==============================] - 0s 7ms/step - loss: 16.8340 - mse: 391.0500\n",
            "Epoch 14/100\n",
            "2/2 [==============================] - 0s 7ms/step - loss: 25.6468 - mse: 1024.8658\n",
            "Epoch 15/100\n",
            "2/2 [==============================] - 0s 8ms/step - loss: 17.5221 - mse: 424.8232\n",
            "Epoch 16/100\n",
            "2/2 [==============================] - 0s 7ms/step - loss: 10.0259 - mse: 124.2864\n",
            "Epoch 17/100\n",
            "2/2 [==============================] - 0s 7ms/step - loss: 18.5449 - mse: 459.6295\n",
            "Epoch 18/100\n",
            "2/2 [==============================] - 0s 6ms/step - loss: 11.3635 - mse: 200.4205\n",
            "Epoch 19/100\n",
            "2/2 [==============================] - 0s 7ms/step - loss: 13.9682 - mse: 304.2410\n",
            "Epoch 20/100\n",
            "2/2 [==============================] - 0s 10ms/step - loss: 11.2051 - mse: 146.2518\n",
            "Epoch 21/100\n",
            "2/2 [==============================] - 0s 8ms/step - loss: 17.2959 - mse: 423.9698\n",
            "Epoch 22/100\n",
            "2/2 [==============================] - 0s 10ms/step - loss: 15.5324 - mse: 332.6165\n",
            "Epoch 23/100\n",
            "2/2 [==============================] - 0s 9ms/step - loss: 9.2258 - mse: 118.3896\n",
            "Epoch 24/100\n",
            "2/2 [==============================] - 0s 7ms/step - loss: 17.2470 - mse: 407.4875\n",
            "Epoch 25/100\n",
            "2/2 [==============================] - 0s 10ms/step - loss: 15.9217 - mse: 333.0092\n",
            "Epoch 26/100\n",
            "2/2 [==============================] - 0s 6ms/step - loss: 20.9003 - mse: 647.8489\n",
            "Epoch 27/100\n",
            "2/2 [==============================] - 0s 7ms/step - loss: 26.0280 - mse: 1057.5730\n",
            "Epoch 28/100\n",
            "2/2 [==============================] - 0s 7ms/step - loss: 18.5163 - mse: 542.7472\n",
            "Epoch 29/100\n",
            "2/2 [==============================] - 0s 8ms/step - loss: 9.2327 - mse: 97.1260\n",
            "Epoch 30/100\n",
            "2/2 [==============================] - 0s 12ms/step - loss: 29.1453 - mse: 1519.1235\n",
            "Epoch 31/100\n",
            "2/2 [==============================] - 0s 9ms/step - loss: 52.7929 - mse: 4984.5532\n",
            "Epoch 32/100\n",
            "2/2 [==============================] - 0s 7ms/step - loss: 11.9383 - mse: 208.3374\n",
            "Epoch 33/100\n",
            "2/2 [==============================] - 0s 10ms/step - loss: 15.5535 - mse: 333.5883\n",
            "Epoch 34/100\n",
            "2/2 [==============================] - 0s 7ms/step - loss: 12.6305 - mse: 211.3876\n",
            "Epoch 35/100\n",
            "2/2 [==============================] - 0s 7ms/step - loss: 9.2071 - mse: 92.0196\n",
            "Epoch 36/100\n",
            "2/2 [==============================] - 0s 8ms/step - loss: 16.5598 - mse: 399.0412\n",
            "Epoch 37/100\n",
            "2/2 [==============================] - 0s 11ms/step - loss: 11.0537 - mse: 192.1170\n",
            "Epoch 38/100\n",
            "2/2 [==============================] - 0s 11ms/step - loss: 18.1811 - mse: 435.0212\n",
            "Epoch 39/100\n",
            "2/2 [==============================] - 0s 9ms/step - loss: 19.1155 - mse: 531.2411\n",
            "Epoch 40/100\n",
            "2/2 [==============================] - 0s 12ms/step - loss: 20.4605 - mse: 611.7695\n",
            "Epoch 41/100\n",
            "2/2 [==============================] - 0s 9ms/step - loss: 14.8597 - mse: 277.3247\n",
            "Epoch 42/100\n",
            "2/2 [==============================] - 0s 9ms/step - loss: 12.2426 - mse: 184.8571\n",
            "Epoch 43/100\n",
            "2/2 [==============================] - 0s 7ms/step - loss: 10.7075 - mse: 165.6254\n",
            "Epoch 44/100\n",
            "2/2 [==============================] - 0s 7ms/step - loss: 22.9634 - mse: 825.5153\n",
            "Epoch 45/100\n",
            "2/2 [==============================] - 0s 7ms/step - loss: 10.3606 - mse: 128.5622\n",
            "Epoch 46/100\n",
            "2/2 [==============================] - 0s 8ms/step - loss: 11.7543 - mse: 180.3785\n",
            "Epoch 47/100\n",
            "2/2 [==============================] - 0s 7ms/step - loss: 9.6452 - mse: 153.5662\n",
            "Epoch 48/100\n",
            "2/2 [==============================] - 0s 7ms/step - loss: 17.2453 - mse: 403.5540\n",
            "Epoch 49/100\n",
            "2/2 [==============================] - 0s 7ms/step - loss: 9.5521 - mse: 99.4016\n",
            "Epoch 50/100\n",
            "2/2 [==============================] - 0s 7ms/step - loss: 13.7912 - mse: 259.1959\n",
            "Epoch 51/100\n",
            "2/2 [==============================] - 0s 7ms/step - loss: 11.5790 - mse: 154.3325\n",
            "Epoch 52/100\n",
            "2/2 [==============================] - 0s 8ms/step - loss: 30.5305 - mse: 1610.1404\n",
            "Epoch 53/100\n",
            "2/2 [==============================] - 0s 8ms/step - loss: 14.3385 - mse: 301.8196\n",
            "Epoch 54/100\n",
            "2/2 [==============================] - 0s 7ms/step - loss: 23.9523 - mse: 857.7617\n",
            "Epoch 55/100\n",
            "2/2 [==============================] - 0s 7ms/step - loss: 23.1709 - mse: 803.8408\n",
            "Epoch 56/100\n",
            "2/2 [==============================] - 0s 7ms/step - loss: 10.8663 - mse: 170.7388\n",
            "Epoch 57/100\n",
            "2/2 [==============================] - 0s 7ms/step - loss: 12.7276 - mse: 198.2464\n",
            "Epoch 58/100\n",
            "2/2 [==============================] - 0s 9ms/step - loss: 9.5873 - mse: 102.3643\n",
            "Epoch 59/100\n",
            "2/2 [==============================] - 0s 7ms/step - loss: 12.5068 - mse: 216.1537\n",
            "Epoch 60/100\n",
            "2/2 [==============================] - 0s 7ms/step - loss: 12.3122 - mse: 208.5678\n",
            "Epoch 61/100\n",
            "2/2 [==============================] - 0s 12ms/step - loss: 17.4640 - mse: 428.9023\n",
            "Epoch 62/100\n",
            "2/2 [==============================] - 0s 8ms/step - loss: 10.5992 - mse: 136.9065\n",
            "Epoch 63/100\n",
            "2/2 [==============================] - 0s 8ms/step - loss: 10.4823 - mse: 152.6908\n",
            "Epoch 64/100\n",
            "2/2 [==============================] - 0s 8ms/step - loss: 24.8689 - mse: 913.6261\n",
            "Epoch 65/100\n",
            "2/2 [==============================] - 0s 7ms/step - loss: 10.6704 - mse: 142.9388\n",
            "Epoch 66/100\n",
            "2/2 [==============================] - 0s 7ms/step - loss: 21.9889 - mse: 715.3212\n",
            "Epoch 67/100\n",
            "2/2 [==============================] - 0s 7ms/step - loss: 10.1881 - mse: 119.3746\n",
            "Epoch 68/100\n",
            "2/2 [==============================] - 0s 7ms/step - loss: 13.3498 - mse: 263.9973\n",
            "Epoch 69/100\n",
            "2/2 [==============================] - 0s 7ms/step - loss: 11.3434 - mse: 159.4550\n",
            "Epoch 70/100\n",
            "2/2 [==============================] - 0s 6ms/step - loss: 13.5211 - mse: 241.6645\n",
            "Epoch 71/100\n",
            "2/2 [==============================] - 0s 7ms/step - loss: 15.5132 - mse: 342.0057\n",
            "Epoch 72/100\n",
            "2/2 [==============================] - 0s 7ms/step - loss: 11.7772 - mse: 165.8365\n",
            "Epoch 73/100\n",
            "2/2 [==============================] - 0s 7ms/step - loss: 16.5401 - mse: 368.6547\n",
            "Epoch 74/100\n",
            "2/2 [==============================] - 0s 6ms/step - loss: 24.0149 - mse: 906.8389\n",
            "Epoch 75/100\n",
            "2/2 [==============================] - 0s 7ms/step - loss: 9.5722 - mse: 149.1944\n",
            "Epoch 76/100\n",
            "2/2 [==============================] - 0s 6ms/step - loss: 12.4196 - mse: 187.8871\n",
            "Epoch 77/100\n",
            "2/2 [==============================] - 0s 6ms/step - loss: 16.6399 - mse: 428.8534\n",
            "Epoch 78/100\n",
            "2/2 [==============================] - 0s 6ms/step - loss: 9.0479 - mse: 95.2551\n",
            "Epoch 79/100\n",
            "2/2 [==============================] - 0s 6ms/step - loss: 23.9699 - mse: 864.2156\n",
            "Epoch 80/100\n",
            "2/2 [==============================] - 0s 6ms/step - loss: 26.7488 - mse: 1104.6292\n",
            "Epoch 81/100\n",
            "2/2 [==============================] - 0s 6ms/step - loss: 11.6616 - mse: 170.6096\n",
            "Epoch 82/100\n",
            "2/2 [==============================] - 0s 7ms/step - loss: 12.0142 - mse: 211.6683\n",
            "Epoch 83/100\n",
            "2/2 [==============================] - 0s 7ms/step - loss: 17.4085 - mse: 395.0093\n",
            "Epoch 84/100\n",
            "2/2 [==============================] - 0s 7ms/step - loss: 7.2500 - mse: 72.9057\n",
            "Epoch 85/100\n",
            "2/2 [==============================] - 0s 7ms/step - loss: 14.9499 - mse: 312.2893\n",
            "Epoch 86/100\n",
            "2/2 [==============================] - 0s 7ms/step - loss: 15.2722 - mse: 314.9414\n",
            "Epoch 87/100\n",
            "2/2 [==============================] - 0s 7ms/step - loss: 19.0846 - mse: 520.1761\n",
            "Epoch 88/100\n",
            "2/2 [==============================] - 0s 8ms/step - loss: 29.8806 - mse: 1292.5363\n",
            "Epoch 89/100\n",
            "2/2 [==============================] - 0s 7ms/step - loss: 10.1717 - mse: 123.9437\n",
            "Epoch 90/100\n",
            "2/2 [==============================] - 0s 7ms/step - loss: 21.5788 - mse: 667.3039\n",
            "Epoch 91/100\n",
            "2/2 [==============================] - 0s 7ms/step - loss: 10.5750 - mse: 161.2820\n",
            "Epoch 92/100\n",
            "2/2 [==============================] - 0s 8ms/step - loss: 18.4522 - mse: 467.0938\n",
            "Epoch 93/100\n",
            "2/2 [==============================] - 0s 8ms/step - loss: 7.4091 - mse: 81.3679\n",
            "Epoch 94/100\n",
            "2/2 [==============================] - 0s 6ms/step - loss: 17.7928 - mse: 448.6280\n",
            "Epoch 95/100\n",
            "2/2 [==============================] - 0s 7ms/step - loss: 11.1284 - mse: 165.4011\n",
            "Epoch 96/100\n",
            "2/2 [==============================] - 0s 10ms/step - loss: 19.4932 - mse: 513.6734\n",
            "Epoch 97/100\n",
            "2/2 [==============================] - 0s 6ms/step - loss: 12.5145 - mse: 225.3758\n",
            "Epoch 98/100\n",
            "2/2 [==============================] - 0s 7ms/step - loss: 10.3004 - mse: 137.1452\n",
            "Epoch 99/100\n",
            "2/2 [==============================] - 0s 8ms/step - loss: 13.8554 - mse: 264.3158\n",
            "Epoch 100/100\n",
            "2/2 [==============================] - 0s 6ms/step - loss: 20.1895 - mse: 606.4495\n"
          ]
        },
        {
          "output_type": "execute_result",
          "data": {
            "text/plain": [
              "<keras.callbacks.History at 0x7f4a867f5e10>"
            ]
          },
          "metadata": {},
          "execution_count": 57
        }
      ]
    },
    {
      "cell_type": "code",
      "source": [
        "# Make and plot predictions\n",
        "y_preds_2 = model_2.predict(X_test)\n",
        "plot_predictions(predictions=y_preds_2)"
      ],
      "metadata": {
        "colab": {
          "base_uri": "https://localhost:8080/",
          "height": 654
        },
        "id": "gmaeRo3bz8wt",
        "outputId": "9273041e-84c9-45ba-fc5d-43d4d85ac572"
      },
      "execution_count": 58,
      "outputs": [
        {
          "output_type": "stream",
          "name": "stderr",
          "text": [
            "WARNING:tensorflow:6 out of the last 6 calls to <function Model.make_predict_function.<locals>.predict_function at 0x7f4a94b02440> triggered tf.function retracing. Tracing is expensive and the excessive number of tracings could be due to (1) creating @tf.function repeatedly in a loop, (2) passing tensors with different shapes, (3) passing Python objects instead of tensors. For (1), please define your @tf.function outside of the loop. For (2), @tf.function has reduce_retracing=True option that can avoid unnecessary retracing. For (3), please refer to https://www.tensorflow.org/guide/function#controlling_retracing and https://www.tensorflow.org/api_docs/python/tf/function for  more details.\n"
          ]
        },
        {
          "output_type": "stream",
          "name": "stdout",
          "text": [
            "1/1 [==============================] - 0s 59ms/step\n"
          ]
        },
        {
          "output_type": "display_data",
          "data": {
            "text/plain": [
              "<Figure size 1000x700 with 1 Axes>"
            ],
            "image/png": "[encoded data removed]"
          },
          "metadata": {}
        }
      ]
    },
    {
      "cell_type": "code",
      "source": [
        "# Calculate model_2 evaluation metrics\n",
        "mae_2 = mae(y_test, y_preds_2)\n",
        "mse_2 = mse(y_test, y_preds_2)\n",
        "mae_2, mse_2"
      ],
      "metadata": {
        "colab": {
          "base_uri": "https://localhost:8080/"
        },
        "id": "yKBcHwMx0XTL",
        "outputId": "4d7b4857-e300-4ba2-a58c-e223ff047f15"
      },
      "execution_count": 59,
      "outputs": [
        {
          "output_type": "execute_result",
          "data": {
            "text/plain": [
              "(<tf.Tensor: shape=(), dtype=float32, numpy=3.1370819>,\n",
              " <tf.Tensor: shape=(), dtype=float32, numpy=12.655941>)"
            ]
          },
          "metadata": {},
          "execution_count": 59
        }
      ]
    },
    {
      "cell_type": "markdown",
      "source": [
        "**'model_3'**"
      ],
      "metadata": {
        "id": "omf6RCPS0koA"
      }
    },
    {
      "cell_type": "code",
      "source": [
        "# Set random seed\n",
        "tf.random.set_seed(42)\n",
        "\n",
        "# 1. Create model\n",
        "model_3 = tf.keras.Sequential([\n",
        "    tf.keras.layers.Dense(10),\n",
        "    tf.keras.layers.Dense(1)\n",
        "])\n",
        "\n",
        "# 2. Compile model\n",
        "model_3.compile(loss=tf.keras.losses.mae,\n",
        "                optimizer=tf.keras.optimizers.SGD(),\n",
        "                metrics=[\"mae\"])\n",
        "\n",
        "# 3. Fit model\n",
        "model_3.fit(tf.expand_dims(X_train, -1), y_train, epochs=500)"
      ],
      "metadata": {
        "colab": {
          "base_uri": "https://localhost:8080/"
        },
        "id": "1IZjHe580vUF",
        "outputId": "da35b35b-d641-4f09-f843-e40a6bdf3974"
      },
      "execution_count": 60,
      "outputs": [
        {
          "output_type": "stream",
          "name": "stdout",
          "text": [
            "Epoch 1/500\n",
            "2/2 [==============================] - 0s 11ms/step - loss: 57.3620 - mae: 57.3620\n",
            "Epoch 2/500\n",
            "2/2 [==============================] - 0s 6ms/step - loss: 39.6793 - mae: 39.6793\n",
            "Epoch 3/500\n",
            "2/2 [==============================] - 0s 7ms/step - loss: 43.3153 - mae: 43.3153\n",
            "Epoch 4/500\n",
            "2/2 [==============================] - 0s 8ms/step - loss: 27.5561 - mae: 27.5561\n",
            "Epoch 5/500\n",
            "2/2 [==============================] - 0s 8ms/step - loss: 15.0448 - mae: 15.0448\n",
            "Epoch 6/500\n",
            "2/2 [==============================] - 0s 7ms/step - loss: 11.9947 - mae: 11.9947\n",
            "Epoch 7/500\n",
            "2/2 [==============================] - 0s 10ms/step - loss: 13.1282 - mae: 13.1282\n",
            "Epoch 8/500\n",
            "2/2 [==============================] - 0s 8ms/step - loss: 11.2236 - mae: 11.2236\n",
            "Epoch 9/500\n",
            "2/2 [==============================] - 0s 6ms/step - loss: 41.6884 - mae: 41.6884\n",
            "Epoch 10/500\n",
            "2/2 [==============================] - 0s 8ms/step - loss: 28.9261 - mae: 28.9261\n",
            "Epoch 11/500\n",
            "2/2 [==============================] - 0s 6ms/step - loss: 8.5447 - mae: 8.5447\n",
            "Epoch 12/500\n",
            "2/2 [==============================] - 0s 6ms/step - loss: 27.5044 - mae: 27.5044\n",
            "Epoch 13/500\n",
            "2/2 [==============================] - 0s 8ms/step - loss: 12.1300 - mae: 12.1300\n",
            "Epoch 14/500\n",
            "2/2 [==============================] - 0s 7ms/step - loss: 34.8778 - mae: 34.8778\n",
            "Epoch 15/500\n",
            "2/2 [==============================] - 0s 7ms/step - loss: 22.7043 - mae: 22.7043\n",
            "Epoch 16/500\n",
            "2/2 [==============================] - 0s 6ms/step - loss: 9.9528 - mae: 9.9528\n",
            "Epoch 17/500\n",
            "2/2 [==============================] - 0s 6ms/step - loss: 17.9262 - mae: 17.9262\n",
            "Epoch 18/500\n",
            "2/2 [==============================] - 0s 8ms/step - loss: 14.3981 - mae: 14.3981\n",
            "Epoch 19/500\n",
            "2/2 [==============================] - 0s 8ms/step - loss: 14.5114 - mae: 14.5114\n",
            "Epoch 20/500\n",
            "2/2 [==============================] - 0s 6ms/step - loss: 10.4971 - mae: 10.4971\n",
            "Epoch 21/500\n",
            "2/2 [==============================] - 0s 7ms/step - loss: 15.2793 - mae: 15.2793\n",
            "Epoch 22/500\n",
            "2/2 [==============================] - 0s 8ms/step - loss: 15.6276 - mae: 15.6276\n",
            "Epoch 23/500\n",
            "2/2 [==============================] - 0s 6ms/step - loss: 9.2366 - mae: 9.2366\n",
            "Epoch 24/500\n",
            "2/2 [==============================] - 0s 6ms/step - loss: 17.2251 - mae: 17.2251\n",
            "Epoch 25/500\n",
            "2/2 [==============================] - 0s 7ms/step - loss: 15.9125 - mae: 15.9125\n",
            "Epoch 26/500\n",
            "2/2 [==============================] - 0s 6ms/step - loss: 20.8645 - mae: 20.8645\n",
            "Epoch 27/500\n",
            "2/2 [==============================] - 0s 13ms/step - loss: 26.1124 - mae: 26.1124\n",
            "Epoch 28/500\n",
            "2/2 [==============================] - 0s 9ms/step - loss: 18.5911 - mae: 18.5911\n",
            "Epoch 29/500\n",
            "2/2 [==============================] - 0s 6ms/step - loss: 9.2516 - mae: 9.2516\n",
            "Epoch 30/500\n",
            "2/2 [==============================] - 0s 7ms/step - loss: 29.2118 - mae: 29.2118\n",
            "Epoch 31/500\n",
            "2/2 [==============================] - 0s 6ms/step - loss: 52.9228 - mae: 52.9228\n",
            "Epoch 32/500\n",
            "2/2 [==============================] - 0s 6ms/step - loss: 11.9815 - mae: 11.9815\n",
            "Epoch 33/500\n",
            "2/2 [==============================] - 0s 7ms/step - loss: 15.6051 - mae: 15.6051\n",
            "Epoch 34/500\n",
            "2/2 [==============================] - 0s 6ms/step - loss: 12.6748 - mae: 12.6748\n",
            "Epoch 35/500\n",
            "2/2 [==============================] - 0s 6ms/step - loss: 9.2350 - mae: 9.2350\n",
            "Epoch 36/500\n",
            "2/2 [==============================] - 0s 6ms/step - loss: 16.6068 - mae: 16.6068\n",
            "Epoch 37/500\n",
            "2/2 [==============================] - 0s 6ms/step - loss: 11.0550 - mae: 11.0550\n",
            "Epoch 38/500\n",
            "2/2 [==============================] - 0s 9ms/step - loss: 18.1810 - mae: 18.1810\n",
            "Epoch 39/500\n",
            "2/2 [==============================] - 0s 6ms/step - loss: 19.1176 - mae: 19.1176\n",
            "Epoch 40/500\n",
            "2/2 [==============================] - 0s 6ms/step - loss: 20.4601 - mae: 20.4601\n",
            "Epoch 41/500\n",
            "2/2 [==============================] - 0s 7ms/step - loss: 14.8844 - mae: 14.8844\n",
            "Epoch 42/500\n",
            "2/2 [==============================] - 0s 6ms/step - loss: 12.2621 - mae: 12.2621\n",
            "Epoch 43/500\n",
            "2/2 [==============================] - 0s 6ms/step - loss: 10.7259 - mae: 10.7259\n",
            "Epoch 44/500\n",
            "2/2 [==============================] - 0s 6ms/step - loss: 22.9491 - mae: 22.9491\n",
            "Epoch 45/500\n",
            "2/2 [==============================] - 0s 7ms/step - loss: 10.3739 - mae: 10.3739\n",
            "Epoch 46/500\n",
            "2/2 [==============================] - 0s 12ms/step - loss: 11.7629 - mae: 11.7629\n",
            "Epoch 47/500\n",
            "2/2 [==============================] - 0s 7ms/step - loss: 9.6623 - mae: 9.6623\n",
            "Epoch 48/500\n",
            "2/2 [==============================] - 0s 10ms/step - loss: 17.2682 - mae: 17.2682\n",
            "Epoch 49/500\n",
            "2/2 [==============================] - 0s 7ms/step - loss: 9.5575 - mae: 9.5575\n",
            "Epoch 50/500\n",
            "2/2 [==============================] - 0s 7ms/step - loss: 13.7856 - mae: 13.7856\n",
            "Epoch 51/500\n",
            "2/2 [==============================] - 0s 6ms/step - loss: 11.5872 - mae: 11.5872\n",
            "Epoch 52/500\n",
            "2/2 [==============================] - 0s 6ms/step - loss: 30.4471 - mae: 30.4471\n",
            "Epoch 53/500\n",
            "2/2 [==============================] - 0s 6ms/step - loss: 14.3104 - mae: 14.3104\n",
            "Epoch 54/500\n",
            "2/2 [==============================] - 0s 7ms/step - loss: 23.6631 - mae: 23.6631\n",
            "Epoch 55/500\n",
            "2/2 [==============================] - 0s 7ms/step - loss: 24.5967 - mae: 24.5967\n",
            "Epoch 56/500\n",
            "2/2 [==============================] - 0s 7ms/step - loss: 11.3412 - mae: 11.3412\n",
            "Epoch 57/500\n",
            "2/2 [==============================] - 0s 7ms/step - loss: 13.3609 - mae: 13.3609\n",
            "Epoch 58/500\n",
            "2/2 [==============================] - 0s 6ms/step - loss: 9.9481 - mae: 9.9481\n",
            "Epoch 59/500\n",
            "2/2 [==============================] - 0s 7ms/step - loss: 13.9169 - mae: 13.9169\n",
            "Epoch 60/500\n",
            "2/2 [==============================] - 0s 7ms/step - loss: 9.9909 - mae: 9.9909\n",
            "Epoch 61/500\n",
            "2/2 [==============================] - 0s 7ms/step - loss: 14.9741 - mae: 14.9741\n",
            "Epoch 62/500\n",
            "2/2 [==============================] - 0s 7ms/step - loss: 11.9266 - mae: 11.9266\n",
            "Epoch 63/500\n",
            "2/2 [==============================] - 0s 7ms/step - loss: 10.2872 - mae: 10.2872\n",
            "Epoch 64/500\n",
            "2/2 [==============================] - 0s 7ms/step - loss: 23.8949 - mae: 23.8949\n",
            "Epoch 65/500\n",
            "2/2 [==============================] - 0s 7ms/step - loss: 10.4640 - mae: 10.4640\n",
            "Epoch 66/500\n",
            "2/2 [==============================] - 0s 6ms/step - loss: 20.9407 - mae: 20.9407\n",
            "Epoch 67/500\n",
            "2/2 [==============================] - 0s 7ms/step - loss: 10.4430 - mae: 10.4430\n",
            "Epoch 68/500\n",
            "2/2 [==============================] - 0s 7ms/step - loss: 14.1825 - mae: 14.1825\n",
            "Epoch 69/500\n",
            "2/2 [==============================] - 0s 7ms/step - loss: 10.5153 - mae: 10.5153\n",
            "Epoch 70/500\n",
            "2/2 [==============================] - 0s 6ms/step - loss: 12.5871 - mae: 12.5871\n",
            "Epoch 71/500\n",
            "2/2 [==============================] - 0s 7ms/step - loss: 13.0174 - mae: 13.0174\n",
            "Epoch 72/500\n",
            "2/2 [==============================] - 0s 7ms/step - loss: 19.3716 - mae: 19.3716\n",
            "Epoch 73/500\n",
            "2/2 [==============================] - 0s 7ms/step - loss: 11.1302 - mae: 11.1302\n",
            "Epoch 74/500\n",
            "2/2 [==============================] - 0s 8ms/step - loss: 21.6123 - mae: 21.6123\n",
            "Epoch 75/500\n",
            "2/2 [==============================] - 0s 8ms/step - loss: 7.2258 - mae: 7.2258\n",
            "Epoch 76/500\n",
            "2/2 [==============================] - 0s 7ms/step - loss: 9.4559 - mae: 9.4559\n",
            "Epoch 77/500\n",
            "2/2 [==============================] - 0s 7ms/step - loss: 22.1679 - mae: 22.1679\n",
            "Epoch 78/500\n",
            "2/2 [==============================] - 0s 6ms/step - loss: 17.4696 - mae: 17.4696\n",
            "Epoch 79/500\n",
            "2/2 [==============================] - 0s 7ms/step - loss: 14.7085 - mae: 14.7085\n",
            "Epoch 80/500\n",
            "2/2 [==============================] - 0s 7ms/step - loss: 24.7227 - mae: 24.7227\n",
            "Epoch 81/500\n",
            "2/2 [==============================] - 0s 7ms/step - loss: 11.5567 - mae: 11.5567\n",
            "Epoch 82/500\n",
            "2/2 [==============================] - 0s 7ms/step - loss: 12.3909 - mae: 12.3909\n",
            "Epoch 83/500\n",
            "2/2 [==============================] - 0s 7ms/step - loss: 17.0420 - mae: 17.0420\n",
            "Epoch 84/500\n",
            "2/2 [==============================] - 0s 6ms/step - loss: 7.2479 - mae: 7.2479\n",
            "Epoch 85/500\n",
            "2/2 [==============================] - 0s 7ms/step - loss: 37.3973 - mae: 37.3973\n",
            "Epoch 86/500\n",
            "2/2 [==============================] - 0s 9ms/step - loss: 21.3568 - mae: 21.3568\n",
            "Epoch 87/500\n",
            "2/2 [==============================] - 0s 7ms/step - loss: 11.0720 - mae: 11.0720\n",
            "Epoch 88/500\n",
            "2/2 [==============================] - 0s 6ms/step - loss: 25.2320 - mae: 25.2320\n",
            "Epoch 89/500\n",
            "2/2 [==============================] - 0s 7ms/step - loss: 9.3980 - mae: 9.3980\n",
            "Epoch 90/500\n",
            "2/2 [==============================] - 0s 6ms/step - loss: 17.4860 - mae: 17.4860\n",
            "Epoch 91/500\n",
            "2/2 [==============================] - 0s 6ms/step - loss: 10.8473 - mae: 10.8473\n",
            "Epoch 92/500\n",
            "2/2 [==============================] - 0s 9ms/step - loss: 19.1752 - mae: 19.1752\n",
            "Epoch 93/500\n",
            "2/2 [==============================] - 0s 6ms/step - loss: 8.3557 - mae: 8.3557\n",
            "Epoch 94/500\n",
            "2/2 [==============================] - 0s 10ms/step - loss: 11.6011 - mae: 11.6011\n",
            "Epoch 95/500\n",
            "2/2 [==============================] - 0s 6ms/step - loss: 26.2217 - mae: 26.2217\n",
            "Epoch 96/500\n",
            "2/2 [==============================] - 0s 6ms/step - loss: 11.2300 - mae: 11.2300\n",
            "Epoch 97/500\n",
            "2/2 [==============================] - 0s 7ms/step - loss: 16.8609 - mae: 16.8609\n",
            "Epoch 98/500\n",
            "2/2 [==============================] - 0s 7ms/step - loss: 6.6022 - mae: 6.6022\n",
            "Epoch 99/500\n",
            "2/2 [==============================] - 0s 7ms/step - loss: 12.5957 - mae: 12.5957\n",
            "Epoch 100/500\n",
            "2/2 [==============================] - 0s 7ms/step - loss: 19.3925 - mae: 19.3925\n",
            "Epoch 101/500\n",
            "2/2 [==============================] - 0s 7ms/step - loss: 16.1110 - mae: 16.1110\n",
            "Epoch 102/500\n",
            "2/2 [==============================] - 0s 7ms/step - loss: 11.2240 - mae: 11.2240\n",
            "Epoch 103/500\n",
            "2/2 [==============================] - 0s 6ms/step - loss: 9.3466 - mae: 9.3466\n",
            "Epoch 104/500\n",
            "2/2 [==============================] - 0s 7ms/step - loss: 24.9747 - mae: 24.9747\n",
            "Epoch 105/500\n",
            "2/2 [==============================] - 0s 6ms/step - loss: 12.0033 - mae: 12.0033\n",
            "Epoch 106/500\n",
            "2/2 [==============================] - 0s 7ms/step - loss: 10.1061 - mae: 10.1061\n",
            "Epoch 107/500\n",
            "2/2 [==============================] - 0s 7ms/step - loss: 22.5151 - mae: 22.5151\n",
            "Epoch 108/500\n",
            "2/2 [==============================] - 0s 7ms/step - loss: 8.1458 - mae: 8.1458\n",
            "Epoch 109/500\n",
            "2/2 [==============================] - 0s 9ms/step - loss: 13.3418 - mae: 13.3418\n",
            "Epoch 110/500\n",
            "2/2 [==============================] - 0s 10ms/step - loss: 8.0028 - mae: 8.0028\n",
            "Epoch 111/500\n",
            "2/2 [==============================] - 0s 7ms/step - loss: 15.7752 - mae: 15.7752\n",
            "Epoch 112/500\n",
            "2/2 [==============================] - 0s 6ms/step - loss: 8.7646 - mae: 8.7646\n",
            "Epoch 113/500\n",
            "2/2 [==============================] - 0s 7ms/step - loss: 22.6357 - mae: 22.6357\n",
            "Epoch 114/500\n",
            "2/2 [==============================] - 0s 7ms/step - loss: 18.9959 - mae: 18.9959\n",
            "Epoch 115/500\n",
            "2/2 [==============================] - 0s 6ms/step - loss: 11.1008 - mae: 11.1008\n",
            "Epoch 116/500\n",
            "2/2 [==============================] - 0s 5ms/step - loss: 23.0766 - mae: 23.0766\n",
            "Epoch 117/500\n",
            "2/2 [==============================] - 0s 7ms/step - loss: 9.5765 - mae: 9.5765\n",
            "Epoch 118/500\n",
            "2/2 [==============================] - 0s 6ms/step - loss: 10.6321 - mae: 10.6321\n",
            "Epoch 119/500\n",
            "2/2 [==============================] - 0s 7ms/step - loss: 8.0622 - mae: 8.0622\n",
            "Epoch 120/500\n",
            "2/2 [==============================] - 0s 7ms/step - loss: 29.3227 - mae: 29.3227\n",
            "Epoch 121/500\n",
            "2/2 [==============================] - 0s 7ms/step - loss: 8.0976 - mae: 8.0976\n",
            "Epoch 122/500\n",
            "2/2 [==============================] - 0s 6ms/step - loss: 27.9931 - mae: 27.9931\n",
            "Epoch 123/500\n",
            "2/2 [==============================] - 0s 5ms/step - loss: 32.5086 - mae: 32.5086\n",
            "Epoch 124/500\n",
            "2/2 [==============================] - 0s 7ms/step - loss: 19.3437 - mae: 19.3437\n",
            "Epoch 125/500\n",
            "2/2 [==============================] - 0s 8ms/step - loss: 9.5387 - mae: 9.5387\n",
            "Epoch 126/500\n",
            "2/2 [==============================] - 0s 5ms/step - loss: 9.6089 - mae: 9.6089\n",
            "Epoch 127/500\n",
            "2/2 [==============================] - 0s 8ms/step - loss: 12.6954 - mae: 12.6954\n",
            "Epoch 128/500\n",
            "2/2 [==============================] - 0s 6ms/step - loss: 12.8099 - mae: 12.8099\n",
            "Epoch 129/500\n",
            "2/2 [==============================] - 0s 7ms/step - loss: 13.9151 - mae: 13.9151\n",
            "Epoch 130/500\n",
            "2/2 [==============================] - 0s 7ms/step - loss: 10.2484 - mae: 10.2484\n",
            "Epoch 131/500\n",
            "2/2 [==============================] - 0s 6ms/step - loss: 21.6444 - mae: 21.6444\n",
            "Epoch 132/500\n",
            "2/2 [==============================] - 0s 7ms/step - loss: 8.2877 - mae: 8.2877\n",
            "Epoch 133/500\n",
            "2/2 [==============================] - 0s 7ms/step - loss: 9.0686 - mae: 9.0686\n",
            "Epoch 134/500\n",
            "2/2 [==============================] - 0s 6ms/step - loss: 16.8570 - mae: 16.8570\n",
            "Epoch 135/500\n",
            "2/2 [==============================] - 0s 6ms/step - loss: 10.6542 - mae: 10.6542\n",
            "Epoch 136/500\n",
            "2/2 [==============================] - 0s 6ms/step - loss: 18.4586 - mae: 18.4586\n",
            "Epoch 137/500\n",
            "2/2 [==============================] - 0s 6ms/step - loss: 23.4196 - mae: 23.4196\n",
            "Epoch 138/500\n",
            "2/2 [==============================] - 0s 6ms/step - loss: 9.2631 - mae: 9.2631\n",
            "Epoch 139/500\n",
            "2/2 [==============================] - 0s 6ms/step - loss: 9.0066 - mae: 9.0066\n",
            "Epoch 140/500\n",
            "2/2 [==============================] - 0s 7ms/step - loss: 16.6244 - mae: 16.6244\n",
            "Epoch 141/500\n",
            "2/2 [==============================] - 0s 7ms/step - loss: 8.4740 - mae: 8.4740\n",
            "Epoch 142/500\n",
            "2/2 [==============================] - 0s 7ms/step - loss: 37.1490 - mae: 37.1490\n",
            "Epoch 143/500\n",
            "2/2 [==============================] - 0s 6ms/step - loss: 25.7714 - mae: 25.7714\n",
            "Epoch 144/500\n",
            "2/2 [==============================] - 0s 7ms/step - loss: 9.5686 - mae: 9.5686\n",
            "Epoch 145/500\n",
            "2/2 [==============================] - 0s 6ms/step - loss: 26.5730 - mae: 26.5730\n",
            "Epoch 146/500\n",
            "2/2 [==============================] - 0s 6ms/step - loss: 8.8255 - mae: 8.8255\n",
            "Epoch 147/500\n",
            "2/2 [==============================] - 0s 7ms/step - loss: 15.6170 - mae: 15.6170\n",
            "Epoch 148/500\n",
            "2/2 [==============================] - 0s 7ms/step - loss: 18.2925 - mae: 18.2925\n",
            "Epoch 149/500\n",
            "2/2 [==============================] - 0s 7ms/step - loss: 8.2595 - mae: 8.2595\n",
            "Epoch 150/500\n",
            "2/2 [==============================] - 0s 7ms/step - loss: 7.5447 - mae: 7.5447\n",
            "Epoch 151/500\n",
            "2/2 [==============================] - 0s 8ms/step - loss: 18.3733 - mae: 18.3733\n",
            "Epoch 152/500\n",
            "2/2 [==============================] - 0s 7ms/step - loss: 10.3367 - mae: 10.3367\n",
            "Epoch 153/500\n",
            "2/2 [==============================] - 0s 6ms/step - loss: 29.6584 - mae: 29.6584\n",
            "Epoch 154/500\n",
            "2/2 [==============================] - 0s 7ms/step - loss: 10.5786 - mae: 10.5786\n",
            "Epoch 155/500\n",
            "2/2 [==============================] - 0s 7ms/step - loss: 15.4732 - mae: 15.4732\n",
            "Epoch 156/500\n",
            "2/2 [==============================] - 0s 7ms/step - loss: 17.0442 - mae: 17.0442\n",
            "Epoch 157/500\n",
            "2/2 [==============================] - 0s 7ms/step - loss: 32.7667 - mae: 32.7667\n",
            "Epoch 158/500\n",
            "2/2 [==============================] - 0s 8ms/step - loss: 10.7332 - mae: 10.7332\n",
            "Epoch 159/500\n",
            "2/2 [==============================] - 0s 7ms/step - loss: 8.9360 - mae: 8.9360\n",
            "Epoch 160/500\n",
            "2/2 [==============================] - 0s 10ms/step - loss: 22.0680 - mae: 22.0680\n",
            "Epoch 161/500\n",
            "2/2 [==============================] - 0s 7ms/step - loss: 11.7153 - mae: 11.7153\n",
            "Epoch 162/500\n",
            "2/2 [==============================] - 0s 9ms/step - loss: 21.4989 - mae: 21.4989\n",
            "Epoch 163/500\n",
            "2/2 [==============================] - 0s 7ms/step - loss: 18.9733 - mae: 18.9733\n",
            "Epoch 164/500\n",
            "2/2 [==============================] - 0s 6ms/step - loss: 12.8090 - mae: 12.8090\n",
            "Epoch 165/500\n",
            "2/2 [==============================] - 0s 6ms/step - loss: 12.7083 - mae: 12.7083\n",
            "Epoch 166/500\n",
            "2/2 [==============================] - 0s 9ms/step - loss: 18.8564 - mae: 18.8564\n",
            "Epoch 167/500\n",
            "2/2 [==============================] - 0s 6ms/step - loss: 26.9399 - mae: 26.9399\n",
            "Epoch 168/500\n",
            "2/2 [==============================] - 0s 6ms/step - loss: 10.0291 - mae: 10.0291\n",
            "Epoch 169/500\n",
            "2/2 [==============================] - 0s 6ms/step - loss: 23.1763 - mae: 23.1763\n",
            "Epoch 170/500\n",
            "2/2 [==============================] - 0s 6ms/step - loss: 9.5947 - mae: 9.5947\n",
            "Epoch 171/500\n",
            "2/2 [==============================] - 0s 6ms/step - loss: 15.8517 - mae: 15.8517\n",
            "Epoch 172/500\n",
            "2/2 [==============================] - 0s 9ms/step - loss: 13.8897 - mae: 13.8897\n",
            "Epoch 173/500\n",
            "2/2 [==============================] - 0s 7ms/step - loss: 22.5769 - mae: 22.5769\n",
            "Epoch 174/500\n",
            "2/2 [==============================] - 0s 7ms/step - loss: 11.3733 - mae: 11.3733\n",
            "Epoch 175/500\n",
            "2/2 [==============================] - 0s 6ms/step - loss: 20.1022 - mae: 20.1022\n",
            "Epoch 176/500\n",
            "2/2 [==============================] - 0s 7ms/step - loss: 7.4309 - mae: 7.4309\n",
            "Epoch 177/500\n",
            "2/2 [==============================] - 0s 6ms/step - loss: 8.6180 - mae: 8.6180\n",
            "Epoch 178/500\n",
            "2/2 [==============================] - 0s 6ms/step - loss: 15.5034 - mae: 15.5034\n",
            "Epoch 179/500\n",
            "2/2 [==============================] - 0s 6ms/step - loss: 9.2963 - mae: 9.2963\n",
            "Epoch 180/500\n",
            "2/2 [==============================] - 0s 6ms/step - loss: 8.1493 - mae: 8.1493\n",
            "Epoch 181/500\n",
            "2/2 [==============================] - 0s 6ms/step - loss: 18.7288 - mae: 18.7288\n",
            "Epoch 182/500\n",
            "2/2 [==============================] - 0s 6ms/step - loss: 10.7984 - mae: 10.7984\n",
            "Epoch 183/500\n",
            "2/2 [==============================] - 0s 7ms/step - loss: 10.9162 - mae: 10.9162\n",
            "Epoch 184/500\n",
            "2/2 [==============================] - 0s 6ms/step - loss: 33.7183 - mae: 33.7183\n",
            "Epoch 185/500\n",
            "2/2 [==============================] - 0s 7ms/step - loss: 7.6414 - mae: 7.6414\n",
            "Epoch 186/500\n",
            "2/2 [==============================] - 0s 6ms/step - loss: 16.7830 - mae: 16.7830\n",
            "Epoch 187/500\n",
            "2/2 [==============================] - 0s 6ms/step - loss: 10.1974 - mae: 10.1974\n",
            "Epoch 188/500\n",
            "2/2 [==============================] - 0s 6ms/step - loss: 23.0414 - mae: 23.0414\n",
            "Epoch 189/500\n",
            "2/2 [==============================] - 0s 7ms/step - loss: 9.8925 - mae: 9.8925\n",
            "Epoch 190/500\n",
            "2/2 [==============================] - 0s 7ms/step - loss: 15.2959 - mae: 15.2959\n",
            "Epoch 191/500\n",
            "2/2 [==============================] - 0s 7ms/step - loss: 9.9618 - mae: 9.9618\n",
            "Epoch 192/500\n",
            "2/2 [==============================] - 0s 7ms/step - loss: 14.9971 - mae: 14.9971\n",
            "Epoch 193/500\n",
            "2/2 [==============================] - 0s 6ms/step - loss: 29.6731 - mae: 29.6731\n",
            "Epoch 194/500\n",
            "2/2 [==============================] - 0s 7ms/step - loss: 8.3845 - mae: 8.3845\n",
            "Epoch 195/500\n",
            "2/2 [==============================] - 0s 6ms/step - loss: 12.9111 - mae: 12.9111\n",
            "Epoch 196/500\n",
            "2/2 [==============================] - 0s 6ms/step - loss: 23.9482 - mae: 23.9482\n",
            "Epoch 197/500\n",
            "2/2 [==============================] - 0s 7ms/step - loss: 16.7737 - mae: 16.7737\n",
            "Epoch 198/500\n",
            "2/2 [==============================] - 0s 7ms/step - loss: 11.4663 - mae: 11.4663\n",
            "Epoch 199/500\n",
            "2/2 [==============================] - 0s 6ms/step - loss: 19.5718 - mae: 19.5718\n",
            "Epoch 200/500\n",
            "2/2 [==============================] - 0s 6ms/step - loss: 15.5600 - mae: 15.5600\n",
            "Epoch 201/500\n",
            "2/2 [==============================] - 0s 6ms/step - loss: 5.7408 - mae: 5.7408\n",
            "Epoch 202/500\n",
            "2/2 [==============================] - 0s 7ms/step - loss: 28.2092 - mae: 28.2092\n",
            "Epoch 203/500\n",
            "2/2 [==============================] - 0s 7ms/step - loss: 9.7717 - mae: 9.7717\n",
            "Epoch 204/500\n",
            "2/2 [==============================] - 0s 6ms/step - loss: 22.2997 - mae: 22.2997\n",
            "Epoch 205/500\n",
            "2/2 [==============================] - 0s 9ms/step - loss: 10.0544 - mae: 10.0544\n",
            "Epoch 206/500\n",
            "2/2 [==============================] - 0s 7ms/step - loss: 12.3546 - mae: 12.3546\n",
            "Epoch 207/500\n",
            "2/2 [==============================] - 0s 6ms/step - loss: 15.5348 - mae: 15.5348\n",
            "Epoch 208/500\n",
            "2/2 [==============================] - 0s 6ms/step - loss: 14.0326 - mae: 14.0326\n",
            "Epoch 209/500\n",
            "2/2 [==============================] - 0s 6ms/step - loss: 16.2378 - mae: 16.2378\n",
            "Epoch 210/500\n",
            "2/2 [==============================] - 0s 7ms/step - loss: 17.6584 - mae: 17.6584\n",
            "Epoch 211/500\n",
            "2/2 [==============================] - 0s 8ms/step - loss: 9.7859 - mae: 9.7859\n",
            "Epoch 212/500\n",
            "2/2 [==============================] - 0s 6ms/step - loss: 18.0285 - mae: 18.0285\n",
            "Epoch 213/500\n",
            "2/2 [==============================] - 0s 6ms/step - loss: 15.1396 - mae: 15.1396\n",
            "Epoch 214/500\n",
            "2/2 [==============================] - 0s 6ms/step - loss: 14.6561 - mae: 14.6561\n",
            "Epoch 215/500\n",
            "2/2 [==============================] - 0s 7ms/step - loss: 23.4276 - mae: 23.4276\n",
            "Epoch 216/500\n",
            "2/2 [==============================] - 0s 6ms/step - loss: 12.8584 - mae: 12.8584\n",
            "Epoch 217/500\n",
            "2/2 [==============================] - 0s 7ms/step - loss: 12.0032 - mae: 12.0032\n",
            "Epoch 218/500\n",
            "2/2 [==============================] - 0s 6ms/step - loss: 17.1126 - mae: 17.1126\n",
            "Epoch 219/500\n",
            "2/2 [==============================] - 0s 7ms/step - loss: 9.5004 - mae: 9.5004\n",
            "Epoch 220/500\n",
            "2/2 [==============================] - 0s 7ms/step - loss: 13.8672 - mae: 13.8672\n",
            "Epoch 221/500\n",
            "2/2 [==============================] - 0s 7ms/step - loss: 32.2713 - mae: 32.2713\n",
            "Epoch 222/500\n",
            "2/2 [==============================] - 0s 6ms/step - loss: 11.0687 - mae: 11.0687\n",
            "Epoch 223/500\n",
            "2/2 [==============================] - 0s 7ms/step - loss: 8.6548 - mae: 8.6548\n",
            "Epoch 224/500\n",
            "2/2 [==============================] - 0s 6ms/step - loss: 14.5784 - mae: 14.5784\n",
            "Epoch 225/500\n",
            "2/2 [==============================] - 0s 7ms/step - loss: 16.5895 - mae: 16.5895\n",
            "Epoch 226/500\n",
            "2/2 [==============================] - 0s 6ms/step - loss: 15.8163 - mae: 15.8163\n",
            "Epoch 227/500\n",
            "2/2 [==============================] - 0s 6ms/step - loss: 16.0310 - mae: 16.0310\n",
            "Epoch 228/500\n",
            "2/2 [==============================] - 0s 6ms/step - loss: 13.8170 - mae: 13.8170\n",
            "Epoch 229/500\n",
            "2/2 [==============================] - 0s 6ms/step - loss: 17.9256 - mae: 17.9256\n",
            "Epoch 230/500\n",
            "2/2 [==============================] - 0s 6ms/step - loss: 15.5318 - mae: 15.5318\n",
            "Epoch 231/500\n",
            "2/2 [==============================] - 0s 8ms/step - loss: 21.0146 - mae: 21.0146\n",
            "Epoch 232/500\n",
            "2/2 [==============================] - 0s 8ms/step - loss: 25.7047 - mae: 25.7047\n",
            "Epoch 233/500\n",
            "2/2 [==============================] - 0s 7ms/step - loss: 16.6587 - mae: 16.6587\n",
            "Epoch 234/500\n",
            "2/2 [==============================] - 0s 6ms/step - loss: 7.3902 - mae: 7.3902\n",
            "Epoch 235/500\n",
            "2/2 [==============================] - 0s 6ms/step - loss: 17.3005 - mae: 17.3005\n",
            "Epoch 236/500\n",
            "2/2 [==============================] - 0s 6ms/step - loss: 7.2676 - mae: 7.2676\n",
            "Epoch 237/500\n",
            "2/2 [==============================] - 0s 6ms/step - loss: 9.3888 - mae: 9.3888\n",
            "Epoch 238/500\n",
            "2/2 [==============================] - 0s 6ms/step - loss: 8.2111 - mae: 8.2111\n",
            "Epoch 239/500\n",
            "2/2 [==============================] - 0s 6ms/step - loss: 17.3332 - mae: 17.3332\n",
            "Epoch 240/500\n",
            "2/2 [==============================] - 0s 7ms/step - loss: 9.0059 - mae: 9.0059\n",
            "Epoch 241/500\n",
            "2/2 [==============================] - 0s 7ms/step - loss: 13.3810 - mae: 13.3810\n",
            "Epoch 242/500\n",
            "2/2 [==============================] - 0s 7ms/step - loss: 8.8999 - mae: 8.8999\n",
            "Epoch 243/500\n",
            "2/2 [==============================] - 0s 9ms/step - loss: 19.1890 - mae: 19.1890\n",
            "Epoch 244/500\n",
            "2/2 [==============================] - 0s 9ms/step - loss: 13.9318 - mae: 13.9318\n",
            "Epoch 245/500\n",
            "2/2 [==============================] - 0s 9ms/step - loss: 14.5746 - mae: 14.5746\n",
            "Epoch 246/500\n",
            "2/2 [==============================] - 0s 7ms/step - loss: 15.7169 - mae: 15.7169\n",
            "Epoch 247/500\n",
            "2/2 [==============================] - 0s 6ms/step - loss: 17.5646 - mae: 17.5646\n",
            "Epoch 248/500\n",
            "2/2 [==============================] - 0s 6ms/step - loss: 13.1296 - mae: 13.1296\n",
            "Epoch 249/500\n",
            "2/2 [==============================] - 0s 6ms/step - loss: 14.4510 - mae: 14.4510\n",
            "Epoch 250/500\n",
            "2/2 [==============================] - 0s 6ms/step - loss: 23.1111 - mae: 23.1111\n",
            "Epoch 251/500\n",
            "2/2 [==============================] - 0s 6ms/step - loss: 10.1172 - mae: 10.1172\n",
            "Epoch 252/500\n",
            "2/2 [==============================] - 0s 6ms/step - loss: 32.6253 - mae: 32.6253\n",
            "Epoch 253/500\n",
            "2/2 [==============================] - 0s 6ms/step - loss: 18.6738 - mae: 18.6738\n",
            "Epoch 254/500\n",
            "2/2 [==============================] - 0s 6ms/step - loss: 6.3693 - mae: 6.3693\n",
            "Epoch 255/500\n",
            "2/2 [==============================] - 0s 6ms/step - loss: 19.4422 - mae: 19.4422\n",
            "Epoch 256/500\n",
            "2/2 [==============================] - 0s 6ms/step - loss: 33.5169 - mae: 33.5169\n",
            "Epoch 257/500\n",
            "2/2 [==============================] - 0s 6ms/step - loss: 16.5647 - mae: 16.5647\n",
            "Epoch 258/500\n",
            "2/2 [==============================] - 0s 7ms/step - loss: 5.8355 - mae: 5.8355\n",
            "Epoch 259/500\n",
            "2/2 [==============================] - 0s 6ms/step - loss: 14.8352 - mae: 14.8352\n",
            "Epoch 260/500\n",
            "2/2 [==============================] - 0s 6ms/step - loss: 14.9756 - mae: 14.9756\n",
            "Epoch 261/500\n",
            "2/2 [==============================] - 0s 6ms/step - loss: 17.4619 - mae: 17.4619\n",
            "Epoch 262/500\n",
            "2/2 [==============================] - 0s 7ms/step - loss: 15.5773 - mae: 15.5773\n",
            "Epoch 263/500\n",
            "2/2 [==============================] - 0s 7ms/step - loss: 10.0896 - mae: 10.0896\n",
            "Epoch 264/500\n",
            "2/2 [==============================] - 0s 7ms/step - loss: 20.2059 - mae: 20.2059\n",
            "Epoch 265/500\n",
            "2/2 [==============================] - 0s 7ms/step - loss: 9.7464 - mae: 9.7464\n",
            "Epoch 266/500\n",
            "2/2 [==============================] - 0s 7ms/step - loss: 7.8416 - mae: 7.8416\n",
            "Epoch 267/500\n",
            "2/2 [==============================] - 0s 7ms/step - loss: 7.6037 - mae: 7.6037\n",
            "Epoch 268/500\n",
            "2/2 [==============================] - 0s 7ms/step - loss: 18.4204 - mae: 18.4204\n",
            "Epoch 269/500\n",
            "2/2 [==============================] - 0s 7ms/step - loss: 21.7972 - mae: 21.7972\n",
            "Epoch 270/500\n",
            "2/2 [==============================] - 0s 7ms/step - loss: 5.4622 - mae: 5.4622\n",
            "Epoch 271/500\n",
            "2/2 [==============================] - 0s 6ms/step - loss: 12.0861 - mae: 12.0861\n",
            "Epoch 272/500\n",
            "2/2 [==============================] - 0s 6ms/step - loss: 26.1141 - mae: 26.1141\n",
            "Epoch 273/500\n",
            "2/2 [==============================] - 0s 7ms/step - loss: 12.2132 - mae: 12.2132\n",
            "Epoch 274/500\n",
            "2/2 [==============================] - 0s 6ms/step - loss: 13.3106 - mae: 13.3106\n",
            "Epoch 275/500\n",
            "2/2 [==============================] - 0s 6ms/step - loss: 29.3565 - mae: 29.3565\n",
            "Epoch 276/500\n",
            "2/2 [==============================] - 0s 7ms/step - loss: 7.3269 - mae: 7.3269\n",
            "Epoch 277/500\n",
            "2/2 [==============================] - 0s 7ms/step - loss: 31.1175 - mae: 31.1175\n",
            "Epoch 278/500\n",
            "2/2 [==============================] - 0s 6ms/step - loss: 12.2742 - mae: 12.2742\n",
            "Epoch 279/500\n",
            "2/2 [==============================] - 0s 6ms/step - loss: 16.3886 - mae: 16.3886\n",
            "Epoch 280/500\n",
            "2/2 [==============================] - 0s 7ms/step - loss: 21.8699 - mae: 21.8699\n",
            "Epoch 281/500\n",
            "2/2 [==============================] - 0s 6ms/step - loss: 22.2500 - mae: 22.2500\n",
            "Epoch 282/500\n",
            "2/2 [==============================] - 0s 6ms/step - loss: 7.7574 - mae: 7.7574\n",
            "Epoch 283/500\n",
            "2/2 [==============================] - 0s 6ms/step - loss: 8.1460 - mae: 8.1460\n",
            "Epoch 284/500\n",
            "2/2 [==============================] - 0s 6ms/step - loss: 25.0536 - mae: 25.0536\n",
            "Epoch 285/500\n",
            "2/2 [==============================] - 0s 6ms/step - loss: 13.7800 - mae: 13.7800\n",
            "Epoch 286/500\n",
            "2/2 [==============================] - 0s 7ms/step - loss: 6.8814 - mae: 6.8814\n",
            "Epoch 287/500\n",
            "2/2 [==============================] - 0s 7ms/step - loss: 24.4919 - mae: 24.4919\n",
            "Epoch 288/500\n",
            "2/2 [==============================] - 0s 6ms/step - loss: 20.2928 - mae: 20.2928\n",
            "Epoch 289/500\n",
            "2/2 [==============================] - 0s 6ms/step - loss: 11.9270 - mae: 11.9270\n",
            "Epoch 290/500\n",
            "2/2 [==============================] - 0s 7ms/step - loss: 16.5021 - mae: 16.5021\n",
            "Epoch 291/500\n",
            "2/2 [==============================] - 0s 6ms/step - loss: 16.7524 - mae: 16.7524\n",
            "Epoch 292/500\n",
            "2/2 [==============================] - 0s 6ms/step - loss: 8.8218 - mae: 8.8218\n",
            "Epoch 293/500\n",
            "2/2 [==============================] - 0s 6ms/step - loss: 15.6883 - mae: 15.6883\n",
            "Epoch 294/500\n",
            "2/2 [==============================] - 0s 6ms/step - loss: 23.5723 - mae: 23.5723\n",
            "Epoch 295/500\n",
            "2/2 [==============================] - 0s 7ms/step - loss: 16.0290 - mae: 16.0290\n",
            "Epoch 296/500\n",
            "2/2 [==============================] - 0s 7ms/step - loss: 5.3754 - mae: 5.3754\n",
            "Epoch 297/500\n",
            "2/2 [==============================] - 0s 6ms/step - loss: 12.5886 - mae: 12.5886\n",
            "Epoch 298/500\n",
            "2/2 [==============================] - 0s 6ms/step - loss: 24.3462 - mae: 24.3462\n",
            "Epoch 299/500\n",
            "2/2 [==============================] - 0s 6ms/step - loss: 17.6237 - mae: 17.6237\n",
            "Epoch 300/500\n",
            "2/2 [==============================] - 0s 6ms/step - loss: 6.9579 - mae: 6.9579\n",
            "Epoch 301/500\n",
            "2/2 [==============================] - 0s 7ms/step - loss: 25.0556 - mae: 25.0556\n",
            "Epoch 302/500\n",
            "2/2 [==============================] - 0s 11ms/step - loss: 8.8569 - mae: 8.8569\n",
            "Epoch 303/500\n",
            "2/2 [==============================] - 0s 7ms/step - loss: 17.6689 - mae: 17.6689\n",
            "Epoch 304/500\n",
            "2/2 [==============================] - 0s 8ms/step - loss: 10.9441 - mae: 10.9441\n",
            "Epoch 305/500\n",
            "2/2 [==============================] - 0s 7ms/step - loss: 12.8465 - mae: 12.8465\n",
            "Epoch 306/500\n",
            "2/2 [==============================] - 0s 6ms/step - loss: 8.3622 - mae: 8.3622\n",
            "Epoch 307/500\n",
            "2/2 [==============================] - 0s 6ms/step - loss: 13.2822 - mae: 13.2822\n",
            "Epoch 308/500\n",
            "2/2 [==============================] - 0s 7ms/step - loss: 8.2284 - mae: 8.2284\n",
            "Epoch 309/500\n",
            "2/2 [==============================] - 0s 7ms/step - loss: 12.2097 - mae: 12.2097\n",
            "Epoch 310/500\n",
            "2/2 [==============================] - 0s 7ms/step - loss: 4.6128 - mae: 4.6128\n",
            "Epoch 311/500\n",
            "2/2 [==============================] - 0s 7ms/step - loss: 14.1700 - mae: 14.1700\n",
            "Epoch 312/500\n",
            "2/2 [==============================] - 0s 6ms/step - loss: 27.2026 - mae: 27.2026\n",
            "Epoch 313/500\n",
            "2/2 [==============================] - 0s 6ms/step - loss: 14.8907 - mae: 14.8907\n",
            "Epoch 314/500\n",
            "2/2 [==============================] - 0s 7ms/step - loss: 13.0076 - mae: 13.0076\n",
            "Epoch 315/500\n",
            "2/2 [==============================] - 0s 6ms/step - loss: 25.1847 - mae: 25.1847\n",
            "Epoch 316/500\n",
            "2/2 [==============================] - 0s 7ms/step - loss: 13.3214 - mae: 13.3214\n",
            "Epoch 317/500\n",
            "2/2 [==============================] - 0s 7ms/step - loss: 20.3861 - mae: 20.3861\n",
            "Epoch 318/500\n",
            "2/2 [==============================] - 0s 6ms/step - loss: 8.5955 - mae: 8.5955\n",
            "Epoch 319/500\n",
            "2/2 [==============================] - 0s 6ms/step - loss: 15.0587 - mae: 15.0587\n",
            "Epoch 320/500\n",
            "2/2 [==============================] - 0s 7ms/step - loss: 8.2361 - mae: 8.2361\n",
            "Epoch 321/500\n",
            "2/2 [==============================] - 0s 6ms/step - loss: 14.4639 - mae: 14.4639\n",
            "Epoch 322/500\n",
            "2/2 [==============================] - 0s 7ms/step - loss: 12.8581 - mae: 12.8581\n",
            "Epoch 323/500\n",
            "2/2 [==============================] - 0s 7ms/step - loss: 19.1692 - mae: 19.1692\n",
            "Epoch 324/500\n",
            "2/2 [==============================] - 0s 7ms/step - loss: 16.8429 - mae: 16.8429\n",
            "Epoch 325/500\n",
            "2/2 [==============================] - 0s 6ms/step - loss: 9.3223 - mae: 9.3223\n",
            "Epoch 326/500\n",
            "2/2 [==============================] - 0s 6ms/step - loss: 20.0097 - mae: 20.0097\n",
            "Epoch 327/500\n",
            "2/2 [==============================] - 0s 6ms/step - loss: 27.8639 - mae: 27.8639\n",
            "Epoch 328/500\n",
            "2/2 [==============================] - 0s 6ms/step - loss: 11.7555 - mae: 11.7555\n",
            "Epoch 329/500\n",
            "2/2 [==============================] - 0s 7ms/step - loss: 16.4432 - mae: 16.4432\n",
            "Epoch 330/500\n",
            "2/2 [==============================] - 0s 7ms/step - loss: 7.2576 - mae: 7.2576\n",
            "Epoch 331/500\n",
            "2/2 [==============================] - 0s 7ms/step - loss: 22.4191 - mae: 22.4191\n",
            "Epoch 332/500\n",
            "2/2 [==============================] - 0s 6ms/step - loss: 13.2290 - mae: 13.2290\n",
            "Epoch 333/500\n",
            "2/2 [==============================] - 0s 7ms/step - loss: 10.0615 - mae: 10.0615\n",
            "Epoch 334/500\n",
            "2/2 [==============================] - 0s 6ms/step - loss: 6.5431 - mae: 6.5431\n",
            "Epoch 335/500\n",
            "2/2 [==============================] - 0s 6ms/step - loss: 6.2324 - mae: 6.2324\n",
            "Epoch 336/500\n",
            "2/2 [==============================] - 0s 7ms/step - loss: 34.4070 - mae: 34.4070\n",
            "Epoch 337/500\n",
            "2/2 [==============================] - 0s 7ms/step - loss: 26.8421 - mae: 26.8421\n",
            "Epoch 338/500\n",
            "2/2 [==============================] - 0s 7ms/step - loss: 13.9235 - mae: 13.9235\n",
            "Epoch 339/500\n",
            "2/2 [==============================] - 0s 7ms/step - loss: 11.4802 - mae: 11.4802\n",
            "Epoch 340/500\n",
            "2/2 [==============================] - 0s 6ms/step - loss: 8.8182 - mae: 8.8182\n",
            "Epoch 341/500\n",
            "2/2 [==============================] - 0s 7ms/step - loss: 23.4759 - mae: 23.4759\n",
            "Epoch 342/500\n",
            "2/2 [==============================] - 0s 6ms/step - loss: 13.8509 - mae: 13.8509\n",
            "Epoch 343/500\n",
            "2/2 [==============================] - 0s 7ms/step - loss: 14.8369 - mae: 14.8369\n",
            "Epoch 344/500\n",
            "2/2 [==============================] - 0s 7ms/step - loss: 13.3732 - mae: 13.3732\n",
            "Epoch 345/500\n",
            "2/2 [==============================] - 0s 6ms/step - loss: 31.0267 - mae: 31.0267\n",
            "Epoch 346/500\n",
            "2/2 [==============================] - 0s 7ms/step - loss: 10.6932 - mae: 10.6932\n",
            "Epoch 347/500\n",
            "2/2 [==============================] - 0s 7ms/step - loss: 25.7240 - mae: 25.7240\n",
            "Epoch 348/500\n",
            "2/2 [==============================] - 0s 8ms/step - loss: 12.8836 - mae: 12.8836\n",
            "Epoch 349/500\n",
            "2/2 [==============================] - 0s 6ms/step - loss: 13.1440 - mae: 13.1440\n",
            "Epoch 350/500\n",
            "2/2 [==============================] - 0s 7ms/step - loss: 15.4251 - mae: 15.4251\n",
            "Epoch 351/500\n",
            "2/2 [==============================] - 0s 6ms/step - loss: 32.9542 - mae: 32.9542\n",
            "Epoch 352/500\n",
            "2/2 [==============================] - 0s 6ms/step - loss: 14.1833 - mae: 14.1833\n",
            "Epoch 353/500\n",
            "2/2 [==============================] - 0s 7ms/step - loss: 15.9031 - mae: 15.9031\n",
            "Epoch 354/500\n",
            "2/2 [==============================] - 0s 7ms/step - loss: 19.0537 - mae: 19.0537\n",
            "Epoch 355/500\n",
            "2/2 [==============================] - 0s 7ms/step - loss: 34.2114 - mae: 34.2114\n",
            "Epoch 356/500\n",
            "2/2 [==============================] - 0s 7ms/step - loss: 8.2535 - mae: 8.2535\n",
            "Epoch 357/500\n",
            "2/2 [==============================] - 0s 7ms/step - loss: 21.7782 - mae: 21.7782\n",
            "Epoch 358/500\n",
            "2/2 [==============================] - 0s 7ms/step - loss: 19.8986 - mae: 19.8986\n",
            "Epoch 359/500\n",
            "2/2 [==============================] - 0s 6ms/step - loss: 11.0535 - mae: 11.0535\n",
            "Epoch 360/500\n",
            "2/2 [==============================] - 0s 7ms/step - loss: 20.3058 - mae: 20.3058\n",
            "Epoch 361/500\n",
            "2/2 [==============================] - 0s 7ms/step - loss: 10.9428 - mae: 10.9428\n",
            "Epoch 362/500\n",
            "2/2 [==============================] - 0s 6ms/step - loss: 6.7803 - mae: 6.7803\n",
            "Epoch 363/500\n",
            "2/2 [==============================] - 0s 10ms/step - loss: 23.9331 - mae: 23.9331\n",
            "Epoch 364/500\n",
            "2/2 [==============================] - 0s 7ms/step - loss: 29.6699 - mae: 29.6699\n",
            "Epoch 365/500\n",
            "2/2 [==============================] - 0s 7ms/step - loss: 8.2947 - mae: 8.2947\n",
            "Epoch 366/500\n",
            "2/2 [==============================] - 0s 7ms/step - loss: 6.0628 - mae: 6.0628\n",
            "Epoch 367/500\n",
            "2/2 [==============================] - 0s 7ms/step - loss: 34.8628 - mae: 34.8628\n",
            "Epoch 368/500\n",
            "2/2 [==============================] - 0s 7ms/step - loss: 7.3652 - mae: 7.3652\n",
            "Epoch 369/500\n",
            "2/2 [==============================] - 0s 7ms/step - loss: 9.1938 - mae: 9.1938\n",
            "Epoch 370/500\n",
            "2/2 [==============================] - 0s 6ms/step - loss: 10.9098 - mae: 10.9098\n",
            "Epoch 371/500\n",
            "2/2 [==============================] - 0s 7ms/step - loss: 8.9751 - mae: 8.9751\n",
            "Epoch 372/500\n",
            "2/2 [==============================] - 0s 8ms/step - loss: 7.6749 - mae: 7.6749\n",
            "Epoch 373/500\n",
            "2/2 [==============================] - 0s 8ms/step - loss: 25.0414 - mae: 25.0414\n",
            "Epoch 374/500\n",
            "2/2 [==============================] - 0s 7ms/step - loss: 13.2540 - mae: 13.2540\n",
            "Epoch 375/500\n",
            "2/2 [==============================] - 0s 7ms/step - loss: 11.8306 - mae: 11.8306\n",
            "Epoch 376/500\n",
            "2/2 [==============================] - 0s 6ms/step - loss: 14.1142 - mae: 14.1142\n",
            "Epoch 377/500\n",
            "2/2 [==============================] - 0s 6ms/step - loss: 15.6911 - mae: 15.6911\n",
            "Epoch 378/500\n",
            "2/2 [==============================] - 0s 6ms/step - loss: 17.0026 - mae: 17.0026\n",
            "Epoch 379/500\n",
            "2/2 [==============================] - 0s 7ms/step - loss: 19.4620 - mae: 19.4620\n",
            "Epoch 380/500\n",
            "2/2 [==============================] - 0s 6ms/step - loss: 15.8221 - mae: 15.8221\n",
            "Epoch 381/500\n",
            "2/2 [==============================] - 0s 6ms/step - loss: 11.4285 - mae: 11.4285\n",
            "Epoch 382/500\n",
            "2/2 [==============================] - 0s 7ms/step - loss: 16.3093 - mae: 16.3093\n",
            "Epoch 383/500\n",
            "2/2 [==============================] - 0s 7ms/step - loss: 22.0536 - mae: 22.0536\n",
            "Epoch 384/500\n",
            "2/2 [==============================] - 0s 6ms/step - loss: 7.7707 - mae: 7.7707\n",
            "Epoch 385/500\n",
            "2/2 [==============================] - 0s 6ms/step - loss: 10.5739 - mae: 10.5739\n",
            "Epoch 386/500\n",
            "2/2 [==============================] - 0s 7ms/step - loss: 19.0271 - mae: 19.0271\n",
            "Epoch 387/500\n",
            "2/2 [==============================] - 0s 6ms/step - loss: 26.6484 - mae: 26.6484\n",
            "Epoch 388/500\n",
            "2/2 [==============================] - 0s 6ms/step - loss: 10.1706 - mae: 10.1706\n",
            "Epoch 389/500\n",
            "2/2 [==============================] - 0s 7ms/step - loss: 5.1658 - mae: 5.1658\n",
            "Epoch 390/500\n",
            "2/2 [==============================] - 0s 6ms/step - loss: 18.9714 - mae: 18.9714\n",
            "Epoch 391/500\n",
            "2/2 [==============================] - 0s 6ms/step - loss: 9.2794 - mae: 9.2794\n",
            "Epoch 392/500\n",
            "2/2 [==============================] - 0s 7ms/step - loss: 14.3565 - mae: 14.3565\n",
            "Epoch 393/500\n",
            "2/2 [==============================] - 0s 7ms/step - loss: 15.3568 - mae: 15.3568\n",
            "Epoch 394/500\n",
            "2/2 [==============================] - 0s 6ms/step - loss: 14.7100 - mae: 14.7100\n",
            "Epoch 395/500\n",
            "2/2 [==============================] - 0s 6ms/step - loss: 24.9115 - mae: 24.9115\n",
            "Epoch 396/500\n",
            "2/2 [==============================] - 0s 7ms/step - loss: 19.3166 - mae: 19.3166\n",
            "Epoch 397/500\n",
            "2/2 [==============================] - 0s 7ms/step - loss: 11.5261 - mae: 11.5261\n",
            "Epoch 398/500\n",
            "2/2 [==============================] - 0s 6ms/step - loss: 19.1342 - mae: 19.1342\n",
            "Epoch 399/500\n",
            "2/2 [==============================] - 0s 6ms/step - loss: 26.1361 - mae: 26.1361\n",
            "Epoch 400/500\n",
            "2/2 [==============================] - 0s 7ms/step - loss: 15.7752 - mae: 15.7752\n",
            "Epoch 401/500\n",
            "2/2 [==============================] - 0s 6ms/step - loss: 14.6125 - mae: 14.6125\n",
            "Epoch 402/500\n",
            "2/2 [==============================] - 0s 9ms/step - loss: 24.2028 - mae: 24.2028\n",
            "Epoch 403/500\n",
            "2/2 [==============================] - 0s 6ms/step - loss: 16.5788 - mae: 16.5788\n",
            "Epoch 404/500\n",
            "2/2 [==============================] - 0s 7ms/step - loss: 9.5366 - mae: 9.5366\n",
            "Epoch 405/500\n",
            "2/2 [==============================] - 0s 9ms/step - loss: 6.7893 - mae: 6.7893\n",
            "Epoch 406/500\n",
            "2/2 [==============================] - 0s 6ms/step - loss: 19.8332 - mae: 19.8332\n",
            "Epoch 407/500\n",
            "2/2 [==============================] - 0s 6ms/step - loss: 9.7050 - mae: 9.7050\n",
            "Epoch 408/500\n",
            "2/2 [==============================] - 0s 6ms/step - loss: 21.3727 - mae: 21.3727\n",
            "Epoch 409/500\n",
            "2/2 [==============================] - 0s 6ms/step - loss: 29.4392 - mae: 29.4392\n",
            "Epoch 410/500\n",
            "2/2 [==============================] - 0s 6ms/step - loss: 10.0224 - mae: 10.0224\n",
            "Epoch 411/500\n",
            "2/2 [==============================] - 0s 6ms/step - loss: 14.8478 - mae: 14.8478\n",
            "Epoch 412/500\n",
            "2/2 [==============================] - 0s 7ms/step - loss: 21.7026 - mae: 21.7026\n",
            "Epoch 413/500\n",
            "2/2 [==============================] - 0s 6ms/step - loss: 12.6752 - mae: 12.6752\n",
            "Epoch 414/500\n",
            "2/2 [==============================] - 0s 8ms/step - loss: 6.0398 - mae: 6.0398\n",
            "Epoch 415/500\n",
            "2/2 [==============================] - 0s 8ms/step - loss: 13.2127 - mae: 13.2127\n",
            "Epoch 416/500\n",
            "2/2 [==============================] - 0s 7ms/step - loss: 27.4105 - mae: 27.4105\n",
            "Epoch 417/500\n",
            "2/2 [==============================] - 0s 7ms/step - loss: 10.6715 - mae: 10.6715\n",
            "Epoch 418/500\n",
            "2/2 [==============================] - 0s 7ms/step - loss: 12.8046 - mae: 12.8046\n",
            "Epoch 419/500\n",
            "2/2 [==============================] - 0s 7ms/step - loss: 15.8648 - mae: 15.8648\n",
            "Epoch 420/500\n",
            "2/2 [==============================] - 0s 7ms/step - loss: 24.7258 - mae: 24.7258\n",
            "Epoch 421/500\n",
            "2/2 [==============================] - 0s 6ms/step - loss: 17.5404 - mae: 17.5404\n",
            "Epoch 422/500\n",
            "2/2 [==============================] - 0s 6ms/step - loss: 8.7079 - mae: 8.7079\n",
            "Epoch 423/500\n",
            "2/2 [==============================] - 0s 6ms/step - loss: 24.9165 - mae: 24.9165\n",
            "Epoch 424/500\n",
            "2/2 [==============================] - 0s 7ms/step - loss: 16.1155 - mae: 16.1155\n",
            "Epoch 425/500\n",
            "2/2 [==============================] - 0s 6ms/step - loss: 7.4493 - mae: 7.4493\n",
            "Epoch 426/500\n",
            "2/2 [==============================] - 0s 6ms/step - loss: 21.5432 - mae: 21.5432\n",
            "Epoch 427/500\n",
            "2/2 [==============================] - 0s 6ms/step - loss: 6.6408 - mae: 6.6408\n",
            "Epoch 428/500\n",
            "2/2 [==============================] - 0s 6ms/step - loss: 13.8253 - mae: 13.8253\n",
            "Epoch 429/500\n",
            "2/2 [==============================] - 0s 7ms/step - loss: 11.7781 - mae: 11.7781\n",
            "Epoch 430/500\n",
            "2/2 [==============================] - 0s 7ms/step - loss: 10.5154 - mae: 10.5154\n",
            "Epoch 431/500\n",
            "2/2 [==============================] - 0s 6ms/step - loss: 12.0696 - mae: 12.0696\n",
            "Epoch 432/500\n",
            "2/2 [==============================] - 0s 7ms/step - loss: 7.5972 - mae: 7.5972\n",
            "Epoch 433/500\n",
            "2/2 [==============================] - 0s 6ms/step - loss: 14.8530 - mae: 14.8530\n",
            "Epoch 434/500\n",
            "2/2 [==============================] - 0s 6ms/step - loss: 17.9791 - mae: 17.9791\n",
            "Epoch 435/500\n",
            "2/2 [==============================] - 0s 7ms/step - loss: 9.7013 - mae: 9.7013\n",
            "Epoch 436/500\n",
            "2/2 [==============================] - 0s 6ms/step - loss: 29.1029 - mae: 29.1029\n",
            "Epoch 437/500\n",
            "2/2 [==============================] - 0s 7ms/step - loss: 9.2540 - mae: 9.2540\n",
            "Epoch 438/500\n",
            "2/2 [==============================] - 0s 7ms/step - loss: 12.6844 - mae: 12.6844\n",
            "Epoch 439/500\n",
            "2/2 [==============================] - 0s 6ms/step - loss: 33.5415 - mae: 33.5415\n",
            "Epoch 440/500\n",
            "2/2 [==============================] - 0s 6ms/step - loss: 14.8979 - mae: 14.8979\n",
            "Epoch 441/500\n",
            "2/2 [==============================] - 0s 9ms/step - loss: 17.3319 - mae: 17.3319\n",
            "Epoch 442/500\n",
            "2/2 [==============================] - 0s 10ms/step - loss: 21.9951 - mae: 21.9951\n",
            "Epoch 443/500\n",
            "2/2 [==============================] - 0s 7ms/step - loss: 24.3201 - mae: 24.3201\n",
            "Epoch 444/500\n",
            "2/2 [==============================] - 0s 7ms/step - loss: 11.5895 - mae: 11.5895\n",
            "Epoch 445/500\n",
            "2/2 [==============================] - 0s 7ms/step - loss: 14.7350 - mae: 14.7350\n",
            "Epoch 446/500\n",
            "2/2 [==============================] - 0s 8ms/step - loss: 17.7334 - mae: 17.7334\n",
            "Epoch 447/500\n",
            "2/2 [==============================] - 0s 7ms/step - loss: 5.7034 - mae: 5.7034\n",
            "Epoch 448/500\n",
            "2/2 [==============================] - 0s 6ms/step - loss: 9.4760 - mae: 9.4760\n",
            "Epoch 449/500\n",
            "2/2 [==============================] - 0s 7ms/step - loss: 14.1450 - mae: 14.1450\n",
            "Epoch 450/500\n",
            "2/2 [==============================] - 0s 7ms/step - loss: 16.9093 - mae: 16.9093\n",
            "Epoch 451/500\n",
            "2/2 [==============================] - 0s 7ms/step - loss: 14.3423 - mae: 14.3423\n",
            "Epoch 452/500\n",
            "2/2 [==============================] - 0s 8ms/step - loss: 30.7396 - mae: 30.7396\n",
            "Epoch 453/500\n",
            "2/2 [==============================] - 0s 7ms/step - loss: 8.4000 - mae: 8.4000\n",
            "Epoch 454/500\n",
            "2/2 [==============================] - 0s 7ms/step - loss: 27.6495 - mae: 27.6495\n",
            "Epoch 455/500\n",
            "2/2 [==============================] - 0s 7ms/step - loss: 9.9335 - mae: 9.9335\n",
            "Epoch 456/500\n",
            "2/2 [==============================] - 0s 7ms/step - loss: 14.5856 - mae: 14.5856\n",
            "Epoch 457/500\n",
            "2/2 [==============================] - 0s 7ms/step - loss: 17.7419 - mae: 17.7419\n",
            "Epoch 458/500\n",
            "2/2 [==============================] - 0s 7ms/step - loss: 14.0301 - mae: 14.0301\n",
            "Epoch 459/500\n",
            "2/2 [==============================] - 0s 7ms/step - loss: 25.9461 - mae: 25.9461\n",
            "Epoch 460/500\n",
            "2/2 [==============================] - 0s 8ms/step - loss: 14.9294 - mae: 14.9294\n",
            "Epoch 461/500\n",
            "2/2 [==============================] - 0s 7ms/step - loss: 11.9575 - mae: 11.9575\n",
            "Epoch 462/500\n",
            "2/2 [==============================] - 0s 6ms/step - loss: 13.2838 - mae: 13.2838\n",
            "Epoch 463/500\n",
            "2/2 [==============================] - 0s 6ms/step - loss: 29.4858 - mae: 29.4858\n",
            "Epoch 464/500\n",
            "2/2 [==============================] - 0s 6ms/step - loss: 3.2012 - mae: 3.2012\n",
            "Epoch 465/500\n",
            "2/2 [==============================] - 0s 7ms/step - loss: 7.5993 - mae: 7.5993\n",
            "Epoch 466/500\n",
            "2/2 [==============================] - 0s 6ms/step - loss: 16.5224 - mae: 16.5224\n",
            "Epoch 467/500\n",
            "2/2 [==============================] - 0s 7ms/step - loss: 17.4940 - mae: 17.4940\n",
            "Epoch 468/500\n",
            "2/2 [==============================] - 0s 7ms/step - loss: 12.9234 - mae: 12.9234\n",
            "Epoch 469/500\n",
            "2/2 [==============================] - 0s 7ms/step - loss: 29.2202 - mae: 29.2202\n",
            "Epoch 470/500\n",
            "2/2 [==============================] - 0s 7ms/step - loss: 7.2337 - mae: 7.2337\n",
            "Epoch 471/500\n",
            "2/2 [==============================] - 0s 7ms/step - loss: 26.2639 - mae: 26.2639\n",
            "Epoch 472/500\n",
            "2/2 [==============================] - 0s 7ms/step - loss: 12.4373 - mae: 12.4373\n",
            "Epoch 473/500\n",
            "2/2 [==============================] - 0s 7ms/step - loss: 14.7778 - mae: 14.7778\n",
            "Epoch 474/500\n",
            "2/2 [==============================] - 0s 6ms/step - loss: 18.7288 - mae: 18.7288\n",
            "Epoch 475/500\n",
            "2/2 [==============================] - 0s 6ms/step - loss: 12.1843 - mae: 12.1843\n",
            "Epoch 476/500\n",
            "2/2 [==============================] - 0s 6ms/step - loss: 13.7183 - mae: 13.7183\n",
            "Epoch 477/500\n",
            "2/2 [==============================] - 0s 7ms/step - loss: 30.3666 - mae: 30.3666\n",
            "Epoch 478/500\n",
            "2/2 [==============================] - 0s 7ms/step - loss: 7.4630 - mae: 7.4630\n",
            "Epoch 479/500\n",
            "2/2 [==============================] - 0s 7ms/step - loss: 11.3177 - mae: 11.3177\n",
            "Epoch 480/500\n",
            "2/2 [==============================] - 0s 7ms/step - loss: 17.9863 - mae: 17.9863\n",
            "Epoch 481/500\n",
            "2/2 [==============================] - 0s 7ms/step - loss: 15.8691 - mae: 15.8691\n",
            "Epoch 482/500\n",
            "2/2 [==============================] - 0s 7ms/step - loss: 21.4467 - mae: 21.4467\n",
            "Epoch 483/500\n",
            "2/2 [==============================] - 0s 6ms/step - loss: 25.0849 - mae: 25.0849\n",
            "Epoch 484/500\n",
            "2/2 [==============================] - 0s 7ms/step - loss: 23.6431 - mae: 23.6431\n",
            "Epoch 485/500\n",
            "2/2 [==============================] - 0s 7ms/step - loss: 5.6776 - mae: 5.6776\n",
            "Epoch 486/500\n",
            "2/2 [==============================] - 0s 7ms/step - loss: 19.6835 - mae: 19.6835\n",
            "Epoch 487/500\n",
            "2/2 [==============================] - 0s 7ms/step - loss: 14.0710 - mae: 14.0710\n",
            "Epoch 488/500\n",
            "2/2 [==============================] - 0s 7ms/step - loss: 30.6720 - mae: 30.6720\n",
            "Epoch 489/500\n",
            "2/2 [==============================] - 0s 7ms/step - loss: 12.0288 - mae: 12.0288\n",
            "Epoch 490/500\n",
            "2/2 [==============================] - 0s 7ms/step - loss: 12.7773 - mae: 12.7773\n",
            "Epoch 491/500\n",
            "2/2 [==============================] - 0s 7ms/step - loss: 23.7086 - mae: 23.7086\n",
            "Epoch 492/500\n",
            "2/2 [==============================] - 0s 7ms/step - loss: 20.3018 - mae: 20.3018\n",
            "Epoch 493/500\n",
            "2/2 [==============================] - 0s 7ms/step - loss: 4.9058 - mae: 4.9058\n",
            "Epoch 494/500\n",
            "2/2 [==============================] - 0s 7ms/step - loss: 12.5988 - mae: 12.5988\n",
            "Epoch 495/500\n",
            "2/2 [==============================] - 0s 7ms/step - loss: 13.4440 - mae: 13.4440\n",
            "Epoch 496/500\n",
            "2/2 [==============================] - 0s 7ms/step - loss: 12.7181 - mae: 12.7181\n",
            "Epoch 497/500\n",
            "2/2 [==============================] - 0s 7ms/step - loss: 17.6959 - mae: 17.6959\n",
            "Epoch 498/500\n",
            "2/2 [==============================] - 0s 7ms/step - loss: 23.3732 - mae: 23.3732\n",
            "Epoch 499/500\n",
            "2/2 [==============================] - 0s 6ms/step - loss: 9.2203 - mae: 9.2203\n",
            "Epoch 500/500\n",
            "2/2 [==============================] - 0s 7ms/step - loss: 14.6370 - mae: 14.6370\n"
          ]
        },
        {
          "output_type": "execute_result",
          "data": {
            "text/plain": [
              "<keras.callbacks.History at 0x7f4a86611c90>"
            ]
          },
          "metadata": {},
          "execution_count": 60
        }
      ]
    },
    {
      "cell_type": "code",
      "source": [
        "# Make and plot predictions\n",
        "y_preds_3 = model_3.predict(X_test)\n",
        "plot_predictions(predictions=y_preds_3)"
      ],
      "metadata": {
        "colab": {
          "base_uri": "https://localhost:8080/",
          "height": 616
        },
        "id": "M884J_Ft1OzU",
        "outputId": "1ef67fb7-128b-4719-8eb4-1a2a4238084d"
      },
      "execution_count": 61,
      "outputs": [
        {
          "output_type": "stream",
          "name": "stdout",
          "text": [
            "1/1 [==============================] - 0s 79ms/step\n"
          ]
        },
        {
          "output_type": "display_data",
          "data": {
            "text/plain": [
              "<Figure size 1000x700 with 1 Axes>"
            ],
            "image/png": "[encoded data removed]"
          },
          "metadata": {}
        }
      ]
    },
    {
      "cell_type": "code",
      "source": [
        "# Calculate model_3 evaluation metrics\n",
        "mae_3 = mae(y_test, y_preds_3)\n",
        "mse_3 = mse(y_test, y_preds_3)\n",
        "mae_3, mse_3"
      ],
      "metadata": {
        "colab": {
          "base_uri": "https://localhost:8080/"
        },
        "id": "F0CoeBO21fnZ",
        "outputId": "06e7cb89-3a03-4770-9c2b-0159f5281e71"
      },
      "execution_count": 62,
      "outputs": [
        {
          "output_type": "execute_result",
          "data": {
            "text/plain": [
              "(<tf.Tensor: shape=(), dtype=float32, numpy=68.71684>,\n",
              " <tf.Tensor: shape=(), dtype=float32, numpy=4808.5884>)"
            ]
          },
          "metadata": {},
          "execution_count": 62
        }
      ]
    },
    {
      "cell_type": "markdown",
      "source": [
        "**model_4**\n",
        "\n",
        "- 3 dense layers created for 100 epochs"
      ],
      "metadata": {
        "id": "GcNjpsi33qoh"
      }
    },
    {
      "cell_type": "code",
      "source": [
        "# Set random seed\n",
        "tf.random.set_seed(42)\n",
        "\n",
        "# 1. Create model\n",
        "model_4 = tf.keras.Sequential([\n",
        "    tf.keras.layers.Dense(10),\n",
        "    tf.keras.layers.Dense(5),\n",
        "    tf.keras.layers.Dense(1)\n",
        "])\n",
        "\n",
        "# 2. Compile model\n",
        "model_4.compile(loss=tf.keras.losses.mae,\n",
        "                optimizer=tf.keras.optimizers.SGD(),\n",
        "                metrics=[\"mae\"])\n",
        "\n",
        "# 3. Fit model\n",
        "model_4.fit(tf.expand_dims(X_train, -1), y_train, epochs=100)"
      ],
      "metadata": {
        "colab": {
          "base_uri": "https://localhost:8080/"
        },
        "id": "aEiJMVIH3st0",
        "outputId": "c20aa7ac-544b-4cd4-8509-d832efa74291"
      },
      "execution_count": 63,
      "outputs": [
        {
          "output_type": "stream",
          "name": "stdout",
          "text": [
            "Epoch 1/100\n",
            "2/2 [==============================] - 1s 12ms/step - loss: 61.7514 - mae: 61.7514\n",
            "Epoch 2/100\n",
            "2/2 [==============================] - 0s 8ms/step - loss: 31.9424 - mae: 31.9424\n",
            "Epoch 3/100\n",
            "2/2 [==============================] - 0s 12ms/step - loss: 19.6098 - mae: 19.6098\n",
            "Epoch 4/100\n",
            "2/2 [==============================] - 0s 9ms/step - loss: 17.0178 - mae: 17.0178\n",
            "Epoch 5/100\n",
            "2/2 [==============================] - 0s 6ms/step - loss: 32.4519 - mae: 32.4519\n",
            "Epoch 6/100\n",
            "2/2 [==============================] - 0s 6ms/step - loss: 16.0662 - mae: 16.0662\n",
            "Epoch 7/100\n",
            "2/2 [==============================] - 0s 7ms/step - loss: 22.7467 - mae: 22.7467\n",
            "Epoch 8/100\n",
            "2/2 [==============================] - 0s 10ms/step - loss: 8.8607 - mae: 8.8607\n",
            "Epoch 9/100\n",
            "2/2 [==============================] - 0s 7ms/step - loss: 34.9251 - mae: 34.9251\n",
            "Epoch 10/100\n",
            "2/2 [==============================] - 0s 8ms/step - loss: 19.0026 - mae: 19.0026\n",
            "Epoch 11/100\n",
            "2/2 [==============================] - 0s 12ms/step - loss: 11.7862 - mae: 11.7862\n",
            "Epoch 12/100\n",
            "2/2 [==============================] - 0s 9ms/step - loss: 39.9021 - mae: 39.9021\n",
            "Epoch 13/100\n",
            "2/2 [==============================] - 0s 6ms/step - loss: 17.3043 - mae: 17.3043\n",
            "Epoch 14/100\n",
            "2/2 [==============================] - 0s 7ms/step - loss: 27.7442 - mae: 27.7442\n",
            "Epoch 15/100\n",
            "2/2 [==============================] - 0s 7ms/step - loss: 19.6614 - mae: 19.6614\n",
            "Epoch 16/100\n",
            "2/2 [==============================] - 0s 7ms/step - loss: 19.4337 - mae: 19.4337\n",
            "Epoch 17/100\n",
            "2/2 [==============================] - 0s 8ms/step - loss: 20.6565 - mae: 20.6565\n",
            "Epoch 18/100\n",
            "2/2 [==============================] - 0s 7ms/step - loss: 30.6166 - mae: 30.6166\n",
            "Epoch 19/100\n",
            "2/2 [==============================] - 0s 9ms/step - loss: 21.0237 - mae: 21.0237\n",
            "Epoch 20/100\n",
            "2/2 [==============================] - 0s 8ms/step - loss: 27.7097 - mae: 27.7097\n",
            "Epoch 21/100\n",
            "2/2 [==============================] - 0s 7ms/step - loss: 20.1307 - mae: 20.1307\n",
            "Epoch 22/100\n",
            "2/2 [==============================] - 0s 7ms/step - loss: 15.2357 - mae: 15.2357\n",
            "Epoch 23/100\n",
            "2/2 [==============================] - 0s 8ms/step - loss: 21.5122 - mae: 21.5122\n",
            "Epoch 24/100\n",
            "2/2 [==============================] - 0s 7ms/step - loss: 24.9646 - mae: 24.9646\n",
            "Epoch 25/100\n",
            "2/2 [==============================] - 0s 7ms/step - loss: 29.3020 - mae: 29.3020\n",
            "Epoch 26/100\n",
            "2/2 [==============================] - 0s 7ms/step - loss: 17.2132 - mae: 17.2132\n",
            "Epoch 27/100\n",
            "2/2 [==============================] - 0s 10ms/step - loss: 31.8103 - mae: 31.8103\n",
            "Epoch 28/100\n",
            "2/2 [==============================] - 0s 9ms/step - loss: 13.3364 - mae: 13.3364\n",
            "Epoch 29/100\n",
            "2/2 [==============================] - 0s 7ms/step - loss: 26.0012 - mae: 26.0012\n",
            "Epoch 30/100\n",
            "2/2 [==============================] - 0s 6ms/step - loss: 33.5549 - mae: 33.5549\n",
            "Epoch 31/100\n",
            "2/2 [==============================] - 0s 6ms/step - loss: 14.8980 - mae: 14.8980\n",
            "Epoch 32/100\n",
            "2/2 [==============================] - 0s 7ms/step - loss: 13.3812 - mae: 13.3812\n",
            "Epoch 33/100\n",
            "2/2 [==============================] - 0s 7ms/step - loss: 30.6163 - mae: 30.6163\n",
            "Epoch 34/100\n",
            "2/2 [==============================] - 0s 7ms/step - loss: 8.8722 - mae: 8.8722\n",
            "Epoch 35/100\n",
            "2/2 [==============================] - 0s 8ms/step - loss: 9.9333 - mae: 9.9333\n",
            "Epoch 36/100\n",
            "2/2 [==============================] - 0s 6ms/step - loss: 29.6601 - mae: 29.6601\n",
            "Epoch 37/100\n",
            "2/2 [==============================] - 0s 7ms/step - loss: 27.5344 - mae: 27.5344\n",
            "Epoch 38/100\n",
            "2/2 [==============================] - 0s 8ms/step - loss: 18.0096 - mae: 18.0096\n",
            "Epoch 39/100\n",
            "2/2 [==============================] - 0s 7ms/step - loss: 18.4569 - mae: 18.4569\n",
            "Epoch 40/100\n",
            "2/2 [==============================] - 0s 9ms/step - loss: 31.1288 - mae: 31.1288\n",
            "Epoch 41/100\n",
            "2/2 [==============================] - 0s 7ms/step - loss: 10.1313 - mae: 10.1313\n",
            "Epoch 42/100\n",
            "2/2 [==============================] - 0s 7ms/step - loss: 27.1582 - mae: 27.1582\n",
            "Epoch 43/100\n",
            "2/2 [==============================] - 0s 7ms/step - loss: 15.4199 - mae: 15.4199\n",
            "Epoch 44/100\n",
            "2/2 [==============================] - 0s 7ms/step - loss: 21.4036 - mae: 21.4036\n",
            "Epoch 45/100\n",
            "2/2 [==============================] - 0s 9ms/step - loss: 18.0267 - mae: 18.0267\n",
            "Epoch 46/100\n",
            "2/2 [==============================] - 0s 9ms/step - loss: 16.5751 - mae: 16.5751\n",
            "Epoch 47/100\n",
            "2/2 [==============================] - 0s 7ms/step - loss: 9.9317 - mae: 9.9317\n",
            "Epoch 48/100\n",
            "2/2 [==============================] - 0s 8ms/step - loss: 26.4752 - mae: 26.4752\n",
            "Epoch 49/100\n",
            "2/2 [==============================] - 0s 8ms/step - loss: 11.4336 - mae: 11.4336\n",
            "Epoch 50/100\n",
            "2/2 [==============================] - 0s 7ms/step - loss: 14.3603 - mae: 14.3603\n",
            "Epoch 51/100\n",
            "2/2 [==============================] - 0s 7ms/step - loss: 13.2637 - mae: 13.2637\n",
            "Epoch 52/100\n",
            "2/2 [==============================] - 0s 7ms/step - loss: 38.6432 - mae: 38.6432\n",
            "Epoch 53/100\n",
            "2/2 [==============================] - 0s 7ms/step - loss: 34.4732 - mae: 34.4732\n",
            "Epoch 54/100\n",
            "2/2 [==============================] - 0s 9ms/step - loss: 17.2686 - mae: 17.2686\n",
            "Epoch 55/100\n",
            "2/2 [==============================] - 0s 8ms/step - loss: 32.9784 - mae: 32.9784\n",
            "Epoch 56/100\n",
            "2/2 [==============================] - 0s 9ms/step - loss: 15.9425 - mae: 15.9425\n",
            "Epoch 57/100\n",
            "2/2 [==============================] - 0s 7ms/step - loss: 29.3525 - mae: 29.3525\n",
            "Epoch 58/100\n",
            "2/2 [==============================] - 0s 7ms/step - loss: 9.6788 - mae: 9.6788\n",
            "Epoch 59/100\n",
            "2/2 [==============================] - 0s 7ms/step - loss: 11.2724 - mae: 11.2724\n",
            "Epoch 60/100\n",
            "2/2 [==============================] - 0s 8ms/step - loss: 10.0232 - mae: 10.0232\n",
            "Epoch 61/100\n",
            "2/2 [==============================] - 0s 8ms/step - loss: 12.5517 - mae: 12.5517\n",
            "Epoch 62/100\n",
            "2/2 [==============================] - 0s 7ms/step - loss: 13.2227 - mae: 13.2227\n",
            "Epoch 63/100\n",
            "2/2 [==============================] - 0s 10ms/step - loss: 14.2419 - mae: 14.2419\n",
            "Epoch 64/100\n",
            "2/2 [==============================] - 0s 9ms/step - loss: 11.0890 - mae: 11.0890\n",
            "Epoch 65/100\n",
            "2/2 [==============================] - 0s 7ms/step - loss: 12.0395 - mae: 12.0395\n",
            "Epoch 66/100\n",
            "2/2 [==============================] - 0s 7ms/step - loss: 30.7903 - mae: 30.7903\n",
            "Epoch 67/100\n",
            "2/2 [==============================] - 0s 7ms/step - loss: 19.7613 - mae: 19.7613\n",
            "Epoch 68/100\n",
            "2/2 [==============================] - 0s 7ms/step - loss: 20.3761 - mae: 20.3761\n",
            "Epoch 69/100\n",
            "2/2 [==============================] - 0s 9ms/step - loss: 30.0675 - mae: 30.0675\n",
            "Epoch 70/100\n",
            "2/2 [==============================] - 0s 8ms/step - loss: 8.0503 - mae: 8.0503\n",
            "Epoch 71/100\n",
            "2/2 [==============================] - 0s 7ms/step - loss: 31.6092 - mae: 31.6092\n",
            "Epoch 72/100\n",
            "2/2 [==============================] - 0s 14ms/step - loss: 19.4995 - mae: 19.4995\n",
            "Epoch 73/100\n",
            "2/2 [==============================] - 0s 6ms/step - loss: 15.0573 - mae: 15.0573\n",
            "Epoch 74/100\n",
            "2/2 [==============================] - 0s 9ms/step - loss: 32.3031 - mae: 32.3031\n",
            "Epoch 75/100\n",
            "2/2 [==============================] - 0s 9ms/step - loss: 16.3287 - mae: 16.3287\n",
            "Epoch 76/100\n",
            "2/2 [==============================] - 0s 7ms/step - loss: 33.3733 - mae: 33.3733\n",
            "Epoch 77/100\n",
            "2/2 [==============================] - 0s 7ms/step - loss: 17.8304 - mae: 17.8304\n",
            "Epoch 78/100\n",
            "2/2 [==============================] - 0s 7ms/step - loss: 31.5281 - mae: 31.5281\n",
            "Epoch 79/100\n",
            "2/2 [==============================] - 0s 8ms/step - loss: 11.1466 - mae: 11.1466\n",
            "Epoch 80/100\n",
            "2/2 [==============================] - 0s 9ms/step - loss: 37.3074 - mae: 37.3074\n",
            "Epoch 81/100\n",
            "2/2 [==============================] - 0s 7ms/step - loss: 30.7034 - mae: 30.7034\n",
            "Epoch 82/100\n",
            "2/2 [==============================] - 0s 7ms/step - loss: 16.3752 - mae: 16.3752\n",
            "Epoch 83/100\n",
            "2/2 [==============================] - 0s 7ms/step - loss: 25.9564 - mae: 25.9564\n",
            "Epoch 84/100\n",
            "2/2 [==============================] - 0s 7ms/step - loss: 14.4374 - mae: 14.4374\n",
            "Epoch 85/100\n",
            "2/2 [==============================] - 0s 7ms/step - loss: 31.9303 - mae: 31.9303\n",
            "Epoch 86/100\n",
            "2/2 [==============================] - 0s 7ms/step - loss: 18.6795 - mae: 18.6795\n",
            "Epoch 87/100\n",
            "2/2 [==============================] - 0s 7ms/step - loss: 29.6178 - mae: 29.6178\n",
            "Epoch 88/100\n",
            "2/2 [==============================] - 0s 7ms/step - loss: 13.0598 - mae: 13.0598\n",
            "Epoch 89/100\n",
            "2/2 [==============================] - 0s 7ms/step - loss: 13.1301 - mae: 13.1301\n",
            "Epoch 90/100\n",
            "2/2 [==============================] - 0s 7ms/step - loss: 29.2337 - mae: 29.2337\n",
            "Epoch 91/100\n",
            "2/2 [==============================] - 0s 7ms/step - loss: 18.7396 - mae: 18.7396\n",
            "Epoch 92/100\n",
            "2/2 [==============================] - 0s 8ms/step - loss: 17.3492 - mae: 17.3492\n",
            "Epoch 93/100\n",
            "2/2 [==============================] - 0s 9ms/step - loss: 23.1846 - mae: 23.1846\n",
            "Epoch 94/100\n",
            "2/2 [==============================] - 0s 7ms/step - loss: 21.6940 - mae: 21.6940\n",
            "Epoch 95/100\n",
            "2/2 [==============================] - 0s 7ms/step - loss: 18.1463 - mae: 18.1463\n",
            "Epoch 96/100\n",
            "2/2 [==============================] - 0s 7ms/step - loss: 21.8925 - mae: 21.8925\n",
            "Epoch 97/100\n",
            "2/2 [==============================] - 0s 7ms/step - loss: 54.7120 - mae: 54.7120\n",
            "Epoch 98/100\n",
            "2/2 [==============================] - 0s 7ms/step - loss: 25.8106 - mae: 25.8106\n",
            "Epoch 99/100\n",
            "2/2 [==============================] - 0s 7ms/step - loss: 27.7674 - mae: 27.7674\n",
            "Epoch 100/100\n",
            "2/2 [==============================] - 0s 7ms/step - loss: 16.9062 - mae: 16.9062\n"
          ]
        },
        {
          "output_type": "execute_result",
          "data": {
            "text/plain": [
              "<keras.callbacks.History at 0x7f4a866efb20>"
            ]
          },
          "metadata": {},
          "execution_count": 63
        }
      ]
    },
    {
      "cell_type": "code",
      "source": [
        "# Make and plot predictions\n",
        "y_preds_4 = model_4.predict(X_test)\n",
        "plot_predictions(predictions=y_preds_4)"
      ],
      "metadata": {
        "colab": {
          "base_uri": "https://localhost:8080/",
          "height": 616
        },
        "id": "oEdRKwP34Cgj",
        "outputId": "1e81e80e-26a4-4c35-8bc6-dcb0d01579bf"
      },
      "execution_count": 64,
      "outputs": [
        {
          "output_type": "stream",
          "name": "stdout",
          "text": [
            "1/1 [==============================] - 0s 58ms/step\n"
          ]
        },
        {
          "output_type": "display_data",
          "data": {
            "text/plain": [
              "<Figure size 1000x700 with 1 Axes>"
            ],
            "image/png": "[encoded data removed]"
          },
          "metadata": {}
        }
      ]
    },
    {
      "cell_type": "code",
      "source": [
        "# Calculate model_4 evaluation metrics\n",
        "mae_4 = mae(y_test, y_preds_4)\n",
        "mse_4 = mse(y_test, y_preds_4)\n",
        "mae_4, mse_4"
      ],
      "metadata": {
        "colab": {
          "base_uri": "https://localhost:8080/"
        },
        "id": "vlhDVAmO4S4-",
        "outputId": "52102146-19e2-496e-aa83-f2ab1d22b385"
      },
      "execution_count": 65,
      "outputs": [
        {
          "output_type": "execute_result",
          "data": {
            "text/plain": [
              "(<tf.Tensor: shape=(), dtype=float32, numpy=75.763115>,\n",
              " <tf.Tensor: shape=(), dtype=float32, numpy=5836.389>)"
            ]
          },
          "metadata": {},
          "execution_count": 65
        }
      ]
    },
    {
      "cell_type": "markdown",
      "source": [
        "**model_5**\n",
        "2 dense layers for 100 epochs but w/ Adam optimization lr=0.0001"
      ],
      "metadata": {
        "id": "4zSkVEZt4bGw"
      }
    },
    {
      "cell_type": "code",
      "source": [
        "# Set random seed\n",
        "tf.random.set_seed(42)\n",
        "\n",
        "# 1. Create model\n",
        "model_5 = tf.keras.Sequential([\n",
        "    tf.keras.layers.Dense(10),\n",
        "    tf.keras.layers.Dense(1)\n",
        "])\n",
        "\n",
        "# 2. Compile model\n",
        "model_5.compile(loss=tf.keras.losses.mae,\n",
        "                optimizer=tf.keras.optimizers.Adam(lr=0.001),\n",
        "                metrics=[\"mae\"])\n",
        "\n",
        "# 3. Fit model\n",
        "model_5.fit(tf.expand_dims(X_train, -1), y_train, epochs=100)"
      ],
      "metadata": {
        "colab": {
          "base_uri": "https://localhost:8080/"
        },
        "id": "meicz1Kl4rtj",
        "outputId": "1c32249d-dd6a-4eba-b129-a790f3e7305d"
      },
      "execution_count": 66,
      "outputs": [
        {
          "output_type": "stream",
          "name": "stderr",
          "text": [
            "WARNING:absl:`lr` is deprecated in Keras optimizer, please use `learning_rate` or use the legacy optimizer, e.g.,tf.keras.optimizers.legacy.Adam.\n"
          ]
        },
        {
          "output_type": "stream",
          "name": "stdout",
          "text": [
            "Epoch 1/100\n",
            "2/2 [==============================] - 1s 12ms/step - loss: 53.4490 - mae: 53.4490\n",
            "Epoch 2/100\n",
            "2/2 [==============================] - 0s 7ms/step - loss: 52.8912 - mae: 52.8912\n",
            "Epoch 3/100\n",
            "2/2 [==============================] - 0s 7ms/step - loss: 52.3536 - mae: 52.3536\n",
            "Epoch 4/100\n",
            "2/2 [==============================] - 0s 7ms/step - loss: 51.8087 - mae: 51.8087\n",
            "Epoch 5/100\n",
            "2/2 [==============================] - 0s 6ms/step - loss: 51.2783 - mae: 51.2783\n",
            "Epoch 6/100\n",
            "2/2 [==============================] - 0s 6ms/step - loss: 50.7472 - mae: 50.7472\n",
            "Epoch 7/100\n",
            "2/2 [==============================] - 0s 6ms/step - loss: 50.2131 - mae: 50.2131\n",
            "Epoch 8/100\n",
            "2/2 [==============================] - 0s 6ms/step - loss: 49.6631 - mae: 49.6631\n",
            "Epoch 9/100\n",
            "2/2 [==============================] - 0s 6ms/step - loss: 49.1495 - mae: 49.1495\n",
            "Epoch 10/100\n",
            "2/2 [==============================] - 0s 7ms/step - loss: 48.6371 - mae: 48.6371\n",
            "Epoch 11/100\n",
            "2/2 [==============================] - 0s 7ms/step - loss: 48.0860 - mae: 48.0860\n",
            "Epoch 12/100\n",
            "2/2 [==============================] - 0s 6ms/step - loss: 47.5701 - mae: 47.5701\n",
            "Epoch 13/100\n",
            "2/2 [==============================] - 0s 6ms/step - loss: 47.0283 - mae: 47.0283\n",
            "Epoch 14/100\n",
            "2/2 [==============================] - 0s 7ms/step - loss: 46.5136 - mae: 46.5136\n",
            "Epoch 15/100\n",
            "2/2 [==============================] - 0s 7ms/step - loss: 46.0004 - mae: 46.0004\n",
            "Epoch 16/100\n",
            "2/2 [==============================] - 0s 8ms/step - loss: 45.4663 - mae: 45.4663\n",
            "Epoch 17/100\n",
            "2/2 [==============================] - 0s 11ms/step - loss: 44.9437 - mae: 44.9437\n",
            "Epoch 18/100\n",
            "2/2 [==============================] - 0s 6ms/step - loss: 44.4283 - mae: 44.4283\n",
            "Epoch 19/100\n",
            "2/2 [==============================] - 0s 8ms/step - loss: 43.9237 - mae: 43.9237\n",
            "Epoch 20/100\n",
            "2/2 [==============================] - 0s 7ms/step - loss: 43.4009 - mae: 43.4009\n",
            "Epoch 21/100\n",
            "2/2 [==============================] - 0s 6ms/step - loss: 42.8889 - mae: 42.8889\n",
            "Epoch 22/100\n",
            "2/2 [==============================] - 0s 6ms/step - loss: 42.3975 - mae: 42.3975\n",
            "Epoch 23/100\n",
            "2/2 [==============================] - 0s 6ms/step - loss: 41.8901 - mae: 41.8901\n",
            "Epoch 24/100\n",
            "2/2 [==============================] - 0s 6ms/step - loss: 41.3798 - mae: 41.3798\n",
            "Epoch 25/100\n",
            "2/2 [==============================] - 0s 7ms/step - loss: 40.8758 - mae: 40.8758\n",
            "Epoch 26/100\n",
            "2/2 [==============================] - 0s 8ms/step - loss: 40.3850 - mae: 40.3850\n",
            "Epoch 27/100\n",
            "2/2 [==============================] - 0s 6ms/step - loss: 39.8690 - mae: 39.8690\n",
            "Epoch 28/100\n",
            "2/2 [==============================] - 0s 5ms/step - loss: 39.3772 - mae: 39.3772\n",
            "Epoch 29/100\n",
            "2/2 [==============================] - 0s 7ms/step - loss: 38.8418 - mae: 38.8418\n",
            "Epoch 30/100\n",
            "2/2 [==============================] - 0s 8ms/step - loss: 38.3177 - mae: 38.3177\n",
            "Epoch 31/100\n",
            "2/2 [==============================] - 0s 5ms/step - loss: 37.8292 - mae: 37.8292\n",
            "Epoch 32/100\n",
            "2/2 [==============================] - 0s 6ms/step - loss: 37.2973 - mae: 37.2973\n",
            "Epoch 33/100\n",
            "2/2 [==============================] - 0s 6ms/step - loss: 36.7739 - mae: 36.7739\n",
            "Epoch 34/100\n",
            "2/2 [==============================] - 0s 7ms/step - loss: 36.2664 - mae: 36.2664\n",
            "Epoch 35/100\n",
            "2/2 [==============================] - 0s 7ms/step - loss: 35.7395 - mae: 35.7395\n",
            "Epoch 36/100\n",
            "2/2 [==============================] - 0s 7ms/step - loss: 35.2508 - mae: 35.2508\n",
            "Epoch 37/100\n",
            "2/2 [==============================] - 0s 5ms/step - loss: 34.7346 - mae: 34.7346\n",
            "Epoch 38/100\n",
            "2/2 [==============================] - 0s 6ms/step - loss: 34.2365 - mae: 34.2365\n",
            "Epoch 39/100\n",
            "2/2 [==============================] - 0s 6ms/step - loss: 33.7480 - mae: 33.7480\n",
            "Epoch 40/100\n",
            "2/2 [==============================] - 0s 6ms/step - loss: 33.2577 - mae: 33.2577\n",
            "Epoch 41/100\n",
            "2/2 [==============================] - 0s 6ms/step - loss: 32.7655 - mae: 32.7655\n",
            "Epoch 42/100\n",
            "2/2 [==============================] - 0s 7ms/step - loss: 32.2868 - mae: 32.2868\n",
            "Epoch 43/100\n",
            "2/2 [==============================] - 0s 7ms/step - loss: 31.7692 - mae: 31.7692\n",
            "Epoch 44/100\n",
            "2/2 [==============================] - 0s 7ms/step - loss: 31.2948 - mae: 31.2948\n",
            "Epoch 45/100\n",
            "2/2 [==============================] - 0s 6ms/step - loss: 30.7956 - mae: 30.7956\n",
            "Epoch 46/100\n",
            "2/2 [==============================] - 0s 6ms/step - loss: 30.3185 - mae: 30.3185\n",
            "Epoch 47/100\n",
            "2/2 [==============================] - 0s 6ms/step - loss: 29.8078 - mae: 29.8078\n",
            "Epoch 48/100\n",
            "2/2 [==============================] - 0s 8ms/step - loss: 29.3220 - mae: 29.3220\n",
            "Epoch 49/100\n",
            "2/2 [==============================] - 0s 9ms/step - loss: 28.8345 - mae: 28.8345\n",
            "Epoch 50/100\n",
            "2/2 [==============================] - 0s 8ms/step - loss: 28.3518 - mae: 28.3518\n",
            "Epoch 51/100\n",
            "2/2 [==============================] - 0s 8ms/step - loss: 27.8345 - mae: 27.8345\n",
            "Epoch 52/100\n",
            "2/2 [==============================] - 0s 7ms/step - loss: 27.3527 - mae: 27.3527\n",
            "Epoch 53/100\n",
            "2/2 [==============================] - 0s 7ms/step - loss: 26.8278 - mae: 26.8278\n",
            "Epoch 54/100\n",
            "2/2 [==============================] - 0s 7ms/step - loss: 26.3091 - mae: 26.3091\n",
            "Epoch 55/100\n",
            "2/2 [==============================] - 0s 8ms/step - loss: 25.7986 - mae: 25.7986\n",
            "Epoch 56/100\n",
            "2/2 [==============================] - 0s 8ms/step - loss: 25.2632 - mae: 25.2632\n",
            "Epoch 57/100\n",
            "2/2 [==============================] - 0s 7ms/step - loss: 24.7548 - mae: 24.7548\n",
            "Epoch 58/100\n",
            "2/2 [==============================] - 0s 7ms/step - loss: 24.2319 - mae: 24.2319\n",
            "Epoch 59/100\n",
            "2/2 [==============================] - 0s 6ms/step - loss: 23.7167 - mae: 23.7167\n",
            "Epoch 60/100\n",
            "2/2 [==============================] - 0s 7ms/step - loss: 23.2093 - mae: 23.2093\n",
            "Epoch 61/100\n",
            "2/2 [==============================] - 0s 7ms/step - loss: 22.6961 - mae: 22.6961\n",
            "Epoch 62/100\n",
            "2/2 [==============================] - 0s 7ms/step - loss: 22.1901 - mae: 22.1901\n",
            "Epoch 63/100\n",
            "2/2 [==============================] - 0s 8ms/step - loss: 21.6748 - mae: 21.6748\n",
            "Epoch 64/100\n",
            "2/2 [==============================] - 0s 8ms/step - loss: 21.1551 - mae: 21.1551\n",
            "Epoch 65/100\n",
            "2/2 [==============================] - 0s 8ms/step - loss: 20.6305 - mae: 20.6305\n",
            "Epoch 66/100\n",
            "2/2 [==============================] - 0s 8ms/step - loss: 20.1207 - mae: 20.1207\n",
            "Epoch 67/100\n",
            "2/2 [==============================] - 0s 8ms/step - loss: 19.6098 - mae: 19.6098\n",
            "Epoch 68/100\n",
            "2/2 [==============================] - 0s 8ms/step - loss: 19.0926 - mae: 19.0926\n",
            "Epoch 69/100\n",
            "2/2 [==============================] - 0s 8ms/step - loss: 18.5825 - mae: 18.5825\n",
            "Epoch 70/100\n",
            "2/2 [==============================] - 0s 7ms/step - loss: 18.0601 - mae: 18.0601\n",
            "Epoch 71/100\n",
            "2/2 [==============================] - 0s 7ms/step - loss: 17.5441 - mae: 17.5441\n",
            "Epoch 72/100\n",
            "2/2 [==============================] - 0s 7ms/step - loss: 17.0372 - mae: 17.0372\n",
            "Epoch 73/100\n",
            "2/2 [==============================] - 0s 7ms/step - loss: 16.5041 - mae: 16.5041\n",
            "Epoch 74/100\n",
            "2/2 [==============================] - 0s 6ms/step - loss: 16.0224 - mae: 16.0224\n",
            "Epoch 75/100\n",
            "2/2 [==============================] - 0s 6ms/step - loss: 15.4925 - mae: 15.4925\n",
            "Epoch 76/100\n",
            "2/2 [==============================] - 0s 8ms/step - loss: 14.9729 - mae: 14.9729\n",
            "Epoch 77/100\n",
            "2/2 [==============================] - 0s 8ms/step - loss: 14.4734 - mae: 14.4734\n",
            "Epoch 78/100\n",
            "2/2 [==============================] - 0s 8ms/step - loss: 13.9495 - mae: 13.9495\n",
            "Epoch 79/100\n",
            "2/2 [==============================] - 0s 9ms/step - loss: 13.4350 - mae: 13.4350\n",
            "Epoch 80/100\n",
            "2/2 [==============================] - 0s 8ms/step - loss: 12.9549 - mae: 12.9549\n",
            "Epoch 81/100\n",
            "2/2 [==============================] - 0s 9ms/step - loss: 12.4917 - mae: 12.4917\n",
            "Epoch 82/100\n",
            "2/2 [==============================] - 0s 9ms/step - loss: 11.9909 - mae: 11.9909\n",
            "Epoch 83/100\n",
            "2/2 [==============================] - 0s 14ms/step - loss: 11.5602 - mae: 11.5602\n",
            "Epoch 84/100\n",
            "2/2 [==============================] - 0s 14ms/step - loss: 11.0843 - mae: 11.0843\n",
            "Epoch 85/100\n",
            "2/2 [==============================] - 0s 10ms/step - loss: 10.6792 - mae: 10.6792\n",
            "Epoch 86/100\n",
            "2/2 [==============================] - 0s 11ms/step - loss: 10.2737 - mae: 10.2737\n",
            "Epoch 87/100\n",
            "2/2 [==============================] - 0s 9ms/step - loss: 9.8702 - mae: 9.8702\n",
            "Epoch 88/100\n",
            "2/2 [==============================] - 0s 8ms/step - loss: 9.4931 - mae: 9.4931\n",
            "Epoch 89/100\n",
            "2/2 [==============================] - 0s 9ms/step - loss: 9.1349 - mae: 9.1349\n",
            "Epoch 90/100\n",
            "2/2 [==============================] - 0s 7ms/step - loss: 8.8061 - mae: 8.8061\n",
            "Epoch 91/100\n",
            "2/2 [==============================] - 0s 8ms/step - loss: 8.5149 - mae: 8.5149\n",
            "Epoch 92/100\n",
            "2/2 [==============================] - 0s 9ms/step - loss: 8.2755 - mae: 8.2755\n",
            "Epoch 93/100\n",
            "2/2 [==============================] - 0s 10ms/step - loss: 8.0753 - mae: 8.0753\n",
            "Epoch 94/100\n",
            "2/2 [==============================] - 0s 9ms/step - loss: 7.9198 - mae: 7.9198\n",
            "Epoch 95/100\n",
            "2/2 [==============================] - 0s 8ms/step - loss: 7.8487 - mae: 7.8487\n",
            "Epoch 96/100\n",
            "2/2 [==============================] - 0s 9ms/step - loss: 7.7532 - mae: 7.7532\n",
            "Epoch 97/100\n",
            "2/2 [==============================] - 0s 9ms/step - loss: 7.7620 - mae: 7.7620\n",
            "Epoch 98/100\n",
            "2/2 [==============================] - 0s 7ms/step - loss: 7.7586 - mae: 7.7586\n",
            "Epoch 99/100\n",
            "2/2 [==============================] - 0s 8ms/step - loss: 7.7904 - mae: 7.7904\n",
            "Epoch 100/100\n",
            "2/2 [==============================] - 0s 8ms/step - loss: 7.7976 - mae: 7.7976\n"
          ]
        },
        {
          "output_type": "execute_result",
          "data": {
            "text/plain": [
              "<keras.callbacks.History at 0x7f4a866bc2e0>"
            ]
          },
          "metadata": {},
          "execution_count": 66
        }
      ]
    },
    {
      "cell_type": "code",
      "source": [
        "# Make and plot predictions for model_5\n",
        "y_preds_5 = model_5.predict(X_test)\n",
        "plot_predictions(predictions=y_preds_5)"
      ],
      "metadata": {
        "colab": {
          "base_uri": "https://localhost:8080/",
          "height": 616
        },
        "id": "PFVXFo3Y46JC",
        "outputId": "4a21c22b-16b3-42a6-baba-5ae01de87c60"
      },
      "execution_count": 67,
      "outputs": [
        {
          "output_type": "stream",
          "name": "stdout",
          "text": [
            "1/1 [==============================] - 0s 53ms/step\n"
          ]
        },
        {
          "output_type": "display_data",
          "data": {
            "text/plain": [
              "<Figure size 1000x700 with 1 Axes>"
            ],
            "image/png": "[encoded data removed]"
          },
          "metadata": {}
        }
      ]
    },
    {
      "cell_type": "code",
      "source": [
        "# Calculate model_4 evaluation metrics\n",
        "mae_5 = mae(y_test, y_preds_5)\n",
        "mse_5 = mse(y_test, y_preds_5)\n",
        "mae_5, mse_5"
      ],
      "metadata": {
        "colab": {
          "base_uri": "https://localhost:8080/"
        },
        "id": "lZayZKBc5Bis",
        "outputId": "ad8ef5a2-01c8-4519-bdf4-32cc1ff48d28"
      },
      "execution_count": 68,
      "outputs": [
        {
          "output_type": "execute_result",
          "data": {
            "text/plain": [
              "(<tf.Tensor: shape=(), dtype=float32, numpy=18.38676>,\n",
              " <tf.Tensor: shape=(), dtype=float32, numpy=339.5617>)"
            ]
          },
          "metadata": {},
          "execution_count": 68
        }
      ]
    },
    {
      "cell_type": "markdown",
      "source": [
        "## Comparing results of experiments"
      ],
      "metadata": {
        "id": "XPNE62Wk14wv"
      }
    },
    {
      "cell_type": "code",
      "source": [
        "# Compare model's results using pandas DataFrame\n",
        "import pandas as pd\n",
        "\n",
        "model_results = [[\"model_1\", mae_1.numpy(), mse_1.numpy()],\n",
        "                 [\"model_2\", mae_2.numpy(), mse_2.numpy()],\n",
        "                 [\"model_3\", mae_3.numpy(), mse_3.numpy()],\n",
        "                 [\"model_4\", mae_4.numpy(), mse_4.numpy()],\n",
        "                 [\"model_5\", mae_5.numpy(), mse_5.numpy()]]\n",
        "\n",
        "all_results = pd.DataFrame(model_results, columns=[\"model\", \"mae\", \"mse\"])\n",
        "all_results"
      ],
      "metadata": {
        "colab": {
          "base_uri": "https://localhost:8080/",
          "height": 206
        },
        "id": "rQ0OI8tu6jds",
        "outputId": "da8dd751-f06d-47a0-b40a-bf983ffc0dcb"
      },
      "execution_count": 69,
      "outputs": [
        {
          "output_type": "execute_result",
          "data": {
            "text/plain": [
              "     model        mae          mse\n",
              "0  model_1  30.902328   965.609192\n",
              "1  model_2   3.137082    12.655941\n",
              "2  model_3  68.716843  4808.588379\n",
              "3  model_4  75.763115  5836.389160\n",
              "4  model_5  18.386761   339.561707"
            ],
            "text/html": [
              "\n",
              "  <div id=\"df-e3630d2b-6a51-4113-a2c5-6dd22a8aa9c1\">\n",
              "    <div class=\"colab-df-container\">\n",
              "      <div>\n",
              "<style scoped>\n",
              "    .dataframe tbody tr th:only-of-type {\n",
              "        vertical-align: middle;\n",
              "    }\n",
              "\n",
              "    .dataframe tbody tr th {\n",
              "        vertical-align: top;\n",
              "    }\n",
              "\n",
              "    .dataframe thead th {\n",
              "        text-align: right;\n",
              "    }\n",
              "</style>\n",
              "<table border=\"1\" class=\"dataframe\">\n",
              "  <thead>\n",
              "    <tr style=\"text-align: right;\">\n",
              "      <th></th>\n",
              "      <th>model</th>\n",
              "      <th>mae</th>\n",
              "      <th>mse</th>\n",
              "    </tr>\n",
              "  </thead>\n",
              "  <tbody>\n",
              "    <tr>\n",
              "      <th>0</th>\n",
              "      <td>model_1</td>\n",
              "      <td>30.902328</td>\n",
              "      <td>965.609192</td>\n",
              "    </tr>\n",
              "    <tr>\n",
              "      <th>1</th>\n",
              "      <td>model_2</td>\n",
              "      <td>3.137082</td>\n",
              "      <td>12.655941</td>\n",
              "    </tr>\n",
              "    <tr>\n",
              "      <th>2</th>\n",
              "      <td>model_3</td>\n",
              "      <td>68.716843</td>\n",
              "      <td>4808.588379</td>\n",
              "    </tr>\n",
              "    <tr>\n",
              "      <th>3</th>\n",
              "      <td>model_4</td>\n",
              "      <td>75.763115</td>\n",
              "      <td>5836.389160</td>\n",
              "    </tr>\n",
              "    <tr>\n",
              "      <th>4</th>\n",
              "      <td>model_5</td>\n",
              "      <td>18.386761</td>\n",
              "      <td>339.561707</td>\n",
              "    </tr>\n",
              "  </tbody>\n",
              "</table>\n",
              "</div>\n",
              "      <button class=\"colab-df-convert\" onclick=\"convertToInteractive('df-e3630d2b-6a51-4113-a2c5-6dd22a8aa9c1')\"\n",
              "              title=\"Convert this dataframe to an interactive table.\"\n",
              "              style=\"display:none;\">\n",
              "        \n",
              "  <svg xmlns=\"http://www.w3.org/2000/svg\" height=\"24px\"viewBox=\"0 0 24 24\"\n",
              "       width=\"24px\">\n",
              "    <path d=\"M0 0h24v24H0V0z\" fill=\"none\"/>\n",
              "    <path d=\"M18.56 5.44l.94 2.06.94-2.06 2.06-.94-2.06-.94-.94-2.06-.94 2.06-2.06.94zm-11 1L8.5 8.5l.94-2.06 2.06-.94-2.06-.94L8.5 2.5l-.94 2.06-2.06.94zm10 10l.94 2.06.94-2.06 2.06-.94-2.06-.94-.94-2.06-.94 2.06-2.06.94z\"/><path d=\"M17.41 7.96l-1.37-1.37c-.4-.4-.92-.59-1.43-.59-.52 0-1.04.2-1.43.59L10.3 9.45l-7.72 7.72c-.78.78-.78 2.05 0 2.83L4 21.41c.39.39.9.59 1.41.59.51 0 1.02-.2 1.41-.59l7.78-7.78 2.81-2.81c.8-.78.8-2.07 0-2.86zM5.41 20L4 18.59l7.72-7.72 1.47 1.35L5.41 20z\"/>\n",
              "  </svg>\n",
              "      </button>\n",
              "      \n",
              "  <style>\n",
              "    .colab-df-container {\n",
              "      display:flex;\n",
              "      flex-wrap:wrap;\n",
              "      gap: 12px;\n",
              "    }\n",
              "\n",
              "    .colab-df-convert {\n",
              "      background-color: #E8F0FE;\n",
              "      border: none;\n",
              "      border-radius: 50%;\n",
              "      cursor: pointer;\n",
              "      display: none;\n",
              "      fill: #1967D2;\n",
              "      height: 32px;\n",
              "      padding: 0 0 0 0;\n",
              "      width: 32px;\n",
              "    }\n",
              "\n",
              "    .colab-df-convert:hover {\n",
              "      background-color: #E2EBFA;\n",
              "      box-shadow: 0px 1px 2px rgba(60, 64, 67, 0.3), 0px 1px 3px 1px rgba(60, 64, 67, 0.15);\n",
              "      fill: #174EA6;\n",
              "    }\n",
              "\n",
              "    [theme=dark] .colab-df-convert {\n",
              "      background-color: #3B4455;\n",
              "      fill: #D2E3FC;\n",
              "    }\n",
              "\n",
              "    [theme=dark] .colab-df-convert:hover {\n",
              "      background-color: #434B5C;\n",
              "      box-shadow: 0px 1px 3px 1px rgba(0, 0, 0, 0.15);\n",
              "      filter: drop-shadow(0px 1px 2px rgba(0, 0, 0, 0.3));\n",
              "      fill: #FFFFFF;\n",
              "    }\n",
              "  </style>\n",
              "\n",
              "      <script>\n",
              "        const buttonEl =\n",
              "          document.querySelector('#df-e3630d2b-6a51-4113-a2c5-6dd22a8aa9c1 button.colab-df-convert');\n",
              "        buttonEl.style.display =\n",
              "          google.colab.kernel.accessAllowed ? 'block' : 'none';\n",
              "\n",
              "        async function convertToInteractive(key) {\n",
              "          const element = document.querySelector('#df-e3630d2b-6a51-4113-a2c5-6dd22a8aa9c1');\n",
              "          const dataTable =\n",
              "            await google.colab.kernel.invokeFunction('convertToInteractive',\n",
              "                                                     [key], {});\n",
              "          if (!dataTable) return;\n",
              "\n",
              "          const docLinkHtml = 'Like what you see? Visit the ' +\n",
              "            '<a target=\"_blank\" href=https://colab.research.google.com/notebooks/data_table.ipynb>data table notebook</a>'\n",
              "            + ' to learn more about interactive tables.';\n",
              "          element.innerHTML = '';\n",
              "          dataTable['output_type'] = 'display_data';\n",
              "          await google.colab.output.renderOutput(dataTable, element);\n",
              "          const docLink = document.createElement('div');\n",
              "          docLink.innerHTML = docLinkHtml;\n",
              "          element.appendChild(docLink);\n",
              "        }\n",
              "      </script>\n",
              "    </div>\n",
              "  </div>\n",
              "  "
            ]
          },
          "metadata": {},
          "execution_count": 69
        }
      ]
    },
    {
      "cell_type": "markdown",
      "source": [
        "model_2 performs the best"
      ],
      "metadata": {
        "id": "1FkMquKA7s7i"
      }
    },
    {
      "cell_type": "code",
      "source": [
        "model_2.summary()"
      ],
      "metadata": {
        "colab": {
          "base_uri": "https://localhost:8080/"
        },
        "id": "6yEy1Iux7Wt1",
        "outputId": "909f4e11-16e3-41f6-e074-ba3dd4df911c"
      },
      "execution_count": 70,
      "outputs": [
        {
          "output_type": "stream",
          "name": "stdout",
          "text": [
            "Model: \"sequential_7\"\n",
            "_________________________________________________________________\n",
            " Layer (type)                Output Shape              Param #   \n",
            "=================================================================\n",
            " dense_8 (Dense)             (None, 10)                20        \n",
            "                                                                 \n",
            " dense_9 (Dense)             (None, 1)                 11        \n",
            "                                                                 \n",
            "=================================================================\n",
            "Total params: 31\n",
            "Trainable params: 31\n",
            "Non-trainable params: 0\n",
            "_________________________________________________________________\n"
          ]
        }
      ]
    },
    {
      "cell_type": "markdown",
      "source": [
        "### Saving Models\n",
        "\n",
        "Saving models enables models to be used outside of colab notebooks elsewhere\n",
        "\n",
        "2 main formats to save model to:\n",
        "- SavedModel format\n",
        "- HDF5 format "
      ],
      "metadata": {
        "id": "Kx1uebR-7gHD"
      }
    },
    {
      "cell_type": "code",
      "source": [
        "# Save model w/ SavedModel format\n",
        "model_2.save(\"best_model_SavedModel_format\")"
      ],
      "metadata": {
        "colab": {
          "base_uri": "https://localhost:8080/"
        },
        "id": "NwTBUeLGpz1N",
        "outputId": "62e3a502-970c-48dc-f423-003bbdfb1c4f"
      },
      "execution_count": 72,
      "outputs": [
        {
          "output_type": "stream",
          "name": "stderr",
          "text": [
            "WARNING:absl:Found untraced functions such as _update_step_xla while saving (showing 1 of 1). These functions will not be directly callable after loading.\n"
          ]
        }
      ]
    },
    {
      "cell_type": "code",
      "source": [
        "# Save model using HDF5 format\n",
        "model_2.save(\"best_model_HDF5_format.h5\")"
      ],
      "metadata": {
        "id": "PWSGzZ522PJB"
      },
      "execution_count": 73,
      "outputs": []
    }
  ]
}
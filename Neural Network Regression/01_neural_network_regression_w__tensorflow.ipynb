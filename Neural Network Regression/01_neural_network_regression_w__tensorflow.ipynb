{
  "nbformat": 4,
  "nbformat_minor": 0,
  "metadata": {
    "colab": {
      "provenance": [],
      "authorship_tag": "ABX9TyOIf90J40L1jGIXZKySZTd/",
      "include_colab_link": true
    },
    "kernelspec": {
      "name": "python3",
      "display_name": "Python 3"
    },
    "language_info": {
      "name": "python"
    }
  },
  "cells": [
    {
      "cell_type": "markdown",
      "metadata": {
        "id": "view-in-github",
        "colab_type": "text"
      },
      "source": [
        "<a href=\"https://colab.research.google.com/github/pranavrao87/Machine-Learning/blob/main/Neural%20Network%20Regression/01_neural_network_regression_w__tensorflow.ipynb\" target=\"_parent\"><img src=\"https://colab.research.google.com/assets/colab-badge.svg\" alt=\"Open In Colab\"/></a>"
      ]
    },
    {
      "cell_type": "markdown",
      "source": [
        "# Regression w/ neural networks in Tensorflow\n",
        "\n",
        "Regression problem - predicting a numerical variable based on combination of inputs, essentially predicting a number"
      ],
      "metadata": {
        "id": "5BWNZ9pEPchh"
      }
    },
    {
      "cell_type": "code",
      "source": [
        "import tensorflow as tf\n",
        "print(tf.__version__)"
      ],
      "metadata": {
        "colab": {
          "base_uri": "https://localhost:8080/"
        },
        "id": "ZCdqiB3KQFH6",
        "outputId": "d8a99cf3-6a76-4bbb-f00c-62281bdc164f"
      },
      "execution_count": 3,
      "outputs": [
        {
          "output_type": "stream",
          "name": "stdout",
          "text": [
            "2.12.0\n"
          ]
        }
      ]
    },
    {
      "cell_type": "markdown",
      "source": [
        "## Creating data to view and fit"
      ],
      "metadata": {
        "id": "uTaRvggJQJE7"
      }
    },
    {
      "cell_type": "code",
      "source": [
        "import numpy as np\n",
        "import matplotlib.pyplot as plt\n",
        "\n",
        "# Create features (input data)\n",
        "X = np.array([-7.0, -4.0, -1.0, 2.0, 5.0, 8.0, 11.0, 14.0])\n",
        "\n",
        "# Create labels\n",
        "y = np.array([3.0, 6.0, 9.0, 12.0, 15.0, 18.0, 21.0, 24.0])\n",
        "\n",
        "# Visualize\n",
        "plt.scatter(X, y)"
      ],
      "metadata": {
        "colab": {
          "base_uri": "https://localhost:8080/",
          "height": 452
        },
        "id": "y150jbkfQWiy",
        "outputId": "022096f2-daf6-489a-81ca-cb1bd858b74e"
      },
      "execution_count": 4,
      "outputs": [
        {
          "output_type": "execute_result",
          "data": {
            "text/plain": [
              "<matplotlib.collections.PathCollection at 0x7fb86188da80>"
            ]
          },
          "metadata": {},
          "execution_count": 4
        },
        {
          "output_type": "display_data",
          "data": {
            "text/plain": [
              "<Figure size 640x480 with 1 Axes>"
            ],
            "image/png": "[encoded data removed]"
          },
          "metadata": {}
        }
      ]
    },
    {
      "cell_type": "code",
      "source": [
        "y == X + 10"
      ],
      "metadata": {
        "colab": {
          "base_uri": "https://localhost:8080/"
        },
        "id": "4wAY4qkkQ-bY",
        "outputId": "169f3ea8-cdc2-4ee5-dd0b-d62e967fee51"
      },
      "execution_count": 5,
      "outputs": [
        {
          "output_type": "execute_result",
          "data": {
            "text/plain": [
              "array([ True,  True,  True,  True,  True,  True,  True,  True])"
            ]
          },
          "metadata": {},
          "execution_count": 5
        }
      ]
    },
    {
      "cell_type": "markdown",
      "source": [
        "## Input and output shapes"
      ],
      "metadata": {
        "id": "R3LZO9WBRPdL"
      }
    },
    {
      "cell_type": "code",
      "source": [
        "# Create demo tensor for hosuing price prediction problem\n",
        "house_info = tf.constant([\"bedroom\", \"bathroom\", \"garage\"])\n",
        "house_price = tf.constant([939700])\n",
        "house_info, house_price"
      ],
      "metadata": {
        "colab": {
          "base_uri": "https://localhost:8080/"
        },
        "id": "ZpArt6w0RW6H",
        "outputId": "6e473244-fe5a-4dc4-9c66-ea5fc855926d"
      },
      "execution_count": 6,
      "outputs": [
        {
          "output_type": "execute_result",
          "data": {
            "text/plain": [
              "(<tf.Tensor: shape=(3,), dtype=string, numpy=array([b'bedroom', b'bathroom', b'garage'], dtype=object)>,\n",
              " <tf.Tensor: shape=(1,), dtype=int32, numpy=array([939700], dtype=int32)>)"
            ]
          },
          "metadata": {},
          "execution_count": 6
        }
      ]
    },
    {
      "cell_type": "code",
      "source": [
        "X[0], y[0]"
      ],
      "metadata": {
        "colab": {
          "base_uri": "https://localhost:8080/"
        },
        "id": "8vahFD5MSHdS",
        "outputId": "4efc8c3c-a9cb-41f3-ea68-1daa5ebbd2f0"
      },
      "execution_count": 7,
      "outputs": [
        {
          "output_type": "execute_result",
          "data": {
            "text/plain": [
              "(-7.0, 3.0)"
            ]
          },
          "metadata": {},
          "execution_count": 7
        }
      ]
    },
    {
      "cell_type": "code",
      "source": [
        "X[1], y[1]"
      ],
      "metadata": {
        "colab": {
          "base_uri": "https://localhost:8080/"
        },
        "id": "-1IuhY8DSKCM",
        "outputId": "ea97fd38-a21e-405e-b40f-70f2e94c3eec"
      },
      "execution_count": 8,
      "outputs": [
        {
          "output_type": "execute_result",
          "data": {
            "text/plain": [
              "(-4.0, 6.0)"
            ]
          },
          "metadata": {},
          "execution_count": 8
        }
      ]
    },
    {
      "cell_type": "code",
      "source": [
        "input_shape = X[0].shape # --> X[0] is a scalar!\n",
        "output_shape = y[0].shape\n",
        "input_shape, output_shape"
      ],
      "metadata": {
        "colab": {
          "base_uri": "https://localhost:8080/"
        },
        "id": "3GNzP0MSR1DX",
        "outputId": "f68e5256-a79f-479f-f9b0-a7b6d2cacc65"
      },
      "execution_count": 9,
      "outputs": [
        {
          "output_type": "execute_result",
          "data": {
            "text/plain": [
              "((), ())"
            ]
          },
          "metadata": {},
          "execution_count": 9
        }
      ]
    },
    {
      "cell_type": "code",
      "source": [
        "# Turn NumPy arrays into tensors\n",
        "X = tf.cast(tf.constant(X), dtype=tf.float32)\n",
        "y = tf.cast(tf.constant(y), dtype=tf.float32)\n",
        "X, y"
      ],
      "metadata": {
        "colab": {
          "base_uri": "https://localhost:8080/"
        },
        "id": "_QBc46_aSDjT",
        "outputId": "75265f47-b248-4b1a-f7d9-89bc10576d0f"
      },
      "execution_count": 10,
      "outputs": [
        {
          "output_type": "execute_result",
          "data": {
            "text/plain": [
              "(<tf.Tensor: shape=(8,), dtype=float32, numpy=array([-7., -4., -1.,  2.,  5.,  8., 11., 14.], dtype=float32)>,\n",
              " <tf.Tensor: shape=(8,), dtype=float32, numpy=array([ 3.,  6.,  9., 12., 15., 18., 21., 24.], dtype=float32)>)"
            ]
          },
          "metadata": {},
          "execution_count": 10
        }
      ]
    },
    {
      "cell_type": "code",
      "source": [
        "input_shape = X[0].shape\n",
        "output_shape = y[0].shape\n",
        "input_shape, output_shape"
      ],
      "metadata": {
        "colab": {
          "base_uri": "https://localhost:8080/"
        },
        "id": "5ondxt5YW_OP",
        "outputId": "e467393d-5438-4ba5-aa37-52e4bbdd478b"
      },
      "execution_count": 11,
      "outputs": [
        {
          "output_type": "execute_result",
          "data": {
            "text/plain": [
              "(TensorShape([]), TensorShape([]))"
            ]
          },
          "metadata": {},
          "execution_count": 11
        }
      ]
    },
    {
      "cell_type": "code",
      "source": [
        "plt.scatter(X, y)"
      ],
      "metadata": {
        "colab": {
          "base_uri": "https://localhost:8080/",
          "height": 452
        },
        "id": "WIsX7KBhXFY7",
        "outputId": "bf23beb4-06d7-4aba-fd72-b6fd2b9c9d17"
      },
      "execution_count": 12,
      "outputs": [
        {
          "output_type": "execute_result",
          "data": {
            "text/plain": [
              "<matplotlib.collections.PathCollection at 0x7fb86938d510>"
            ]
          },
          "metadata": {},
          "execution_count": 12
        },
        {
          "output_type": "display_data",
          "data": {
            "text/plain": [
              "<Figure size 640x480 with 1 Axes>"
            ],
            "image/png": "[encoded data removed]"
          },
          "metadata": {}
        }
      ]
    },
    {
      "cell_type": "markdown",
      "source": [
        "## Steps in modelling w/ TensorFlow\n",
        "\n",
        "1.   **Creating a model** - define input and output layers, as well as the hidden layers of deep learning model.\n",
        "2.   **Compiling a model** - define loss function (function which tells model how wrong it is) and the optimizer (tells model how to improve the patterns model is learning) and evaluation metrics (what to use to interpret the performance of model)\n",
        "3.    **Fitting model** - letting model try to find patterns b/w X and y (features and labels)\n",
        "\n"
      ],
      "metadata": {
        "id": "b-4dyC0uXN4c"
      }
    },
    {
      "cell_type": "code",
      "source": [
        "# Set random seed\n",
        "tf.random.set_seed(42)\n",
        "\n",
        "# 1. Creating a model using the sequential API\n",
        "model = tf.keras.Sequential([\n",
        "    tf.keras.layers.Dense(1)\n",
        "])\n",
        "\n",
        "# 2. Compile model\n",
        "model.compile(loss=tf.keras.losses.mae, #mae is short for mean absolute error\n",
        "              optimizer=tf.keras.optimizers.SGD(), #SGD - Stochastic gradient descent\n",
        "              metrics=[\"mae\"])\n",
        "\n",
        "# 3. Fit model\n",
        "model.fit(tf.expand_dims(X, -1), y, epochs=5)"
      ],
      "metadata": {
        "colab": {
          "base_uri": "https://localhost:8080/"
        },
        "id": "9Owf2g3JXS8j",
        "outputId": "10fb1d84-b27b-4a8e-9b6f-f4304f2f26db"
      },
      "execution_count": 13,
      "outputs": [
        {
          "output_type": "stream",
          "name": "stdout",
          "text": [
            "Epoch 1/5\n",
            "1/1 [==============================] - 1s 659ms/step - loss: 20.6678 - mae: 20.6678\n",
            "Epoch 2/5\n",
            "1/1 [==============================] - 0s 12ms/step - loss: 20.3291 - mae: 20.3291\n",
            "Epoch 3/5\n",
            "1/1 [==============================] - 0s 14ms/step - loss: 20.0478 - mae: 20.0478\n",
            "Epoch 4/5\n",
            "1/1 [==============================] - 0s 13ms/step - loss: 19.7666 - mae: 19.7666\n",
            "Epoch 5/5\n",
            "1/1 [==============================] - 0s 13ms/step - loss: 19.4853 - mae: 19.4853\n"
          ]
        },
        {
          "output_type": "execute_result",
          "data": {
            "text/plain": [
              "<keras.callbacks.History at 0x7fb85c537460>"
            ]
          },
          "metadata": {},
          "execution_count": 13
        }
      ]
    },
    {
      "cell_type": "code",
      "source": [
        "# Check out X and y\n",
        "X, y"
      ],
      "metadata": {
        "colab": {
          "base_uri": "https://localhost:8080/"
        },
        "id": "jaikOq2KcqXb",
        "outputId": "bf871ea3-f324-43d4-91cf-6cca52d67ec1"
      },
      "execution_count": 14,
      "outputs": [
        {
          "output_type": "execute_result",
          "data": {
            "text/plain": [
              "(<tf.Tensor: shape=(8,), dtype=float32, numpy=array([-7., -4., -1.,  2.,  5.,  8., 11., 14.], dtype=float32)>,\n",
              " <tf.Tensor: shape=(8,), dtype=float32, numpy=array([ 3.,  6.,  9., 12., 15., 18., 21., 24.], dtype=float32)>)"
            ]
          },
          "metadata": {},
          "execution_count": 14
        }
      ]
    },
    {
      "cell_type": "code",
      "source": [
        "# Try and make prediction using model\n",
        "y_pred = model.predict([17.0])\n",
        "y_pred"
      ],
      "metadata": {
        "colab": {
          "base_uri": "https://localhost:8080/"
        },
        "id": "yOe4SpU4csW5",
        "outputId": "c89dfeba-1f51-45e5-ba97-15c5b2c04602"
      },
      "execution_count": 15,
      "outputs": [
        {
          "output_type": "stream",
          "name": "stdout",
          "text": [
            "1/1 [==============================] - 0s 101ms/step\n"
          ]
        },
        {
          "output_type": "execute_result",
          "data": {
            "text/plain": [
              "array([[-20.948866]], dtype=float32)"
            ]
          },
          "metadata": {},
          "execution_count": 15
        }
      ]
    },
    {
      "cell_type": "code",
      "source": [
        "y_pred + 11"
      ],
      "metadata": {
        "colab": {
          "base_uri": "https://localhost:8080/"
        },
        "id": "mKU9-zS7c39G",
        "outputId": "ebfdab4f-68fe-424c-9567-3aef5f498e70"
      },
      "execution_count": 16,
      "outputs": [
        {
          "output_type": "execute_result",
          "data": {
            "text/plain": [
              "array([[-9.948866]], dtype=float32)"
            ]
          },
          "metadata": {},
          "execution_count": 16
        }
      ]
    },
    {
      "cell_type": "markdown",
      "source": [
        "## Improve Model\n",
        "\n",
        "Can improve model by altering steps taken to create model\n",
        "\n",
        "1. **Creating a model** - add more layers, increase # of hidden layers, increase # of neurons/layer, change activation function of each layer\n",
        "2. **Compiling a model** - change optimization function or **learning rate** of optmization function\n",
        "3. **Fitting a model** - fit model for more epochs (increase epochs or give mode more data/examples)"
      ],
      "metadata": {
        "id": "fKcjT3RkdHKa"
      }
    },
    {
      "cell_type": "code",
      "source": [
        "# Rebuild model\n",
        "\n",
        "# 1. Create model\n",
        "tf.keras.Sequential([\n",
        "    tf.keras.layers.Dense(1)\n",
        "])\n",
        "\n",
        "#2. Compile model\n",
        "model.compile(loss=tf.keras.losses.mae,\n",
        "              optimizer=tf.keras.optimizers.SGD(),\n",
        "              metrics=[\"mae\"])\n",
        "\n",
        "#3. Fit model (this time w/ inc. epochs or training time)\n",
        "model.fit(tf.expand_dims(X, -1), y, epochs=100)"
      ],
      "metadata": {
        "colab": {
          "base_uri": "https://localhost:8080/"
        },
        "id": "DkOdu1tAdLkw",
        "outputId": "4ed326c8-9f2a-4604-c5f9-3c9b5e1c51df"
      },
      "execution_count": 17,
      "outputs": [
        {
          "output_type": "stream",
          "name": "stdout",
          "text": [
            "Epoch 1/100\n",
            "1/1 [==============================] - 0s 361ms/step - loss: 19.2041 - mae: 19.2041\n",
            "Epoch 2/100\n",
            "1/1 [==============================] - 0s 10ms/step - loss: 18.9228 - mae: 18.9228\n",
            "Epoch 3/100\n",
            "1/1 [==============================] - 0s 10ms/step - loss: 18.6416 - mae: 18.6416\n",
            "Epoch 4/100\n",
            "1/1 [==============================] - 0s 18ms/step - loss: 18.3603 - mae: 18.3603\n",
            "Epoch 5/100\n",
            "1/1 [==============================] - 0s 15ms/step - loss: 18.0791 - mae: 18.0791\n",
            "Epoch 6/100\n",
            "1/1 [==============================] - 0s 11ms/step - loss: 17.7978 - mae: 17.7978\n",
            "Epoch 7/100\n",
            "1/1 [==============================] - 0s 10ms/step - loss: 17.5166 - mae: 17.5166\n",
            "Epoch 8/100\n",
            "1/1 [==============================] - 0s 11ms/step - loss: 17.2353 - mae: 17.2353\n",
            "Epoch 9/100\n",
            "1/1 [==============================] - 0s 10ms/step - loss: 16.9541 - mae: 16.9541\n",
            "Epoch 10/100\n",
            "1/1 [==============================] - 0s 11ms/step - loss: 16.6728 - mae: 16.6728\n",
            "Epoch 11/100\n",
            "1/1 [==============================] - 0s 10ms/step - loss: 16.3916 - mae: 16.3916\n",
            "Epoch 12/100\n",
            "1/1 [==============================] - 0s 10ms/step - loss: 16.1103 - mae: 16.1103\n",
            "Epoch 13/100\n",
            "1/1 [==============================] - 0s 10ms/step - loss: 15.8291 - mae: 15.8291\n",
            "Epoch 14/100\n",
            "1/1 [==============================] - 0s 11ms/step - loss: 15.5478 - mae: 15.5478\n",
            "Epoch 15/100\n",
            "1/1 [==============================] - 0s 10ms/step - loss: 15.2666 - mae: 15.2666\n",
            "Epoch 16/100\n",
            "1/1 [==============================] - 0s 10ms/step - loss: 14.9853 - mae: 14.9853\n",
            "Epoch 17/100\n",
            "1/1 [==============================] - 0s 11ms/step - loss: 14.7252 - mae: 14.7252\n",
            "Epoch 18/100\n",
            "1/1 [==============================] - 0s 13ms/step - loss: 14.5927 - mae: 14.5927\n",
            "Epoch 19/100\n",
            "1/1 [==============================] - 0s 10ms/step - loss: 14.4602 - mae: 14.4602\n",
            "Epoch 20/100\n",
            "1/1 [==============================] - 0s 12ms/step - loss: 14.3277 - mae: 14.3277\n",
            "Epoch 21/100\n",
            "1/1 [==============================] - 0s 11ms/step - loss: 14.1952 - mae: 14.1952\n",
            "Epoch 22/100\n",
            "1/1 [==============================] - 0s 10ms/step - loss: 14.0627 - mae: 14.0627\n",
            "Epoch 23/100\n",
            "1/1 [==============================] - 0s 10ms/step - loss: 13.9302 - mae: 13.9302\n",
            "Epoch 24/100\n",
            "1/1 [==============================] - 0s 10ms/step - loss: 13.7977 - mae: 13.7977\n",
            "Epoch 25/100\n",
            "1/1 [==============================] - 0s 10ms/step - loss: 13.6652 - mae: 13.6652\n",
            "Epoch 26/100\n",
            "1/1 [==============================] - 0s 10ms/step - loss: 13.5327 - mae: 13.5327\n",
            "Epoch 27/100\n",
            "1/1 [==============================] - 0s 11ms/step - loss: 13.4002 - mae: 13.4002\n",
            "Epoch 28/100\n",
            "1/1 [==============================] - 0s 10ms/step - loss: 13.2677 - mae: 13.2677\n",
            "Epoch 29/100\n",
            "1/1 [==============================] - 0s 10ms/step - loss: 13.1352 - mae: 13.1352\n",
            "Epoch 30/100\n",
            "1/1 [==============================] - 0s 15ms/step - loss: 13.0027 - mae: 13.0027\n",
            "Epoch 31/100\n",
            "1/1 [==============================] - 0s 11ms/step - loss: 12.8702 - mae: 12.8702\n",
            "Epoch 32/100\n",
            "1/1 [==============================] - 0s 16ms/step - loss: 12.7377 - mae: 12.7377\n",
            "Epoch 33/100\n",
            "1/1 [==============================] - 0s 10ms/step - loss: 12.6052 - mae: 12.6052\n",
            "Epoch 34/100\n",
            "1/1 [==============================] - 0s 11ms/step - loss: 12.4727 - mae: 12.4727\n",
            "Epoch 35/100\n",
            "1/1 [==============================] - 0s 12ms/step - loss: 12.3402 - mae: 12.3402\n",
            "Epoch 36/100\n",
            "1/1 [==============================] - 0s 10ms/step - loss: 12.2077 - mae: 12.2077\n",
            "Epoch 37/100\n",
            "1/1 [==============================] - 0s 11ms/step - loss: 12.0752 - mae: 12.0752\n",
            "Epoch 38/100\n",
            "1/1 [==============================] - 0s 11ms/step - loss: 11.9427 - mae: 11.9427\n",
            "Epoch 39/100\n",
            "1/1 [==============================] - 0s 11ms/step - loss: 11.8102 - mae: 11.8102\n",
            "Epoch 40/100\n",
            "1/1 [==============================] - 0s 11ms/step - loss: 11.6777 - mae: 11.6777\n",
            "Epoch 41/100\n",
            "1/1 [==============================] - 0s 10ms/step - loss: 11.5452 - mae: 11.5452\n",
            "Epoch 42/100\n",
            "1/1 [==============================] - 0s 10ms/step - loss: 11.4127 - mae: 11.4127\n",
            "Epoch 43/100\n",
            "1/1 [==============================] - 0s 11ms/step - loss: 11.2802 - mae: 11.2802\n",
            "Epoch 44/100\n",
            "1/1 [==============================] - 0s 10ms/step - loss: 11.1477 - mae: 11.1477\n",
            "Epoch 45/100\n",
            "1/1 [==============================] - 0s 11ms/step - loss: 11.0152 - mae: 11.0152\n",
            "Epoch 46/100\n",
            "1/1 [==============================] - 0s 12ms/step - loss: 10.8827 - mae: 10.8827\n",
            "Epoch 47/100\n",
            "1/1 [==============================] - 0s 14ms/step - loss: 10.7502 - mae: 10.7502\n",
            "Epoch 48/100\n",
            "1/1 [==============================] - 0s 11ms/step - loss: 10.6177 - mae: 10.6177\n",
            "Epoch 49/100\n",
            "1/1 [==============================] - 0s 12ms/step - loss: 10.4852 - mae: 10.4852\n",
            "Epoch 50/100\n",
            "1/1 [==============================] - 0s 11ms/step - loss: 10.3527 - mae: 10.3527\n",
            "Epoch 51/100\n",
            "1/1 [==============================] - 0s 11ms/step - loss: 10.2202 - mae: 10.2202\n",
            "Epoch 52/100\n",
            "1/1 [==============================] - 0s 12ms/step - loss: 10.0877 - mae: 10.0877\n",
            "Epoch 53/100\n",
            "1/1 [==============================] - 0s 11ms/step - loss: 9.9552 - mae: 9.9552\n",
            "Epoch 54/100\n",
            "1/1 [==============================] - 0s 12ms/step - loss: 9.8227 - mae: 9.8227\n",
            "Epoch 55/100\n",
            "1/1 [==============================] - 0s 11ms/step - loss: 9.6902 - mae: 9.6902\n",
            "Epoch 56/100\n",
            "1/1 [==============================] - 0s 11ms/step - loss: 9.5577 - mae: 9.5577\n",
            "Epoch 57/100\n",
            "1/1 [==============================] - 0s 11ms/step - loss: 9.4252 - mae: 9.4252\n",
            "Epoch 58/100\n",
            "1/1 [==============================] - 0s 10ms/step - loss: 9.2927 - mae: 9.2927\n",
            "Epoch 59/100\n",
            "1/1 [==============================] - 0s 12ms/step - loss: 9.1602 - mae: 9.1602\n",
            "Epoch 60/100\n",
            "1/1 [==============================] - 0s 12ms/step - loss: 9.0277 - mae: 9.0277\n",
            "Epoch 61/100\n",
            "1/1 [==============================] - 0s 13ms/step - loss: 8.8952 - mae: 8.8952\n",
            "Epoch 62/100\n",
            "1/1 [==============================] - 0s 15ms/step - loss: 8.7627 - mae: 8.7627\n",
            "Epoch 63/100\n",
            "1/1 [==============================] - 0s 11ms/step - loss: 8.6302 - mae: 8.6302\n",
            "Epoch 64/100\n",
            "1/1 [==============================] - 0s 11ms/step - loss: 8.4977 - mae: 8.4977\n",
            "Epoch 65/100\n",
            "1/1 [==============================] - 0s 11ms/step - loss: 8.3652 - mae: 8.3652\n",
            "Epoch 66/100\n",
            "1/1 [==============================] - 0s 11ms/step - loss: 8.2327 - mae: 8.2327\n",
            "Epoch 67/100\n",
            "1/1 [==============================] - 0s 11ms/step - loss: 8.1002 - mae: 8.1002\n",
            "Epoch 68/100\n",
            "1/1 [==============================] - 0s 11ms/step - loss: 7.9677 - mae: 7.9677\n",
            "Epoch 69/100\n",
            "1/1 [==============================] - 0s 12ms/step - loss: 7.8352 - mae: 7.8352\n",
            "Epoch 70/100\n",
            "1/1 [==============================] - 0s 12ms/step - loss: 7.7027 - mae: 7.7027\n",
            "Epoch 71/100\n",
            "1/1 [==============================] - 0s 12ms/step - loss: 7.5702 - mae: 7.5702\n",
            "Epoch 72/100\n",
            "1/1 [==============================] - 0s 11ms/step - loss: 7.4377 - mae: 7.4377\n",
            "Epoch 73/100\n",
            "1/1 [==============================] - 0s 11ms/step - loss: 7.3052 - mae: 7.3052\n",
            "Epoch 74/100\n",
            "1/1 [==============================] - 0s 12ms/step - loss: 7.1727 - mae: 7.1727\n",
            "Epoch 75/100\n",
            "1/1 [==============================] - 0s 11ms/step - loss: 7.0402 - mae: 7.0402\n",
            "Epoch 76/100\n",
            "1/1 [==============================] - 0s 11ms/step - loss: 6.9413 - mae: 6.9413\n",
            "Epoch 77/100\n",
            "1/1 [==============================] - 0s 10ms/step - loss: 6.9356 - mae: 6.9356\n",
            "Epoch 78/100\n",
            "1/1 [==============================] - 0s 11ms/step - loss: 6.9300 - mae: 6.9300\n",
            "Epoch 79/100\n",
            "1/1 [==============================] - 0s 11ms/step - loss: 6.9244 - mae: 6.9244\n",
            "Epoch 80/100\n",
            "1/1 [==============================] - 0s 12ms/step - loss: 6.9188 - mae: 6.9188\n",
            "Epoch 81/100\n",
            "1/1 [==============================] - 0s 11ms/step - loss: 6.9131 - mae: 6.9131\n",
            "Epoch 82/100\n",
            "1/1 [==============================] - 0s 11ms/step - loss: 6.9075 - mae: 6.9075\n",
            "Epoch 83/100\n",
            "1/1 [==============================] - 0s 14ms/step - loss: 6.9019 - mae: 6.9019\n",
            "Epoch 84/100\n",
            "1/1 [==============================] - 0s 12ms/step - loss: 6.8963 - mae: 6.8963\n",
            "Epoch 85/100\n",
            "1/1 [==============================] - 0s 14ms/step - loss: 6.8906 - mae: 6.8906\n",
            "Epoch 86/100\n",
            "1/1 [==============================] - 0s 12ms/step - loss: 6.8850 - mae: 6.8850\n",
            "Epoch 87/100\n",
            "1/1 [==============================] - 0s 11ms/step - loss: 6.8794 - mae: 6.8794\n",
            "Epoch 88/100\n",
            "1/1 [==============================] - 0s 15ms/step - loss: 6.8738 - mae: 6.8738\n",
            "Epoch 89/100\n",
            "1/1 [==============================] - 0s 12ms/step - loss: 6.8681 - mae: 6.8681\n",
            "Epoch 90/100\n",
            "1/1 [==============================] - 0s 11ms/step - loss: 6.8625 - mae: 6.8625\n",
            "Epoch 91/100\n",
            "1/1 [==============================] - 0s 13ms/step - loss: 6.8569 - mae: 6.8569\n",
            "Epoch 92/100\n",
            "1/1 [==============================] - 0s 16ms/step - loss: 6.8513 - mae: 6.8513\n",
            "Epoch 93/100\n",
            "1/1 [==============================] - 0s 12ms/step - loss: 6.8456 - mae: 6.8456\n",
            "Epoch 94/100\n",
            "1/1 [==============================] - 0s 15ms/step - loss: 6.8400 - mae: 6.8400\n",
            "Epoch 95/100\n",
            "1/1 [==============================] - 0s 11ms/step - loss: 6.8344 - mae: 6.8344\n",
            "Epoch 96/100\n",
            "1/1 [==============================] - 0s 14ms/step - loss: 6.8288 - mae: 6.8288\n",
            "Epoch 97/100\n",
            "1/1 [==============================] - 0s 16ms/step - loss: 6.8231 - mae: 6.8231\n",
            "Epoch 98/100\n",
            "1/1 [==============================] - 0s 17ms/step - loss: 6.8175 - mae: 6.8175\n",
            "Epoch 99/100\n",
            "1/1 [==============================] - 0s 15ms/step - loss: 6.8119 - mae: 6.8119\n",
            "Epoch 100/100\n",
            "1/1 [==============================] - 0s 13ms/step - loss: 6.8063 - mae: 6.8063\n"
          ]
        },
        {
          "output_type": "execute_result",
          "data": {
            "text/plain": [
              "<keras.callbacks.History at 0x7fb85c3ffeb0>"
            ]
          },
          "metadata": {},
          "execution_count": 17
        }
      ]
    },
    {
      "cell_type": "code",
      "source": [
        "X, y"
      ],
      "metadata": {
        "colab": {
          "base_uri": "https://localhost:8080/"
        },
        "id": "xhHL2Z2EhVb0",
        "outputId": "44bacf8b-a8fa-47e9-a06c-423e51df0687"
      },
      "execution_count": 18,
      "outputs": [
        {
          "output_type": "execute_result",
          "data": {
            "text/plain": [
              "(<tf.Tensor: shape=(8,), dtype=float32, numpy=array([-7., -4., -1.,  2.,  5.,  8., 11., 14.], dtype=float32)>,\n",
              " <tf.Tensor: shape=(8,), dtype=float32, numpy=array([ 3.,  6.,  9., 12., 15., 18., 21., 24.], dtype=float32)>)"
            ]
          },
          "metadata": {},
          "execution_count": 18
        }
      ]
    },
    {
      "cell_type": "code",
      "source": [
        "# Predict w/ improved model\n",
        "model.predict([17.0])"
      ],
      "metadata": {
        "colab": {
          "base_uri": "https://localhost:8080/"
        },
        "id": "igIqHalKhWUw",
        "outputId": "f93fa2fa-3bd7-457b-9cf9-57512e82b973"
      },
      "execution_count": 19,
      "outputs": [
        {
          "output_type": "stream",
          "name": "stdout",
          "text": [
            "1/1 [==============================] - 0s 69ms/step\n"
          ]
        },
        {
          "output_type": "execute_result",
          "data": {
            "text/plain": [
              "array([[29.33363]], dtype=float32)"
            ]
          },
          "metadata": {},
          "execution_count": 19
        }
      ]
    },
    {
      "cell_type": "code",
      "source": [
        "# Rebuild model\n",
        "\n",
        "# 1. Create model \n",
        "tf.keras.Sequential([\n",
        "    tf.keras.layers.Dense(50, activation=None),\n",
        "    tf.keras.layers.Dense(1)\n",
        "])\n",
        "\n",
        "#2. Compile model\n",
        "model.compile(loss=tf.keras.losses.mae,\n",
        "              optimizer=tf.keras.optimizers.Adam(lr=0.01),\n",
        "              metrics=[\"mae\"])\n",
        "\n",
        "#3. Fit model\n",
        "model.fit(tf.expand_dims(X, 1), y, epochs=100)"
      ],
      "metadata": {
        "colab": {
          "base_uri": "https://localhost:8080/"
        },
        "id": "qy6IhBzclAxD",
        "outputId": "0e024a6a-c5ed-4b74-b482-83d5b37f5a26"
      },
      "execution_count": 20,
      "outputs": [
        {
          "output_type": "stream",
          "name": "stderr",
          "text": [
            "WARNING:absl:`lr` is deprecated in Keras optimizer, please use `learning_rate` or use the legacy optimizer, e.g.,tf.keras.optimizers.legacy.Adam.\n"
          ]
        },
        {
          "output_type": "stream",
          "name": "stdout",
          "text": [
            "Epoch 1/100\n",
            "1/1 [==============================] - 1s 575ms/step - loss: 6.8006 - mae: 6.8006\n",
            "Epoch 2/100\n",
            "1/1 [==============================] - 0s 10ms/step - loss: 6.7999 - mae: 6.7999\n",
            "Epoch 3/100\n",
            "1/1 [==============================] - 0s 10ms/step - loss: 6.7991 - mae: 6.7991\n",
            "Epoch 4/100\n",
            "1/1 [==============================] - 0s 10ms/step - loss: 6.7984 - mae: 6.7984\n",
            "Epoch 5/100\n",
            "1/1 [==============================] - 0s 10ms/step - loss: 6.7976 - mae: 6.7976\n",
            "Epoch 6/100\n",
            "1/1 [==============================] - 0s 10ms/step - loss: 6.7969 - mae: 6.7969\n",
            "Epoch 7/100\n",
            "1/1 [==============================] - 0s 15ms/step - loss: 6.7961 - mae: 6.7961\n",
            "Epoch 8/100\n",
            "1/1 [==============================] - 0s 13ms/step - loss: 6.7954 - mae: 6.7954\n",
            "Epoch 9/100\n",
            "1/1 [==============================] - 0s 14ms/step - loss: 6.7946 - mae: 6.7946\n",
            "Epoch 10/100\n",
            "1/1 [==============================] - 0s 15ms/step - loss: 6.7939 - mae: 6.7939\n",
            "Epoch 11/100\n",
            "1/1 [==============================] - 0s 10ms/step - loss: 6.7931 - mae: 6.7931\n",
            "Epoch 12/100\n",
            "1/1 [==============================] - 0s 10ms/step - loss: 6.7924 - mae: 6.7924\n",
            "Epoch 13/100\n",
            "1/1 [==============================] - 0s 16ms/step - loss: 6.7916 - mae: 6.7916\n",
            "Epoch 14/100\n",
            "1/1 [==============================] - 0s 17ms/step - loss: 6.7909 - mae: 6.7909\n",
            "Epoch 15/100\n",
            "1/1 [==============================] - 0s 15ms/step - loss: 6.7901 - mae: 6.7901\n",
            "Epoch 16/100\n",
            "1/1 [==============================] - 0s 13ms/step - loss: 6.7894 - mae: 6.7894\n",
            "Epoch 17/100\n",
            "1/1 [==============================] - 0s 17ms/step - loss: 6.7886 - mae: 6.7886\n",
            "Epoch 18/100\n",
            "1/1 [==============================] - 0s 15ms/step - loss: 6.7879 - mae: 6.7879\n",
            "Epoch 19/100\n",
            "1/1 [==============================] - 0s 10ms/step - loss: 6.7871 - mae: 6.7871\n",
            "Epoch 20/100\n",
            "1/1 [==============================] - 0s 10ms/step - loss: 6.7864 - mae: 6.7864\n",
            "Epoch 21/100\n",
            "1/1 [==============================] - 0s 10ms/step - loss: 6.7856 - mae: 6.7856\n",
            "Epoch 22/100\n",
            "1/1 [==============================] - 0s 12ms/step - loss: 6.7849 - mae: 6.7849\n",
            "Epoch 23/100\n",
            "1/1 [==============================] - 0s 13ms/step - loss: 6.7841 - mae: 6.7841\n",
            "Epoch 24/100\n",
            "1/1 [==============================] - 0s 14ms/step - loss: 6.7834 - mae: 6.7834\n",
            "Epoch 25/100\n",
            "1/1 [==============================] - 0s 16ms/step - loss: 6.7826 - mae: 6.7826\n",
            "Epoch 26/100\n",
            "1/1 [==============================] - 0s 16ms/step - loss: 6.7819 - mae: 6.7819\n",
            "Epoch 27/100\n",
            "1/1 [==============================] - 0s 16ms/step - loss: 6.7811 - mae: 6.7811\n",
            "Epoch 28/100\n",
            "1/1 [==============================] - 0s 15ms/step - loss: 6.7804 - mae: 6.7804\n",
            "Epoch 29/100\n",
            "1/1 [==============================] - 0s 11ms/step - loss: 6.7796 - mae: 6.7796\n",
            "Epoch 30/100\n",
            "1/1 [==============================] - 0s 10ms/step - loss: 6.7789 - mae: 6.7789\n",
            "Epoch 31/100\n",
            "1/1 [==============================] - 0s 11ms/step - loss: 6.7781 - mae: 6.7781\n",
            "Epoch 32/100\n",
            "1/1 [==============================] - 0s 10ms/step - loss: 6.7774 - mae: 6.7774\n",
            "Epoch 33/100\n",
            "1/1 [==============================] - 0s 10ms/step - loss: 6.7766 - mae: 6.7766\n",
            "Epoch 34/100\n",
            "1/1 [==============================] - 0s 11ms/step - loss: 6.7759 - mae: 6.7759\n",
            "Epoch 35/100\n",
            "1/1 [==============================] - 0s 11ms/step - loss: 6.7751 - mae: 6.7751\n",
            "Epoch 36/100\n",
            "1/1 [==============================] - 0s 11ms/step - loss: 6.7744 - mae: 6.7744\n",
            "Epoch 37/100\n",
            "1/1 [==============================] - 0s 15ms/step - loss: 6.7736 - mae: 6.7736\n",
            "Epoch 38/100\n",
            "1/1 [==============================] - 0s 15ms/step - loss: 6.7729 - mae: 6.7729\n",
            "Epoch 39/100\n",
            "1/1 [==============================] - 0s 10ms/step - loss: 6.7721 - mae: 6.7721\n",
            "Epoch 40/100\n",
            "1/1 [==============================] - 0s 10ms/step - loss: 6.7714 - mae: 6.7714\n",
            "Epoch 41/100\n",
            "1/1 [==============================] - 0s 10ms/step - loss: 6.7706 - mae: 6.7706\n",
            "Epoch 42/100\n",
            "1/1 [==============================] - 0s 11ms/step - loss: 6.7699 - mae: 6.7699\n",
            "Epoch 43/100\n",
            "1/1 [==============================] - 0s 11ms/step - loss: 6.7691 - mae: 6.7691\n",
            "Epoch 44/100\n",
            "1/1 [==============================] - 0s 11ms/step - loss: 6.7684 - mae: 6.7684\n",
            "Epoch 45/100\n",
            "1/1 [==============================] - 0s 13ms/step - loss: 6.7676 - mae: 6.7676\n",
            "Epoch 46/100\n",
            "1/1 [==============================] - 0s 9ms/step - loss: 6.7669 - mae: 6.7669\n",
            "Epoch 47/100\n",
            "1/1 [==============================] - 0s 10ms/step - loss: 6.7661 - mae: 6.7661\n",
            "Epoch 48/100\n",
            "1/1 [==============================] - 0s 10ms/step - loss: 6.7654 - mae: 6.7654\n",
            "Epoch 49/100\n",
            "1/1 [==============================] - 0s 17ms/step - loss: 6.7646 - mae: 6.7646\n",
            "Epoch 50/100\n",
            "1/1 [==============================] - 0s 12ms/step - loss: 6.7639 - mae: 6.7639\n",
            "Epoch 51/100\n",
            "1/1 [==============================] - 0s 10ms/step - loss: 6.7631 - mae: 6.7631\n",
            "Epoch 52/100\n",
            "1/1 [==============================] - 0s 10ms/step - loss: 6.7624 - mae: 6.7624\n",
            "Epoch 53/100\n",
            "1/1 [==============================] - 0s 13ms/step - loss: 6.7616 - mae: 6.7616\n",
            "Epoch 54/100\n",
            "1/1 [==============================] - 0s 9ms/step - loss: 6.7609 - mae: 6.7609\n",
            "Epoch 55/100\n",
            "1/1 [==============================] - 0s 11ms/step - loss: 6.7601 - mae: 6.7601\n",
            "Epoch 56/100\n",
            "1/1 [==============================] - 0s 11ms/step - loss: 6.7594 - mae: 6.7594\n",
            "Epoch 57/100\n",
            "1/1 [==============================] - 0s 14ms/step - loss: 6.7586 - mae: 6.7586\n",
            "Epoch 58/100\n",
            "1/1 [==============================] - 0s 9ms/step - loss: 6.7579 - mae: 6.7579\n",
            "Epoch 59/100\n",
            "1/1 [==============================] - 0s 10ms/step - loss: 6.7571 - mae: 6.7571\n",
            "Epoch 60/100\n",
            "1/1 [==============================] - 0s 9ms/step - loss: 6.7564 - mae: 6.7564\n",
            "Epoch 61/100\n",
            "1/1 [==============================] - 0s 11ms/step - loss: 6.7556 - mae: 6.7556\n",
            "Epoch 62/100\n",
            "1/1 [==============================] - 0s 12ms/step - loss: 6.7549 - mae: 6.7549\n",
            "Epoch 63/100\n",
            "1/1 [==============================] - 0s 12ms/step - loss: 6.7541 - mae: 6.7541\n",
            "Epoch 64/100\n",
            "1/1 [==============================] - 0s 9ms/step - loss: 6.7534 - mae: 6.7534\n",
            "Epoch 65/100\n",
            "1/1 [==============================] - 0s 12ms/step - loss: 6.7526 - mae: 6.7526\n",
            "Epoch 66/100\n",
            "1/1 [==============================] - 0s 10ms/step - loss: 6.7519 - mae: 6.7519\n",
            "Epoch 67/100\n",
            "1/1 [==============================] - 0s 10ms/step - loss: 6.7511 - mae: 6.7511\n",
            "Epoch 68/100\n",
            "1/1 [==============================] - 0s 11ms/step - loss: 6.7504 - mae: 6.7504\n",
            "Epoch 69/100\n",
            "1/1 [==============================] - 0s 9ms/step - loss: 6.7496 - mae: 6.7496\n",
            "Epoch 70/100\n",
            "1/1 [==============================] - 0s 13ms/step - loss: 6.7489 - mae: 6.7489\n",
            "Epoch 71/100\n",
            "1/1 [==============================] - 0s 9ms/step - loss: 6.7481 - mae: 6.7481\n",
            "Epoch 72/100\n",
            "1/1 [==============================] - 0s 10ms/step - loss: 6.7474 - mae: 6.7474\n",
            "Epoch 73/100\n",
            "1/1 [==============================] - 0s 11ms/step - loss: 6.7466 - mae: 6.7466\n",
            "Epoch 74/100\n",
            "1/1 [==============================] - 0s 14ms/step - loss: 6.7459 - mae: 6.7459\n",
            "Epoch 75/100\n",
            "1/1 [==============================] - 0s 11ms/step - loss: 6.7451 - mae: 6.7451\n",
            "Epoch 76/100\n",
            "1/1 [==============================] - 0s 10ms/step - loss: 6.7444 - mae: 6.7444\n",
            "Epoch 77/100\n",
            "1/1 [==============================] - 0s 10ms/step - loss: 6.7436 - mae: 6.7436\n",
            "Epoch 78/100\n",
            "1/1 [==============================] - 0s 11ms/step - loss: 6.7429 - mae: 6.7429\n",
            "Epoch 79/100\n",
            "1/1 [==============================] - 0s 11ms/step - loss: 6.7421 - mae: 6.7421\n",
            "Epoch 80/100\n",
            "1/1 [==============================] - 0s 11ms/step - loss: 6.7414 - mae: 6.7414\n",
            "Epoch 81/100\n",
            "1/1 [==============================] - 0s 8ms/step - loss: 6.7406 - mae: 6.7406\n",
            "Epoch 82/100\n",
            "1/1 [==============================] - 0s 11ms/step - loss: 6.7399 - mae: 6.7399\n",
            "Epoch 83/100\n",
            "1/1 [==============================] - 0s 14ms/step - loss: 6.7391 - mae: 6.7391\n",
            "Epoch 84/100\n",
            "1/1 [==============================] - 0s 13ms/step - loss: 6.7384 - mae: 6.7384\n",
            "Epoch 85/100\n",
            "1/1 [==============================] - 0s 13ms/step - loss: 6.7376 - mae: 6.7376\n",
            "Epoch 86/100\n",
            "1/1 [==============================] - 0s 12ms/step - loss: 6.7369 - mae: 6.7369\n",
            "Epoch 87/100\n",
            "1/1 [==============================] - 0s 10ms/step - loss: 6.7361 - mae: 6.7361\n",
            "Epoch 88/100\n",
            "1/1 [==============================] - 0s 10ms/step - loss: 6.7354 - mae: 6.7354\n",
            "Epoch 89/100\n",
            "1/1 [==============================] - 0s 12ms/step - loss: 6.7346 - mae: 6.7346\n",
            "Epoch 90/100\n",
            "1/1 [==============================] - 0s 10ms/step - loss: 6.7339 - mae: 6.7339\n",
            "Epoch 91/100\n",
            "1/1 [==============================] - 0s 9ms/step - loss: 6.7331 - mae: 6.7331\n",
            "Epoch 92/100\n",
            "1/1 [==============================] - 0s 13ms/step - loss: 6.7324 - mae: 6.7324\n",
            "Epoch 93/100\n",
            "1/1 [==============================] - 0s 15ms/step - loss: 6.7316 - mae: 6.7316\n",
            "Epoch 94/100\n",
            "1/1 [==============================] - 0s 14ms/step - loss: 6.7309 - mae: 6.7309\n",
            "Epoch 95/100\n",
            "1/1 [==============================] - 0s 17ms/step - loss: 6.7301 - mae: 6.7301\n",
            "Epoch 96/100\n",
            "1/1 [==============================] - 0s 11ms/step - loss: 6.7294 - mae: 6.7294\n",
            "Epoch 97/100\n",
            "1/1 [==============================] - 0s 10ms/step - loss: 6.7286 - mae: 6.7286\n",
            "Epoch 98/100\n",
            "1/1 [==============================] - 0s 10ms/step - loss: 6.7279 - mae: 6.7279\n",
            "Epoch 99/100\n",
            "1/1 [==============================] - 0s 10ms/step - loss: 6.7271 - mae: 6.7271\n",
            "Epoch 100/100\n",
            "1/1 [==============================] - 0s 13ms/step - loss: 6.7264 - mae: 6.7264\n"
          ]
        },
        {
          "output_type": "execute_result",
          "data": {
            "text/plain": [
              "<keras.callbacks.History at 0x7fb85c1f47f0>"
            ]
          },
          "metadata": {},
          "execution_count": 20
        }
      ]
    },
    {
      "cell_type": "code",
      "source": [
        "X, y"
      ],
      "metadata": {
        "colab": {
          "base_uri": "https://localhost:8080/"
        },
        "id": "0jvPIIW7l0iJ",
        "outputId": "a79d4186-084c-4369-ee5f-c9fa077c8e53"
      },
      "execution_count": 21,
      "outputs": [
        {
          "output_type": "execute_result",
          "data": {
            "text/plain": [
              "(<tf.Tensor: shape=(8,), dtype=float32, numpy=array([-7., -4., -1.,  2.,  5.,  8., 11., 14.], dtype=float32)>,\n",
              " <tf.Tensor: shape=(8,), dtype=float32, numpy=array([ 3.,  6.,  9., 12., 15., 18., 21., 24.], dtype=float32)>)"
            ]
          },
          "metadata": {},
          "execution_count": 21
        }
      ]
    },
    {
      "cell_type": "code",
      "source": [
        "# Predict w/ newer model\n",
        "model.predict([17.0])"
      ],
      "metadata": {
        "colab": {
          "base_uri": "https://localhost:8080/"
        },
        "id": "9m6TVuPJmIxF",
        "outputId": "75ddaae8-cd72-48fd-856a-7bc52571a6aa"
      },
      "execution_count": 22,
      "outputs": [
        {
          "output_type": "stream",
          "name": "stdout",
          "text": [
            "1/1 [==============================] - 0s 152ms/step\n"
          ]
        },
        {
          "output_type": "execute_result",
          "data": {
            "text/plain": [
              "array([[29.43363]], dtype=float32)"
            ]
          },
          "metadata": {},
          "execution_count": 22
        }
      ]
    },
    {
      "cell_type": "markdown",
      "source": [
        "## Evaluating a model\n",
        "\n",
        "Build model --> fit model --> evaluate it --> tweak model --> Repeat...\n",
        "\n",
        "Visualizing is very important:\n",
        "- The data: what does data look like?\n",
        "- The model - what does model look like?\n",
        "- The training of a model- how does model perform while it learns?\n",
        "- The predictions of the model - how does the model's predictions line up w/ original labels or expected outcomes"
      ],
      "metadata": {
        "id": "KHaaoOJzmMfS"
      }
    },
    {
      "cell_type": "code",
      "source": [
        " # Make bigger dataset\n",
        " X = tf.range(-100, 100, 4)\n",
        " X"
      ],
      "metadata": {
        "colab": {
          "base_uri": "https://localhost:8080/"
        },
        "id": "n6eHZBW2n23N",
        "outputId": "c8ee3f44-0e70-481e-bc1c-741425ef4564"
      },
      "execution_count": 23,
      "outputs": [
        {
          "output_type": "execute_result",
          "data": {
            "text/plain": [
              "<tf.Tensor: shape=(50,), dtype=int32, numpy=\n",
              "array([-100,  -96,  -92,  -88,  -84,  -80,  -76,  -72,  -68,  -64,  -60,\n",
              "        -56,  -52,  -48,  -44,  -40,  -36,  -32,  -28,  -24,  -20,  -16,\n",
              "        -12,   -8,   -4,    0,    4,    8,   12,   16,   20,   24,   28,\n",
              "         32,   36,   40,   44,   48,   52,   56,   60,   64,   68,   72,\n",
              "         76,   80,   84,   88,   92,   96], dtype=int32)>"
            ]
          },
          "metadata": {},
          "execution_count": 23
        }
      ]
    },
    {
      "cell_type": "code",
      "source": [
        "# Make labels for dataset\n",
        "y = X + 10\n",
        "y"
      ],
      "metadata": {
        "colab": {
          "base_uri": "https://localhost:8080/"
        },
        "id": "AbvdwKL2p259",
        "outputId": "0a4e6cd7-fa63-466a-bc3f-ac3170648ece"
      },
      "execution_count": 24,
      "outputs": [
        {
          "output_type": "execute_result",
          "data": {
            "text/plain": [
              "<tf.Tensor: shape=(50,), dtype=int32, numpy=\n",
              "array([-90, -86, -82, -78, -74, -70, -66, -62, -58, -54, -50, -46, -42,\n",
              "       -38, -34, -30, -26, -22, -18, -14, -10,  -6,  -2,   2,   6,  10,\n",
              "        14,  18,  22,  26,  30,  34,  38,  42,  46,  50,  54,  58,  62,\n",
              "        66,  70,  74,  78,  82,  86,  90,  94,  98, 102, 106], dtype=int32)>"
            ]
          },
          "metadata": {},
          "execution_count": 24
        }
      ]
    },
    {
      "cell_type": "code",
      "source": [
        "# Visualize data\n",
        "\n",
        "import matplotlib.pyplot as plt\n",
        "plt.scatter(X, y)"
      ],
      "metadata": {
        "colab": {
          "base_uri": "https://localhost:8080/",
          "height": 447
        },
        "id": "r_mp3zGFp_cH",
        "outputId": "f208141d-bd5b-4f5d-f675-246ac0d8e5d0"
      },
      "execution_count": 25,
      "outputs": [
        {
          "output_type": "execute_result",
          "data": {
            "text/plain": [
              "<matplotlib.collections.PathCollection at 0x7fb85c0cf7f0>"
            ]
          },
          "metadata": {},
          "execution_count": 25
        },
        {
          "output_type": "display_data",
          "data": {
            "text/plain": [
              "<Figure size 640x480 with 1 Axes>"
            ],
            "image/png": "[encoded data removed]"
          },
          "metadata": {}
        }
      ]
    },
    {
      "cell_type": "markdown",
      "source": [
        "### The 3 sets: \n",
        "\n",
        "- **Training set** - model learns from data, typically 70-80% of total data available\n",
        "- **Validation set** - model is tuned based on this data, 10-15% of available data\n",
        "- **Test set** - model is evaluated on data to test what it has learned, typically 10-15% of total available data"
      ],
      "metadata": {
        "id": "LN6svG2TqIxD"
      }
    },
    {
      "cell_type": "code",
      "source": [
        "# Check length of num of samples\n",
        "len(X)"
      ],
      "metadata": {
        "colab": {
          "base_uri": "https://localhost:8080/"
        },
        "id": "YML8l712rMP8",
        "outputId": "4919b081-39d4-4208-ffb2-dafef8ea8609"
      },
      "execution_count": 26,
      "outputs": [
        {
          "output_type": "execute_result",
          "data": {
            "text/plain": [
              "50"
            ]
          },
          "metadata": {},
          "execution_count": 26
        }
      ]
    },
    {
      "cell_type": "code",
      "source": [
        "# Split data into test and train sets\n",
        "X_train = X[:40] # first 40 training samples(80% of total data)\n",
        "y_train = y[:40]\n",
        "\n",
        "X_test = X[40:] # last testing samples (20% of total data)\n",
        "y_test = y[40:]\n",
        "\n",
        "len(X_train), len(X_test), len(y_train), len(y_test)"
      ],
      "metadata": {
        "colab": {
          "base_uri": "https://localhost:8080/"
        },
        "id": "K5AoYbr8rfxn",
        "outputId": "5f3519de-2cdd-41e7-ba60-da172433456f"
      },
      "execution_count": 27,
      "outputs": [
        {
          "output_type": "execute_result",
          "data": {
            "text/plain": [
              "(40, 10, 40, 10)"
            ]
          },
          "metadata": {},
          "execution_count": 27
        }
      ]
    },
    {
      "cell_type": "markdown",
      "source": [
        "### Visualizing data in newly created training and test sets\n"
      ],
      "metadata": {
        "id": "c_2HqvE-saM2"
      }
    },
    {
      "cell_type": "code",
      "source": [
        "plt.figure(figsize=(10, 7))\n",
        "# Plot training data in blue\n",
        "plt.scatter(X_train, y_train, c=\"b\", label=\"Training data\") # model learns on training data\n",
        "# Plot test data in green\n",
        "plt.scatter(X_test, y_test, c=\"g\", label=\"Testing data\") # moedl tested on testing data\n",
        "# Show legend\n",
        "plt.legend()"
      ],
      "metadata": {
        "colab": {
          "base_uri": "https://localhost:8080/",
          "height": 616
        },
        "id": "VRsiwzy2sf1q",
        "outputId": "942a28d4-22ec-4ed7-9547-7f492a9e6b68"
      },
      "execution_count": 28,
      "outputs": [
        {
          "output_type": "execute_result",
          "data": {
            "text/plain": [
              "<matplotlib.legend.Legend at 0x7fb85c171ae0>"
            ]
          },
          "metadata": {},
          "execution_count": 28
        },
        {
          "output_type": "display_data",
          "data": {
            "text/plain": [
              "<Figure size 1000x700 with 1 Axes>"
            ],
            "image/png": "[encoded data removed]"
          },
          "metadata": {}
        }
      ]
    },
    {
      "cell_type": "code",
      "source": [
        "# 1. Create model\n",
        "model = tf.keras.Sequential([\n",
        "    tf.keras.layers.Dense(1)\n",
        "])\n",
        "\n",
        "#2. Compile model\n",
        "model.compile(loss=tf.keras.losses.mae,\n",
        "              optimizer=tf.keras.optimizers.SGD(),\n",
        "              metrics=[\"mae\"])\n",
        "\n",
        "#3. Fit model\n",
        "#model.fit(X_train, y_train, epochs=100) #Fit model only on training"
      ],
      "metadata": {
        "id": "1uBhpSZws9mo"
      },
      "execution_count": 29,
      "outputs": []
    },
    {
      "cell_type": "markdown",
      "source": [
        "### Visualizing the model"
      ],
      "metadata": {
        "id": "yYcJVrsd7oEO"
      }
    },
    {
      "cell_type": "code",
      "source": [
        "model.summary()"
      ],
      "metadata": {
        "colab": {
          "base_uri": "https://localhost:8080/",
          "height": 305
        },
        "id": "2IaKafO07q5S",
        "outputId": "308983a2-7d47-490c-acf5-f8679c9ff550"
      },
      "execution_count": 30,
      "outputs": [
        {
          "output_type": "error",
          "ename": "ValueError",
          "evalue": "ignored",
          "traceback": [
            "\u001b[0;31m---------------------------------------------------------------------------\u001b[0m",
            "\u001b[0;31mValueError\u001b[0m                                Traceback (most recent call last)",
            "\u001b[0;32m<ipython-input-30-5f15418b3570>\u001b[0m in \u001b[0;36m<cell line: 1>\u001b[0;34m()\u001b[0m\n\u001b[0;32m----> 1\u001b[0;31m \u001b[0mmodel\u001b[0m\u001b[0;34m.\u001b[0m\u001b[0msummary\u001b[0m\u001b[0;34m(\u001b[0m\u001b[0;34m)\u001b[0m\u001b[0;34m\u001b[0m\u001b[0;34m\u001b[0m\u001b[0m\n\u001b[0m",
            "\u001b[0;32m/usr/local/lib/python3.10/dist-packages/keras/engine/training.py\u001b[0m in \u001b[0;36msummary\u001b[0;34m(self, line_length, positions, print_fn, expand_nested, show_trainable, layer_range)\u001b[0m\n\u001b[1;32m   3227\u001b[0m         \"\"\"\n\u001b[1;32m   3228\u001b[0m         \u001b[0;32mif\u001b[0m \u001b[0;32mnot\u001b[0m \u001b[0mself\u001b[0m\u001b[0;34m.\u001b[0m\u001b[0mbuilt\u001b[0m\u001b[0;34m:\u001b[0m\u001b[0;34m\u001b[0m\u001b[0;34m\u001b[0m\u001b[0m\n\u001b[0;32m-> 3229\u001b[0;31m             raise ValueError(\n\u001b[0m\u001b[1;32m   3230\u001b[0m                 \u001b[0;34m\"This model has not yet been built. \"\u001b[0m\u001b[0;34m\u001b[0m\u001b[0;34m\u001b[0m\u001b[0m\n\u001b[1;32m   3231\u001b[0m                 \u001b[0;34m\"Build the model first by calling `build()` or by calling \"\u001b[0m\u001b[0;34m\u001b[0m\u001b[0;34m\u001b[0m\u001b[0m\n",
            "\u001b[0;31mValueError\u001b[0m: This model has not yet been built. Build the model first by calling `build()` or by calling the model on a batch of data."
          ]
        }
      ]
    },
    {
      "cell_type": "code",
      "source": [
        "# Create model which builds automatically by defining input_shape arg in first layer\n",
        "tf.random.set_seed(42)\n",
        "\n",
        "# 1. Create model\n",
        "model = tf.keras.Sequential([\n",
        "    tf.keras.layers.Dense(1, input_shape=[1]) # input_shape = 1 b/c both X[0] and y[0] are scalars w/ shape of [1] or 1 number\n",
        "])\n",
        "\n",
        "# 2. Compile model\n",
        "model.compile(loss = tf.keras.losses.mae,\n",
        "              optimizer=tf.keras.optimizers.SGD(),\n",
        "              metrics=[\"mae\"])"
      ],
      "metadata": {
        "id": "Mt94-2Hi7tBa"
      },
      "execution_count": 91,
      "outputs": []
    },
    {
      "cell_type": "code",
      "source": [
        "model.summary()"
      ],
      "metadata": {
        "colab": {
          "base_uri": "https://localhost:8080/"
        },
        "id": "bjNCVH_671Ow",
        "outputId": "2fcdfea6-47ac-4188-88ae-5e97e7759abe"
      },
      "execution_count": 92,
      "outputs": [
        {
          "output_type": "stream",
          "name": "stdout",
          "text": [
            "Model: \"sequential_11\"\n",
            "_________________________________________________________________\n",
            " Layer (type)                Output Shape              Param #   \n",
            "=================================================================\n",
            " dense_13 (Dense)            (None, 1)                 2         \n",
            "                                                                 \n",
            "=================================================================\n",
            "Total params: 2\n",
            "Trainable params: 2\n",
            "Non-trainable params: 0\n",
            "_________________________________________________________________\n"
          ]
        }
      ]
    },
    {
      "cell_type": "markdown",
      "source": [
        "- Total params - total # of params in model\n",
        "- Trainable params - params (patterns) model can update as it trains\n",
        "- Non-trainable params - params aren't updated during training (typical when importing already learned patterns or params through **transfer learning**)"
      ],
      "metadata": {
        "id": "8EY2kcTa8w9M"
      }
    },
    {
      "cell_type": "code",
      "source": [
        "# Experimenting w/ # of hidden layers and trainable params/total params\n",
        "tf.random.set_seed(42)\n",
        "\n",
        "# 1. Create model\n",
        "model = tf.keras.Sequential([\n",
        "   tf.keras.layers.Dense(10, input_shape=[1], name = \"input_layer\"), #input_shape = 1 b/c both X[0] and y[0] are scalars w/ shape of [1] or 1 number\n",
        "   tf.keras.layers.Dense(1, name=\"output_layer\")\n",
        "], name = \"model_1\")\n",
        "\n",
        "# 2. Compile model\n",
        "model.compile(loss = tf.keras.losses.mae,\n",
        "              optimizer=tf.keras.optimizers.SGD(),\n",
        "              metrics=[\"mae\"])\n",
        "model.summary()"
      ],
      "metadata": {
        "colab": {
          "base_uri": "https://localhost:8080/"
        },
        "id": "60O7tPxq_O52",
        "outputId": "d26bee1e-91e4-4881-e963-15301c188f16"
      },
      "execution_count": 75,
      "outputs": [
        {
          "output_type": "stream",
          "name": "stdout",
          "text": [
            "Model: \"model_1\"\n",
            "_________________________________________________________________\n",
            " Layer (type)                Output Shape              Param #   \n",
            "=================================================================\n",
            " input_layer (Dense)         (None, 10)                20        \n",
            "                                                                 \n",
            " output_layer (Dense)        (None, 1)                 11        \n",
            "                                                                 \n",
            "=================================================================\n",
            "Total params: 31\n",
            "Trainable params: 31\n",
            "Non-trainable params: 0\n",
            "_________________________________________________________________\n"
          ]
        }
      ]
    },
    {
      "cell_type": "markdown",
      "source": [
        "For every hidden layer added there are 2 trainable params per layer b/c number of layers * 2 = total params"
      ],
      "metadata": {
        "id": "GTntjzGV_fE1"
      }
    },
    {
      "cell_type": "code",
      "source": [
        "# Fitting original model to trianing\n",
        "model.fit(X_train, y_train, epochs=100, verbose=2)"
      ],
      "metadata": {
        "colab": {
          "base_uri": "https://localhost:8080/"
        },
        "id": "YYZaWEqj-zvO",
        "outputId": "9f47efc6-675b-4547-b595-c1accc186a7c"
      },
      "execution_count": 93,
      "outputs": [
        {
          "output_type": "stream",
          "name": "stdout",
          "text": [
            "Epoch 1/100\n",
            "2/2 - 1s - loss: 28.0186 - mae: 28.0186 - 1s/epoch - 521ms/step\n",
            "Epoch 2/100\n",
            "2/2 - 0s - loss: 8.9125 - mae: 8.9125 - 12ms/epoch - 6ms/step\n",
            "Epoch 3/100\n",
            "2/2 - 0s - loss: 9.7795 - mae: 9.7795 - 18ms/epoch - 9ms/step\n",
            "Epoch 4/100\n",
            "2/2 - 0s - loss: 11.9555 - mae: 11.9555 - 26ms/epoch - 13ms/step\n",
            "Epoch 5/100\n",
            "2/2 - 0s - loss: 11.0194 - mae: 11.0194 - 23ms/epoch - 12ms/step\n",
            "Epoch 6/100\n",
            "2/2 - 0s - loss: 10.1800 - mae: 10.1800 - 34ms/epoch - 17ms/step\n",
            "Epoch 7/100\n",
            "2/2 - 0s - loss: 9.1974 - mae: 9.1974 - 13ms/epoch - 7ms/step\n",
            "Epoch 8/100\n",
            "2/2 - 0s - loss: 9.1347 - mae: 9.1347 - 18ms/epoch - 9ms/step\n",
            "Epoch 9/100\n",
            "2/2 - 0s - loss: 11.7437 - mae: 11.7437 - 22ms/epoch - 11ms/step\n",
            "Epoch 10/100\n",
            "2/2 - 0s - loss: 13.6618 - mae: 13.6618 - 31ms/epoch - 15ms/step\n",
            "Epoch 11/100\n",
            "2/2 - 0s - loss: 11.7263 - mae: 11.7263 - 23ms/epoch - 12ms/step\n",
            "Epoch 12/100\n",
            "2/2 - 0s - loss: 16.4651 - mae: 16.4651 - 17ms/epoch - 8ms/step\n",
            "Epoch 13/100\n",
            "2/2 - 0s - loss: 11.9842 - mae: 11.9842 - 31ms/epoch - 15ms/step\n",
            "Epoch 14/100\n",
            "2/2 - 0s - loss: 13.9276 - mae: 13.9276 - 20ms/epoch - 10ms/step\n",
            "Epoch 15/100\n",
            "2/2 - 0s - loss: 11.3179 - mae: 11.3179 - 22ms/epoch - 11ms/step\n",
            "Epoch 16/100\n",
            "2/2 - 0s - loss: 8.5678 - mae: 8.5678 - 15ms/epoch - 8ms/step\n",
            "Epoch 17/100\n",
            "2/2 - 0s - loss: 13.6989 - mae: 13.6989 - 21ms/epoch - 11ms/step\n",
            "Epoch 18/100\n",
            "2/2 - 0s - loss: 11.5425 - mae: 11.5425 - 16ms/epoch - 8ms/step\n",
            "Epoch 19/100\n",
            "2/2 - 0s - loss: 17.8221 - mae: 17.8221 - 11ms/epoch - 6ms/step\n",
            "Epoch 20/100\n",
            "2/2 - 0s - loss: 14.9574 - mae: 14.9574 - 25ms/epoch - 12ms/step\n",
            "Epoch 21/100\n",
            "2/2 - 0s - loss: 10.8401 - mae: 10.8401 - 17ms/epoch - 8ms/step\n",
            "Epoch 22/100\n",
            "2/2 - 0s - loss: 8.5903 - mae: 8.5903 - 11ms/epoch - 6ms/step\n",
            "Epoch 23/100\n",
            "2/2 - 0s - loss: 9.7162 - mae: 9.7162 - 11ms/epoch - 5ms/step\n",
            "Epoch 24/100\n",
            "2/2 - 0s - loss: 10.9519 - mae: 10.9519 - 17ms/epoch - 9ms/step\n",
            "Epoch 25/100\n",
            "2/2 - 0s - loss: 9.1589 - mae: 9.1589 - 16ms/epoch - 8ms/step\n",
            "Epoch 26/100\n",
            "2/2 - 0s - loss: 13.1894 - mae: 13.1894 - 13ms/epoch - 7ms/step\n",
            "Epoch 27/100\n",
            "2/2 - 0s - loss: 10.6623 - mae: 10.6623 - 17ms/epoch - 9ms/step\n",
            "Epoch 28/100\n",
            "2/2 - 0s - loss: 12.8809 - mae: 12.8809 - 10ms/epoch - 5ms/step\n",
            "Epoch 29/100\n",
            "2/2 - 0s - loss: 9.5090 - mae: 9.5090 - 10ms/epoch - 5ms/step\n",
            "Epoch 30/100\n",
            "2/2 - 0s - loss: 16.4024 - mae: 16.4024 - 11ms/epoch - 5ms/step\n",
            "Epoch 31/100\n",
            "2/2 - 0s - loss: 23.5872 - mae: 23.5872 - 10ms/epoch - 5ms/step\n",
            "Epoch 32/100\n",
            "2/2 - 0s - loss: 7.6111 - mae: 7.6111 - 16ms/epoch - 8ms/step\n",
            "Epoch 33/100\n",
            "2/2 - 0s - loss: 9.3087 - mae: 9.3087 - 13ms/epoch - 6ms/step\n",
            "Epoch 34/100\n",
            "2/2 - 0s - loss: 13.6883 - mae: 13.6883 - 21ms/epoch - 11ms/step\n",
            "Epoch 35/100\n",
            "2/2 - 0s - loss: 11.1509 - mae: 11.1509 - 20ms/epoch - 10ms/step\n",
            "Epoch 36/100\n",
            "2/2 - 0s - loss: 13.3697 - mae: 13.3697 - 17ms/epoch - 8ms/step\n",
            "Epoch 37/100\n",
            "2/2 - 0s - loss: 9.4562 - mae: 9.4562 - 25ms/epoch - 13ms/step\n",
            "Epoch 38/100\n",
            "2/2 - 0s - loss: 10.1097 - mae: 10.1097 - 12ms/epoch - 6ms/step\n",
            "Epoch 39/100\n",
            "2/2 - 0s - loss: 10.2029 - mae: 10.2029 - 14ms/epoch - 7ms/step\n",
            "Epoch 40/100\n",
            "2/2 - 0s - loss: 10.9463 - mae: 10.9463 - 23ms/epoch - 12ms/step\n",
            "Epoch 41/100\n",
            "2/2 - 0s - loss: 7.9224 - mae: 7.9224 - 11ms/epoch - 6ms/step\n",
            "Epoch 42/100\n",
            "2/2 - 0s - loss: 10.5878 - mae: 10.5878 - 11ms/epoch - 6ms/step\n",
            "Epoch 43/100\n",
            "2/2 - 0s - loss: 7.2103 - mae: 7.2103 - 11ms/epoch - 5ms/step\n",
            "Epoch 44/100\n",
            "2/2 - 0s - loss: 7.9996 - mae: 7.9996 - 12ms/epoch - 6ms/step\n",
            "Epoch 45/100\n",
            "2/2 - 0s - loss: 9.7938 - mae: 9.7938 - 16ms/epoch - 8ms/step\n",
            "Epoch 46/100\n",
            "2/2 - 0s - loss: 8.8704 - mae: 8.8704 - 17ms/epoch - 8ms/step\n",
            "Epoch 47/100\n",
            "2/2 - 0s - loss: 7.5719 - mae: 7.5719 - 14ms/epoch - 7ms/step\n",
            "Epoch 48/100\n",
            "2/2 - 0s - loss: 8.5689 - mae: 8.5689 - 14ms/epoch - 7ms/step\n",
            "Epoch 49/100\n",
            "2/2 - 0s - loss: 9.9998 - mae: 9.9998 - 12ms/epoch - 6ms/step\n",
            "Epoch 50/100\n",
            "2/2 - 0s - loss: 9.0201 - mae: 9.0201 - 14ms/epoch - 7ms/step\n",
            "Epoch 51/100\n",
            "2/2 - 0s - loss: 10.6702 - mae: 10.6702 - 13ms/epoch - 7ms/step\n",
            "Epoch 52/100\n",
            "2/2 - 0s - loss: 15.2932 - mae: 15.2932 - 12ms/epoch - 6ms/step\n",
            "Epoch 53/100\n",
            "2/2 - 0s - loss: 14.3150 - mae: 14.3150 - 20ms/epoch - 10ms/step\n",
            "Epoch 54/100\n",
            "2/2 - 0s - loss: 21.6068 - mae: 21.6068 - 18ms/epoch - 9ms/step\n",
            "Epoch 55/100\n",
            "2/2 - 0s - loss: 15.9954 - mae: 15.9954 - 16ms/epoch - 8ms/step\n",
            "Epoch 56/100\n",
            "2/2 - 0s - loss: 10.2846 - mae: 10.2846 - 11ms/epoch - 6ms/step\n",
            "Epoch 57/100\n",
            "2/2 - 0s - loss: 9.7690 - mae: 9.7690 - 13ms/epoch - 6ms/step\n",
            "Epoch 58/100\n",
            "2/2 - 0s - loss: 9.0545 - mae: 9.0545 - 14ms/epoch - 7ms/step\n",
            "Epoch 59/100\n",
            "2/2 - 0s - loss: 8.2592 - mae: 8.2592 - 11ms/epoch - 6ms/step\n",
            "Epoch 60/100\n",
            "2/2 - 0s - loss: 9.3558 - mae: 9.3558 - 19ms/epoch - 10ms/step\n",
            "Epoch 61/100\n",
            "2/2 - 0s - loss: 11.1663 - mae: 11.1663 - 11ms/epoch - 6ms/step\n",
            "Epoch 62/100\n",
            "2/2 - 0s - loss: 12.0732 - mae: 12.0732 - 13ms/epoch - 7ms/step\n",
            "Epoch 63/100\n",
            "2/2 - 0s - loss: 7.2688 - mae: 7.2688 - 12ms/epoch - 6ms/step\n",
            "Epoch 64/100\n",
            "2/2 - 0s - loss: 12.4322 - mae: 12.4322 - 11ms/epoch - 6ms/step\n",
            "Epoch 65/100\n",
            "2/2 - 0s - loss: 10.5022 - mae: 10.5022 - 11ms/epoch - 6ms/step\n",
            "Epoch 66/100\n",
            "2/2 - 0s - loss: 15.6060 - mae: 15.6060 - 11ms/epoch - 5ms/step\n",
            "Epoch 67/100\n",
            "2/2 - 0s - loss: 10.0084 - mae: 10.0084 - 18ms/epoch - 9ms/step\n",
            "Epoch 68/100\n",
            "2/2 - 0s - loss: 8.7199 - mae: 8.7199 - 11ms/epoch - 5ms/step\n",
            "Epoch 69/100\n",
            "2/2 - 0s - loss: 13.4827 - mae: 13.4827 - 11ms/epoch - 6ms/step\n",
            "Epoch 70/100\n",
            "2/2 - 0s - loss: 7.4680 - mae: 7.4680 - 12ms/epoch - 6ms/step\n",
            "Epoch 71/100\n",
            "2/2 - 0s - loss: 12.2290 - mae: 12.2290 - 10ms/epoch - 5ms/step\n",
            "Epoch 72/100\n",
            "2/2 - 0s - loss: 8.5298 - mae: 8.5298 - 11ms/epoch - 5ms/step\n",
            "Epoch 73/100\n",
            "2/2 - 0s - loss: 7.0381 - mae: 7.0381 - 19ms/epoch - 9ms/step\n",
            "Epoch 74/100\n",
            "2/2 - 0s - loss: 9.9257 - mae: 9.9257 - 11ms/epoch - 5ms/step\n",
            "Epoch 75/100\n",
            "2/2 - 0s - loss: 9.9383 - mae: 9.9383 - 16ms/epoch - 8ms/step\n",
            "Epoch 76/100\n",
            "2/2 - 0s - loss: 10.1042 - mae: 10.1042 - 11ms/epoch - 6ms/step\n",
            "Epoch 77/100\n",
            "2/2 - 0s - loss: 12.9554 - mae: 12.9554 - 10ms/epoch - 5ms/step\n",
            "Epoch 78/100\n",
            "2/2 - 0s - loss: 11.1457 - mae: 11.1457 - 10ms/epoch - 5ms/step\n",
            "Epoch 79/100\n",
            "2/2 - 0s - loss: 14.6962 - mae: 14.6962 - 10ms/epoch - 5ms/step\n",
            "Epoch 80/100\n",
            "2/2 - 0s - loss: 8.9261 - mae: 8.9261 - 13ms/epoch - 6ms/step\n",
            "Epoch 81/100\n",
            "2/2 - 0s - loss: 10.7707 - mae: 10.7707 - 11ms/epoch - 5ms/step\n",
            "Epoch 82/100\n",
            "2/2 - 0s - loss: 8.3848 - mae: 8.3848 - 10ms/epoch - 5ms/step\n",
            "Epoch 83/100\n",
            "2/2 - 0s - loss: 9.2263 - mae: 9.2263 - 12ms/epoch - 6ms/step\n",
            "Epoch 84/100\n",
            "2/2 - 0s - loss: 8.9424 - mae: 8.9424 - 14ms/epoch - 7ms/step\n",
            "Epoch 85/100\n",
            "2/2 - 0s - loss: 13.2032 - mae: 13.2032 - 10ms/epoch - 5ms/step\n",
            "Epoch 86/100\n",
            "2/2 - 0s - loss: 13.7002 - mae: 13.7002 - 10ms/epoch - 5ms/step\n",
            "Epoch 87/100\n",
            "2/2 - 0s - loss: 13.1843 - mae: 13.1843 - 10ms/epoch - 5ms/step\n",
            "Epoch 88/100\n",
            "2/2 - 0s - loss: 11.5098 - mae: 11.5098 - 9ms/epoch - 5ms/step\n",
            "Epoch 89/100\n",
            "2/2 - 0s - loss: 7.8015 - mae: 7.8015 - 10ms/epoch - 5ms/step\n",
            "Epoch 90/100\n",
            "2/2 - 0s - loss: 10.9247 - mae: 10.9247 - 10ms/epoch - 5ms/step\n",
            "Epoch 91/100\n",
            "2/2 - 0s - loss: 6.7487 - mae: 6.7487 - 9ms/epoch - 4ms/step\n",
            "Epoch 92/100\n",
            "2/2 - 0s - loss: 10.1172 - mae: 10.1172 - 10ms/epoch - 5ms/step\n",
            "Epoch 93/100\n",
            "2/2 - 0s - loss: 7.6083 - mae: 7.6083 - 10ms/epoch - 5ms/step\n",
            "Epoch 94/100\n",
            "2/2 - 0s - loss: 9.2409 - mae: 9.2409 - 9ms/epoch - 4ms/step\n",
            "Epoch 95/100\n",
            "2/2 - 0s - loss: 10.8322 - mae: 10.8322 - 9ms/epoch - 5ms/step\n",
            "Epoch 96/100\n",
            "2/2 - 0s - loss: 10.2900 - mae: 10.2900 - 9ms/epoch - 5ms/step\n",
            "Epoch 97/100\n",
            "2/2 - 0s - loss: 7.6809 - mae: 7.6809 - 8ms/epoch - 4ms/step\n",
            "Epoch 98/100\n",
            "2/2 - 0s - loss: 8.6158 - mae: 8.6158 - 10ms/epoch - 5ms/step\n",
            "Epoch 99/100\n",
            "2/2 - 0s - loss: 9.3947 - mae: 9.3947 - 8ms/epoch - 4ms/step\n",
            "Epoch 100/100\n",
            "2/2 - 0s - loss: 8.8396 - mae: 8.8396 - 10ms/epoch - 5ms/step\n"
          ]
        },
        {
          "output_type": "execute_result",
          "data": {
            "text/plain": [
              "<keras.callbacks.History at 0x7fb84a194e80>"
            ]
          },
          "metadata": {},
          "execution_count": 93
        }
      ]
    },
    {
      "cell_type": "code",
      "source": [
        "from tensorflow.keras.utils import plot_model\n",
        "\n",
        "plot_model(model=model, show_shapes=True)"
      ],
      "metadata": {
        "colab": {
          "base_uri": "https://localhost:8080/",
          "height": 201
        },
        "id": "TO3ci-GhgOGM",
        "outputId": "7003c9b2-85c6-4648-d954-80da887a3028"
      },
      "execution_count": 94,
      "outputs": [
        {
          "output_type": "execute_result",
          "data": {
            "image/png": "[encoded data removed]",
            "text/plain": [
              "<IPython.core.display.Image object>"
            ]
          },
          "metadata": {},
          "execution_count": 94
        }
      ]
    },
    {
      "cell_type": "code",
      "source": [
        "# Get summary of model\n",
        "model.summary()"
      ],
      "metadata": {
        "colab": {
          "base_uri": "https://localhost:8080/"
        },
        "id": "E-nPInR2h94s",
        "outputId": "a26d2f10-867a-4de6-be74-6917da28150b"
      },
      "execution_count": 49,
      "outputs": [
        {
          "output_type": "stream",
          "name": "stdout",
          "text": [
            "Model: \"model_1\"\n",
            "_________________________________________________________________\n",
            " Layer (type)                Output Shape              Param #   \n",
            "=================================================================\n",
            " input_layer (Dense)         (None, 10)                20        \n",
            "                                                                 \n",
            " output_layer (Dense)        (None, 1)                 11        \n",
            "                                                                 \n",
            "=================================================================\n",
            "Total params: 31\n",
            "Trainable params: 31\n",
            "Non-trainable params: 0\n",
            "_________________________________________________________________\n"
          ]
        }
      ]
    },
    {
      "cell_type": "markdown",
      "source": [
        "### More model visualization and experimentation"
      ],
      "metadata": {
        "id": "-QGf6rUfikE0"
      }
    },
    {
      "cell_type": "code",
      "source": [
        "# Experimenting w/ # of hidden layers and trainable params/total params\n",
        "tf.random.set_seed(42)\n",
        "\n",
        "# 1. Create model\n",
        "model = tf.keras.Sequential([\n",
        "   tf.keras.layers.Dense(10, input_shape=[1], name = \"input_layer\"), #input_shape = 1 b/c both X[0] and y[0] are scalars w/ shape of [1] or 1 number\n",
        "   tf.keras.layers.Dense(100, name=\"hidden_layer1\"),\n",
        "   tf.keras.layers.Dense(10, name=\"hidden_layer2\"),\n",
        "   tf.keras.layers.Dense(1, name=\"output_layer1\")\n",
        "], name = \"model_2\")\n",
        "\n",
        "# 2. Compile model\n",
        "model.compile(loss = tf.keras.losses.mae,\n",
        "              optimizer=tf.keras.optimizers.SGD(),\n",
        "              metrics=[\"mae\"])\n",
        "model.summary()"
      ],
      "metadata": {
        "colab": {
          "base_uri": "https://localhost:8080/"
        },
        "id": "r-LkhodRijyj",
        "outputId": "a57c20ae-d1a1-4108-c0ad-0d5e80b78732"
      },
      "execution_count": 70,
      "outputs": [
        {
          "output_type": "stream",
          "name": "stdout",
          "text": [
            "Model: \"model_2\"\n",
            "_________________________________________________________________\n",
            " Layer (type)                Output Shape              Param #   \n",
            "=================================================================\n",
            " input_layer (Dense)         (None, 10)                20        \n",
            "                                                                 \n",
            " hidden_layer1 (Dense)       (None, 100)               1100      \n",
            "                                                                 \n",
            " hidden_layer2 (Dense)       (None, 10)                1010      \n",
            "                                                                 \n",
            " output_layer1 (Dense)       (None, 1)                 11        \n",
            "                                                                 \n",
            "=================================================================\n",
            "Total params: 2,141\n",
            "Trainable params: 2,141\n",
            "Non-trainable params: 0\n",
            "_________________________________________________________________\n"
          ]
        }
      ]
    },
    {
      "cell_type": "code",
      "source": [
        "plot_model(model=model, show_shapes=True)"
      ],
      "metadata": {
        "colab": {
          "base_uri": "https://localhost:8080/",
          "height": 533
        },
        "id": "en_xKdxmkV4i",
        "outputId": "595deb7c-043f-40f0-dcc2-1964cd11d73b"
      },
      "execution_count": 56,
      "outputs": [
        {
          "output_type": "execute_result",
          "data": {
            "image/png": "[encoded data removed]",
            "text/plain": [
              "<IPython.core.display.Image object>"
            ]
          },
          "metadata": {},
          "execution_count": 56
        }
      ]
    },
    {
      "cell_type": "markdown",
      "source": [
        "### Visualizing model predictions\n",
        "\n",
        "(Predictions from the original model from cell 75)\n",
        "\n",
        "To visualize predictions: plot predictions vs actual values.\n",
        "\n",
        "'y_test' or 'y_pred' vs 'y_pred' (actual vs model predictions)"
      ],
      "metadata": {
        "id": "7hXwfsxNiAuU"
      }
    },
    {
      "cell_type": "code",
      "source": [
        "# Making predictions\n",
        "y_pred = model.predict(X_test)\n",
        "y_pred"
      ],
      "metadata": {
        "colab": {
          "base_uri": "https://localhost:8080/"
        },
        "id": "zeBKQLoqiOfm",
        "outputId": "6c339c3a-e4e9-4621-d678-250cbd75bd69"
      },
      "execution_count": 95,
      "outputs": [
        {
          "output_type": "stream",
          "name": "stderr",
          "text": [
            "WARNING:tensorflow:5 out of the last 20 calls to <function Model.make_predict_function.<locals>.predict_function at 0x7fb84f6495a0> triggered tf.function retracing. Tracing is expensive and the excessive number of tracings could be due to (1) creating @tf.function repeatedly in a loop, (2) passing tensors with different shapes, (3) passing Python objects instead of tensors. For (1), please define your @tf.function outside of the loop. For (2), @tf.function has reduce_retracing=True option that can avoid unnecessary retracing. For (3), please refer to https://www.tensorflow.org/guide/function#controlling_retracing and https://www.tensorflow.org/api_docs/python/tf/function for  more details.\n"
          ]
        },
        {
          "output_type": "stream",
          "name": "stdout",
          "text": [
            "1/1 [==============================] - 0s 75ms/step\n"
          ]
        },
        {
          "output_type": "execute_result",
          "data": {
            "text/plain": [
              "array([[ 74.64137],\n",
              "       [ 79.53063],\n",
              "       [ 84.41989],\n",
              "       [ 89.30915],\n",
              "       [ 94.19841],\n",
              "       [ 99.08767],\n",
              "       [103.97692],\n",
              "       [108.86618],\n",
              "       [113.75544],\n",
              "       [118.6447 ]], dtype=float32)"
            ]
          },
          "metadata": {},
          "execution_count": 95
        }
      ]
    },
    {
      "cell_type": "code",
      "source": [
        "y_test"
      ],
      "metadata": {
        "colab": {
          "base_uri": "https://localhost:8080/"
        },
        "id": "MPpfyV9vlCA3",
        "outputId": "563228af-fcf4-4894-b229-0c9d237db895"
      },
      "execution_count": 96,
      "outputs": [
        {
          "output_type": "execute_result",
          "data": {
            "text/plain": [
              "<tf.Tensor: shape=(10,), dtype=int32, numpy=array([ 70,  74,  78,  82,  86,  90,  94,  98, 102, 106], dtype=int32)>"
            ]
          },
          "metadata": {},
          "execution_count": 96
        }
      ]
    },
    {
      "cell_type": "code",
      "source": [
        "# Creating plot function\n",
        "def plot_predictions(train_data=X_train,\n",
        "                     train_labels=y_train,\n",
        "                     test_data=X_test,\n",
        "                     test_labels=y_test,\n",
        "                     predictions=y_pred):\n",
        "\n",
        "  \"\"\" \n",
        "  Plots training data, test data and compares predictions to actual value\n",
        "  \"\"\"\n",
        "  plt.figure(figsize=(10,7))\n",
        "  # Plot training data in blue\n",
        "  plt.scatter(train_data, train_labels, c=\"b\", label=\"Training data\")\n",
        "  # Plot testing data in green\n",
        "  plt.scatter(test_data, test_labels, c=\"g\", label=\"Testing data\")\n",
        "  # Plot model's predictions in red\n",
        "  plt.scatter(test_data, predictions, c=\"r\", label=\"Predictions\")\n",
        "  # Show legend\n",
        "  plt.legend()"
      ],
      "metadata": {
        "id": "LbLATlMLlD_b"
      },
      "execution_count": 97,
      "outputs": []
    },
    {
      "cell_type": "code",
      "source": [
        "plot_predictions(train_data=X_train,\n",
        "                 train_labels=y_train,\n",
        "                 test_data=X_test,\n",
        "                 test_labels=y_test,\n",
        "                 predictions=y_pred\n",
        "                 )"
      ],
      "metadata": {
        "colab": {
          "base_uri": "https://localhost:8080/",
          "height": 599
        },
        "id": "JwmDSPqQmVht",
        "outputId": "8583261f-717c-4070-8998-7f570d45a514"
      },
      "execution_count": 98,
      "outputs": [
        {
          "output_type": "display_data",
          "data": {
            "text/plain": [
              "<Figure size 1000x700 with 1 Axes>"
            ],
            "image/png": "[encoded data removed]"
          },
          "metadata": {}
        }
      ]
    },
    {
      "cell_type": "markdown",
      "source": [
        "### Evaluating model's predictions w/ regression evaluation metrics\n",
        "\n",
        "Depending on problem, there will be diff evaluation metrics to evaluate model's performance. \n",
        "\n",
        "Current problem: regression problem, therefore 2 of the main metrics are:\n",
        "- MAE - mean absolute error, \"On avg how wrong is each model's prediction\"\n",
        "- MSE - mean square error, \"square avg errors\" (when larger errors are more significant than smaller errors)\n",
        "- Huber - combination of MSE and MAE (less sensitive to outliers than MSE)"
      ],
      "metadata": {
        "id": "la94hpxCma3x"
      }
    },
    {
      "cell_type": "code",
      "source": [
        "# Evaluate model on test set\n",
        "model.evaluate(X_test, y_test)"
      ],
      "metadata": {
        "colab": {
          "base_uri": "https://localhost:8080/"
        },
        "id": "mYKGtAnCo6Ta",
        "outputId": "23ff6a3e-1a66-4e94-dae1-1b9472714009"
      },
      "execution_count": 99,
      "outputs": [
        {
          "output_type": "stream",
          "name": "stdout",
          "text": [
            "1/1 [==============================] - 0s 360ms/step - loss: 8.6430 - mae: 8.6430\n"
          ]
        },
        {
          "output_type": "execute_result",
          "data": {
            "text/plain": [
              "[8.643036842346191, 8.643036842346191]"
            ]
          },
          "metadata": {},
          "execution_count": 99
        }
      ]
    },
    {
      "cell_type": "code",
      "source": [
        "y_pred"
      ],
      "metadata": {
        "colab": {
          "base_uri": "https://localhost:8080/"
        },
        "id": "2NbWa9yIquu6",
        "outputId": "0cd3cc47-3b36-47e9-ef4d-d467dcdbbd56"
      },
      "execution_count": 100,
      "outputs": [
        {
          "output_type": "execute_result",
          "data": {
            "text/plain": [
              "array([[ 74.64137],\n",
              "       [ 79.53063],\n",
              "       [ 84.41989],\n",
              "       [ 89.30915],\n",
              "       [ 94.19841],\n",
              "       [ 99.08767],\n",
              "       [103.97692],\n",
              "       [108.86618],\n",
              "       [113.75544],\n",
              "       [118.6447 ]], dtype=float32)"
            ]
          },
          "metadata": {},
          "execution_count": 100
        }
      ]
    },
    {
      "cell_type": "code",
      "source": [
        "y_test"
      ],
      "metadata": {
        "colab": {
          "base_uri": "https://localhost:8080/"
        },
        "id": "tAqbHZnNq6jr",
        "outputId": "9c19b994-90a2-468b-b5fe-b3a263fc520d"
      },
      "execution_count": 101,
      "outputs": [
        {
          "output_type": "execute_result",
          "data": {
            "text/plain": [
              "<tf.Tensor: shape=(10,), dtype=int32, numpy=array([ 70,  74,  78,  82,  86,  90,  94,  98, 102, 106], dtype=int32)>"
            ]
          },
          "metadata": {},
          "execution_count": 101
        }
      ]
    },
    {
      "cell_type": "code",
      "source": [
        "# Calculate mean absolute error\n",
        "mae = tf.keras.losses.MAE(y_true=y_test, y_pred=tf.constant(y_pred))\n",
        "mae"
      ],
      "metadata": {
        "colab": {
          "base_uri": "https://localhost:8080/"
        },
        "id": "3Lh_ogjAq7vK",
        "outputId": "d9da844c-a3aa-4ce4-c290-667f71e6456b"
      },
      "execution_count": 106,
      "outputs": [
        {
          "output_type": "execute_result",
          "data": {
            "text/plain": [
              "<tf.Tensor: shape=(10,), dtype=float32, numpy=\n",
              "array([14.415176, 11.787747, 10.316022, 10.      , 10.879364, 13.052602,\n",
              "       16.381536, 20.86618 , 25.755438, 30.6447  ], dtype=float32)>"
            ]
          },
          "metadata": {},
          "execution_count": 106
        }
      ]
    },
    {
      "cell_type": "markdown",
      "source": [
        "Doesn't seem to be working right b/c it isn't outputting the same value as above in the evaluate model call (cell 99)"
      ],
      "metadata": {
        "id": "utI5wExUuZzl"
      }
    },
    {
      "cell_type": "code",
      "source": [
        "tf.constant(y_pred)"
      ],
      "metadata": {
        "colab": {
          "base_uri": "https://localhost:8080/"
        },
        "id": "XrEH6S6dtpdx",
        "outputId": "cbf76a8d-c44a-41ba-a4f8-bf579439cdd9"
      },
      "execution_count": 107,
      "outputs": [
        {
          "output_type": "execute_result",
          "data": {
            "text/plain": [
              "<tf.Tensor: shape=(10, 1), dtype=float32, numpy=\n",
              "array([[ 74.64137],\n",
              "       [ 79.53063],\n",
              "       [ 84.41989],\n",
              "       [ 89.30915],\n",
              "       [ 94.19841],\n",
              "       [ 99.08767],\n",
              "       [103.97692],\n",
              "       [108.86618],\n",
              "       [113.75544],\n",
              "       [118.6447 ]], dtype=float32)>"
            ]
          },
          "metadata": {},
          "execution_count": 107
        }
      ]
    },
    {
      "cell_type": "code",
      "source": [
        "y_test"
      ],
      "metadata": {
        "colab": {
          "base_uri": "https://localhost:8080/"
        },
        "id": "Fod6fWxBtsgU",
        "outputId": "f3f9f152-5af7-4d67-e9b9-9dbc0e7a6bb1"
      },
      "execution_count": 108,
      "outputs": [
        {
          "output_type": "execute_result",
          "data": {
            "text/plain": [
              "<tf.Tensor: shape=(10,), dtype=int32, numpy=array([ 70,  74,  78,  82,  86,  90,  94,  98, 102, 106], dtype=int32)>"
            ]
          },
          "metadata": {},
          "execution_count": 108
        }
      ]
    },
    {
      "cell_type": "markdown",
      "source": [
        "**Shape of y_test and y_pred tensor isn't equal therefore that is messing w/ calculating the MAE**"
      ],
      "metadata": {
        "id": "kPVrwv9yuk18"
      }
    },
    {
      "cell_type": "code",
      "source": [
        "# Squeeze shape of y_pred tensor to get its shape to be same as y_test tensor\n",
        "tf.squeeze(y_pred)"
      ],
      "metadata": {
        "colab": {
          "base_uri": "https://localhost:8080/"
        },
        "id": "Svo8XrnMtxOj",
        "outputId": "06bed401-2fa6-4285-cbe3-50334cc19aca"
      },
      "execution_count": 111,
      "outputs": [
        {
          "output_type": "execute_result",
          "data": {
            "text/plain": [
              "<tf.Tensor: shape=(10,), dtype=float32, numpy=\n",
              "array([ 74.64137,  79.53063,  84.41989,  89.30915,  94.19841,  99.08767,\n",
              "       103.97692, 108.86618, 113.75544, 118.6447 ], dtype=float32)>"
            ]
          },
          "metadata": {},
          "execution_count": 111
        }
      ]
    },
    {
      "cell_type": "code",
      "source": [
        "# Calculate mean absolute error\n",
        "mae = tf.metrics.mean_absolute_error(y_true=y_test, y_pred=tf.squeeze(y_pred))\n",
        "mae"
      ],
      "metadata": {
        "colab": {
          "base_uri": "https://localhost:8080/"
        },
        "id": "OKXvu_nPuD70",
        "outputId": "4971cde8-5bdd-4936-889b-02e0ad9cc27d"
      },
      "execution_count": 113,
      "outputs": [
        {
          "output_type": "execute_result",
          "data": {
            "text/plain": [
              "<tf.Tensor: shape=(), dtype=float32, numpy=8.643037>"
            ]
          },
          "metadata": {},
          "execution_count": 113
        }
      ]
    },
    {
      "cell_type": "code",
      "source": [
        "# Calculate mean square error\n",
        "mse = tf.keras.losses.MSE(y_true=y_test, y_pred=tf.squeeze(y_pred))\n",
        "mse"
      ],
      "metadata": {
        "colab": {
          "base_uri": "https://localhost:8080/"
        },
        "id": "jhDZLqNUrLbI",
        "outputId": "9c2cdba6-1757-4a50-9f14-69c9c9233687"
      },
      "execution_count": 114,
      "outputs": [
        {
          "output_type": "execute_result",
          "data": {
            "text/plain": [
              "<tf.Tensor: shape=(), dtype=float32, numpy=81.22602>"
            ]
          },
          "metadata": {},
          "execution_count": 114
        }
      ]
    },
    {
      "cell_type": "code",
      "source": [
        "# Make functions to reuse MAE and MSE\n",
        "def mae(y_true, y_pred):\n",
        "  return tf.metrics.mean_absolute_error(y_true=y_true,\n",
        "                                        y_pred=tf.squeeze(y_pred))\n",
        "\n",
        "def mse(y_true, y_pred):\n",
        "  return tf.metrics.mean_squared_error(y_true=y_true,\n",
        "                                        y_pred=tf.squeeze(y_pred))"
      ],
      "metadata": {
        "id": "bP67DJwqrWNq"
      },
      "execution_count": 123,
      "outputs": []
    },
    {
      "cell_type": "markdown",
      "source": [
        "### Running experiments to improve model\n",
        "\n",
        "How to improve model:\n",
        "1. Get more data - more examples for model to train on (more opportunities to learn patterns or relationships b/w features and labels).\n",
        "2. Make model larger (using a more complex model) - more layers or more hidden units per layer.\n",
        "3. Train longer - give model more time/data to find patterns in data.\n",
        "\n",
        "3 modelling experiments that are done in section below:\n",
        "1. 'model_1' - same as original model, 1 layer, trained for 100 epochs.\n",
        "2. 'model_2' - 2 layers, trained for 100 epochs\n",
        "3. 'model_3' - 2 layers, trained for 500 epochs\n",
        "4. 'model_4' - \n",
        "5. 'model_5' - "
      ],
      "metadata": {
        "id": "ja2TJmHLvZeZ"
      }
    },
    {
      "cell_type": "code",
      "source": [
        "X_train, y_train"
      ],
      "metadata": {
        "colab": {
          "base_uri": "https://localhost:8080/"
        },
        "id": "_W3k-0uHxRZy",
        "outputId": "6529184d-3236-441f-9863-c457cf730eb5"
      },
      "execution_count": 118,
      "outputs": [
        {
          "output_type": "execute_result",
          "data": {
            "text/plain": [
              "(<tf.Tensor: shape=(40,), dtype=int32, numpy=\n",
              " array([-100,  -96,  -92,  -88,  -84,  -80,  -76,  -72,  -68,  -64,  -60,\n",
              "         -56,  -52,  -48,  -44,  -40,  -36,  -32,  -28,  -24,  -20,  -16,\n",
              "         -12,   -8,   -4,    0,    4,    8,   12,   16,   20,   24,   28,\n",
              "          32,   36,   40,   44,   48,   52,   56], dtype=int32)>,\n",
              " <tf.Tensor: shape=(40,), dtype=int32, numpy=\n",
              " array([-90, -86, -82, -78, -74, -70, -66, -62, -58, -54, -50, -46, -42,\n",
              "        -38, -34, -30, -26, -22, -18, -14, -10,  -6,  -2,   2,   6,  10,\n",
              "         14,  18,  22,  26,  30,  34,  38,  42,  46,  50,  54,  58,  62,\n",
              "         66], dtype=int32)>)"
            ]
          },
          "metadata": {},
          "execution_count": 118
        }
      ]
    },
    {
      "cell_type": "code",
      "source": [
        "# Set random seed for reproducibility\n",
        "tf.random.set_seed(42)\n",
        "\n",
        "# 1. Create model\n",
        "model_1 = tf.keras.Sequential([\n",
        "    tf.keras.layers.Dense(1)\n",
        "])\n",
        "\n",
        "# 2. Compile model\n",
        "model_1.compile(loss=tf.keras.losses.mae,\n",
        "                optimizer=tf.keras.optimizers.SGD(),\n",
        "                metrics=[\"mae\"])\n",
        "\n",
        "# 3. Fit model\n",
        "model_1.fit(tf.expand_dims(X_train, -1), y_train, epochs=100)"
      ],
      "metadata": {
        "colab": {
          "base_uri": "https://localhost:8080/"
        },
        "id": "QCK4N-Env_GJ",
        "outputId": "19ccd728-922d-47cd-c82f-edb7694e891b"
      },
      "execution_count": 119,
      "outputs": [
        {
          "output_type": "stream",
          "name": "stdout",
          "text": [
            "Epoch 1/100\n",
            "2/2 [==============================] - 1s 24ms/step - loss: 20.6411 - mae: 20.6411\n",
            "Epoch 2/100\n",
            "2/2 [==============================] - 0s 15ms/step - loss: 10.5180 - mae: 10.5180\n",
            "Epoch 3/100\n",
            "2/2 [==============================] - 0s 13ms/step - loss: 10.9712 - mae: 10.9712\n",
            "Epoch 4/100\n",
            "2/2 [==============================] - 0s 13ms/step - loss: 9.3738 - mae: 9.3738\n",
            "Epoch 5/100\n",
            "2/2 [==============================] - 0s 20ms/step - loss: 10.2548 - mae: 10.2548\n",
            "Epoch 6/100\n",
            "2/2 [==============================] - 0s 10ms/step - loss: 9.5062 - mae: 9.5062\n",
            "Epoch 7/100\n",
            "2/2 [==============================] - 0s 13ms/step - loss: 8.6331 - mae: 8.6331\n",
            "Epoch 8/100\n",
            "2/2 [==============================] - 0s 8ms/step - loss: 9.0446 - mae: 9.0446\n",
            "Epoch 9/100\n",
            "2/2 [==============================] - 0s 8ms/step - loss: 18.9182 - mae: 18.9182\n",
            "Epoch 10/100\n",
            "2/2 [==============================] - 0s 8ms/step - loss: 10.2033 - mae: 10.2033\n",
            "Epoch 11/100\n",
            "2/2 [==============================] - 0s 10ms/step - loss: 8.4296 - mae: 8.4296\n",
            "Epoch 12/100\n",
            "2/2 [==============================] - 0s 17ms/step - loss: 10.7341 - mae: 10.7341\n",
            "Epoch 13/100\n",
            "2/2 [==============================] - 0s 15ms/step - loss: 9.8226 - mae: 9.8226\n",
            "Epoch 14/100\n",
            "2/2 [==============================] - 0s 34ms/step - loss: 16.1884 - mae: 16.1884\n",
            "Epoch 15/100\n",
            "2/2 [==============================] - 0s 8ms/step - loss: 11.2609 - mae: 11.2609\n",
            "Epoch 16/100\n",
            "2/2 [==============================] - 0s 8ms/step - loss: 8.5769 - mae: 8.5769\n",
            "Epoch 17/100\n",
            "2/2 [==============================] - 0s 9ms/step - loss: 13.7272 - mae: 13.7272\n",
            "Epoch 18/100\n",
            "2/2 [==============================] - 0s 9ms/step - loss: 11.5798 - mae: 11.5798\n",
            "Epoch 19/100\n",
            "2/2 [==============================] - 0s 10ms/step - loss: 17.7639 - mae: 17.7639\n",
            "Epoch 20/100\n",
            "2/2 [==============================] - 0s 8ms/step - loss: 14.8996 - mae: 14.8996\n",
            "Epoch 21/100\n",
            "2/2 [==============================] - 0s 8ms/step - loss: 10.7936 - mae: 10.7936\n",
            "Epoch 22/100\n",
            "2/2 [==============================] - 0s 17ms/step - loss: 8.5387 - mae: 8.5387\n",
            "Epoch 23/100\n",
            "2/2 [==============================] - 0s 8ms/step - loss: 9.7459 - mae: 9.7459\n",
            "Epoch 24/100\n",
            "2/2 [==============================] - 0s 11ms/step - loss: 10.9004 - mae: 10.9004\n",
            "Epoch 25/100\n",
            "2/2 [==============================] - 0s 12ms/step - loss: 9.1333 - mae: 9.1333\n",
            "Epoch 26/100\n",
            "2/2 [==============================] - 0s 8ms/step - loss: 13.1346 - mae: 13.1346\n",
            "Epoch 27/100\n",
            "2/2 [==============================] - 0s 11ms/step - loss: 10.4388 - mae: 10.4388\n",
            "Epoch 28/100\n",
            "2/2 [==============================] - 0s 11ms/step - loss: 13.4774 - mae: 13.4774\n",
            "Epoch 29/100\n",
            "2/2 [==============================] - 0s 17ms/step - loss: 9.9966 - mae: 9.9966\n",
            "Epoch 30/100\n",
            "2/2 [==============================] - 0s 9ms/step - loss: 16.0085 - mae: 16.0085\n",
            "Epoch 31/100\n",
            "2/2 [==============================] - 0s 9ms/step - loss: 23.9394 - mae: 23.9394\n",
            "Epoch 32/100\n",
            "2/2 [==============================] - 0s 9ms/step - loss: 8.0025 - mae: 8.0025\n",
            "Epoch 33/100\n",
            "2/2 [==============================] - 0s 17ms/step - loss: 9.7186 - mae: 9.7186\n",
            "Epoch 34/100\n",
            "2/2 [==============================] - 0s 10ms/step - loss: 12.0791 - mae: 12.0791\n",
            "Epoch 35/100\n",
            "2/2 [==============================] - 0s 18ms/step - loss: 11.5322 - mae: 11.5322\n",
            "Epoch 36/100\n",
            "2/2 [==============================] - 0s 10ms/step - loss: 12.7250 - mae: 12.7250\n",
            "Epoch 37/100\n",
            "2/2 [==============================] - 0s 19ms/step - loss: 9.4720 - mae: 9.4720\n",
            "Epoch 38/100\n",
            "2/2 [==============================] - 0s 9ms/step - loss: 10.1359 - mae: 10.1359\n",
            "Epoch 39/100\n",
            "2/2 [==============================] - 0s 8ms/step - loss: 10.1621 - mae: 10.1621\n",
            "Epoch 40/100\n",
            "2/2 [==============================] - 0s 10ms/step - loss: 10.8949 - mae: 10.8949\n",
            "Epoch 41/100\n",
            "2/2 [==============================] - 0s 9ms/step - loss: 7.8884 - mae: 7.8884\n",
            "Epoch 42/100\n",
            "2/2 [==============================] - 0s 11ms/step - loss: 10.0881 - mae: 10.0881\n",
            "Epoch 43/100\n",
            "2/2 [==============================] - 0s 8ms/step - loss: 8.6932 - mae: 8.6932\n",
            "Epoch 44/100\n",
            "2/2 [==============================] - 0s 9ms/step - loss: 12.2093 - mae: 12.2093\n",
            "Epoch 45/100\n",
            "2/2 [==============================] - 0s 10ms/step - loss: 13.7765 - mae: 13.7765\n",
            "Epoch 46/100\n",
            "2/2 [==============================] - 0s 8ms/step - loss: 8.4501 - mae: 8.4501\n",
            "Epoch 47/100\n",
            "2/2 [==============================] - 0s 11ms/step - loss: 9.1291 - mae: 9.1291\n",
            "Epoch 48/100\n",
            "2/2 [==============================] - 0s 8ms/step - loss: 10.6175 - mae: 10.6175\n",
            "Epoch 49/100\n",
            "2/2 [==============================] - 0s 11ms/step - loss: 7.7460 - mae: 7.7460\n",
            "Epoch 50/100\n",
            "2/2 [==============================] - 0s 11ms/step - loss: 9.5389 - mae: 9.5389\n",
            "Epoch 51/100\n",
            "2/2 [==============================] - 0s 10ms/step - loss: 9.1504 - mae: 9.1504\n",
            "Epoch 52/100\n",
            "2/2 [==============================] - 0s 10ms/step - loss: 16.3774 - mae: 16.3774\n",
            "Epoch 53/100\n",
            "2/2 [==============================] - 0s 9ms/step - loss: 14.1147 - mae: 14.1147\n",
            "Epoch 54/100\n",
            "2/2 [==============================] - 0s 14ms/step - loss: 21.1000 - mae: 21.1000\n",
            "Epoch 55/100\n",
            "2/2 [==============================] - 0s 12ms/step - loss: 16.4068 - mae: 16.4068\n",
            "Epoch 56/100\n",
            "2/2 [==============================] - 0s 13ms/step - loss: 9.9157 - mae: 9.9157\n",
            "Epoch 57/100\n",
            "2/2 [==============================] - 0s 12ms/step - loss: 9.6108 - mae: 9.6108\n",
            "Epoch 58/100\n",
            "2/2 [==============================] - 0s 11ms/step - loss: 8.9418 - mae: 8.9418\n",
            "Epoch 59/100\n",
            "2/2 [==============================] - 0s 11ms/step - loss: 10.1305 - mae: 10.1305\n",
            "Epoch 60/100\n",
            "2/2 [==============================] - 0s 12ms/step - loss: 8.4387 - mae: 8.4387\n",
            "Epoch 61/100\n",
            "2/2 [==============================] - 0s 9ms/step - loss: 9.2921 - mae: 9.2921\n",
            "Epoch 62/100\n",
            "2/2 [==============================] - 0s 14ms/step - loss: 7.0626 - mae: 7.0626\n",
            "Epoch 63/100\n",
            "2/2 [==============================] - 0s 10ms/step - loss: 8.6172 - mae: 8.6172\n",
            "Epoch 64/100\n",
            "2/2 [==============================] - 0s 10ms/step - loss: 9.1960 - mae: 9.1960\n",
            "Epoch 65/100\n",
            "2/2 [==============================] - 0s 9ms/step - loss: 10.4331 - mae: 10.4331\n",
            "Epoch 66/100\n",
            "2/2 [==============================] - 0s 10ms/step - loss: 15.6861 - mae: 15.6861\n",
            "Epoch 67/100\n",
            "2/2 [==============================] - 0s 10ms/step - loss: 10.0661 - mae: 10.0661\n",
            "Epoch 68/100\n",
            "2/2 [==============================] - 0s 11ms/step - loss: 9.0271 - mae: 9.0271\n",
            "Epoch 69/100\n",
            "2/2 [==============================] - 0s 11ms/step - loss: 12.5564 - mae: 12.5564\n",
            "Epoch 70/100\n",
            "2/2 [==============================] - 0s 11ms/step - loss: 8.9455 - mae: 8.9455\n",
            "Epoch 71/100\n",
            "2/2 [==============================] - 0s 18ms/step - loss: 9.9208 - mae: 9.9208\n",
            "Epoch 72/100\n",
            "2/2 [==============================] - 0s 12ms/step - loss: 9.9603 - mae: 9.9603\n",
            "Epoch 73/100\n",
            "2/2 [==============================] - 0s 13ms/step - loss: 12.4269 - mae: 12.4269\n",
            "Epoch 74/100\n",
            "2/2 [==============================] - 0s 15ms/step - loss: 10.5699 - mae: 10.5699\n",
            "Epoch 75/100\n",
            "2/2 [==============================] - 0s 8ms/step - loss: 9.6192 - mae: 9.6192\n",
            "Epoch 76/100\n",
            "2/2 [==============================] - 0s 7ms/step - loss: 11.0838 - mae: 11.0838\n",
            "Epoch 77/100\n",
            "2/2 [==============================] - 0s 8ms/step - loss: 8.2684 - mae: 8.2684\n",
            "Epoch 78/100\n",
            "2/2 [==============================] - 0s 10ms/step - loss: 8.9561 - mae: 8.9561\n",
            "Epoch 79/100\n",
            "2/2 [==============================] - 0s 9ms/step - loss: 19.7885 - mae: 19.7885\n",
            "Epoch 80/100\n",
            "2/2 [==============================] - 0s 8ms/step - loss: 17.8087 - mae: 17.8087\n",
            "Epoch 81/100\n",
            "2/2 [==============================] - 0s 9ms/step - loss: 7.0713 - mae: 7.0713\n",
            "Epoch 82/100\n",
            "2/2 [==============================] - 0s 9ms/step - loss: 10.3962 - mae: 10.3962\n",
            "Epoch 83/100\n",
            "2/2 [==============================] - 0s 8ms/step - loss: 9.8192 - mae: 9.8192\n",
            "Epoch 84/100\n",
            "2/2 [==============================] - 0s 9ms/step - loss: 7.9295 - mae: 7.9295\n",
            "Epoch 85/100\n",
            "2/2 [==============================] - 0s 9ms/step - loss: 9.4397 - mae: 9.4397\n",
            "Epoch 86/100\n",
            "2/2 [==============================] - 0s 9ms/step - loss: 9.4844 - mae: 9.4844\n",
            "Epoch 87/100\n",
            "2/2 [==============================] - 0s 8ms/step - loss: 11.4312 - mae: 11.4312\n",
            "Epoch 88/100\n",
            "2/2 [==============================] - 0s 7ms/step - loss: 9.9285 - mae: 9.9285\n",
            "Epoch 89/100\n",
            "2/2 [==============================] - 0s 8ms/step - loss: 7.2428 - mae: 7.2428\n",
            "Epoch 90/100\n",
            "2/2 [==============================] - 0s 8ms/step - loss: 12.6893 - mae: 12.6893\n",
            "Epoch 91/100\n",
            "2/2 [==============================] - 0s 9ms/step - loss: 7.3028 - mae: 7.3028\n",
            "Epoch 92/100\n",
            "2/2 [==============================] - 0s 7ms/step - loss: 7.6659 - mae: 7.6659\n",
            "Epoch 93/100\n",
            "2/2 [==============================] - 0s 7ms/step - loss: 7.1082 - mae: 7.1082\n",
            "Epoch 94/100\n",
            "2/2 [==============================] - 0s 7ms/step - loss: 12.5367 - mae: 12.5367\n",
            "Epoch 95/100\n",
            "2/2 [==============================] - 0s 8ms/step - loss: 9.9112 - mae: 9.9112\n",
            "Epoch 96/100\n",
            "2/2 [==============================] - 0s 8ms/step - loss: 9.1304 - mae: 9.1304\n",
            "Epoch 97/100\n",
            "2/2 [==============================] - 0s 7ms/step - loss: 12.0770 - mae: 12.0770\n",
            "Epoch 98/100\n",
            "2/2 [==============================] - 0s 8ms/step - loss: 9.0580 - mae: 9.0580\n",
            "Epoch 99/100\n",
            "2/2 [==============================] - 0s 8ms/step - loss: 8.4887 - mae: 8.4887\n",
            "Epoch 100/100\n",
            "2/2 [==============================] - 0s 8ms/step - loss: 14.4566 - mae: 14.4566\n"
          ]
        },
        {
          "output_type": "execute_result",
          "data": {
            "text/plain": [
              "<keras.callbacks.History at 0x7fb84a6ed1e0>"
            ]
          },
          "metadata": {},
          "execution_count": 119
        }
      ]
    },
    {
      "cell_type": "code",
      "source": [
        "# Make and plot predictions for model_1\n",
        "y_preds_1 = model_1.predict(X_test)\n",
        "plot_predictions(predictions=y_preds_1)"
      ],
      "metadata": {
        "colab": {
          "base_uri": "https://localhost:8080/",
          "height": 616
        },
        "id": "GWXiaInBwAuV",
        "outputId": "b552a43a-3f31-48b4-9f07-fe068325b298"
      },
      "execution_count": 120,
      "outputs": [
        {
          "output_type": "stream",
          "name": "stdout",
          "text": [
            "1/1 [==============================] - 0s 84ms/step\n"
          ]
        },
        {
          "output_type": "display_data",
          "data": {
            "text/plain": [
              "<Figure size 1000x700 with 1 Axes>"
            ],
            "image/png": "[encoded data removed]"
          },
          "metadata": {}
        }
      ]
    },
    {
      "cell_type": "code",
      "source": [
        "# Calculate mode_1 evaluation metrics\n",
        "mae_1 = mae(y_test, y_preds_1)\n",
        "mse_1 = mse(y_test, y_preds_1)\n",
        "mae_1, mse_1"
      ],
      "metadata": {
        "colab": {
          "base_uri": "https://localhost:8080/"
        },
        "id": "LQVZLDhyyJs8",
        "outputId": "dc37f9f2-5d0f-47ff-9001-19570c7807e0"
      },
      "execution_count": 124,
      "outputs": [
        {
          "output_type": "execute_result",
          "data": {
            "text/plain": [
              "(<tf.Tensor: shape=(), dtype=float32, numpy=30.571804>,\n",
              " <tf.Tensor: shape=(), dtype=float32, numpy=945.026>)"
            ]
          },
          "metadata": {},
          "execution_count": 124
        }
      ]
    },
    {
      "cell_type": "markdown",
      "source": [
        "**model_2**\n",
        "\n",
        "- 2 dense layers created for 100 epochs"
      ],
      "metadata": {
        "id": "Wji14Mzzy5Np"
      }
    },
    {
      "cell_type": "code",
      "source": [
        "# Set random seed\n",
        "tf.random.set_seed(42)\n",
        "\n",
        "# 1. Create model\n",
        "model_2 = tf.keras.Sequential([\n",
        "    tf.keras.layers.Dense(10),\n",
        "    tf.keras.layers.Dense(1)\n",
        "])\n",
        "\n",
        "# 2. Compile model\n",
        "model_2.compile(loss=tf.keras.losses.mae,\n",
        "                optimizer=tf.keras.optimizers.SGD(),\n",
        "                metrics=[\"mse\"])\n",
        "\n",
        "# 3. Fit model\n",
        "model_2.fit(tf.expand_dims(X_train, -1), y_train, epochs=100)"
      ],
      "metadata": {
        "colab": {
          "base_uri": "https://localhost:8080/"
        },
        "id": "n1htlLjfzOkH",
        "outputId": "f46980e6-3d91-4cb5-e1f1-46d87f9102b3"
      },
      "execution_count": 126,
      "outputs": [
        {
          "output_type": "stream",
          "name": "stdout",
          "text": [
            "Epoch 1/100\n",
            "2/2 [==============================] - 1s 26ms/step - loss: 42.9640 - mse: 2661.3367\n",
            "Epoch 2/100\n",
            "2/2 [==============================] - 0s 19ms/step - loss: 29.1798 - mse: 1109.3342\n",
            "Epoch 3/100\n",
            "2/2 [==============================] - 0s 10ms/step - loss: 33.8513 - mse: 1735.8223\n",
            "Epoch 4/100\n",
            "2/2 [==============================] - 0s 11ms/step - loss: 29.3566 - mse: 1279.2742\n",
            "Epoch 5/100\n",
            "2/2 [==============================] - 0s 10ms/step - loss: 15.8778 - mse: 331.9844\n",
            "Epoch 6/100\n",
            "2/2 [==============================] - 0s 12ms/step - loss: 12.5733 - mse: 206.8874\n",
            "Epoch 7/100\n",
            "2/2 [==============================] - 0s 13ms/step - loss: 11.8228 - mse: 173.4545\n",
            "Epoch 8/100\n",
            "2/2 [==============================] - 0s 12ms/step - loss: 10.8252 - mse: 128.7738\n",
            "Epoch 9/100\n",
            "2/2 [==============================] - 0s 19ms/step - loss: 37.0060 - mse: 2097.1101\n",
            "Epoch 10/100\n",
            "2/2 [==============================] - 0s 21ms/step - loss: 24.7523 - mse: 858.4718\n",
            "Epoch 11/100\n",
            "2/2 [==============================] - 0s 11ms/step - loss: 11.0333 - mse: 179.9840\n",
            "Epoch 12/100\n",
            "2/2 [==============================] - 0s 14ms/step - loss: 24.4939 - mse: 842.1909\n",
            "Epoch 13/100\n",
            "2/2 [==============================] - 0s 14ms/step - loss: 19.1992 - mse: 518.2014\n",
            "Epoch 14/100\n",
            "2/2 [==============================] - 0s 10ms/step - loss: 23.4049 - mse: 838.7297\n",
            "Epoch 15/100\n",
            "2/2 [==============================] - 0s 10ms/step - loss: 15.2177 - mse: 311.9764\n",
            "Epoch 16/100\n",
            "2/2 [==============================] - 0s 18ms/step - loss: 11.3334 - mse: 149.0122\n",
            "Epoch 17/100\n",
            "2/2 [==============================] - 0s 14ms/step - loss: 23.1472 - mse: 749.8535\n",
            "Epoch 18/100\n",
            "2/2 [==============================] - 0s 14ms/step - loss: 11.7571 - mse: 211.7646\n",
            "Epoch 19/100\n",
            "2/2 [==============================] - 0s 9ms/step - loss: 16.4456 - mse: 433.8611\n",
            "Epoch 20/100\n",
            "2/2 [==============================] - 0s 20ms/step - loss: 8.2351 - mse: 93.1738\n",
            "Epoch 21/100\n",
            "2/2 [==============================] - 0s 13ms/step - loss: 14.4261 - mse: 288.6428\n",
            "Epoch 22/100\n",
            "2/2 [==============================] - 0s 14ms/step - loss: 12.8428 - mse: 245.8067\n",
            "Epoch 23/100\n",
            "2/2 [==============================] - 0s 21ms/step - loss: 15.4749 - mse: 314.8135\n",
            "Epoch 24/100\n",
            "2/2 [==============================] - 0s 16ms/step - loss: 15.2647 - mse: 315.8223\n",
            "Epoch 25/100\n",
            "2/2 [==============================] - 0s 17ms/step - loss: 14.3345 - mse: 272.5386\n",
            "Epoch 26/100\n",
            "2/2 [==============================] - 0s 12ms/step - loss: 19.3402 - mse: 567.7043\n",
            "Epoch 27/100\n",
            "2/2 [==============================] - 0s 10ms/step - loss: 11.4446 - mse: 169.0160\n",
            "Epoch 28/100\n",
            "2/2 [==============================] - 0s 16ms/step - loss: 29.1131 - mse: 1377.6418\n",
            "Epoch 29/100\n",
            "2/2 [==============================] - 0s 14ms/step - loss: 9.2426 - mse: 94.2622\n",
            "Epoch 30/100\n",
            "2/2 [==============================] - 0s 21ms/step - loss: 29.8499 - mse: 1614.2303\n",
            "Epoch 31/100\n",
            "2/2 [==============================] - 0s 13ms/step - loss: 54.1650 - mse: 5256.2744\n",
            "Epoch 32/100\n",
            "2/2 [==============================] - 0s 10ms/step - loss: 9.5648 - mse: 101.0333\n",
            "Epoch 33/100\n",
            "2/2 [==============================] - 0s 10ms/step - loss: 12.1577 - mse: 181.2575\n",
            "Epoch 34/100\n",
            "2/2 [==============================] - 0s 12ms/step - loss: 23.9228 - mse: 867.1390\n",
            "Epoch 35/100\n",
            "2/2 [==============================] - 0s 12ms/step - loss: 12.6126 - mse: 242.6737\n",
            "Epoch 36/100\n",
            "2/2 [==============================] - 0s 14ms/step - loss: 21.5214 - mse: 660.6898\n",
            "Epoch 37/100\n",
            "2/2 [==============================] - 0s 13ms/step - loss: 11.3762 - mse: 150.0281\n",
            "Epoch 38/100\n",
            "2/2 [==============================] - 0s 20ms/step - loss: 13.4692 - mse: 269.6061\n",
            "Epoch 39/100\n",
            "2/2 [==============================] - 0s 11ms/step - loss: 10.7880 - mse: 139.3986\n",
            "Epoch 40/100\n",
            "2/2 [==============================] - 0s 11ms/step - loss: 16.6183 - mse: 400.6571\n",
            "Epoch 41/100\n",
            "2/2 [==============================] - 0s 12ms/step - loss: 10.9772 - mse: 179.6639\n",
            "Epoch 42/100\n",
            "2/2 [==============================] - 0s 18ms/step - loss: 9.3037 - mse: 114.8050\n",
            "Epoch 43/100\n",
            "2/2 [==============================] - 0s 11ms/step - loss: 9.5888 - mse: 110.5675\n",
            "Epoch 44/100\n",
            "2/2 [==============================] - 0s 14ms/step - loss: 28.0558 - mse: 1262.7080\n",
            "Epoch 45/100\n",
            "2/2 [==============================] - 0s 10ms/step - loss: 11.2929 - mse: 147.3138\n",
            "Epoch 46/100\n",
            "2/2 [==============================] - 0s 10ms/step - loss: 14.1079 - mse: 290.8351\n",
            "Epoch 47/100\n",
            "2/2 [==============================] - 0s 13ms/step - loss: 13.4826 - mse: 256.0703\n",
            "Epoch 48/100\n",
            "2/2 [==============================] - 0s 27ms/step - loss: 17.3093 - mse: 406.5291\n",
            "Epoch 49/100\n",
            "2/2 [==============================] - 0s 13ms/step - loss: 9.5260 - mse: 98.8208\n",
            "Epoch 50/100\n",
            "2/2 [==============================] - 0s 12ms/step - loss: 13.7319 - mse: 255.3124\n",
            "Epoch 51/100\n",
            "2/2 [==============================] - 0s 13ms/step - loss: 11.5651 - mse: 153.4192\n",
            "Epoch 52/100\n",
            "2/2 [==============================] - 0s 11ms/step - loss: 30.3254 - mse: 1586.8224\n",
            "Epoch 53/100\n",
            "2/2 [==============================] - 0s 10ms/step - loss: 14.2554 - mse: 297.8150\n",
            "Epoch 54/100\n",
            "2/2 [==============================] - 0s 8ms/step - loss: 23.5721 - mse: 836.3125\n",
            "Epoch 55/100\n",
            "2/2 [==============================] - 0s 7ms/step - loss: 24.4905 - mse: 905.1411\n",
            "Epoch 56/100\n",
            "2/2 [==============================] - 0s 8ms/step - loss: 11.3049 - mse: 171.5110\n",
            "Epoch 57/100\n",
            "2/2 [==============================] - 0s 8ms/step - loss: 13.3141 - mse: 223.2041\n",
            "Epoch 58/100\n",
            "2/2 [==============================] - 0s 9ms/step - loss: 9.9215 - mse: 108.8319\n",
            "Epoch 59/100\n",
            "2/2 [==============================] - 0s 7ms/step - loss: 13.8633 - mse: 273.0331\n",
            "Epoch 60/100\n",
            "2/2 [==============================] - 0s 8ms/step - loss: 9.9661 - mse: 118.5418\n",
            "Epoch 61/100\n",
            "2/2 [==============================] - 0s 8ms/step - loss: 14.9238 - mse: 305.8883\n",
            "Epoch 62/100\n",
            "2/2 [==============================] - 0s 11ms/step - loss: 11.8936 - mse: 194.8963\n",
            "Epoch 63/100\n",
            "2/2 [==============================] - 0s 8ms/step - loss: 10.2680 - mse: 133.6980\n",
            "Epoch 64/100\n",
            "2/2 [==============================] - 0s 7ms/step - loss: 23.8209 - mse: 833.6871\n",
            "Epoch 65/100\n",
            "2/2 [==============================] - 0s 7ms/step - loss: 10.4447 - mse: 129.3650\n",
            "Epoch 66/100\n",
            "2/2 [==============================] - 0s 7ms/step - loss: 20.8781 - mse: 640.7599\n",
            "Epoch 67/100\n",
            "2/2 [==============================] - 0s 7ms/step - loss: 10.4210 - mse: 125.7031\n",
            "Epoch 68/100\n",
            "2/2 [==============================] - 0s 10ms/step - loss: 14.1401 - mse: 301.0027\n",
            "Epoch 69/100\n",
            "2/2 [==============================] - 0s 9ms/step - loss: 10.4911 - mse: 125.3573\n",
            "Epoch 70/100\n",
            "2/2 [==============================] - 0s 13ms/step - loss: 12.5609 - mse: 200.1337\n",
            "Epoch 71/100\n",
            "2/2 [==============================] - 0s 7ms/step - loss: 12.9932 - mse: 225.0342\n",
            "Epoch 72/100\n",
            "2/2 [==============================] - 0s 7ms/step - loss: 19.3248 - mse: 529.8786\n",
            "Epoch 73/100\n",
            "2/2 [==============================] - 0s 8ms/step - loss: 11.1158 - mse: 193.3754\n",
            "Epoch 74/100\n",
            "2/2 [==============================] - 0s 8ms/step - loss: 21.4164 - mse: 715.7444\n",
            "Epoch 75/100\n",
            "2/2 [==============================] - 0s 9ms/step - loss: 9.4471 - mse: 151.5624\n",
            "Epoch 76/100\n",
            "2/2 [==============================] - 0s 9ms/step - loss: 12.2698 - mse: 182.5952\n",
            "Epoch 77/100\n",
            "2/2 [==============================] - 0s 9ms/step - loss: 16.3062 - mse: 409.4910\n",
            "Epoch 78/100\n",
            "2/2 [==============================] - 0s 8ms/step - loss: 9.0016 - mse: 91.8372\n",
            "Epoch 79/100\n",
            "2/2 [==============================] - 0s 9ms/step - loss: 23.5576 - mse: 830.9694\n",
            "Epoch 80/100\n",
            "2/2 [==============================] - 0s 8ms/step - loss: 26.2519 - mse: 1059.9460\n",
            "Epoch 81/100\n",
            "2/2 [==============================] - 0s 8ms/step - loss: 11.4319 - mse: 160.6816\n",
            "Epoch 82/100\n",
            "2/2 [==============================] - 0s 8ms/step - loss: 12.4413 - mse: 226.5472\n",
            "Epoch 83/100\n",
            "2/2 [==============================] - 0s 10ms/step - loss: 17.1058 - mse: 380.7180\n",
            "Epoch 84/100\n",
            "2/2 [==============================] - 0s 12ms/step - loss: 7.2515 - mse: 75.9988\n",
            "Epoch 85/100\n",
            "2/2 [==============================] - 0s 24ms/step - loss: 37.1790 - mse: 2222.3689\n",
            "Epoch 86/100\n",
            "2/2 [==============================] - 0s 12ms/step - loss: 21.1991 - mse: 645.8763\n",
            "Epoch 87/100\n",
            "2/2 [==============================] - 0s 11ms/step - loss: 11.0161 - mse: 147.8990\n",
            "Epoch 88/100\n",
            "2/2 [==============================] - 0s 11ms/step - loss: 25.0657 - mse: 894.0366\n",
            "Epoch 89/100\n",
            "2/2 [==============================] - 0s 11ms/step - loss: 9.3505 - mse: 136.7247\n",
            "Epoch 90/100\n",
            "2/2 [==============================] - 0s 12ms/step - loss: 17.3717 - mse: 433.0360\n",
            "Epoch 91/100\n",
            "2/2 [==============================] - 0s 19ms/step - loss: 10.7933 - mse: 160.3594\n",
            "Epoch 92/100\n",
            "2/2 [==============================] - 0s 28ms/step - loss: 19.0655 - mse: 500.8854\n",
            "Epoch 93/100\n",
            "2/2 [==============================] - 0s 14ms/step - loss: 8.3126 - mse: 102.3908\n",
            "Epoch 94/100\n",
            "2/2 [==============================] - 0s 10ms/step - loss: 11.5534 - mse: 178.4261\n",
            "Epoch 95/100\n",
            "2/2 [==============================] - 0s 15ms/step - loss: 26.1148 - mse: 1034.8236\n",
            "Epoch 96/100\n",
            "2/2 [==============================] - 0s 10ms/step - loss: 11.1825 - mse: 169.6053\n",
            "Epoch 97/100\n",
            "2/2 [==============================] - 0s 14ms/step - loss: 16.7868 - mse: 430.1655\n",
            "Epoch 98/100\n",
            "2/2 [==============================] - 0s 19ms/step - loss: 6.5839 - mse: 60.6451\n",
            "Epoch 99/100\n",
            "2/2 [==============================] - 0s 23ms/step - loss: 12.5982 - mse: 229.4560\n",
            "Epoch 100/100\n",
            "2/2 [==============================] - 0s 18ms/step - loss: 19.4094 - mse: 553.2367\n"
          ]
        },
        {
          "output_type": "execute_result",
          "data": {
            "text/plain": [
              "<keras.callbacks.History at 0x7fb84f464550>"
            ]
          },
          "metadata": {},
          "execution_count": 126
        }
      ]
    },
    {
      "cell_type": "code",
      "source": [
        "# Make and plot predictions\n",
        "y_preds_2 = model_2.predict(X_test)\n",
        "plot_predictions(predictions=y_preds_2)"
      ],
      "metadata": {
        "colab": {
          "base_uri": "https://localhost:8080/",
          "height": 616
        },
        "id": "gmaeRo3bz8wt",
        "outputId": "7557e4a2-3ce4-4e2c-dc71-9ac5f04a56ee"
      },
      "execution_count": 127,
      "outputs": [
        {
          "output_type": "stream",
          "name": "stdout",
          "text": [
            "1/1 [==============================] - 0s 206ms/step\n"
          ]
        },
        {
          "output_type": "display_data",
          "data": {
            "text/plain": [
              "<Figure size 1000x700 with 1 Axes>"
            ],
            "image/png": "[encoded data removed]"
          },
          "metadata": {}
        }
      ]
    },
    {
      "cell_type": "code",
      "source": [
        "# Calculate model_2 evaluation metrics\n",
        "mae_2 = mae(y_test, y_preds_2)\n",
        "mse_2 = mse(y_test, y_preds_2)\n",
        "mae_2, mse_2"
      ],
      "metadata": {
        "colab": {
          "base_uri": "https://localhost:8080/"
        },
        "id": "yKBcHwMx0XTL",
        "outputId": "fa600e40-fc1c-47d9-b00d-ec27b1727857"
      },
      "execution_count": 128,
      "outputs": [
        {
          "output_type": "execute_result",
          "data": {
            "text/plain": [
              "(<tf.Tensor: shape=(), dtype=float32, numpy=13.265414>,\n",
              " <tf.Tensor: shape=(), dtype=float32, numpy=185.99294>)"
            ]
          },
          "metadata": {},
          "execution_count": 128
        }
      ]
    },
    {
      "cell_type": "markdown",
      "source": [
        "**'model_3'**"
      ],
      "metadata": {
        "id": "omf6RCPS0koA"
      }
    },
    {
      "cell_type": "code",
      "source": [
        "# Set random seed\n",
        "tf.random.set_seed(42)\n",
        "\n",
        "# 1. Create model\n",
        "model_3 = tf.keras.Sequential([\n",
        "    tf.keras.layers.Dense(10),\n",
        "    tf.keras.layers.Dense(1)\n",
        "])\n",
        "\n",
        "# 2. Compile model\n",
        "model_3.compile(loss=tf.keras.losses.mae,\n",
        "                optimizer=tf.keras.optimizers.SGD(),\n",
        "                metrics=[\"mae\"])\n",
        "\n",
        "# 3. Fit model\n",
        "model_3.fit(tf.expand_dims(X_train, -1), y_train, epochs=500)"
      ],
      "metadata": {
        "colab": {
          "base_uri": "https://localhost:8080/"
        },
        "id": "1IZjHe580vUF",
        "outputId": "3f77143d-0822-4af9-ca3f-2f6d6e1ac191"
      },
      "execution_count": 131,
      "outputs": [
        {
          "output_type": "stream",
          "name": "stdout",
          "text": [
            "Epoch 1/500\n",
            "2/2 [==============================] - 1s 16ms/step - loss: 63.3017 - mae: 63.3017\n",
            "Epoch 2/500\n",
            "2/2 [==============================] - 0s 22ms/step - loss: 38.4290 - mae: 38.4290\n",
            "Epoch 3/500\n",
            "2/2 [==============================] - 0s 11ms/step - loss: 41.2708 - mae: 41.2708\n",
            "Epoch 4/500\n",
            "2/2 [==============================] - 0s 11ms/step - loss: 31.6611 - mae: 31.6611\n",
            "Epoch 5/500\n",
            "2/2 [==============================] - 0s 10ms/step - loss: 16.0553 - mae: 16.0553\n",
            "Epoch 6/500\n",
            "2/2 [==============================] - 0s 8ms/step - loss: 12.7245 - mae: 12.7245\n",
            "Epoch 7/500\n",
            "2/2 [==============================] - 0s 11ms/step - loss: 11.9896 - mae: 11.9896\n",
            "Epoch 8/500\n",
            "2/2 [==============================] - 0s 14ms/step - loss: 13.0724 - mae: 13.0724\n",
            "Epoch 9/500\n",
            "2/2 [==============================] - 0s 12ms/step - loss: 34.6129 - mae: 34.6129\n",
            "Epoch 10/500\n",
            "2/2 [==============================] - 0s 14ms/step - loss: 23.9994 - mae: 23.9994\n",
            "Epoch 11/500\n",
            "2/2 [==============================] - 0s 13ms/step - loss: 11.8432 - mae: 11.8432\n",
            "Epoch 12/500\n",
            "2/2 [==============================] - 0s 14ms/step - loss: 23.7650 - mae: 23.7650\n",
            "Epoch 13/500\n",
            "2/2 [==============================] - 0s 9ms/step - loss: 20.9571 - mae: 20.9571\n",
            "Epoch 14/500\n",
            "2/2 [==============================] - 0s 16ms/step - loss: 23.3694 - mae: 23.3694\n",
            "Epoch 15/500\n",
            "2/2 [==============================] - 0s 11ms/step - loss: 15.2015 - mae: 15.2015\n",
            "Epoch 16/500\n",
            "2/2 [==============================] - 0s 8ms/step - loss: 11.3302 - mae: 11.3302\n",
            "Epoch 17/500\n",
            "2/2 [==============================] - 0s 11ms/step - loss: 23.1125 - mae: 23.1125\n",
            "Epoch 18/500\n",
            "2/2 [==============================] - 0s 11ms/step - loss: 11.7455 - mae: 11.7455\n",
            "Epoch 19/500\n",
            "2/2 [==============================] - 0s 13ms/step - loss: 16.4059 - mae: 16.4059\n",
            "Epoch 20/500\n",
            "2/2 [==============================] - 0s 14ms/step - loss: 8.2465 - mae: 8.2465\n",
            "Epoch 21/500\n",
            "2/2 [==============================] - 0s 11ms/step - loss: 14.4475 - mae: 14.4475\n",
            "Epoch 22/500\n",
            "2/2 [==============================] - 0s 11ms/step - loss: 12.8644 - mae: 12.8644\n",
            "Epoch 23/500\n",
            "2/2 [==============================] - 0s 17ms/step - loss: 15.4977 - mae: 15.4977\n",
            "Epoch 24/500\n",
            "2/2 [==============================] - 0s 11ms/step - loss: 15.2876 - mae: 15.2876\n",
            "Epoch 25/500\n",
            "2/2 [==============================] - 0s 11ms/step - loss: 14.3530 - mae: 14.3530\n",
            "Epoch 26/500\n",
            "2/2 [==============================] - 0s 11ms/step - loss: 19.3693 - mae: 19.3693\n",
            "Epoch 27/500\n",
            "2/2 [==============================] - 0s 12ms/step - loss: 11.4386 - mae: 11.4386\n",
            "Epoch 28/500\n",
            "2/2 [==============================] - 0s 13ms/step - loss: 29.0200 - mae: 29.0200\n",
            "Epoch 29/500\n",
            "2/2 [==============================] - 0s 11ms/step - loss: 9.2496 - mae: 9.2496\n",
            "Epoch 30/500\n",
            "2/2 [==============================] - 0s 14ms/step - loss: 29.7732 - mae: 29.7732\n",
            "Epoch 31/500\n",
            "2/2 [==============================] - 0s 12ms/step - loss: 54.0159 - mae: 54.0159\n",
            "Epoch 32/500\n",
            "2/2 [==============================] - 0s 10ms/step - loss: 9.5547 - mae: 9.5547\n",
            "Epoch 33/500\n",
            "2/2 [==============================] - 0s 11ms/step - loss: 12.1442 - mae: 12.1442\n",
            "Epoch 34/500\n",
            "2/2 [==============================] - 0s 21ms/step - loss: 23.8293 - mae: 23.8293\n",
            "Epoch 35/500\n",
            "2/2 [==============================] - 0s 16ms/step - loss: 12.6327 - mae: 12.6327\n",
            "Epoch 36/500\n",
            "2/2 [==============================] - 0s 9ms/step - loss: 21.5575 - mae: 21.5575\n",
            "Epoch 37/500\n",
            "2/2 [==============================] - 0s 9ms/step - loss: 11.3546 - mae: 11.3546\n",
            "Epoch 38/500\n",
            "2/2 [==============================] - 0s 10ms/step - loss: 13.4238 - mae: 13.4238\n",
            "Epoch 39/500\n",
            "2/2 [==============================] - 0s 8ms/step - loss: 10.7702 - mae: 10.7702\n",
            "Epoch 40/500\n",
            "2/2 [==============================] - 0s 9ms/step - loss: 16.5429 - mae: 16.5429\n",
            "Epoch 41/500\n",
            "2/2 [==============================] - 0s 10ms/step - loss: 10.9456 - mae: 10.9456\n",
            "Epoch 42/500\n",
            "2/2 [==============================] - 0s 9ms/step - loss: 9.2803 - mae: 9.2803\n",
            "Epoch 43/500\n",
            "2/2 [==============================] - 0s 10ms/step - loss: 9.5863 - mae: 9.5863\n",
            "Epoch 44/500\n",
            "2/2 [==============================] - 0s 10ms/step - loss: 27.9208 - mae: 27.9208\n",
            "Epoch 45/500\n",
            "2/2 [==============================] - 0s 10ms/step - loss: 11.2646 - mae: 11.2646\n",
            "Epoch 46/500\n",
            "2/2 [==============================] - 0s 10ms/step - loss: 13.8640 - mae: 13.8640\n",
            "Epoch 47/500\n",
            "2/2 [==============================] - 0s 11ms/step - loss: 11.9178 - mae: 11.9178\n",
            "Epoch 48/500\n",
            "2/2 [==============================] - 0s 12ms/step - loss: 16.9494 - mae: 16.9494\n",
            "Epoch 49/500\n",
            "2/2 [==============================] - 0s 11ms/step - loss: 9.7768 - mae: 9.7768\n",
            "Epoch 50/500\n",
            "2/2 [==============================] - 0s 10ms/step - loss: 14.1729 - mae: 14.1729\n",
            "Epoch 51/500\n",
            "2/2 [==============================] - 0s 10ms/step - loss: 11.7379 - mae: 11.7379\n",
            "Epoch 52/500\n",
            "2/2 [==============================] - 0s 11ms/step - loss: 31.4094 - mae: 31.4094\n",
            "Epoch 53/500\n",
            "2/2 [==============================] - 0s 19ms/step - loss: 14.7338 - mae: 14.7338\n",
            "Epoch 54/500\n",
            "2/2 [==============================] - 0s 9ms/step - loss: 24.6321 - mae: 24.6321\n",
            "Epoch 55/500\n",
            "2/2 [==============================] - 0s 9ms/step - loss: 23.9167 - mae: 23.9167\n",
            "Epoch 56/500\n",
            "2/2 [==============================] - 0s 9ms/step - loss: 11.1263 - mae: 11.1263\n",
            "Epoch 57/500\n",
            "2/2 [==============================] - 0s 12ms/step - loss: 13.0688 - mae: 13.0688\n",
            "Epoch 58/500\n",
            "2/2 [==============================] - 0s 10ms/step - loss: 9.7856 - mae: 9.7856\n",
            "Epoch 59/500\n",
            "2/2 [==============================] - 0s 8ms/step - loss: 13.2516 - mae: 13.2516\n",
            "Epoch 60/500\n",
            "2/2 [==============================] - 0s 11ms/step - loss: 10.8408 - mae: 10.8408\n",
            "Epoch 61/500\n",
            "2/2 [==============================] - 0s 16ms/step - loss: 13.4282 - mae: 13.4282\n",
            "Epoch 62/500\n",
            "2/2 [==============================] - 0s 11ms/step - loss: 17.4143 - mae: 17.4143\n",
            "Epoch 63/500\n",
            "2/2 [==============================] - 0s 12ms/step - loss: 9.1424 - mae: 9.1424\n",
            "Epoch 64/500\n",
            "2/2 [==============================] - 0s 11ms/step - loss: 18.2892 - mae: 18.2892\n",
            "Epoch 65/500\n",
            "2/2 [==============================] - 0s 11ms/step - loss: 10.0978 - mae: 10.0978\n",
            "Epoch 66/500\n",
            "2/2 [==============================] - 0s 11ms/step - loss: 24.1327 - mae: 24.1327\n",
            "Epoch 67/500\n",
            "2/2 [==============================] - 0s 11ms/step - loss: 10.8535 - mae: 10.8535\n",
            "Epoch 68/500\n",
            "2/2 [==============================] - 0s 10ms/step - loss: 10.7457 - mae: 10.7457\n",
            "Epoch 69/500\n",
            "2/2 [==============================] - 0s 13ms/step - loss: 23.1126 - mae: 23.1126\n",
            "Epoch 70/500\n",
            "2/2 [==============================] - 0s 11ms/step - loss: 8.8391 - mae: 8.8391\n",
            "Epoch 71/500\n",
            "2/2 [==============================] - 0s 14ms/step - loss: 16.0639 - mae: 16.0639\n",
            "Epoch 72/500\n",
            "2/2 [==============================] - 0s 10ms/step - loss: 7.7553 - mae: 7.7553\n",
            "Epoch 73/500\n",
            "2/2 [==============================] - 0s 8ms/step - loss: 10.1590 - mae: 10.1590\n",
            "Epoch 74/500\n",
            "2/2 [==============================] - 0s 10ms/step - loss: 28.3360 - mae: 28.3360\n",
            "Epoch 75/500\n",
            "2/2 [==============================] - 0s 10ms/step - loss: 10.0068 - mae: 10.0068\n",
            "Epoch 76/500\n",
            "2/2 [==============================] - 0s 11ms/step - loss: 12.9224 - mae: 12.9224\n",
            "Epoch 77/500\n",
            "2/2 [==============================] - 0s 10ms/step - loss: 17.8819 - mae: 17.8819\n",
            "Epoch 78/500\n",
            "2/2 [==============================] - 0s 10ms/step - loss: 8.9635 - mae: 8.9635\n",
            "Epoch 79/500\n",
            "2/2 [==============================] - 0s 10ms/step - loss: 28.7078 - mae: 28.7078\n",
            "Epoch 80/500\n",
            "2/2 [==============================] - 0s 9ms/step - loss: 31.0441 - mae: 31.0441\n",
            "Epoch 81/500\n",
            "2/2 [==============================] - 0s 9ms/step - loss: 13.4117 - mae: 13.4117\n",
            "Epoch 82/500\n",
            "2/2 [==============================] - 0s 9ms/step - loss: 14.3247 - mae: 14.3247\n",
            "Epoch 83/500\n",
            "2/2 [==============================] - 0s 19ms/step - loss: 18.8620 - mae: 18.8620\n",
            "Epoch 84/500\n",
            "2/2 [==============================] - 0s 22ms/step - loss: 9.4615 - mae: 9.4615\n",
            "Epoch 85/500\n",
            "2/2 [==============================] - 0s 26ms/step - loss: 25.2551 - mae: 25.2551\n",
            "Epoch 86/500\n",
            "2/2 [==============================] - 0s 8ms/step - loss: 16.4180 - mae: 16.4180\n",
            "Epoch 87/500\n",
            "2/2 [==============================] - 0s 8ms/step - loss: 11.4676 - mae: 11.4676\n",
            "Epoch 88/500\n",
            "2/2 [==============================] - 0s 13ms/step - loss: 27.0200 - mae: 27.0200\n",
            "Epoch 89/500\n",
            "2/2 [==============================] - 0s 12ms/step - loss: 9.7406 - mae: 9.7406\n",
            "Epoch 90/500\n",
            "2/2 [==============================] - 0s 8ms/step - loss: 19.0684 - mae: 19.0684\n",
            "Epoch 91/500\n",
            "2/2 [==============================] - 0s 10ms/step - loss: 10.5977 - mae: 10.5977\n",
            "Epoch 92/500\n",
            "2/2 [==============================] - 0s 11ms/step - loss: 18.2849 - mae: 18.2849\n",
            "Epoch 93/500\n",
            "2/2 [==============================] - 0s 12ms/step - loss: 6.8642 - mae: 6.8642\n",
            "Epoch 94/500\n",
            "2/2 [==============================] - 0s 10ms/step - loss: 13.0658 - mae: 13.0658\n",
            "Epoch 95/500\n",
            "2/2 [==============================] - 0s 10ms/step - loss: 18.4338 - mae: 18.4338\n",
            "Epoch 96/500\n",
            "2/2 [==============================] - 0s 11ms/step - loss: 10.4072 - mae: 10.4072\n",
            "Epoch 97/500\n",
            "2/2 [==============================] - 0s 8ms/step - loss: 14.1785 - mae: 14.1785\n",
            "Epoch 98/500\n",
            "2/2 [==============================] - 0s 7ms/step - loss: 9.6480 - mae: 9.6480\n",
            "Epoch 99/500\n",
            "2/2 [==============================] - 0s 9ms/step - loss: 11.3418 - mae: 11.3418\n",
            "Epoch 100/500\n",
            "2/2 [==============================] - 0s 13ms/step - loss: 29.2916 - mae: 29.2916\n",
            "Epoch 101/500\n",
            "2/2 [==============================] - 0s 7ms/step - loss: 15.5890 - mae: 15.5890\n",
            "Epoch 102/500\n",
            "2/2 [==============================] - 0s 9ms/step - loss: 10.9592 - mae: 10.9592\n",
            "Epoch 103/500\n",
            "2/2 [==============================] - 0s 8ms/step - loss: 9.2689 - mae: 9.2689\n",
            "Epoch 104/500\n",
            "2/2 [==============================] - 0s 10ms/step - loss: 24.1947 - mae: 24.1947\n",
            "Epoch 105/500\n",
            "2/2 [==============================] - 0s 8ms/step - loss: 11.0041 - mae: 11.0041\n",
            "Epoch 106/500\n",
            "2/2 [==============================] - 0s 8ms/step - loss: 11.4416 - mae: 11.4416\n",
            "Epoch 107/500\n",
            "2/2 [==============================] - 0s 8ms/step - loss: 21.7263 - mae: 21.7263\n",
            "Epoch 108/500\n",
            "2/2 [==============================] - 0s 7ms/step - loss: 8.0126 - mae: 8.0126\n",
            "Epoch 109/500\n",
            "2/2 [==============================] - 0s 8ms/step - loss: 12.3294 - mae: 12.3294\n",
            "Epoch 110/500\n",
            "2/2 [==============================] - 0s 9ms/step - loss: 10.2855 - mae: 10.2855\n",
            "Epoch 111/500\n",
            "2/2 [==============================] - 0s 9ms/step - loss: 16.0736 - mae: 16.0736\n",
            "Epoch 112/500\n",
            "2/2 [==============================] - 0s 8ms/step - loss: 9.3452 - mae: 9.3452\n",
            "Epoch 113/500\n",
            "2/2 [==============================] - 0s 8ms/step - loss: 16.6044 - mae: 16.6044\n",
            "Epoch 114/500\n",
            "2/2 [==============================] - 0s 9ms/step - loss: 18.0746 - mae: 18.0746\n",
            "Epoch 115/500\n",
            "2/2 [==============================] - 0s 8ms/step - loss: 10.8147 - mae: 10.8147\n",
            "Epoch 116/500\n",
            "2/2 [==============================] - 0s 10ms/step - loss: 21.9794 - mae: 21.9794\n",
            "Epoch 117/500\n",
            "2/2 [==============================] - 0s 10ms/step - loss: 9.2365 - mae: 9.2365\n",
            "Epoch 118/500\n",
            "2/2 [==============================] - 0s 9ms/step - loss: 10.2363 - mae: 10.2363\n",
            "Epoch 119/500\n",
            "2/2 [==============================] - 0s 10ms/step - loss: 8.0492 - mae: 8.0492\n",
            "Epoch 120/500\n",
            "2/2 [==============================] - 0s 9ms/step - loss: 46.4029 - mae: 46.4029\n",
            "Epoch 121/500\n",
            "2/2 [==============================] - 0s 9ms/step - loss: 12.1340 - mae: 12.1340\n",
            "Epoch 122/500\n",
            "2/2 [==============================] - 0s 8ms/step - loss: 23.1235 - mae: 23.1235\n",
            "Epoch 123/500\n",
            "2/2 [==============================] - 0s 10ms/step - loss: 27.8674 - mae: 27.8674\n",
            "Epoch 124/500\n",
            "2/2 [==============================] - 0s 8ms/step - loss: 15.6237 - mae: 15.6237\n",
            "Epoch 125/500\n",
            "2/2 [==============================] - 0s 8ms/step - loss: 8.4122 - mae: 8.4122\n",
            "Epoch 126/500\n",
            "2/2 [==============================] - 0s 8ms/step - loss: 11.2620 - mae: 11.2620\n",
            "Epoch 127/500\n",
            "2/2 [==============================] - 0s 9ms/step - loss: 17.4988 - mae: 17.4988\n",
            "Epoch 128/500\n",
            "2/2 [==============================] - 0s 9ms/step - loss: 11.0453 - mae: 11.0453\n",
            "Epoch 129/500\n",
            "2/2 [==============================] - 0s 10ms/step - loss: 19.6463 - mae: 19.6463\n",
            "Epoch 130/500\n",
            "2/2 [==============================] - 0s 11ms/step - loss: 10.2000 - mae: 10.2000\n",
            "Epoch 131/500\n",
            "2/2 [==============================] - 0s 8ms/step - loss: 21.2891 - mae: 21.2891\n",
            "Epoch 132/500\n",
            "2/2 [==============================] - 0s 8ms/step - loss: 8.2331 - mae: 8.2331\n",
            "Epoch 133/500\n",
            "2/2 [==============================] - 0s 9ms/step - loss: 9.0182 - mae: 9.0182\n",
            "Epoch 134/500\n",
            "2/2 [==============================] - 0s 9ms/step - loss: 16.3629 - mae: 16.3629\n",
            "Epoch 135/500\n",
            "2/2 [==============================] - 0s 9ms/step - loss: 11.3142 - mae: 11.3142\n",
            "Epoch 136/500\n",
            "2/2 [==============================] - 0s 8ms/step - loss: 20.2853 - mae: 20.2853\n",
            "Epoch 137/500\n",
            "2/2 [==============================] - 0s 8ms/step - loss: 23.7410 - mae: 23.7410\n",
            "Epoch 138/500\n",
            "2/2 [==============================] - 0s 7ms/step - loss: 9.4083 - mae: 9.4083\n",
            "Epoch 139/500\n",
            "2/2 [==============================] - 0s 9ms/step - loss: 9.1040 - mae: 9.1040\n",
            "Epoch 140/500\n",
            "2/2 [==============================] - 0s 10ms/step - loss: 17.1088 - mae: 17.1088\n",
            "Epoch 141/500\n",
            "2/2 [==============================] - 0s 9ms/step - loss: 8.3796 - mae: 8.3796\n",
            "Epoch 142/500\n",
            "2/2 [==============================] - 0s 7ms/step - loss: 34.1890 - mae: 34.1890\n",
            "Epoch 143/500\n",
            "2/2 [==============================] - 0s 7ms/step - loss: 23.2551 - mae: 23.2551\n",
            "Epoch 144/500\n",
            "2/2 [==============================] - 0s 7ms/step - loss: 10.5114 - mae: 10.5114\n",
            "Epoch 145/500\n",
            "2/2 [==============================] - 0s 11ms/step - loss: 25.8773 - mae: 25.8773\n",
            "Epoch 146/500\n",
            "2/2 [==============================] - 0s 10ms/step - loss: 9.9243 - mae: 9.9243\n",
            "Epoch 147/500\n",
            "2/2 [==============================] - 0s 9ms/step - loss: 14.7800 - mae: 14.7800\n",
            "Epoch 148/500\n",
            "2/2 [==============================] - 0s 12ms/step - loss: 17.9014 - mae: 17.9014\n",
            "Epoch 149/500\n",
            "2/2 [==============================] - 0s 9ms/step - loss: 8.4356 - mae: 8.4356\n",
            "Epoch 150/500\n",
            "2/2 [==============================] - 0s 10ms/step - loss: 7.6308 - mae: 7.6308\n",
            "Epoch 151/500\n",
            "2/2 [==============================] - 0s 9ms/step - loss: 18.7348 - mae: 18.7348\n",
            "Epoch 152/500\n",
            "2/2 [==============================] - 0s 8ms/step - loss: 10.4594 - mae: 10.4594\n",
            "Epoch 153/500\n",
            "2/2 [==============================] - 0s 8ms/step - loss: 30.1881 - mae: 30.1881\n",
            "Epoch 154/500\n",
            "2/2 [==============================] - 0s 8ms/step - loss: 10.0385 - mae: 10.0385\n",
            "Epoch 155/500\n",
            "2/2 [==============================] - 0s 7ms/step - loss: 15.7854 - mae: 15.7854\n",
            "Epoch 156/500\n",
            "2/2 [==============================] - 0s 7ms/step - loss: 17.7413 - mae: 17.7413\n",
            "Epoch 157/500\n",
            "2/2 [==============================] - 0s 8ms/step - loss: 30.9334 - mae: 30.9334\n",
            "Epoch 158/500\n",
            "2/2 [==============================] - 0s 7ms/step - loss: 10.1892 - mae: 10.1892\n",
            "Epoch 159/500\n",
            "2/2 [==============================] - 0s 6ms/step - loss: 8.6902 - mae: 8.6902\n",
            "Epoch 160/500\n",
            "2/2 [==============================] - 0s 11ms/step - loss: 20.6195 - mae: 20.6195\n",
            "Epoch 161/500\n",
            "2/2 [==============================] - 0s 9ms/step - loss: 11.7784 - mae: 11.7784\n",
            "Epoch 162/500\n",
            "2/2 [==============================] - 0s 8ms/step - loss: 21.5943 - mae: 21.5943\n",
            "Epoch 163/500\n",
            "2/2 [==============================] - 0s 10ms/step - loss: 19.2778 - mae: 19.2778\n",
            "Epoch 164/500\n",
            "2/2 [==============================] - 0s 7ms/step - loss: 11.0785 - mae: 11.0785\n",
            "Epoch 165/500\n",
            "2/2 [==============================] - 0s 8ms/step - loss: 9.6502 - mae: 9.6502\n",
            "Epoch 166/500\n",
            "2/2 [==============================] - 0s 8ms/step - loss: 21.6158 - mae: 21.6158\n",
            "Epoch 167/500\n",
            "2/2 [==============================] - 0s 9ms/step - loss: 26.2408 - mae: 26.2408\n",
            "Epoch 168/500\n",
            "2/2 [==============================] - 0s 13ms/step - loss: 9.9121 - mae: 9.9121\n",
            "Epoch 169/500\n",
            "2/2 [==============================] - 0s 13ms/step - loss: 22.4730 - mae: 22.4730\n",
            "Epoch 170/500\n",
            "2/2 [==============================] - 0s 7ms/step - loss: 10.2002 - mae: 10.2002\n",
            "Epoch 171/500\n",
            "2/2 [==============================] - 0s 19ms/step - loss: 18.1032 - mae: 18.1032\n",
            "Epoch 172/500\n",
            "2/2 [==============================] - 0s 11ms/step - loss: 28.7082 - mae: 28.7082\n",
            "Epoch 173/500\n",
            "2/2 [==============================] - 0s 11ms/step - loss: 16.4470 - mae: 16.4470\n",
            "Epoch 174/500\n",
            "2/2 [==============================] - 0s 10ms/step - loss: 11.2550 - mae: 11.2550\n",
            "Epoch 175/500\n",
            "2/2 [==============================] - 0s 8ms/step - loss: 27.6224 - mae: 27.6224\n",
            "Epoch 176/500\n",
            "2/2 [==============================] - 0s 14ms/step - loss: 8.2903 - mae: 8.2903\n",
            "Epoch 177/500\n",
            "2/2 [==============================] - 0s 9ms/step - loss: 9.2926 - mae: 9.2926\n",
            "Epoch 178/500\n",
            "2/2 [==============================] - 0s 8ms/step - loss: 18.0061 - mae: 18.0061\n",
            "Epoch 179/500\n",
            "2/2 [==============================] - 0s 10ms/step - loss: 10.6810 - mae: 10.6810\n",
            "Epoch 180/500\n",
            "2/2 [==============================] - 0s 9ms/step - loss: 7.9348 - mae: 7.9348\n",
            "Epoch 181/500\n",
            "2/2 [==============================] - 0s 8ms/step - loss: 17.2558 - mae: 17.2558\n",
            "Epoch 182/500\n",
            "2/2 [==============================] - 0s 9ms/step - loss: 11.0029 - mae: 11.0029\n",
            "Epoch 183/500\n",
            "2/2 [==============================] - 0s 8ms/step - loss: 11.6447 - mae: 11.6447\n",
            "Epoch 184/500\n",
            "2/2 [==============================] - 0s 10ms/step - loss: 30.1054 - mae: 30.1054\n",
            "Epoch 185/500\n",
            "2/2 [==============================] - 0s 8ms/step - loss: 8.2423 - mae: 8.2423\n",
            "Epoch 186/500\n",
            "2/2 [==============================] - 0s 8ms/step - loss: 18.7486 - mae: 18.7486\n",
            "Epoch 187/500\n",
            "2/2 [==============================] - 0s 9ms/step - loss: 8.8257 - mae: 8.8257\n",
            "Epoch 188/500\n",
            "2/2 [==============================] - 0s 8ms/step - loss: 23.7392 - mae: 23.7392\n",
            "Epoch 189/500\n",
            "2/2 [==============================] - 0s 8ms/step - loss: 9.4019 - mae: 9.4019\n",
            "Epoch 190/500\n",
            "2/2 [==============================] - 0s 9ms/step - loss: 17.0051 - mae: 17.0051\n",
            "Epoch 191/500\n",
            "2/2 [==============================] - 0s 9ms/step - loss: 8.6407 - mae: 8.6407\n",
            "Epoch 192/500\n",
            "2/2 [==============================] - 0s 8ms/step - loss: 15.2072 - mae: 15.2072\n",
            "Epoch 193/500\n",
            "2/2 [==============================] - 0s 8ms/step - loss: 30.0532 - mae: 30.0532\n",
            "Epoch 194/500\n",
            "2/2 [==============================] - 0s 7ms/step - loss: 9.7102 - mae: 9.7102\n",
            "Epoch 195/500\n",
            "2/2 [==============================] - 0s 9ms/step - loss: 12.0587 - mae: 12.0587\n",
            "Epoch 196/500\n",
            "2/2 [==============================] - 0s 9ms/step - loss: 23.4422 - mae: 23.4422\n",
            "Epoch 197/500\n",
            "2/2 [==============================] - 0s 9ms/step - loss: 17.7632 - mae: 17.7632\n",
            "Epoch 198/500\n",
            "2/2 [==============================] - 0s 8ms/step - loss: 12.5762 - mae: 12.5762\n",
            "Epoch 199/500\n",
            "2/2 [==============================] - 0s 9ms/step - loss: 18.0171 - mae: 18.0171\n",
            "Epoch 200/500\n",
            "2/2 [==============================] - 0s 9ms/step - loss: 13.8541 - mae: 13.8541\n",
            "Epoch 201/500\n",
            "2/2 [==============================] - 0s 9ms/step - loss: 6.1211 - mae: 6.1211\n",
            "Epoch 202/500\n",
            "2/2 [==============================] - 0s 9ms/step - loss: 22.7889 - mae: 22.7889\n",
            "Epoch 203/500\n",
            "2/2 [==============================] - 0s 8ms/step - loss: 9.0225 - mae: 9.0225\n",
            "Epoch 204/500\n",
            "2/2 [==============================] - 0s 8ms/step - loss: 18.7477 - mae: 18.7477\n",
            "Epoch 205/500\n",
            "2/2 [==============================] - 0s 7ms/step - loss: 9.4017 - mae: 9.4017\n",
            "Epoch 206/500\n",
            "2/2 [==============================] - 0s 7ms/step - loss: 10.4675 - mae: 10.4675\n",
            "Epoch 207/500\n",
            "2/2 [==============================] - 0s 7ms/step - loss: 20.9297 - mae: 20.9297\n",
            "Epoch 208/500\n",
            "2/2 [==============================] - 0s 7ms/step - loss: 16.3877 - mae: 16.3877\n",
            "Epoch 209/500\n",
            "2/2 [==============================] - 0s 8ms/step - loss: 14.2538 - mae: 14.2538\n",
            "Epoch 210/500\n",
            "2/2 [==============================] - 0s 11ms/step - loss: 17.1901 - mae: 17.1901\n",
            "Epoch 211/500\n",
            "2/2 [==============================] - 0s 8ms/step - loss: 10.2766 - mae: 10.2766\n",
            "Epoch 212/500\n",
            "2/2 [==============================] - 0s 8ms/step - loss: 19.6156 - mae: 19.6156\n",
            "Epoch 213/500\n",
            "2/2 [==============================] - 0s 8ms/step - loss: 14.7351 - mae: 14.7351\n",
            "Epoch 214/500\n",
            "2/2 [==============================] - 0s 8ms/step - loss: 14.4003 - mae: 14.4003\n",
            "Epoch 215/500\n",
            "2/2 [==============================] - 0s 7ms/step - loss: 22.9233 - mae: 22.9233\n",
            "Epoch 216/500\n",
            "2/2 [==============================] - 0s 7ms/step - loss: 13.8316 - mae: 13.8316\n",
            "Epoch 217/500\n",
            "2/2 [==============================] - 0s 7ms/step - loss: 10.3003 - mae: 10.3003\n",
            "Epoch 218/500\n",
            "2/2 [==============================] - 0s 7ms/step - loss: 12.3212 - mae: 12.3212\n",
            "Epoch 219/500\n",
            "2/2 [==============================] - 0s 8ms/step - loss: 6.5750 - mae: 6.5750\n",
            "Epoch 220/500\n",
            "2/2 [==============================] - 0s 8ms/step - loss: 7.1902 - mae: 7.1902\n",
            "Epoch 221/500\n",
            "2/2 [==============================] - 0s 7ms/step - loss: 37.3083 - mae: 37.3083\n",
            "Epoch 222/500\n",
            "2/2 [==============================] - 0s 8ms/step - loss: 37.0770 - mae: 37.0770\n",
            "Epoch 223/500\n",
            "2/2 [==============================] - 0s 7ms/step - loss: 6.7004 - mae: 6.7004\n",
            "Epoch 224/500\n",
            "2/2 [==============================] - 0s 8ms/step - loss: 13.8673 - mae: 13.8673\n",
            "Epoch 225/500\n",
            "2/2 [==============================] - 0s 8ms/step - loss: 16.0457 - mae: 16.0457\n",
            "Epoch 226/500\n",
            "2/2 [==============================] - 0s 10ms/step - loss: 15.2579 - mae: 15.2579\n",
            "Epoch 227/500\n",
            "2/2 [==============================] - 0s 10ms/step - loss: 15.5903 - mae: 15.5903\n",
            "Epoch 228/500\n",
            "2/2 [==============================] - 0s 8ms/step - loss: 13.6461 - mae: 13.6461\n",
            "Epoch 229/500\n",
            "2/2 [==============================] - 0s 8ms/step - loss: 17.7399 - mae: 17.7399\n",
            "Epoch 230/500\n",
            "2/2 [==============================] - 0s 7ms/step - loss: 15.2256 - mae: 15.2256\n",
            "Epoch 231/500\n",
            "2/2 [==============================] - 0s 8ms/step - loss: 21.1352 - mae: 21.1352\n",
            "Epoch 232/500\n",
            "2/2 [==============================] - 0s 8ms/step - loss: 25.1663 - mae: 25.1663\n",
            "Epoch 233/500\n",
            "2/2 [==============================] - 0s 8ms/step - loss: 16.2530 - mae: 16.2530\n",
            "Epoch 234/500\n",
            "2/2 [==============================] - 0s 7ms/step - loss: 7.3349 - mae: 7.3349\n",
            "Epoch 235/500\n",
            "2/2 [==============================] - 0s 7ms/step - loss: 16.8827 - mae: 16.8827\n",
            "Epoch 236/500\n",
            "2/2 [==============================] - 0s 8ms/step - loss: 7.1607 - mae: 7.1607\n",
            "Epoch 237/500\n",
            "2/2 [==============================] - 0s 7ms/step - loss: 9.2138 - mae: 9.2138\n",
            "Epoch 238/500\n",
            "2/2 [==============================] - 0s 9ms/step - loss: 8.1361 - mae: 8.1361\n",
            "Epoch 239/500\n",
            "2/2 [==============================] - 0s 7ms/step - loss: 16.8369 - mae: 16.8369\n",
            "Epoch 240/500\n",
            "2/2 [==============================] - 0s 8ms/step - loss: 8.8570 - mae: 8.8570\n",
            "Epoch 241/500\n",
            "2/2 [==============================] - 0s 8ms/step - loss: 12.6760 - mae: 12.6760\n",
            "Epoch 242/500\n",
            "2/2 [==============================] - 0s 8ms/step - loss: 10.8367 - mae: 10.8367\n",
            "Epoch 243/500\n",
            "2/2 [==============================] - 0s 7ms/step - loss: 17.0812 - mae: 17.0812\n",
            "Epoch 244/500\n",
            "2/2 [==============================] - 0s 8ms/step - loss: 14.6038 - mae: 14.6038\n",
            "Epoch 245/500\n",
            "2/2 [==============================] - 0s 7ms/step - loss: 15.1620 - mae: 15.1620\n",
            "Epoch 246/500\n",
            "2/2 [==============================] - 0s 7ms/step - loss: 16.2653 - mae: 16.2653\n",
            "Epoch 247/500\n",
            "2/2 [==============================] - 0s 7ms/step - loss: 18.2878 - mae: 18.2878\n",
            "Epoch 248/500\n",
            "2/2 [==============================] - 0s 7ms/step - loss: 13.8126 - mae: 13.8126\n",
            "Epoch 249/500\n",
            "2/2 [==============================] - 0s 8ms/step - loss: 14.8929 - mae: 14.8929\n",
            "Epoch 250/500\n",
            "2/2 [==============================] - 0s 8ms/step - loss: 18.6111 - mae: 18.6111\n",
            "Epoch 251/500\n",
            "2/2 [==============================] - 0s 7ms/step - loss: 13.8829 - mae: 13.8829\n",
            "Epoch 252/500\n",
            "2/2 [==============================] - 0s 8ms/step - loss: 29.4844 - mae: 29.4844\n",
            "Epoch 253/500\n",
            "2/2 [==============================] - 0s 8ms/step - loss: 8.2754 - mae: 8.2754\n",
            "Epoch 254/500\n",
            "2/2 [==============================] - 0s 8ms/step - loss: 11.7211 - mae: 11.7211\n",
            "Epoch 255/500\n",
            "2/2 [==============================] - 0s 8ms/step - loss: 15.6291 - mae: 15.6291\n",
            "Epoch 256/500\n",
            "2/2 [==============================] - 0s 7ms/step - loss: 9.8092 - mae: 9.8092\n",
            "Epoch 257/500\n",
            "2/2 [==============================] - 0s 8ms/step - loss: 14.3193 - mae: 14.3193\n",
            "Epoch 258/500\n",
            "2/2 [==============================] - 0s 8ms/step - loss: 5.8649 - mae: 5.8649\n",
            "Epoch 259/500\n",
            "2/2 [==============================] - 0s 8ms/step - loss: 14.9292 - mae: 14.9292\n",
            "Epoch 260/500\n",
            "2/2 [==============================] - 0s 7ms/step - loss: 7.1519 - mae: 7.1519\n",
            "Epoch 261/500\n",
            "2/2 [==============================] - 0s 7ms/step - loss: 19.8591 - mae: 19.8591\n",
            "Epoch 262/500\n",
            "2/2 [==============================] - 0s 8ms/step - loss: 7.3795 - mae: 7.3795\n",
            "Epoch 263/500\n",
            "2/2 [==============================] - 0s 7ms/step - loss: 13.3535 - mae: 13.3535\n",
            "Epoch 264/500\n",
            "2/2 [==============================] - 0s 8ms/step - loss: 20.3118 - mae: 20.3118\n",
            "Epoch 265/500\n",
            "2/2 [==============================] - 0s 8ms/step - loss: 9.6762 - mae: 9.6762\n",
            "Epoch 266/500\n",
            "2/2 [==============================] - 0s 7ms/step - loss: 7.7847 - mae: 7.7847\n",
            "Epoch 267/500\n",
            "2/2 [==============================] - 0s 7ms/step - loss: 7.5925 - mae: 7.5925\n",
            "Epoch 268/500\n",
            "2/2 [==============================] - 0s 8ms/step - loss: 18.1561 - mae: 18.1561\n",
            "Epoch 269/500\n",
            "2/2 [==============================] - 0s 7ms/step - loss: 21.3077 - mae: 21.3077\n",
            "Epoch 270/500\n",
            "2/2 [==============================] - 0s 7ms/step - loss: 4.6446 - mae: 4.6446\n",
            "Epoch 271/500\n",
            "2/2 [==============================] - 0s 8ms/step - loss: 9.9168 - mae: 9.9168\n",
            "Epoch 272/500\n",
            "2/2 [==============================] - 0s 8ms/step - loss: 19.4953 - mae: 19.4953\n",
            "Epoch 273/500\n",
            "2/2 [==============================] - 0s 7ms/step - loss: 6.8865 - mae: 6.8865\n",
            "Epoch 274/500\n",
            "2/2 [==============================] - 0s 7ms/step - loss: 14.1327 - mae: 14.1327\n",
            "Epoch 275/500\n",
            "2/2 [==============================] - 0s 7ms/step - loss: 30.1684 - mae: 30.1684\n",
            "Epoch 276/500\n",
            "2/2 [==============================] - 0s 7ms/step - loss: 10.2858 - mae: 10.2858\n",
            "Epoch 277/500\n",
            "2/2 [==============================] - 0s 7ms/step - loss: 29.8926 - mae: 29.8926\n",
            "Epoch 278/500\n",
            "2/2 [==============================] - 0s 7ms/step - loss: 10.4032 - mae: 10.4032\n",
            "Epoch 279/500\n",
            "2/2 [==============================] - 0s 7ms/step - loss: 15.8745 - mae: 15.8745\n",
            "Epoch 280/500\n",
            "2/2 [==============================] - 0s 7ms/step - loss: 20.7427 - mae: 20.7427\n",
            "Epoch 281/500\n",
            "2/2 [==============================] - 0s 10ms/step - loss: 12.4880 - mae: 12.4880\n",
            "Epoch 282/500\n",
            "2/2 [==============================] - 0s 7ms/step - loss: 6.9017 - mae: 6.9017\n",
            "Epoch 283/500\n",
            "2/2 [==============================] - 0s 7ms/step - loss: 8.0948 - mae: 8.0948\n",
            "Epoch 284/500\n",
            "2/2 [==============================] - 0s 8ms/step - loss: 24.6211 - mae: 24.6211\n",
            "Epoch 285/500\n",
            "2/2 [==============================] - 0s 7ms/step - loss: 13.4497 - mae: 13.4497\n",
            "Epoch 286/500\n",
            "2/2 [==============================] - 0s 7ms/step - loss: 8.6146 - mae: 8.6146\n",
            "Epoch 287/500\n",
            "2/2 [==============================] - 0s 7ms/step - loss: 22.2857 - mae: 22.2857\n",
            "Epoch 288/500\n",
            "2/2 [==============================] - 0s 12ms/step - loss: 23.4496 - mae: 23.4496\n",
            "Epoch 289/500\n",
            "2/2 [==============================] - 0s 11ms/step - loss: 12.0399 - mae: 12.0399\n",
            "Epoch 290/500\n",
            "2/2 [==============================] - 0s 10ms/step - loss: 16.6092 - mae: 16.6092\n",
            "Epoch 291/500\n",
            "2/2 [==============================] - 0s 12ms/step - loss: 16.8940 - mae: 16.8940\n",
            "Epoch 292/500\n",
            "2/2 [==============================] - 0s 11ms/step - loss: 9.5251 - mae: 9.5251\n",
            "Epoch 293/500\n",
            "2/2 [==============================] - 0s 10ms/step - loss: 15.3226 - mae: 15.3226\n",
            "Epoch 294/500\n",
            "2/2 [==============================] - 0s 9ms/step - loss: 22.8152 - mae: 22.8152\n",
            "Epoch 295/500\n",
            "2/2 [==============================] - 0s 8ms/step - loss: 17.7213 - mae: 17.7213\n",
            "Epoch 296/500\n",
            "2/2 [==============================] - 0s 8ms/step - loss: 6.1017 - mae: 6.1017\n",
            "Epoch 297/500\n",
            "2/2 [==============================] - 0s 7ms/step - loss: 10.9850 - mae: 10.9850\n",
            "Epoch 298/500\n",
            "2/2 [==============================] - 0s 7ms/step - loss: 23.2414 - mae: 23.2414\n",
            "Epoch 299/500\n",
            "2/2 [==============================] - 0s 7ms/step - loss: 17.5400 - mae: 17.5400\n",
            "Epoch 300/500\n",
            "2/2 [==============================] - 0s 7ms/step - loss: 6.9551 - mae: 6.9551\n",
            "Epoch 301/500\n",
            "2/2 [==============================] - 0s 7ms/step - loss: 24.9588 - mae: 24.9588\n",
            "Epoch 302/500\n",
            "2/2 [==============================] - 0s 7ms/step - loss: 8.8349 - mae: 8.8349\n",
            "Epoch 303/500\n",
            "2/2 [==============================] - 0s 7ms/step - loss: 17.5865 - mae: 17.5865\n",
            "Epoch 304/500\n",
            "2/2 [==============================] - 0s 7ms/step - loss: 10.9173 - mae: 10.9173\n",
            "Epoch 305/500\n",
            "2/2 [==============================] - 0s 7ms/step - loss: 12.7808 - mae: 12.7808\n",
            "Epoch 306/500\n",
            "2/2 [==============================] - 0s 8ms/step - loss: 8.3424 - mae: 8.3424\n",
            "Epoch 307/500\n",
            "2/2 [==============================] - 0s 10ms/step - loss: 13.2192 - mae: 13.2192\n",
            "Epoch 308/500\n",
            "2/2 [==============================] - 0s 12ms/step - loss: 8.2065 - mae: 8.2065\n",
            "Epoch 309/500\n",
            "2/2 [==============================] - 0s 11ms/step - loss: 11.8715 - mae: 11.8715\n",
            "Epoch 310/500\n",
            "2/2 [==============================] - 0s 9ms/step - loss: 6.4151 - mae: 6.4151\n",
            "Epoch 311/500\n",
            "2/2 [==============================] - 0s 10ms/step - loss: 4.2513 - mae: 4.2513\n",
            "Epoch 312/500\n",
            "2/2 [==============================] - 0s 9ms/step - loss: 11.9911 - mae: 11.9911\n",
            "Epoch 313/500\n",
            "2/2 [==============================] - 0s 8ms/step - loss: 13.4330 - mae: 13.4330\n",
            "Epoch 314/500\n",
            "2/2 [==============================] - 0s 7ms/step - loss: 13.3317 - mae: 13.3317\n",
            "Epoch 315/500\n",
            "2/2 [==============================] - 0s 7ms/step - loss: 23.0560 - mae: 23.0560\n",
            "Epoch 316/500\n",
            "2/2 [==============================] - 0s 10ms/step - loss: 15.3625 - mae: 15.3625\n",
            "Epoch 317/500\n",
            "2/2 [==============================] - 0s 8ms/step - loss: 21.4049 - mae: 21.4049\n",
            "Epoch 318/500\n",
            "2/2 [==============================] - 0s 8ms/step - loss: 8.0237 - mae: 8.0237\n",
            "Epoch 319/500\n",
            "2/2 [==============================] - 0s 7ms/step - loss: 18.2631 - mae: 18.2631\n",
            "Epoch 320/500\n",
            "2/2 [==============================] - 0s 7ms/step - loss: 10.7395 - mae: 10.7395\n",
            "Epoch 321/500\n",
            "2/2 [==============================] - 0s 7ms/step - loss: 7.0789 - mae: 7.0789\n",
            "Epoch 322/500\n",
            "2/2 [==============================] - 0s 8ms/step - loss: 8.6251 - mae: 8.6251\n",
            "Epoch 323/500\n",
            "2/2 [==============================] - 0s 7ms/step - loss: 18.2733 - mae: 18.2733\n",
            "Epoch 324/500\n",
            "2/2 [==============================] - 0s 10ms/step - loss: 16.3250 - mae: 16.3250\n",
            "Epoch 325/500\n",
            "2/2 [==============================] - 0s 7ms/step - loss: 18.3051 - mae: 18.3051\n",
            "Epoch 326/500\n",
            "2/2 [==============================] - 0s 7ms/step - loss: 22.3789 - mae: 22.3789\n",
            "Epoch 327/500\n",
            "2/2 [==============================] - 0s 7ms/step - loss: 8.4672 - mae: 8.4672\n",
            "Epoch 328/500\n",
            "2/2 [==============================] - 0s 7ms/step - loss: 7.0102 - mae: 7.0102\n",
            "Epoch 329/500\n",
            "2/2 [==============================] - 0s 7ms/step - loss: 10.2624 - mae: 10.2624\n",
            "Epoch 330/500\n",
            "2/2 [==============================] - 0s 7ms/step - loss: 9.3784 - mae: 9.3784\n",
            "Epoch 331/500\n",
            "2/2 [==============================] - 0s 7ms/step - loss: 22.7047 - mae: 22.7047\n",
            "Epoch 332/500\n",
            "2/2 [==============================] - 0s 10ms/step - loss: 19.9544 - mae: 19.9544\n",
            "Epoch 333/500\n",
            "2/2 [==============================] - 0s 9ms/step - loss: 11.0451 - mae: 11.0451\n",
            "Epoch 334/500\n",
            "2/2 [==============================] - 0s 7ms/step - loss: 9.0421 - mae: 9.0421\n",
            "Epoch 335/500\n",
            "2/2 [==============================] - 0s 8ms/step - loss: 13.0532 - mae: 13.0532\n",
            "Epoch 336/500\n",
            "2/2 [==============================] - 0s 8ms/step - loss: 32.5258 - mae: 32.5258\n",
            "Epoch 337/500\n",
            "2/2 [==============================] - 0s 9ms/step - loss: 11.0628 - mae: 11.0628\n",
            "Epoch 338/500\n",
            "2/2 [==============================] - 0s 10ms/step - loss: 20.0044 - mae: 20.0044\n",
            "Epoch 339/500\n",
            "2/2 [==============================] - 0s 9ms/step - loss: 34.1693 - mae: 34.1693\n",
            "Epoch 340/500\n",
            "2/2 [==============================] - 0s 8ms/step - loss: 8.6558 - mae: 8.6558\n",
            "Epoch 341/500\n",
            "2/2 [==============================] - 0s 9ms/step - loss: 21.8627 - mae: 21.8627\n",
            "Epoch 342/500\n",
            "2/2 [==============================] - 0s 12ms/step - loss: 13.9623 - mae: 13.9623\n",
            "Epoch 343/500\n",
            "2/2 [==============================] - 0s 10ms/step - loss: 11.4826 - mae: 11.4826\n",
            "Epoch 344/500\n",
            "2/2 [==============================] - 0s 10ms/step - loss: 9.9276 - mae: 9.9276\n",
            "Epoch 345/500\n",
            "2/2 [==============================] - 0s 7ms/step - loss: 31.2218 - mae: 31.2218\n",
            "Epoch 346/500\n",
            "2/2 [==============================] - 0s 7ms/step - loss: 10.8179 - mae: 10.8179\n",
            "Epoch 347/500\n",
            "2/2 [==============================] - 0s 11ms/step - loss: 26.0237 - mae: 26.0237\n",
            "Epoch 348/500\n",
            "2/2 [==============================] - 0s 9ms/step - loss: 12.0403 - mae: 12.0403\n",
            "Epoch 349/500\n",
            "2/2 [==============================] - 0s 8ms/step - loss: 12.7248 - mae: 12.7248\n",
            "Epoch 350/500\n",
            "2/2 [==============================] - 0s 11ms/step - loss: 15.2883 - mae: 15.2883\n",
            "Epoch 351/500\n",
            "2/2 [==============================] - 0s 11ms/step - loss: 32.6809 - mae: 32.6809\n",
            "Epoch 352/500\n",
            "2/2 [==============================] - 0s 6ms/step - loss: 13.6872 - mae: 13.6872\n",
            "Epoch 353/500\n",
            "2/2 [==============================] - 0s 7ms/step - loss: 17.6199 - mae: 17.6199\n",
            "Epoch 354/500\n",
            "2/2 [==============================] - 0s 9ms/step - loss: 11.2699 - mae: 11.2699\n",
            "Epoch 355/500\n",
            "2/2 [==============================] - 0s 12ms/step - loss: 26.6162 - mae: 26.6162\n",
            "Epoch 356/500\n",
            "2/2 [==============================] - 0s 7ms/step - loss: 10.3676 - mae: 10.3676\n",
            "Epoch 357/500\n",
            "2/2 [==============================] - 0s 7ms/step - loss: 15.2452 - mae: 15.2452\n",
            "Epoch 358/500\n",
            "2/2 [==============================] - 0s 8ms/step - loss: 13.6738 - mae: 13.6738\n",
            "Epoch 359/500\n",
            "2/2 [==============================] - 0s 8ms/step - loss: 12.5605 - mae: 12.5605\n",
            "Epoch 360/500\n",
            "2/2 [==============================] - 0s 8ms/step - loss: 20.7450 - mae: 20.7450\n",
            "Epoch 361/500\n",
            "2/2 [==============================] - 0s 8ms/step - loss: 9.9724 - mae: 9.9724\n",
            "Epoch 362/500\n",
            "2/2 [==============================] - 0s 7ms/step - loss: 7.0404 - mae: 7.0404\n",
            "Epoch 363/500\n",
            "2/2 [==============================] - 0s 7ms/step - loss: 25.8096 - mae: 25.8096\n",
            "Epoch 364/500\n",
            "2/2 [==============================] - 0s 10ms/step - loss: 32.2203 - mae: 32.2203\n",
            "Epoch 365/500\n",
            "2/2 [==============================] - 0s 10ms/step - loss: 10.0106 - mae: 10.0106\n",
            "Epoch 366/500\n",
            "2/2 [==============================] - 0s 8ms/step - loss: 9.6643 - mae: 9.6643\n",
            "Epoch 367/500\n",
            "2/2 [==============================] - 0s 8ms/step - loss: 30.4190 - mae: 30.4190\n",
            "Epoch 368/500\n",
            "2/2 [==============================] - 0s 9ms/step - loss: 10.4970 - mae: 10.4970\n",
            "Epoch 369/500\n",
            "2/2 [==============================] - 0s 9ms/step - loss: 14.9856 - mae: 14.9856\n",
            "Epoch 370/500\n",
            "2/2 [==============================] - 0s 8ms/step - loss: 14.6542 - mae: 14.6542\n",
            "Epoch 371/500\n",
            "2/2 [==============================] - 0s 11ms/step - loss: 23.3598 - mae: 23.3598\n",
            "Epoch 372/500\n",
            "2/2 [==============================] - 0s 11ms/step - loss: 13.1122 - mae: 13.1122\n",
            "Epoch 373/500\n",
            "2/2 [==============================] - 0s 7ms/step - loss: 9.2644 - mae: 9.2644\n",
            "Epoch 374/500\n",
            "2/2 [==============================] - 0s 7ms/step - loss: 9.6539 - mae: 9.6539\n",
            "Epoch 375/500\n",
            "2/2 [==============================] - 0s 8ms/step - loss: 12.9955 - mae: 12.9955\n",
            "Epoch 376/500\n",
            "2/2 [==============================] - 0s 8ms/step - loss: 14.8780 - mae: 14.8780\n",
            "Epoch 377/500\n",
            "2/2 [==============================] - 0s 7ms/step - loss: 14.7820 - mae: 14.7820\n",
            "Epoch 378/500\n",
            "2/2 [==============================] - 0s 6ms/step - loss: 16.2662 - mae: 16.2662\n",
            "Epoch 379/500\n",
            "2/2 [==============================] - 0s 6ms/step - loss: 20.8142 - mae: 20.8142\n",
            "Epoch 380/500\n",
            "2/2 [==============================] - 0s 7ms/step - loss: 33.5791 - mae: 33.5791\n",
            "Epoch 381/500\n",
            "2/2 [==============================] - 0s 7ms/step - loss: 8.2188 - mae: 8.2188\n",
            "Epoch 382/500\n",
            "2/2 [==============================] - 0s 7ms/step - loss: 13.1282 - mae: 13.1282\n",
            "Epoch 383/500\n",
            "2/2 [==============================] - 0s 7ms/step - loss: 8.3786 - mae: 8.3786\n",
            "Epoch 384/500\n",
            "2/2 [==============================] - 0s 11ms/step - loss: 7.1361 - mae: 7.1361\n",
            "Epoch 385/500\n",
            "2/2 [==============================] - 0s 7ms/step - loss: 10.9252 - mae: 10.9252\n",
            "Epoch 386/500\n",
            "2/2 [==============================] - 0s 10ms/step - loss: 19.7413 - mae: 19.7413\n",
            "Epoch 387/500\n",
            "2/2 [==============================] - 0s 10ms/step - loss: 24.9182 - mae: 24.9182\n",
            "Epoch 388/500\n",
            "2/2 [==============================] - 0s 12ms/step - loss: 8.7580 - mae: 8.7580\n",
            "Epoch 389/500\n",
            "2/2 [==============================] - 0s 9ms/step - loss: 5.9476 - mae: 5.9476\n",
            "Epoch 390/500\n",
            "2/2 [==============================] - 0s 9ms/step - loss: 24.5036 - mae: 24.5036\n",
            "Epoch 391/500\n",
            "2/2 [==============================] - 0s 8ms/step - loss: 5.9785 - mae: 5.9785\n",
            "Epoch 392/500\n",
            "2/2 [==============================] - 0s 8ms/step - loss: 16.3701 - mae: 16.3701\n",
            "Epoch 393/500\n",
            "2/2 [==============================] - 0s 8ms/step - loss: 6.0970 - mae: 6.0970\n",
            "Epoch 394/500\n",
            "2/2 [==============================] - 0s 7ms/step - loss: 11.1266 - mae: 11.1266\n",
            "Epoch 395/500\n",
            "2/2 [==============================] - 0s 7ms/step - loss: 15.0080 - mae: 15.0080\n",
            "Epoch 396/500\n",
            "2/2 [==============================] - 0s 7ms/step - loss: 7.6604 - mae: 7.6604\n",
            "Epoch 397/500\n",
            "2/2 [==============================] - 0s 7ms/step - loss: 8.7889 - mae: 8.7889\n",
            "Epoch 398/500\n",
            "2/2 [==============================] - 0s 9ms/step - loss: 14.6612 - mae: 14.6612\n",
            "Epoch 399/500\n",
            "2/2 [==============================] - 0s 12ms/step - loss: 11.2966 - mae: 11.2966\n",
            "Epoch 400/500\n",
            "2/2 [==============================] - 0s 10ms/step - loss: 21.8741 - mae: 21.8741\n",
            "Epoch 401/500\n",
            "2/2 [==============================] - 0s 11ms/step - loss: 14.9329 - mae: 14.9329\n",
            "Epoch 402/500\n",
            "2/2 [==============================] - 0s 11ms/step - loss: 8.5156 - mae: 8.5156\n",
            "Epoch 403/500\n",
            "2/2 [==============================] - 0s 8ms/step - loss: 10.4423 - mae: 10.4423\n",
            "Epoch 404/500\n",
            "2/2 [==============================] - 0s 12ms/step - loss: 10.3007 - mae: 10.3007\n",
            "Epoch 405/500\n",
            "2/2 [==============================] - 0s 7ms/step - loss: 6.3451 - mae: 6.3451\n",
            "Epoch 406/500\n",
            "2/2 [==============================] - 0s 6ms/step - loss: 17.5468 - mae: 17.5468\n",
            "Epoch 407/500\n",
            "2/2 [==============================] - 0s 7ms/step - loss: 11.0704 - mae: 11.0704\n",
            "Epoch 408/500\n",
            "2/2 [==============================] - 0s 7ms/step - loss: 21.1799 - mae: 21.1799\n",
            "Epoch 409/500\n",
            "2/2 [==============================] - 0s 7ms/step - loss: 29.9974 - mae: 29.9974\n",
            "Epoch 410/500\n",
            "2/2 [==============================] - 0s 8ms/step - loss: 9.9056 - mae: 9.9056\n",
            "Epoch 411/500\n",
            "2/2 [==============================] - 0s 7ms/step - loss: 14.7618 - mae: 14.7618\n",
            "Epoch 412/500\n",
            "2/2 [==============================] - 0s 7ms/step - loss: 21.5453 - mae: 21.5453\n",
            "Epoch 413/500\n",
            "2/2 [==============================] - 0s 6ms/step - loss: 13.1480 - mae: 13.1480\n",
            "Epoch 414/500\n",
            "2/2 [==============================] - 0s 6ms/step - loss: 8.2764 - mae: 8.2764\n",
            "Epoch 415/500\n",
            "2/2 [==============================] - 0s 7ms/step - loss: 11.6933 - mae: 11.6933\n",
            "Epoch 416/500\n",
            "2/2 [==============================] - 0s 8ms/step - loss: 25.6101 - mae: 25.6101\n",
            "Epoch 417/500\n",
            "2/2 [==============================] - 0s 7ms/step - loss: 15.7672 - mae: 15.7672\n",
            "Epoch 418/500\n",
            "2/2 [==============================] - 0s 9ms/step - loss: 12.5743 - mae: 12.5743\n",
            "Epoch 419/500\n",
            "2/2 [==============================] - 0s 7ms/step - loss: 15.7263 - mae: 15.7263\n",
            "Epoch 420/500\n",
            "2/2 [==============================] - 0s 7ms/step - loss: 24.4217 - mae: 24.4217\n",
            "Epoch 421/500\n",
            "2/2 [==============================] - 0s 8ms/step - loss: 18.2905 - mae: 18.2905\n",
            "Epoch 422/500\n",
            "2/2 [==============================] - 0s 14ms/step - loss: 8.6576 - mae: 8.6576\n",
            "Epoch 423/500\n",
            "2/2 [==============================] - 0s 10ms/step - loss: 24.6317 - mae: 24.6317\n",
            "Epoch 424/500\n",
            "2/2 [==============================] - 0s 7ms/step - loss: 16.8879 - mae: 16.8879\n",
            "Epoch 425/500\n",
            "2/2 [==============================] - 0s 7ms/step - loss: 7.3565 - mae: 7.3565\n",
            "Epoch 426/500\n",
            "2/2 [==============================] - 0s 6ms/step - loss: 21.0799 - mae: 21.0799\n",
            "Epoch 427/500\n",
            "2/2 [==============================] - 0s 7ms/step - loss: 6.5344 - mae: 6.5344\n",
            "Epoch 428/500\n",
            "2/2 [==============================] - 0s 7ms/step - loss: 13.5029 - mae: 13.5029\n",
            "Epoch 429/500\n",
            "2/2 [==============================] - 0s 7ms/step - loss: 11.2247 - mae: 11.2247\n",
            "Epoch 430/500\n",
            "2/2 [==============================] - 0s 7ms/step - loss: 12.1280 - mae: 12.1280\n",
            "Epoch 431/500\n",
            "2/2 [==============================] - 0s 7ms/step - loss: 9.1280 - mae: 9.1280\n",
            "Epoch 432/500\n",
            "2/2 [==============================] - 0s 7ms/step - loss: 15.6675 - mae: 15.6675\n",
            "Epoch 433/500\n",
            "2/2 [==============================] - 0s 7ms/step - loss: 11.9598 - mae: 11.9598\n",
            "Epoch 434/500\n",
            "2/2 [==============================] - 0s 6ms/step - loss: 30.4636 - mae: 30.4636\n",
            "Epoch 435/500\n",
            "2/2 [==============================] - 0s 7ms/step - loss: 10.5316 - mae: 10.5316\n",
            "Epoch 436/500\n",
            "2/2 [==============================] - 0s 7ms/step - loss: 28.9570 - mae: 28.9570\n",
            "Epoch 437/500\n",
            "2/2 [==============================] - 0s 8ms/step - loss: 8.6865 - mae: 8.6865\n",
            "Epoch 438/500\n",
            "2/2 [==============================] - 0s 8ms/step - loss: 12.7544 - mae: 12.7544\n",
            "Epoch 439/500\n",
            "2/2 [==============================] - 0s 9ms/step - loss: 33.7208 - mae: 33.7208\n",
            "Epoch 440/500\n",
            "2/2 [==============================] - 0s 12ms/step - loss: 15.1665 - mae: 15.1665\n",
            "Epoch 441/500\n",
            "2/2 [==============================] - 0s 13ms/step - loss: 17.5329 - mae: 17.5329\n",
            "Epoch 442/500\n",
            "2/2 [==============================] - 0s 11ms/step - loss: 22.4146 - mae: 22.4146\n",
            "Epoch 443/500\n",
            "2/2 [==============================] - 0s 15ms/step - loss: 23.3205 - mae: 23.3205\n",
            "Epoch 444/500\n",
            "2/2 [==============================] - 0s 13ms/step - loss: 10.7881 - mae: 10.7881\n",
            "Epoch 445/500\n",
            "2/2 [==============================] - 0s 12ms/step - loss: 14.9791 - mae: 14.9791\n",
            "Epoch 446/500\n",
            "2/2 [==============================] - 0s 15ms/step - loss: 18.0871 - mae: 18.0871\n",
            "Epoch 447/500\n",
            "2/2 [==============================] - 0s 11ms/step - loss: 5.3530 - mae: 5.3530\n",
            "Epoch 448/500\n",
            "2/2 [==============================] - 0s 13ms/step - loss: 10.1330 - mae: 10.1330\n",
            "Epoch 449/500\n",
            "2/2 [==============================] - 0s 11ms/step - loss: 14.0689 - mae: 14.0689\n",
            "Epoch 450/500\n",
            "2/2 [==============================] - 0s 10ms/step - loss: 16.8396 - mae: 16.8396\n",
            "Epoch 451/500\n",
            "2/2 [==============================] - 0s 6ms/step - loss: 14.3189 - mae: 14.3189\n",
            "Epoch 452/500\n",
            "2/2 [==============================] - 0s 9ms/step - loss: 30.6723 - mae: 30.6723\n",
            "Epoch 453/500\n",
            "2/2 [==============================] - 0s 9ms/step - loss: 8.3998 - mae: 8.3998\n",
            "Epoch 454/500\n",
            "2/2 [==============================] - 0s 8ms/step - loss: 27.5759 - mae: 27.5759\n",
            "Epoch 455/500\n",
            "2/2 [==============================] - 0s 11ms/step - loss: 10.1259 - mae: 10.1259\n",
            "Epoch 456/500\n",
            "2/2 [==============================] - 0s 8ms/step - loss: 14.5349 - mae: 14.5349\n",
            "Epoch 457/500\n",
            "2/2 [==============================] - 0s 7ms/step - loss: 17.6834 - mae: 17.6834\n",
            "Epoch 458/500\n",
            "2/2 [==============================] - 0s 10ms/step - loss: 14.0038 - mae: 14.0038\n",
            "Epoch 459/500\n",
            "2/2 [==============================] - 0s 13ms/step - loss: 25.8775 - mae: 25.8775\n",
            "Epoch 460/500\n",
            "2/2 [==============================] - 0s 9ms/step - loss: 15.1042 - mae: 15.1042\n",
            "Epoch 461/500\n",
            "2/2 [==============================] - 0s 12ms/step - loss: 11.9039 - mae: 11.9039\n",
            "Epoch 462/500\n",
            "2/2 [==============================] - 0s 11ms/step - loss: 13.2620 - mae: 13.2620\n",
            "Epoch 463/500\n",
            "2/2 [==============================] - 0s 7ms/step - loss: 29.4363 - mae: 29.4363\n",
            "Epoch 464/500\n",
            "2/2 [==============================] - 0s 8ms/step - loss: 3.2526 - mae: 3.2526\n",
            "Epoch 465/500\n",
            "2/2 [==============================] - 0s 9ms/step - loss: 40.4402 - mae: 40.4402\n",
            "Epoch 466/500\n",
            "2/2 [==============================] - 0s 8ms/step - loss: 18.4772 - mae: 18.4772\n",
            "Epoch 467/500\n",
            "2/2 [==============================] - 0s 7ms/step - loss: 8.6264 - mae: 8.6264\n",
            "Epoch 468/500\n",
            "2/2 [==============================] - 0s 8ms/step - loss: 6.6591 - mae: 6.6591\n",
            "Epoch 469/500\n",
            "2/2 [==============================] - 0s 8ms/step - loss: 29.5863 - mae: 29.5863\n",
            "Epoch 470/500\n",
            "2/2 [==============================] - 0s 9ms/step - loss: 15.4045 - mae: 15.4045\n",
            "Epoch 471/500\n",
            "2/2 [==============================] - 0s 8ms/step - loss: 12.3288 - mae: 12.3288\n",
            "Epoch 472/500\n",
            "2/2 [==============================] - 0s 7ms/step - loss: 15.4470 - mae: 15.4470\n",
            "Epoch 473/500\n",
            "2/2 [==============================] - 0s 7ms/step - loss: 19.4060 - mae: 19.4060\n",
            "Epoch 474/500\n",
            "2/2 [==============================] - 0s 10ms/step - loss: 38.6912 - mae: 38.6912\n",
            "Epoch 475/500\n",
            "2/2 [==============================] - 0s 12ms/step - loss: 15.6417 - mae: 15.6417\n",
            "Epoch 476/500\n",
            "2/2 [==============================] - 0s 12ms/step - loss: 13.4993 - mae: 13.4993\n",
            "Epoch 477/500\n",
            "2/2 [==============================] - 0s 11ms/step - loss: 29.8652 - mae: 29.8652\n",
            "Epoch 478/500\n",
            "2/2 [==============================] - 0s 9ms/step - loss: 4.8449 - mae: 4.8449\n",
            "Epoch 479/500\n",
            "2/2 [==============================] - 0s 12ms/step - loss: 13.0274 - mae: 13.0274\n",
            "Epoch 480/500\n",
            "2/2 [==============================] - 0s 9ms/step - loss: 19.2046 - mae: 19.2046\n",
            "Epoch 481/500\n",
            "2/2 [==============================] - 0s 8ms/step - loss: 13.0569 - mae: 13.0569\n",
            "Epoch 482/500\n",
            "2/2 [==============================] - 0s 9ms/step - loss: 6.8318 - mae: 6.8318\n",
            "Epoch 483/500\n",
            "2/2 [==============================] - 0s 8ms/step - loss: 13.2065 - mae: 13.2065\n",
            "Epoch 484/500\n",
            "2/2 [==============================] - 0s 10ms/step - loss: 14.0854 - mae: 14.0854\n",
            "Epoch 485/500\n",
            "2/2 [==============================] - 0s 9ms/step - loss: 9.2973 - mae: 9.2973\n",
            "Epoch 486/500\n",
            "2/2 [==============================] - 0s 10ms/step - loss: 18.4691 - mae: 18.4691\n",
            "Epoch 487/500\n",
            "2/2 [==============================] - 0s 9ms/step - loss: 6.2411 - mae: 6.2411\n",
            "Epoch 488/500\n",
            "2/2 [==============================] - 0s 9ms/step - loss: 29.6069 - mae: 29.6069\n",
            "Epoch 489/500\n",
            "2/2 [==============================] - 0s 11ms/step - loss: 12.7303 - mae: 12.7303\n",
            "Epoch 490/500\n",
            "2/2 [==============================] - 0s 8ms/step - loss: 13.1397 - mae: 13.1397\n",
            "Epoch 491/500\n",
            "2/2 [==============================] - 0s 13ms/step - loss: 24.4323 - mae: 24.4323\n",
            "Epoch 492/500\n",
            "2/2 [==============================] - 0s 8ms/step - loss: 18.4658 - mae: 18.4658\n",
            "Epoch 493/500\n",
            "2/2 [==============================] - 0s 7ms/step - loss: 4.7445 - mae: 4.7445\n",
            "Epoch 494/500\n",
            "2/2 [==============================] - 0s 8ms/step - loss: 11.8509 - mae: 11.8509\n",
            "Epoch 495/500\n",
            "2/2 [==============================] - 0s 7ms/step - loss: 13.7703 - mae: 13.7703\n",
            "Epoch 496/500\n",
            "2/2 [==============================] - 0s 7ms/step - loss: 12.9473 - mae: 12.9473\n",
            "Epoch 497/500\n",
            "2/2 [==============================] - 0s 11ms/step - loss: 18.1106 - mae: 18.1106\n",
            "Epoch 498/500\n",
            "2/2 [==============================] - 0s 11ms/step - loss: 22.4563 - mae: 22.4563\n",
            "Epoch 499/500\n",
            "2/2 [==============================] - 0s 11ms/step - loss: 8.2821 - mae: 8.2821\n",
            "Epoch 500/500\n",
            "2/2 [==============================] - 0s 8ms/step - loss: 14.1633 - mae: 14.1633\n"
          ]
        },
        {
          "output_type": "execute_result",
          "data": {
            "text/plain": [
              "<keras.callbacks.History at 0x7fb85c464cd0>"
            ]
          },
          "metadata": {},
          "execution_count": 131
        }
      ]
    },
    {
      "cell_type": "code",
      "source": [
        "# Make and plot predictions\n",
        "y_preds_3 = model_3.predict(X_test)\n",
        "plot_predictions(predictions=y_preds_3)"
      ],
      "metadata": {
        "colab": {
          "base_uri": "https://localhost:8080/",
          "height": 616
        },
        "id": "M884J_Ft1OzU",
        "outputId": "4b3009c3-9a4d-4d89-de05-2c6a87224b47"
      },
      "execution_count": 133,
      "outputs": [
        {
          "output_type": "stream",
          "name": "stdout",
          "text": [
            "1/1 [==============================] - 0s 85ms/step\n"
          ]
        },
        {
          "output_type": "display_data",
          "data": {
            "text/plain": [
              "<Figure size 1000x700 with 1 Axes>"
            ],
            "image/png": "[encoded data removed]"
          },
          "metadata": {}
        }
      ]
    },
    {
      "cell_type": "code",
      "source": [
        "# Calculate model_3 evaluation metrics\n",
        "mae_3 = mae(y_test, y_preds_3)\n",
        "mse_3 = mse(y_test, y_preds_3)\n",
        "mae_3, mse_3"
      ],
      "metadata": {
        "colab": {
          "base_uri": "https://localhost:8080/"
        },
        "id": "F0CoeBO21fnZ",
        "outputId": "70e550b7-4250-41e0-eab5-6a6abc9e3452"
      },
      "execution_count": 135,
      "outputs": [
        {
          "output_type": "execute_result",
          "data": {
            "text/plain": [
              "(<tf.Tensor: shape=(), dtype=float32, numpy=67.19886>,\n",
              " <tf.Tensor: shape=(), dtype=float32, numpy=4598.2607>)"
            ]
          },
          "metadata": {},
          "execution_count": 135
        }
      ]
    },
    {
      "cell_type": "markdown",
      "source": [
        "**model_4**\n",
        "\n",
        "- 3 dense layers created for 100 epochs"
      ],
      "metadata": {
        "id": "GcNjpsi33qoh"
      }
    },
    {
      "cell_type": "code",
      "source": [
        "# Set random seed\n",
        "tf.random.set_seed(42)\n",
        "\n",
        "# 1. Create model\n",
        "model_4 = tf.keras.Sequential([\n",
        "    tf.keras.layers.Dense(10),\n",
        "    tf.keras.layers.Dense(5),\n",
        "    tf.keras.layers.Dense(1)\n",
        "])\n",
        "\n",
        "# 2. Compile model\n",
        "model_4.compile(loss=tf.keras.losses.mae,\n",
        "                optimizer=tf.keras.optimizers.SGD(),\n",
        "                metrics=[\"mae\"])\n",
        "\n",
        "# 3. Fit model\n",
        "model_4.fit(tf.expand_dims(X_train, -1), y_train, epochs=100)"
      ],
      "metadata": {
        "colab": {
          "base_uri": "https://localhost:8080/"
        },
        "id": "aEiJMVIH3st0",
        "outputId": "dc21592e-7024-4c6d-a507-874db992022b"
      },
      "execution_count": 137,
      "outputs": [
        {
          "output_type": "stream",
          "name": "stdout",
          "text": [
            "Epoch 1/100\n",
            "2/2 [==============================] - 1s 11ms/step - loss: 16.7004 - mae: 16.7004\n",
            "Epoch 2/100\n",
            "2/2 [==============================] - 0s 7ms/step - loss: 60.1400 - mae: 60.1400\n",
            "Epoch 3/100\n",
            "2/2 [==============================] - 0s 7ms/step - loss: 19.7759 - mae: 19.7759\n",
            "Epoch 4/100\n",
            "2/2 [==============================] - 0s 7ms/step - loss: 36.2249 - mae: 36.2249\n",
            "Epoch 5/100\n",
            "2/2 [==============================] - 0s 7ms/step - loss: 18.0014 - mae: 18.0014\n",
            "Epoch 6/100\n",
            "2/2 [==============================] - 0s 8ms/step - loss: 28.8562 - mae: 28.8562\n",
            "Epoch 7/100\n",
            "2/2 [==============================] - 0s 9ms/step - loss: 18.9473 - mae: 18.9473\n",
            "Epoch 8/100\n",
            "2/2 [==============================] - 0s 8ms/step - loss: 18.5098 - mae: 18.5098\n",
            "Epoch 9/100\n",
            "2/2 [==============================] - 0s 7ms/step - loss: 39.7707 - mae: 39.7707\n",
            "Epoch 10/100\n",
            "2/2 [==============================] - 0s 7ms/step - loss: 37.1987 - mae: 37.1987\n",
            "Epoch 11/100\n",
            "2/2 [==============================] - 0s 8ms/step - loss: 27.1170 - mae: 27.1170\n",
            "Epoch 12/100\n",
            "2/2 [==============================] - 0s 9ms/step - loss: 31.3692 - mae: 31.3692\n",
            "Epoch 13/100\n",
            "2/2 [==============================] - 0s 7ms/step - loss: 17.3708 - mae: 17.3708\n",
            "Epoch 14/100\n",
            "2/2 [==============================] - 0s 7ms/step - loss: 27.8407 - mae: 27.8407\n",
            "Epoch 15/100\n",
            "2/2 [==============================] - 0s 9ms/step - loss: 19.9982 - mae: 19.9982\n",
            "Epoch 16/100\n",
            "2/2 [==============================] - 0s 7ms/step - loss: 19.5223 - mae: 19.5223\n",
            "Epoch 17/100\n",
            "2/2 [==============================] - 0s 9ms/step - loss: 20.8497 - mae: 20.8497\n",
            "Epoch 18/100\n",
            "2/2 [==============================] - 0s 10ms/step - loss: 29.2219 - mae: 29.2219\n",
            "Epoch 19/100\n",
            "2/2 [==============================] - 0s 9ms/step - loss: 21.0800 - mae: 21.0800\n",
            "Epoch 20/100\n",
            "2/2 [==============================] - 0s 9ms/step - loss: 27.7667 - mae: 27.7667\n",
            "Epoch 21/100\n",
            "2/2 [==============================] - 0s 9ms/step - loss: 19.7260 - mae: 19.7260\n",
            "Epoch 22/100\n",
            "2/2 [==============================] - 0s 8ms/step - loss: 13.1964 - mae: 13.1964\n",
            "Epoch 23/100\n",
            "2/2 [==============================] - 0s 8ms/step - loss: 21.3048 - mae: 21.3048\n",
            "Epoch 24/100\n",
            "2/2 [==============================] - 0s 16ms/step - loss: 24.6773 - mae: 24.6773\n",
            "Epoch 25/100\n",
            "2/2 [==============================] - 0s 11ms/step - loss: 30.6655 - mae: 30.6655\n",
            "Epoch 26/100\n",
            "2/2 [==============================] - 0s 16ms/step - loss: 17.2157 - mae: 17.2157\n",
            "Epoch 27/100\n",
            "2/2 [==============================] - 0s 10ms/step - loss: 31.8088 - mae: 31.8088\n",
            "Epoch 28/100\n",
            "2/2 [==============================] - 0s 9ms/step - loss: 13.3929 - mae: 13.3929\n",
            "Epoch 29/100\n",
            "2/2 [==============================] - 0s 11ms/step - loss: 26.0232 - mae: 26.0232\n",
            "Epoch 30/100\n",
            "2/2 [==============================] - 0s 14ms/step - loss: 33.4530 - mae: 33.4530\n",
            "Epoch 31/100\n",
            "2/2 [==============================] - 0s 8ms/step - loss: 14.5097 - mae: 14.5097\n",
            "Epoch 32/100\n",
            "2/2 [==============================] - 0s 11ms/step - loss: 10.3326 - mae: 10.3326\n",
            "Epoch 33/100\n",
            "2/2 [==============================] - 0s 8ms/step - loss: 12.6550 - mae: 12.6550\n",
            "Epoch 34/100\n",
            "2/2 [==============================] - 0s 8ms/step - loss: 19.1378 - mae: 19.1378\n",
            "Epoch 35/100\n",
            "2/2 [==============================] - 0s 8ms/step - loss: 20.3347 - mae: 20.3347\n",
            "Epoch 36/100\n",
            "2/2 [==============================] - 0s 8ms/step - loss: 32.9940 - mae: 32.9940\n",
            "Epoch 37/100\n",
            "2/2 [==============================] - 0s 8ms/step - loss: 17.4148 - mae: 17.4148\n",
            "Epoch 38/100\n",
            "2/2 [==============================] - 0s 10ms/step - loss: 27.7957 - mae: 27.7957\n",
            "Epoch 39/100\n",
            "2/2 [==============================] - 0s 15ms/step - loss: 11.9358 - mae: 11.9358\n",
            "Epoch 40/100\n",
            "2/2 [==============================] - 0s 9ms/step - loss: 20.4896 - mae: 20.4896\n",
            "Epoch 41/100\n",
            "2/2 [==============================] - 0s 12ms/step - loss: 18.7814 - mae: 18.7814\n",
            "Epoch 42/100\n",
            "2/2 [==============================] - 0s 13ms/step - loss: 13.1202 - mae: 13.1202\n",
            "Epoch 43/100\n",
            "2/2 [==============================] - 0s 15ms/step - loss: 10.9601 - mae: 10.9601\n",
            "Epoch 44/100\n",
            "2/2 [==============================] - 0s 10ms/step - loss: 37.6980 - mae: 37.6980\n",
            "Epoch 45/100\n",
            "2/2 [==============================] - 0s 9ms/step - loss: 20.9897 - mae: 20.9897\n",
            "Epoch 46/100\n",
            "2/2 [==============================] - 0s 23ms/step - loss: 20.3568 - mae: 20.3568\n",
            "Epoch 47/100\n",
            "2/2 [==============================] - 0s 8ms/step - loss: 12.7224 - mae: 12.7224\n",
            "Epoch 48/100\n",
            "2/2 [==============================] - 0s 9ms/step - loss: 25.8439 - mae: 25.8439\n",
            "Epoch 49/100\n",
            "2/2 [==============================] - 0s 9ms/step - loss: 12.4225 - mae: 12.4225\n",
            "Epoch 50/100\n",
            "2/2 [==============================] - 0s 9ms/step - loss: 16.0673 - mae: 16.0673\n",
            "Epoch 51/100\n",
            "2/2 [==============================] - 0s 10ms/step - loss: 15.2573 - mae: 15.2573\n",
            "Epoch 52/100\n",
            "2/2 [==============================] - 0s 10ms/step - loss: 38.6307 - mae: 38.6307\n",
            "Epoch 53/100\n",
            "2/2 [==============================] - 0s 11ms/step - loss: 34.4268 - mae: 34.4268\n",
            "Epoch 54/100\n",
            "2/2 [==============================] - 0s 11ms/step - loss: 17.2539 - mae: 17.2539\n",
            "Epoch 55/100\n",
            "2/2 [==============================] - 0s 16ms/step - loss: 32.9790 - mae: 32.9790\n",
            "Epoch 56/100\n",
            "2/2 [==============================] - 0s 17ms/step - loss: 15.9451 - mae: 15.9451\n",
            "Epoch 57/100\n",
            "2/2 [==============================] - 0s 12ms/step - loss: 29.3550 - mae: 29.3550\n",
            "Epoch 58/100\n",
            "2/2 [==============================] - 0s 11ms/step - loss: 9.6965 - mae: 9.6965\n",
            "Epoch 59/100\n",
            "2/2 [==============================] - 0s 19ms/step - loss: 11.2759 - mae: 11.2759\n",
            "Epoch 60/100\n",
            "2/2 [==============================] - 0s 9ms/step - loss: 10.0273 - mae: 10.0273\n",
            "Epoch 61/100\n",
            "2/2 [==============================] - 0s 10ms/step - loss: 12.5424 - mae: 12.5424\n",
            "Epoch 62/100\n",
            "2/2 [==============================] - 0s 10ms/step - loss: 13.2018 - mae: 13.2018\n",
            "Epoch 63/100\n",
            "2/2 [==============================] - 0s 9ms/step - loss: 14.1923 - mae: 14.1923\n",
            "Epoch 64/100\n",
            "2/2 [==============================] - 0s 10ms/step - loss: 11.0769 - mae: 11.0769\n",
            "Epoch 65/100\n",
            "2/2 [==============================] - 0s 10ms/step - loss: 12.0287 - mae: 12.0287\n",
            "Epoch 66/100\n",
            "2/2 [==============================] - 0s 9ms/step - loss: 30.6019 - mae: 30.6019\n",
            "Epoch 67/100\n",
            "2/2 [==============================] - 0s 9ms/step - loss: 19.7728 - mae: 19.7728\n",
            "Epoch 68/100\n",
            "2/2 [==============================] - 0s 18ms/step - loss: 20.3866 - mae: 20.3866\n",
            "Epoch 69/100\n",
            "2/2 [==============================] - 0s 9ms/step - loss: 30.0801 - mae: 30.0801\n",
            "Epoch 70/100\n",
            "2/2 [==============================] - 0s 11ms/step - loss: 8.0714 - mae: 8.0714\n",
            "Epoch 71/100\n",
            "2/2 [==============================] - 0s 9ms/step - loss: 31.4757 - mae: 31.4757\n",
            "Epoch 72/100\n",
            "2/2 [==============================] - 0s 9ms/step - loss: 19.5106 - mae: 19.5106\n",
            "Epoch 73/100\n",
            "2/2 [==============================] - 0s 9ms/step - loss: 15.0636 - mae: 15.0636\n",
            "Epoch 74/100\n",
            "2/2 [==============================] - 0s 9ms/step - loss: 32.3069 - mae: 32.3069\n",
            "Epoch 75/100\n",
            "2/2 [==============================] - 0s 10ms/step - loss: 16.3329 - mae: 16.3329\n",
            "Epoch 76/100\n",
            "2/2 [==============================] - 0s 10ms/step - loss: 33.3722 - mae: 33.3722\n",
            "Epoch 77/100\n",
            "2/2 [==============================] - 0s 20ms/step - loss: 17.8349 - mae: 17.8349\n",
            "Epoch 78/100\n",
            "2/2 [==============================] - 0s 15ms/step - loss: 31.5310 - mae: 31.5310\n",
            "Epoch 79/100\n",
            "2/2 [==============================] - 0s 9ms/step - loss: 11.1572 - mae: 11.1572\n",
            "Epoch 80/100\n",
            "2/2 [==============================] - 0s 10ms/step - loss: 37.3076 - mae: 37.3076\n",
            "Epoch 81/100\n",
            "2/2 [==============================] - 0s 9ms/step - loss: 30.7069 - mae: 30.7069\n",
            "Epoch 82/100\n",
            "2/2 [==============================] - 0s 18ms/step - loss: 16.3810 - mae: 16.3810\n",
            "Epoch 83/100\n",
            "2/2 [==============================] - 0s 10ms/step - loss: 25.9622 - mae: 25.9622\n",
            "Epoch 84/100\n",
            "2/2 [==============================] - 0s 10ms/step - loss: 14.4559 - mae: 14.4559\n",
            "Epoch 85/100\n",
            "2/2 [==============================] - 0s 10ms/step - loss: 31.8718 - mae: 31.8718\n",
            "Epoch 86/100\n",
            "2/2 [==============================] - 0s 15ms/step - loss: 18.6880 - mae: 18.6880\n",
            "Epoch 87/100\n",
            "2/2 [==============================] - 0s 10ms/step - loss: 29.6278 - mae: 29.6278\n",
            "Epoch 88/100\n",
            "2/2 [==============================] - 0s 10ms/step - loss: 13.0634 - mae: 13.0634\n",
            "Epoch 89/100\n",
            "2/2 [==============================] - 0s 12ms/step - loss: 13.1295 - mae: 13.1295\n",
            "Epoch 90/100\n",
            "2/2 [==============================] - 0s 12ms/step - loss: 29.1056 - mae: 29.1056\n",
            "Epoch 91/100\n",
            "2/2 [==============================] - 0s 13ms/step - loss: 18.7511 - mae: 18.7511\n",
            "Epoch 92/100\n",
            "2/2 [==============================] - 0s 8ms/step - loss: 13.3767 - mae: 13.3767\n",
            "Epoch 93/100\n",
            "2/2 [==============================] - 0s 12ms/step - loss: 12.7480 - mae: 12.7480\n",
            "Epoch 94/100\n",
            "2/2 [==============================] - 0s 11ms/step - loss: 12.7904 - mae: 12.7904\n",
            "Epoch 95/100\n",
            "2/2 [==============================] - 0s 11ms/step - loss: 24.1870 - mae: 24.1870\n",
            "Epoch 96/100\n",
            "2/2 [==============================] - 0s 11ms/step - loss: 21.6375 - mae: 21.6375\n",
            "Epoch 97/100\n",
            "2/2 [==============================] - 0s 14ms/step - loss: 56.3481 - mae: 56.3481\n",
            "Epoch 98/100\n",
            "2/2 [==============================] - 0s 12ms/step - loss: 25.9664 - mae: 25.9664\n",
            "Epoch 99/100\n",
            "2/2 [==============================] - 0s 10ms/step - loss: 27.0724 - mae: 27.0724\n",
            "Epoch 100/100\n",
            "2/2 [==============================] - 0s 8ms/step - loss: 16.9141 - mae: 16.9141\n"
          ]
        },
        {
          "output_type": "execute_result",
          "data": {
            "text/plain": [
              "<keras.callbacks.History at 0x7fb84f2b94b0>"
            ]
          },
          "metadata": {},
          "execution_count": 137
        }
      ]
    },
    {
      "cell_type": "code",
      "source": [
        "# Make and plot predictions\n",
        "y_preds_4 = model_4.predict(X_test)\n",
        "plot_predictions(predictions=y_preds_4)"
      ],
      "metadata": {
        "colab": {
          "base_uri": "https://localhost:8080/",
          "height": 616
        },
        "id": "oEdRKwP34Cgj",
        "outputId": "3774a303-edcd-4694-ac59-9960ca2701bf"
      },
      "execution_count": 138,
      "outputs": [
        {
          "output_type": "stream",
          "name": "stdout",
          "text": [
            "1/1 [==============================] - 0s 102ms/step\n"
          ]
        },
        {
          "output_type": "display_data",
          "data": {
            "text/plain": [
              "<Figure size 1000x700 with 1 Axes>"
            ],
            "image/png": "[encoded data removed]"
          },
          "metadata": {}
        }
      ]
    },
    {
      "cell_type": "code",
      "source": [
        "# Calculate model_4 evaluation metrics\n",
        "mae_4 = mae(y_test, y_preds_4)\n",
        "mse_4 = mse(y_test, y_preds_4)\n",
        "mae_4, mse_4"
      ],
      "metadata": {
        "colab": {
          "base_uri": "https://localhost:8080/"
        },
        "id": "vlhDVAmO4S4-",
        "outputId": "17a29ee7-894f-49e3-a42c-6b532e7587fa"
      },
      "execution_count": 140,
      "outputs": [
        {
          "output_type": "execute_result",
          "data": {
            "text/plain": [
              "(<tf.Tensor: shape=(), dtype=float32, numpy=75.753944>,\n",
              " <tf.Tensor: shape=(), dtype=float32, numpy=5834.983>)"
            ]
          },
          "metadata": {},
          "execution_count": 140
        }
      ]
    },
    {
      "cell_type": "markdown",
      "source": [
        "**model_5**\n",
        "2 dense layers for 100 epochs but w/ Adam optimization lr=0.0001"
      ],
      "metadata": {
        "id": "4zSkVEZt4bGw"
      }
    },
    {
      "cell_type": "code",
      "source": [
        "# Set random seed\n",
        "tf.random.set_seed(42)\n",
        "\n",
        "# 1. Create model\n",
        "model_5 = tf.keras.Sequential([\n",
        "    tf.keras.layers.Dense(10),\n",
        "    tf.keras.layers.Dense(1)\n",
        "])\n",
        "\n",
        "# 2. Compile model\n",
        "model_5.compile(loss=tf.keras.losses.mae,\n",
        "                optimizer=tf.keras.optimizers.Adam(lr=0.001),\n",
        "                metrics=[\"mae\"])\n",
        "\n",
        "# 3. Fit model\n",
        "model_5.fit(tf.expand_dims(X_train, -1), y_train, epochs=100)"
      ],
      "metadata": {
        "colab": {
          "base_uri": "https://localhost:8080/"
        },
        "id": "meicz1Kl4rtj",
        "outputId": "0cbf70f1-112e-4d15-ea81-2da5e5fbca3d"
      },
      "execution_count": 141,
      "outputs": [
        {
          "output_type": "stream",
          "name": "stderr",
          "text": [
            "WARNING:absl:`lr` is deprecated in Keras optimizer, please use `learning_rate` or use the legacy optimizer, e.g.,tf.keras.optimizers.legacy.Adam.\n"
          ]
        },
        {
          "output_type": "stream",
          "name": "stdout",
          "text": [
            "Epoch 1/100\n",
            "2/2 [==============================] - 1s 12ms/step - loss: 53.5334 - mae: 53.5334\n",
            "Epoch 2/100\n",
            "2/2 [==============================] - 0s 7ms/step - loss: 52.9796 - mae: 52.9796\n",
            "Epoch 3/100\n",
            "2/2 [==============================] - 0s 8ms/step - loss: 52.4444 - mae: 52.4444\n",
            "Epoch 4/100\n",
            "2/2 [==============================] - 0s 7ms/step - loss: 51.9005 - mae: 51.9005\n",
            "Epoch 5/100\n",
            "2/2 [==============================] - 0s 7ms/step - loss: 51.3684 - mae: 51.3684\n",
            "Epoch 6/100\n",
            "2/2 [==============================] - 0s 9ms/step - loss: 50.8353 - mae: 50.8353\n",
            "Epoch 7/100\n",
            "2/2 [==============================] - 0s 8ms/step - loss: 50.2974 - mae: 50.2974\n",
            "Epoch 8/100\n",
            "2/2 [==============================] - 0s 7ms/step - loss: 49.7417 - mae: 49.7417\n",
            "Epoch 9/100\n",
            "2/2 [==============================] - 0s 8ms/step - loss: 49.2212 - mae: 49.2212\n",
            "Epoch 10/100\n",
            "2/2 [==============================] - 0s 7ms/step - loss: 48.7004 - mae: 48.7004\n",
            "Epoch 11/100\n",
            "2/2 [==============================] - 0s 7ms/step - loss: 48.1384 - mae: 48.1384\n",
            "Epoch 12/100\n",
            "2/2 [==============================] - 0s 7ms/step - loss: 47.6105 - mae: 47.6105\n",
            "Epoch 13/100\n",
            "2/2 [==============================] - 0s 7ms/step - loss: 47.0542 - mae: 47.0542\n",
            "Epoch 14/100\n",
            "2/2 [==============================] - 0s 9ms/step - loss: 46.5242 - mae: 46.5242\n",
            "Epoch 15/100\n",
            "2/2 [==============================] - 0s 9ms/step - loss: 45.9938 - mae: 45.9938\n",
            "Epoch 16/100\n",
            "2/2 [==============================] - 0s 9ms/step - loss: 45.4402 - mae: 45.4402\n",
            "Epoch 17/100\n",
            "2/2 [==============================] - 0s 7ms/step - loss: 44.8965 - mae: 44.8965\n",
            "Epoch 18/100\n",
            "2/2 [==============================] - 0s 7ms/step - loss: 44.3585 - mae: 44.3585\n",
            "Epoch 19/100\n",
            "2/2 [==============================] - 0s 10ms/step - loss: 43.8301 - mae: 43.8301\n",
            "Epoch 20/100\n",
            "2/2 [==============================] - 0s 8ms/step - loss: 43.2809 - mae: 43.2809\n",
            "Epoch 21/100\n",
            "2/2 [==============================] - 0s 8ms/step - loss: 42.7414 - mae: 42.7414\n",
            "Epoch 22/100\n",
            "2/2 [==============================] - 0s 7ms/step - loss: 42.2219 - mae: 42.2219\n",
            "Epoch 23/100\n",
            "2/2 [==============================] - 0s 8ms/step - loss: 41.6842 - mae: 41.6842\n",
            "Epoch 24/100\n",
            "2/2 [==============================] - 0s 9ms/step - loss: 41.1417 - mae: 41.1417\n",
            "Epoch 25/100\n",
            "2/2 [==============================] - 0s 8ms/step - loss: 40.6046 - mae: 40.6046\n",
            "Epoch 26/100\n",
            "2/2 [==============================] - 0s 7ms/step - loss: 40.0801 - mae: 40.0801\n",
            "Epoch 27/100\n",
            "2/2 [==============================] - 0s 7ms/step - loss: 39.5275 - mae: 39.5275\n",
            "Epoch 28/100\n",
            "2/2 [==============================] - 0s 7ms/step - loss: 38.9998 - mae: 38.9998\n",
            "Epoch 29/100\n",
            "2/2 [==============================] - 0s 7ms/step - loss: 38.4242 - mae: 38.4242\n",
            "Epoch 30/100\n",
            "2/2 [==============================] - 0s 8ms/step - loss: 37.8599 - mae: 37.8599\n",
            "Epoch 31/100\n",
            "2/2 [==============================] - 0s 9ms/step - loss: 37.3333 - mae: 37.3333\n",
            "Epoch 32/100\n",
            "2/2 [==============================] - 0s 7ms/step - loss: 36.7595 - mae: 36.7595\n",
            "Epoch 33/100\n",
            "2/2 [==============================] - 0s 8ms/step - loss: 36.1939 - mae: 36.1939\n",
            "Epoch 34/100\n",
            "2/2 [==============================] - 0s 7ms/step - loss: 35.6450 - mae: 35.6450\n",
            "Epoch 35/100\n",
            "2/2 [==============================] - 0s 7ms/step - loss: 35.0745 - mae: 35.0745\n",
            "Epoch 36/100\n",
            "2/2 [==============================] - 0s 8ms/step - loss: 34.5456 - mae: 34.5456\n",
            "Epoch 37/100\n",
            "2/2 [==============================] - 0s 9ms/step - loss: 33.9916 - mae: 33.9916\n",
            "Epoch 38/100\n",
            "2/2 [==============================] - 0s 8ms/step - loss: 33.4593 - mae: 33.4593\n",
            "Epoch 39/100\n",
            "2/2 [==============================] - 0s 7ms/step - loss: 32.9312 - mae: 32.9312\n",
            "Epoch 40/100\n",
            "2/2 [==============================] - 0s 13ms/step - loss: 32.4004 - mae: 32.4004\n",
            "Epoch 41/100\n",
            "2/2 [==============================] - 0s 12ms/step - loss: 31.8668 - mae: 31.8668\n",
            "Epoch 42/100\n",
            "2/2 [==============================] - 0s 8ms/step - loss: 31.3472 - mae: 31.3472\n",
            "Epoch 43/100\n",
            "2/2 [==============================] - 0s 8ms/step - loss: 30.7849 - mae: 30.7849\n",
            "Epoch 44/100\n",
            "2/2 [==============================] - 0s 6ms/step - loss: 30.2693 - mae: 30.2693\n",
            "Epoch 45/100\n",
            "2/2 [==============================] - 0s 7ms/step - loss: 29.7266 - mae: 29.7266\n",
            "Epoch 46/100\n",
            "2/2 [==============================] - 0s 8ms/step - loss: 29.2077 - mae: 29.2077\n",
            "Epoch 47/100\n",
            "2/2 [==============================] - 0s 9ms/step - loss: 28.6522 - mae: 28.6522\n",
            "Epoch 48/100\n",
            "2/2 [==============================] - 0s 9ms/step - loss: 28.1236 - mae: 28.1236\n",
            "Epoch 49/100\n",
            "2/2 [==============================] - 0s 7ms/step - loss: 27.5932 - mae: 27.5932\n",
            "Epoch 50/100\n",
            "2/2 [==============================] - 0s 7ms/step - loss: 27.0679 - mae: 27.0679\n",
            "Epoch 51/100\n",
            "2/2 [==============================] - 0s 8ms/step - loss: 26.5052 - mae: 26.5052\n",
            "Epoch 52/100\n",
            "2/2 [==============================] - 0s 10ms/step - loss: 25.9813 - mae: 25.9813\n",
            "Epoch 53/100\n",
            "2/2 [==============================] - 0s 9ms/step - loss: 25.4146 - mae: 25.4146\n",
            "Epoch 54/100\n",
            "2/2 [==============================] - 0s 8ms/step - loss: 24.8636 - mae: 24.8636\n",
            "Epoch 55/100\n",
            "2/2 [==============================] - 0s 7ms/step - loss: 24.3229 - mae: 24.3229\n",
            "Epoch 56/100\n",
            "2/2 [==============================] - 0s 9ms/step - loss: 23.7459 - mae: 23.7459\n",
            "Epoch 57/100\n",
            "2/2 [==============================] - 0s 10ms/step - loss: 23.1967 - mae: 23.1967\n",
            "Epoch 58/100\n",
            "2/2 [==============================] - 0s 8ms/step - loss: 22.6318 - mae: 22.6318\n",
            "Epoch 59/100\n",
            "2/2 [==============================] - 0s 9ms/step - loss: 22.0749 - mae: 22.0749\n",
            "Epoch 60/100\n",
            "2/2 [==============================] - 0s 8ms/step - loss: 21.5265 - mae: 21.5265\n",
            "Epoch 61/100\n",
            "2/2 [==============================] - 0s 6ms/step - loss: 20.9718 - mae: 20.9718\n",
            "Epoch 62/100\n",
            "2/2 [==============================] - 0s 9ms/step - loss: 20.4256 - mae: 20.4256\n",
            "Epoch 63/100\n",
            "2/2 [==============================] - 0s 9ms/step - loss: 19.8841 - mae: 19.8841\n",
            "Epoch 64/100\n",
            "2/2 [==============================] - 0s 7ms/step - loss: 19.3392 - mae: 19.3392\n",
            "Epoch 65/100\n",
            "2/2 [==============================] - 0s 8ms/step - loss: 18.7903 - mae: 18.7903\n",
            "Epoch 66/100\n",
            "2/2 [==============================] - 0s 8ms/step - loss: 18.2467 - mae: 18.2467\n",
            "Epoch 67/100\n",
            "2/2 [==============================] - 0s 7ms/step - loss: 17.6987 - mae: 17.6987\n",
            "Epoch 68/100\n",
            "2/2 [==============================] - 0s 10ms/step - loss: 17.1437 - mae: 17.1437\n",
            "Epoch 69/100\n",
            "2/2 [==============================] - 0s 8ms/step - loss: 16.6100 - mae: 16.6100\n",
            "Epoch 70/100\n",
            "2/2 [==============================] - 0s 7ms/step - loss: 16.0753 - mae: 16.0753\n",
            "Epoch 71/100\n",
            "2/2 [==============================] - 0s 6ms/step - loss: 15.5353 - mae: 15.5353\n",
            "Epoch 72/100\n",
            "2/2 [==============================] - 0s 11ms/step - loss: 15.0126 - mae: 15.0126\n",
            "Epoch 73/100\n",
            "2/2 [==============================] - 0s 10ms/step - loss: 14.4552 - mae: 14.4552\n",
            "Epoch 74/100\n",
            "2/2 [==============================] - 0s 9ms/step - loss: 13.9744 - mae: 13.9744\n",
            "Epoch 75/100\n",
            "2/2 [==============================] - 0s 8ms/step - loss: 13.4268 - mae: 13.4268\n",
            "Epoch 76/100\n",
            "2/2 [==============================] - 0s 9ms/step - loss: 12.9057 - mae: 12.9057\n",
            "Epoch 77/100\n",
            "2/2 [==============================] - 0s 8ms/step - loss: 12.4158 - mae: 12.4158\n",
            "Epoch 78/100\n",
            "2/2 [==============================] - 0s 8ms/step - loss: 11.8915 - mae: 11.8915\n",
            "Epoch 79/100\n",
            "2/2 [==============================] - 0s 9ms/step - loss: 11.3907 - mae: 11.3907\n",
            "Epoch 80/100\n",
            "2/2 [==============================] - 0s 9ms/step - loss: 10.9360 - mae: 10.9360\n",
            "Epoch 81/100\n",
            "2/2 [==============================] - 0s 9ms/step - loss: 10.5096 - mae: 10.5096\n",
            "Epoch 82/100\n",
            "2/2 [==============================] - 0s 10ms/step - loss: 10.0339 - mae: 10.0339\n",
            "Epoch 83/100\n",
            "2/2 [==============================] - 0s 8ms/step - loss: 9.6614 - mae: 9.6614\n",
            "Epoch 84/100\n",
            "2/2 [==============================] - 0s 12ms/step - loss: 9.2468 - mae: 9.2468\n",
            "Epoch 85/100\n",
            "2/2 [==============================] - 0s 9ms/step - loss: 8.9193 - mae: 8.9193\n",
            "Epoch 86/100\n",
            "2/2 [==============================] - 0s 12ms/step - loss: 8.6061 - mae: 8.6061\n",
            "Epoch 87/100\n",
            "2/2 [==============================] - 0s 10ms/step - loss: 8.3206 - mae: 8.3206\n",
            "Epoch 88/100\n",
            "2/2 [==============================] - 0s 9ms/step - loss: 8.1018 - mae: 8.1018\n",
            "Epoch 89/100\n",
            "2/2 [==============================] - 0s 9ms/step - loss: 7.9066 - mae: 7.9066\n",
            "Epoch 90/100\n",
            "2/2 [==============================] - 0s 9ms/step - loss: 7.8400 - mae: 7.8400\n",
            "Epoch 91/100\n",
            "2/2 [==============================] - 0s 9ms/step - loss: 7.7522 - mae: 7.7522\n",
            "Epoch 92/100\n",
            "2/2 [==============================] - 0s 10ms/step - loss: 7.7646 - mae: 7.7646\n",
            "Epoch 93/100\n",
            "2/2 [==============================] - 0s 8ms/step - loss: 7.7893 - mae: 7.7893\n",
            "Epoch 94/100\n",
            "2/2 [==============================] - 0s 8ms/step - loss: 7.8080 - mae: 7.8080\n",
            "Epoch 95/100\n",
            "2/2 [==============================] - 0s 8ms/step - loss: 7.8106 - mae: 7.8106\n",
            "Epoch 96/100\n",
            "2/2 [==============================] - 0s 13ms/step - loss: 7.7978 - mae: 7.7978\n",
            "Epoch 97/100\n",
            "2/2 [==============================] - 0s 8ms/step - loss: 7.7710 - mae: 7.7710\n",
            "Epoch 98/100\n",
            "2/2 [==============================] - 0s 9ms/step - loss: 7.7448 - mae: 7.7448\n",
            "Epoch 99/100\n",
            "2/2 [==============================] - 0s 9ms/step - loss: 7.7044 - mae: 7.7044\n",
            "Epoch 100/100\n",
            "2/2 [==============================] - 0s 10ms/step - loss: 7.6802 - mae: 7.6802\n"
          ]
        },
        {
          "output_type": "execute_result",
          "data": {
            "text/plain": [
              "<keras.callbacks.History at 0x7fb84a6b4520>"
            ]
          },
          "metadata": {},
          "execution_count": 141
        }
      ]
    },
    {
      "cell_type": "code",
      "source": [
        "# Make and plot predictions for model_5\n",
        "y_preds_5 = model_5.predict(X_test)\n",
        "plot_predictions(predictions=y_preds_5)"
      ],
      "metadata": {
        "colab": {
          "base_uri": "https://localhost:8080/",
          "height": 616
        },
        "id": "PFVXFo3Y46JC",
        "outputId": "6e7c041e-6bda-4d76-e7b5-a62a838da611"
      },
      "execution_count": 142,
      "outputs": [
        {
          "output_type": "stream",
          "name": "stdout",
          "text": [
            "1/1 [==============================] - 0s 92ms/step\n"
          ]
        },
        {
          "output_type": "display_data",
          "data": {
            "text/plain": [
              "<Figure size 1000x700 with 1 Axes>"
            ],
            "image/png": "[encoded data removed]"
          },
          "metadata": {}
        }
      ]
    },
    {
      "cell_type": "code",
      "source": [
        "# Calculate model_4 evaluation metrics\n",
        "mae_5 = mae(y_test, y_preds_5)\n",
        "mse_5 = mse(y_test, y_preds_5)\n",
        "mae_5, mse_5"
      ],
      "metadata": {
        "colab": {
          "base_uri": "https://localhost:8080/"
        },
        "id": "lZayZKBc5Bis",
        "outputId": "0f2e6940-2cb2-4a7c-db91-9bd627386d47"
      },
      "execution_count": 143,
      "outputs": [
        {
          "output_type": "execute_result",
          "data": {
            "text/plain": [
              "(<tf.Tensor: shape=(), dtype=float32, numpy=18.908371>,\n",
              " <tf.Tensor: shape=(), dtype=float32, numpy=359.24176>)"
            ]
          },
          "metadata": {},
          "execution_count": 143
        }
      ]
    },
    {
      "cell_type": "markdown",
      "source": [
        "## Comparing results of experiments"
      ],
      "metadata": {
        "id": "XPNE62Wk14wv"
      }
    },
    {
      "cell_type": "code",
      "source": [
        "# Compare model's results using pandas DataFrame\n",
        "import pandas as pd\n",
        "\n",
        "model_results = [[\"model_1\", mae_1.numpy(), mse_1.numpy()],\n",
        "                 [\"model_2\", mae_2.numpy(), mse_2.numpy()],\n",
        "                 [\"model_3\", mae_3.numpy(), mse_3.numpy()],\n",
        "                 [\"model_4\", mae_4.numpy(), mse_4.numpy()],\n",
        "                 [\"model_5\", mae_5.numpy(), mse_5.numpy()]]\n",
        "\n",
        "all_results = pd.DataFrame(model_results, columns=[\"model\", \"mae\", \"mse\"])\n",
        "all_results"
      ],
      "metadata": {
        "colab": {
          "base_uri": "https://localhost:8080/",
          "height": 206
        },
        "id": "rQ0OI8tu6jds",
        "outputId": "c06a6666-ec92-45c0-d856-6c272608a7bb"
      },
      "execution_count": 146,
      "outputs": [
        {
          "output_type": "execute_result",
          "data": {
            "text/plain": [
              "     model        mae          mse\n",
              "0  model_1  30.571804   945.026001\n",
              "1  model_2  13.265414   185.992935\n",
              "2  model_3  67.198860  4598.260742\n",
              "3  model_4  75.753944  5834.982910\n",
              "4  model_5  18.908371   359.241760"
            ],
            "text/html": [
              "\n",
              "  <div id=\"df-57f3ac87-0a56-4267-a3dc-7898f79b695a\">\n",
              "    <div class=\"colab-df-container\">\n",
              "      <div>\n",
              "<style scoped>\n",
              "    .dataframe tbody tr th:only-of-type {\n",
              "        vertical-align: middle;\n",
              "    }\n",
              "\n",
              "    .dataframe tbody tr th {\n",
              "        vertical-align: top;\n",
              "    }\n",
              "\n",
              "    .dataframe thead th {\n",
              "        text-align: right;\n",
              "    }\n",
              "</style>\n",
              "<table border=\"1\" class=\"dataframe\">\n",
              "  <thead>\n",
              "    <tr style=\"text-align: right;\">\n",
              "      <th></th>\n",
              "      <th>model</th>\n",
              "      <th>mae</th>\n",
              "      <th>mse</th>\n",
              "    </tr>\n",
              "  </thead>\n",
              "  <tbody>\n",
              "    <tr>\n",
              "      <th>0</th>\n",
              "      <td>model_1</td>\n",
              "      <td>30.571804</td>\n",
              "      <td>945.026001</td>\n",
              "    </tr>\n",
              "    <tr>\n",
              "      <th>1</th>\n",
              "      <td>model_2</td>\n",
              "      <td>13.265414</td>\n",
              "      <td>185.992935</td>\n",
              "    </tr>\n",
              "    <tr>\n",
              "      <th>2</th>\n",
              "      <td>model_3</td>\n",
              "      <td>67.198860</td>\n",
              "      <td>4598.260742</td>\n",
              "    </tr>\n",
              "    <tr>\n",
              "      <th>3</th>\n",
              "      <td>model_4</td>\n",
              "      <td>75.753944</td>\n",
              "      <td>5834.982910</td>\n",
              "    </tr>\n",
              "    <tr>\n",
              "      <th>4</th>\n",
              "      <td>model_5</td>\n",
              "      <td>18.908371</td>\n",
              "      <td>359.241760</td>\n",
              "    </tr>\n",
              "  </tbody>\n",
              "</table>\n",
              "</div>\n",
              "      <button class=\"colab-df-convert\" onclick=\"convertToInteractive('df-57f3ac87-0a56-4267-a3dc-7898f79b695a')\"\n",
              "              title=\"Convert this dataframe to an interactive table.\"\n",
              "              style=\"display:none;\">\n",
              "        \n",
              "  <svg xmlns=\"http://www.w3.org/2000/svg\" height=\"24px\"viewBox=\"0 0 24 24\"\n",
              "       width=\"24px\">\n",
              "    <path d=\"M0 0h24v24H0V0z\" fill=\"none\"/>\n",
              "    <path d=\"M18.56 5.44l.94 2.06.94-2.06 2.06-.94-2.06-.94-.94-2.06-.94 2.06-2.06.94zm-11 1L8.5 8.5l.94-2.06 2.06-.94-2.06-.94L8.5 2.5l-.94 2.06-2.06.94zm10 10l.94 2.06.94-2.06 2.06-.94-2.06-.94-.94-2.06-.94 2.06-2.06.94z\"/><path d=\"M17.41 7.96l-1.37-1.37c-.4-.4-.92-.59-1.43-.59-.52 0-1.04.2-1.43.59L10.3 9.45l-7.72 7.72c-.78.78-.78 2.05 0 2.83L4 21.41c.39.39.9.59 1.41.59.51 0 1.02-.2 1.41-.59l7.78-7.78 2.81-2.81c.8-.78.8-2.07 0-2.86zM5.41 20L4 18.59l7.72-7.72 1.47 1.35L5.41 20z\"/>\n",
              "  </svg>\n",
              "      </button>\n",
              "      \n",
              "  <style>\n",
              "    .colab-df-container {\n",
              "      display:flex;\n",
              "      flex-wrap:wrap;\n",
              "      gap: 12px;\n",
              "    }\n",
              "\n",
              "    .colab-df-convert {\n",
              "      background-color: #E8F0FE;\n",
              "      border: none;\n",
              "      border-radius: 50%;\n",
              "      cursor: pointer;\n",
              "      display: none;\n",
              "      fill: #1967D2;\n",
              "      height: 32px;\n",
              "      padding: 0 0 0 0;\n",
              "      width: 32px;\n",
              "    }\n",
              "\n",
              "    .colab-df-convert:hover {\n",
              "      background-color: #E2EBFA;\n",
              "      box-shadow: 0px 1px 2px rgba(60, 64, 67, 0.3), 0px 1px 3px 1px rgba(60, 64, 67, 0.15);\n",
              "      fill: #174EA6;\n",
              "    }\n",
              "\n",
              "    [theme=dark] .colab-df-convert {\n",
              "      background-color: #3B4455;\n",
              "      fill: #D2E3FC;\n",
              "    }\n",
              "\n",
              "    [theme=dark] .colab-df-convert:hover {\n",
              "      background-color: #434B5C;\n",
              "      box-shadow: 0px 1px 3px 1px rgba(0, 0, 0, 0.15);\n",
              "      filter: drop-shadow(0px 1px 2px rgba(0, 0, 0, 0.3));\n",
              "      fill: #FFFFFF;\n",
              "    }\n",
              "  </style>\n",
              "\n",
              "      <script>\n",
              "        const buttonEl =\n",
              "          document.querySelector('#df-57f3ac87-0a56-4267-a3dc-7898f79b695a button.colab-df-convert');\n",
              "        buttonEl.style.display =\n",
              "          google.colab.kernel.accessAllowed ? 'block' : 'none';\n",
              "\n",
              "        async function convertToInteractive(key) {\n",
              "          const element = document.querySelector('#df-57f3ac87-0a56-4267-a3dc-7898f79b695a');\n",
              "          const dataTable =\n",
              "            await google.colab.kernel.invokeFunction('convertToInteractive',\n",
              "                                                     [key], {});\n",
              "          if (!dataTable) return;\n",
              "\n",
              "          const docLinkHtml = 'Like what you see? Visit the ' +\n",
              "            '<a target=\"_blank\" href=https://colab.research.google.com/notebooks/data_table.ipynb>data table notebook</a>'\n",
              "            + ' to learn more about interactive tables.';\n",
              "          element.innerHTML = '';\n",
              "          dataTable['output_type'] = 'display_data';\n",
              "          await google.colab.output.renderOutput(dataTable, element);\n",
              "          const docLink = document.createElement('div');\n",
              "          docLink.innerHTML = docLinkHtml;\n",
              "          element.appendChild(docLink);\n",
              "        }\n",
              "      </script>\n",
              "    </div>\n",
              "  </div>\n",
              "  "
            ]
          },
          "metadata": {},
          "execution_count": 146
        }
      ]
    },
    {
      "cell_type": "markdown",
      "source": [
        "model_2 performs the best"
      ],
      "metadata": {
        "id": "1FkMquKA7s7i"
      }
    },
    {
      "cell_type": "code",
      "source": [
        "model_2.summary()"
      ],
      "metadata": {
        "colab": {
          "base_uri": "https://localhost:8080/"
        },
        "id": "6yEy1Iux7Wt1",
        "outputId": "6e909eeb-086c-411e-9db5-c5821c5c96db"
      },
      "execution_count": 145,
      "outputs": [
        {
          "output_type": "stream",
          "name": "stdout",
          "text": [
            "Model: \"sequential_15\"\n",
            "_________________________________________________________________\n",
            " Layer (type)                Output Shape              Param #   \n",
            "=================================================================\n",
            " dense_18 (Dense)            (None, 10)                20        \n",
            "                                                                 \n",
            " dense_19 (Dense)            (None, 1)                 11        \n",
            "                                                                 \n",
            "=================================================================\n",
            "Total params: 31\n",
            "Trainable params: 31\n",
            "Non-trainable params: 0\n",
            "_________________________________________________________________\n"
          ]
        }
      ]
    },
    {
      "cell_type": "code",
      "source": [],
      "metadata": {
        "id": "Kx1uebR-7gHD"
      },
      "execution_count": null,
      "outputs": []
    }
  ]
}
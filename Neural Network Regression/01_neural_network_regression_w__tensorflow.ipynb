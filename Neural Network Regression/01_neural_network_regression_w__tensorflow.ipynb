{
  "nbformat": 4,
  "nbformat_minor": 0,
  "metadata": {
    "colab": {
      "provenance": [],
      "authorship_tag": "ABX9TyN/zPKoYfpWX667PaO5QGde",
      "include_colab_link": true
    },
    "kernelspec": {
      "name": "python3",
      "display_name": "Python 3"
    },
    "language_info": {
      "name": "python"
    }
  },
  "cells": [
    {
      "cell_type": "markdown",
      "metadata": {
        "id": "view-in-github",
        "colab_type": "text"
      },
      "source": [
        "<a href=\"https://colab.research.google.com/github/pranavrao87/Machine-Learning/blob/main/Neural%20Network%20Regression/01_neural_network_regression_w__tensorflow.ipynb\" target=\"_parent\"><img src=\"https://colab.research.google.com/assets/colab-badge.svg\" alt=\"Open In Colab\"/></a>"
      ]
    },
    {
      "cell_type": "markdown",
      "source": [
        "# Regression w/ neural networks in Tensorflow\n",
        "\n",
        "Regression problem - predicting a numerical variable based on combination of inputs, essentially predicting a number"
      ],
      "metadata": {
        "id": "5BWNZ9pEPchh"
      }
    },
    {
      "cell_type": "code",
      "source": [
        "import tensorflow as tf\n",
        "print(tf.__version__)"
      ],
      "metadata": {
        "colab": {
          "base_uri": "https://localhost:8080/"
        },
        "id": "ZCdqiB3KQFH6",
        "outputId": "d08d944b-a9e7-4b77-a0df-b84261d04cd0"
      },
      "execution_count": 1,
      "outputs": [
        {
          "output_type": "stream",
          "name": "stdout",
          "text": [
            "2.12.0\n"
          ]
        }
      ]
    },
    {
      "cell_type": "markdown",
      "source": [
        "## Creating data to view and fit"
      ],
      "metadata": {
        "id": "uTaRvggJQJE7"
      }
    },
    {
      "cell_type": "code",
      "source": [
        "import numpy as np\n",
        "import matplotlib.pyplot as plt\n",
        "\n",
        "# Create features (input data)\n",
        "X = np.array([-7.0, -4.0, -1.0, 2.0, 5.0, 8.0, 11.0, 14.0])\n",
        "\n",
        "# Create labels\n",
        "y = np.array([3.0, 6.0, 9.0, 12.0, 15.0, 18.0, 21.0, 24.0])\n",
        "\n",
        "# Visualize\n",
        "plt.scatter(X, y)"
      ],
      "metadata": {
        "colab": {
          "base_uri": "https://localhost:8080/",
          "height": 452
        },
        "id": "y150jbkfQWiy",
        "outputId": "4057ae9d-54fc-4762-de64-e76d403edb3d"
      },
      "execution_count": 2,
      "outputs": [
        {
          "output_type": "execute_result",
          "data": {
            "text/plain": [
              "<matplotlib.collections.PathCollection at 0x7f055b1c5de0>"
            ]
          },
          "metadata": {},
          "execution_count": 2
        },
        {
          "output_type": "display_data",
          "data": {
            "text/plain": [
              "<Figure size 640x480 with 1 Axes>"
            ],
            "image/png": "[encoded data removed]"
          },
          "metadata": {}
        }
      ]
    },
    {
      "cell_type": "code",
      "source": [
        "y == X + 10"
      ],
      "metadata": {
        "colab": {
          "base_uri": "https://localhost:8080/"
        },
        "id": "4wAY4qkkQ-bY",
        "outputId": "0332df13-9baa-4deb-9b02-9c957c45b7ab"
      },
      "execution_count": 3,
      "outputs": [
        {
          "output_type": "execute_result",
          "data": {
            "text/plain": [
              "array([ True,  True,  True,  True,  True,  True,  True,  True])"
            ]
          },
          "metadata": {},
          "execution_count": 3
        }
      ]
    },
    {
      "cell_type": "markdown",
      "source": [
        "## Input and output shapes"
      ],
      "metadata": {
        "id": "R3LZO9WBRPdL"
      }
    },
    {
      "cell_type": "code",
      "source": [
        "# Create demo tensor for hosuing price prediction problem\n",
        "house_info = tf.constant([\"bedroom\", \"bathroom\", \"garage\"])\n",
        "house_price = tf.constant([939700])\n",
        "house_info, house_price"
      ],
      "metadata": {
        "colab": {
          "base_uri": "https://localhost:8080/"
        },
        "id": "ZpArt6w0RW6H",
        "outputId": "ab4d9dc8-51ba-4e84-add2-8075a9a89bad"
      },
      "execution_count": 4,
      "outputs": [
        {
          "output_type": "execute_result",
          "data": {
            "text/plain": [
              "(<tf.Tensor: shape=(3,), dtype=string, numpy=array([b'bedroom', b'bathroom', b'garage'], dtype=object)>,\n",
              " <tf.Tensor: shape=(1,), dtype=int32, numpy=array([939700], dtype=int32)>)"
            ]
          },
          "metadata": {},
          "execution_count": 4
        }
      ]
    },
    {
      "cell_type": "code",
      "source": [
        "X[0], y[0]"
      ],
      "metadata": {
        "colab": {
          "base_uri": "https://localhost:8080/"
        },
        "id": "8vahFD5MSHdS",
        "outputId": "49b0e780-2749-4f05-b06e-8bb98532e505"
      },
      "execution_count": 5,
      "outputs": [
        {
          "output_type": "execute_result",
          "data": {
            "text/plain": [
              "(-7.0, 3.0)"
            ]
          },
          "metadata": {},
          "execution_count": 5
        }
      ]
    },
    {
      "cell_type": "code",
      "source": [
        "X[1], y[1]"
      ],
      "metadata": {
        "colab": {
          "base_uri": "https://localhost:8080/"
        },
        "id": "-1IuhY8DSKCM",
        "outputId": "ad49bb1e-b34e-4bdb-8317-302dbd3a3b31"
      },
      "execution_count": 6,
      "outputs": [
        {
          "output_type": "execute_result",
          "data": {
            "text/plain": [
              "(-4.0, 6.0)"
            ]
          },
          "metadata": {},
          "execution_count": 6
        }
      ]
    },
    {
      "cell_type": "code",
      "source": [
        "input_shape = X[0].shape # --> X[0] is a scalar!\n",
        "output_shape = y[0].shape\n",
        "input_shape, output_shape"
      ],
      "metadata": {
        "colab": {
          "base_uri": "https://localhost:8080/"
        },
        "id": "3GNzP0MSR1DX",
        "outputId": "0d1017bb-2c12-4bbd-d18c-3eb57ea231bd"
      },
      "execution_count": 7,
      "outputs": [
        {
          "output_type": "execute_result",
          "data": {
            "text/plain": [
              "((), ())"
            ]
          },
          "metadata": {},
          "execution_count": 7
        }
      ]
    },
    {
      "cell_type": "code",
      "source": [
        "# Turn NumPy arrays into tensors\n",
        "X = tf.cast(tf.constant(X), dtype=tf.float32)\n",
        "y = tf.cast(tf.constant(y), dtype=tf.float32)\n",
        "X, y"
      ],
      "metadata": {
        "colab": {
          "base_uri": "https://localhost:8080/"
        },
        "id": "_QBc46_aSDjT",
        "outputId": "9c132f84-2b80-4e0a-87cf-dc16c2be89da"
      },
      "execution_count": 8,
      "outputs": [
        {
          "output_type": "execute_result",
          "data": {
            "text/plain": [
              "(<tf.Tensor: shape=(8,), dtype=float32, numpy=array([-7., -4., -1.,  2.,  5.,  8., 11., 14.], dtype=float32)>,\n",
              " <tf.Tensor: shape=(8,), dtype=float32, numpy=array([ 3.,  6.,  9., 12., 15., 18., 21., 24.], dtype=float32)>)"
            ]
          },
          "metadata": {},
          "execution_count": 8
        }
      ]
    },
    {
      "cell_type": "code",
      "source": [
        "input_shape = X[0].shape\n",
        "output_shape = y[0].shape\n",
        "input_shape, output_shape"
      ],
      "metadata": {
        "colab": {
          "base_uri": "https://localhost:8080/"
        },
        "id": "5ondxt5YW_OP",
        "outputId": "cb5b8249-efb7-470d-b9d0-04e765a53df0"
      },
      "execution_count": 9,
      "outputs": [
        {
          "output_type": "execute_result",
          "data": {
            "text/plain": [
              "(TensorShape([]), TensorShape([]))"
            ]
          },
          "metadata": {},
          "execution_count": 9
        }
      ]
    },
    {
      "cell_type": "code",
      "source": [
        "plt.scatter(X, y)"
      ],
      "metadata": {
        "colab": {
          "base_uri": "https://localhost:8080/",
          "height": 452
        },
        "id": "WIsX7KBhXFY7",
        "outputId": "533c3c87-c741-4b3b-f06c-7d2960a1b98e"
      },
      "execution_count": 10,
      "outputs": [
        {
          "output_type": "execute_result",
          "data": {
            "text/plain": [
              "<matplotlib.collections.PathCollection at 0x7f05590cbe50>"
            ]
          },
          "metadata": {},
          "execution_count": 10
        },
        {
          "output_type": "display_data",
          "data": {
            "text/plain": [
              "<Figure size 640x480 with 1 Axes>"
            ],
            "image/png": "[encoded data removed]"
          },
          "metadata": {}
        }
      ]
    },
    {
      "cell_type": "markdown",
      "source": [
        "## Steps in modelling w/ TensorFlow\n",
        "\n",
        "1.   **Creating a model** - define input and output layers, as well as the hidden layers of deep learning model.\n",
        "2.   **Compiling a model** - define loss function (function which tells model how wrong it is) and the optimizer (tells model how to improve the patterns model is learning) and evaluation metrics (what to use to interpret the performance of model)\n",
        "3.    **Fitting model** - letting model try to find patterns b/w X and y (features and labels)\n",
        "\n"
      ],
      "metadata": {
        "id": "b-4dyC0uXN4c"
      }
    },
    {
      "cell_type": "code",
      "source": [
        "# Set random seed\n",
        "tf.random.set_seed(42)\n",
        "\n",
        "# 1. Creating a model using the sequential API\n",
        "model = tf.keras.Sequential([\n",
        "    tf.keras.layers.Dense(1)\n",
        "])\n",
        "\n",
        "# 2. Compile model\n",
        "model.compile(loss=tf.keras.losses.mae, #mae is short for mean absolute error\n",
        "              optimizer=tf.keras.optimizers.SGD(), #SGD - Stochastic gradient descent\n",
        "              metrics=[\"mae\"])\n",
        "\n",
        "# 3. Fit model\n",
        "model.fit(tf.expand_dims(X, -1), y, epochs=5)"
      ],
      "metadata": {
        "colab": {
          "base_uri": "https://localhost:8080/"
        },
        "id": "9Owf2g3JXS8j",
        "outputId": "196e8d09-0b85-45ce-c04e-6b9c101eccbb"
      },
      "execution_count": 11,
      "outputs": [
        {
          "output_type": "stream",
          "name": "stdout",
          "text": [
            "Epoch 1/5\n",
            "1/1 [==============================] - 1s 1s/step - loss: 8.9795 - mae: 8.9795\n",
            "Epoch 2/5\n",
            "1/1 [==============================] - 0s 19ms/step - loss: 8.8470 - mae: 8.8470\n",
            "Epoch 3/5\n",
            "1/1 [==============================] - 0s 14ms/step - loss: 8.7145 - mae: 8.7145\n",
            "Epoch 4/5\n",
            "1/1 [==============================] - 0s 20ms/step - loss: 8.5820 - mae: 8.5820\n",
            "Epoch 5/5\n",
            "1/1 [==============================] - 0s 32ms/step - loss: 8.4495 - mae: 8.4495\n"
          ]
        },
        {
          "output_type": "execute_result",
          "data": {
            "text/plain": [
              "<keras.callbacks.History at 0x7f0556079d50>"
            ]
          },
          "metadata": {},
          "execution_count": 11
        }
      ]
    },
    {
      "cell_type": "code",
      "source": [
        "# Check out X and y\n",
        "X, y"
      ],
      "metadata": {
        "colab": {
          "base_uri": "https://localhost:8080/"
        },
        "id": "jaikOq2KcqXb",
        "outputId": "21ce6f2b-14fd-48dd-cc34-99ba499cdb5f"
      },
      "execution_count": 12,
      "outputs": [
        {
          "output_type": "execute_result",
          "data": {
            "text/plain": [
              "(<tf.Tensor: shape=(8,), dtype=float32, numpy=array([-7., -4., -1.,  2.,  5.,  8., 11., 14.], dtype=float32)>,\n",
              " <tf.Tensor: shape=(8,), dtype=float32, numpy=array([ 3.,  6.,  9., 12., 15., 18., 21., 24.], dtype=float32)>)"
            ]
          },
          "metadata": {},
          "execution_count": 12
        }
      ]
    },
    {
      "cell_type": "code",
      "source": [
        "# Try and make prediction using model\n",
        "y_pred = model.predict([17.0])\n",
        "y_pred"
      ],
      "metadata": {
        "colab": {
          "base_uri": "https://localhost:8080/"
        },
        "id": "yOe4SpU4csW5",
        "outputId": "356d37d1-ddee-4abd-d2df-ebd0c7652a81"
      },
      "execution_count": 13,
      "outputs": [
        {
          "output_type": "stream",
          "name": "stdout",
          "text": [
            "1/1 [==============================] - 0s 253ms/step\n"
          ]
        },
        {
          "output_type": "execute_result",
          "data": {
            "text/plain": [
              "array([[24.981493]], dtype=float32)"
            ]
          },
          "metadata": {},
          "execution_count": 13
        }
      ]
    },
    {
      "cell_type": "code",
      "source": [
        "y_pred + 11"
      ],
      "metadata": {
        "colab": {
          "base_uri": "https://localhost:8080/"
        },
        "id": "mKU9-zS7c39G",
        "outputId": "bdee0cee-fbfb-42d1-ae94-bf3cf6d94a43"
      },
      "execution_count": 14,
      "outputs": [
        {
          "output_type": "execute_result",
          "data": {
            "text/plain": [
              "array([[35.98149]], dtype=float32)"
            ]
          },
          "metadata": {},
          "execution_count": 14
        }
      ]
    },
    {
      "cell_type": "markdown",
      "source": [
        "## Improve Model\n",
        "\n",
        "Can improve model by altering steps taken to create model\n",
        "\n",
        "1. **Creating a model** - add more layers, increase # of hidden layers, increase # of neurons/layer, change activation function of each layer\n",
        "2. **Compiling a model** - change optimization function or **learning rate** of optmization function\n",
        "3. **Fitting a model** - fit model for more epochs (increase epochs or give mode more data/examples)"
      ],
      "metadata": {
        "id": "fKcjT3RkdHKa"
      }
    },
    {
      "cell_type": "code",
      "source": [
        "# Rebuild model\n",
        "\n",
        "# 1. Create model\n",
        "tf.keras.Sequential([\n",
        "    tf.keras.layers.Dense(1)\n",
        "])\n",
        "\n",
        "#2. Compile model\n",
        "model.compile(loss=tf.keras.losses.mae,\n",
        "              optimizer=tf.keras.optimizers.SGD(),\n",
        "              metrics=[\"mae\"])\n",
        "\n",
        "#3. Fit model (this time w/ inc. epochs or training time)\n",
        "model.fit(tf.expand_dims(X, -1), y, epochs=100)"
      ],
      "metadata": {
        "colab": {
          "base_uri": "https://localhost:8080/"
        },
        "id": "DkOdu1tAdLkw",
        "outputId": "cca9c31e-0207-4306-998f-3d6131ca8271"
      },
      "execution_count": 15,
      "outputs": [
        {
          "output_type": "stream",
          "name": "stdout",
          "text": [
            "Epoch 1/100\n",
            "1/1 [==============================] - 1s 819ms/step - loss: 8.3170 - mae: 8.3170\n",
            "Epoch 2/100\n",
            "1/1 [==============================] - 0s 9ms/step - loss: 8.1845 - mae: 8.1845\n",
            "Epoch 3/100\n",
            "1/1 [==============================] - 0s 14ms/step - loss: 8.0520 - mae: 8.0520\n",
            "Epoch 4/100\n",
            "1/1 [==============================] - 0s 11ms/step - loss: 7.9195 - mae: 7.9195\n",
            "Epoch 5/100\n",
            "1/1 [==============================] - 0s 11ms/step - loss: 7.7870 - mae: 7.7870\n",
            "Epoch 6/100\n",
            "1/1 [==============================] - 0s 13ms/step - loss: 7.6545 - mae: 7.6545\n",
            "Epoch 7/100\n",
            "1/1 [==============================] - 0s 11ms/step - loss: 7.5220 - mae: 7.5220\n",
            "Epoch 8/100\n",
            "1/1 [==============================] - 0s 10ms/step - loss: 7.4100 - mae: 7.4100\n",
            "Epoch 9/100\n",
            "1/1 [==============================] - 0s 15ms/step - loss: 7.4044 - mae: 7.4044\n",
            "Epoch 10/100\n",
            "1/1 [==============================] - 0s 10ms/step - loss: 7.3987 - mae: 7.3987\n",
            "Epoch 11/100\n",
            "1/1 [==============================] - 0s 12ms/step - loss: 7.3931 - mae: 7.3931\n",
            "Epoch 12/100\n",
            "1/1 [==============================] - 0s 10ms/step - loss: 7.3875 - mae: 7.3875\n",
            "Epoch 13/100\n",
            "1/1 [==============================] - 0s 35ms/step - loss: 7.3819 - mae: 7.3819\n",
            "Epoch 14/100\n",
            "1/1 [==============================] - 0s 18ms/step - loss: 7.3763 - mae: 7.3763\n",
            "Epoch 15/100\n",
            "1/1 [==============================] - 0s 14ms/step - loss: 7.3706 - mae: 7.3706\n",
            "Epoch 16/100\n",
            "1/1 [==============================] - 0s 13ms/step - loss: 7.3650 - mae: 7.3650\n",
            "Epoch 17/100\n",
            "1/1 [==============================] - 0s 49ms/step - loss: 7.3594 - mae: 7.3594\n",
            "Epoch 18/100\n",
            "1/1 [==============================] - 0s 16ms/step - loss: 7.3538 - mae: 7.3538\n",
            "Epoch 19/100\n",
            "1/1 [==============================] - 0s 16ms/step - loss: 7.3481 - mae: 7.3481\n",
            "Epoch 20/100\n",
            "1/1 [==============================] - 0s 16ms/step - loss: 7.3425 - mae: 7.3425\n",
            "Epoch 21/100\n",
            "1/1 [==============================] - 0s 15ms/step - loss: 7.3369 - mae: 7.3369\n",
            "Epoch 22/100\n",
            "1/1 [==============================] - 0s 14ms/step - loss: 7.3313 - mae: 7.3313\n",
            "Epoch 23/100\n",
            "1/1 [==============================] - 0s 18ms/step - loss: 7.3256 - mae: 7.3256\n",
            "Epoch 24/100\n",
            "1/1 [==============================] - 0s 21ms/step - loss: 7.3200 - mae: 7.3200\n",
            "Epoch 25/100\n",
            "1/1 [==============================] - 0s 35ms/step - loss: 7.3144 - mae: 7.3144\n",
            "Epoch 26/100\n",
            "1/1 [==============================] - 0s 18ms/step - loss: 7.3087 - mae: 7.3087\n",
            "Epoch 27/100\n",
            "1/1 [==============================] - 0s 25ms/step - loss: 7.3031 - mae: 7.3031\n",
            "Epoch 28/100\n",
            "1/1 [==============================] - 0s 17ms/step - loss: 7.2975 - mae: 7.2975\n",
            "Epoch 29/100\n",
            "1/1 [==============================] - 0s 16ms/step - loss: 7.2919 - mae: 7.2919\n",
            "Epoch 30/100\n",
            "1/1 [==============================] - 0s 21ms/step - loss: 7.2863 - mae: 7.2863\n",
            "Epoch 31/100\n",
            "1/1 [==============================] - 0s 22ms/step - loss: 7.2806 - mae: 7.2806\n",
            "Epoch 32/100\n",
            "1/1 [==============================] - 0s 14ms/step - loss: 7.2750 - mae: 7.2750\n",
            "Epoch 33/100\n",
            "1/1 [==============================] - 0s 13ms/step - loss: 7.2694 - mae: 7.2694\n",
            "Epoch 34/100\n",
            "1/1 [==============================] - 0s 12ms/step - loss: 7.2638 - mae: 7.2638\n",
            "Epoch 35/100\n",
            "1/1 [==============================] - 0s 37ms/step - loss: 7.2581 - mae: 7.2581\n",
            "Epoch 36/100\n",
            "1/1 [==============================] - 0s 26ms/step - loss: 7.2525 - mae: 7.2525\n",
            "Epoch 37/100\n",
            "1/1 [==============================] - 0s 17ms/step - loss: 7.2469 - mae: 7.2469\n",
            "Epoch 38/100\n",
            "1/1 [==============================] - 0s 15ms/step - loss: 7.2413 - mae: 7.2413\n",
            "Epoch 39/100\n",
            "1/1 [==============================] - 0s 18ms/step - loss: 7.2356 - mae: 7.2356\n",
            "Epoch 40/100\n",
            "1/1 [==============================] - 0s 27ms/step - loss: 7.2300 - mae: 7.2300\n",
            "Epoch 41/100\n",
            "1/1 [==============================] - 0s 34ms/step - loss: 7.2244 - mae: 7.2244\n",
            "Epoch 42/100\n",
            "1/1 [==============================] - 0s 21ms/step - loss: 7.2188 - mae: 7.2188\n",
            "Epoch 43/100\n",
            "1/1 [==============================] - 0s 15ms/step - loss: 7.2131 - mae: 7.2131\n",
            "Epoch 44/100\n",
            "1/1 [==============================] - 0s 16ms/step - loss: 7.2075 - mae: 7.2075\n",
            "Epoch 45/100\n",
            "1/1 [==============================] - 0s 25ms/step - loss: 7.2019 - mae: 7.2019\n",
            "Epoch 46/100\n",
            "1/1 [==============================] - 0s 20ms/step - loss: 7.1963 - mae: 7.1963\n",
            "Epoch 47/100\n",
            "1/1 [==============================] - 0s 19ms/step - loss: 7.1906 - mae: 7.1906\n",
            "Epoch 48/100\n",
            "1/1 [==============================] - 0s 23ms/step - loss: 7.1850 - mae: 7.1850\n",
            "Epoch 49/100\n",
            "1/1 [==============================] - 0s 17ms/step - loss: 7.1794 - mae: 7.1794\n",
            "Epoch 50/100\n",
            "1/1 [==============================] - 0s 26ms/step - loss: 7.1737 - mae: 7.1737\n",
            "Epoch 51/100\n",
            "1/1 [==============================] - 0s 27ms/step - loss: 7.1681 - mae: 7.1681\n",
            "Epoch 52/100\n",
            "1/1 [==============================] - 0s 16ms/step - loss: 7.1625 - mae: 7.1625\n",
            "Epoch 53/100\n",
            "1/1 [==============================] - 0s 13ms/step - loss: 7.1569 - mae: 7.1569\n",
            "Epoch 54/100\n",
            "1/1 [==============================] - 0s 24ms/step - loss: 7.1512 - mae: 7.1512\n",
            "Epoch 55/100\n",
            "1/1 [==============================] - 0s 10ms/step - loss: 7.1456 - mae: 7.1456\n",
            "Epoch 56/100\n",
            "1/1 [==============================] - 0s 17ms/step - loss: 7.1400 - mae: 7.1400\n",
            "Epoch 57/100\n",
            "1/1 [==============================] - 0s 12ms/step - loss: 7.1344 - mae: 7.1344\n",
            "Epoch 58/100\n",
            "1/1 [==============================] - 0s 27ms/step - loss: 7.1287 - mae: 7.1287\n",
            "Epoch 59/100\n",
            "1/1 [==============================] - 0s 11ms/step - loss: 7.1231 - mae: 7.1231\n",
            "Epoch 60/100\n",
            "1/1 [==============================] - 0s 9ms/step - loss: 7.1175 - mae: 7.1175\n",
            "Epoch 61/100\n",
            "1/1 [==============================] - 0s 5ms/step - loss: 7.1119 - mae: 7.1119\n",
            "Epoch 62/100\n",
            "1/1 [==============================] - 0s 12ms/step - loss: 7.1063 - mae: 7.1063\n",
            "Epoch 63/100\n",
            "1/1 [==============================] - 0s 15ms/step - loss: 7.1006 - mae: 7.1006\n",
            "Epoch 64/100\n",
            "1/1 [==============================] - 0s 34ms/step - loss: 7.0950 - mae: 7.0950\n",
            "Epoch 65/100\n",
            "1/1 [==============================] - 0s 27ms/step - loss: 7.0894 - mae: 7.0894\n",
            "Epoch 66/100\n",
            "1/1 [==============================] - 0s 36ms/step - loss: 7.0838 - mae: 7.0838\n",
            "Epoch 67/100\n",
            "1/1 [==============================] - 0s 71ms/step - loss: 7.0781 - mae: 7.0781\n",
            "Epoch 68/100\n",
            "1/1 [==============================] - 0s 52ms/step - loss: 7.0725 - mae: 7.0725\n",
            "Epoch 69/100\n",
            "1/1 [==============================] - 0s 34ms/step - loss: 7.0669 - mae: 7.0669\n",
            "Epoch 70/100\n",
            "1/1 [==============================] - 0s 14ms/step - loss: 7.0613 - mae: 7.0613\n",
            "Epoch 71/100\n",
            "1/1 [==============================] - 0s 22ms/step - loss: 7.0556 - mae: 7.0556\n",
            "Epoch 72/100\n",
            "1/1 [==============================] - 0s 14ms/step - loss: 7.0500 - mae: 7.0500\n",
            "Epoch 73/100\n",
            "1/1 [==============================] - 0s 16ms/step - loss: 7.0444 - mae: 7.0444\n",
            "Epoch 74/100\n",
            "1/1 [==============================] - 0s 37ms/step - loss: 7.0388 - mae: 7.0388\n",
            "Epoch 75/100\n",
            "1/1 [==============================] - 0s 27ms/step - loss: 7.0331 - mae: 7.0331\n",
            "Epoch 76/100\n",
            "1/1 [==============================] - 0s 20ms/step - loss: 7.0275 - mae: 7.0275\n",
            "Epoch 77/100\n",
            "1/1 [==============================] - 0s 14ms/step - loss: 7.0219 - mae: 7.0219\n",
            "Epoch 78/100\n",
            "1/1 [==============================] - 0s 20ms/step - loss: 7.0163 - mae: 7.0163\n",
            "Epoch 79/100\n",
            "1/1 [==============================] - 0s 16ms/step - loss: 7.0106 - mae: 7.0106\n",
            "Epoch 80/100\n",
            "1/1 [==============================] - 0s 12ms/step - loss: 7.0050 - mae: 7.0050\n",
            "Epoch 81/100\n",
            "1/1 [==============================] - 0s 15ms/step - loss: 6.9994 - mae: 6.9994\n",
            "Epoch 82/100\n",
            "1/1 [==============================] - 0s 15ms/step - loss: 6.9938 - mae: 6.9938\n",
            "Epoch 83/100\n",
            "1/1 [==============================] - 0s 9ms/step - loss: 6.9881 - mae: 6.9881\n",
            "Epoch 84/100\n",
            "1/1 [==============================] - 0s 17ms/step - loss: 6.9825 - mae: 6.9825\n",
            "Epoch 85/100\n",
            "1/1 [==============================] - 0s 20ms/step - loss: 6.9769 - mae: 6.9769\n",
            "Epoch 86/100\n",
            "1/1 [==============================] - 0s 17ms/step - loss: 6.9713 - mae: 6.9713\n",
            "Epoch 87/100\n",
            "1/1 [==============================] - 0s 15ms/step - loss: 6.9656 - mae: 6.9656\n",
            "Epoch 88/100\n",
            "1/1 [==============================] - 0s 13ms/step - loss: 6.9600 - mae: 6.9600\n",
            "Epoch 89/100\n",
            "1/1 [==============================] - 0s 16ms/step - loss: 6.9544 - mae: 6.9544\n",
            "Epoch 90/100\n",
            "1/1 [==============================] - 0s 15ms/step - loss: 6.9488 - mae: 6.9488\n",
            "Epoch 91/100\n",
            "1/1 [==============================] - 0s 22ms/step - loss: 6.9431 - mae: 6.9431\n",
            "Epoch 92/100\n",
            "1/1 [==============================] - 0s 17ms/step - loss: 6.9375 - mae: 6.9375\n",
            "Epoch 93/100\n",
            "1/1 [==============================] - 0s 14ms/step - loss: 6.9319 - mae: 6.9319\n",
            "Epoch 94/100\n",
            "1/1 [==============================] - 0s 14ms/step - loss: 6.9262 - mae: 6.9262\n",
            "Epoch 95/100\n",
            "1/1 [==============================] - 0s 14ms/step - loss: 6.9206 - mae: 6.9206\n",
            "Epoch 96/100\n",
            "1/1 [==============================] - 0s 17ms/step - loss: 6.9150 - mae: 6.9150\n",
            "Epoch 97/100\n",
            "1/1 [==============================] - 0s 20ms/step - loss: 6.9094 - mae: 6.9094\n",
            "Epoch 98/100\n",
            "1/1 [==============================] - 0s 18ms/step - loss: 6.9038 - mae: 6.9038\n",
            "Epoch 99/100\n",
            "1/1 [==============================] - 0s 10ms/step - loss: 6.8981 - mae: 6.8981\n",
            "Epoch 100/100\n",
            "1/1 [==============================] - 0s 9ms/step - loss: 6.8925 - mae: 6.8925\n"
          ]
        },
        {
          "output_type": "execute_result",
          "data": {
            "text/plain": [
              "<keras.callbacks.History at 0x7f05567979d0>"
            ]
          },
          "metadata": {},
          "execution_count": 15
        }
      ]
    },
    {
      "cell_type": "code",
      "source": [
        "X, y"
      ],
      "metadata": {
        "colab": {
          "base_uri": "https://localhost:8080/"
        },
        "id": "xhHL2Z2EhVb0",
        "outputId": "e114ac8c-09ae-4236-8ef2-518149541a97"
      },
      "execution_count": 16,
      "outputs": [
        {
          "output_type": "execute_result",
          "data": {
            "text/plain": [
              "(<tf.Tensor: shape=(8,), dtype=float32, numpy=array([-7., -4., -1.,  2.,  5.,  8., 11., 14.], dtype=float32)>,\n",
              " <tf.Tensor: shape=(8,), dtype=float32, numpy=array([ 3.,  6.,  9., 12., 15., 18., 21., 24.], dtype=float32)>)"
            ]
          },
          "metadata": {},
          "execution_count": 16
        }
      ]
    },
    {
      "cell_type": "code",
      "source": [
        "# Predict w/ improved model\n",
        "model.predict([17.0])"
      ],
      "metadata": {
        "colab": {
          "base_uri": "https://localhost:8080/"
        },
        "id": "igIqHalKhWUw",
        "outputId": "e365f1e4-845c-4068-ddf4-b5f0301a52a0"
      },
      "execution_count": 17,
      "outputs": [
        {
          "output_type": "stream",
          "name": "stdout",
          "text": [
            "1/1 [==============================] - 0s 112ms/step\n"
          ]
        },
        {
          "output_type": "execute_result",
          "data": {
            "text/plain": [
              "array([[29.913988]], dtype=float32)"
            ]
          },
          "metadata": {},
          "execution_count": 17
        }
      ]
    },
    {
      "cell_type": "code",
      "source": [
        "# Rebuild model\n",
        "\n",
        "# 1. Create model \n",
        "tf.keras.Sequential([\n",
        "    tf.keras.layers.Dense(50, activation=None),\n",
        "    tf.keras.layers.Dense(1)\n",
        "])\n",
        "\n",
        "#2. Compile model\n",
        "model.compile(loss=tf.keras.losses.mae,\n",
        "              optimizer=tf.keras.optimizers.Adam(lr=0.01),\n",
        "              metrics=[\"mae\"])\n",
        "\n",
        "#3. Fit model\n",
        "model.fit(tf.expand_dims(X, 1), y, epochs=100)"
      ],
      "metadata": {
        "colab": {
          "base_uri": "https://localhost:8080/"
        },
        "id": "qy6IhBzclAxD",
        "outputId": "bb79385f-3628-4048-e09c-f15ca2683bf7"
      },
      "execution_count": 18,
      "outputs": [
        {
          "output_type": "stream",
          "name": "stderr",
          "text": [
            "WARNING:absl:`lr` is deprecated in Keras optimizer, please use `learning_rate` or use the legacy optimizer, e.g.,tf.keras.optimizers.legacy.Adam.\n"
          ]
        },
        {
          "output_type": "stream",
          "name": "stdout",
          "text": [
            "Epoch 1/100\n",
            "1/1 [==============================] - 1s 990ms/step - loss: 6.8869 - mae: 6.8869\n",
            "Epoch 2/100\n",
            "1/1 [==============================] - 0s 35ms/step - loss: 6.8861 - mae: 6.8861\n",
            "Epoch 3/100\n",
            "1/1 [==============================] - 0s 22ms/step - loss: 6.8854 - mae: 6.8854\n",
            "Epoch 4/100\n",
            "1/1 [==============================] - 0s 13ms/step - loss: 6.8846 - mae: 6.8846\n",
            "Epoch 5/100\n",
            "1/1 [==============================] - 0s 21ms/step - loss: 6.8839 - mae: 6.8839\n",
            "Epoch 6/100\n",
            "1/1 [==============================] - 0s 10ms/step - loss: 6.8831 - mae: 6.8831\n",
            "Epoch 7/100\n",
            "1/1 [==============================] - 0s 20ms/step - loss: 6.8824 - mae: 6.8824\n",
            "Epoch 8/100\n",
            "1/1 [==============================] - 0s 13ms/step - loss: 6.8816 - mae: 6.8816\n",
            "Epoch 9/100\n",
            "1/1 [==============================] - 0s 20ms/step - loss: 6.8809 - mae: 6.8809\n",
            "Epoch 10/100\n",
            "1/1 [==============================] - 0s 19ms/step - loss: 6.8801 - mae: 6.8801\n",
            "Epoch 11/100\n",
            "1/1 [==============================] - 0s 14ms/step - loss: 6.8794 - mae: 6.8794\n",
            "Epoch 12/100\n",
            "1/1 [==============================] - 0s 19ms/step - loss: 6.8786 - mae: 6.8786\n",
            "Epoch 13/100\n",
            "1/1 [==============================] - 0s 16ms/step - loss: 6.8779 - mae: 6.8779\n",
            "Epoch 14/100\n",
            "1/1 [==============================] - 0s 19ms/step - loss: 6.8771 - mae: 6.8771\n",
            "Epoch 15/100\n",
            "1/1 [==============================] - 0s 16ms/step - loss: 6.8764 - mae: 6.8764\n",
            "Epoch 16/100\n",
            "1/1 [==============================] - 0s 17ms/step - loss: 6.8756 - mae: 6.8756\n",
            "Epoch 17/100\n",
            "1/1 [==============================] - 0s 26ms/step - loss: 6.8749 - mae: 6.8749\n",
            "Epoch 18/100\n",
            "1/1 [==============================] - 0s 17ms/step - loss: 6.8741 - mae: 6.8741\n",
            "Epoch 19/100\n",
            "1/1 [==============================] - 0s 10ms/step - loss: 6.8734 - mae: 6.8734\n",
            "Epoch 20/100\n",
            "1/1 [==============================] - 0s 9ms/step - loss: 6.8726 - mae: 6.8726\n",
            "Epoch 21/100\n",
            "1/1 [==============================] - 0s 15ms/step - loss: 6.8719 - mae: 6.8719\n",
            "Epoch 22/100\n",
            "1/1 [==============================] - 0s 19ms/step - loss: 6.8711 - mae: 6.8711\n",
            "Epoch 23/100\n",
            "1/1 [==============================] - 0s 12ms/step - loss: 6.8704 - mae: 6.8704\n",
            "Epoch 24/100\n",
            "1/1 [==============================] - 0s 11ms/step - loss: 6.8696 - mae: 6.8696\n",
            "Epoch 25/100\n",
            "1/1 [==============================] - 0s 11ms/step - loss: 6.8689 - mae: 6.8689\n",
            "Epoch 26/100\n",
            "1/1 [==============================] - 0s 10ms/step - loss: 6.8681 - mae: 6.8681\n",
            "Epoch 27/100\n",
            "1/1 [==============================] - 0s 10ms/step - loss: 6.8674 - mae: 6.8674\n",
            "Epoch 28/100\n",
            "1/1 [==============================] - 0s 8ms/step - loss: 6.8666 - mae: 6.8666\n",
            "Epoch 29/100\n",
            "1/1 [==============================] - 0s 9ms/step - loss: 6.8659 - mae: 6.8659\n",
            "Epoch 30/100\n",
            "1/1 [==============================] - 0s 6ms/step - loss: 6.8651 - mae: 6.8651\n",
            "Epoch 31/100\n",
            "1/1 [==============================] - 0s 16ms/step - loss: 6.8644 - mae: 6.8644\n",
            "Epoch 32/100\n",
            "1/1 [==============================] - 0s 10ms/step - loss: 6.8636 - mae: 6.8636\n",
            "Epoch 33/100\n",
            "1/1 [==============================] - 0s 12ms/step - loss: 6.8629 - mae: 6.8629\n",
            "Epoch 34/100\n",
            "1/1 [==============================] - 0s 13ms/step - loss: 6.8621 - mae: 6.8621\n",
            "Epoch 35/100\n",
            "1/1 [==============================] - 0s 11ms/step - loss: 6.8614 - mae: 6.8614\n",
            "Epoch 36/100\n",
            "1/1 [==============================] - 0s 12ms/step - loss: 6.8606 - mae: 6.8606\n",
            "Epoch 37/100\n",
            "1/1 [==============================] - 0s 16ms/step - loss: 6.8599 - mae: 6.8599\n",
            "Epoch 38/100\n",
            "1/1 [==============================] - 0s 15ms/step - loss: 6.8591 - mae: 6.8591\n",
            "Epoch 39/100\n",
            "1/1 [==============================] - 0s 11ms/step - loss: 6.8584 - mae: 6.8584\n",
            "Epoch 40/100\n",
            "1/1 [==============================] - 0s 22ms/step - loss: 6.8576 - mae: 6.8576\n",
            "Epoch 41/100\n",
            "1/1 [==============================] - 0s 11ms/step - loss: 6.8569 - mae: 6.8569\n",
            "Epoch 42/100\n",
            "1/1 [==============================] - 0s 8ms/step - loss: 6.8561 - mae: 6.8561\n",
            "Epoch 43/100\n",
            "1/1 [==============================] - 0s 9ms/step - loss: 6.8554 - mae: 6.8554\n",
            "Epoch 44/100\n",
            "1/1 [==============================] - 0s 12ms/step - loss: 6.8546 - mae: 6.8546\n",
            "Epoch 45/100\n",
            "1/1 [==============================] - 0s 13ms/step - loss: 6.8539 - mae: 6.8539\n",
            "Epoch 46/100\n",
            "1/1 [==============================] - 0s 16ms/step - loss: 6.8531 - mae: 6.8531\n",
            "Epoch 47/100\n",
            "1/1 [==============================] - 0s 21ms/step - loss: 6.8524 - mae: 6.8524\n",
            "Epoch 48/100\n",
            "1/1 [==============================] - 0s 14ms/step - loss: 6.8516 - mae: 6.8516\n",
            "Epoch 49/100\n",
            "1/1 [==============================] - 0s 8ms/step - loss: 6.8509 - mae: 6.8509\n",
            "Epoch 50/100\n",
            "1/1 [==============================] - 0s 8ms/step - loss: 6.8501 - mae: 6.8501\n",
            "Epoch 51/100\n",
            "1/1 [==============================] - 0s 8ms/step - loss: 6.8494 - mae: 6.8494\n",
            "Epoch 52/100\n",
            "1/1 [==============================] - 0s 9ms/step - loss: 6.8486 - mae: 6.8486\n",
            "Epoch 53/100\n",
            "1/1 [==============================] - 0s 9ms/step - loss: 6.8479 - mae: 6.8479\n",
            "Epoch 54/100\n",
            "1/1 [==============================] - 0s 9ms/step - loss: 6.8471 - mae: 6.8471\n",
            "Epoch 55/100\n",
            "1/1 [==============================] - 0s 34ms/step - loss: 6.8464 - mae: 6.8464\n",
            "Epoch 56/100\n",
            "1/1 [==============================] - 0s 10ms/step - loss: 6.8456 - mae: 6.8456\n",
            "Epoch 57/100\n",
            "1/1 [==============================] - 0s 8ms/step - loss: 6.8449 - mae: 6.8449\n",
            "Epoch 58/100\n",
            "1/1 [==============================] - 0s 8ms/step - loss: 6.8441 - mae: 6.8441\n",
            "Epoch 59/100\n",
            "1/1 [==============================] - 0s 8ms/step - loss: 6.8434 - mae: 6.8434\n",
            "Epoch 60/100\n",
            "1/1 [==============================] - 0s 8ms/step - loss: 6.8426 - mae: 6.8426\n",
            "Epoch 61/100\n",
            "1/1 [==============================] - 0s 15ms/step - loss: 6.8419 - mae: 6.8419\n",
            "Epoch 62/100\n",
            "1/1 [==============================] - 0s 9ms/step - loss: 6.8411 - mae: 6.8411\n",
            "Epoch 63/100\n",
            "1/1 [==============================] - 0s 9ms/step - loss: 6.8404 - mae: 6.8404\n",
            "Epoch 64/100\n",
            "1/1 [==============================] - 0s 15ms/step - loss: 6.8396 - mae: 6.8396\n",
            "Epoch 65/100\n",
            "1/1 [==============================] - 0s 15ms/step - loss: 6.8389 - mae: 6.8389\n",
            "Epoch 66/100\n",
            "1/1 [==============================] - 0s 10ms/step - loss: 6.8381 - mae: 6.8381\n",
            "Epoch 67/100\n",
            "1/1 [==============================] - 0s 7ms/step - loss: 6.8374 - mae: 6.8374\n",
            "Epoch 68/100\n",
            "1/1 [==============================] - 0s 8ms/step - loss: 6.8366 - mae: 6.8366\n",
            "Epoch 69/100\n",
            "1/1 [==============================] - 0s 7ms/step - loss: 6.8359 - mae: 6.8359\n",
            "Epoch 70/100\n",
            "1/1 [==============================] - 0s 7ms/step - loss: 6.8351 - mae: 6.8351\n",
            "Epoch 71/100\n",
            "1/1 [==============================] - 0s 8ms/step - loss: 6.8344 - mae: 6.8344\n",
            "Epoch 72/100\n",
            "1/1 [==============================] - 0s 13ms/step - loss: 6.8336 - mae: 6.8336\n",
            "Epoch 73/100\n",
            "1/1 [==============================] - 0s 12ms/step - loss: 6.8329 - mae: 6.8329\n",
            "Epoch 74/100\n",
            "1/1 [==============================] - 0s 10ms/step - loss: 6.8321 - mae: 6.8321\n",
            "Epoch 75/100\n",
            "1/1 [==============================] - 0s 16ms/step - loss: 6.8314 - mae: 6.8314\n",
            "Epoch 76/100\n",
            "1/1 [==============================] - 0s 10ms/step - loss: 6.8306 - mae: 6.8306\n",
            "Epoch 77/100\n",
            "1/1 [==============================] - 0s 9ms/step - loss: 6.8299 - mae: 6.8299\n",
            "Epoch 78/100\n",
            "1/1 [==============================] - 0s 21ms/step - loss: 6.8291 - mae: 6.8291\n",
            "Epoch 79/100\n",
            "1/1 [==============================] - 0s 14ms/step - loss: 6.8284 - mae: 6.8284\n",
            "Epoch 80/100\n",
            "1/1 [==============================] - 0s 12ms/step - loss: 6.8276 - mae: 6.8276\n",
            "Epoch 81/100\n",
            "1/1 [==============================] - 0s 18ms/step - loss: 6.8269 - mae: 6.8269\n",
            "Epoch 82/100\n",
            "1/1 [==============================] - 0s 8ms/step - loss: 6.8261 - mae: 6.8261\n",
            "Epoch 83/100\n",
            "1/1 [==============================] - 0s 10ms/step - loss: 6.8254 - mae: 6.8254\n",
            "Epoch 84/100\n",
            "1/1 [==============================] - 0s 9ms/step - loss: 6.8246 - mae: 6.8246\n",
            "Epoch 85/100\n",
            "1/1 [==============================] - 0s 11ms/step - loss: 6.8239 - mae: 6.8239\n",
            "Epoch 86/100\n",
            "1/1 [==============================] - 0s 10ms/step - loss: 6.8231 - mae: 6.8231\n",
            "Epoch 87/100\n",
            "1/1 [==============================] - 0s 14ms/step - loss: 6.8224 - mae: 6.8224\n",
            "Epoch 88/100\n",
            "1/1 [==============================] - 0s 30ms/step - loss: 6.8216 - mae: 6.8216\n",
            "Epoch 89/100\n",
            "1/1 [==============================] - 0s 15ms/step - loss: 6.8209 - mae: 6.8209\n",
            "Epoch 90/100\n",
            "1/1 [==============================] - 0s 12ms/step - loss: 6.8201 - mae: 6.8201\n",
            "Epoch 91/100\n",
            "1/1 [==============================] - 0s 10ms/step - loss: 6.8194 - mae: 6.8194\n",
            "Epoch 92/100\n",
            "1/1 [==============================] - 0s 18ms/step - loss: 6.8186 - mae: 6.8186\n",
            "Epoch 93/100\n",
            "1/1 [==============================] - 0s 10ms/step - loss: 6.8179 - mae: 6.8179\n",
            "Epoch 94/100\n",
            "1/1 [==============================] - 0s 9ms/step - loss: 6.8171 - mae: 6.8171\n",
            "Epoch 95/100\n",
            "1/1 [==============================] - 0s 9ms/step - loss: 6.8164 - mae: 6.8164\n",
            "Epoch 96/100\n",
            "1/1 [==============================] - 0s 13ms/step - loss: 6.8156 - mae: 6.8156\n",
            "Epoch 97/100\n",
            "1/1 [==============================] - 0s 12ms/step - loss: 6.8149 - mae: 6.8149\n",
            "Epoch 98/100\n",
            "1/1 [==============================] - 0s 12ms/step - loss: 6.8141 - mae: 6.8141\n",
            "Epoch 99/100\n",
            "1/1 [==============================] - 0s 11ms/step - loss: 6.8134 - mae: 6.8134\n",
            "Epoch 100/100\n",
            "1/1 [==============================] - 0s 13ms/step - loss: 6.8126 - mae: 6.8126\n"
          ]
        },
        {
          "output_type": "execute_result",
          "data": {
            "text/plain": [
              "<keras.callbacks.History at 0x7f055685f760>"
            ]
          },
          "metadata": {},
          "execution_count": 18
        }
      ]
    },
    {
      "cell_type": "code",
      "source": [
        "X, y"
      ],
      "metadata": {
        "colab": {
          "base_uri": "https://localhost:8080/"
        },
        "id": "0jvPIIW7l0iJ",
        "outputId": "7749fb4c-8c51-4335-9dc0-3137e093d543"
      },
      "execution_count": 19,
      "outputs": [
        {
          "output_type": "execute_result",
          "data": {
            "text/plain": [
              "(<tf.Tensor: shape=(8,), dtype=float32, numpy=array([-7., -4., -1.,  2.,  5.,  8., 11., 14.], dtype=float32)>,\n",
              " <tf.Tensor: shape=(8,), dtype=float32, numpy=array([ 3.,  6.,  9., 12., 15., 18., 21., 24.], dtype=float32)>)"
            ]
          },
          "metadata": {},
          "execution_count": 19
        }
      ]
    },
    {
      "cell_type": "code",
      "source": [
        "# Predict w/ newer model\n",
        "model.predict([17.0])"
      ],
      "metadata": {
        "colab": {
          "base_uri": "https://localhost:8080/"
        },
        "id": "9m6TVuPJmIxF",
        "outputId": "08ba0ca9-92a2-40da-ccca-a99b7321e15f"
      },
      "execution_count": 20,
      "outputs": [
        {
          "output_type": "stream",
          "name": "stdout",
          "text": [
            "1/1 [==============================] - 0s 97ms/step\n"
          ]
        },
        {
          "output_type": "execute_result",
          "data": {
            "text/plain": [
              "array([[30.013987]], dtype=float32)"
            ]
          },
          "metadata": {},
          "execution_count": 20
        }
      ]
    },
    {
      "cell_type": "markdown",
      "source": [
        "## Evaluating a model\n",
        "\n",
        "Build model --> fit model --> evaluate it --> tweak model --> Repeat...\n",
        "\n",
        "Visualizing is very important:\n",
        "- The data: what does data look like?\n",
        "- The model - what does model look like?\n",
        "- The training of a model- how does model perform while it learns?\n",
        "- The predictions of the model - how does the model's predictions line up w/ original labels or expected outcomes"
      ],
      "metadata": {
        "id": "KHaaoOJzmMfS"
      }
    },
    {
      "cell_type": "code",
      "source": [
        " # Make bigger dataset\n",
        " X = tf.range(-100, 100, 4)\n",
        " X"
      ],
      "metadata": {
        "colab": {
          "base_uri": "https://localhost:8080/"
        },
        "id": "n6eHZBW2n23N",
        "outputId": "56a2a027-c8be-479a-fe35-6b4e50503144"
      },
      "execution_count": 21,
      "outputs": [
        {
          "output_type": "execute_result",
          "data": {
            "text/plain": [
              "<tf.Tensor: shape=(50,), dtype=int32, numpy=\n",
              "array([-100,  -96,  -92,  -88,  -84,  -80,  -76,  -72,  -68,  -64,  -60,\n",
              "        -56,  -52,  -48,  -44,  -40,  -36,  -32,  -28,  -24,  -20,  -16,\n",
              "        -12,   -8,   -4,    0,    4,    8,   12,   16,   20,   24,   28,\n",
              "         32,   36,   40,   44,   48,   52,   56,   60,   64,   68,   72,\n",
              "         76,   80,   84,   88,   92,   96], dtype=int32)>"
            ]
          },
          "metadata": {},
          "execution_count": 21
        }
      ]
    },
    {
      "cell_type": "code",
      "source": [
        "# Make labels for dataset\n",
        "y = X + 10\n",
        "y"
      ],
      "metadata": {
        "colab": {
          "base_uri": "https://localhost:8080/"
        },
        "id": "AbvdwKL2p259",
        "outputId": "75470142-ff61-476f-ef20-dc2afcde0cee"
      },
      "execution_count": 22,
      "outputs": [
        {
          "output_type": "execute_result",
          "data": {
            "text/plain": [
              "<tf.Tensor: shape=(50,), dtype=int32, numpy=\n",
              "array([-90, -86, -82, -78, -74, -70, -66, -62, -58, -54, -50, -46, -42,\n",
              "       -38, -34, -30, -26, -22, -18, -14, -10,  -6,  -2,   2,   6,  10,\n",
              "        14,  18,  22,  26,  30,  34,  38,  42,  46,  50,  54,  58,  62,\n",
              "        66,  70,  74,  78,  82,  86,  90,  94,  98, 102, 106], dtype=int32)>"
            ]
          },
          "metadata": {},
          "execution_count": 22
        }
      ]
    },
    {
      "cell_type": "code",
      "source": [
        "# Visualize data\n",
        "\n",
        "import matplotlib.pyplot as plt\n",
        "plt.scatter(X, y)"
      ],
      "metadata": {
        "colab": {
          "base_uri": "https://localhost:8080/",
          "height": 447
        },
        "id": "r_mp3zGFp_cH",
        "outputId": "4f847582-8d5d-4f91-f3e9-876b60fcac39"
      },
      "execution_count": 23,
      "outputs": [
        {
          "output_type": "execute_result",
          "data": {
            "text/plain": [
              "<matplotlib.collections.PathCollection at 0x7f0556780af0>"
            ]
          },
          "metadata": {},
          "execution_count": 23
        },
        {
          "output_type": "display_data",
          "data": {
            "text/plain": [
              "<Figure size 640x480 with 1 Axes>"
            ],
            "image/png": "[encoded data removed]"
          },
          "metadata": {}
        }
      ]
    },
    {
      "cell_type": "markdown",
      "source": [
        "### The 3 sets: \n",
        "\n",
        "- **Training set** - model learns from data, typically 70-80% of total data available\n",
        "- **Validation set** - model is tuned based on this data, 10-15% of available data\n",
        "- **Test set** - model is evaluated on data to test what it has learned, typically 10-15% of total available data"
      ],
      "metadata": {
        "id": "LN6svG2TqIxD"
      }
    },
    {
      "cell_type": "code",
      "source": [
        "# Check length of num of samples\n",
        "len(X)"
      ],
      "metadata": {
        "colab": {
          "base_uri": "https://localhost:8080/"
        },
        "id": "YML8l712rMP8",
        "outputId": "3cbeb9cb-464c-4053-d454-69908f01db02"
      },
      "execution_count": 24,
      "outputs": [
        {
          "output_type": "execute_result",
          "data": {
            "text/plain": [
              "50"
            ]
          },
          "metadata": {},
          "execution_count": 24
        }
      ]
    },
    {
      "cell_type": "code",
      "source": [
        "# Split data into test and train sets\n",
        "X_train = X[:40] # first 40 training samples(80% of total data)\n",
        "y_train = y[:40]\n",
        "\n",
        "X_test = X[40:] # last testing samples (20% of total data)\n",
        "y_test = y[40:]\n",
        "\n",
        "len(X_train), len(X_test), len(y_train), len(y_test)"
      ],
      "metadata": {
        "colab": {
          "base_uri": "https://localhost:8080/"
        },
        "id": "K5AoYbr8rfxn",
        "outputId": "74c6151b-d0dc-4baf-8596-a84eaa818a82"
      },
      "execution_count": 25,
      "outputs": [
        {
          "output_type": "execute_result",
          "data": {
            "text/plain": [
              "(40, 10, 40, 10)"
            ]
          },
          "metadata": {},
          "execution_count": 25
        }
      ]
    },
    {
      "cell_type": "markdown",
      "source": [
        "### Visualizing data in newly created training and test sets\n"
      ],
      "metadata": {
        "id": "c_2HqvE-saM2"
      }
    },
    {
      "cell_type": "code",
      "source": [
        "plt.figure(figsize=(10, 7))\n",
        "# Plot training data in blue\n",
        "plt.scatter(X_train, y_train, c=\"b\", label=\"Training data\") # model learns on training data\n",
        "# Plot test data in green\n",
        "plt.scatter(X_test, y_test, c=\"g\", label=\"Testing data\") # moedl tested on testing data\n",
        "# Show legend\n",
        "plt.legend()"
      ],
      "metadata": {
        "colab": {
          "base_uri": "https://localhost:8080/",
          "height": 616
        },
        "id": "VRsiwzy2sf1q",
        "outputId": "960088eb-2e5c-436a-f0ca-351772cf18a8"
      },
      "execution_count": 26,
      "outputs": [
        {
          "output_type": "execute_result",
          "data": {
            "text/plain": [
              "<matplotlib.legend.Legend at 0x7f05565e9f90>"
            ]
          },
          "metadata": {},
          "execution_count": 26
        },
        {
          "output_type": "display_data",
          "data": {
            "text/plain": [
              "<Figure size 1000x700 with 1 Axes>"
            ],
            "image/png": "[encoded data removed]"
          },
          "metadata": {}
        }
      ]
    },
    {
      "cell_type": "code",
      "source": [
        "# 1. Create model\n",
        "model = tf.keras.Sequential([\n",
        "    tf.keras.layers.Dense(1)\n",
        "])\n",
        "\n",
        "#2. Compile model\n",
        "model.compile(loss=tf.keras.losses.mae,\n",
        "              optimizer=tf.keras.optimizers.SGD(),\n",
        "              metrics=[\"mae\"])\n",
        "\n",
        "#3. Fit model\n",
        "#model.fit(X_train, y_train, epochs=100) #Fit model only on training"
      ],
      "metadata": {
        "id": "1uBhpSZws9mo"
      },
      "execution_count": 27,
      "outputs": []
    },
    {
      "cell_type": "markdown",
      "source": [
        "### Visualizing the model"
      ],
      "metadata": {
        "id": "yYcJVrsd7oEO"
      }
    },
    {
      "cell_type": "code",
      "source": [
        "model.summary()"
      ],
      "metadata": {
        "colab": {
          "base_uri": "https://localhost:8080/",
          "height": 305
        },
        "id": "2IaKafO07q5S",
        "outputId": "477ee10d-4b29-449b-a0e1-b95566f4362f"
      },
      "execution_count": 28,
      "outputs": [
        {
          "output_type": "error",
          "ename": "ValueError",
          "evalue": "ignored",
          "traceback": [
            "\u001b[0;31m---------------------------------------------------------------------------\u001b[0m",
            "\u001b[0;31mValueError\u001b[0m                                Traceback (most recent call last)",
            "\u001b[0;32m<ipython-input-28-5f15418b3570>\u001b[0m in \u001b[0;36m<cell line: 1>\u001b[0;34m()\u001b[0m\n\u001b[0;32m----> 1\u001b[0;31m \u001b[0mmodel\u001b[0m\u001b[0;34m.\u001b[0m\u001b[0msummary\u001b[0m\u001b[0;34m(\u001b[0m\u001b[0;34m)\u001b[0m\u001b[0;34m\u001b[0m\u001b[0;34m\u001b[0m\u001b[0m\n\u001b[0m",
            "\u001b[0;32m/usr/local/lib/python3.10/dist-packages/keras/engine/training.py\u001b[0m in \u001b[0;36msummary\u001b[0;34m(self, line_length, positions, print_fn, expand_nested, show_trainable, layer_range)\u001b[0m\n\u001b[1;32m   3227\u001b[0m         \"\"\"\n\u001b[1;32m   3228\u001b[0m         \u001b[0;32mif\u001b[0m \u001b[0;32mnot\u001b[0m \u001b[0mself\u001b[0m\u001b[0;34m.\u001b[0m\u001b[0mbuilt\u001b[0m\u001b[0;34m:\u001b[0m\u001b[0;34m\u001b[0m\u001b[0;34m\u001b[0m\u001b[0m\n\u001b[0;32m-> 3229\u001b[0;31m             raise ValueError(\n\u001b[0m\u001b[1;32m   3230\u001b[0m                 \u001b[0;34m\"This model has not yet been built. \"\u001b[0m\u001b[0;34m\u001b[0m\u001b[0;34m\u001b[0m\u001b[0m\n\u001b[1;32m   3231\u001b[0m                 \u001b[0;34m\"Build the model first by calling `build()` or by calling \"\u001b[0m\u001b[0;34m\u001b[0m\u001b[0;34m\u001b[0m\u001b[0m\n",
            "\u001b[0;31mValueError\u001b[0m: This model has not yet been built. Build the model first by calling `build()` or by calling the model on a batch of data."
          ]
        }
      ]
    },
    {
      "cell_type": "code",
      "source": [
        "# Create model which builds automatically by defining input_shape arg in first layer\n",
        "tf.random.set_seed(42)\n",
        "\n",
        "# 1. Create model\n",
        "model = tf.keras.Sequential([\n",
        "    tf.keras.layers.Dense(1, input_shape=[1]) # input_shape = 1 b/c both X[0] and y[0] are scalars w/ shape of [1] or 1 number\n",
        "])\n",
        "\n",
        "# 2. Compile model\n",
        "model.compile(loss = tf.keras.losses.mae,\n",
        "              optimizer=tf.keras.optimizers.SGD(),\n",
        "              metrics=[\"mae\"])"
      ],
      "metadata": {
        "id": "Mt94-2Hi7tBa"
      },
      "execution_count": 29,
      "outputs": []
    },
    {
      "cell_type": "code",
      "source": [
        "model.summary()"
      ],
      "metadata": {
        "colab": {
          "base_uri": "https://localhost:8080/"
        },
        "id": "bjNCVH_671Ow",
        "outputId": "b4ed6086-ddb0-4bb2-f9af-69bfcde2b358"
      },
      "execution_count": 30,
      "outputs": [
        {
          "output_type": "stream",
          "name": "stdout",
          "text": [
            "Model: \"sequential_4\"\n",
            "_________________________________________________________________\n",
            " Layer (type)                Output Shape              Param #   \n",
            "=================================================================\n",
            " dense_5 (Dense)             (None, 1)                 2         \n",
            "                                                                 \n",
            "=================================================================\n",
            "Total params: 2\n",
            "Trainable params: 2\n",
            "Non-trainable params: 0\n",
            "_________________________________________________________________\n"
          ]
        }
      ]
    },
    {
      "cell_type": "markdown",
      "source": [
        "- Total params - total # of params in model\n",
        "- Trainable params - params (patterns) model can update as it trains\n",
        "- Non-trainable params - params aren't updated during training (typical when importing already learned patterns or params through **transfer learning**)"
      ],
      "metadata": {
        "id": "8EY2kcTa8w9M"
      }
    },
    {
      "cell_type": "code",
      "source": [
        "# Experimenting w/ # of hidden layers and trainable params/total params\n",
        "tf.random.set_seed(42)\n",
        "\n",
        "# 1. Create model\n",
        "model = tf.keras.Sequential([\n",
        "   tf.keras.layers.Dense(10, input_shape=[1], name = \"input_layer\"), #input_shape = 1 b/c both X[0] and y[0] are scalars w/ shape of [1] or 1 number\n",
        "   tf.keras.layers.Dense(1, name=\"output_layer\")\n",
        "], name = \"model_1\")\n",
        "\n",
        "# 2. Compile model\n",
        "model.compile(loss = tf.keras.losses.mae,\n",
        "              optimizer=tf.keras.optimizers.SGD(),\n",
        "              metrics=[\"mae\"])\n",
        "model.summary()"
      ],
      "metadata": {
        "colab": {
          "base_uri": "https://localhost:8080/"
        },
        "id": "60O7tPxq_O52",
        "outputId": "4822bc62-a342-45d2-8f6f-0ce97f6c159e"
      },
      "execution_count": 32,
      "outputs": [
        {
          "output_type": "stream",
          "name": "stdout",
          "text": [
            "Model: \"model_1\"\n",
            "_________________________________________________________________\n",
            " Layer (type)                Output Shape              Param #   \n",
            "=================================================================\n",
            " input_layer (Dense)         (None, 10)                20        \n",
            "                                                                 \n",
            " output_layer (Dense)        (None, 1)                 11        \n",
            "                                                                 \n",
            "=================================================================\n",
            "Total params: 31\n",
            "Trainable params: 31\n",
            "Non-trainable params: 0\n",
            "_________________________________________________________________\n"
          ]
        }
      ]
    },
    {
      "cell_type": "markdown",
      "source": [
        "For every hidden layer added there are 2 trainable params per layer b/c number of layers * 2 = total params"
      ],
      "metadata": {
        "id": "GTntjzGV_fE1"
      }
    },
    {
      "cell_type": "code",
      "source": [
        "# Fitting original model to trianing\n",
        "model.fit(X_train, y_train, epochs=100, verbose=2)"
      ],
      "metadata": {
        "colab": {
          "base_uri": "https://localhost:8080/"
        },
        "id": "YYZaWEqj-zvO",
        "outputId": "afaa2073-1566-46e2-e16a-44ef16eb93c7"
      },
      "execution_count": 33,
      "outputs": [
        {
          "output_type": "stream",
          "name": "stdout",
          "text": [
            "Epoch 1/100\n",
            "2/2 - 0s - loss: 36.8477 - mae: 36.8477 - 285ms/epoch - 143ms/step\n",
            "Epoch 2/100\n",
            "2/2 - 0s - loss: 22.1848 - mae: 22.1848 - 9ms/epoch - 4ms/step\n",
            "Epoch 3/100\n",
            "2/2 - 0s - loss: 27.6054 - mae: 27.6054 - 6ms/epoch - 3ms/step\n",
            "Epoch 4/100\n",
            "2/2 - 0s - loss: 13.4294 - mae: 13.4294 - 6ms/epoch - 3ms/step\n",
            "Epoch 5/100\n",
            "2/2 - 0s - loss: 17.9961 - mae: 17.9961 - 5ms/epoch - 3ms/step\n",
            "Epoch 6/100\n",
            "2/2 - 0s - loss: 8.5350 - mae: 8.5350 - 6ms/epoch - 3ms/step\n",
            "Epoch 7/100\n",
            "2/2 - 0s - loss: 12.3053 - mae: 12.3053 - 6ms/epoch - 3ms/step\n",
            "Epoch 8/100\n",
            "2/2 - 0s - loss: 10.9453 - mae: 10.9453 - 10ms/epoch - 5ms/step\n",
            "Epoch 9/100\n",
            "2/2 - 0s - loss: 38.6786 - mae: 38.6786 - 5ms/epoch - 3ms/step\n",
            "Epoch 10/100\n",
            "2/2 - 0s - loss: 26.3062 - mae: 26.3062 - 5ms/epoch - 3ms/step\n",
            "Epoch 11/100\n",
            "2/2 - 0s - loss: 11.8113 - mae: 11.8113 - 5ms/epoch - 3ms/step\n",
            "Epoch 12/100\n",
            "2/2 - 0s - loss: 23.6843 - mae: 23.6843 - 5ms/epoch - 3ms/step\n",
            "Epoch 13/100\n",
            "2/2 - 0s - loss: 21.0172 - mae: 21.0172 - 6ms/epoch - 3ms/step\n",
            "Epoch 14/100\n",
            "2/2 - 0s - loss: 23.4466 - mae: 23.4466 - 5ms/epoch - 3ms/step\n",
            "Epoch 15/100\n",
            "2/2 - 0s - loss: 15.2392 - mae: 15.2392 - 5ms/epoch - 3ms/step\n",
            "Epoch 16/100\n",
            "2/2 - 0s - loss: 11.3402 - mae: 11.3402 - 6ms/epoch - 3ms/step\n",
            "Epoch 17/100\n",
            "2/2 - 0s - loss: 23.1856 - mae: 23.1856 - 5ms/epoch - 3ms/step\n",
            "Epoch 18/100\n",
            "2/2 - 0s - loss: 11.7712 - mae: 11.7712 - 5ms/epoch - 3ms/step\n",
            "Epoch 19/100\n",
            "2/2 - 0s - loss: 16.4860 - mae: 16.4860 - 5ms/epoch - 3ms/step\n",
            "Epoch 20/100\n",
            "2/2 - 0s - loss: 8.2262 - mae: 8.2262 - 5ms/epoch - 3ms/step\n",
            "Epoch 21/100\n",
            "2/2 - 0s - loss: 14.4071 - mae: 14.4071 - 6ms/epoch - 3ms/step\n",
            "Epoch 22/100\n",
            "2/2 - 0s - loss: 12.8233 - mae: 12.8233 - 11ms/epoch - 5ms/step\n",
            "Epoch 23/100\n",
            "2/2 - 0s - loss: 15.4552 - mae: 15.4552 - 6ms/epoch - 3ms/step\n",
            "Epoch 24/100\n",
            "2/2 - 0s - loss: 15.2449 - mae: 15.2449 - 6ms/epoch - 3ms/step\n",
            "Epoch 25/100\n",
            "2/2 - 0s - loss: 14.3192 - mae: 14.3192 - 6ms/epoch - 3ms/step\n",
            "Epoch 26/100\n",
            "2/2 - 0s - loss: 19.3157 - mae: 19.3157 - 6ms/epoch - 3ms/step\n",
            "Epoch 27/100\n",
            "2/2 - 0s - loss: 11.4511 - mae: 11.4511 - 6ms/epoch - 3ms/step\n",
            "Epoch 28/100\n",
            "2/2 - 0s - loss: 29.1907 - mae: 29.1907 - 6ms/epoch - 3ms/step\n",
            "Epoch 29/100\n",
            "2/2 - 0s - loss: 9.2380 - mae: 9.2380 - 6ms/epoch - 3ms/step\n",
            "Epoch 30/100\n",
            "2/2 - 0s - loss: 29.9129 - mae: 29.9129 - 7ms/epoch - 3ms/step\n",
            "Epoch 31/100\n",
            "2/2 - 0s - loss: 54.2873 - mae: 54.2873 - 7ms/epoch - 3ms/step\n",
            "Epoch 32/100\n",
            "2/2 - 0s - loss: 9.5740 - mae: 9.5740 - 6ms/epoch - 3ms/step\n",
            "Epoch 33/100\n",
            "2/2 - 0s - loss: 12.1696 - mae: 12.1696 - 5ms/epoch - 3ms/step\n",
            "Epoch 34/100\n",
            "2/2 - 0s - loss: 23.9970 - mae: 23.9970 - 6ms/epoch - 3ms/step\n",
            "Epoch 35/100\n",
            "2/2 - 0s - loss: 12.5973 - mae: 12.5973 - 5ms/epoch - 3ms/step\n",
            "Epoch 36/100\n",
            "2/2 - 0s - loss: 21.4939 - mae: 21.4939 - 6ms/epoch - 3ms/step\n",
            "Epoch 37/100\n",
            "2/2 - 0s - loss: 11.3933 - mae: 11.3933 - 7ms/epoch - 3ms/step\n",
            "Epoch 38/100\n",
            "2/2 - 0s - loss: 13.5040 - mae: 13.5040 - 5ms/epoch - 3ms/step\n",
            "Epoch 39/100\n",
            "2/2 - 0s - loss: 10.8018 - mae: 10.8018 - 9ms/epoch - 4ms/step\n",
            "Epoch 40/100\n",
            "2/2 - 0s - loss: 16.6745 - mae: 16.6745 - 7ms/epoch - 3ms/step\n",
            "Epoch 41/100\n",
            "2/2 - 0s - loss: 11.0008 - mae: 11.0008 - 6ms/epoch - 3ms/step\n",
            "Epoch 42/100\n",
            "2/2 - 0s - loss: 9.3208 - mae: 9.3208 - 7ms/epoch - 3ms/step\n",
            "Epoch 43/100\n",
            "2/2 - 0s - loss: 9.5908 - mae: 9.5908 - 10ms/epoch - 5ms/step\n",
            "Epoch 44/100\n",
            "2/2 - 0s - loss: 28.1522 - mae: 28.1522 - 12ms/epoch - 6ms/step\n",
            "Epoch 45/100\n",
            "2/2 - 0s - loss: 11.3133 - mae: 11.3133 - 8ms/epoch - 4ms/step\n",
            "Epoch 46/100\n",
            "2/2 - 0s - loss: 14.1674 - mae: 14.1674 - 7ms/epoch - 3ms/step\n",
            "Epoch 47/100\n",
            "2/2 - 0s - loss: 13.4581 - mae: 13.4581 - 6ms/epoch - 3ms/step\n",
            "Epoch 48/100\n",
            "2/2 - 0s - loss: 17.2730 - mae: 17.2730 - 7ms/epoch - 3ms/step\n",
            "Epoch 49/100\n",
            "2/2 - 0s - loss: 9.5433 - mae: 9.5433 - 7ms/epoch - 3ms/step\n",
            "Epoch 50/100\n",
            "2/2 - 0s - loss: 13.7676 - mae: 13.7676 - 7ms/epoch - 3ms/step\n",
            "Epoch 51/100\n",
            "2/2 - 0s - loss: 11.5753 - mae: 11.5753 - 6ms/epoch - 3ms/step\n",
            "Epoch 52/100\n",
            "2/2 - 0s - loss: 30.4363 - mae: 30.4363 - 7ms/epoch - 3ms/step\n",
            "Epoch 53/100\n",
            "2/2 - 0s - loss: 14.3013 - mae: 14.3013 - 6ms/epoch - 3ms/step\n",
            "Epoch 54/100\n",
            "2/2 - 0s - loss: 23.8805 - mae: 23.8805 - 6ms/epoch - 3ms/step\n",
            "Epoch 55/100\n",
            "2/2 - 0s - loss: 23.0946 - mae: 23.0946 - 6ms/epoch - 3ms/step\n",
            "Epoch 56/100\n",
            "2/2 - 0s - loss: 10.8504 - mae: 10.8504 - 7ms/epoch - 3ms/step\n",
            "Epoch 57/100\n",
            "2/2 - 0s - loss: 12.7013 - mae: 12.7013 - 6ms/epoch - 3ms/step\n",
            "Epoch 58/100\n",
            "2/2 - 0s - loss: 9.5753 - mae: 9.5753 - 6ms/epoch - 3ms/step\n",
            "Epoch 59/100\n",
            "2/2 - 0s - loss: 12.4798 - mae: 12.4798 - 6ms/epoch - 3ms/step\n",
            "Epoch 60/100\n",
            "2/2 - 0s - loss: 11.8919 - mae: 11.8919 - 6ms/epoch - 3ms/step\n",
            "Epoch 61/100\n",
            "2/2 - 0s - loss: 16.9737 - mae: 16.9737 - 6ms/epoch - 3ms/step\n",
            "Epoch 62/100\n",
            "2/2 - 0s - loss: 10.3901 - mae: 10.3901 - 7ms/epoch - 3ms/step\n",
            "Epoch 63/100\n",
            "2/2 - 0s - loss: 10.3451 - mae: 10.3451 - 7ms/epoch - 3ms/step\n",
            "Epoch 64/100\n",
            "2/2 - 0s - loss: 24.2046 - mae: 24.2046 - 8ms/epoch - 4ms/step\n",
            "Epoch 65/100\n",
            "2/2 - 0s - loss: 10.5260 - mae: 10.5260 - 8ms/epoch - 4ms/step\n",
            "Epoch 66/100\n",
            "2/2 - 0s - loss: 21.2181 - mae: 21.2181 - 6ms/epoch - 3ms/step\n",
            "Epoch 67/100\n",
            "2/2 - 0s - loss: 10.5249 - mae: 10.5249 - 6ms/epoch - 3ms/step\n",
            "Epoch 68/100\n",
            "2/2 - 0s - loss: 14.3812 - mae: 14.3812 - 6ms/epoch - 3ms/step\n",
            "Epoch 69/100\n",
            "2/2 - 0s - loss: 10.6184 - mae: 10.6184 - 5ms/epoch - 3ms/step\n",
            "Epoch 70/100\n",
            "2/2 - 0s - loss: 12.7047 - mae: 12.7047 - 7ms/epoch - 3ms/step\n",
            "Epoch 71/100\n",
            "2/2 - 0s - loss: 13.1354 - mae: 13.1354 - 6ms/epoch - 3ms/step\n",
            "Epoch 72/100\n",
            "2/2 - 0s - loss: 19.6565 - mae: 19.6565 - 8ms/epoch - 4ms/step\n",
            "Epoch 73/100\n",
            "2/2 - 0s - loss: 11.1995 - mae: 11.1995 - 8ms/epoch - 4ms/step\n",
            "Epoch 74/100\n",
            "2/2 - 0s - loss: 21.9515 - mae: 21.9515 - 8ms/epoch - 4ms/step\n",
            "Epoch 75/100\n",
            "2/2 - 0s - loss: 7.1861 - mae: 7.1861 - 8ms/epoch - 4ms/step\n",
            "Epoch 76/100\n",
            "2/2 - 0s - loss: 9.4116 - mae: 9.4116 - 7ms/epoch - 3ms/step\n",
            "Epoch 77/100\n",
            "2/2 - 0s - loss: 22.0286 - mae: 22.0286 - 8ms/epoch - 4ms/step\n",
            "Epoch 78/100\n",
            "2/2 - 0s - loss: 17.7369 - mae: 17.7369 - 7ms/epoch - 3ms/step\n",
            "Epoch 79/100\n",
            "2/2 - 0s - loss: 14.8857 - mae: 14.8857 - 7ms/epoch - 3ms/step\n",
            "Epoch 80/100\n",
            "2/2 - 0s - loss: 25.2338 - mae: 25.2338 - 6ms/epoch - 3ms/step\n",
            "Epoch 81/100\n",
            "2/2 - 0s - loss: 10.9516 - mae: 10.9516 - 6ms/epoch - 3ms/step\n",
            "Epoch 82/100\n",
            "2/2 - 0s - loss: 12.7246 - mae: 12.7246 - 7ms/epoch - 3ms/step\n",
            "Epoch 83/100\n",
            "2/2 - 0s - loss: 17.4874 - mae: 17.4874 - 7ms/epoch - 4ms/step\n",
            "Epoch 84/100\n",
            "2/2 - 0s - loss: 7.2796 - mae: 7.2796 - 6ms/epoch - 3ms/step\n",
            "Epoch 85/100\n",
            "2/2 - 0s - loss: 15.0148 - mae: 15.0148 - 6ms/epoch - 3ms/step\n",
            "Epoch 86/100\n",
            "2/2 - 0s - loss: 15.3261 - mae: 15.3261 - 7ms/epoch - 3ms/step\n",
            "Epoch 87/100\n",
            "2/2 - 0s - loss: 19.1866 - mae: 19.1866 - 7ms/epoch - 4ms/step\n",
            "Epoch 88/100\n",
            "2/2 - 0s - loss: 29.6189 - mae: 29.6189 - 8ms/epoch - 4ms/step\n",
            "Epoch 89/100\n",
            "2/2 - 0s - loss: 10.1491 - mae: 10.1491 - 7ms/epoch - 4ms/step\n",
            "Epoch 90/100\n",
            "2/2 - 0s - loss: 21.3575 - mae: 21.3575 - 7ms/epoch - 3ms/step\n",
            "Epoch 91/100\n",
            "2/2 - 0s - loss: 10.5360 - mae: 10.5360 - 6ms/epoch - 3ms/step\n",
            "Epoch 92/100\n",
            "2/2 - 0s - loss: 18.2493 - mae: 18.2493 - 6ms/epoch - 3ms/step\n",
            "Epoch 93/100\n",
            "2/2 - 0s - loss: 6.8132 - mae: 6.8132 - 8ms/epoch - 4ms/step\n",
            "Epoch 94/100\n",
            "2/2 - 0s - loss: 13.0316 - mae: 13.0316 - 6ms/epoch - 3ms/step\n",
            "Epoch 95/100\n",
            "2/2 - 0s - loss: 18.4430 - mae: 18.4430 - 7ms/epoch - 3ms/step\n",
            "Epoch 96/100\n",
            "2/2 - 0s - loss: 10.3625 - mae: 10.3625 - 5ms/epoch - 2ms/step\n",
            "Epoch 97/100\n",
            "2/2 - 0s - loss: 14.4529 - mae: 14.4529 - 8ms/epoch - 4ms/step\n",
            "Epoch 98/100\n",
            "2/2 - 0s - loss: 6.5745 - mae: 6.5745 - 6ms/epoch - 3ms/step\n",
            "Epoch 99/100\n",
            "2/2 - 0s - loss: 12.5869 - mae: 12.5869 - 10ms/epoch - 5ms/step\n",
            "Epoch 100/100\n",
            "2/2 - 0s - loss: 19.3921 - mae: 19.3921 - 10ms/epoch - 5ms/step\n"
          ]
        },
        {
          "output_type": "execute_result",
          "data": {
            "text/plain": [
              "<keras.callbacks.History at 0x7f05563891e0>"
            ]
          },
          "metadata": {},
          "execution_count": 33
        }
      ]
    },
    {
      "cell_type": "code",
      "source": [
        "from tensorflow.keras.utils import plot_model\n",
        "\n",
        "plot_model(model=model, show_shapes=True)"
      ],
      "metadata": {
        "colab": {
          "base_uri": "https://localhost:8080/",
          "height": 312
        },
        "id": "TO3ci-GhgOGM",
        "outputId": "60a6aa70-a8c8-4478-9e91-3f5ef00eff5d"
      },
      "execution_count": 34,
      "outputs": [
        {
          "output_type": "execute_result",
          "data": {
            "image/png": "[encoded data removed]",
            "text/plain": [
              "<IPython.core.display.Image object>"
            ]
          },
          "metadata": {},
          "execution_count": 34
        }
      ]
    },
    {
      "cell_type": "code",
      "source": [
        "# Get summary of model\n",
        "model.summary()"
      ],
      "metadata": {
        "colab": {
          "base_uri": "https://localhost:8080/"
        },
        "id": "E-nPInR2h94s",
        "outputId": "56943d7d-003d-4a94-c66e-ab9d26dd4b8e"
      },
      "execution_count": 35,
      "outputs": [
        {
          "output_type": "stream",
          "name": "stdout",
          "text": [
            "Model: \"model_1\"\n",
            "_________________________________________________________________\n",
            " Layer (type)                Output Shape              Param #   \n",
            "=================================================================\n",
            " input_layer (Dense)         (None, 10)                20        \n",
            "                                                                 \n",
            " output_layer (Dense)        (None, 1)                 11        \n",
            "                                                                 \n",
            "=================================================================\n",
            "Total params: 31\n",
            "Trainable params: 31\n",
            "Non-trainable params: 0\n",
            "_________________________________________________________________\n"
          ]
        }
      ]
    },
    {
      "cell_type": "markdown",
      "source": [
        "### More model visualization and experimentation"
      ],
      "metadata": {
        "id": "-QGf6rUfikE0"
      }
    },
    {
      "cell_type": "code",
      "source": [
        "# Experimenting w/ # of hidden layers and trainable params/total params\n",
        "tf.random.set_seed(42)\n",
        "\n",
        "# 1. Create model\n",
        "model = tf.keras.Sequential([\n",
        "   tf.keras.layers.Dense(10, input_shape=[1], name = \"input_layer\"), #input_shape = 1 b/c both X[0] and y[0] are scalars w/ shape of [1] or 1 number\n",
        "   tf.keras.layers.Dense(100, name=\"hidden_layer1\"),\n",
        "   tf.keras.layers.Dense(10, name=\"hidden_layer2\"),\n",
        "   tf.keras.layers.Dense(1, name=\"output_layer1\")\n",
        "], name = \"model_2\")\n",
        "\n",
        "# 2. Compile model\n",
        "model.compile(loss = tf.keras.losses.mae,\n",
        "              optimizer=tf.keras.optimizers.SGD(),\n",
        "              metrics=[\"mae\"])\n",
        "model.summary()"
      ],
      "metadata": {
        "colab": {
          "base_uri": "https://localhost:8080/"
        },
        "id": "r-LkhodRijyj",
        "outputId": "ff74675c-3f95-4941-8b37-4649dafe7997"
      },
      "execution_count": 36,
      "outputs": [
        {
          "output_type": "stream",
          "name": "stdout",
          "text": [
            "Model: \"model_2\"\n",
            "_________________________________________________________________\n",
            " Layer (type)                Output Shape              Param #   \n",
            "=================================================================\n",
            " input_layer (Dense)         (None, 10)                20        \n",
            "                                                                 \n",
            " hidden_layer1 (Dense)       (None, 100)               1100      \n",
            "                                                                 \n",
            " hidden_layer2 (Dense)       (None, 10)                1010      \n",
            "                                                                 \n",
            " output_layer1 (Dense)       (None, 1)                 11        \n",
            "                                                                 \n",
            "=================================================================\n",
            "Total params: 2,141\n",
            "Trainable params: 2,141\n",
            "Non-trainable params: 0\n",
            "_________________________________________________________________\n"
          ]
        }
      ]
    },
    {
      "cell_type": "code",
      "source": [
        "plot_model(model=model, show_shapes=True)"
      ],
      "metadata": {
        "colab": {
          "base_uri": "https://localhost:8080/",
          "height": 533
        },
        "id": "en_xKdxmkV4i",
        "outputId": "92ac2a2e-b1ec-40fb-be9d-b81fbe49e189"
      },
      "execution_count": 37,
      "outputs": [
        {
          "output_type": "execute_result",
          "data": {
            "image/png": "[encoded data removed]",
            "text/plain": [
              "<IPython.core.display.Image object>"
            ]
          },
          "metadata": {},
          "execution_count": 37
        }
      ]
    },
    {
      "cell_type": "markdown",
      "source": [
        "### Visualizing model predictions\n",
        "\n",
        "(Predictions from the original model from cell 75)\n",
        "\n",
        "To visualize predictions: plot predictions vs actual values.\n",
        "\n",
        "'y_test' or 'y_pred' vs 'y_pred' (actual vs model predictions)"
      ],
      "metadata": {
        "id": "7hXwfsxNiAuU"
      }
    },
    {
      "cell_type": "code",
      "source": [
        "# Making predictions\n",
        "y_pred = model.predict(X_test)\n",
        "y_pred"
      ],
      "metadata": {
        "colab": {
          "base_uri": "https://localhost:8080/"
        },
        "id": "zeBKQLoqiOfm",
        "outputId": "6ce03426-c6ed-4c92-ece2-c61fd7fa02fe"
      },
      "execution_count": 38,
      "outputs": [
        {
          "output_type": "stream",
          "name": "stdout",
          "text": [
            "1/1 [==============================] - 0s 47ms/step\n"
          ]
        },
        {
          "output_type": "execute_result",
          "data": {
            "text/plain": [
              "array([[-26.178131],\n",
              "       [-27.923338],\n",
              "       [-29.66855 ],\n",
              "       [-31.413757],\n",
              "       [-33.158962],\n",
              "       [-34.904175],\n",
              "       [-36.649387],\n",
              "       [-38.39459 ],\n",
              "       [-40.139793],\n",
              "       [-41.88501 ]], dtype=float32)"
            ]
          },
          "metadata": {},
          "execution_count": 38
        }
      ]
    },
    {
      "cell_type": "code",
      "source": [
        "y_test"
      ],
      "metadata": {
        "colab": {
          "base_uri": "https://localhost:8080/"
        },
        "id": "MPpfyV9vlCA3",
        "outputId": "d45a1e75-465c-4e39-bdc2-34e9dafeb671"
      },
      "execution_count": 39,
      "outputs": [
        {
          "output_type": "execute_result",
          "data": {
            "text/plain": [
              "<tf.Tensor: shape=(10,), dtype=int32, numpy=array([ 70,  74,  78,  82,  86,  90,  94,  98, 102, 106], dtype=int32)>"
            ]
          },
          "metadata": {},
          "execution_count": 39
        }
      ]
    },
    {
      "cell_type": "code",
      "source": [
        "# Creating plot function\n",
        "def plot_predictions(train_data=X_train,\n",
        "                     train_labels=y_train,\n",
        "                     test_data=X_test,\n",
        "                     test_labels=y_test,\n",
        "                     predictions=y_pred):\n",
        "\n",
        "  \"\"\" \n",
        "  Plots training data, test data and compares predictions to actual value\n",
        "  \"\"\"\n",
        "  plt.figure(figsize=(10,7))\n",
        "  # Plot training data in blue\n",
        "  plt.scatter(train_data, train_labels, c=\"b\", label=\"Training data\")\n",
        "  # Plot testing data in green\n",
        "  plt.scatter(test_data, test_labels, c=\"g\", label=\"Testing data\")\n",
        "  # Plot model's predictions in red\n",
        "  plt.scatter(test_data, predictions, c=\"r\", label=\"Predictions\")\n",
        "  # Show legend\n",
        "  plt.legend()"
      ],
      "metadata": {
        "id": "LbLATlMLlD_b"
      },
      "execution_count": 40,
      "outputs": []
    },
    {
      "cell_type": "code",
      "source": [
        "plot_predictions(train_data=X_train,\n",
        "                 train_labels=y_train,\n",
        "                 test_data=X_test,\n",
        "                 test_labels=y_test,\n",
        "                 predictions=y_pred\n",
        "                 )"
      ],
      "metadata": {
        "colab": {
          "base_uri": "https://localhost:8080/",
          "height": 599
        },
        "id": "JwmDSPqQmVht",
        "outputId": "c915a69c-932b-477e-b126-1cda3b34891d"
      },
      "execution_count": 41,
      "outputs": [
        {
          "output_type": "display_data",
          "data": {
            "text/plain": [
              "<Figure size 1000x700 with 1 Axes>"
            ],
            "image/png": "[encoded data removed]"
          },
          "metadata": {}
        }
      ]
    },
    {
      "cell_type": "markdown",
      "source": [
        "### Evaluating model's predictions w/ regression evaluation metrics\n",
        "\n",
        "Depending on problem, there will be diff evaluation metrics to evaluate model's performance. \n",
        "\n",
        "Current problem: regression problem, therefore 2 of the main metrics are:\n",
        "- MAE - mean absolute error, \"On avg how wrong is each model's prediction\"\n",
        "- MSE - mean square error, \"square avg errors\" (when larger errors are more significant than smaller errors)\n",
        "- Huber - combination of MSE and MAE (less sensitive to outliers than MSE)"
      ],
      "metadata": {
        "id": "la94hpxCma3x"
      }
    },
    {
      "cell_type": "code",
      "source": [
        "# Evaluate model on test set\n",
        "model.evaluate(X_test, y_test)"
      ],
      "metadata": {
        "colab": {
          "base_uri": "https://localhost:8080/"
        },
        "id": "mYKGtAnCo6Ta",
        "outputId": "2b1c516e-50be-4049-81dc-97265d73a36e"
      },
      "execution_count": 42,
      "outputs": [
        {
          "output_type": "stream",
          "name": "stdout",
          "text": [
            "1/1 [==============================] - 0s 171ms/step - loss: 122.0316 - mae: 122.0316\n"
          ]
        },
        {
          "output_type": "execute_result",
          "data": {
            "text/plain": [
              "[122.03157043457031, 122.03157043457031]"
            ]
          },
          "metadata": {},
          "execution_count": 42
        }
      ]
    },
    {
      "cell_type": "code",
      "source": [
        "y_pred"
      ],
      "metadata": {
        "colab": {
          "base_uri": "https://localhost:8080/"
        },
        "id": "2NbWa9yIquu6",
        "outputId": "0a3113f6-e943-4553-ad43-67d38334a9e0"
      },
      "execution_count": 43,
      "outputs": [
        {
          "output_type": "execute_result",
          "data": {
            "text/plain": [
              "array([[-26.178131],\n",
              "       [-27.923338],\n",
              "       [-29.66855 ],\n",
              "       [-31.413757],\n",
              "       [-33.158962],\n",
              "       [-34.904175],\n",
              "       [-36.649387],\n",
              "       [-38.39459 ],\n",
              "       [-40.139793],\n",
              "       [-41.88501 ]], dtype=float32)"
            ]
          },
          "metadata": {},
          "execution_count": 43
        }
      ]
    },
    {
      "cell_type": "code",
      "source": [
        "y_test"
      ],
      "metadata": {
        "colab": {
          "base_uri": "https://localhost:8080/"
        },
        "id": "tAqbHZnNq6jr",
        "outputId": "044d5577-dcbf-4fe2-ec0a-abac6db4368c"
      },
      "execution_count": 44,
      "outputs": [
        {
          "output_type": "execute_result",
          "data": {
            "text/plain": [
              "<tf.Tensor: shape=(10,), dtype=int32, numpy=array([ 70,  74,  78,  82,  86,  90,  94,  98, 102, 106], dtype=int32)>"
            ]
          },
          "metadata": {},
          "execution_count": 44
        }
      ]
    },
    {
      "cell_type": "code",
      "source": [
        "# Calculate mean absolute error\n",
        "mae = tf.keras.losses.MAE(y_true=y_test, y_pred=tf.constant(y_pred))\n",
        "mae"
      ],
      "metadata": {
        "colab": {
          "base_uri": "https://localhost:8080/"
        },
        "id": "3Lh_ogjAq7vK",
        "outputId": "bdefc338-10d7-4c8f-d83a-0467227de0b7"
      },
      "execution_count": 45,
      "outputs": [
        {
          "output_type": "execute_result",
          "data": {
            "text/plain": [
              "<tf.Tensor: shape=(10,), dtype=float32, numpy=\n",
              "array([114.17812 , 115.92334 , 117.66856 , 119.41376 , 121.15896 ,\n",
              "       122.904175, 124.64939 , 126.39459 , 128.1398  , 129.88501 ],\n",
              "      dtype=float32)>"
            ]
          },
          "metadata": {},
          "execution_count": 45
        }
      ]
    },
    {
      "cell_type": "markdown",
      "source": [
        "Doesn't seem to be working right b/c it isn't outputting the same value as above in the evaluate model call (cell 99)"
      ],
      "metadata": {
        "id": "utI5wExUuZzl"
      }
    },
    {
      "cell_type": "code",
      "source": [
        "tf.constant(y_pred)"
      ],
      "metadata": {
        "colab": {
          "base_uri": "https://localhost:8080/"
        },
        "id": "XrEH6S6dtpdx",
        "outputId": "dde3e7d2-1b3f-41fc-cf96-49a3fbea7236"
      },
      "execution_count": 46,
      "outputs": [
        {
          "output_type": "execute_result",
          "data": {
            "text/plain": [
              "<tf.Tensor: shape=(10, 1), dtype=float32, numpy=\n",
              "array([[-26.178131],\n",
              "       [-27.923338],\n",
              "       [-29.66855 ],\n",
              "       [-31.413757],\n",
              "       [-33.158962],\n",
              "       [-34.904175],\n",
              "       [-36.649387],\n",
              "       [-38.39459 ],\n",
              "       [-40.139793],\n",
              "       [-41.88501 ]], dtype=float32)>"
            ]
          },
          "metadata": {},
          "execution_count": 46
        }
      ]
    },
    {
      "cell_type": "code",
      "source": [
        "y_test"
      ],
      "metadata": {
        "colab": {
          "base_uri": "https://localhost:8080/"
        },
        "id": "Fod6fWxBtsgU",
        "outputId": "c24976c5-41c2-47ed-b3a5-1add03458f9a"
      },
      "execution_count": 47,
      "outputs": [
        {
          "output_type": "execute_result",
          "data": {
            "text/plain": [
              "<tf.Tensor: shape=(10,), dtype=int32, numpy=array([ 70,  74,  78,  82,  86,  90,  94,  98, 102, 106], dtype=int32)>"
            ]
          },
          "metadata": {},
          "execution_count": 47
        }
      ]
    },
    {
      "cell_type": "markdown",
      "source": [
        "**Shape of y_test and y_pred tensor isn't equal therefore that is messing w/ calculating the MAE**"
      ],
      "metadata": {
        "id": "kPVrwv9yuk18"
      }
    },
    {
      "cell_type": "code",
      "source": [
        "# Squeeze shape of y_pred tensor to get its shape to be same as y_test tensor\n",
        "tf.squeeze(y_pred)"
      ],
      "metadata": {
        "colab": {
          "base_uri": "https://localhost:8080/"
        },
        "id": "Svo8XrnMtxOj",
        "outputId": "2c713d8b-152a-4f78-d4df-daa1c743f1de"
      },
      "execution_count": 48,
      "outputs": [
        {
          "output_type": "execute_result",
          "data": {
            "text/plain": [
              "<tf.Tensor: shape=(10,), dtype=float32, numpy=\n",
              "array([-26.178131, -27.923338, -29.66855 , -31.413757, -33.158962,\n",
              "       -34.904175, -36.649387, -38.39459 , -40.139793, -41.88501 ],\n",
              "      dtype=float32)>"
            ]
          },
          "metadata": {},
          "execution_count": 48
        }
      ]
    },
    {
      "cell_type": "code",
      "source": [
        "# Calculate mean absolute error\n",
        "mae = tf.metrics.mean_absolute_error(y_true=y_test, y_pred=tf.squeeze(y_pred))\n",
        "mae"
      ],
      "metadata": {
        "colab": {
          "base_uri": "https://localhost:8080/"
        },
        "id": "OKXvu_nPuD70",
        "outputId": "955283a0-35ab-4a5d-8bbd-8e8fc67a0b62"
      },
      "execution_count": 49,
      "outputs": [
        {
          "output_type": "execute_result",
          "data": {
            "text/plain": [
              "<tf.Tensor: shape=(), dtype=float32, numpy=122.03157>"
            ]
          },
          "metadata": {},
          "execution_count": 49
        }
      ]
    },
    {
      "cell_type": "code",
      "source": [
        "# Calculate mean square error\n",
        "mse = tf.keras.losses.MSE(y_true=y_test, y_pred=tf.squeeze(y_pred))\n",
        "mse"
      ],
      "metadata": {
        "colab": {
          "base_uri": "https://localhost:8080/"
        },
        "id": "jhDZLqNUrLbI",
        "outputId": "20ba3554-9f8e-4422-ffcb-4073bfcfefb3"
      },
      "execution_count": 50,
      "outputs": [
        {
          "output_type": "execute_result",
          "data": {
            "text/plain": [
              "<tf.Tensor: shape=(), dtype=float32, numpy=15164.016>"
            ]
          },
          "metadata": {},
          "execution_count": 50
        }
      ]
    },
    {
      "cell_type": "code",
      "source": [
        "# Make functions to reuse MAE and MSE\n",
        "def mae(y_true, y_pred):\n",
        "  return tf.metrics.mean_absolute_error(y_true=y_true,\n",
        "                                        y_pred=tf.squeeze(y_pred))\n",
        "\n",
        "def mse(y_true, y_pred):\n",
        "  return tf.metrics.mean_squared_error(y_true=y_true,\n",
        "                                        y_pred=tf.squeeze(y_pred))"
      ],
      "metadata": {
        "id": "bP67DJwqrWNq"
      },
      "execution_count": 51,
      "outputs": []
    },
    {
      "cell_type": "markdown",
      "source": [
        "### Running experiments to improve model\n",
        "\n",
        "How to improve model:\n",
        "1. Get more data - more examples for model to train on (more opportunities to learn patterns or relationships b/w features and labels).\n",
        "2. Make model larger (using a more complex model) - more layers or more hidden units per layer.\n",
        "3. Train longer - give model more time/data to find patterns in data.\n",
        "\n",
        "3 modelling experiments that are done in section below:\n",
        "1. 'model_1' - same as original model, 1 layer, trained for 100 epochs.\n",
        "2. 'model_2' - 2 layers, trained for 100 epochs\n",
        "3. 'model_3' - 2 layers, trained for 500 epochs\n",
        "4. 'model_4' - \n",
        "5. 'model_5' - "
      ],
      "metadata": {
        "id": "ja2TJmHLvZeZ"
      }
    },
    {
      "cell_type": "code",
      "source": [
        "X_train, y_train"
      ],
      "metadata": {
        "colab": {
          "base_uri": "https://localhost:8080/"
        },
        "id": "_W3k-0uHxRZy",
        "outputId": "efbe5923-607e-4f64-dca9-8b5bbaf06892"
      },
      "execution_count": 52,
      "outputs": [
        {
          "output_type": "execute_result",
          "data": {
            "text/plain": [
              "(<tf.Tensor: shape=(40,), dtype=int32, numpy=\n",
              " array([-100,  -96,  -92,  -88,  -84,  -80,  -76,  -72,  -68,  -64,  -60,\n",
              "         -56,  -52,  -48,  -44,  -40,  -36,  -32,  -28,  -24,  -20,  -16,\n",
              "         -12,   -8,   -4,    0,    4,    8,   12,   16,   20,   24,   28,\n",
              "          32,   36,   40,   44,   48,   52,   56], dtype=int32)>,\n",
              " <tf.Tensor: shape=(40,), dtype=int32, numpy=\n",
              " array([-90, -86, -82, -78, -74, -70, -66, -62, -58, -54, -50, -46, -42,\n",
              "        -38, -34, -30, -26, -22, -18, -14, -10,  -6,  -2,   2,   6,  10,\n",
              "         14,  18,  22,  26,  30,  34,  38,  42,  46,  50,  54,  58,  62,\n",
              "         66], dtype=int32)>)"
            ]
          },
          "metadata": {},
          "execution_count": 52
        }
      ]
    },
    {
      "cell_type": "code",
      "source": [
        "# Set random seed for reproducibility\n",
        "tf.random.set_seed(42)\n",
        "\n",
        "# 1. Create model\n",
        "model_1 = tf.keras.Sequential([\n",
        "    tf.keras.layers.Dense(1)\n",
        "])\n",
        "\n",
        "# 2. Compile model\n",
        "model_1.compile(loss=tf.keras.losses.mae,\n",
        "                optimizer=tf.keras.optimizers.SGD(),\n",
        "                metrics=[\"mae\"])\n",
        "\n",
        "# 3. Fit model\n",
        "model_1.fit(tf.expand_dims(X_train, -1), y_train, epochs=100)"
      ],
      "metadata": {
        "colab": {
          "base_uri": "https://localhost:8080/"
        },
        "id": "QCK4N-Env_GJ",
        "outputId": "88cb94a3-f511-47e3-c65d-a047840e39d4"
      },
      "execution_count": 53,
      "outputs": [
        {
          "output_type": "stream",
          "name": "stdout",
          "text": [
            "Epoch 1/100\n",
            "2/2 [==============================] - 0s 10ms/step - loss: 91.3948 - mae: 91.3948\n",
            "Epoch 2/100\n",
            "2/2 [==============================] - 0s 5ms/step - loss: 55.9393 - mae: 55.9393\n",
            "Epoch 3/100\n",
            "2/2 [==============================] - 0s 5ms/step - loss: 19.5008 - mae: 19.5008\n",
            "Epoch 4/100\n",
            "2/2 [==============================] - 0s 6ms/step - loss: 9.8562 - mae: 9.8562\n",
            "Epoch 5/100\n",
            "2/2 [==============================] - 0s 6ms/step - loss: 10.8048 - mae: 10.8048\n",
            "Epoch 6/100\n",
            "2/2 [==============================] - 0s 5ms/step - loss: 9.9948 - mae: 9.9948\n",
            "Epoch 7/100\n",
            "2/2 [==============================] - 0s 5ms/step - loss: 9.0458 - mae: 9.0458\n",
            "Epoch 8/100\n",
            "2/2 [==============================] - 0s 10ms/step - loss: 9.1091 - mae: 9.1091\n",
            "Epoch 9/100\n",
            "2/2 [==============================] - 0s 5ms/step - loss: 19.8933 - mae: 19.8933\n",
            "Epoch 10/100\n",
            "2/2 [==============================] - 0s 5ms/step - loss: 10.7678 - mae: 10.7678\n",
            "Epoch 11/100\n",
            "2/2 [==============================] - 0s 3ms/step - loss: 8.6767 - mae: 8.6767\n",
            "Epoch 12/100\n",
            "2/2 [==============================] - 0s 3ms/step - loss: 9.6620 - mae: 9.6620\n",
            "Epoch 13/100\n",
            "2/2 [==============================] - 0s 3ms/step - loss: 12.9858 - mae: 12.9858\n",
            "Epoch 14/100\n",
            "2/2 [==============================] - 0s 5ms/step - loss: 14.2340 - mae: 14.2340\n",
            "Epoch 15/100\n",
            "2/2 [==============================] - 0s 5ms/step - loss: 11.6407 - mae: 11.6407\n",
            "Epoch 16/100\n",
            "2/2 [==============================] - 0s 4ms/step - loss: 8.5019 - mae: 8.5019\n",
            "Epoch 17/100\n",
            "2/2 [==============================] - 0s 4ms/step - loss: 13.5181 - mae: 13.5181\n",
            "Epoch 18/100\n",
            "2/2 [==============================] - 0s 4ms/step - loss: 11.3099 - mae: 11.3099\n",
            "Epoch 19/100\n",
            "2/2 [==============================] - 0s 5ms/step - loss: 18.1535 - mae: 18.1535\n",
            "Epoch 20/100\n",
            "2/2 [==============================] - 0s 4ms/step - loss: 15.2864 - mae: 15.2864\n",
            "Epoch 21/100\n",
            "2/2 [==============================] - 0s 4ms/step - loss: 11.2260 - mae: 11.2260\n",
            "Epoch 22/100\n",
            "2/2 [==============================] - 0s 4ms/step - loss: 8.3719 - mae: 8.3719\n",
            "Epoch 23/100\n",
            "2/2 [==============================] - 0s 4ms/step - loss: 9.9555 - mae: 9.9555\n",
            "Epoch 24/100\n",
            "2/2 [==============================] - 0s 4ms/step - loss: 15.8086 - mae: 15.8086\n",
            "Epoch 25/100\n",
            "2/2 [==============================] - 0s 4ms/step - loss: 12.2348 - mae: 12.2348\n",
            "Epoch 26/100\n",
            "2/2 [==============================] - 0s 4ms/step - loss: 13.3773 - mae: 13.3773\n",
            "Epoch 27/100\n",
            "2/2 [==============================] - 0s 5ms/step - loss: 10.8003 - mae: 10.8003\n",
            "Epoch 28/100\n",
            "2/2 [==============================] - 0s 4ms/step - loss: 13.0808 - mae: 13.0808\n",
            "Epoch 29/100\n",
            "2/2 [==============================] - 0s 4ms/step - loss: 9.5712 - mae: 9.5712\n",
            "Epoch 30/100\n",
            "2/2 [==============================] - 0s 4ms/step - loss: 16.6954 - mae: 16.6954\n",
            "Epoch 31/100\n",
            "2/2 [==============================] - 0s 6ms/step - loss: 23.3425 - mae: 23.3425\n",
            "Epoch 32/100\n",
            "2/2 [==============================] - 0s 5ms/step - loss: 7.3453 - mae: 7.3453\n",
            "Epoch 33/100\n",
            "2/2 [==============================] - 0s 4ms/step - loss: 10.4310 - mae: 10.4310\n",
            "Epoch 34/100\n",
            "2/2 [==============================] - 0s 4ms/step - loss: 9.7015 - mae: 9.7015\n",
            "Epoch 35/100\n",
            "2/2 [==============================] - 0s 9ms/step - loss: 8.4431 - mae: 8.4431\n",
            "Epoch 36/100\n",
            "2/2 [==============================] - 0s 4ms/step - loss: 8.6030 - mae: 8.6030\n",
            "Epoch 37/100\n",
            "2/2 [==============================] - 0s 4ms/step - loss: 8.6486 - mae: 8.6486\n",
            "Epoch 38/100\n",
            "2/2 [==============================] - 0s 5ms/step - loss: 9.2858 - mae: 9.2858\n",
            "Epoch 39/100\n",
            "2/2 [==============================] - 0s 4ms/step - loss: 10.2171 - mae: 10.2171\n",
            "Epoch 40/100\n",
            "2/2 [==============================] - 0s 4ms/step - loss: 9.6869 - mae: 9.6869\n",
            "Epoch 41/100\n",
            "2/2 [==============================] - 0s 4ms/step - loss: 8.0333 - mae: 8.0333\n",
            "Epoch 42/100\n",
            "2/2 [==============================] - 0s 5ms/step - loss: 10.5372 - mae: 10.5372\n",
            "Epoch 43/100\n",
            "2/2 [==============================] - 0s 4ms/step - loss: 7.5611 - mae: 7.5611\n",
            "Epoch 44/100\n",
            "2/2 [==============================] - 0s 4ms/step - loss: 18.7549 - mae: 18.7549\n",
            "Epoch 45/100\n",
            "2/2 [==============================] - 0s 4ms/step - loss: 14.5907 - mae: 14.5907\n",
            "Epoch 46/100\n",
            "2/2 [==============================] - 0s 4ms/step - loss: 9.2854 - mae: 9.2854\n",
            "Epoch 47/100\n",
            "2/2 [==============================] - 0s 4ms/step - loss: 9.6414 - mae: 9.6414\n",
            "Epoch 48/100\n",
            "2/2 [==============================] - 0s 4ms/step - loss: 11.3711 - mae: 11.3711\n",
            "Epoch 49/100\n",
            "2/2 [==============================] - 0s 4ms/step - loss: 8.1949 - mae: 8.1949\n",
            "Epoch 50/100\n",
            "2/2 [==============================] - 0s 5ms/step - loss: 10.2292 - mae: 10.2292\n",
            "Epoch 51/100\n",
            "2/2 [==============================] - 0s 5ms/step - loss: 9.3486 - mae: 9.3486\n",
            "Epoch 52/100\n",
            "2/2 [==============================] - 0s 5ms/step - loss: 13.8983 - mae: 13.8983\n",
            "Epoch 53/100\n",
            "2/2 [==============================] - 0s 5ms/step - loss: 15.1536 - mae: 15.1536\n",
            "Epoch 54/100\n",
            "2/2 [==============================] - 0s 3ms/step - loss: 14.7339 - mae: 14.7339\n",
            "Epoch 55/100\n",
            "2/2 [==============================] - 0s 4ms/step - loss: 19.6333 - mae: 19.6333\n",
            "Epoch 56/100\n",
            "2/2 [==============================] - 0s 4ms/step - loss: 10.9035 - mae: 10.9035\n",
            "Epoch 57/100\n",
            "2/2 [==============================] - 0s 7ms/step - loss: 12.6159 - mae: 12.6159\n",
            "Epoch 58/100\n",
            "2/2 [==============================] - 0s 5ms/step - loss: 9.8513 - mae: 9.8513\n",
            "Epoch 59/100\n",
            "2/2 [==============================] - 0s 4ms/step - loss: 9.0755 - mae: 9.0755\n",
            "Epoch 60/100\n",
            "2/2 [==============================] - 0s 5ms/step - loss: 9.0572 - mae: 9.0572\n",
            "Epoch 61/100\n",
            "2/2 [==============================] - 0s 5ms/step - loss: 10.5332 - mae: 10.5332\n",
            "Epoch 62/100\n",
            "2/2 [==============================] - 0s 5ms/step - loss: 7.6901 - mae: 7.6901\n",
            "Epoch 63/100\n",
            "2/2 [==============================] - 0s 7ms/step - loss: 9.7891 - mae: 9.7891\n",
            "Epoch 64/100\n",
            "2/2 [==============================] - 0s 5ms/step - loss: 11.9206 - mae: 11.9206\n",
            "Epoch 65/100\n",
            "2/2 [==============================] - 0s 5ms/step - loss: 9.3385 - mae: 9.3385\n",
            "Epoch 66/100\n",
            "2/2 [==============================] - 0s 5ms/step - loss: 11.2355 - mae: 11.2355\n",
            "Epoch 67/100\n",
            "2/2 [==============================] - 0s 5ms/step - loss: 7.0744 - mae: 7.0744\n",
            "Epoch 68/100\n",
            "2/2 [==============================] - 0s 6ms/step - loss: 8.9290 - mae: 8.9290\n",
            "Epoch 69/100\n",
            "2/2 [==============================] - 0s 4ms/step - loss: 10.5105 - mae: 10.5105\n",
            "Epoch 70/100\n",
            "2/2 [==============================] - 0s 5ms/step - loss: 7.8773 - mae: 7.8773\n",
            "Epoch 71/100\n",
            "2/2 [==============================] - 0s 7ms/step - loss: 11.4106 - mae: 11.4106\n",
            "Epoch 72/100\n",
            "2/2 [==============================] - 0s 6ms/step - loss: 9.5887 - mae: 9.5887\n",
            "Epoch 73/100\n",
            "2/2 [==============================] - 0s 5ms/step - loss: 11.7155 - mae: 11.7155\n",
            "Epoch 74/100\n",
            "2/2 [==============================] - 0s 6ms/step - loss: 10.7004 - mae: 10.7004\n",
            "Epoch 75/100\n",
            "2/2 [==============================] - 0s 5ms/step - loss: 9.5904 - mae: 9.5904\n",
            "Epoch 76/100\n",
            "2/2 [==============================] - 0s 5ms/step - loss: 11.0420 - mae: 11.0420\n",
            "Epoch 77/100\n",
            "2/2 [==============================] - 0s 5ms/step - loss: 11.1252 - mae: 11.1252\n",
            "Epoch 78/100\n",
            "2/2 [==============================] - 0s 6ms/step - loss: 11.5648 - mae: 11.5648\n",
            "Epoch 79/100\n",
            "2/2 [==============================] - 0s 6ms/step - loss: 15.5797 - mae: 15.5797\n",
            "Epoch 80/100\n",
            "2/2 [==============================] - 0s 5ms/step - loss: 11.6230 - mae: 11.6230\n",
            "Epoch 81/100\n",
            "2/2 [==============================] - 0s 4ms/step - loss: 9.4418 - mae: 9.4418\n",
            "Epoch 82/100\n",
            "2/2 [==============================] - 0s 4ms/step - loss: 12.6126 - mae: 12.6126\n",
            "Epoch 83/100\n",
            "2/2 [==============================] - 0s 4ms/step - loss: 8.2045 - mae: 8.2045\n",
            "Epoch 84/100\n",
            "2/2 [==============================] - 0s 7ms/step - loss: 7.5441 - mae: 7.5441\n",
            "Epoch 85/100\n",
            "2/2 [==============================] - 0s 8ms/step - loss: 9.7134 - mae: 9.7134\n",
            "Epoch 86/100\n",
            "2/2 [==============================] - 0s 5ms/step - loss: 8.7874 - mae: 8.7874\n",
            "Epoch 87/100\n",
            "2/2 [==============================] - 0s 6ms/step - loss: 12.3330 - mae: 12.3330\n",
            "Epoch 88/100\n",
            "2/2 [==============================] - 0s 4ms/step - loss: 10.9674 - mae: 10.9674\n",
            "Epoch 89/100\n",
            "2/2 [==============================] - 0s 4ms/step - loss: 7.8324 - mae: 7.8324\n",
            "Epoch 90/100\n",
            "2/2 [==============================] - 0s 5ms/step - loss: 10.9837 - mae: 10.9837\n",
            "Epoch 91/100\n",
            "2/2 [==============================] - 0s 5ms/step - loss: 6.7632 - mae: 6.7632\n",
            "Epoch 92/100\n",
            "2/2 [==============================] - 0s 6ms/step - loss: 10.1771 - mae: 10.1771\n",
            "Epoch 93/100\n",
            "2/2 [==============================] - 0s 6ms/step - loss: 7.6023 - mae: 7.6023\n",
            "Epoch 94/100\n",
            "2/2 [==============================] - 0s 5ms/step - loss: 9.2332 - mae: 9.2332\n",
            "Epoch 95/100\n",
            "2/2 [==============================] - 0s 7ms/step - loss: 10.8033 - mae: 10.8033\n",
            "Epoch 96/100\n",
            "2/2 [==============================] - 0s 6ms/step - loss: 10.3492 - mae: 10.3492\n",
            "Epoch 97/100\n",
            "2/2 [==============================] - 0s 5ms/step - loss: 7.6667 - mae: 7.6667\n",
            "Epoch 98/100\n",
            "2/2 [==============================] - 0s 6ms/step - loss: 8.6064 - mae: 8.6064\n",
            "Epoch 99/100\n",
            "2/2 [==============================] - 0s 5ms/step - loss: 9.3814 - mae: 9.3814\n",
            "Epoch 100/100\n",
            "2/2 [==============================] - 0s 4ms/step - loss: 8.8366 - mae: 8.8366\n"
          ]
        },
        {
          "output_type": "execute_result",
          "data": {
            "text/plain": [
              "<keras.callbacks.History at 0x7f05542852d0>"
            ]
          },
          "metadata": {},
          "execution_count": 53
        }
      ]
    },
    {
      "cell_type": "code",
      "source": [
        "# Make and plot predictions for model_1\n",
        "y_preds_1 = model_1.predict(X_test)\n",
        "plot_predictions(predictions=y_preds_1)"
      ],
      "metadata": {
        "colab": {
          "base_uri": "https://localhost:8080/",
          "height": 654
        },
        "id": "GWXiaInBwAuV",
        "outputId": "132c352c-ba1a-448d-d571-b6810140c655"
      },
      "execution_count": 54,
      "outputs": [
        {
          "output_type": "stream",
          "name": "stderr",
          "text": [
            "WARNING:tensorflow:5 out of the last 5 calls to <function Model.make_predict_function.<locals>.predict_function at 0x7f0556427130> triggered tf.function retracing. Tracing is expensive and the excessive number of tracings could be due to (1) creating @tf.function repeatedly in a loop, (2) passing tensors with different shapes, (3) passing Python objects instead of tensors. For (1), please define your @tf.function outside of the loop. For (2), @tf.function has reduce_retracing=True option that can avoid unnecessary retracing. For (3), please refer to https://www.tensorflow.org/guide/function#controlling_retracing and https://www.tensorflow.org/api_docs/python/tf/function for  more details.\n"
          ]
        },
        {
          "output_type": "stream",
          "name": "stdout",
          "text": [
            "1/1 [==============================] - 0s 38ms/step\n"
          ]
        },
        {
          "output_type": "display_data",
          "data": {
            "text/plain": [
              "<Figure size 1000x700 with 1 Axes>"
            ],
            "image/png": "[encoded data removed]"
          },
          "metadata": {}
        }
      ]
    },
    {
      "cell_type": "code",
      "source": [
        "# Calculate mode_1 evaluation metrics\n",
        "mae_1 = mae(y_test, y_preds_1)\n",
        "mse_1 = mse(y_test, y_preds_1)\n",
        "mae_1, mse_1"
      ],
      "metadata": {
        "colab": {
          "base_uri": "https://localhost:8080/"
        },
        "id": "LQVZLDhyyJs8",
        "outputId": "d5c01e55-135d-4241-c1b1-a62fc47512e5"
      },
      "execution_count": 55,
      "outputs": [
        {
          "output_type": "execute_result",
          "data": {
            "text/plain": [
              "(<tf.Tensor: shape=(), dtype=float32, numpy=8.452595>,\n",
              " <tf.Tensor: shape=(), dtype=float32, numpy=77.84221>)"
            ]
          },
          "metadata": {},
          "execution_count": 55
        }
      ]
    },
    {
      "cell_type": "markdown",
      "source": [
        "**model_2**\n",
        "\n",
        "- 2 dense layers created for 100 epochs"
      ],
      "metadata": {
        "id": "Wji14Mzzy5Np"
      }
    },
    {
      "cell_type": "code",
      "source": [
        "# Set random seed\n",
        "tf.random.set_seed(42)\n",
        "\n",
        "# 1. Create model\n",
        "model_2 = tf.keras.Sequential([\n",
        "    tf.keras.layers.Dense(10),\n",
        "    tf.keras.layers.Dense(1)\n",
        "])\n",
        "\n",
        "# 2. Compile model\n",
        "model_2.compile(loss=tf.keras.losses.mae,\n",
        "                optimizer=tf.keras.optimizers.SGD(),\n",
        "                metrics=[\"mse\"])\n",
        "\n",
        "# 3. Fit model\n",
        "model_2.fit(tf.expand_dims(X_train, -1), y_train, epochs=100)"
      ],
      "metadata": {
        "colab": {
          "base_uri": "https://localhost:8080/"
        },
        "id": "n1htlLjfzOkH",
        "outputId": "a9dd4123-9aa8-44fe-f961-2561d7c39800"
      },
      "execution_count": 56,
      "outputs": [
        {
          "output_type": "stream",
          "name": "stdout",
          "text": [
            "Epoch 1/100\n",
            "2/2 [==============================] - 0s 8ms/step - loss: 44.1973 - mse: 2996.5525\n",
            "Epoch 2/100\n",
            "2/2 [==============================] - 0s 6ms/step - loss: 26.0712 - mse: 877.4839\n",
            "Epoch 3/100\n",
            "2/2 [==============================] - 0s 5ms/step - loss: 31.4708 - mse: 1475.1082\n",
            "Epoch 4/100\n",
            "2/2 [==============================] - 0s 5ms/step - loss: 26.5806 - mse: 1033.3068\n",
            "Epoch 5/100\n",
            "2/2 [==============================] - 0s 5ms/step - loss: 14.5510 - mse: 262.2198\n",
            "Epoch 6/100\n",
            "2/2 [==============================] - 0s 5ms/step - loss: 11.5962 - mse: 155.7110\n",
            "Epoch 7/100\n",
            "2/2 [==============================] - 0s 5ms/step - loss: 12.6465 - mse: 214.7515\n",
            "Epoch 8/100\n",
            "2/2 [==============================] - 0s 6ms/step - loss: 11.0185 - mse: 150.5225\n",
            "Epoch 9/100\n",
            "2/2 [==============================] - 0s 8ms/step - loss: 39.6383 - mse: 2462.8276\n",
            "Epoch 10/100\n",
            "2/2 [==============================] - 0s 7ms/step - loss: 27.1405 - mse: 1036.3636\n",
            "Epoch 11/100\n",
            "2/2 [==============================] - 0s 6ms/step - loss: 11.0241 - mse: 180.5840\n",
            "Epoch 12/100\n",
            "2/2 [==============================] - 0s 5ms/step - loss: 24.4233 - mse: 837.5391\n",
            "Epoch 13/100\n",
            "2/2 [==============================] - 0s 5ms/step - loss: 19.2592 - mse: 521.8298\n",
            "Epoch 14/100\n",
            "2/2 [==============================] - 0s 4ms/step - loss: 23.4851 - mse: 844.9326\n",
            "Epoch 15/100\n",
            "2/2 [==============================] - 0s 5ms/step - loss: 15.2675 - mse: 314.5061\n",
            "Epoch 16/100\n",
            "2/2 [==============================] - 0s 5ms/step - loss: 11.3573 - mse: 150.0433\n",
            "Epoch 17/100\n",
            "2/2 [==============================] - 0s 5ms/step - loss: 23.2182 - mse: 755.0713\n",
            "Epoch 18/100\n",
            "2/2 [==============================] - 0s 9ms/step - loss: 11.7887 - mse: 213.7296\n",
            "Epoch 19/100\n",
            "2/2 [==============================] - 0s 6ms/step - loss: 16.5115 - mse: 437.2542\n",
            "Epoch 20/100\n",
            "2/2 [==============================] - 0s 5ms/step - loss: 8.2323 - mse: 93.1672\n",
            "Epoch 21/100\n",
            "2/2 [==============================] - 0s 5ms/step - loss: 14.4042 - mse: 288.0274\n",
            "Epoch 22/100\n",
            "2/2 [==============================] - 0s 5ms/step - loss: 12.8180 - mse: 245.2452\n",
            "Epoch 23/100\n",
            "2/2 [==============================] - 0s 5ms/step - loss: 15.4540 - mse: 314.4088\n",
            "Epoch 24/100\n",
            "2/2 [==============================] - 0s 5ms/step - loss: 15.2429 - mse: 315.1449\n",
            "Epoch 25/100\n",
            "2/2 [==============================] - 0s 5ms/step - loss: 14.3215 - mse: 272.3543\n",
            "Epoch 26/100\n",
            "2/2 [==============================] - 0s 5ms/step - loss: 19.3139 - mse: 566.2276\n",
            "Epoch 27/100\n",
            "2/2 [==============================] - 0s 5ms/step - loss: 11.4612 - mse: 170.2368\n",
            "Epoch 28/100\n",
            "2/2 [==============================] - 0s 5ms/step - loss: 29.1988 - mse: 1386.2118\n",
            "Epoch 29/100\n",
            "2/2 [==============================] - 0s 5ms/step - loss: 9.2458 - mse: 94.0953\n",
            "Epoch 30/100\n",
            "2/2 [==============================] - 0s 5ms/step - loss: 29.9158 - mse: 1623.3392\n",
            "Epoch 31/100\n",
            "2/2 [==============================] - 0s 5ms/step - loss: 54.2945 - mse: 5282.1289\n",
            "Epoch 32/100\n",
            "2/2 [==============================] - 0s 5ms/step - loss: 9.5829 - mse: 101.2496\n",
            "Epoch 33/100\n",
            "2/2 [==============================] - 0s 5ms/step - loss: 12.1782 - mse: 182.5140\n",
            "Epoch 34/100\n",
            "2/2 [==============================] - 0s 5ms/step - loss: 23.9958 - mse: 872.7450\n",
            "Epoch 35/100\n",
            "2/2 [==============================] - 0s 5ms/step - loss: 12.6042 - mse: 243.2085\n",
            "Epoch 36/100\n",
            "2/2 [==============================] - 0s 5ms/step - loss: 21.4982 - mse: 659.2748\n",
            "Epoch 37/100\n",
            "2/2 [==============================] - 0s 5ms/step - loss: 11.3986 - mse: 150.5479\n",
            "Epoch 38/100\n",
            "2/2 [==============================] - 0s 6ms/step - loss: 13.5037 - mse: 271.3162\n",
            "Epoch 39/100\n",
            "2/2 [==============================] - 0s 5ms/step - loss: 10.8064 - mse: 140.2776\n",
            "Epoch 40/100\n",
            "2/2 [==============================] - 0s 5ms/step - loss: 16.6653 - mse: 402.7836\n",
            "Epoch 41/100\n",
            "2/2 [==============================] - 0s 6ms/step - loss: 11.0023 - mse: 179.6809\n",
            "Epoch 42/100\n",
            "2/2 [==============================] - 0s 5ms/step - loss: 9.3227 - mse: 114.6719\n",
            "Epoch 43/100\n",
            "2/2 [==============================] - 0s 5ms/step - loss: 9.5962 - mse: 110.3723\n",
            "Epoch 44/100\n",
            "2/2 [==============================] - 0s 5ms/step - loss: 28.1196 - mse: 1268.9519\n",
            "Epoch 45/100\n",
            "2/2 [==============================] - 0s 6ms/step - loss: 11.3124 - mse: 147.9193\n",
            "Epoch 46/100\n",
            "2/2 [==============================] - 0s 4ms/step - loss: 14.1493 - mse: 292.8194\n",
            "Epoch 47/100\n",
            "2/2 [==============================] - 0s 9ms/step - loss: 13.4694 - mse: 255.7687\n",
            "Epoch 48/100\n",
            "2/2 [==============================] - 0s 8ms/step - loss: 17.2899 - mse: 405.5455\n",
            "Epoch 49/100\n",
            "2/2 [==============================] - 0s 6ms/step - loss: 9.5413 - mse: 99.1357\n",
            "Epoch 50/100\n",
            "2/2 [==============================] - 0s 4ms/step - loss: 13.7574 - mse: 256.6841\n",
            "Epoch 51/100\n",
            "2/2 [==============================] - 0s 4ms/step - loss: 11.5759 - mse: 153.8242\n",
            "Epoch 52/100\n",
            "2/2 [==============================] - 0s 4ms/step - loss: 30.3815 - mse: 1593.3171\n",
            "Epoch 53/100\n",
            "2/2 [==============================] - 0s 4ms/step - loss: 14.2809 - mse: 299.0150\n",
            "Epoch 54/100\n",
            "2/2 [==============================] - 0s 4ms/step - loss: 23.6141 - mse: 839.7502\n",
            "Epoch 55/100\n",
            "2/2 [==============================] - 0s 5ms/step - loss: 24.5397 - mse: 909.0718\n",
            "Epoch 56/100\n",
            "2/2 [==============================] - 0s 4ms/step - loss: 11.3223 - mse: 171.6389\n",
            "Epoch 57/100\n",
            "2/2 [==============================] - 0s 5ms/step - loss: 13.3365 - mse: 224.2179\n",
            "Epoch 58/100\n",
            "2/2 [==============================] - 0s 4ms/step - loss: 9.9346 - mse: 109.1522\n",
            "Epoch 59/100\n",
            "2/2 [==============================] - 0s 5ms/step - loss: 13.8891 - mse: 274.3326\n",
            "Epoch 60/100\n",
            "2/2 [==============================] - 0s 3ms/step - loss: 9.9785 - mse: 118.6617\n",
            "Epoch 61/100\n",
            "2/2 [==============================] - 0s 5ms/step - loss: 14.9482 - mse: 307.0416\n",
            "Epoch 62/100\n",
            "2/2 [==============================] - 0s 4ms/step - loss: 11.9100 - mse: 195.7780\n",
            "Epoch 63/100\n",
            "2/2 [==============================] - 0s 5ms/step - loss: 10.2778 - mse: 134.3478\n",
            "Epoch 64/100\n",
            "2/2 [==============================] - 0s 5ms/step - loss: 23.8573 - mse: 836.3781\n",
            "Epoch 65/100\n",
            "2/2 [==============================] - 0s 6ms/step - loss: 10.4546 - mse: 129.8158\n",
            "Epoch 66/100\n",
            "2/2 [==============================] - 0s 5ms/step - loss: 20.9093 - mse: 642.8759\n",
            "Epoch 67/100\n",
            "2/2 [==============================] - 0s 5ms/step - loss: 10.4324 - mse: 126.0386\n",
            "Epoch 68/100\n",
            "2/2 [==============================] - 0s 4ms/step - loss: 14.1618 - mse: 301.9431\n",
            "Epoch 69/100\n",
            "2/2 [==============================] - 0s 4ms/step - loss: 10.5038 - mse: 125.7225\n",
            "Epoch 70/100\n",
            "2/2 [==============================] - 0s 5ms/step - loss: 12.5749 - mse: 200.5864\n",
            "Epoch 71/100\n",
            "2/2 [==============================] - 0s 4ms/step - loss: 13.0062 - mse: 225.6702\n",
            "Epoch 72/100\n",
            "2/2 [==============================] - 0s 4ms/step - loss: 19.3499 - mse: 531.2746\n",
            "Epoch 73/100\n",
            "2/2 [==============================] - 0s 4ms/step - loss: 11.1239 - mse: 193.2498\n",
            "Epoch 74/100\n",
            "2/2 [==============================] - 0s 4ms/step - loss: 21.4420 - mse: 717.5850\n",
            "Epoch 75/100\n",
            "2/2 [==============================] - 0s 4ms/step - loss: 9.4563 - mse: 151.4723\n",
            "Epoch 76/100\n",
            "2/2 [==============================] - 0s 4ms/step - loss: 12.2801 - mse: 182.9103\n",
            "Epoch 77/100\n",
            "2/2 [==============================] - 0s 4ms/step - loss: 16.3235 - mse: 410.4596\n",
            "Epoch 78/100\n",
            "2/2 [==============================] - 0s 4ms/step - loss: 9.0062 - mse: 92.0278\n",
            "Epoch 79/100\n",
            "2/2 [==============================] - 0s 4ms/step - loss: 23.5765 - mse: 832.4860\n",
            "Epoch 80/100\n",
            "2/2 [==============================] - 0s 4ms/step - loss: 26.2747 - mse: 1061.9758\n",
            "Epoch 81/100\n",
            "2/2 [==============================] - 0s 5ms/step - loss: 11.4444 - mse: 161.1504\n",
            "Epoch 82/100\n",
            "2/2 [==============================] - 0s 7ms/step - loss: 12.4362 - mse: 226.4897\n",
            "Epoch 83/100\n",
            "2/2 [==============================] - 0s 5ms/step - loss: 17.0994 - mse: 380.4114\n",
            "Epoch 84/100\n",
            "2/2 [==============================] - 0s 7ms/step - loss: 7.2510 - mse: 75.9313\n",
            "Epoch 85/100\n",
            "2/2 [==============================] - 0s 5ms/step - loss: 37.2009 - mse: 2225.3491\n",
            "Epoch 86/100\n",
            "2/2 [==============================] - 0s 5ms/step - loss: 21.2149 - mse: 646.7885\n",
            "Epoch 87/100\n",
            "2/2 [==============================] - 0s 4ms/step - loss: 11.0216 - mse: 147.9720\n",
            "Epoch 88/100\n",
            "2/2 [==============================] - 0s 6ms/step - loss: 25.0821 - mse: 895.2394\n",
            "Epoch 89/100\n",
            "2/2 [==============================] - 0s 4ms/step - loss: 9.3551 - mse: 136.6637\n",
            "Epoch 90/100\n",
            "2/2 [==============================] - 0s 5ms/step - loss: 17.3828 - mse: 433.5928\n",
            "Epoch 91/100\n",
            "2/2 [==============================] - 0s 5ms/step - loss: 10.7985 - mse: 160.3829\n",
            "Epoch 92/100\n",
            "2/2 [==============================] - 0s 6ms/step - loss: 19.0759 - mse: 501.4697\n",
            "Epoch 93/100\n",
            "2/2 [==============================] - 0s 6ms/step - loss: 8.3166 - mse: 102.3749\n",
            "Epoch 94/100\n",
            "2/2 [==============================] - 0s 5ms/step - loss: 11.5578 - mse: 178.6406\n",
            "Epoch 95/100\n",
            "2/2 [==============================] - 0s 5ms/step - loss: 26.1246 - mse: 1035.6818\n",
            "Epoch 96/100\n",
            "2/2 [==============================] - 0s 6ms/step - loss: 11.1869 - mse: 169.6452\n",
            "Epoch 97/100\n",
            "2/2 [==============================] - 0s 5ms/step - loss: 16.7934 - mse: 430.5048\n",
            "Epoch 98/100\n",
            "2/2 [==============================] - 0s 5ms/step - loss: 6.5856 - mse: 60.6588\n",
            "Epoch 99/100\n",
            "2/2 [==============================] - 0s 7ms/step - loss: 12.5981 - mse: 229.4721\n",
            "Epoch 100/100\n",
            "2/2 [==============================] - 0s 4ms/step - loss: 19.4082 - mse: 553.1669\n"
          ]
        },
        {
          "output_type": "execute_result",
          "data": {
            "text/plain": [
              "<keras.callbacks.History at 0x7f0554bcda80>"
            ]
          },
          "metadata": {},
          "execution_count": 56
        }
      ]
    },
    {
      "cell_type": "code",
      "source": [
        "# Make and plot predictions\n",
        "y_preds_2 = model_2.predict(X_test)\n",
        "plot_predictions(predictions=y_preds_2)"
      ],
      "metadata": {
        "colab": {
          "base_uri": "https://localhost:8080/",
          "height": 654
        },
        "id": "gmaeRo3bz8wt",
        "outputId": "993b17e3-cb47-411b-c408-6a5de19655e5"
      },
      "execution_count": 57,
      "outputs": [
        {
          "output_type": "stream",
          "name": "stderr",
          "text": [
            "WARNING:tensorflow:6 out of the last 6 calls to <function Model.make_predict_function.<locals>.predict_function at 0x7f05564696c0> triggered tf.function retracing. Tracing is expensive and the excessive number of tracings could be due to (1) creating @tf.function repeatedly in a loop, (2) passing tensors with different shapes, (3) passing Python objects instead of tensors. For (1), please define your @tf.function outside of the loop. For (2), @tf.function has reduce_retracing=True option that can avoid unnecessary retracing. For (3), please refer to https://www.tensorflow.org/guide/function#controlling_retracing and https://www.tensorflow.org/api_docs/python/tf/function for  more details.\n"
          ]
        },
        {
          "output_type": "stream",
          "name": "stdout",
          "text": [
            "1/1 [==============================] - 0s 41ms/step\n"
          ]
        },
        {
          "output_type": "display_data",
          "data": {
            "text/plain": [
              "<Figure size 1000x700 with 1 Axes>"
            ],
            "image/png": "[encoded data removed]"
          },
          "metadata": {}
        }
      ]
    },
    {
      "cell_type": "code",
      "source": [
        "# Calculate model_2 evaluation metrics\n",
        "mae_2 = mae(y_test, y_preds_2)\n",
        "mse_2 = mse(y_test, y_preds_2)\n",
        "mae_2, mse_2"
      ],
      "metadata": {
        "colab": {
          "base_uri": "https://localhost:8080/"
        },
        "id": "yKBcHwMx0XTL",
        "outputId": "2f1a9b6c-d5ea-4e14-bd9f-a4ec238fb21d"
      },
      "execution_count": 58,
      "outputs": [
        {
          "output_type": "execute_result",
          "data": {
            "text/plain": [
              "(<tf.Tensor: shape=(), dtype=float32, numpy=13.26853>,\n",
              " <tf.Tensor: shape=(), dtype=float32, numpy=186.08098>)"
            ]
          },
          "metadata": {},
          "execution_count": 58
        }
      ]
    },
    {
      "cell_type": "markdown",
      "source": [
        "**'model_3'**"
      ],
      "metadata": {
        "id": "omf6RCPS0koA"
      }
    },
    {
      "cell_type": "code",
      "source": [
        "# Set random seed\n",
        "tf.random.set_seed(42)\n",
        "\n",
        "# 1. Create model\n",
        "model_3 = tf.keras.Sequential([\n",
        "    tf.keras.layers.Dense(10),\n",
        "    tf.keras.layers.Dense(1)\n",
        "])\n",
        "\n",
        "# 2. Compile model\n",
        "model_3.compile(loss=tf.keras.losses.mae,\n",
        "                optimizer=tf.keras.optimizers.SGD(),\n",
        "                metrics=[\"mae\"])\n",
        "\n",
        "# 3. Fit model\n",
        "model_3.fit(tf.expand_dims(X_train, -1), y_train, epochs=500)"
      ],
      "metadata": {
        "colab": {
          "base_uri": "https://localhost:8080/"
        },
        "id": "1IZjHe580vUF",
        "outputId": "2237c7fc-6565-45f4-c0f7-5088e8dc765e"
      },
      "execution_count": 59,
      "outputs": [
        {
          "output_type": "stream",
          "name": "stdout",
          "text": [
            "Epoch 1/500\n",
            "2/2 [==============================] - 0s 9ms/step - loss: 64.5796 - mae: 64.5796\n",
            "Epoch 2/500\n",
            "2/2 [==============================] - 0s 5ms/step - loss: 32.4804 - mae: 32.4804\n",
            "Epoch 3/500\n",
            "2/2 [==============================] - 0s 5ms/step - loss: 35.3893 - mae: 35.3893\n",
            "Epoch 4/500\n",
            "2/2 [==============================] - 0s 5ms/step - loss: 18.2197 - mae: 18.2197\n",
            "Epoch 5/500\n",
            "2/2 [==============================] - 0s 5ms/step - loss: 23.8780 - mae: 23.8780\n",
            "Epoch 6/500\n",
            "2/2 [==============================] - 0s 4ms/step - loss: 11.4418 - mae: 11.4418\n",
            "Epoch 7/500\n",
            "2/2 [==============================] - 0s 4ms/step - loss: 12.5598 - mae: 12.5598\n",
            "Epoch 8/500\n",
            "2/2 [==============================] - 0s 4ms/step - loss: 11.1160 - mae: 11.1160\n",
            "Epoch 9/500\n",
            "2/2 [==============================] - 0s 4ms/step - loss: 40.1411 - mae: 40.1411\n",
            "Epoch 10/500\n",
            "2/2 [==============================] - 0s 4ms/step - loss: 27.5820 - mae: 27.5820\n",
            "Epoch 11/500\n",
            "2/2 [==============================] - 0s 6ms/step - loss: 10.2567 - mae: 10.2567\n",
            "Epoch 12/500\n",
            "2/2 [==============================] - 0s 4ms/step - loss: 25.5064 - mae: 25.5064\n",
            "Epoch 13/500\n",
            "2/2 [==============================] - 0s 4ms/step - loss: 16.8890 - mae: 16.8890\n",
            "Epoch 14/500\n",
            "2/2 [==============================] - 0s 4ms/step - loss: 25.7509 - mae: 25.7509\n",
            "Epoch 15/500\n",
            "2/2 [==============================] - 0s 5ms/step - loss: 17.6019 - mae: 17.6019\n",
            "Epoch 16/500\n",
            "2/2 [==============================] - 0s 7ms/step - loss: 10.0513 - mae: 10.0513\n",
            "Epoch 17/500\n",
            "2/2 [==============================] - 0s 6ms/step - loss: 18.6183 - mae: 18.6183\n",
            "Epoch 18/500\n",
            "2/2 [==============================] - 0s 6ms/step - loss: 11.7628 - mae: 11.7628\n",
            "Epoch 19/500\n",
            "2/2 [==============================] - 0s 6ms/step - loss: 16.4586 - mae: 16.4586\n",
            "Epoch 20/500\n",
            "2/2 [==============================] - 0s 5ms/step - loss: 8.2348 - mae: 8.2348\n",
            "Epoch 21/500\n",
            "2/2 [==============================] - 0s 5ms/step - loss: 14.4212 - mae: 14.4212\n",
            "Epoch 22/500\n",
            "2/2 [==============================] - 0s 5ms/step - loss: 12.8366 - mae: 12.8366\n",
            "Epoch 23/500\n",
            "2/2 [==============================] - 0s 5ms/step - loss: 15.4695 - mae: 15.4695\n",
            "Epoch 24/500\n",
            "2/2 [==============================] - 0s 4ms/step - loss: 15.2584 - mae: 15.2584\n",
            "Epoch 25/500\n",
            "2/2 [==============================] - 0s 5ms/step - loss: 14.3306 - mae: 14.3306\n",
            "Epoch 26/500\n",
            "2/2 [==============================] - 0s 4ms/step - loss: 19.3313 - mae: 19.3313\n",
            "Epoch 27/500\n",
            "2/2 [==============================] - 0s 5ms/step - loss: 11.4499 - mae: 11.4499\n",
            "Epoch 28/500\n",
            "2/2 [==============================] - 0s 4ms/step - loss: 29.1443 - mae: 29.1443\n",
            "Epoch 29/500\n",
            "2/2 [==============================] - 0s 7ms/step - loss: 9.2433 - mae: 9.2433\n",
            "Epoch 30/500\n",
            "2/2 [==============================] - 0s 4ms/step - loss: 29.8752 - mae: 29.8752\n",
            "Epoch 31/500\n",
            "2/2 [==============================] - 0s 5ms/step - loss: 54.2149 - mae: 54.2149\n",
            "Epoch 32/500\n",
            "2/2 [==============================] - 0s 5ms/step - loss: 9.5718 - mae: 9.5718\n",
            "Epoch 33/500\n",
            "2/2 [==============================] - 0s 4ms/step - loss: 12.1659 - mae: 12.1659\n",
            "Epoch 34/500\n",
            "2/2 [==============================] - 0s 4ms/step - loss: 23.9557 - mae: 23.9557\n",
            "Epoch 35/500\n",
            "2/2 [==============================] - 0s 4ms/step - loss: 12.6085 - mae: 12.6085\n",
            "Epoch 36/500\n",
            "2/2 [==============================] - 0s 4ms/step - loss: 21.5093 - mae: 21.5093\n",
            "Epoch 37/500\n",
            "2/2 [==============================] - 0s 5ms/step - loss: 11.3873 - mae: 11.3873\n",
            "Epoch 38/500\n",
            "2/2 [==============================] - 0s 9ms/step - loss: 13.4878 - mae: 13.4878\n",
            "Epoch 39/500\n",
            "2/2 [==============================] - 0s 4ms/step - loss: 10.7979 - mae: 10.7979\n",
            "Epoch 40/500\n",
            "2/2 [==============================] - 0s 4ms/step - loss: 16.6466 - mae: 16.6466\n",
            "Epoch 41/500\n",
            "2/2 [==============================] - 0s 4ms/step - loss: 10.9926 - mae: 10.9926\n",
            "Epoch 42/500\n",
            "2/2 [==============================] - 0s 4ms/step - loss: 9.3160 - mae: 9.3160\n",
            "Epoch 43/500\n",
            "2/2 [==============================] - 0s 4ms/step - loss: 9.5931 - mae: 9.5931\n",
            "Epoch 44/500\n",
            "2/2 [==============================] - 0s 5ms/step - loss: 28.1043 - mae: 28.1043\n",
            "Epoch 45/500\n",
            "2/2 [==============================] - 0s 5ms/step - loss: 11.3068 - mae: 11.3068\n",
            "Epoch 46/500\n",
            "2/2 [==============================] - 0s 5ms/step - loss: 14.1408 - mae: 14.1408\n",
            "Epoch 47/500\n",
            "2/2 [==============================] - 0s 6ms/step - loss: 13.4709 - mae: 13.4709\n",
            "Epoch 48/500\n",
            "2/2 [==============================] - 0s 7ms/step - loss: 17.2916 - mae: 17.2916\n",
            "Epoch 49/500\n",
            "2/2 [==============================] - 0s 6ms/step - loss: 9.5386 - mae: 9.5386\n",
            "Epoch 50/500\n",
            "2/2 [==============================] - 0s 4ms/step - loss: 13.7547 - mae: 13.7547\n",
            "Epoch 51/500\n",
            "2/2 [==============================] - 0s 4ms/step - loss: 11.5742 - mae: 11.5742\n",
            "Epoch 52/500\n",
            "2/2 [==============================] - 0s 5ms/step - loss: 30.3845 - mae: 30.3845\n",
            "Epoch 53/500\n",
            "2/2 [==============================] - 0s 4ms/step - loss: 14.2813 - mae: 14.2813\n",
            "Epoch 54/500\n",
            "2/2 [==============================] - 0s 5ms/step - loss: 23.6161 - mae: 23.6161\n",
            "Epoch 55/500\n",
            "2/2 [==============================] - 0s 4ms/step - loss: 24.5424 - mae: 24.5424\n",
            "Epoch 56/500\n",
            "2/2 [==============================] - 0s 5ms/step - loss: 11.3223 - mae: 11.3223\n",
            "Epoch 57/500\n",
            "2/2 [==============================] - 0s 6ms/step - loss: 13.3382 - mae: 13.3382\n",
            "Epoch 58/500\n",
            "2/2 [==============================] - 0s 5ms/step - loss: 9.9358 - mae: 9.9358\n",
            "Epoch 59/500\n",
            "2/2 [==============================] - 0s 4ms/step - loss: 13.8952 - mae: 13.8952\n",
            "Epoch 60/500\n",
            "2/2 [==============================] - 0s 5ms/step - loss: 9.9808 - mae: 9.9808\n",
            "Epoch 61/500\n",
            "2/2 [==============================] - 0s 5ms/step - loss: 14.9572 - mae: 14.9572\n",
            "Epoch 62/500\n",
            "2/2 [==============================] - 0s 5ms/step - loss: 11.9156 - mae: 11.9156\n",
            "Epoch 63/500\n",
            "2/2 [==============================] - 0s 4ms/step - loss: 10.2807 - mae: 10.2807\n",
            "Epoch 64/500\n",
            "2/2 [==============================] - 0s 4ms/step - loss: 23.8804 - mae: 23.8804\n",
            "Epoch 65/500\n",
            "2/2 [==============================] - 0s 4ms/step - loss: 10.4585 - mae: 10.4585\n",
            "Epoch 66/500\n",
            "2/2 [==============================] - 0s 4ms/step - loss: 20.9325 - mae: 20.9325\n",
            "Epoch 67/500\n",
            "2/2 [==============================] - 0s 4ms/step - loss: 10.4389 - mae: 10.4389\n",
            "Epoch 68/500\n",
            "2/2 [==============================] - 0s 5ms/step - loss: 14.1803 - mae: 14.1803\n",
            "Epoch 69/500\n",
            "2/2 [==============================] - 0s 6ms/step - loss: 10.5134 - mae: 10.5134\n",
            "Epoch 70/500\n",
            "2/2 [==============================] - 0s 5ms/step - loss: 12.5867 - mae: 12.5867\n",
            "Epoch 71/500\n",
            "2/2 [==============================] - 0s 5ms/step - loss: 13.0190 - mae: 13.0190\n",
            "Epoch 72/500\n",
            "2/2 [==============================] - 0s 5ms/step - loss: 19.3841 - mae: 19.3841\n",
            "Epoch 73/500\n",
            "2/2 [==============================] - 0s 5ms/step - loss: 11.1321 - mae: 11.1321\n",
            "Epoch 74/500\n",
            "2/2 [==============================] - 0s 5ms/step - loss: 21.6357 - mae: 21.6357\n",
            "Epoch 75/500\n",
            "2/2 [==============================] - 0s 5ms/step - loss: 7.2213 - mae: 7.2213\n",
            "Epoch 76/500\n",
            "2/2 [==============================] - 0s 5ms/step - loss: 9.4515 - mae: 9.4515\n",
            "Epoch 77/500\n",
            "2/2 [==============================] - 0s 5ms/step - loss: 22.1540 - mae: 22.1540\n",
            "Epoch 78/500\n",
            "2/2 [==============================] - 0s 4ms/step - loss: 17.4951 - mae: 17.4951\n",
            "Epoch 79/500\n",
            "2/2 [==============================] - 0s 4ms/step - loss: 14.7246 - mae: 14.7246\n",
            "Epoch 80/500\n",
            "2/2 [==============================] - 0s 4ms/step - loss: 24.9129 - mae: 24.9129\n",
            "Epoch 81/500\n",
            "2/2 [==============================] - 0s 5ms/step - loss: 10.8029 - mae: 10.8029\n",
            "Epoch 82/500\n",
            "2/2 [==============================] - 0s 5ms/step - loss: 12.8133 - mae: 12.8133\n",
            "Epoch 83/500\n",
            "2/2 [==============================] - 0s 5ms/step - loss: 17.6068 - mae: 17.6068\n",
            "Epoch 84/500\n",
            "2/2 [==============================] - 0s 5ms/step - loss: 7.2967 - mae: 7.2967\n",
            "Epoch 85/500\n",
            "2/2 [==============================] - 0s 5ms/step - loss: 15.1014 - mae: 15.1014\n",
            "Epoch 86/500\n",
            "2/2 [==============================] - 0s 5ms/step - loss: 15.3938 - mae: 15.3938\n",
            "Epoch 87/500\n",
            "2/2 [==============================] - 0s 5ms/step - loss: 19.3233 - mae: 19.3233\n",
            "Epoch 88/500\n",
            "2/2 [==============================] - 0s 5ms/step - loss: 29.2600 - mae: 29.2600\n",
            "Epoch 89/500\n",
            "2/2 [==============================] - 0s 6ms/step - loss: 10.0918 - mae: 10.0918\n",
            "Epoch 90/500\n",
            "2/2 [==============================] - 0s 5ms/step - loss: 21.0704 - mae: 21.0704\n",
            "Epoch 91/500\n",
            "2/2 [==============================] - 0s 5ms/step - loss: 10.4631 - mae: 10.4631\n",
            "Epoch 92/500\n",
            "2/2 [==============================] - 0s 5ms/step - loss: 17.9972 - mae: 17.9972\n",
            "Epoch 93/500\n",
            "2/2 [==============================] - 0s 5ms/step - loss: 6.5490 - mae: 6.5490\n",
            "Epoch 94/500\n",
            "2/2 [==============================] - 0s 5ms/step - loss: 11.1238 - mae: 11.1238\n",
            "Epoch 95/500\n",
            "2/2 [==============================] - 0s 5ms/step - loss: 24.4101 - mae: 24.4101\n",
            "Epoch 96/500\n",
            "2/2 [==============================] - 0s 5ms/step - loss: 10.7325 - mae: 10.7325\n",
            "Epoch 97/500\n",
            "2/2 [==============================] - 0s 5ms/step - loss: 15.3875 - mae: 15.3875\n",
            "Epoch 98/500\n",
            "2/2 [==============================] - 0s 5ms/step - loss: 8.2469 - mae: 8.2469\n",
            "Epoch 99/500\n",
            "2/2 [==============================] - 0s 6ms/step - loss: 16.5693 - mae: 16.5693\n",
            "Epoch 100/500\n",
            "2/2 [==============================] - 0s 5ms/step - loss: 14.3354 - mae: 14.3354\n",
            "Epoch 101/500\n",
            "2/2 [==============================] - 0s 5ms/step - loss: 15.3492 - mae: 15.3492\n",
            "Epoch 102/500\n",
            "2/2 [==============================] - 0s 5ms/step - loss: 10.7949 - mae: 10.7949\n",
            "Epoch 103/500\n",
            "2/2 [==============================] - 0s 5ms/step - loss: 9.1837 - mae: 9.1837\n",
            "Epoch 104/500\n",
            "2/2 [==============================] - 0s 5ms/step - loss: 23.9441 - mae: 23.9441\n",
            "Epoch 105/500\n",
            "2/2 [==============================] - 0s 5ms/step - loss: 10.8752 - mae: 10.8752\n",
            "Epoch 106/500\n",
            "2/2 [==============================] - 0s 4ms/step - loss: 11.3297 - mae: 11.3297\n",
            "Epoch 107/500\n",
            "2/2 [==============================] - 0s 5ms/step - loss: 21.5229 - mae: 21.5229\n",
            "Epoch 108/500\n",
            "2/2 [==============================] - 0s 5ms/step - loss: 6.5926 - mae: 6.5926\n",
            "Epoch 109/500\n",
            "2/2 [==============================] - 0s 5ms/step - loss: 13.3556 - mae: 13.3556\n",
            "Epoch 110/500\n",
            "2/2 [==============================] - 0s 5ms/step - loss: 7.9802 - mae: 7.9802\n",
            "Epoch 111/500\n",
            "2/2 [==============================] - 0s 5ms/step - loss: 15.7443 - mae: 15.7443\n",
            "Epoch 112/500\n",
            "2/2 [==============================] - 0s 5ms/step - loss: 8.7549 - mae: 8.7549\n",
            "Epoch 113/500\n",
            "2/2 [==============================] - 0s 6ms/step - loss: 22.7152 - mae: 22.7152\n",
            "Epoch 114/500\n",
            "2/2 [==============================] - 0s 8ms/step - loss: 19.0620 - mae: 19.0620\n",
            "Epoch 115/500\n",
            "2/2 [==============================] - 0s 6ms/step - loss: 11.1025 - mae: 11.1025\n",
            "Epoch 116/500\n",
            "2/2 [==============================] - 0s 5ms/step - loss: 23.1702 - mae: 23.1702\n",
            "Epoch 117/500\n",
            "2/2 [==============================] - 0s 5ms/step - loss: 9.5895 - mae: 9.5895\n",
            "Epoch 118/500\n",
            "2/2 [==============================] - 0s 5ms/step - loss: 10.6554 - mae: 10.6554\n",
            "Epoch 119/500\n",
            "2/2 [==============================] - 0s 5ms/step - loss: 8.0478 - mae: 8.0478\n",
            "Epoch 120/500\n",
            "2/2 [==============================] - 0s 5ms/step - loss: 29.4933 - mae: 29.4933\n",
            "Epoch 121/500\n",
            "2/2 [==============================] - 0s 5ms/step - loss: 8.0838 - mae: 8.0838\n",
            "Epoch 122/500\n",
            "2/2 [==============================] - 0s 5ms/step - loss: 28.1449 - mae: 28.1449\n",
            "Epoch 123/500\n",
            "2/2 [==============================] - 0s 5ms/step - loss: 32.6982 - mae: 32.6982\n",
            "Epoch 124/500\n",
            "2/2 [==============================] - 0s 5ms/step - loss: 19.4821 - mae: 19.4821\n",
            "Epoch 125/500\n",
            "2/2 [==============================] - 0s 5ms/step - loss: 6.3999 - mae: 6.3999\n",
            "Epoch 126/500\n",
            "2/2 [==============================] - 0s 6ms/step - loss: 26.7671 - mae: 26.7671\n",
            "Epoch 127/500\n",
            "2/2 [==============================] - 0s 4ms/step - loss: 8.5797 - mae: 8.5797\n",
            "Epoch 128/500\n",
            "2/2 [==============================] - 0s 5ms/step - loss: 13.8158 - mae: 13.8158\n",
            "Epoch 129/500\n",
            "2/2 [==============================] - 0s 6ms/step - loss: 11.2893 - mae: 11.2893\n",
            "Epoch 130/500\n",
            "2/2 [==============================] - 0s 5ms/step - loss: 11.5135 - mae: 11.5135\n",
            "Epoch 131/500\n",
            "2/2 [==============================] - 0s 5ms/step - loss: 20.6332 - mae: 20.6332\n",
            "Epoch 132/500\n",
            "2/2 [==============================] - 0s 5ms/step - loss: 8.0133 - mae: 8.0133\n",
            "Epoch 133/500\n",
            "2/2 [==============================] - 0s 5ms/step - loss: 8.8296 - mae: 8.8296\n",
            "Epoch 134/500\n",
            "2/2 [==============================] - 0s 5ms/step - loss: 21.4827 - mae: 21.4827\n",
            "Epoch 135/500\n",
            "2/2 [==============================] - 0s 5ms/step - loss: 10.8946 - mae: 10.8946\n",
            "Epoch 136/500\n",
            "2/2 [==============================] - 0s 7ms/step - loss: 19.3728 - mae: 19.3728\n",
            "Epoch 137/500\n",
            "2/2 [==============================] - 0s 5ms/step - loss: 22.5756 - mae: 22.5756\n",
            "Epoch 138/500\n",
            "2/2 [==============================] - 0s 5ms/step - loss: 8.9174 - mae: 8.9174\n",
            "Epoch 139/500\n",
            "2/2 [==============================] - 0s 5ms/step - loss: 7.1140 - mae: 7.1140\n",
            "Epoch 140/500\n",
            "2/2 [==============================] - 0s 5ms/step - loss: 21.2700 - mae: 21.2700\n",
            "Epoch 141/500\n",
            "2/2 [==============================] - 0s 9ms/step - loss: 8.4497 - mae: 8.4497\n",
            "Epoch 142/500\n",
            "2/2 [==============================] - 0s 5ms/step - loss: 37.4249 - mae: 37.4249\n",
            "Epoch 143/500\n",
            "2/2 [==============================] - 0s 7ms/step - loss: 25.9767 - mae: 25.9767\n",
            "Epoch 144/500\n",
            "2/2 [==============================] - 0s 11ms/step - loss: 9.5375 - mae: 9.5375\n",
            "Epoch 145/500\n",
            "2/2 [==============================] - 0s 5ms/step - loss: 26.5011 - mae: 26.5011\n",
            "Epoch 146/500\n",
            "2/2 [==============================] - 0s 6ms/step - loss: 8.8998 - mae: 8.8998\n",
            "Epoch 147/500\n",
            "2/2 [==============================] - 0s 5ms/step - loss: 15.5345 - mae: 15.5345\n",
            "Epoch 148/500\n",
            "2/2 [==============================] - 0s 5ms/step - loss: 18.1857 - mae: 18.1857\n",
            "Epoch 149/500\n",
            "2/2 [==============================] - 0s 5ms/step - loss: 8.3205 - mae: 8.3205\n",
            "Epoch 150/500\n",
            "2/2 [==============================] - 0s 5ms/step - loss: 7.5511 - mae: 7.5511\n",
            "Epoch 151/500\n",
            "2/2 [==============================] - 0s 5ms/step - loss: 18.6080 - mae: 18.6080\n",
            "Epoch 152/500\n",
            "2/2 [==============================] - 0s 5ms/step - loss: 10.3728 - mae: 10.3728\n",
            "Epoch 153/500\n",
            "2/2 [==============================] - 0s 5ms/step - loss: 30.0503 - mae: 30.0503\n",
            "Epoch 154/500\n",
            "2/2 [==============================] - 0s 5ms/step - loss: 10.4873 - mae: 10.4873\n",
            "Epoch 155/500\n",
            "2/2 [==============================] - 0s 6ms/step - loss: 15.3896 - mae: 15.3896\n",
            "Epoch 156/500\n",
            "2/2 [==============================] - 0s 5ms/step - loss: 16.8655 - mae: 16.8655\n",
            "Epoch 157/500\n",
            "2/2 [==============================] - 0s 9ms/step - loss: 33.2280 - mae: 33.2280\n",
            "Epoch 158/500\n",
            "2/2 [==============================] - 0s 5ms/step - loss: 10.8426 - mae: 10.8426\n",
            "Epoch 159/500\n",
            "2/2 [==============================] - 0s 4ms/step - loss: 8.9754 - mae: 8.9754\n",
            "Epoch 160/500\n",
            "2/2 [==============================] - 0s 8ms/step - loss: 22.4195 - mae: 22.4195\n",
            "Epoch 161/500\n",
            "2/2 [==============================] - 0s 7ms/step - loss: 11.8343 - mae: 11.8343\n",
            "Epoch 162/500\n",
            "2/2 [==============================] - 0s 6ms/step - loss: 21.8357 - mae: 21.8357\n",
            "Epoch 163/500\n",
            "2/2 [==============================] - 0s 5ms/step - loss: 19.5006 - mae: 19.5006\n",
            "Epoch 164/500\n",
            "2/2 [==============================] - 0s 4ms/step - loss: 11.3964 - mae: 11.3964\n",
            "Epoch 165/500\n",
            "2/2 [==============================] - 0s 6ms/step - loss: 11.6070 - mae: 11.6070\n",
            "Epoch 166/500\n",
            "2/2 [==============================] - 0s 5ms/step - loss: 21.3529 - mae: 21.3529\n",
            "Epoch 167/500\n",
            "2/2 [==============================] - 0s 5ms/step - loss: 26.8860 - mae: 26.8860\n",
            "Epoch 168/500\n",
            "2/2 [==============================] - 0s 5ms/step - loss: 9.9895 - mae: 9.9895\n",
            "Epoch 169/500\n",
            "2/2 [==============================] - 0s 4ms/step - loss: 23.1493 - mae: 23.1493\n",
            "Epoch 170/500\n",
            "2/2 [==============================] - 0s 5ms/step - loss: 9.5795 - mae: 9.5795\n",
            "Epoch 171/500\n",
            "2/2 [==============================] - 0s 5ms/step - loss: 15.8449 - mae: 15.8449\n",
            "Epoch 172/500\n",
            "2/2 [==============================] - 0s 5ms/step - loss: 13.8761 - mae: 13.8761\n",
            "Epoch 173/500\n",
            "2/2 [==============================] - 0s 4ms/step - loss: 22.5630 - mae: 22.5630\n",
            "Epoch 174/500\n",
            "2/2 [==============================] - 0s 5ms/step - loss: 11.3570 - mae: 11.3570\n",
            "Epoch 175/500\n",
            "2/2 [==============================] - 0s 4ms/step - loss: 20.1374 - mae: 20.1374\n",
            "Epoch 176/500\n",
            "2/2 [==============================] - 0s 5ms/step - loss: 7.4129 - mae: 7.4129\n",
            "Epoch 177/500\n",
            "2/2 [==============================] - 0s 5ms/step - loss: 8.5973 - mae: 8.5973\n",
            "Epoch 178/500\n",
            "2/2 [==============================] - 0s 5ms/step - loss: 15.5349 - mae: 15.5349\n",
            "Epoch 179/500\n",
            "2/2 [==============================] - 0s 5ms/step - loss: 9.2633 - mae: 9.2633\n",
            "Epoch 180/500\n",
            "2/2 [==============================] - 0s 4ms/step - loss: 8.1319 - mae: 8.1319\n",
            "Epoch 181/500\n",
            "2/2 [==============================] - 0s 5ms/step - loss: 18.7934 - mae: 18.7934\n",
            "Epoch 182/500\n",
            "2/2 [==============================] - 0s 5ms/step - loss: 10.7978 - mae: 10.7978\n",
            "Epoch 183/500\n",
            "2/2 [==============================] - 0s 5ms/step - loss: 11.5057 - mae: 11.5057\n",
            "Epoch 184/500\n",
            "2/2 [==============================] - 0s 5ms/step - loss: 29.8059 - mae: 29.8059\n",
            "Epoch 185/500\n",
            "2/2 [==============================] - 0s 5ms/step - loss: 7.5432 - mae: 7.5432\n",
            "Epoch 186/500\n",
            "2/2 [==============================] - 0s 5ms/step - loss: 16.4524 - mae: 16.4524\n",
            "Epoch 187/500\n",
            "2/2 [==============================] - 0s 5ms/step - loss: 10.7143 - mae: 10.7143\n",
            "Epoch 188/500\n",
            "2/2 [==============================] - 0s 5ms/step - loss: 22.5225 - mae: 22.5225\n",
            "Epoch 189/500\n",
            "2/2 [==============================] - 0s 5ms/step - loss: 11.6861 - mae: 11.6861\n",
            "Epoch 190/500\n",
            "2/2 [==============================] - 0s 5ms/step - loss: 9.4334 - mae: 9.4334\n",
            "Epoch 191/500\n",
            "2/2 [==============================] - 0s 5ms/step - loss: 15.6398 - mae: 15.6398\n",
            "Epoch 192/500\n",
            "2/2 [==============================] - 0s 5ms/step - loss: 12.8393 - mae: 12.8393\n",
            "Epoch 193/500\n",
            "2/2 [==============================] - 0s 5ms/step - loss: 27.8019 - mae: 27.8019\n",
            "Epoch 194/500\n",
            "2/2 [==============================] - 0s 5ms/step - loss: 7.1240 - mae: 7.1240\n",
            "Epoch 195/500\n",
            "2/2 [==============================] - 0s 5ms/step - loss: 7.0344 - mae: 7.0344\n",
            "Epoch 196/500\n",
            "2/2 [==============================] - 0s 7ms/step - loss: 21.9077 - mae: 21.9077\n",
            "Epoch 197/500\n",
            "2/2 [==============================] - 0s 5ms/step - loss: 21.0627 - mae: 21.0627\n",
            "Epoch 198/500\n",
            "2/2 [==============================] - 0s 6ms/step - loss: 12.5938 - mae: 12.5938\n",
            "Epoch 199/500\n",
            "2/2 [==============================] - 0s 5ms/step - loss: 18.1014 - mae: 18.1014\n",
            "Epoch 200/500\n",
            "2/2 [==============================] - 0s 7ms/step - loss: 13.9271 - mae: 13.9271\n",
            "Epoch 201/500\n",
            "2/2 [==============================] - 0s 5ms/step - loss: 6.0132 - mae: 6.0132\n",
            "Epoch 202/500\n",
            "2/2 [==============================] - 0s 4ms/step - loss: 23.0120 - mae: 23.0120\n",
            "Epoch 203/500\n",
            "2/2 [==============================] - 0s 8ms/step - loss: 8.9601 - mae: 8.9601\n",
            "Epoch 204/500\n",
            "2/2 [==============================] - 0s 6ms/step - loss: 18.9754 - mae: 18.9754\n",
            "Epoch 205/500\n",
            "2/2 [==============================] - 0s 5ms/step - loss: 9.3905 - mae: 9.3905\n",
            "Epoch 206/500\n",
            "2/2 [==============================] - 0s 6ms/step - loss: 11.0356 - mae: 11.0356\n",
            "Epoch 207/500\n",
            "2/2 [==============================] - 0s 5ms/step - loss: 17.5368 - mae: 17.5368\n",
            "Epoch 208/500\n",
            "2/2 [==============================] - 0s 6ms/step - loss: 14.2622 - mae: 14.2622\n",
            "Epoch 209/500\n",
            "2/2 [==============================] - 0s 4ms/step - loss: 16.5922 - mae: 16.5922\n",
            "Epoch 210/500\n",
            "2/2 [==============================] - 0s 5ms/step - loss: 18.0838 - mae: 18.0838\n",
            "Epoch 211/500\n",
            "2/2 [==============================] - 0s 4ms/step - loss: 9.8740 - mae: 9.8740\n",
            "Epoch 212/500\n",
            "2/2 [==============================] - 0s 5ms/step - loss: 18.5681 - mae: 18.5681\n",
            "Epoch 213/500\n",
            "2/2 [==============================] - 0s 5ms/step - loss: 14.9659 - mae: 14.9659\n",
            "Epoch 214/500\n",
            "2/2 [==============================] - 0s 7ms/step - loss: 14.5391 - mae: 14.5391\n",
            "Epoch 215/500\n",
            "2/2 [==============================] - 0s 5ms/step - loss: 23.2089 - mae: 23.2089\n",
            "Epoch 216/500\n",
            "2/2 [==============================] - 0s 9ms/step - loss: 13.5146 - mae: 13.5146\n",
            "Epoch 217/500\n",
            "2/2 [==============================] - 0s 5ms/step - loss: 9.9648 - mae: 9.9648\n",
            "Epoch 218/500\n",
            "2/2 [==============================] - 0s 7ms/step - loss: 12.4331 - mae: 12.4331\n",
            "Epoch 219/500\n",
            "2/2 [==============================] - 0s 8ms/step - loss: 5.8170 - mae: 5.8170\n",
            "Epoch 220/500\n",
            "2/2 [==============================] - 0s 5ms/step - loss: 10.1612 - mae: 10.1612\n",
            "Epoch 221/500\n",
            "2/2 [==============================] - 0s 5ms/step - loss: 28.8455 - mae: 28.8455\n",
            "Epoch 222/500\n",
            "2/2 [==============================] - 0s 5ms/step - loss: 28.0403 - mae: 28.0403\n",
            "Epoch 223/500\n",
            "2/2 [==============================] - 0s 5ms/step - loss: 10.0804 - mae: 10.0804\n",
            "Epoch 224/500\n",
            "2/2 [==============================] - 0s 4ms/step - loss: 14.6173 - mae: 14.6173\n",
            "Epoch 225/500\n",
            "2/2 [==============================] - 0s 4ms/step - loss: 16.6251 - mae: 16.6251\n",
            "Epoch 226/500\n",
            "2/2 [==============================] - 0s 5ms/step - loss: 15.8450 - mae: 15.8450\n",
            "Epoch 227/500\n",
            "2/2 [==============================] - 0s 8ms/step - loss: 16.0655 - mae: 16.0655\n",
            "Epoch 228/500\n",
            "2/2 [==============================] - 0s 5ms/step - loss: 13.8477 - mae: 13.8477\n",
            "Epoch 229/500\n",
            "2/2 [==============================] - 0s 9ms/step - loss: 17.9530 - mae: 17.9530\n",
            "Epoch 230/500\n",
            "2/2 [==============================] - 0s 7ms/step - loss: 15.5403 - mae: 15.5403\n",
            "Epoch 231/500\n",
            "2/2 [==============================] - 0s 7ms/step - loss: 21.0559 - mae: 21.0559\n",
            "Epoch 232/500\n",
            "2/2 [==============================] - 0s 4ms/step - loss: 25.6034 - mae: 25.6034\n",
            "Epoch 233/500\n",
            "2/2 [==============================] - 0s 4ms/step - loss: 16.5739 - mae: 16.5739\n",
            "Epoch 234/500\n",
            "2/2 [==============================] - 0s 5ms/step - loss: 7.3368 - mae: 7.3368\n",
            "Epoch 235/500\n",
            "2/2 [==============================] - 0s 7ms/step - loss: 17.2288 - mae: 17.2288\n",
            "Epoch 236/500\n",
            "2/2 [==============================] - 0s 5ms/step - loss: 7.2147 - mae: 7.2147\n",
            "Epoch 237/500\n",
            "2/2 [==============================] - 0s 4ms/step - loss: 9.3355 - mae: 9.3355\n",
            "Epoch 238/500\n",
            "2/2 [==============================] - 0s 4ms/step - loss: 8.1678 - mae: 8.1678\n",
            "Epoch 239/500\n",
            "2/2 [==============================] - 0s 4ms/step - loss: 17.3275 - mae: 17.3275\n",
            "Epoch 240/500\n",
            "2/2 [==============================] - 0s 5ms/step - loss: 8.9708 - mae: 8.9708\n",
            "Epoch 241/500\n",
            "2/2 [==============================] - 0s 4ms/step - loss: 13.3733 - mae: 13.3733\n",
            "Epoch 242/500\n",
            "2/2 [==============================] - 0s 4ms/step - loss: 8.8700 - mae: 8.8700\n",
            "Epoch 243/500\n",
            "2/2 [==============================] - 0s 4ms/step - loss: 19.2440 - mae: 19.2440\n",
            "Epoch 244/500\n",
            "2/2 [==============================] - 0s 4ms/step - loss: 13.8992 - mae: 13.8992\n",
            "Epoch 245/500\n",
            "2/2 [==============================] - 0s 6ms/step - loss: 14.5468 - mae: 14.5468\n",
            "Epoch 246/500\n",
            "2/2 [==============================] - 0s 4ms/step - loss: 15.6821 - mae: 15.6821\n",
            "Epoch 247/500\n",
            "2/2 [==============================] - 0s 4ms/step - loss: 17.5180 - mae: 17.5180\n",
            "Epoch 248/500\n",
            "2/2 [==============================] - 0s 5ms/step - loss: 13.0834 - mae: 13.0834\n",
            "Epoch 249/500\n",
            "2/2 [==============================] - 0s 5ms/step - loss: 14.4228 - mae: 14.4228\n",
            "Epoch 250/500\n",
            "2/2 [==============================] - 0s 5ms/step - loss: 27.8229 - mae: 27.8229\n",
            "Epoch 251/500\n",
            "2/2 [==============================] - 0s 4ms/step - loss: 7.4933 - mae: 7.4933\n",
            "Epoch 252/500\n",
            "2/2 [==============================] - 0s 4ms/step - loss: 38.1867 - mae: 38.1867\n",
            "Epoch 253/500\n",
            "2/2 [==============================] - 0s 4ms/step - loss: 23.0908 - mae: 23.0908\n",
            "Epoch 254/500\n",
            "2/2 [==============================] - 0s 4ms/step - loss: 7.2797 - mae: 7.2797\n",
            "Epoch 255/500\n",
            "2/2 [==============================] - 0s 4ms/step - loss: 24.6073 - mae: 24.6073\n",
            "Epoch 256/500\n",
            "2/2 [==============================] - 0s 4ms/step - loss: 12.3769 - mae: 12.3769\n",
            "Epoch 257/500\n",
            "2/2 [==============================] - 0s 4ms/step - loss: 10.5509 - mae: 10.5509\n",
            "Epoch 258/500\n",
            "2/2 [==============================] - 0s 4ms/step - loss: 14.1792 - mae: 14.1792\n",
            "Epoch 259/500\n",
            "2/2 [==============================] - 0s 4ms/step - loss: 11.2419 - mae: 11.2419\n",
            "Epoch 260/500\n",
            "2/2 [==============================] - 0s 5ms/step - loss: 31.6057 - mae: 31.6057\n",
            "Epoch 261/500\n",
            "2/2 [==============================] - 0s 4ms/step - loss: 11.1580 - mae: 11.1580\n",
            "Epoch 262/500\n",
            "2/2 [==============================] - 0s 4ms/step - loss: 10.0172 - mae: 10.0172\n",
            "Epoch 263/500\n",
            "2/2 [==============================] - 0s 4ms/step - loss: 8.9336 - mae: 8.9336\n",
            "Epoch 264/500\n",
            "2/2 [==============================] - 0s 5ms/step - loss: 21.5210 - mae: 21.5210\n",
            "Epoch 265/500\n",
            "2/2 [==============================] - 0s 5ms/step - loss: 11.4297 - mae: 11.4297\n",
            "Epoch 266/500\n",
            "2/2 [==============================] - 0s 5ms/step - loss: 13.2621 - mae: 13.2621\n",
            "Epoch 267/500\n",
            "2/2 [==============================] - 0s 5ms/step - loss: 11.0617 - mae: 11.0617\n",
            "Epoch 268/500\n",
            "2/2 [==============================] - 0s 4ms/step - loss: 21.7113 - mae: 21.7113\n",
            "Epoch 269/500\n",
            "2/2 [==============================] - 0s 4ms/step - loss: 32.9315 - mae: 32.9315\n",
            "Epoch 270/500\n",
            "2/2 [==============================] - 0s 4ms/step - loss: 9.7318 - mae: 9.7318\n",
            "Epoch 271/500\n",
            "2/2 [==============================] - 0s 4ms/step - loss: 7.7054 - mae: 7.7054\n",
            "Epoch 272/500\n",
            "2/2 [==============================] - 0s 4ms/step - loss: 28.4996 - mae: 28.4996\n",
            "Epoch 273/500\n",
            "2/2 [==============================] - 0s 4ms/step - loss: 7.3808 - mae: 7.3808\n",
            "Epoch 274/500\n",
            "2/2 [==============================] - 0s 4ms/step - loss: 6.3202 - mae: 6.3202\n",
            "Epoch 275/500\n",
            "2/2 [==============================] - 0s 4ms/step - loss: 37.2078 - mae: 37.2078\n",
            "Epoch 276/500\n",
            "2/2 [==============================] - 0s 4ms/step - loss: 8.2817 - mae: 8.2817\n",
            "Epoch 277/500\n",
            "2/2 [==============================] - 0s 4ms/step - loss: 27.9916 - mae: 27.9916\n",
            "Epoch 278/500\n",
            "2/2 [==============================] - 0s 4ms/step - loss: 10.6012 - mae: 10.6012\n",
            "Epoch 279/500\n",
            "2/2 [==============================] - 0s 4ms/step - loss: 16.0481 - mae: 16.0481\n",
            "Epoch 280/500\n",
            "2/2 [==============================] - 0s 4ms/step - loss: 21.1137 - mae: 21.1137\n",
            "Epoch 281/500\n",
            "2/2 [==============================] - 0s 4ms/step - loss: 24.0925 - mae: 24.0925\n",
            "Epoch 282/500\n",
            "2/2 [==============================] - 0s 4ms/step - loss: 8.3151 - mae: 8.3151\n",
            "Epoch 283/500\n",
            "2/2 [==============================] - 0s 4ms/step - loss: 9.0554 - mae: 9.0554\n",
            "Epoch 284/500\n",
            "2/2 [==============================] - 0s 5ms/step - loss: 23.0368 - mae: 23.0368\n",
            "Epoch 285/500\n",
            "2/2 [==============================] - 0s 4ms/step - loss: 12.0855 - mae: 12.0855\n",
            "Epoch 286/500\n",
            "2/2 [==============================] - 0s 7ms/step - loss: 6.8777 - mae: 6.8777\n",
            "Epoch 287/500\n",
            "2/2 [==============================] - 0s 5ms/step - loss: 24.3806 - mae: 24.3806\n",
            "Epoch 288/500\n",
            "2/2 [==============================] - 0s 5ms/step - loss: 20.6115 - mae: 20.6115\n",
            "Epoch 289/500\n",
            "2/2 [==============================] - 0s 4ms/step - loss: 11.8352 - mae: 11.8352\n",
            "Epoch 290/500\n",
            "2/2 [==============================] - 0s 4ms/step - loss: 16.4170 - mae: 16.4170\n",
            "Epoch 291/500\n",
            "2/2 [==============================] - 0s 7ms/step - loss: 16.6392 - mae: 16.6392\n",
            "Epoch 292/500\n",
            "2/2 [==============================] - 0s 4ms/step - loss: 8.1237 - mae: 8.1237\n",
            "Epoch 293/500\n",
            "2/2 [==============================] - 0s 5ms/step - loss: 16.1019 - mae: 16.1019\n",
            "Epoch 294/500\n",
            "2/2 [==============================] - 0s 5ms/step - loss: 24.4146 - mae: 24.4146\n",
            "Epoch 295/500\n",
            "2/2 [==============================] - 0s 5ms/step - loss: 13.8541 - mae: 13.8541\n",
            "Epoch 296/500\n",
            "2/2 [==============================] - 0s 5ms/step - loss: 6.1059 - mae: 6.1059\n",
            "Epoch 297/500\n",
            "2/2 [==============================] - 0s 4ms/step - loss: 10.9495 - mae: 10.9495\n",
            "Epoch 298/500\n",
            "2/2 [==============================] - 0s 4ms/step - loss: 23.1875 - mae: 23.1875\n",
            "Epoch 299/500\n",
            "2/2 [==============================] - 0s 4ms/step - loss: 17.6627 - mae: 17.6627\n",
            "Epoch 300/500\n",
            "2/2 [==============================] - 0s 4ms/step - loss: 6.9437 - mae: 6.9437\n",
            "Epoch 301/500\n",
            "2/2 [==============================] - 0s 4ms/step - loss: 25.1009 - mae: 25.1009\n",
            "Epoch 302/500\n",
            "2/2 [==============================] - 0s 4ms/step - loss: 8.8593 - mae: 8.8593\n",
            "Epoch 303/500\n",
            "2/2 [==============================] - 0s 4ms/step - loss: 17.7160 - mae: 17.7160\n",
            "Epoch 304/500\n",
            "2/2 [==============================] - 0s 4ms/step - loss: 10.9504 - mae: 10.9504\n",
            "Epoch 305/500\n",
            "2/2 [==============================] - 0s 5ms/step - loss: 12.8877 - mae: 12.8877\n",
            "Epoch 306/500\n",
            "2/2 [==============================] - 0s 5ms/step - loss: 8.3689 - mae: 8.3689\n",
            "Epoch 307/500\n",
            "2/2 [==============================] - 0s 5ms/step - loss: 13.5875 - mae: 13.5875\n",
            "Epoch 308/500\n",
            "2/2 [==============================] - 0s 5ms/step - loss: 7.4137 - mae: 7.4137\n",
            "Epoch 309/500\n",
            "2/2 [==============================] - 0s 5ms/step - loss: 9.4468 - mae: 9.4468\n",
            "Epoch 310/500\n",
            "2/2 [==============================] - 0s 5ms/step - loss: 10.7125 - mae: 10.7125\n",
            "Epoch 311/500\n",
            "2/2 [==============================] - 0s 5ms/step - loss: 13.2671 - mae: 13.2671\n",
            "Epoch 312/500\n",
            "2/2 [==============================] - 0s 5ms/step - loss: 29.9665 - mae: 29.9665\n",
            "Epoch 313/500\n",
            "2/2 [==============================] - 0s 4ms/step - loss: 7.6228 - mae: 7.6228\n",
            "Epoch 314/500\n",
            "2/2 [==============================] - 0s 4ms/step - loss: 9.8907 - mae: 9.8907\n",
            "Epoch 315/500\n",
            "2/2 [==============================] - 0s 4ms/step - loss: 23.7389 - mae: 23.7389\n",
            "Epoch 316/500\n",
            "2/2 [==============================] - 0s 4ms/step - loss: 16.4444 - mae: 16.4444\n",
            "Epoch 317/500\n",
            "2/2 [==============================] - 0s 4ms/step - loss: 21.1358 - mae: 21.1358\n",
            "Epoch 318/500\n",
            "2/2 [==============================] - 0s 4ms/step - loss: 7.9320 - mae: 7.9320\n",
            "Epoch 319/500\n",
            "2/2 [==============================] - 0s 4ms/step - loss: 18.0390 - mae: 18.0390\n",
            "Epoch 320/500\n",
            "2/2 [==============================] - 0s 4ms/step - loss: 10.5738 - mae: 10.5738\n",
            "Epoch 321/500\n",
            "2/2 [==============================] - 0s 5ms/step - loss: 6.9596 - mae: 6.9596\n",
            "Epoch 322/500\n",
            "2/2 [==============================] - 0s 5ms/step - loss: 8.6557 - mae: 8.6557\n",
            "Epoch 323/500\n",
            "2/2 [==============================] - 0s 5ms/step - loss: 18.3305 - mae: 18.3305\n",
            "Epoch 324/500\n",
            "2/2 [==============================] - 0s 4ms/step - loss: 6.2624 - mae: 6.2624\n",
            "Epoch 325/500\n",
            "2/2 [==============================] - 0s 5ms/step - loss: 14.6053 - mae: 14.6053\n",
            "Epoch 326/500\n",
            "2/2 [==============================] - 0s 4ms/step - loss: 6.9513 - mae: 6.9513\n",
            "Epoch 327/500\n",
            "2/2 [==============================] - 0s 4ms/step - loss: 17.6653 - mae: 17.6653\n",
            "Epoch 328/500\n",
            "2/2 [==============================] - 0s 3ms/step - loss: 14.3536 - mae: 14.3536\n",
            "Epoch 329/500\n",
            "2/2 [==============================] - 0s 4ms/step - loss: 17.6478 - mae: 17.6478\n",
            "Epoch 330/500\n",
            "2/2 [==============================] - 0s 5ms/step - loss: 6.7480 - mae: 6.7480\n",
            "Epoch 331/500\n",
            "2/2 [==============================] - 0s 6ms/step - loss: 19.8447 - mae: 19.8447\n",
            "Epoch 332/500\n",
            "2/2 [==============================] - 0s 5ms/step - loss: 10.5527 - mae: 10.5527\n",
            "Epoch 333/500\n",
            "2/2 [==============================] - 0s 4ms/step - loss: 16.5542 - mae: 16.5542\n",
            "Epoch 334/500\n",
            "2/2 [==============================] - 0s 4ms/step - loss: 10.5038 - mae: 10.5038\n",
            "Epoch 335/500\n",
            "2/2 [==============================] - 0s 4ms/step - loss: 13.0765 - mae: 13.0765\n",
            "Epoch 336/500\n",
            "2/2 [==============================] - 0s 5ms/step - loss: 32.5799 - mae: 32.5799\n",
            "Epoch 337/500\n",
            "2/2 [==============================] - 0s 4ms/step - loss: 11.1365 - mae: 11.1365\n",
            "Epoch 338/500\n",
            "2/2 [==============================] - 0s 4ms/step - loss: 20.1683 - mae: 20.1683\n",
            "Epoch 339/500\n",
            "2/2 [==============================] - 0s 5ms/step - loss: 33.7062 - mae: 33.7062\n",
            "Epoch 340/500\n",
            "2/2 [==============================] - 0s 5ms/step - loss: 8.5535 - mae: 8.5535\n",
            "Epoch 341/500\n",
            "2/2 [==============================] - 0s 5ms/step - loss: 21.4743 - mae: 21.4743\n",
            "Epoch 342/500\n",
            "2/2 [==============================] - 0s 5ms/step - loss: 14.0823 - mae: 14.0823\n",
            "Epoch 343/500\n",
            "2/2 [==============================] - 0s 4ms/step - loss: 11.6180 - mae: 11.6180\n",
            "Epoch 344/500\n",
            "2/2 [==============================] - 0s 5ms/step - loss: 10.6523 - mae: 10.6523\n",
            "Epoch 345/500\n",
            "2/2 [==============================] - 0s 7ms/step - loss: 30.8602 - mae: 30.8602\n",
            "Epoch 346/500\n",
            "2/2 [==============================] - 0s 5ms/step - loss: 10.6002 - mae: 10.6002\n",
            "Epoch 347/500\n",
            "2/2 [==============================] - 0s 5ms/step - loss: 25.4936 - mae: 25.4936\n",
            "Epoch 348/500\n",
            "2/2 [==============================] - 0s 4ms/step - loss: 13.4347 - mae: 13.4347\n",
            "Epoch 349/500\n",
            "2/2 [==============================] - 0s 6ms/step - loss: 12.9590 - mae: 12.9590\n",
            "Epoch 350/500\n",
            "2/2 [==============================] - 0s 5ms/step - loss: 15.3633 - mae: 15.3633\n",
            "Epoch 351/500\n",
            "2/2 [==============================] - 0s 4ms/step - loss: 32.8328 - mae: 32.8328\n",
            "Epoch 352/500\n",
            "2/2 [==============================] - 0s 4ms/step - loss: 14.0159 - mae: 14.0159\n",
            "Epoch 353/500\n",
            "2/2 [==============================] - 0s 4ms/step - loss: 17.6885 - mae: 17.6885\n",
            "Epoch 354/500\n",
            "2/2 [==============================] - 0s 4ms/step - loss: 11.3013 - mae: 11.3013\n",
            "Epoch 355/500\n",
            "2/2 [==============================] - 0s 4ms/step - loss: 26.6862 - mae: 26.6862\n",
            "Epoch 356/500\n",
            "2/2 [==============================] - 0s 5ms/step - loss: 10.2574 - mae: 10.2574\n",
            "Epoch 357/500\n",
            "2/2 [==============================] - 0s 4ms/step - loss: 14.8924 - mae: 14.8924\n",
            "Epoch 358/500\n",
            "2/2 [==============================] - 0s 4ms/step - loss: 14.7974 - mae: 14.7974\n",
            "Epoch 359/500\n",
            "2/2 [==============================] - 0s 5ms/step - loss: 12.2678 - mae: 12.2678\n",
            "Epoch 360/500\n",
            "2/2 [==============================] - 0s 4ms/step - loss: 20.2424 - mae: 20.2424\n",
            "Epoch 361/500\n",
            "2/2 [==============================] - 0s 4ms/step - loss: 11.0459 - mae: 11.0459\n",
            "Epoch 362/500\n",
            "2/2 [==============================] - 0s 4ms/step - loss: 6.8055 - mae: 6.8055\n",
            "Epoch 363/500\n",
            "2/2 [==============================] - 0s 4ms/step - loss: 24.0679 - mae: 24.0679\n",
            "Epoch 364/500\n",
            "2/2 [==============================] - 0s 4ms/step - loss: 29.8539 - mae: 29.8539\n",
            "Epoch 365/500\n",
            "2/2 [==============================] - 0s 4ms/step - loss: 8.3640 - mae: 8.3640\n",
            "Epoch 366/500\n",
            "2/2 [==============================] - 0s 4ms/step - loss: 6.0735 - mae: 6.0735\n",
            "Epoch 367/500\n",
            "2/2 [==============================] - 0s 4ms/step - loss: 35.0605 - mae: 35.0605\n",
            "Epoch 368/500\n",
            "2/2 [==============================] - 0s 4ms/step - loss: 7.4184 - mae: 7.4184\n",
            "Epoch 369/500\n",
            "2/2 [==============================] - 0s 5ms/step - loss: 9.6558 - mae: 9.6558\n",
            "Epoch 370/500\n",
            "2/2 [==============================] - 0s 5ms/step - loss: 7.7694 - mae: 7.7694\n",
            "Epoch 371/500\n",
            "2/2 [==============================] - 0s 6ms/step - loss: 20.0295 - mae: 20.0295\n",
            "Epoch 372/500\n",
            "2/2 [==============================] - 0s 5ms/step - loss: 12.5234 - mae: 12.5234\n",
            "Epoch 373/500\n",
            "2/2 [==============================] - 0s 7ms/step - loss: 26.4355 - mae: 26.4355\n",
            "Epoch 374/500\n",
            "2/2 [==============================] - 0s 5ms/step - loss: 9.2244 - mae: 9.2244\n",
            "Epoch 375/500\n",
            "2/2 [==============================] - 0s 5ms/step - loss: 4.8710 - mae: 4.8710\n",
            "Epoch 376/500\n",
            "2/2 [==============================] - 0s 8ms/step - loss: 17.6067 - mae: 17.6067\n",
            "Epoch 377/500\n",
            "2/2 [==============================] - 0s 12ms/step - loss: 14.2598 - mae: 14.2598\n",
            "Epoch 378/500\n",
            "2/2 [==============================] - 0s 8ms/step - loss: 15.9084 - mae: 15.9084\n",
            "Epoch 379/500\n",
            "2/2 [==============================] - 0s 5ms/step - loss: 19.9796 - mae: 19.9796\n",
            "Epoch 380/500\n",
            "2/2 [==============================] - 0s 6ms/step - loss: 36.1746 - mae: 36.1746\n",
            "Epoch 381/500\n",
            "2/2 [==============================] - 0s 5ms/step - loss: 10.2699 - mae: 10.2699\n",
            "Epoch 382/500\n",
            "2/2 [==============================] - 0s 5ms/step - loss: 5.8692 - mae: 5.8692\n",
            "Epoch 383/500\n",
            "2/2 [==============================] - 0s 5ms/step - loss: 14.9034 - mae: 14.9034\n",
            "Epoch 384/500\n",
            "2/2 [==============================] - 0s 5ms/step - loss: 16.1286 - mae: 16.1286\n",
            "Epoch 385/500\n",
            "2/2 [==============================] - 0s 5ms/step - loss: 11.6587 - mae: 11.6587\n",
            "Epoch 386/500\n",
            "2/2 [==============================] - 0s 5ms/step - loss: 20.0488 - mae: 20.0488\n",
            "Epoch 387/500\n",
            "2/2 [==============================] - 0s 5ms/step - loss: 24.1494 - mae: 24.1494\n",
            "Epoch 388/500\n",
            "2/2 [==============================] - 0s 5ms/step - loss: 7.5477 - mae: 7.5477\n",
            "Epoch 389/500\n",
            "2/2 [==============================] - 0s 5ms/step - loss: 14.2433 - mae: 14.2433\n",
            "Epoch 390/500\n",
            "2/2 [==============================] - 0s 5ms/step - loss: 8.2461 - mae: 8.2461\n",
            "Epoch 391/500\n",
            "2/2 [==============================] - 0s 5ms/step - loss: 15.5136 - mae: 15.5136\n",
            "Epoch 392/500\n",
            "2/2 [==============================] - 0s 5ms/step - loss: 17.1535 - mae: 17.1535\n",
            "Epoch 393/500\n",
            "2/2 [==============================] - 0s 5ms/step - loss: 10.5135 - mae: 10.5135\n",
            "Epoch 394/500\n",
            "2/2 [==============================] - 0s 5ms/step - loss: 14.0674 - mae: 14.0674\n",
            "Epoch 395/500\n",
            "2/2 [==============================] - 0s 5ms/step - loss: 28.4236 - mae: 28.4236\n",
            "Epoch 396/500\n",
            "2/2 [==============================] - 0s 4ms/step - loss: 8.4855 - mae: 8.4855\n",
            "Epoch 397/500\n",
            "2/2 [==============================] - 0s 6ms/step - loss: 11.2960 - mae: 11.2960\n",
            "Epoch 398/500\n",
            "2/2 [==============================] - 0s 5ms/step - loss: 6.8866 - mae: 6.8866\n",
            "Epoch 399/500\n",
            "2/2 [==============================] - 0s 5ms/step - loss: 14.1698 - mae: 14.1698\n",
            "Epoch 400/500\n",
            "2/2 [==============================] - 0s 5ms/step - loss: 6.6882 - mae: 6.6882\n",
            "Epoch 401/500\n",
            "2/2 [==============================] - 0s 4ms/step - loss: 7.9973 - mae: 7.9973\n",
            "Epoch 402/500\n",
            "2/2 [==============================] - 0s 5ms/step - loss: 16.4699 - mae: 16.4699\n",
            "Epoch 403/500\n",
            "2/2 [==============================] - 0s 4ms/step - loss: 12.3203 - mae: 12.3203\n",
            "Epoch 404/500\n",
            "2/2 [==============================] - 0s 4ms/step - loss: 22.8958 - mae: 22.8958\n",
            "Epoch 405/500\n",
            "2/2 [==============================] - 0s 4ms/step - loss: 18.1821 - mae: 18.1821\n",
            "Epoch 406/500\n",
            "2/2 [==============================] - 0s 4ms/step - loss: 7.0390 - mae: 7.0390\n",
            "Epoch 407/500\n",
            "2/2 [==============================] - 0s 4ms/step - loss: 12.6999 - mae: 12.6999\n",
            "Epoch 408/500\n",
            "2/2 [==============================] - 0s 4ms/step - loss: 5.6330 - mae: 5.6330\n",
            "Epoch 409/500\n",
            "2/2 [==============================] - 0s 4ms/step - loss: 31.3976 - mae: 31.3976\n",
            "Epoch 410/500\n",
            "2/2 [==============================] - 0s 4ms/step - loss: 9.1951 - mae: 9.1951\n",
            "Epoch 411/500\n",
            "2/2 [==============================] - 0s 5ms/step - loss: 14.8295 - mae: 14.8295\n",
            "Epoch 412/500\n",
            "2/2 [==============================] - 0s 4ms/step - loss: 21.6882 - mae: 21.6882\n",
            "Epoch 413/500\n",
            "2/2 [==============================] - 0s 4ms/step - loss: 12.6922 - mae: 12.6922\n",
            "Epoch 414/500\n",
            "2/2 [==============================] - 0s 4ms/step - loss: 5.9984 - mae: 5.9984\n",
            "Epoch 415/500\n",
            "2/2 [==============================] - 0s 4ms/step - loss: 13.2051 - mae: 13.2051\n",
            "Epoch 416/500\n",
            "2/2 [==============================] - 0s 4ms/step - loss: 27.3947 - mae: 27.3947\n",
            "Epoch 417/500\n",
            "2/2 [==============================] - 0s 4ms/step - loss: 10.7135 - mae: 10.7135\n",
            "Epoch 418/500\n",
            "2/2 [==============================] - 0s 4ms/step - loss: 12.7796 - mae: 12.7796\n",
            "Epoch 419/500\n",
            "2/2 [==============================] - 0s 4ms/step - loss: 15.8393 - mae: 15.8393\n",
            "Epoch 420/500\n",
            "2/2 [==============================] - 0s 4ms/step - loss: 24.6919 - mae: 24.6919\n",
            "Epoch 421/500\n",
            "2/2 [==============================] - 0s 5ms/step - loss: 17.6204 - mae: 17.6204\n",
            "Epoch 422/500\n",
            "2/2 [==============================] - 0s 4ms/step - loss: 8.6686 - mae: 8.6686\n",
            "Epoch 423/500\n",
            "2/2 [==============================] - 0s 5ms/step - loss: 24.8737 - mae: 24.8737\n",
            "Epoch 424/500\n",
            "2/2 [==============================] - 0s 4ms/step - loss: 16.3426 - mae: 16.3426\n",
            "Epoch 425/500\n",
            "2/2 [==============================] - 0s 4ms/step - loss: 7.1283 - mae: 7.1283\n",
            "Epoch 426/500\n",
            "2/2 [==============================] - 0s 4ms/step - loss: 20.4669 - mae: 20.4669\n",
            "Epoch 427/500\n",
            "2/2 [==============================] - 0s 4ms/step - loss: 6.3078 - mae: 6.3078\n",
            "Epoch 428/500\n",
            "2/2 [==============================] - 0s 5ms/step - loss: 13.1161 - mae: 13.1161\n",
            "Epoch 429/500\n",
            "2/2 [==============================] - 0s 6ms/step - loss: 10.8887 - mae: 10.8887\n",
            "Epoch 430/500\n",
            "2/2 [==============================] - 0s 5ms/step - loss: 11.7603 - mae: 11.7603\n",
            "Epoch 431/500\n",
            "2/2 [==============================] - 0s 5ms/step - loss: 7.8921 - mae: 7.8921\n",
            "Epoch 432/500\n",
            "2/2 [==============================] - 0s 5ms/step - loss: 22.2214 - mae: 22.2214\n",
            "Epoch 433/500\n",
            "2/2 [==============================] - 0s 4ms/step - loss: 5.8794 - mae: 5.8794\n",
            "Epoch 434/500\n",
            "2/2 [==============================] - 0s 4ms/step - loss: 32.6429 - mae: 32.6429\n",
            "Epoch 435/500\n",
            "2/2 [==============================] - 0s 4ms/step - loss: 13.4564 - mae: 13.4564\n",
            "Epoch 436/500\n",
            "2/2 [==============================] - 0s 5ms/step - loss: 29.0417 - mae: 29.0417\n",
            "Epoch 437/500\n",
            "2/2 [==============================] - 0s 4ms/step - loss: 9.1209 - mae: 9.1209\n",
            "Epoch 438/500\n",
            "2/2 [==============================] - 0s 5ms/step - loss: 12.6465 - mae: 12.6465\n",
            "Epoch 439/500\n",
            "2/2 [==============================] - 0s 7ms/step - loss: 33.4983 - mae: 33.4983\n",
            "Epoch 440/500\n",
            "2/2 [==============================] - 0s 6ms/step - loss: 14.7941 - mae: 14.7941\n",
            "Epoch 441/500\n",
            "2/2 [==============================] - 0s 7ms/step - loss: 17.2516 - mae: 17.2516\n",
            "Epoch 442/500\n",
            "2/2 [==============================] - 0s 6ms/step - loss: 21.8477 - mae: 21.8477\n",
            "Epoch 443/500\n",
            "2/2 [==============================] - 0s 4ms/step - loss: 24.6701 - mae: 24.6701\n",
            "Epoch 444/500\n",
            "2/2 [==============================] - 0s 5ms/step - loss: 11.8578 - mae: 11.8578\n",
            "Epoch 445/500\n",
            "2/2 [==============================] - 0s 4ms/step - loss: 14.6346 - mae: 14.6346\n",
            "Epoch 446/500\n",
            "2/2 [==============================] - 0s 5ms/step - loss: 17.5884 - mae: 17.5884\n",
            "Epoch 447/500\n",
            "2/2 [==============================] - 0s 4ms/step - loss: 5.7994 - mae: 5.7994\n",
            "Epoch 448/500\n",
            "2/2 [==============================] - 0s 5ms/step - loss: 9.3324 - mae: 9.3324\n",
            "Epoch 449/500\n",
            "2/2 [==============================] - 0s 4ms/step - loss: 14.0295 - mae: 14.0295\n",
            "Epoch 450/500\n",
            "2/2 [==============================] - 0s 4ms/step - loss: 16.7909 - mae: 16.7909\n",
            "Epoch 451/500\n",
            "2/2 [==============================] - 0s 5ms/step - loss: 14.2798 - mae: 14.2798\n",
            "Epoch 452/500\n",
            "2/2 [==============================] - 0s 4ms/step - loss: 30.6444 - mae: 30.6444\n",
            "Epoch 453/500\n",
            "2/2 [==============================] - 0s 4ms/step - loss: 7.6085 - mae: 7.6085\n",
            "Epoch 454/500\n",
            "2/2 [==============================] - 0s 4ms/step - loss: 28.1513 - mae: 28.1513\n",
            "Epoch 455/500\n",
            "2/2 [==============================] - 0s 4ms/step - loss: 8.1820 - mae: 8.1820\n",
            "Epoch 456/500\n",
            "2/2 [==============================] - 0s 5ms/step - loss: 12.0627 - mae: 12.0627\n",
            "Epoch 457/500\n",
            "2/2 [==============================] - 0s 4ms/step - loss: 15.4583 - mae: 15.4583\n",
            "Epoch 458/500\n",
            "2/2 [==============================] - 0s 4ms/step - loss: 17.0340 - mae: 17.0340\n",
            "Epoch 459/500\n",
            "2/2 [==============================] - 0s 4ms/step - loss: 15.1805 - mae: 15.1805\n",
            "Epoch 460/500\n",
            "2/2 [==============================] - 0s 4ms/step - loss: 7.4095 - mae: 7.4095\n",
            "Epoch 461/500\n",
            "2/2 [==============================] - 0s 4ms/step - loss: 15.7034 - mae: 15.7034\n",
            "Epoch 462/500\n",
            "2/2 [==============================] - 0s 4ms/step - loss: 15.1894 - mae: 15.1894\n",
            "Epoch 463/500\n",
            "2/2 [==============================] - 0s 5ms/step - loss: 16.8311 - mae: 16.8311\n",
            "Epoch 464/500\n",
            "2/2 [==============================] - 0s 5ms/step - loss: 11.2458 - mae: 11.2458\n",
            "Epoch 465/500\n",
            "2/2 [==============================] - 0s 6ms/step - loss: 21.5669 - mae: 21.5669\n",
            "Epoch 466/500\n",
            "2/2 [==============================] - 0s 4ms/step - loss: 24.9751 - mae: 24.9751\n",
            "Epoch 467/500\n",
            "2/2 [==============================] - 0s 6ms/step - loss: 14.8102 - mae: 14.8102\n",
            "Epoch 468/500\n",
            "2/2 [==============================] - 0s 5ms/step - loss: 10.3551 - mae: 10.3551\n",
            "Epoch 469/500\n",
            "2/2 [==============================] - 0s 6ms/step - loss: 27.3775 - mae: 27.3775\n",
            "Epoch 470/500\n",
            "2/2 [==============================] - 0s 4ms/step - loss: 12.3920 - mae: 12.3920\n",
            "Epoch 471/500\n",
            "2/2 [==============================] - 0s 6ms/step - loss: 12.0660 - mae: 12.0660\n",
            "Epoch 472/500\n",
            "2/2 [==============================] - 0s 4ms/step - loss: 15.5063 - mae: 15.5063\n",
            "Epoch 473/500\n",
            "2/2 [==============================] - 0s 5ms/step - loss: 15.5119 - mae: 15.5119\n",
            "Epoch 474/500\n",
            "2/2 [==============================] - 0s 5ms/step - loss: 20.2428 - mae: 20.2428\n",
            "Epoch 475/500\n",
            "2/2 [==============================] - 0s 7ms/step - loss: 5.0342 - mae: 5.0342\n",
            "Epoch 476/500\n",
            "2/2 [==============================] - 0s 5ms/step - loss: 13.3345 - mae: 13.3345\n",
            "Epoch 477/500\n",
            "2/2 [==============================] - 0s 4ms/step - loss: 29.5740 - mae: 29.5740\n",
            "Epoch 478/500\n",
            "2/2 [==============================] - 0s 4ms/step - loss: 3.6657 - mae: 3.6657\n",
            "Epoch 479/500\n",
            "2/2 [==============================] - 0s 5ms/step - loss: 16.2218 - mae: 16.2218\n",
            "Epoch 480/500\n",
            "2/2 [==============================] - 0s 4ms/step - loss: 3.8303 - mae: 3.8303\n",
            "Epoch 481/500\n",
            "2/2 [==============================] - 0s 4ms/step - loss: 15.0607 - mae: 15.0607\n",
            "Epoch 482/500\n",
            "2/2 [==============================] - 0s 4ms/step - loss: 24.5459 - mae: 24.5459\n",
            "Epoch 483/500\n",
            "2/2 [==============================] - 0s 5ms/step - loss: 18.5171 - mae: 18.5171\n",
            "Epoch 484/500\n",
            "2/2 [==============================] - 0s 7ms/step - loss: 16.5911 - mae: 16.5911\n",
            "Epoch 485/500\n",
            "2/2 [==============================] - 0s 6ms/step - loss: 9.7466 - mae: 9.7466\n",
            "Epoch 486/500\n",
            "2/2 [==============================] - 0s 5ms/step - loss: 17.9559 - mae: 17.9559\n",
            "Epoch 487/500\n",
            "2/2 [==============================] - 0s 4ms/step - loss: 10.8642 - mae: 10.8642\n",
            "Epoch 488/500\n",
            "2/2 [==============================] - 0s 4ms/step - loss: 27.0289 - mae: 27.0289\n",
            "Epoch 489/500\n",
            "2/2 [==============================] - 0s 4ms/step - loss: 5.2860 - mae: 5.2860\n",
            "Epoch 490/500\n",
            "2/2 [==============================] - 0s 4ms/step - loss: 6.0268 - mae: 6.0268\n",
            "Epoch 491/500\n",
            "2/2 [==============================] - 0s 4ms/step - loss: 19.1557 - mae: 19.1557\n",
            "Epoch 492/500\n",
            "2/2 [==============================] - 0s 4ms/step - loss: 7.3597 - mae: 7.3597\n",
            "Epoch 493/500\n",
            "2/2 [==============================] - 0s 4ms/step - loss: 18.2230 - mae: 18.2230\n",
            "Epoch 494/500\n",
            "2/2 [==============================] - 0s 6ms/step - loss: 18.3909 - mae: 18.3909\n",
            "Epoch 495/500\n",
            "2/2 [==============================] - 0s 4ms/step - loss: 6.6994 - mae: 6.6994\n",
            "Epoch 496/500\n",
            "2/2 [==============================] - 0s 4ms/step - loss: 7.3726 - mae: 7.3726\n",
            "Epoch 497/500\n",
            "2/2 [==============================] - 0s 4ms/step - loss: 16.9183 - mae: 16.9183\n",
            "Epoch 498/500\n",
            "2/2 [==============================] - 0s 4ms/step - loss: 24.6948 - mae: 24.6948\n",
            "Epoch 499/500\n",
            "2/2 [==============================] - 0s 4ms/step - loss: 19.0016 - mae: 19.0016\n",
            "Epoch 500/500\n",
            "2/2 [==============================] - 0s 4ms/step - loss: 14.1115 - mae: 14.1115\n"
          ]
        },
        {
          "output_type": "execute_result",
          "data": {
            "text/plain": [
              "<keras.callbacks.History at 0x7f0554b35fc0>"
            ]
          },
          "metadata": {},
          "execution_count": 59
        }
      ]
    },
    {
      "cell_type": "code",
      "source": [
        "# Make and plot predictions\n",
        "y_preds_3 = model_3.predict(X_test)\n",
        "plot_predictions(predictions=y_preds_3)"
      ],
      "metadata": {
        "colab": {
          "base_uri": "https://localhost:8080/",
          "height": 616
        },
        "id": "M884J_Ft1OzU",
        "outputId": "00a49098-7bdb-47cd-a53e-415b2ad37cb6"
      },
      "execution_count": 60,
      "outputs": [
        {
          "output_type": "stream",
          "name": "stdout",
          "text": [
            "1/1 [==============================] - 0s 56ms/step\n"
          ]
        },
        {
          "output_type": "display_data",
          "data": {
            "text/plain": [
              "<Figure size 1000x700 with 1 Axes>"
            ],
            "image/png": "[encoded data removed]"
          },
          "metadata": {}
        }
      ]
    },
    {
      "cell_type": "code",
      "source": [
        "# Calculate model_3 evaluation metrics\n",
        "mae_3 = mae(y_test, y_preds_3)\n",
        "mse_3 = mse(y_test, y_preds_3)\n",
        "mae_3, mse_3"
      ],
      "metadata": {
        "colab": {
          "base_uri": "https://localhost:8080/"
        },
        "id": "F0CoeBO21fnZ",
        "outputId": "56a125e0-102f-4577-e940-23f5736e0ac0"
      },
      "execution_count": 61,
      "outputs": [
        {
          "output_type": "execute_result",
          "data": {
            "text/plain": [
              "(<tf.Tensor: shape=(), dtype=float32, numpy=66.992744>,\n",
              " <tf.Tensor: shape=(), dtype=float32, numpy=4570.457>)"
            ]
          },
          "metadata": {},
          "execution_count": 61
        }
      ]
    },
    {
      "cell_type": "markdown",
      "source": [
        "**model_4**\n",
        "\n",
        "- 3 dense layers created for 100 epochs"
      ],
      "metadata": {
        "id": "GcNjpsi33qoh"
      }
    },
    {
      "cell_type": "code",
      "source": [
        "# Set random seed\n",
        "tf.random.set_seed(42)\n",
        "\n",
        "# 1. Create model\n",
        "model_4 = tf.keras.Sequential([\n",
        "    tf.keras.layers.Dense(10),\n",
        "    tf.keras.layers.Dense(5),\n",
        "    tf.keras.layers.Dense(1)\n",
        "])\n",
        "\n",
        "# 2. Compile model\n",
        "model_4.compile(loss=tf.keras.losses.mae,\n",
        "                optimizer=tf.keras.optimizers.SGD(),\n",
        "                metrics=[\"mae\"])\n",
        "\n",
        "# 3. Fit model\n",
        "model_4.fit(tf.expand_dims(X_train, -1), y_train, epochs=100)"
      ],
      "metadata": {
        "colab": {
          "base_uri": "https://localhost:8080/"
        },
        "id": "aEiJMVIH3st0",
        "outputId": "321bb9cf-8b0a-4187-87ff-045ee36ec09f"
      },
      "execution_count": 62,
      "outputs": [
        {
          "output_type": "stream",
          "name": "stdout",
          "text": [
            "Epoch 1/100\n",
            "2/2 [==============================] - 0s 9ms/step - loss: 59.7603 - mae: 59.7603\n",
            "Epoch 2/100\n",
            "2/2 [==============================] - 0s 4ms/step - loss: 31.2761 - mae: 31.2761\n",
            "Epoch 3/100\n",
            "2/2 [==============================] - 0s 5ms/step - loss: 22.1455 - mae: 22.1455\n",
            "Epoch 4/100\n",
            "2/2 [==============================] - 0s 4ms/step - loss: 18.1167 - mae: 18.1167\n",
            "Epoch 5/100\n",
            "2/2 [==============================] - 0s 4ms/step - loss: 16.5096 - mae: 16.5096\n",
            "Epoch 6/100\n",
            "2/2 [==============================] - 0s 5ms/step - loss: 26.4124 - mae: 26.4124\n",
            "Epoch 7/100\n",
            "2/2 [==============================] - 0s 5ms/step - loss: 15.2522 - mae: 15.2522\n",
            "Epoch 8/100\n",
            "2/2 [==============================] - 0s 5ms/step - loss: 12.0876 - mae: 12.0876\n",
            "Epoch 9/100\n",
            "2/2 [==============================] - 0s 5ms/step - loss: 47.1996 - mae: 47.1996\n",
            "Epoch 10/100\n",
            "2/2 [==============================] - 0s 10ms/step - loss: 18.0913 - mae: 18.0913\n",
            "Epoch 11/100\n",
            "2/2 [==============================] - 0s 6ms/step - loss: 16.6125 - mae: 16.6125\n",
            "Epoch 12/100\n",
            "2/2 [==============================] - 0s 5ms/step - loss: 12.6510 - mae: 12.6510\n",
            "Epoch 13/100\n",
            "2/2 [==============================] - 0s 4ms/step - loss: 17.7530 - mae: 17.7530\n",
            "Epoch 14/100\n",
            "2/2 [==============================] - 0s 4ms/step - loss: 18.9353 - mae: 18.9353\n",
            "Epoch 15/100\n",
            "2/2 [==============================] - 0s 4ms/step - loss: 7.6803 - mae: 7.6803\n",
            "Epoch 16/100\n",
            "2/2 [==============================] - 0s 4ms/step - loss: 17.5210 - mae: 17.5210\n",
            "Epoch 17/100\n",
            "2/2 [==============================] - 0s 4ms/step - loss: 30.3016 - mae: 30.3016\n",
            "Epoch 18/100\n",
            "2/2 [==============================] - 0s 4ms/step - loss: 10.1464 - mae: 10.1464\n",
            "Epoch 19/100\n",
            "2/2 [==============================] - 0s 4ms/step - loss: 24.2923 - mae: 24.2923\n",
            "Epoch 20/100\n",
            "2/2 [==============================] - 0s 4ms/step - loss: 21.7801 - mae: 21.7801\n",
            "Epoch 21/100\n",
            "2/2 [==============================] - 0s 9ms/step - loss: 37.6782 - mae: 37.6782\n",
            "Epoch 22/100\n",
            "2/2 [==============================] - 0s 4ms/step - loss: 20.2526 - mae: 20.2526\n",
            "Epoch 23/100\n",
            "2/2 [==============================] - 0s 4ms/step - loss: 9.3014 - mae: 9.3014\n",
            "Epoch 24/100\n",
            "2/2 [==============================] - 0s 7ms/step - loss: 9.0656 - mae: 9.0656\n",
            "Epoch 25/100\n",
            "2/2 [==============================] - 0s 4ms/step - loss: 31.0755 - mae: 31.0755\n",
            "Epoch 26/100\n",
            "2/2 [==============================] - 0s 8ms/step - loss: 17.1890 - mae: 17.1890\n",
            "Epoch 27/100\n",
            "2/2 [==============================] - 0s 5ms/step - loss: 31.8101 - mae: 31.8101\n",
            "Epoch 28/100\n",
            "2/2 [==============================] - 0s 6ms/step - loss: 13.3126 - mae: 13.3126\n",
            "Epoch 29/100\n",
            "2/2 [==============================] - 0s 6ms/step - loss: 25.9923 - mae: 25.9923\n",
            "Epoch 30/100\n",
            "2/2 [==============================] - 0s 7ms/step - loss: 33.5977 - mae: 33.5977\n",
            "Epoch 31/100\n",
            "2/2 [==============================] - 0s 5ms/step - loss: 14.8706 - mae: 14.8706\n",
            "Epoch 32/100\n",
            "2/2 [==============================] - 0s 7ms/step - loss: 13.3568 - mae: 13.3568\n",
            "Epoch 33/100\n",
            "2/2 [==============================] - 0s 4ms/step - loss: 30.6115 - mae: 30.6115\n",
            "Epoch 34/100\n",
            "2/2 [==============================] - 0s 5ms/step - loss: 9.4975 - mae: 9.4975\n",
            "Epoch 35/100\n",
            "2/2 [==============================] - 0s 6ms/step - loss: 17.4448 - mae: 17.4448\n",
            "Epoch 36/100\n",
            "2/2 [==============================] - 0s 4ms/step - loss: 32.7943 - mae: 32.7943\n",
            "Epoch 37/100\n",
            "2/2 [==============================] - 0s 5ms/step - loss: 17.2052 - mae: 17.2052\n",
            "Epoch 38/100\n",
            "2/2 [==============================] - 0s 4ms/step - loss: 27.6094 - mae: 27.6094\n",
            "Epoch 39/100\n",
            "2/2 [==============================] - 0s 6ms/step - loss: 12.0710 - mae: 12.0710\n",
            "Epoch 40/100\n",
            "2/2 [==============================] - 0s 6ms/step - loss: 21.3351 - mae: 21.3351\n",
            "Epoch 41/100\n",
            "2/2 [==============================] - 0s 7ms/step - loss: 18.6392 - mae: 18.6392\n",
            "Epoch 42/100\n",
            "2/2 [==============================] - 0s 5ms/step - loss: 13.1729 - mae: 13.1729\n",
            "Epoch 43/100\n",
            "2/2 [==============================] - 0s 5ms/step - loss: 10.9131 - mae: 10.9131\n",
            "Epoch 44/100\n",
            "2/2 [==============================] - 0s 5ms/step - loss: 38.6685 - mae: 38.6685\n",
            "Epoch 45/100\n",
            "2/2 [==============================] - 0s 5ms/step - loss: 20.9729 - mae: 20.9729\n",
            "Epoch 46/100\n",
            "2/2 [==============================] - 0s 5ms/step - loss: 20.3155 - mae: 20.3155\n",
            "Epoch 47/100\n",
            "2/2 [==============================] - 0s 7ms/step - loss: 12.6540 - mae: 12.6540\n",
            "Epoch 48/100\n",
            "2/2 [==============================] - 0s 4ms/step - loss: 25.8045 - mae: 25.8045\n",
            "Epoch 49/100\n",
            "2/2 [==============================] - 0s 8ms/step - loss: 12.3435 - mae: 12.3435\n",
            "Epoch 50/100\n",
            "2/2 [==============================] - 0s 5ms/step - loss: 16.0897 - mae: 16.0897\n",
            "Epoch 51/100\n",
            "2/2 [==============================] - 0s 5ms/step - loss: 15.2572 - mae: 15.2572\n",
            "Epoch 52/100\n",
            "2/2 [==============================] - 0s 4ms/step - loss: 38.6666 - mae: 38.6666\n",
            "Epoch 53/100\n",
            "2/2 [==============================] - 0s 4ms/step - loss: 34.5393 - mae: 34.5393\n",
            "Epoch 54/100\n",
            "2/2 [==============================] - 0s 4ms/step - loss: 17.2571 - mae: 17.2571\n",
            "Epoch 55/100\n",
            "2/2 [==============================] - 0s 4ms/step - loss: 32.9781 - mae: 32.9781\n",
            "Epoch 56/100\n",
            "2/2 [==============================] - 0s 4ms/step - loss: 15.9297 - mae: 15.9297\n",
            "Epoch 57/100\n",
            "2/2 [==============================] - 0s 5ms/step - loss: 29.3483 - mae: 29.3483\n",
            "Epoch 58/100\n",
            "2/2 [==============================] - 0s 4ms/step - loss: 9.5823 - mae: 9.5823\n",
            "Epoch 59/100\n",
            "2/2 [==============================] - 0s 6ms/step - loss: 11.2222 - mae: 11.2222\n",
            "Epoch 60/100\n",
            "2/2 [==============================] - 0s 4ms/step - loss: 9.9661 - mae: 9.9661\n",
            "Epoch 61/100\n",
            "2/2 [==============================] - 0s 6ms/step - loss: 12.5353 - mae: 12.5353\n",
            "Epoch 62/100\n",
            "2/2 [==============================] - 0s 4ms/step - loss: 13.2441 - mae: 13.2441\n",
            "Epoch 63/100\n",
            "2/2 [==============================] - 0s 4ms/step - loss: 14.7836 - mae: 14.7836\n",
            "Epoch 64/100\n",
            "2/2 [==============================] - 0s 6ms/step - loss: 12.8678 - mae: 12.8678\n",
            "Epoch 65/100\n",
            "2/2 [==============================] - 0s 5ms/step - loss: 30.9297 - mae: 30.9297\n",
            "Epoch 66/100\n",
            "2/2 [==============================] - 0s 4ms/step - loss: 6.8900 - mae: 6.8900\n",
            "Epoch 67/100\n",
            "2/2 [==============================] - 0s 6ms/step - loss: 18.8386 - mae: 18.8386\n",
            "Epoch 68/100\n",
            "2/2 [==============================] - 0s 4ms/step - loss: 26.1181 - mae: 26.1181\n",
            "Epoch 69/100\n",
            "2/2 [==============================] - 0s 4ms/step - loss: 21.6233 - mae: 21.6233\n",
            "Epoch 70/100\n",
            "2/2 [==============================] - 0s 7ms/step - loss: 23.1490 - mae: 23.1490\n",
            "Epoch 71/100\n",
            "2/2 [==============================] - 0s 4ms/step - loss: 34.7557 - mae: 34.7557\n",
            "Epoch 72/100\n",
            "2/2 [==============================] - 0s 4ms/step - loss: 20.1268 - mae: 20.1268\n",
            "Epoch 73/100\n",
            "2/2 [==============================] - 0s 5ms/step - loss: 15.6676 - mae: 15.6676\n",
            "Epoch 74/100\n",
            "2/2 [==============================] - 0s 6ms/step - loss: 17.4922 - mae: 17.4922\n",
            "Epoch 75/100\n",
            "2/2 [==============================] - 0s 5ms/step - loss: 26.1129 - mae: 26.1129\n",
            "Epoch 76/100\n",
            "2/2 [==============================] - 0s 5ms/step - loss: 25.9002 - mae: 25.9002\n",
            "Epoch 77/100\n",
            "2/2 [==============================] - 0s 5ms/step - loss: 18.6915 - mae: 18.6915\n",
            "Epoch 78/100\n",
            "2/2 [==============================] - 0s 4ms/step - loss: 22.5700 - mae: 22.5700\n",
            "Epoch 79/100\n",
            "2/2 [==============================] - 0s 5ms/step - loss: 48.0918 - mae: 48.0918\n",
            "Epoch 80/100\n",
            "2/2 [==============================] - 0s 4ms/step - loss: 15.1908 - mae: 15.1908\n",
            "Epoch 81/100\n",
            "2/2 [==============================] - 0s 4ms/step - loss: 33.0684 - mae: 33.0684\n",
            "Epoch 82/100\n",
            "2/2 [==============================] - 0s 4ms/step - loss: 19.6283 - mae: 19.6283\n",
            "Epoch 83/100\n",
            "2/2 [==============================] - 0s 4ms/step - loss: 9.6451 - mae: 9.6451\n",
            "Epoch 84/100\n",
            "2/2 [==============================] - 0s 5ms/step - loss: 15.7930 - mae: 15.7930\n",
            "Epoch 85/100\n",
            "2/2 [==============================] - 0s 5ms/step - loss: 34.9457 - mae: 34.9457\n",
            "Epoch 86/100\n",
            "2/2 [==============================] - 0s 5ms/step - loss: 19.1395 - mae: 19.1395\n",
            "Epoch 87/100\n",
            "2/2 [==============================] - 0s 5ms/step - loss: 30.0393 - mae: 30.0393\n",
            "Epoch 88/100\n",
            "2/2 [==============================] - 0s 4ms/step - loss: 12.0899 - mae: 12.0899\n",
            "Epoch 89/100\n",
            "2/2 [==============================] - 0s 4ms/step - loss: 12.4331 - mae: 12.4331\n",
            "Epoch 90/100\n",
            "2/2 [==============================] - 0s 5ms/step - loss: 27.1913 - mae: 27.1913\n",
            "Epoch 91/100\n",
            "2/2 [==============================] - 0s 5ms/step - loss: 18.7531 - mae: 18.7531\n",
            "Epoch 92/100\n",
            "2/2 [==============================] - 0s 5ms/step - loss: 13.7783 - mae: 13.7783\n",
            "Epoch 93/100\n",
            "2/2 [==============================] - 0s 4ms/step - loss: 9.5513 - mae: 9.5513\n",
            "Epoch 94/100\n",
            "2/2 [==============================] - 0s 5ms/step - loss: 12.8565 - mae: 12.8565\n",
            "Epoch 95/100\n",
            "2/2 [==============================] - 0s 6ms/step - loss: 24.9032 - mae: 24.9032\n",
            "Epoch 96/100\n",
            "2/2 [==============================] - 0s 4ms/step - loss: 21.6063 - mae: 21.6063\n",
            "Epoch 97/100\n",
            "2/2 [==============================] - 0s 5ms/step - loss: 56.5639 - mae: 56.5639\n",
            "Epoch 98/100\n",
            "2/2 [==============================] - 0s 5ms/step - loss: 25.9851 - mae: 25.9851\n",
            "Epoch 99/100\n",
            "2/2 [==============================] - 0s 7ms/step - loss: 26.9562 - mae: 26.9562\n",
            "Epoch 100/100\n",
            "2/2 [==============================] - 0s 5ms/step - loss: 16.8921 - mae: 16.8921\n"
          ]
        },
        {
          "output_type": "execute_result",
          "data": {
            "text/plain": [
              "<keras.callbacks.History at 0x7f0555559570>"
            ]
          },
          "metadata": {},
          "execution_count": 62
        }
      ]
    },
    {
      "cell_type": "code",
      "source": [
        "# Make and plot predictions\n",
        "y_preds_4 = model_4.predict(X_test)\n",
        "plot_predictions(predictions=y_preds_4)"
      ],
      "metadata": {
        "colab": {
          "base_uri": "https://localhost:8080/",
          "height": 616
        },
        "id": "oEdRKwP34Cgj",
        "outputId": "929fbb0e-843f-4fd4-a140-3796a7aaa090"
      },
      "execution_count": 63,
      "outputs": [
        {
          "output_type": "stream",
          "name": "stdout",
          "text": [
            "1/1 [==============================] - 0s 396ms/step\n"
          ]
        },
        {
          "output_type": "display_data",
          "data": {
            "text/plain": [
              "<Figure size 1000x700 with 1 Axes>"
            ],
            "image/png": "[encoded data removed]"
          },
          "metadata": {}
        }
      ]
    },
    {
      "cell_type": "code",
      "source": [
        "# Calculate model_4 evaluation metrics\n",
        "mae_4 = mae(y_test, y_preds_4)\n",
        "mse_4 = mse(y_test, y_preds_4)\n",
        "mae_4, mse_4"
      ],
      "metadata": {
        "colab": {
          "base_uri": "https://localhost:8080/"
        },
        "id": "vlhDVAmO4S4-",
        "outputId": "ff216b83-5b13-4dd4-a36f-bbedb7d60e3c"
      },
      "execution_count": 64,
      "outputs": [
        {
          "output_type": "execute_result",
          "data": {
            "text/plain": [
              "(<tf.Tensor: shape=(), dtype=float32, numpy=75.63994>,\n",
              " <tf.Tensor: shape=(), dtype=float32, numpy=5817.6704>)"
            ]
          },
          "metadata": {},
          "execution_count": 64
        }
      ]
    },
    {
      "cell_type": "markdown",
      "source": [
        "**model_5**\n",
        "2 dense layers for 100 epochs but w/ Adam optimization lr=0.0001"
      ],
      "metadata": {
        "id": "4zSkVEZt4bGw"
      }
    },
    {
      "cell_type": "code",
      "source": [
        "# Set random seed\n",
        "tf.random.set_seed(42)\n",
        "\n",
        "# 1. Create model\n",
        "model_5 = tf.keras.Sequential([\n",
        "    tf.keras.layers.Dense(10),\n",
        "    tf.keras.layers.Dense(1)\n",
        "])\n",
        "\n",
        "# 2. Compile model\n",
        "model_5.compile(loss=tf.keras.losses.mae,\n",
        "                optimizer=tf.keras.optimizers.Adam(lr=0.001),\n",
        "                metrics=[\"mae\"])\n",
        "\n",
        "# 3. Fit model\n",
        "model_5.fit(tf.expand_dims(X_train, -1), y_train, epochs=100)"
      ],
      "metadata": {
        "colab": {
          "base_uri": "https://localhost:8080/"
        },
        "id": "meicz1Kl4rtj",
        "outputId": "6f8c1687-d8ae-4bcc-f3e9-2b83e56e8740"
      },
      "execution_count": 65,
      "outputs": [
        {
          "output_type": "stream",
          "name": "stderr",
          "text": [
            "WARNING:absl:`lr` is deprecated in Keras optimizer, please use `learning_rate` or use the legacy optimizer, e.g.,tf.keras.optimizers.legacy.Adam.\n"
          ]
        },
        {
          "output_type": "stream",
          "name": "stdout",
          "text": [
            "Epoch 1/100\n",
            "2/2 [==============================] - 1s 14ms/step - loss: 10.5804 - mae: 10.5804\n",
            "Epoch 2/100\n",
            "2/2 [==============================] - 0s 8ms/step - loss: 10.0592 - mae: 10.0592\n",
            "Epoch 3/100\n",
            "2/2 [==============================] - 0s 5ms/step - loss: 9.5424 - mae: 9.5424\n",
            "Epoch 4/100\n",
            "2/2 [==============================] - 0s 7ms/step - loss: 9.0713 - mae: 9.0713\n",
            "Epoch 5/100\n",
            "2/2 [==============================] - 0s 5ms/step - loss: 8.6570 - mae: 8.6570\n",
            "Epoch 6/100\n",
            "2/2 [==============================] - 0s 5ms/step - loss: 8.2820 - mae: 8.2820\n",
            "Epoch 7/100\n",
            "2/2 [==============================] - 0s 4ms/step - loss: 7.9845 - mae: 7.9845\n",
            "Epoch 8/100\n",
            "2/2 [==============================] - 0s 4ms/step - loss: 7.7050 - mae: 7.7050\n",
            "Epoch 9/100\n",
            "2/2 [==============================] - 0s 4ms/step - loss: 7.5794 - mae: 7.5794\n",
            "Epoch 10/100\n",
            "2/2 [==============================] - 0s 5ms/step - loss: 7.5244 - mae: 7.5244\n",
            "Epoch 11/100\n",
            "2/2 [==============================] - 0s 4ms/step - loss: 7.6371 - mae: 7.6371\n",
            "Epoch 12/100\n",
            "2/2 [==============================] - 0s 4ms/step - loss: 7.7529 - mae: 7.7529\n",
            "Epoch 13/100\n",
            "2/2 [==============================] - 0s 4ms/step - loss: 7.8201 - mae: 7.8201\n",
            "Epoch 14/100\n",
            "2/2 [==============================] - 0s 4ms/step - loss: 7.7929 - mae: 7.7929\n",
            "Epoch 15/100\n",
            "2/2 [==============================] - 0s 5ms/step - loss: 7.7012 - mae: 7.7012\n",
            "Epoch 16/100\n",
            "2/2 [==============================] - 0s 5ms/step - loss: 7.5833 - mae: 7.5833\n",
            "Epoch 17/100\n",
            "2/2 [==============================] - 0s 8ms/step - loss: 7.5388 - mae: 7.5388\n",
            "Epoch 18/100\n",
            "2/2 [==============================] - 0s 7ms/step - loss: 7.4803 - mae: 7.4803\n",
            "Epoch 19/100\n",
            "2/2 [==============================] - 0s 8ms/step - loss: 7.4889 - mae: 7.4889\n",
            "Epoch 20/100\n",
            "2/2 [==============================] - 0s 7ms/step - loss: 7.4924 - mae: 7.4924\n",
            "Epoch 21/100\n",
            "2/2 [==============================] - 0s 4ms/step - loss: 7.5010 - mae: 7.5010\n",
            "Epoch 22/100\n",
            "2/2 [==============================] - 0s 6ms/step - loss: 7.5026 - mae: 7.5026\n",
            "Epoch 23/100\n",
            "2/2 [==============================] - 0s 4ms/step - loss: 7.4964 - mae: 7.4964\n",
            "Epoch 24/100\n",
            "2/2 [==============================] - 0s 6ms/step - loss: 7.4774 - mae: 7.4774\n",
            "Epoch 25/100\n",
            "2/2 [==============================] - 0s 5ms/step - loss: 7.4664 - mae: 7.4664\n",
            "Epoch 26/100\n",
            "2/2 [==============================] - 0s 5ms/step - loss: 7.4523 - mae: 7.4523\n",
            "Epoch 27/100\n",
            "2/2 [==============================] - 0s 5ms/step - loss: 7.4337 - mae: 7.4337\n",
            "Epoch 28/100\n",
            "2/2 [==============================] - 0s 9ms/step - loss: 7.4184 - mae: 7.4184\n",
            "Epoch 29/100\n",
            "2/2 [==============================] - 0s 7ms/step - loss: 7.4073 - mae: 7.4073\n",
            "Epoch 30/100\n",
            "2/2 [==============================] - 0s 7ms/step - loss: 7.3991 - mae: 7.3991\n",
            "Epoch 31/100\n",
            "2/2 [==============================] - 0s 5ms/step - loss: 7.3960 - mae: 7.3960\n",
            "Epoch 32/100\n",
            "2/2 [==============================] - 0s 6ms/step - loss: 7.3879 - mae: 7.3879\n",
            "Epoch 33/100\n",
            "2/2 [==============================] - 0s 7ms/step - loss: 7.3782 - mae: 7.3782\n",
            "Epoch 34/100\n",
            "2/2 [==============================] - 0s 6ms/step - loss: 7.3687 - mae: 7.3687\n",
            "Epoch 35/100\n",
            "2/2 [==============================] - 0s 6ms/step - loss: 7.3612 - mae: 7.3612\n",
            "Epoch 36/100\n",
            "2/2 [==============================] - 0s 5ms/step - loss: 7.3554 - mae: 7.3554\n",
            "Epoch 37/100\n",
            "2/2 [==============================] - 0s 6ms/step - loss: 7.3632 - mae: 7.3632\n",
            "Epoch 38/100\n",
            "2/2 [==============================] - 0s 10ms/step - loss: 7.3824 - mae: 7.3824\n",
            "Epoch 39/100\n",
            "2/2 [==============================] - 0s 6ms/step - loss: 7.3917 - mae: 7.3917\n",
            "Epoch 40/100\n",
            "2/2 [==============================] - 0s 5ms/step - loss: 7.3926 - mae: 7.3926\n",
            "Epoch 41/100\n",
            "2/2 [==============================] - 0s 5ms/step - loss: 7.3788 - mae: 7.3788\n",
            "Epoch 42/100\n",
            "2/2 [==============================] - 0s 4ms/step - loss: 7.3536 - mae: 7.3536\n",
            "Epoch 43/100\n",
            "2/2 [==============================] - 0s 12ms/step - loss: 7.3252 - mae: 7.3252\n",
            "Epoch 44/100\n",
            "2/2 [==============================] - 0s 7ms/step - loss: 7.3125 - mae: 7.3125\n",
            "Epoch 45/100\n",
            "2/2 [==============================] - 0s 5ms/step - loss: 7.2940 - mae: 7.2940\n",
            "Epoch 46/100\n",
            "2/2 [==============================] - 0s 7ms/step - loss: 7.2835 - mae: 7.2835\n",
            "Epoch 47/100\n",
            "2/2 [==============================] - 0s 4ms/step - loss: 7.2755 - mae: 7.2755\n",
            "Epoch 48/100\n",
            "2/2 [==============================] - 0s 5ms/step - loss: 7.2694 - mae: 7.2694\n",
            "Epoch 49/100\n",
            "2/2 [==============================] - 0s 4ms/step - loss: 7.2657 - mae: 7.2657\n",
            "Epoch 50/100\n",
            "2/2 [==============================] - 0s 5ms/step - loss: 7.2649 - mae: 7.2649\n",
            "Epoch 51/100\n",
            "2/2 [==============================] - 0s 9ms/step - loss: 7.2660 - mae: 7.2660\n",
            "Epoch 52/100\n",
            "2/2 [==============================] - 0s 6ms/step - loss: 7.2578 - mae: 7.2578\n",
            "Epoch 53/100\n",
            "2/2 [==============================] - 0s 5ms/step - loss: 7.2400 - mae: 7.2400\n",
            "Epoch 54/100\n",
            "2/2 [==============================] - 0s 8ms/step - loss: 7.2269 - mae: 7.2269\n",
            "Epoch 55/100\n",
            "2/2 [==============================] - 0s 5ms/step - loss: 7.2238 - mae: 7.2238\n",
            "Epoch 56/100\n",
            "2/2 [==============================] - 0s 4ms/step - loss: 7.2188 - mae: 7.2188\n",
            "Epoch 57/100\n",
            "2/2 [==============================] - 0s 4ms/step - loss: 7.2001 - mae: 7.2001\n",
            "Epoch 58/100\n",
            "2/2 [==============================] - 0s 5ms/step - loss: 7.1974 - mae: 7.1974\n",
            "Epoch 59/100\n",
            "2/2 [==============================] - 0s 7ms/step - loss: 7.1894 - mae: 7.1894\n",
            "Epoch 60/100\n",
            "2/2 [==============================] - 0s 5ms/step - loss: 7.1848 - mae: 7.1848\n",
            "Epoch 61/100\n",
            "2/2 [==============================] - 0s 5ms/step - loss: 7.1785 - mae: 7.1785\n",
            "Epoch 62/100\n",
            "2/2 [==============================] - 0s 6ms/step - loss: 7.1685 - mae: 7.1685\n",
            "Epoch 63/100\n",
            "2/2 [==============================] - 0s 6ms/step - loss: 7.1515 - mae: 7.1515\n",
            "Epoch 64/100\n",
            "2/2 [==============================] - 0s 5ms/step - loss: 7.1602 - mae: 7.1602\n",
            "Epoch 65/100\n",
            "2/2 [==============================] - 0s 7ms/step - loss: 7.1470 - mae: 7.1470\n",
            "Epoch 66/100\n",
            "2/2 [==============================] - 0s 5ms/step - loss: 7.1421 - mae: 7.1421\n",
            "Epoch 67/100\n",
            "2/2 [==============================] - 0s 9ms/step - loss: 7.1319 - mae: 7.1319\n",
            "Epoch 68/100\n",
            "2/2 [==============================] - 0s 5ms/step - loss: 7.1256 - mae: 7.1256\n",
            "Epoch 69/100\n",
            "2/2 [==============================] - 0s 5ms/step - loss: 7.1125 - mae: 7.1125\n",
            "Epoch 70/100\n",
            "2/2 [==============================] - 0s 5ms/step - loss: 7.1041 - mae: 7.1041\n",
            "Epoch 71/100\n",
            "2/2 [==============================] - 0s 5ms/step - loss: 7.0911 - mae: 7.0911\n",
            "Epoch 72/100\n",
            "2/2 [==============================] - 0s 5ms/step - loss: 7.0952 - mae: 7.0952\n",
            "Epoch 73/100\n",
            "2/2 [==============================] - 0s 5ms/step - loss: 7.1007 - mae: 7.1007\n",
            "Epoch 74/100\n",
            "2/2 [==============================] - 0s 5ms/step - loss: 7.1201 - mae: 7.1201\n",
            "Epoch 75/100\n",
            "2/2 [==============================] - 0s 8ms/step - loss: 7.1339 - mae: 7.1339\n",
            "Epoch 76/100\n",
            "2/2 [==============================] - 0s 5ms/step - loss: 7.1178 - mae: 7.1178\n",
            "Epoch 77/100\n",
            "2/2 [==============================] - 0s 7ms/step - loss: 7.0807 - mae: 7.0807\n",
            "Epoch 78/100\n",
            "2/2 [==============================] - 0s 6ms/step - loss: 7.0415 - mae: 7.0415\n",
            "Epoch 79/100\n",
            "2/2 [==============================] - 0s 6ms/step - loss: 7.0521 - mae: 7.0521\n",
            "Epoch 80/100\n",
            "2/2 [==============================] - 0s 5ms/step - loss: 7.0367 - mae: 7.0367\n",
            "Epoch 81/100\n",
            "2/2 [==============================] - 0s 5ms/step - loss: 7.0369 - mae: 7.0369\n",
            "Epoch 82/100\n",
            "2/2 [==============================] - 0s 5ms/step - loss: 7.0328 - mae: 7.0328\n",
            "Epoch 83/100\n",
            "2/2 [==============================] - 0s 5ms/step - loss: 7.0257 - mae: 7.0257\n",
            "Epoch 84/100\n",
            "2/2 [==============================] - 0s 5ms/step - loss: 7.0092 - mae: 7.0092\n",
            "Epoch 85/100\n",
            "2/2 [==============================] - 0s 5ms/step - loss: 7.0016 - mae: 7.0016\n",
            "Epoch 86/100\n",
            "2/2 [==============================] - 0s 7ms/step - loss: 6.9838 - mae: 6.9838\n",
            "Epoch 87/100\n",
            "2/2 [==============================] - 0s 4ms/step - loss: 6.9780 - mae: 6.9780\n",
            "Epoch 88/100\n",
            "2/2 [==============================] - 0s 4ms/step - loss: 6.9660 - mae: 6.9660\n",
            "Epoch 89/100\n",
            "2/2 [==============================] - 0s 7ms/step - loss: 6.9570 - mae: 6.9570\n",
            "Epoch 90/100\n",
            "2/2 [==============================] - 0s 7ms/step - loss: 6.9686 - mae: 6.9686\n",
            "Epoch 91/100\n",
            "2/2 [==============================] - 0s 5ms/step - loss: 6.9673 - mae: 6.9673\n",
            "Epoch 92/100\n",
            "2/2 [==============================] - 0s 5ms/step - loss: 6.9609 - mae: 6.9609\n",
            "Epoch 93/100\n",
            "2/2 [==============================] - 0s 5ms/step - loss: 6.9428 - mae: 6.9428\n",
            "Epoch 94/100\n",
            "2/2 [==============================] - 0s 8ms/step - loss: 6.9244 - mae: 6.9244\n",
            "Epoch 95/100\n",
            "2/2 [==============================] - 0s 5ms/step - loss: 6.9038 - mae: 6.9038\n",
            "Epoch 96/100\n",
            "2/2 [==============================] - 0s 4ms/step - loss: 6.9258 - mae: 6.9258\n",
            "Epoch 97/100\n",
            "2/2 [==============================] - 0s 4ms/step - loss: 6.9164 - mae: 6.9164\n",
            "Epoch 98/100\n",
            "2/2 [==============================] - 0s 5ms/step - loss: 6.9105 - mae: 6.9105\n",
            "Epoch 99/100\n",
            "2/2 [==============================] - 0s 5ms/step - loss: 6.9009 - mae: 6.9009\n",
            "Epoch 100/100\n",
            "2/2 [==============================] - 0s 5ms/step - loss: 6.8825 - mae: 6.8825\n"
          ]
        },
        {
          "output_type": "execute_result",
          "data": {
            "text/plain": [
              "<keras.callbacks.History at 0x7f0554ca95d0>"
            ]
          },
          "metadata": {},
          "execution_count": 65
        }
      ]
    },
    {
      "cell_type": "code",
      "source": [
        "# Make and plot predictions for model_5\n",
        "y_preds_5 = model_5.predict(X_test)\n",
        "plot_predictions(predictions=y_preds_5)"
      ],
      "metadata": {
        "colab": {
          "base_uri": "https://localhost:8080/",
          "height": 616
        },
        "id": "PFVXFo3Y46JC",
        "outputId": "93158412-317a-4dbf-bb0a-1f0d55b42b77"
      },
      "execution_count": 66,
      "outputs": [
        {
          "output_type": "stream",
          "name": "stdout",
          "text": [
            "1/1 [==============================] - 0s 70ms/step\n"
          ]
        },
        {
          "output_type": "display_data",
          "data": {
            "text/plain": [
              "<Figure size 1000x700 with 1 Axes>"
            ],
            "image/png": "[encoded data removed]"
          },
          "metadata": {}
        }
      ]
    },
    {
      "cell_type": "code",
      "source": [
        "# Calculate model_4 evaluation metrics\n",
        "mae_5 = mae(y_test, y_preds_5)\n",
        "mse_5 = mse(y_test, y_preds_5)\n",
        "mae_5, mse_5"
      ],
      "metadata": {
        "colab": {
          "base_uri": "https://localhost:8080/"
        },
        "id": "lZayZKBc5Bis",
        "outputId": "8e2af3d3-f7ca-4d7a-fbb2-80f3ec17970b"
      },
      "execution_count": 67,
      "outputs": [
        {
          "output_type": "execute_result",
          "data": {
            "text/plain": [
              "(<tf.Tensor: shape=(), dtype=float32, numpy=17.747208>,\n",
              " <tf.Tensor: shape=(), dtype=float32, numpy=316.6194>)"
            ]
          },
          "metadata": {},
          "execution_count": 67
        }
      ]
    },
    {
      "cell_type": "markdown",
      "source": [
        "## Comparing results of experiments"
      ],
      "metadata": {
        "id": "XPNE62Wk14wv"
      }
    },
    {
      "cell_type": "code",
      "source": [
        "# Compare model's results using pandas DataFrame\n",
        "import pandas as pd\n",
        "\n",
        "model_results = [[\"model_1\", mae_1.numpy(), mse_1.numpy()],\n",
        "                 [\"model_2\", mae_2.numpy(), mse_2.numpy()],\n",
        "                 [\"model_3\", mae_3.numpy(), mse_3.numpy()],\n",
        "                 [\"model_4\", mae_4.numpy(), mse_4.numpy()],\n",
        "                 [\"model_5\", mae_5.numpy(), mse_5.numpy()]]\n",
        "\n",
        "all_results = pd.DataFrame(model_results, columns=[\"model\", \"mae\", \"mse\"])\n",
        "all_results"
      ],
      "metadata": {
        "colab": {
          "base_uri": "https://localhost:8080/",
          "height": 206
        },
        "id": "rQ0OI8tu6jds",
        "outputId": "a1077337-21ac-4a32-8a03-1d1160dd2233"
      },
      "execution_count": 68,
      "outputs": [
        {
          "output_type": "execute_result",
          "data": {
            "text/plain": [
              "     model        mae          mse\n",
              "0  model_1   8.452595    77.842209\n",
              "1  model_2  13.268530   186.080978\n",
              "2  model_3  66.992744  4570.457031\n",
              "3  model_4  75.639938  5817.670410\n",
              "4  model_5  17.747208   316.619385"
            ],
            "text/html": [
              "\n",
              "  <div id=\"df-682620b1-6fd9-4ed4-8839-b212b8718fff\">\n",
              "    <div class=\"colab-df-container\">\n",
              "      <div>\n",
              "<style scoped>\n",
              "    .dataframe tbody tr th:only-of-type {\n",
              "        vertical-align: middle;\n",
              "    }\n",
              "\n",
              "    .dataframe tbody tr th {\n",
              "        vertical-align: top;\n",
              "    }\n",
              "\n",
              "    .dataframe thead th {\n",
              "        text-align: right;\n",
              "    }\n",
              "</style>\n",
              "<table border=\"1\" class=\"dataframe\">\n",
              "  <thead>\n",
              "    <tr style=\"text-align: right;\">\n",
              "      <th></th>\n",
              "      <th>model</th>\n",
              "      <th>mae</th>\n",
              "      <th>mse</th>\n",
              "    </tr>\n",
              "  </thead>\n",
              "  <tbody>\n",
              "    <tr>\n",
              "      <th>0</th>\n",
              "      <td>model_1</td>\n",
              "      <td>8.452595</td>\n",
              "      <td>77.842209</td>\n",
              "    </tr>\n",
              "    <tr>\n",
              "      <th>1</th>\n",
              "      <td>model_2</td>\n",
              "      <td>13.268530</td>\n",
              "      <td>186.080978</td>\n",
              "    </tr>\n",
              "    <tr>\n",
              "      <th>2</th>\n",
              "      <td>model_3</td>\n",
              "      <td>66.992744</td>\n",
              "      <td>4570.457031</td>\n",
              "    </tr>\n",
              "    <tr>\n",
              "      <th>3</th>\n",
              "      <td>model_4</td>\n",
              "      <td>75.639938</td>\n",
              "      <td>5817.670410</td>\n",
              "    </tr>\n",
              "    <tr>\n",
              "      <th>4</th>\n",
              "      <td>model_5</td>\n",
              "      <td>17.747208</td>\n",
              "      <td>316.619385</td>\n",
              "    </tr>\n",
              "  </tbody>\n",
              "</table>\n",
              "</div>\n",
              "      <button class=\"colab-df-convert\" onclick=\"convertToInteractive('df-682620b1-6fd9-4ed4-8839-b212b8718fff')\"\n",
              "              title=\"Convert this dataframe to an interactive table.\"\n",
              "              style=\"display:none;\">\n",
              "        \n",
              "  <svg xmlns=\"http://www.w3.org/2000/svg\" height=\"24px\"viewBox=\"0 0 24 24\"\n",
              "       width=\"24px\">\n",
              "    <path d=\"M0 0h24v24H0V0z\" fill=\"none\"/>\n",
              "    <path d=\"M18.56 5.44l.94 2.06.94-2.06 2.06-.94-2.06-.94-.94-2.06-.94 2.06-2.06.94zm-11 1L8.5 8.5l.94-2.06 2.06-.94-2.06-.94L8.5 2.5l-.94 2.06-2.06.94zm10 10l.94 2.06.94-2.06 2.06-.94-2.06-.94-.94-2.06-.94 2.06-2.06.94z\"/><path d=\"M17.41 7.96l-1.37-1.37c-.4-.4-.92-.59-1.43-.59-.52 0-1.04.2-1.43.59L10.3 9.45l-7.72 7.72c-.78.78-.78 2.05 0 2.83L4 21.41c.39.39.9.59 1.41.59.51 0 1.02-.2 1.41-.59l7.78-7.78 2.81-2.81c.8-.78.8-2.07 0-2.86zM5.41 20L4 18.59l7.72-7.72 1.47 1.35L5.41 20z\"/>\n",
              "  </svg>\n",
              "      </button>\n",
              "      \n",
              "  <style>\n",
              "    .colab-df-container {\n",
              "      display:flex;\n",
              "      flex-wrap:wrap;\n",
              "      gap: 12px;\n",
              "    }\n",
              "\n",
              "    .colab-df-convert {\n",
              "      background-color: #E8F0FE;\n",
              "      border: none;\n",
              "      border-radius: 50%;\n",
              "      cursor: pointer;\n",
              "      display: none;\n",
              "      fill: #1967D2;\n",
              "      height: 32px;\n",
              "      padding: 0 0 0 0;\n",
              "      width: 32px;\n",
              "    }\n",
              "\n",
              "    .colab-df-convert:hover {\n",
              "      background-color: #E2EBFA;\n",
              "      box-shadow: 0px 1px 2px rgba(60, 64, 67, 0.3), 0px 1px 3px 1px rgba(60, 64, 67, 0.15);\n",
              "      fill: #174EA6;\n",
              "    }\n",
              "\n",
              "    [theme=dark] .colab-df-convert {\n",
              "      background-color: #3B4455;\n",
              "      fill: #D2E3FC;\n",
              "    }\n",
              "\n",
              "    [theme=dark] .colab-df-convert:hover {\n",
              "      background-color: #434B5C;\n",
              "      box-shadow: 0px 1px 3px 1px rgba(0, 0, 0, 0.15);\n",
              "      filter: drop-shadow(0px 1px 2px rgba(0, 0, 0, 0.3));\n",
              "      fill: #FFFFFF;\n",
              "    }\n",
              "  </style>\n",
              "\n",
              "      <script>\n",
              "        const buttonEl =\n",
              "          document.querySelector('#df-682620b1-6fd9-4ed4-8839-b212b8718fff button.colab-df-convert');\n",
              "        buttonEl.style.display =\n",
              "          google.colab.kernel.accessAllowed ? 'block' : 'none';\n",
              "\n",
              "        async function convertToInteractive(key) {\n",
              "          const element = document.querySelector('#df-682620b1-6fd9-4ed4-8839-b212b8718fff');\n",
              "          const dataTable =\n",
              "            await google.colab.kernel.invokeFunction('convertToInteractive',\n",
              "                                                     [key], {});\n",
              "          if (!dataTable) return;\n",
              "\n",
              "          const docLinkHtml = 'Like what you see? Visit the ' +\n",
              "            '<a target=\"_blank\" href=https://colab.research.google.com/notebooks/data_table.ipynb>data table notebook</a>'\n",
              "            + ' to learn more about interactive tables.';\n",
              "          element.innerHTML = '';\n",
              "          dataTable['output_type'] = 'display_data';\n",
              "          await google.colab.output.renderOutput(dataTable, element);\n",
              "          const docLink = document.createElement('div');\n",
              "          docLink.innerHTML = docLinkHtml;\n",
              "          element.appendChild(docLink);\n",
              "        }\n",
              "      </script>\n",
              "    </div>\n",
              "  </div>\n",
              "  "
            ]
          },
          "metadata": {},
          "execution_count": 68
        }
      ]
    },
    {
      "cell_type": "markdown",
      "source": [
        "model_2 performs the best"
      ],
      "metadata": {
        "id": "1FkMquKA7s7i"
      }
    },
    {
      "cell_type": "code",
      "source": [
        "model_2.summary()"
      ],
      "metadata": {
        "colab": {
          "base_uri": "https://localhost:8080/"
        },
        "id": "6yEy1Iux7Wt1",
        "outputId": "831be34e-ab9e-414c-cbc2-185936985b67"
      },
      "execution_count": 69,
      "outputs": [
        {
          "output_type": "stream",
          "name": "stdout",
          "text": [
            "Model: \"sequential_6\"\n",
            "_________________________________________________________________\n",
            " Layer (type)                Output Shape              Param #   \n",
            "=================================================================\n",
            " dense_7 (Dense)             (None, 10)                20        \n",
            "                                                                 \n",
            " dense_8 (Dense)             (None, 1)                 11        \n",
            "                                                                 \n",
            "=================================================================\n",
            "Total params: 31\n",
            "Trainable params: 31\n",
            "Non-trainable params: 0\n",
            "_________________________________________________________________\n"
          ]
        }
      ]
    },
    {
      "cell_type": "markdown",
      "source": [
        "### Saving Models\n",
        "\n",
        "Saving models enables models to be used outside of colab notebooks elsewhere\n",
        "\n",
        "2 main formats to save model to:\n",
        "- SavedModel format\n",
        "- HDF5 format "
      ],
      "metadata": {
        "id": "Kx1uebR-7gHD"
      }
    },
    {
      "cell_type": "code",
      "source": [
        "# Save model w/ SavedModel format\n",
        "model_2.save(\"best_model_SavedModel_format\")"
      ],
      "metadata": {
        "colab": {
          "base_uri": "https://localhost:8080/"
        },
        "id": "NwTBUeLGpz1N",
        "outputId": "b3fd41cc-733b-4f4c-8500-a032b8b748fd"
      },
      "execution_count": 70,
      "outputs": [
        {
          "output_type": "stream",
          "name": "stderr",
          "text": [
            "WARNING:absl:Found untraced functions such as _update_step_xla while saving (showing 1 of 1). These functions will not be directly callable after loading.\n"
          ]
        }
      ]
    },
    {
      "cell_type": "code",
      "source": [
        "# Save model using HDF5 format\n",
        "model_2.save(\"best_model_HDF5_format.h5\")"
      ],
      "metadata": {
        "id": "PWSGzZ522PJB"
      },
      "execution_count": 71,
      "outputs": []
    },
    {
      "cell_type": "markdown",
      "source": [
        "## Loading in a saved model"
      ],
      "metadata": {
        "id": "BmF5y7Z56drf"
      }
    },
    {
      "cell_type": "code",
      "source": [
        "# Load in a SavedModel format model\n",
        "loaded_SavedModel_format = tf.keras.models.load_model(\"/content/best_model_SavedModel_format\")\n",
        "loaded_SavedModel_format.summary()"
      ],
      "metadata": {
        "colab": {
          "base_uri": "https://localhost:8080/"
        },
        "id": "Db2VQzl96lpj",
        "outputId": "8dc797a8-fb62-4653-af52-085cd044f7af"
      },
      "execution_count": 72,
      "outputs": [
        {
          "output_type": "stream",
          "name": "stdout",
          "text": [
            "Model: \"sequential_6\"\n",
            "_________________________________________________________________\n",
            " Layer (type)                Output Shape              Param #   \n",
            "=================================================================\n",
            " dense_7 (Dense)             (None, 10)                20        \n",
            "                                                                 \n",
            " dense_8 (Dense)             (None, 1)                 11        \n",
            "                                                                 \n",
            "=================================================================\n",
            "Total params: 31\n",
            "Trainable params: 31\n",
            "Non-trainable params: 0\n",
            "_________________________________________________________________\n"
          ]
        }
      ]
    },
    {
      "cell_type": "code",
      "source": [
        "# Compare model_2 predictions w/ savedModel format model predictions\n",
        "model_2_preds = model_2.predict(X_test)\n",
        "loaded_SavedModel_format_preds = loaded_SavedModel_format.predict(X_test)\n",
        "model_2_preds == loaded_SavedModel_format_preds"
      ],
      "metadata": {
        "colab": {
          "base_uri": "https://localhost:8080/"
        },
        "id": "Ct23JFId65H7",
        "outputId": "b5049fc2-0a5a-40fa-eafa-ce076b99c726"
      },
      "execution_count": 73,
      "outputs": [
        {
          "output_type": "stream",
          "name": "stdout",
          "text": [
            "1/1 [==============================] - 0s 24ms/step\n",
            "1/1 [==============================] - 0s 39ms/step\n"
          ]
        },
        {
          "output_type": "execute_result",
          "data": {
            "text/plain": [
              "array([[ True],\n",
              "       [ True],\n",
              "       [ True],\n",
              "       [ True],\n",
              "       [ True],\n",
              "       [ True],\n",
              "       [ True],\n",
              "       [ True],\n",
              "       [ True],\n",
              "       [ True]])"
            ]
          },
          "metadata": {},
          "execution_count": 73
        }
      ]
    },
    {
      "cell_type": "code",
      "source": [
        "# Compared mae of loaded model and model_2\n",
        "mae(y_true=y_test, y_pred=model_2_preds) == mae(y_true=y_test, y_pred=loaded_SavedModel_format_preds)"
      ],
      "metadata": {
        "colab": {
          "base_uri": "https://localhost:8080/"
        },
        "id": "xQez9aEh696K",
        "outputId": "d43f7c4a-963f-415e-caef-7fedac2385ba"
      },
      "execution_count": 74,
      "outputs": [
        {
          "output_type": "execute_result",
          "data": {
            "text/plain": [
              "<tf.Tensor: shape=(), dtype=bool, numpy=True>"
            ]
          },
          "metadata": {},
          "execution_count": 74
        }
      ]
    },
    {
      "cell_type": "code",
      "source": [
        "# Load in a model using .h5 format\n",
        "loaded_h5_model = tf.keras.models.load_model(\"/content/best_model_HDF5_format.h5\")\n",
        "loaded_h5_model.summary()"
      ],
      "metadata": {
        "colab": {
          "base_uri": "https://localhost:8080/"
        },
        "id": "DlrRPA3V76IF",
        "outputId": "ccfa03ae-71c3-43a1-f267-f2ba853c61d6"
      },
      "execution_count": 75,
      "outputs": [
        {
          "output_type": "stream",
          "name": "stdout",
          "text": [
            "Model: \"sequential_6\"\n",
            "_________________________________________________________________\n",
            " Layer (type)                Output Shape              Param #   \n",
            "=================================================================\n",
            " dense_7 (Dense)             (None, 10)                20        \n",
            "                                                                 \n",
            " dense_8 (Dense)             (None, 1)                 11        \n",
            "                                                                 \n",
            "=================================================================\n",
            "Total params: 31\n",
            "Trainable params: 31\n",
            "Non-trainable params: 0\n",
            "_________________________________________________________________\n"
          ]
        }
      ]
    },
    {
      "cell_type": "code",
      "source": [
        "model_2.summary()"
      ],
      "metadata": {
        "colab": {
          "base_uri": "https://localhost:8080/"
        },
        "id": "C06xKhwyWBVJ",
        "outputId": "4e3c034b-4367-4e4a-d9b3-ffe65d05768b"
      },
      "execution_count": 76,
      "outputs": [
        {
          "output_type": "stream",
          "name": "stdout",
          "text": [
            "Model: \"sequential_6\"\n",
            "_________________________________________________________________\n",
            " Layer (type)                Output Shape              Param #   \n",
            "=================================================================\n",
            " dense_7 (Dense)             (None, 10)                20        \n",
            "                                                                 \n",
            " dense_8 (Dense)             (None, 1)                 11        \n",
            "                                                                 \n",
            "=================================================================\n",
            "Total params: 31\n",
            "Trainable params: 31\n",
            "Non-trainable params: 0\n",
            "_________________________________________________________________\n"
          ]
        }
      ]
    },
    {
      "cell_type": "code",
      "source": [
        "# Compare predictions w/ model_2 and loaded h5 model\n",
        "model_2_preds = model_2.predict(X_test)\n",
        "loaded_h5_model_preds = loaded_h5_model.predict(X_test)\n",
        "model_2_preds == loaded_h5_model_preds"
      ],
      "metadata": {
        "colab": {
          "base_uri": "https://localhost:8080/"
        },
        "id": "75Gu-ypPWC5a",
        "outputId": "51942e8c-2cb0-4cb5-9649-234ee4eb9d15"
      },
      "execution_count": 77,
      "outputs": [
        {
          "output_type": "stream",
          "name": "stdout",
          "text": [
            "1/1 [==============================] - 0s 15ms/step\n",
            "1/1 [==============================] - 0s 39ms/step\n"
          ]
        },
        {
          "output_type": "execute_result",
          "data": {
            "text/plain": [
              "array([[ True],\n",
              "       [ True],\n",
              "       [ True],\n",
              "       [ True],\n",
              "       [ True],\n",
              "       [ True],\n",
              "       [ True],\n",
              "       [ True],\n",
              "       [ True],\n",
              "       [ True]])"
            ]
          },
          "metadata": {},
          "execution_count": 77
        }
      ]
    },
    {
      "cell_type": "markdown",
      "source": [
        "## A larger Example\n"
      ],
      "metadata": {
        "id": "aZrJBvNzWRVV"
      }
    },
    {
      "cell_type": "code",
      "source": [
        "# Import libs\n",
        "import tensorflow as tf\n",
        "import pandas as pd\n",
        "import matplotlib.pyplot as plt\n"
      ],
      "metadata": {
        "id": "LMUuAoisYgBM"
      },
      "execution_count": 78,
      "outputs": []
    },
    {
      "cell_type": "code",
      "source": [
        "# Read in insurance dataset\n",
        "insurance = pd.read_csv(\"https://raw.githubusercontent.com/stedy/Machine-Learning-with-R-datasets/master/insurance.csv\")\n",
        "insurance"
      ],
      "metadata": {
        "colab": {
          "base_uri": "https://localhost:8080/",
          "height": 423
        },
        "id": "xApZ4_RJcPsj",
        "outputId": "1ff80bf7-a13a-4f1a-8845-acfa15c21931"
      },
      "execution_count": 79,
      "outputs": [
        {
          "output_type": "execute_result",
          "data": {
            "text/plain": [
              "      age     sex     bmi  children smoker     region      charges\n",
              "0      19  female  27.900         0    yes  southwest  16884.92400\n",
              "1      18    male  33.770         1     no  southeast   1725.55230\n",
              "2      28    male  33.000         3     no  southeast   4449.46200\n",
              "3      33    male  22.705         0     no  northwest  21984.47061\n",
              "4      32    male  28.880         0     no  northwest   3866.85520\n",
              "...   ...     ...     ...       ...    ...        ...          ...\n",
              "1333   50    male  30.970         3     no  northwest  10600.54830\n",
              "1334   18  female  31.920         0     no  northeast   2205.98080\n",
              "1335   18  female  36.850         0     no  southeast   1629.83350\n",
              "1336   21  female  25.800         0     no  southwest   2007.94500\n",
              "1337   61  female  29.070         0    yes  northwest  29141.36030\n",
              "\n",
              "[1338 rows x 7 columns]"
            ],
            "text/html": [
              "\n",
              "  <div id=\"df-d834bf21-4dc3-49d8-b1ba-24fb7d0c1110\">\n",
              "    <div class=\"colab-df-container\">\n",
              "      <div>\n",
              "<style scoped>\n",
              "    .dataframe tbody tr th:only-of-type {\n",
              "        vertical-align: middle;\n",
              "    }\n",
              "\n",
              "    .dataframe tbody tr th {\n",
              "        vertical-align: top;\n",
              "    }\n",
              "\n",
              "    .dataframe thead th {\n",
              "        text-align: right;\n",
              "    }\n",
              "</style>\n",
              "<table border=\"1\" class=\"dataframe\">\n",
              "  <thead>\n",
              "    <tr style=\"text-align: right;\">\n",
              "      <th></th>\n",
              "      <th>age</th>\n",
              "      <th>sex</th>\n",
              "      <th>bmi</th>\n",
              "      <th>children</th>\n",
              "      <th>smoker</th>\n",
              "      <th>region</th>\n",
              "      <th>charges</th>\n",
              "    </tr>\n",
              "  </thead>\n",
              "  <tbody>\n",
              "    <tr>\n",
              "      <th>0</th>\n",
              "      <td>19</td>\n",
              "      <td>female</td>\n",
              "      <td>27.900</td>\n",
              "      <td>0</td>\n",
              "      <td>yes</td>\n",
              "      <td>southwest</td>\n",
              "      <td>16884.92400</td>\n",
              "    </tr>\n",
              "    <tr>\n",
              "      <th>1</th>\n",
              "      <td>18</td>\n",
              "      <td>male</td>\n",
              "      <td>33.770</td>\n",
              "      <td>1</td>\n",
              "      <td>no</td>\n",
              "      <td>southeast</td>\n",
              "      <td>1725.55230</td>\n",
              "    </tr>\n",
              "    <tr>\n",
              "      <th>2</th>\n",
              "      <td>28</td>\n",
              "      <td>male</td>\n",
              "      <td>33.000</td>\n",
              "      <td>3</td>\n",
              "      <td>no</td>\n",
              "      <td>southeast</td>\n",
              "      <td>4449.46200</td>\n",
              "    </tr>\n",
              "    <tr>\n",
              "      <th>3</th>\n",
              "      <td>33</td>\n",
              "      <td>male</td>\n",
              "      <td>22.705</td>\n",
              "      <td>0</td>\n",
              "      <td>no</td>\n",
              "      <td>northwest</td>\n",
              "      <td>21984.47061</td>\n",
              "    </tr>\n",
              "    <tr>\n",
              "      <th>4</th>\n",
              "      <td>32</td>\n",
              "      <td>male</td>\n",
              "      <td>28.880</td>\n",
              "      <td>0</td>\n",
              "      <td>no</td>\n",
              "      <td>northwest</td>\n",
              "      <td>3866.85520</td>\n",
              "    </tr>\n",
              "    <tr>\n",
              "      <th>...</th>\n",
              "      <td>...</td>\n",
              "      <td>...</td>\n",
              "      <td>...</td>\n",
              "      <td>...</td>\n",
              "      <td>...</td>\n",
              "      <td>...</td>\n",
              "      <td>...</td>\n",
              "    </tr>\n",
              "    <tr>\n",
              "      <th>1333</th>\n",
              "      <td>50</td>\n",
              "      <td>male</td>\n",
              "      <td>30.970</td>\n",
              "      <td>3</td>\n",
              "      <td>no</td>\n",
              "      <td>northwest</td>\n",
              "      <td>10600.54830</td>\n",
              "    </tr>\n",
              "    <tr>\n",
              "      <th>1334</th>\n",
              "      <td>18</td>\n",
              "      <td>female</td>\n",
              "      <td>31.920</td>\n",
              "      <td>0</td>\n",
              "      <td>no</td>\n",
              "      <td>northeast</td>\n",
              "      <td>2205.98080</td>\n",
              "    </tr>\n",
              "    <tr>\n",
              "      <th>1335</th>\n",
              "      <td>18</td>\n",
              "      <td>female</td>\n",
              "      <td>36.850</td>\n",
              "      <td>0</td>\n",
              "      <td>no</td>\n",
              "      <td>southeast</td>\n",
              "      <td>1629.83350</td>\n",
              "    </tr>\n",
              "    <tr>\n",
              "      <th>1336</th>\n",
              "      <td>21</td>\n",
              "      <td>female</td>\n",
              "      <td>25.800</td>\n",
              "      <td>0</td>\n",
              "      <td>no</td>\n",
              "      <td>southwest</td>\n",
              "      <td>2007.94500</td>\n",
              "    </tr>\n",
              "    <tr>\n",
              "      <th>1337</th>\n",
              "      <td>61</td>\n",
              "      <td>female</td>\n",
              "      <td>29.070</td>\n",
              "      <td>0</td>\n",
              "      <td>yes</td>\n",
              "      <td>northwest</td>\n",
              "      <td>29141.36030</td>\n",
              "    </tr>\n",
              "  </tbody>\n",
              "</table>\n",
              "<p>1338 rows × 7 columns</p>\n",
              "</div>\n",
              "      <button class=\"colab-df-convert\" onclick=\"convertToInteractive('df-d834bf21-4dc3-49d8-b1ba-24fb7d0c1110')\"\n",
              "              title=\"Convert this dataframe to an interactive table.\"\n",
              "              style=\"display:none;\">\n",
              "        \n",
              "  <svg xmlns=\"http://www.w3.org/2000/svg\" height=\"24px\"viewBox=\"0 0 24 24\"\n",
              "       width=\"24px\">\n",
              "    <path d=\"M0 0h24v24H0V0z\" fill=\"none\"/>\n",
              "    <path d=\"M18.56 5.44l.94 2.06.94-2.06 2.06-.94-2.06-.94-.94-2.06-.94 2.06-2.06.94zm-11 1L8.5 8.5l.94-2.06 2.06-.94-2.06-.94L8.5 2.5l-.94 2.06-2.06.94zm10 10l.94 2.06.94-2.06 2.06-.94-2.06-.94-.94-2.06-.94 2.06-2.06.94z\"/><path d=\"M17.41 7.96l-1.37-1.37c-.4-.4-.92-.59-1.43-.59-.52 0-1.04.2-1.43.59L10.3 9.45l-7.72 7.72c-.78.78-.78 2.05 0 2.83L4 21.41c.39.39.9.59 1.41.59.51 0 1.02-.2 1.41-.59l7.78-7.78 2.81-2.81c.8-.78.8-2.07 0-2.86zM5.41 20L4 18.59l7.72-7.72 1.47 1.35L5.41 20z\"/>\n",
              "  </svg>\n",
              "      </button>\n",
              "      \n",
              "  <style>\n",
              "    .colab-df-container {\n",
              "      display:flex;\n",
              "      flex-wrap:wrap;\n",
              "      gap: 12px;\n",
              "    }\n",
              "\n",
              "    .colab-df-convert {\n",
              "      background-color: #E8F0FE;\n",
              "      border: none;\n",
              "      border-radius: 50%;\n",
              "      cursor: pointer;\n",
              "      display: none;\n",
              "      fill: #1967D2;\n",
              "      height: 32px;\n",
              "      padding: 0 0 0 0;\n",
              "      width: 32px;\n",
              "    }\n",
              "\n",
              "    .colab-df-convert:hover {\n",
              "      background-color: #E2EBFA;\n",
              "      box-shadow: 0px 1px 2px rgba(60, 64, 67, 0.3), 0px 1px 3px 1px rgba(60, 64, 67, 0.15);\n",
              "      fill: #174EA6;\n",
              "    }\n",
              "\n",
              "    [theme=dark] .colab-df-convert {\n",
              "      background-color: #3B4455;\n",
              "      fill: #D2E3FC;\n",
              "    }\n",
              "\n",
              "    [theme=dark] .colab-df-convert:hover {\n",
              "      background-color: #434B5C;\n",
              "      box-shadow: 0px 1px 3px 1px rgba(0, 0, 0, 0.15);\n",
              "      filter: drop-shadow(0px 1px 2px rgba(0, 0, 0, 0.3));\n",
              "      fill: #FFFFFF;\n",
              "    }\n",
              "  </style>\n",
              "\n",
              "      <script>\n",
              "        const buttonEl =\n",
              "          document.querySelector('#df-d834bf21-4dc3-49d8-b1ba-24fb7d0c1110 button.colab-df-convert');\n",
              "        buttonEl.style.display =\n",
              "          google.colab.kernel.accessAllowed ? 'block' : 'none';\n",
              "\n",
              "        async function convertToInteractive(key) {\n",
              "          const element = document.querySelector('#df-d834bf21-4dc3-49d8-b1ba-24fb7d0c1110');\n",
              "          const dataTable =\n",
              "            await google.colab.kernel.invokeFunction('convertToInteractive',\n",
              "                                                     [key], {});\n",
              "          if (!dataTable) return;\n",
              "\n",
              "          const docLinkHtml = 'Like what you see? Visit the ' +\n",
              "            '<a target=\"_blank\" href=https://colab.research.google.com/notebooks/data_table.ipynb>data table notebook</a>'\n",
              "            + ' to learn more about interactive tables.';\n",
              "          element.innerHTML = '';\n",
              "          dataTable['output_type'] = 'display_data';\n",
              "          await google.colab.output.renderOutput(dataTable, element);\n",
              "          const docLink = document.createElement('div');\n",
              "          docLink.innerHTML = docLinkHtml;\n",
              "          element.appendChild(docLink);\n",
              "        }\n",
              "      </script>\n",
              "    </div>\n",
              "  </div>\n",
              "  "
            ]
          },
          "metadata": {},
          "execution_count": 79
        }
      ]
    },
    {
      "cell_type": "code",
      "source": [
        "# One hot encoding dataframe so it's all numbers\n",
        "insurance_one_hot = pd.get_dummies(insurance)\n",
        "insurance_one_hot.head()"
      ],
      "metadata": {
        "colab": {
          "base_uri": "https://localhost:8080/",
          "height": 270
        },
        "id": "uTKj5wx2cYJ3",
        "outputId": "be479967-4178-42ea-cfe0-6f1644e65c64"
      },
      "execution_count": 81,
      "outputs": [
        {
          "output_type": "execute_result",
          "data": {
            "text/plain": [
              "   age     bmi  children      charges  sex_female  sex_male  smoker_no  \\\n",
              "0   19  27.900         0  16884.92400           1         0          0   \n",
              "1   18  33.770         1   1725.55230           0         1          1   \n",
              "2   28  33.000         3   4449.46200           0         1          1   \n",
              "3   33  22.705         0  21984.47061           0         1          1   \n",
              "4   32  28.880         0   3866.85520           0         1          1   \n",
              "\n",
              "   smoker_yes  region_northeast  region_northwest  region_southeast  \\\n",
              "0           1                 0                 0                 0   \n",
              "1           0                 0                 0                 1   \n",
              "2           0                 0                 0                 1   \n",
              "3           0                 0                 1                 0   \n",
              "4           0                 0                 1                 0   \n",
              "\n",
              "   region_southwest  \n",
              "0                 1  \n",
              "1                 0  \n",
              "2                 0  \n",
              "3                 0  \n",
              "4                 0  "
            ],
            "text/html": [
              "\n",
              "  <div id=\"df-988f45ff-aac8-42cf-a3ba-6105cdbc701f\">\n",
              "    <div class=\"colab-df-container\">\n",
              "      <div>\n",
              "<style scoped>\n",
              "    .dataframe tbody tr th:only-of-type {\n",
              "        vertical-align: middle;\n",
              "    }\n",
              "\n",
              "    .dataframe tbody tr th {\n",
              "        vertical-align: top;\n",
              "    }\n",
              "\n",
              "    .dataframe thead th {\n",
              "        text-align: right;\n",
              "    }\n",
              "</style>\n",
              "<table border=\"1\" class=\"dataframe\">\n",
              "  <thead>\n",
              "    <tr style=\"text-align: right;\">\n",
              "      <th></th>\n",
              "      <th>age</th>\n",
              "      <th>bmi</th>\n",
              "      <th>children</th>\n",
              "      <th>charges</th>\n",
              "      <th>sex_female</th>\n",
              "      <th>sex_male</th>\n",
              "      <th>smoker_no</th>\n",
              "      <th>smoker_yes</th>\n",
              "      <th>region_northeast</th>\n",
              "      <th>region_northwest</th>\n",
              "      <th>region_southeast</th>\n",
              "      <th>region_southwest</th>\n",
              "    </tr>\n",
              "  </thead>\n",
              "  <tbody>\n",
              "    <tr>\n",
              "      <th>0</th>\n",
              "      <td>19</td>\n",
              "      <td>27.900</td>\n",
              "      <td>0</td>\n",
              "      <td>16884.92400</td>\n",
              "      <td>1</td>\n",
              "      <td>0</td>\n",
              "      <td>0</td>\n",
              "      <td>1</td>\n",
              "      <td>0</td>\n",
              "      <td>0</td>\n",
              "      <td>0</td>\n",
              "      <td>1</td>\n",
              "    </tr>\n",
              "    <tr>\n",
              "      <th>1</th>\n",
              "      <td>18</td>\n",
              "      <td>33.770</td>\n",
              "      <td>1</td>\n",
              "      <td>1725.55230</td>\n",
              "      <td>0</td>\n",
              "      <td>1</td>\n",
              "      <td>1</td>\n",
              "      <td>0</td>\n",
              "      <td>0</td>\n",
              "      <td>0</td>\n",
              "      <td>1</td>\n",
              "      <td>0</td>\n",
              "    </tr>\n",
              "    <tr>\n",
              "      <th>2</th>\n",
              "      <td>28</td>\n",
              "      <td>33.000</td>\n",
              "      <td>3</td>\n",
              "      <td>4449.46200</td>\n",
              "      <td>0</td>\n",
              "      <td>1</td>\n",
              "      <td>1</td>\n",
              "      <td>0</td>\n",
              "      <td>0</td>\n",
              "      <td>0</td>\n",
              "      <td>1</td>\n",
              "      <td>0</td>\n",
              "    </tr>\n",
              "    <tr>\n",
              "      <th>3</th>\n",
              "      <td>33</td>\n",
              "      <td>22.705</td>\n",
              "      <td>0</td>\n",
              "      <td>21984.47061</td>\n",
              "      <td>0</td>\n",
              "      <td>1</td>\n",
              "      <td>1</td>\n",
              "      <td>0</td>\n",
              "      <td>0</td>\n",
              "      <td>1</td>\n",
              "      <td>0</td>\n",
              "      <td>0</td>\n",
              "    </tr>\n",
              "    <tr>\n",
              "      <th>4</th>\n",
              "      <td>32</td>\n",
              "      <td>28.880</td>\n",
              "      <td>0</td>\n",
              "      <td>3866.85520</td>\n",
              "      <td>0</td>\n",
              "      <td>1</td>\n",
              "      <td>1</td>\n",
              "      <td>0</td>\n",
              "      <td>0</td>\n",
              "      <td>1</td>\n",
              "      <td>0</td>\n",
              "      <td>0</td>\n",
              "    </tr>\n",
              "  </tbody>\n",
              "</table>\n",
              "</div>\n",
              "      <button class=\"colab-df-convert\" onclick=\"convertToInteractive('df-988f45ff-aac8-42cf-a3ba-6105cdbc701f')\"\n",
              "              title=\"Convert this dataframe to an interactive table.\"\n",
              "              style=\"display:none;\">\n",
              "        \n",
              "  <svg xmlns=\"http://www.w3.org/2000/svg\" height=\"24px\"viewBox=\"0 0 24 24\"\n",
              "       width=\"24px\">\n",
              "    <path d=\"M0 0h24v24H0V0z\" fill=\"none\"/>\n",
              "    <path d=\"M18.56 5.44l.94 2.06.94-2.06 2.06-.94-2.06-.94-.94-2.06-.94 2.06-2.06.94zm-11 1L8.5 8.5l.94-2.06 2.06-.94-2.06-.94L8.5 2.5l-.94 2.06-2.06.94zm10 10l.94 2.06.94-2.06 2.06-.94-2.06-.94-.94-2.06-.94 2.06-2.06.94z\"/><path d=\"M17.41 7.96l-1.37-1.37c-.4-.4-.92-.59-1.43-.59-.52 0-1.04.2-1.43.59L10.3 9.45l-7.72 7.72c-.78.78-.78 2.05 0 2.83L4 21.41c.39.39.9.59 1.41.59.51 0 1.02-.2 1.41-.59l7.78-7.78 2.81-2.81c.8-.78.8-2.07 0-2.86zM5.41 20L4 18.59l7.72-7.72 1.47 1.35L5.41 20z\"/>\n",
              "  </svg>\n",
              "      </button>\n",
              "      \n",
              "  <style>\n",
              "    .colab-df-container {\n",
              "      display:flex;\n",
              "      flex-wrap:wrap;\n",
              "      gap: 12px;\n",
              "    }\n",
              "\n",
              "    .colab-df-convert {\n",
              "      background-color: #E8F0FE;\n",
              "      border: none;\n",
              "      border-radius: 50%;\n",
              "      cursor: pointer;\n",
              "      display: none;\n",
              "      fill: #1967D2;\n",
              "      height: 32px;\n",
              "      padding: 0 0 0 0;\n",
              "      width: 32px;\n",
              "    }\n",
              "\n",
              "    .colab-df-convert:hover {\n",
              "      background-color: #E2EBFA;\n",
              "      box-shadow: 0px 1px 2px rgba(60, 64, 67, 0.3), 0px 1px 3px 1px rgba(60, 64, 67, 0.15);\n",
              "      fill: #174EA6;\n",
              "    }\n",
              "\n",
              "    [theme=dark] .colab-df-convert {\n",
              "      background-color: #3B4455;\n",
              "      fill: #D2E3FC;\n",
              "    }\n",
              "\n",
              "    [theme=dark] .colab-df-convert:hover {\n",
              "      background-color: #434B5C;\n",
              "      box-shadow: 0px 1px 3px 1px rgba(0, 0, 0, 0.15);\n",
              "      filter: drop-shadow(0px 1px 2px rgba(0, 0, 0, 0.3));\n",
              "      fill: #FFFFFF;\n",
              "    }\n",
              "  </style>\n",
              "\n",
              "      <script>\n",
              "        const buttonEl =\n",
              "          document.querySelector('#df-988f45ff-aac8-42cf-a3ba-6105cdbc701f button.colab-df-convert');\n",
              "        buttonEl.style.display =\n",
              "          google.colab.kernel.accessAllowed ? 'block' : 'none';\n",
              "\n",
              "        async function convertToInteractive(key) {\n",
              "          const element = document.querySelector('#df-988f45ff-aac8-42cf-a3ba-6105cdbc701f');\n",
              "          const dataTable =\n",
              "            await google.colab.kernel.invokeFunction('convertToInteractive',\n",
              "                                                     [key], {});\n",
              "          if (!dataTable) return;\n",
              "\n",
              "          const docLinkHtml = 'Like what you see? Visit the ' +\n",
              "            '<a target=\"_blank\" href=https://colab.research.google.com/notebooks/data_table.ipynb>data table notebook</a>'\n",
              "            + ' to learn more about interactive tables.';\n",
              "          element.innerHTML = '';\n",
              "          dataTable['output_type'] = 'display_data';\n",
              "          await google.colab.output.renderOutput(dataTable, element);\n",
              "          const docLink = document.createElement('div');\n",
              "          docLink.innerHTML = docLinkHtml;\n",
              "          element.appendChild(docLink);\n",
              "        }\n",
              "      </script>\n",
              "    </div>\n",
              "  </div>\n",
              "  "
            ]
          },
          "metadata": {},
          "execution_count": 81
        }
      ]
    },
    {
      "cell_type": "code",
      "source": [
        "# Creating X & y values (features and labels)\n",
        "X = insurance_one_hot.drop(\"charges\", axis=1)\n",
        "y = insurance_one_hot[\"charges\"]"
      ],
      "metadata": {
        "id": "oSegXOiu5V0s"
      },
      "execution_count": 82,
      "outputs": []
    },
    {
      "cell_type": "code",
      "source": [
        "X.head()"
      ],
      "metadata": {
        "colab": {
          "base_uri": "https://localhost:8080/",
          "height": 206
        },
        "id": "CuVxmOye9-6u",
        "outputId": "3ea81516-069e-46a1-92a1-b960168c9791"
      },
      "execution_count": 83,
      "outputs": [
        {
          "output_type": "execute_result",
          "data": {
            "text/plain": [
              "   age     bmi  children  sex_female  sex_male  smoker_no  smoker_yes  \\\n",
              "0   19  27.900         0           1         0          0           1   \n",
              "1   18  33.770         1           0         1          1           0   \n",
              "2   28  33.000         3           0         1          1           0   \n",
              "3   33  22.705         0           0         1          1           0   \n",
              "4   32  28.880         0           0         1          1           0   \n",
              "\n",
              "   region_northeast  region_northwest  region_southeast  region_southwest  \n",
              "0                 0                 0                 0                 1  \n",
              "1                 0                 0                 1                 0  \n",
              "2                 0                 0                 1                 0  \n",
              "3                 0                 1                 0                 0  \n",
              "4                 0                 1                 0                 0  "
            ],
            "text/html": [
              "\n",
              "  <div id=\"df-f79060ce-f892-47e6-8f18-42fcd74c4ed3\">\n",
              "    <div class=\"colab-df-container\">\n",
              "      <div>\n",
              "<style scoped>\n",
              "    .dataframe tbody tr th:only-of-type {\n",
              "        vertical-align: middle;\n",
              "    }\n",
              "\n",
              "    .dataframe tbody tr th {\n",
              "        vertical-align: top;\n",
              "    }\n",
              "\n",
              "    .dataframe thead th {\n",
              "        text-align: right;\n",
              "    }\n",
              "</style>\n",
              "<table border=\"1\" class=\"dataframe\">\n",
              "  <thead>\n",
              "    <tr style=\"text-align: right;\">\n",
              "      <th></th>\n",
              "      <th>age</th>\n",
              "      <th>bmi</th>\n",
              "      <th>children</th>\n",
              "      <th>sex_female</th>\n",
              "      <th>sex_male</th>\n",
              "      <th>smoker_no</th>\n",
              "      <th>smoker_yes</th>\n",
              "      <th>region_northeast</th>\n",
              "      <th>region_northwest</th>\n",
              "      <th>region_southeast</th>\n",
              "      <th>region_southwest</th>\n",
              "    </tr>\n",
              "  </thead>\n",
              "  <tbody>\n",
              "    <tr>\n",
              "      <th>0</th>\n",
              "      <td>19</td>\n",
              "      <td>27.900</td>\n",
              "      <td>0</td>\n",
              "      <td>1</td>\n",
              "      <td>0</td>\n",
              "      <td>0</td>\n",
              "      <td>1</td>\n",
              "      <td>0</td>\n",
              "      <td>0</td>\n",
              "      <td>0</td>\n",
              "      <td>1</td>\n",
              "    </tr>\n",
              "    <tr>\n",
              "      <th>1</th>\n",
              "      <td>18</td>\n",
              "      <td>33.770</td>\n",
              "      <td>1</td>\n",
              "      <td>0</td>\n",
              "      <td>1</td>\n",
              "      <td>1</td>\n",
              "      <td>0</td>\n",
              "      <td>0</td>\n",
              "      <td>0</td>\n",
              "      <td>1</td>\n",
              "      <td>0</td>\n",
              "    </tr>\n",
              "    <tr>\n",
              "      <th>2</th>\n",
              "      <td>28</td>\n",
              "      <td>33.000</td>\n",
              "      <td>3</td>\n",
              "      <td>0</td>\n",
              "      <td>1</td>\n",
              "      <td>1</td>\n",
              "      <td>0</td>\n",
              "      <td>0</td>\n",
              "      <td>0</td>\n",
              "      <td>1</td>\n",
              "      <td>0</td>\n",
              "    </tr>\n",
              "    <tr>\n",
              "      <th>3</th>\n",
              "      <td>33</td>\n",
              "      <td>22.705</td>\n",
              "      <td>0</td>\n",
              "      <td>0</td>\n",
              "      <td>1</td>\n",
              "      <td>1</td>\n",
              "      <td>0</td>\n",
              "      <td>0</td>\n",
              "      <td>1</td>\n",
              "      <td>0</td>\n",
              "      <td>0</td>\n",
              "    </tr>\n",
              "    <tr>\n",
              "      <th>4</th>\n",
              "      <td>32</td>\n",
              "      <td>28.880</td>\n",
              "      <td>0</td>\n",
              "      <td>0</td>\n",
              "      <td>1</td>\n",
              "      <td>1</td>\n",
              "      <td>0</td>\n",
              "      <td>0</td>\n",
              "      <td>1</td>\n",
              "      <td>0</td>\n",
              "      <td>0</td>\n",
              "    </tr>\n",
              "  </tbody>\n",
              "</table>\n",
              "</div>\n",
              "      <button class=\"colab-df-convert\" onclick=\"convertToInteractive('df-f79060ce-f892-47e6-8f18-42fcd74c4ed3')\"\n",
              "              title=\"Convert this dataframe to an interactive table.\"\n",
              "              style=\"display:none;\">\n",
              "        \n",
              "  <svg xmlns=\"http://www.w3.org/2000/svg\" height=\"24px\"viewBox=\"0 0 24 24\"\n",
              "       width=\"24px\">\n",
              "    <path d=\"M0 0h24v24H0V0z\" fill=\"none\"/>\n",
              "    <path d=\"M18.56 5.44l.94 2.06.94-2.06 2.06-.94-2.06-.94-.94-2.06-.94 2.06-2.06.94zm-11 1L8.5 8.5l.94-2.06 2.06-.94-2.06-.94L8.5 2.5l-.94 2.06-2.06.94zm10 10l.94 2.06.94-2.06 2.06-.94-2.06-.94-.94-2.06-.94 2.06-2.06.94z\"/><path d=\"M17.41 7.96l-1.37-1.37c-.4-.4-.92-.59-1.43-.59-.52 0-1.04.2-1.43.59L10.3 9.45l-7.72 7.72c-.78.78-.78 2.05 0 2.83L4 21.41c.39.39.9.59 1.41.59.51 0 1.02-.2 1.41-.59l7.78-7.78 2.81-2.81c.8-.78.8-2.07 0-2.86zM5.41 20L4 18.59l7.72-7.72 1.47 1.35L5.41 20z\"/>\n",
              "  </svg>\n",
              "      </button>\n",
              "      \n",
              "  <style>\n",
              "    .colab-df-container {\n",
              "      display:flex;\n",
              "      flex-wrap:wrap;\n",
              "      gap: 12px;\n",
              "    }\n",
              "\n",
              "    .colab-df-convert {\n",
              "      background-color: #E8F0FE;\n",
              "      border: none;\n",
              "      border-radius: 50%;\n",
              "      cursor: pointer;\n",
              "      display: none;\n",
              "      fill: #1967D2;\n",
              "      height: 32px;\n",
              "      padding: 0 0 0 0;\n",
              "      width: 32px;\n",
              "    }\n",
              "\n",
              "    .colab-df-convert:hover {\n",
              "      background-color: #E2EBFA;\n",
              "      box-shadow: 0px 1px 2px rgba(60, 64, 67, 0.3), 0px 1px 3px 1px rgba(60, 64, 67, 0.15);\n",
              "      fill: #174EA6;\n",
              "    }\n",
              "\n",
              "    [theme=dark] .colab-df-convert {\n",
              "      background-color: #3B4455;\n",
              "      fill: #D2E3FC;\n",
              "    }\n",
              "\n",
              "    [theme=dark] .colab-df-convert:hover {\n",
              "      background-color: #434B5C;\n",
              "      box-shadow: 0px 1px 3px 1px rgba(0, 0, 0, 0.15);\n",
              "      filter: drop-shadow(0px 1px 2px rgba(0, 0, 0, 0.3));\n",
              "      fill: #FFFFFF;\n",
              "    }\n",
              "  </style>\n",
              "\n",
              "      <script>\n",
              "        const buttonEl =\n",
              "          document.querySelector('#df-f79060ce-f892-47e6-8f18-42fcd74c4ed3 button.colab-df-convert');\n",
              "        buttonEl.style.display =\n",
              "          google.colab.kernel.accessAllowed ? 'block' : 'none';\n",
              "\n",
              "        async function convertToInteractive(key) {\n",
              "          const element = document.querySelector('#df-f79060ce-f892-47e6-8f18-42fcd74c4ed3');\n",
              "          const dataTable =\n",
              "            await google.colab.kernel.invokeFunction('convertToInteractive',\n",
              "                                                     [key], {});\n",
              "          if (!dataTable) return;\n",
              "\n",
              "          const docLinkHtml = 'Like what you see? Visit the ' +\n",
              "            '<a target=\"_blank\" href=https://colab.research.google.com/notebooks/data_table.ipynb>data table notebook</a>'\n",
              "            + ' to learn more about interactive tables.';\n",
              "          element.innerHTML = '';\n",
              "          dataTable['output_type'] = 'display_data';\n",
              "          await google.colab.output.renderOutput(dataTable, element);\n",
              "          const docLink = document.createElement('div');\n",
              "          docLink.innerHTML = docLinkHtml;\n",
              "          element.appendChild(docLink);\n",
              "        }\n",
              "      </script>\n",
              "    </div>\n",
              "  </div>\n",
              "  "
            ]
          },
          "metadata": {},
          "execution_count": 83
        }
      ]
    },
    {
      "cell_type": "code",
      "source": [
        "y.head()"
      ],
      "metadata": {
        "colab": {
          "base_uri": "https://localhost:8080/"
        },
        "id": "6sWrdWVI-AgO",
        "outputId": "dd05eae3-b2f7-4dc2-f0a0-4068ca585f86"
      },
      "execution_count": 85,
      "outputs": [
        {
          "output_type": "execute_result",
          "data": {
            "text/plain": [
              "0    16884.92400\n",
              "1     1725.55230\n",
              "2     4449.46200\n",
              "3    21984.47061\n",
              "4     3866.85520\n",
              "Name: charges, dtype: float64"
            ]
          },
          "metadata": {},
          "execution_count": 85
        }
      ]
    },
    {
      "cell_type": "code",
      "source": [
        "# Creating training and test sets\n",
        "from sklearn.model_selection import train_test_split\n",
        "X_train, X_test, y_train, y_test = train_test_split(X, y, test_size=0.2, random_state=42)\n",
        "len(X), len(X_train), len(X_test)"
      ],
      "metadata": {
        "colab": {
          "base_uri": "https://localhost:8080/"
        },
        "id": "yg0VRz73-Bqg",
        "outputId": "358184bc-5b95-47cc-e7b2-8e51bdcd6ca7"
      },
      "execution_count": 88,
      "outputs": [
        {
          "output_type": "execute_result",
          "data": {
            "text/plain": [
              "(1338, 1070, 268)"
            ]
          },
          "metadata": {},
          "execution_count": 88
        }
      ]
    },
    {
      "cell_type": "code",
      "source": [
        "# Build neural network like model_2\n",
        "tf.random.set_seed(42)\n",
        "\n",
        "# 1. Create model\n",
        "insurance_model = tf.keras.Sequential([\n",
        "    tf.keras.layers.Dense(10),\n",
        "    tf.keras.layers.Dense(1)\n",
        "])\n",
        "\n",
        "# 2. Compile model\n",
        "insurance_model.compile(loss=tf.keras.losses.mae,\n",
        "                        optimizer=tf.keras.optimizers.SGD(),\n",
        "                        metrics=[\"mae\"])\n",
        "\n",
        "# 3. Fit model\n",
        "insurance_model.fit(X_train, y_train, epochs=100)"
      ],
      "metadata": {
        "colab": {
          "base_uri": "https://localhost:8080/"
        },
        "id": "G0sgUL0H-KOI",
        "outputId": "c9616822-6943-41e2-b69a-96a736fced93"
      },
      "execution_count": 92,
      "outputs": [
        {
          "output_type": "stream",
          "name": "stdout",
          "text": [
            "Epoch 1/100\n",
            "34/34 [==============================] - 0s 2ms/step - loss: 8582.7939 - mae: 8582.7939\n",
            "Epoch 2/100\n",
            "34/34 [==============================] - 0s 1ms/step - loss: 7882.8374 - mae: 7882.8374\n",
            "Epoch 3/100\n",
            "34/34 [==============================] - 0s 1ms/step - loss: 7584.8818 - mae: 7584.8818\n",
            "Epoch 4/100\n",
            "34/34 [==============================] - 0s 1ms/step - loss: 7677.4800 - mae: 7677.4800\n",
            "Epoch 5/100\n",
            "34/34 [==============================] - 0s 1ms/step - loss: 7673.8394 - mae: 7673.8394\n",
            "Epoch 6/100\n",
            "34/34 [==============================] - 0s 1ms/step - loss: 7538.1958 - mae: 7538.1958\n",
            "Epoch 7/100\n",
            "34/34 [==============================] - 0s 1ms/step - loss: 7515.3081 - mae: 7515.3081\n",
            "Epoch 8/100\n",
            "34/34 [==============================] - 0s 1ms/step - loss: 7693.0410 - mae: 7693.0410\n",
            "Epoch 9/100\n",
            "34/34 [==============================] - 0s 1ms/step - loss: 7491.2378 - mae: 7491.2378\n",
            "Epoch 10/100\n",
            "34/34 [==============================] - 0s 1ms/step - loss: 7684.4653 - mae: 7684.4653\n",
            "Epoch 11/100\n",
            "34/34 [==============================] - 0s 1ms/step - loss: 7586.4888 - mae: 7586.4888\n",
            "Epoch 12/100\n",
            "34/34 [==============================] - 0s 1ms/step - loss: 7562.9004 - mae: 7562.9004\n",
            "Epoch 13/100\n",
            "34/34 [==============================] - 0s 1ms/step - loss: 7719.4116 - mae: 7719.4116\n",
            "Epoch 14/100\n",
            "34/34 [==============================] - 0s 1ms/step - loss: 7721.3628 - mae: 7721.3628\n",
            "Epoch 15/100\n",
            "34/34 [==============================] - 0s 1ms/step - loss: 7547.3530 - mae: 7547.3530\n",
            "Epoch 16/100\n",
            "34/34 [==============================] - 0s 1ms/step - loss: 7698.5317 - mae: 7698.5317\n",
            "Epoch 17/100\n",
            "34/34 [==============================] - 0s 1ms/step - loss: 7493.5200 - mae: 7493.5200\n",
            "Epoch 18/100\n",
            "34/34 [==============================] - 0s 1ms/step - loss: 7834.4692 - mae: 7834.4692\n",
            "Epoch 19/100\n",
            "34/34 [==============================] - 0s 1ms/step - loss: 7497.8730 - mae: 7497.8730\n",
            "Epoch 20/100\n",
            "34/34 [==============================] - 0s 1ms/step - loss: 7894.1104 - mae: 7894.1104\n",
            "Epoch 21/100\n",
            "34/34 [==============================] - 0s 1ms/step - loss: 7526.5137 - mae: 7526.5137\n",
            "Epoch 22/100\n",
            "34/34 [==============================] - 0s 1ms/step - loss: 7873.8599 - mae: 7873.8599\n",
            "Epoch 23/100\n",
            "34/34 [==============================] - 0s 1ms/step - loss: 7632.6528 - mae: 7632.6528\n",
            "Epoch 24/100\n",
            "34/34 [==============================] - 0s 1ms/step - loss: 7509.5723 - mae: 7509.5723\n",
            "Epoch 25/100\n",
            "34/34 [==============================] - 0s 1ms/step - loss: 7527.9004 - mae: 7527.9004\n",
            "Epoch 26/100\n",
            "34/34 [==============================] - 0s 1ms/step - loss: 7635.8687 - mae: 7635.8687\n",
            "Epoch 27/100\n",
            "34/34 [==============================] - 0s 1ms/step - loss: 7713.8970 - mae: 7713.8970\n",
            "Epoch 28/100\n",
            "34/34 [==============================] - 0s 1ms/step - loss: 7365.3340 - mae: 7365.3340\n",
            "Epoch 29/100\n",
            "34/34 [==============================] - 0s 1ms/step - loss: 7669.9370 - mae: 7669.9370\n",
            "Epoch 30/100\n",
            "34/34 [==============================] - 0s 1ms/step - loss: 7491.6797 - mae: 7491.6797\n",
            "Epoch 31/100\n",
            "34/34 [==============================] - 0s 1ms/step - loss: 7563.4482 - mae: 7563.4482\n",
            "Epoch 32/100\n",
            "34/34 [==============================] - 0s 1ms/step - loss: 7459.1221 - mae: 7459.1221\n",
            "Epoch 33/100\n",
            "34/34 [==============================] - 0s 1ms/step - loss: 7594.6724 - mae: 7594.6724\n",
            "Epoch 34/100\n",
            "34/34 [==============================] - 0s 1ms/step - loss: 7407.6196 - mae: 7407.6196\n",
            "Epoch 35/100\n",
            "34/34 [==============================] - 0s 2ms/step - loss: 7545.9038 - mae: 7545.9038\n",
            "Epoch 36/100\n",
            "34/34 [==============================] - 0s 1ms/step - loss: 7609.5537 - mae: 7609.5537\n",
            "Epoch 37/100\n",
            "34/34 [==============================] - 0s 1ms/step - loss: 7670.6523 - mae: 7670.6523\n",
            "Epoch 38/100\n",
            "34/34 [==============================] - 0s 1ms/step - loss: 7367.2295 - mae: 7367.2295\n",
            "Epoch 39/100\n",
            "34/34 [==============================] - 0s 1ms/step - loss: 7534.7954 - mae: 7534.7954\n",
            "Epoch 40/100\n",
            "34/34 [==============================] - 0s 1ms/step - loss: 7430.3921 - mae: 7430.3921\n",
            "Epoch 41/100\n",
            "34/34 [==============================] - 0s 1ms/step - loss: 7675.0972 - mae: 7675.0972\n",
            "Epoch 42/100\n",
            "34/34 [==============================] - 0s 1ms/step - loss: 7843.2354 - mae: 7843.2354\n",
            "Epoch 43/100\n",
            "34/34 [==============================] - 0s 1ms/step - loss: 7721.1909 - mae: 7721.1909\n",
            "Epoch 44/100\n",
            "34/34 [==============================] - 0s 1ms/step - loss: 7506.3740 - mae: 7506.3740\n",
            "Epoch 45/100\n",
            "34/34 [==============================] - 0s 1ms/step - loss: 7470.8853 - mae: 7470.8853\n",
            "Epoch 46/100\n",
            "34/34 [==============================] - 0s 1ms/step - loss: 7536.0469 - mae: 7536.0469\n",
            "Epoch 47/100\n",
            "34/34 [==============================] - 0s 1ms/step - loss: 7487.0938 - mae: 7487.0938\n",
            "Epoch 48/100\n",
            "34/34 [==============================] - 0s 1ms/step - loss: 7486.3975 - mae: 7486.3975\n",
            "Epoch 49/100\n",
            "34/34 [==============================] - 0s 1ms/step - loss: 7535.5400 - mae: 7535.5400\n",
            "Epoch 50/100\n",
            "34/34 [==============================] - 0s 1ms/step - loss: 7490.6069 - mae: 7490.6069\n",
            "Epoch 51/100\n",
            "34/34 [==============================] - 0s 1ms/step - loss: 7419.4966 - mae: 7419.4966\n",
            "Epoch 52/100\n",
            "34/34 [==============================] - 0s 1ms/step - loss: 7381.3389 - mae: 7381.3389\n",
            "Epoch 53/100\n",
            "34/34 [==============================] - 0s 1ms/step - loss: 7431.2485 - mae: 7431.2485\n",
            "Epoch 54/100\n",
            "34/34 [==============================] - 0s 1ms/step - loss: 7087.2563 - mae: 7087.2563\n",
            "Epoch 55/100\n",
            "34/34 [==============================] - 0s 1ms/step - loss: 7140.6792 - mae: 7140.6792\n",
            "Epoch 56/100\n",
            "34/34 [==============================] - 0s 1ms/step - loss: 7460.0215 - mae: 7460.0215\n",
            "Epoch 57/100\n",
            "34/34 [==============================] - 0s 1ms/step - loss: 7478.0161 - mae: 7478.0161\n",
            "Epoch 58/100\n",
            "34/34 [==============================] - 0s 1ms/step - loss: 7512.5127 - mae: 7512.5127\n",
            "Epoch 59/100\n",
            "34/34 [==============================] - 0s 1ms/step - loss: 7537.6812 - mae: 7537.6812\n",
            "Epoch 60/100\n",
            "34/34 [==============================] - 0s 1ms/step - loss: 7442.8755 - mae: 7442.8755\n",
            "Epoch 61/100\n",
            "34/34 [==============================] - 0s 1ms/step - loss: 7402.4341 - mae: 7402.4341\n",
            "Epoch 62/100\n",
            "34/34 [==============================] - 0s 1ms/step - loss: 7463.9624 - mae: 7463.9624\n",
            "Epoch 63/100\n",
            "34/34 [==============================] - 0s 1ms/step - loss: 7358.5454 - mae: 7358.5454\n",
            "Epoch 64/100\n",
            "34/34 [==============================] - 0s 1ms/step - loss: 7309.6895 - mae: 7309.6895\n",
            "Epoch 65/100\n",
            "34/34 [==============================] - 0s 1ms/step - loss: 7345.5596 - mae: 7345.5596\n",
            "Epoch 66/100\n",
            "34/34 [==============================] - 0s 1ms/step - loss: 7154.0859 - mae: 7154.0859\n",
            "Epoch 67/100\n",
            "34/34 [==============================] - 0s 1ms/step - loss: 7285.4287 - mae: 7285.4287\n",
            "Epoch 68/100\n",
            "34/34 [==============================] - 0s 1ms/step - loss: 7493.2446 - mae: 7493.2446\n",
            "Epoch 69/100\n",
            "34/34 [==============================] - 0s 1ms/step - loss: 7550.6650 - mae: 7550.6650\n",
            "Epoch 70/100\n",
            "34/34 [==============================] - 0s 2ms/step - loss: 7675.5288 - mae: 7675.5288\n",
            "Epoch 71/100\n",
            "34/34 [==============================] - 0s 1ms/step - loss: 7321.8853 - mae: 7321.8853\n",
            "Epoch 72/100\n",
            "34/34 [==============================] - 0s 1ms/step - loss: 7215.8691 - mae: 7215.8691\n",
            "Epoch 73/100\n",
            "34/34 [==============================] - 0s 1ms/step - loss: 7409.6055 - mae: 7409.6055\n",
            "Epoch 74/100\n",
            "34/34 [==============================] - 0s 1ms/step - loss: 7280.5723 - mae: 7280.5723\n",
            "Epoch 75/100\n",
            "34/34 [==============================] - 0s 1ms/step - loss: 7248.1318 - mae: 7248.1318\n",
            "Epoch 76/100\n",
            "34/34 [==============================] - 0s 1ms/step - loss: 7369.8130 - mae: 7369.8130\n",
            "Epoch 77/100\n",
            "34/34 [==============================] - 0s 1ms/step - loss: 7442.2012 - mae: 7442.2012\n",
            "Epoch 78/100\n",
            "34/34 [==============================] - 0s 1ms/step - loss: 7202.6626 - mae: 7202.6626\n",
            "Epoch 79/100\n",
            "34/34 [==============================] - 0s 1ms/step - loss: 7631.4565 - mae: 7631.4565\n",
            "Epoch 80/100\n",
            "34/34 [==============================] - 0s 1ms/step - loss: 7352.8281 - mae: 7352.8281\n",
            "Epoch 81/100\n",
            "34/34 [==============================] - 0s 1ms/step - loss: 7265.5054 - mae: 7265.5054\n",
            "Epoch 82/100\n",
            "34/34 [==============================] - 0s 1ms/step - loss: 7223.6904 - mae: 7223.6904\n",
            "Epoch 83/100\n",
            "34/34 [==============================] - 0s 1ms/step - loss: 6915.7417 - mae: 6915.7417\n",
            "Epoch 84/100\n",
            "34/34 [==============================] - 0s 1ms/step - loss: 7289.6860 - mae: 7289.6860\n",
            "Epoch 85/100\n",
            "34/34 [==============================] - 0s 1ms/step - loss: 7554.9370 - mae: 7554.9370\n",
            "Epoch 86/100\n",
            "34/34 [==============================] - 0s 1ms/step - loss: 7534.9668 - mae: 7534.9668\n",
            "Epoch 87/100\n",
            "34/34 [==============================] - 0s 2ms/step - loss: 7294.0571 - mae: 7294.0571\n",
            "Epoch 88/100\n",
            "34/34 [==============================] - 0s 1ms/step - loss: 7244.8999 - mae: 7244.8999\n",
            "Epoch 89/100\n",
            "34/34 [==============================] - 0s 1ms/step - loss: 7431.5815 - mae: 7431.5815\n",
            "Epoch 90/100\n",
            "34/34 [==============================] - 0s 1ms/step - loss: 7217.5337 - mae: 7217.5337\n",
            "Epoch 91/100\n",
            "34/34 [==============================] - 0s 1ms/step - loss: 7258.8379 - mae: 7258.8379\n",
            "Epoch 92/100\n",
            "34/34 [==============================] - 0s 1ms/step - loss: 7254.6504 - mae: 7254.6504\n",
            "Epoch 93/100\n",
            "34/34 [==============================] - 0s 1ms/step - loss: 7523.8521 - mae: 7523.8521\n",
            "Epoch 94/100\n",
            "34/34 [==============================] - 0s 1ms/step - loss: 7193.7812 - mae: 7193.7812\n",
            "Epoch 95/100\n",
            "34/34 [==============================] - 0s 1ms/step - loss: 7521.9590 - mae: 7521.9590\n",
            "Epoch 96/100\n",
            "34/34 [==============================] - 0s 1ms/step - loss: 7192.3511 - mae: 7192.3511\n",
            "Epoch 97/100\n",
            "34/34 [==============================] - 0s 1ms/step - loss: 7174.1348 - mae: 7174.1348\n",
            "Epoch 98/100\n",
            "34/34 [==============================] - 0s 1ms/step - loss: 7461.5601 - mae: 7461.5601\n",
            "Epoch 99/100\n",
            "34/34 [==============================] - 0s 1ms/step - loss: 7300.4609 - mae: 7300.4609\n",
            "Epoch 100/100\n",
            "34/34 [==============================] - 0s 1ms/step - loss: 7440.1406 - mae: 7440.1406\n"
          ]
        },
        {
          "output_type": "execute_result",
          "data": {
            "text/plain": [
              "<keras.callbacks.History at 0x7f0554b943a0>"
            ]
          },
          "metadata": {},
          "execution_count": 92
        }
      ]
    },
    {
      "cell_type": "code",
      "source": [
        " insurance_model.evaluate(X_test, y_test)"
      ],
      "metadata": {
        "colab": {
          "base_uri": "https://localhost:8080/"
        },
        "id": "0ecCExLQDfJY",
        "outputId": "d78e5759-b496-4845-c466-e5474f567a63"
      },
      "execution_count": 93,
      "outputs": [
        {
          "output_type": "stream",
          "name": "stdout",
          "text": [
            "9/9 [==============================] - 0s 1ms/step - loss: 8718.5215 - mae: 8718.5215\n"
          ]
        },
        {
          "output_type": "execute_result",
          "data": {
            "text/plain": [
              "[8718.521484375, 8718.521484375]"
            ]
          },
          "metadata": {},
          "execution_count": 93
        }
      ]
    },
    {
      "cell_type": "code",
      "source": [
        "y_train.median(), y_train.mean()"
      ],
      "metadata": {
        "colab": {
          "base_uri": "https://localhost:8080/"
        },
        "id": "ZbpyGa6nEzC3",
        "outputId": "870763f5-12b6-49b8-bb64-db5136de10b9"
      },
      "execution_count": 95,
      "outputs": [
        {
          "output_type": "execute_result",
          "data": {
            "text/plain": [
              "(9575.4421, 13346.089736364485)"
            ]
          },
          "metadata": {},
          "execution_count": 95
        }
      ]
    },
    {
      "cell_type": "markdown",
      "source": [
        "### Improving the Model\n",
        "\n",
        "1. Add extra layer w/ more hidden units and used Adam optimizer\n",
        "2. Train for longer\n",
        "\n"
      ],
      "metadata": {
        "id": "QGi3YZ6BE1Pl"
      }
    },
    {
      "cell_type": "code",
      "source": [
        "# Set random seed\n",
        "tf.random.set_seed(42)\n",
        "\n",
        "# 1. Create model w/ more layers\n",
        "insurance_model_2 = tf.keras.Sequential([\n",
        "    tf.keras.layers.Dense(100),\n",
        "    tf.keras.layers.Dense(10),\n",
        "    tf.keras.layers.Dense(1)\n",
        "])\n",
        "\n",
        "# 2. Compile model\n",
        "insurance_model_2.compile(loss=tf.keras.losses.mae,\n",
        "                          optimizer=tf.keras.optimizers.Adam(),\n",
        "                          metrics=[\"mae\"])\n",
        "\n",
        "# 3. Fit model\n",
        "insurance_model_2.fit(X_train, y_train, epochs=100, verbose=1)"
      ],
      "metadata": {
        "colab": {
          "base_uri": "https://localhost:8080/"
        },
        "id": "c81n2r9eFdYU",
        "outputId": "14cd4992-faad-444e-f426-45ac72ab01ca"
      },
      "execution_count": 108,
      "outputs": [
        {
          "output_type": "stream",
          "name": "stdout",
          "text": [
            "Epoch 1/100\n",
            "34/34 [==============================] - 1s 1ms/step - loss: 13321.3750 - mae: 13321.3750\n",
            "Epoch 2/100\n",
            "34/34 [==============================] - 0s 1ms/step - loss: 13218.6592 - mae: 13218.6592\n",
            "Epoch 3/100\n",
            "34/34 [==============================] - 0s 1ms/step - loss: 12973.8027 - mae: 12973.8027\n",
            "Epoch 4/100\n",
            "34/34 [==============================] - 0s 1ms/step - loss: 12453.0342 - mae: 12453.0342\n",
            "Epoch 5/100\n",
            "34/34 [==============================] - 0s 1ms/step - loss: 11505.9795 - mae: 11505.9795\n",
            "Epoch 6/100\n",
            "34/34 [==============================] - 0s 1ms/step - loss: 10122.0566 - mae: 10122.0566\n",
            "Epoch 7/100\n",
            "34/34 [==============================] - 0s 1ms/step - loss: 8643.8438 - mae: 8643.8438\n",
            "Epoch 8/100\n",
            "34/34 [==============================] - 0s 1ms/step - loss: 7681.3750 - mae: 7681.3750\n",
            "Epoch 9/100\n",
            "34/34 [==============================] - 0s 1ms/step - loss: 7448.4707 - mae: 7448.4707\n",
            "Epoch 10/100\n",
            "34/34 [==============================] - 0s 1ms/step - loss: 7421.3755 - mae: 7421.3755\n",
            "Epoch 11/100\n",
            "34/34 [==============================] - 0s 1ms/step - loss: 7402.9531 - mae: 7402.9531\n",
            "Epoch 12/100\n",
            "34/34 [==============================] - 0s 1ms/step - loss: 7381.9692 - mae: 7381.9692\n",
            "Epoch 13/100\n",
            "34/34 [==============================] - 0s 1ms/step - loss: 7362.3188 - mae: 7362.3188\n",
            "Epoch 14/100\n",
            "34/34 [==============================] - 0s 1ms/step - loss: 7340.8989 - mae: 7340.8989\n",
            "Epoch 15/100\n",
            "34/34 [==============================] - 0s 1ms/step - loss: 7322.5679 - mae: 7322.5679\n",
            "Epoch 16/100\n",
            "34/34 [==============================] - 0s 1ms/step - loss: 7300.8691 - mae: 7300.8691\n",
            "Epoch 17/100\n",
            "34/34 [==============================] - 0s 1ms/step - loss: 7281.6729 - mae: 7281.6729\n",
            "Epoch 18/100\n",
            "34/34 [==============================] - 0s 1ms/step - loss: 7259.5156 - mae: 7259.5156\n",
            "Epoch 19/100\n",
            "34/34 [==============================] - 0s 1ms/step - loss: 7238.1562 - mae: 7238.1562\n",
            "Epoch 20/100\n",
            "34/34 [==============================] - 0s 1ms/step - loss: 7216.0981 - mae: 7216.0981\n",
            "Epoch 21/100\n",
            "34/34 [==============================] - 0s 1ms/step - loss: 7197.6431 - mae: 7197.6431\n",
            "Epoch 22/100\n",
            "34/34 [==============================] - 0s 2ms/step - loss: 7172.0684 - mae: 7172.0684\n",
            "Epoch 23/100\n",
            "34/34 [==============================] - 0s 1ms/step - loss: 7148.4556 - mae: 7148.4556\n",
            "Epoch 24/100\n",
            "34/34 [==============================] - 0s 2ms/step - loss: 7125.1724 - mae: 7125.1724\n",
            "Epoch 25/100\n",
            "34/34 [==============================] - 0s 1ms/step - loss: 7108.1509 - mae: 7108.1509\n",
            "Epoch 26/100\n",
            "34/34 [==============================] - 0s 1ms/step - loss: 7078.2036 - mae: 7078.2036\n",
            "Epoch 27/100\n",
            "34/34 [==============================] - 0s 2ms/step - loss: 7051.0161 - mae: 7051.0161\n",
            "Epoch 28/100\n",
            "34/34 [==============================] - 0s 1ms/step - loss: 7024.6099 - mae: 7024.6099\n",
            "Epoch 29/100\n",
            "34/34 [==============================] - 0s 1ms/step - loss: 6998.2178 - mae: 6998.2178\n",
            "Epoch 30/100\n",
            "34/34 [==============================] - 0s 1ms/step - loss: 6972.7256 - mae: 6972.7256\n",
            "Epoch 31/100\n",
            "34/34 [==============================] - 0s 1ms/step - loss: 6943.2241 - mae: 6943.2241\n",
            "Epoch 32/100\n",
            "34/34 [==============================] - 0s 1ms/step - loss: 6917.1846 - mae: 6917.1846\n",
            "Epoch 33/100\n",
            "34/34 [==============================] - 0s 1ms/step - loss: 6887.6318 - mae: 6887.6318\n",
            "Epoch 34/100\n",
            "34/34 [==============================] - 0s 1ms/step - loss: 6857.1074 - mae: 6857.1074\n",
            "Epoch 35/100\n",
            "34/34 [==============================] - 0s 1ms/step - loss: 6826.3682 - mae: 6826.3682\n",
            "Epoch 36/100\n",
            "34/34 [==============================] - 0s 1ms/step - loss: 6794.2285 - mae: 6794.2285\n",
            "Epoch 37/100\n",
            "34/34 [==============================] - 0s 1ms/step - loss: 6760.7451 - mae: 6760.7451\n",
            "Epoch 38/100\n",
            "34/34 [==============================] - 0s 1ms/step - loss: 6729.5498 - mae: 6729.5498\n",
            "Epoch 39/100\n",
            "34/34 [==============================] - 0s 1ms/step - loss: 6692.8530 - mae: 6692.8530\n",
            "Epoch 40/100\n",
            "34/34 [==============================] - 0s 1ms/step - loss: 6658.7983 - mae: 6658.7983\n",
            "Epoch 41/100\n",
            "34/34 [==============================] - 0s 2ms/step - loss: 6626.0654 - mae: 6626.0654\n",
            "Epoch 42/100\n",
            "34/34 [==============================] - 0s 2ms/step - loss: 6596.1123 - mae: 6596.1123\n",
            "Epoch 43/100\n",
            "34/34 [==============================] - 0s 2ms/step - loss: 6564.6602 - mae: 6564.6602\n",
            "Epoch 44/100\n",
            "34/34 [==============================] - 0s 2ms/step - loss: 6538.3003 - mae: 6538.3003\n",
            "Epoch 45/100\n",
            "34/34 [==============================] - 0s 2ms/step - loss: 6518.3862 - mae: 6518.3862\n",
            "Epoch 46/100\n",
            "34/34 [==============================] - 0s 2ms/step - loss: 6498.9321 - mae: 6498.9321\n",
            "Epoch 47/100\n",
            "34/34 [==============================] - 0s 2ms/step - loss: 6482.1963 - mae: 6482.1963\n",
            "Epoch 48/100\n",
            "34/34 [==============================] - 0s 2ms/step - loss: 6465.9741 - mae: 6465.9741\n",
            "Epoch 49/100\n",
            "34/34 [==============================] - 0s 2ms/step - loss: 6452.7998 - mae: 6452.7998\n",
            "Epoch 50/100\n",
            "34/34 [==============================] - 0s 2ms/step - loss: 6439.2949 - mae: 6439.2949\n",
            "Epoch 51/100\n",
            "34/34 [==============================] - 0s 2ms/step - loss: 6426.3047 - mae: 6426.3047\n",
            "Epoch 52/100\n",
            "34/34 [==============================] - 0s 2ms/step - loss: 6415.7524 - mae: 6415.7524\n",
            "Epoch 53/100\n",
            "34/34 [==============================] - 0s 2ms/step - loss: 6401.7363 - mae: 6401.7363\n",
            "Epoch 54/100\n",
            "34/34 [==============================] - 0s 2ms/step - loss: 6389.1631 - mae: 6389.1631\n",
            "Epoch 55/100\n",
            "34/34 [==============================] - 0s 2ms/step - loss: 6376.1157 - mae: 6376.1157\n",
            "Epoch 56/100\n",
            "34/34 [==============================] - 0s 2ms/step - loss: 6362.8403 - mae: 6362.8403\n",
            "Epoch 57/100\n",
            "34/34 [==============================] - 0s 2ms/step - loss: 6351.2925 - mae: 6351.2925\n",
            "Epoch 58/100\n",
            "34/34 [==============================] - 0s 2ms/step - loss: 6337.2900 - mae: 6337.2900\n",
            "Epoch 59/100\n",
            "34/34 [==============================] - 0s 2ms/step - loss: 6324.0918 - mae: 6324.0918\n",
            "Epoch 60/100\n",
            "34/34 [==============================] - 0s 2ms/step - loss: 6314.3496 - mae: 6314.3496\n",
            "Epoch 61/100\n",
            "34/34 [==============================] - 0s 2ms/step - loss: 6296.9365 - mae: 6296.9365\n",
            "Epoch 62/100\n",
            "34/34 [==============================] - 0s 2ms/step - loss: 6283.6191 - mae: 6283.6191\n",
            "Epoch 63/100\n",
            "34/34 [==============================] - 0s 2ms/step - loss: 6268.2686 - mae: 6268.2686\n",
            "Epoch 64/100\n",
            "34/34 [==============================] - 0s 2ms/step - loss: 6253.8838 - mae: 6253.8838\n",
            "Epoch 65/100\n",
            "34/34 [==============================] - 0s 2ms/step - loss: 6237.4663 - mae: 6237.4663\n",
            "Epoch 66/100\n",
            "34/34 [==============================] - 0s 2ms/step - loss: 6222.3135 - mae: 6222.3135\n",
            "Epoch 67/100\n",
            "34/34 [==============================] - 0s 2ms/step - loss: 6210.3584 - mae: 6210.3584\n",
            "Epoch 68/100\n",
            "34/34 [==============================] - 0s 2ms/step - loss: 6190.7227 - mae: 6190.7227\n",
            "Epoch 69/100\n",
            "34/34 [==============================] - 0s 2ms/step - loss: 6175.9453 - mae: 6175.9453\n",
            "Epoch 70/100\n",
            "34/34 [==============================] - 0s 2ms/step - loss: 6157.1626 - mae: 6157.1626\n",
            "Epoch 71/100\n",
            "34/34 [==============================] - 0s 2ms/step - loss: 6139.1299 - mae: 6139.1299\n",
            "Epoch 72/100\n",
            "34/34 [==============================] - 0s 1ms/step - loss: 6122.5684 - mae: 6122.5684\n",
            "Epoch 73/100\n",
            "34/34 [==============================] - 0s 1ms/step - loss: 6109.0107 - mae: 6109.0107\n",
            "Epoch 74/100\n",
            "34/34 [==============================] - 0s 1ms/step - loss: 6084.7847 - mae: 6084.7847\n",
            "Epoch 75/100\n",
            "34/34 [==============================] - 0s 1ms/step - loss: 6065.9878 - mae: 6065.9878\n",
            "Epoch 76/100\n",
            "34/34 [==============================] - 0s 1ms/step - loss: 6055.1318 - mae: 6055.1318\n",
            "Epoch 77/100\n",
            "34/34 [==============================] - 0s 1ms/step - loss: 6023.8242 - mae: 6023.8242\n",
            "Epoch 78/100\n",
            "34/34 [==============================] - 0s 1ms/step - loss: 6003.9351 - mae: 6003.9351\n",
            "Epoch 79/100\n",
            "34/34 [==============================] - 0s 1ms/step - loss: 5981.9868 - mae: 5981.9868\n",
            "Epoch 80/100\n",
            "34/34 [==============================] - 0s 1ms/step - loss: 5958.7661 - mae: 5958.7661\n",
            "Epoch 81/100\n",
            "34/34 [==============================] - 0s 1ms/step - loss: 5936.2158 - mae: 5936.2158\n",
            "Epoch 82/100\n",
            "34/34 [==============================] - 0s 1ms/step - loss: 5913.6089 - mae: 5913.6089\n",
            "Epoch 83/100\n",
            "34/34 [==============================] - 0s 1ms/step - loss: 5887.8359 - mae: 5887.8359\n",
            "Epoch 84/100\n",
            "34/34 [==============================] - 0s 1ms/step - loss: 5857.4873 - mae: 5857.4873\n",
            "Epoch 85/100\n",
            "34/34 [==============================] - 0s 2ms/step - loss: 5836.8462 - mae: 5836.8462\n",
            "Epoch 86/100\n",
            "34/34 [==============================] - 0s 1ms/step - loss: 5804.9697 - mae: 5804.9697\n",
            "Epoch 87/100\n",
            "34/34 [==============================] - 0s 1ms/step - loss: 5773.9917 - mae: 5773.9917\n",
            "Epoch 88/100\n",
            "34/34 [==============================] - 0s 1ms/step - loss: 5747.2378 - mae: 5747.2378\n",
            "Epoch 89/100\n",
            "34/34 [==============================] - 0s 1ms/step - loss: 5712.0913 - mae: 5712.0913\n",
            "Epoch 90/100\n",
            "34/34 [==============================] - 0s 1ms/step - loss: 5677.4990 - mae: 5677.4990\n",
            "Epoch 91/100\n",
            "34/34 [==============================] - 0s 2ms/step - loss: 5648.6172 - mae: 5648.6172\n",
            "Epoch 92/100\n",
            "34/34 [==============================] - 0s 1ms/step - loss: 5604.5381 - mae: 5604.5381\n",
            "Epoch 93/100\n",
            "34/34 [==============================] - 0s 1ms/step - loss: 5570.7793 - mae: 5570.7793\n",
            "Epoch 94/100\n",
            "34/34 [==============================] - 0s 1ms/step - loss: 5538.5068 - mae: 5538.5068\n",
            "Epoch 95/100\n",
            "34/34 [==============================] - 0s 1ms/step - loss: 5488.9663 - mae: 5488.9663\n",
            "Epoch 96/100\n",
            "34/34 [==============================] - 0s 1ms/step - loss: 5451.6841 - mae: 5451.6841\n",
            "Epoch 97/100\n",
            "34/34 [==============================] - 0s 1ms/step - loss: 5403.4561 - mae: 5403.4561\n",
            "Epoch 98/100\n",
            "34/34 [==============================] - 0s 1ms/step - loss: 5353.3960 - mae: 5353.3960\n",
            "Epoch 99/100\n",
            "34/34 [==============================] - 0s 1ms/step - loss: 5304.7861 - mae: 5304.7861\n",
            "Epoch 100/100\n",
            "34/34 [==============================] - 0s 2ms/step - loss: 5256.9302 - mae: 5256.9302\n"
          ]
        },
        {
          "output_type": "execute_result",
          "data": {
            "text/plain": [
              "<keras.callbacks.History at 0x7f0540888ac0>"
            ]
          },
          "metadata": {},
          "execution_count": 108
        }
      ]
    },
    {
      "cell_type": "code",
      "source": [
        "# Evaluate model2\n",
        "insurance_model_2.evaluate(X_test, y_test)"
      ],
      "metadata": {
        "colab": {
          "base_uri": "https://localhost:8080/"
        },
        "id": "04OVfctRGKLf",
        "outputId": "6c0a4762-feeb-42e8-80dc-ab784c03aeb5"
      },
      "execution_count": 109,
      "outputs": [
        {
          "output_type": "stream",
          "name": "stdout",
          "text": [
            "9/9 [==============================] - 0s 2ms/step - loss: 5122.6821 - mae: 5122.6821\n"
          ]
        },
        {
          "output_type": "execute_result",
          "data": {
            "text/plain": [
              "[5122.68212890625, 5122.68212890625]"
            ]
          },
          "metadata": {},
          "execution_count": 109
        }
      ]
    },
    {
      "cell_type": "code",
      "source": [
        "# Set random seed\n",
        "tf.random.set_seed(42)\n",
        "\n",
        "# 1. Create model\n",
        "insurance_model_3 = tf.keras.Sequential([\n",
        "    tf.keras.layers.Dense(100),\n",
        "    tf.keras.layers.Dense(10),\n",
        "    tf.keras.layers.Dense(1)\n",
        "])\n",
        "\n",
        "# 2. Compile model\n",
        "insurance_model_3.compile(loss=tf.keras.losses.mae,\n",
        "                          optimizer=tf.keras.optimizers.Adam(),\n",
        "                          metrics=[\"mae\"])\n",
        "\n",
        "# 3. Fit model\n",
        "history = insurance_model_3.fit(X_test, y_test, epochs=500, verbose=0)"
      ],
      "metadata": {
        "id": "gUA4oZnEG4wG"
      },
      "execution_count": 124,
      "outputs": []
    },
    {
      "cell_type": "code",
      "source": [
        "insurance_model_3.evaluate(X_test, y_test)"
      ],
      "metadata": {
        "colab": {
          "base_uri": "https://localhost:8080/"
        },
        "id": "k7Dw1x0PKfPg",
        "outputId": "22f017e8-1c53-41cc-cd35-529e5aaddffe"
      },
      "execution_count": 125,
      "outputs": [
        {
          "output_type": "stream",
          "name": "stdout",
          "text": [
            "9/9 [==============================] - 0s 2ms/step - loss: 3598.4863 - mae: 3598.4863\n"
          ]
        },
        {
          "output_type": "execute_result",
          "data": {
            "text/plain": [
              "[3598.486328125, 3598.486328125]"
            ]
          },
          "metadata": {},
          "execution_count": 125
        }
      ]
    },
    {
      "cell_type": "code",
      "source": [
        "insurance_model.evaluate(X_test, y_test)"
      ],
      "metadata": {
        "colab": {
          "base_uri": "https://localhost:8080/"
        },
        "id": "sYIQ2C3TLOeU",
        "outputId": "7ab2fa74-6e4b-4cbb-a1c8-ab1e59ca2acb"
      },
      "execution_count": 126,
      "outputs": [
        {
          "output_type": "stream",
          "name": "stdout",
          "text": [
            "9/9 [==============================] - 0s 3ms/step - loss: 8718.5215 - mae: 8718.5215\n"
          ]
        },
        {
          "output_type": "execute_result",
          "data": {
            "text/plain": [
              "[8718.521484375, 8718.521484375]"
            ]
          },
          "metadata": {},
          "execution_count": 126
        }
      ]
    },
    {
      "cell_type": "code",
      "source": [
        "# Plot history (also known as loss curve or training curve)\n",
        "pd.DataFrame(history.history).plot()\n",
        "plt.ylabel(\"loss\")\n",
        "plt.xlabel(\"epochs\")"
      ],
      "metadata": {
        "colab": {
          "base_uri": "https://localhost:8080/",
          "height": 466
        },
        "id": "irttXt2zNDhe",
        "outputId": "5a2dbdef-563b-4d68-ad65-5557c12acefd"
      },
      "execution_count": 127,
      "outputs": [
        {
          "output_type": "execute_result",
          "data": {
            "text/plain": [
              "Text(0.5, 0, 'epochs')"
            ]
          },
          "metadata": {},
          "execution_count": 127
        },
        {
          "output_type": "display_data",
          "data": {
            "text/plain": [
              "<Figure size 640x480 with 1 Axes>"
            ],
            "image/png": "[encoded data removed]"
          },
          "metadata": {}
        }
      ]
    },
    {
      "cell_type": "markdown",
      "source": [
        "## Preprocessing data (normalization and standardization)\n",
        "\n",
        "In terms or scalaing values, neural networks tend to prefer normalization\n",
        "\n",
        "try both and see which performs better"
      ],
      "metadata": {
        "id": "aw02CLtkNTj-"
      }
    },
    {
      "cell_type": "code",
      "source": [
        "import pandas as pd\n",
        "import matplotlib.pyplot as plt\n",
        "import tensorflow as tf\n",
        "\n",
        "# Read in insurance dataframe\n",
        "insurance = pd.read_csv(\"https://raw.githubusercontent.com/stedy/Machine-Learning-with-R-datasets/master/insurance.csv\")\n",
        "insurance\n"
      ],
      "metadata": {
        "colab": {
          "base_uri": "https://localhost:8080/",
          "height": 423
        },
        "id": "q6uB8wGuQz8x",
        "outputId": "a033187a-f4c7-40dd-d231-a567ab07e182"
      },
      "execution_count": 134,
      "outputs": [
        {
          "output_type": "execute_result",
          "data": {
            "text/plain": [
              "      age     sex     bmi  children smoker     region      charges\n",
              "0      19  female  27.900         0    yes  southwest  16884.92400\n",
              "1      18    male  33.770         1     no  southeast   1725.55230\n",
              "2      28    male  33.000         3     no  southeast   4449.46200\n",
              "3      33    male  22.705         0     no  northwest  21984.47061\n",
              "4      32    male  28.880         0     no  northwest   3866.85520\n",
              "...   ...     ...     ...       ...    ...        ...          ...\n",
              "1333   50    male  30.970         3     no  northwest  10600.54830\n",
              "1334   18  female  31.920         0     no  northeast   2205.98080\n",
              "1335   18  female  36.850         0     no  southeast   1629.83350\n",
              "1336   21  female  25.800         0     no  southwest   2007.94500\n",
              "1337   61  female  29.070         0    yes  northwest  29141.36030\n",
              "\n",
              "[1338 rows x 7 columns]"
            ],
            "text/html": [
              "\n",
              "  <div id=\"df-57e38bd6-0fb9-4c25-84a3-3e29fbafc75d\">\n",
              "    <div class=\"colab-df-container\">\n",
              "      <div>\n",
              "<style scoped>\n",
              "    .dataframe tbody tr th:only-of-type {\n",
              "        vertical-align: middle;\n",
              "    }\n",
              "\n",
              "    .dataframe tbody tr th {\n",
              "        vertical-align: top;\n",
              "    }\n",
              "\n",
              "    .dataframe thead th {\n",
              "        text-align: right;\n",
              "    }\n",
              "</style>\n",
              "<table border=\"1\" class=\"dataframe\">\n",
              "  <thead>\n",
              "    <tr style=\"text-align: right;\">\n",
              "      <th></th>\n",
              "      <th>age</th>\n",
              "      <th>sex</th>\n",
              "      <th>bmi</th>\n",
              "      <th>children</th>\n",
              "      <th>smoker</th>\n",
              "      <th>region</th>\n",
              "      <th>charges</th>\n",
              "    </tr>\n",
              "  </thead>\n",
              "  <tbody>\n",
              "    <tr>\n",
              "      <th>0</th>\n",
              "      <td>19</td>\n",
              "      <td>female</td>\n",
              "      <td>27.900</td>\n",
              "      <td>0</td>\n",
              "      <td>yes</td>\n",
              "      <td>southwest</td>\n",
              "      <td>16884.92400</td>\n",
              "    </tr>\n",
              "    <tr>\n",
              "      <th>1</th>\n",
              "      <td>18</td>\n",
              "      <td>male</td>\n",
              "      <td>33.770</td>\n",
              "      <td>1</td>\n",
              "      <td>no</td>\n",
              "      <td>southeast</td>\n",
              "      <td>1725.55230</td>\n",
              "    </tr>\n",
              "    <tr>\n",
              "      <th>2</th>\n",
              "      <td>28</td>\n",
              "      <td>male</td>\n",
              "      <td>33.000</td>\n",
              "      <td>3</td>\n",
              "      <td>no</td>\n",
              "      <td>southeast</td>\n",
              "      <td>4449.46200</td>\n",
              "    </tr>\n",
              "    <tr>\n",
              "      <th>3</th>\n",
              "      <td>33</td>\n",
              "      <td>male</td>\n",
              "      <td>22.705</td>\n",
              "      <td>0</td>\n",
              "      <td>no</td>\n",
              "      <td>northwest</td>\n",
              "      <td>21984.47061</td>\n",
              "    </tr>\n",
              "    <tr>\n",
              "      <th>4</th>\n",
              "      <td>32</td>\n",
              "      <td>male</td>\n",
              "      <td>28.880</td>\n",
              "      <td>0</td>\n",
              "      <td>no</td>\n",
              "      <td>northwest</td>\n",
              "      <td>3866.85520</td>\n",
              "    </tr>\n",
              "    <tr>\n",
              "      <th>...</th>\n",
              "      <td>...</td>\n",
              "      <td>...</td>\n",
              "      <td>...</td>\n",
              "      <td>...</td>\n",
              "      <td>...</td>\n",
              "      <td>...</td>\n",
              "      <td>...</td>\n",
              "    </tr>\n",
              "    <tr>\n",
              "      <th>1333</th>\n",
              "      <td>50</td>\n",
              "      <td>male</td>\n",
              "      <td>30.970</td>\n",
              "      <td>3</td>\n",
              "      <td>no</td>\n",
              "      <td>northwest</td>\n",
              "      <td>10600.54830</td>\n",
              "    </tr>\n",
              "    <tr>\n",
              "      <th>1334</th>\n",
              "      <td>18</td>\n",
              "      <td>female</td>\n",
              "      <td>31.920</td>\n",
              "      <td>0</td>\n",
              "      <td>no</td>\n",
              "      <td>northeast</td>\n",
              "      <td>2205.98080</td>\n",
              "    </tr>\n",
              "    <tr>\n",
              "      <th>1335</th>\n",
              "      <td>18</td>\n",
              "      <td>female</td>\n",
              "      <td>36.850</td>\n",
              "      <td>0</td>\n",
              "      <td>no</td>\n",
              "      <td>southeast</td>\n",
              "      <td>1629.83350</td>\n",
              "    </tr>\n",
              "    <tr>\n",
              "      <th>1336</th>\n",
              "      <td>21</td>\n",
              "      <td>female</td>\n",
              "      <td>25.800</td>\n",
              "      <td>0</td>\n",
              "      <td>no</td>\n",
              "      <td>southwest</td>\n",
              "      <td>2007.94500</td>\n",
              "    </tr>\n",
              "    <tr>\n",
              "      <th>1337</th>\n",
              "      <td>61</td>\n",
              "      <td>female</td>\n",
              "      <td>29.070</td>\n",
              "      <td>0</td>\n",
              "      <td>yes</td>\n",
              "      <td>northwest</td>\n",
              "      <td>29141.36030</td>\n",
              "    </tr>\n",
              "  </tbody>\n",
              "</table>\n",
              "<p>1338 rows × 7 columns</p>\n",
              "</div>\n",
              "      <button class=\"colab-df-convert\" onclick=\"convertToInteractive('df-57e38bd6-0fb9-4c25-84a3-3e29fbafc75d')\"\n",
              "              title=\"Convert this dataframe to an interactive table.\"\n",
              "              style=\"display:none;\">\n",
              "        \n",
              "  <svg xmlns=\"http://www.w3.org/2000/svg\" height=\"24px\"viewBox=\"0 0 24 24\"\n",
              "       width=\"24px\">\n",
              "    <path d=\"M0 0h24v24H0V0z\" fill=\"none\"/>\n",
              "    <path d=\"M18.56 5.44l.94 2.06.94-2.06 2.06-.94-2.06-.94-.94-2.06-.94 2.06-2.06.94zm-11 1L8.5 8.5l.94-2.06 2.06-.94-2.06-.94L8.5 2.5l-.94 2.06-2.06.94zm10 10l.94 2.06.94-2.06 2.06-.94-2.06-.94-.94-2.06-.94 2.06-2.06.94z\"/><path d=\"M17.41 7.96l-1.37-1.37c-.4-.4-.92-.59-1.43-.59-.52 0-1.04.2-1.43.59L10.3 9.45l-7.72 7.72c-.78.78-.78 2.05 0 2.83L4 21.41c.39.39.9.59 1.41.59.51 0 1.02-.2 1.41-.59l7.78-7.78 2.81-2.81c.8-.78.8-2.07 0-2.86zM5.41 20L4 18.59l7.72-7.72 1.47 1.35L5.41 20z\"/>\n",
              "  </svg>\n",
              "      </button>\n",
              "      \n",
              "  <style>\n",
              "    .colab-df-container {\n",
              "      display:flex;\n",
              "      flex-wrap:wrap;\n",
              "      gap: 12px;\n",
              "    }\n",
              "\n",
              "    .colab-df-convert {\n",
              "      background-color: #E8F0FE;\n",
              "      border: none;\n",
              "      border-radius: 50%;\n",
              "      cursor: pointer;\n",
              "      display: none;\n",
              "      fill: #1967D2;\n",
              "      height: 32px;\n",
              "      padding: 0 0 0 0;\n",
              "      width: 32px;\n",
              "    }\n",
              "\n",
              "    .colab-df-convert:hover {\n",
              "      background-color: #E2EBFA;\n",
              "      box-shadow: 0px 1px 2px rgba(60, 64, 67, 0.3), 0px 1px 3px 1px rgba(60, 64, 67, 0.15);\n",
              "      fill: #174EA6;\n",
              "    }\n",
              "\n",
              "    [theme=dark] .colab-df-convert {\n",
              "      background-color: #3B4455;\n",
              "      fill: #D2E3FC;\n",
              "    }\n",
              "\n",
              "    [theme=dark] .colab-df-convert:hover {\n",
              "      background-color: #434B5C;\n",
              "      box-shadow: 0px 1px 3px 1px rgba(0, 0, 0, 0.15);\n",
              "      filter: drop-shadow(0px 1px 2px rgba(0, 0, 0, 0.3));\n",
              "      fill: #FFFFFF;\n",
              "    }\n",
              "  </style>\n",
              "\n",
              "      <script>\n",
              "        const buttonEl =\n",
              "          document.querySelector('#df-57e38bd6-0fb9-4c25-84a3-3e29fbafc75d button.colab-df-convert');\n",
              "        buttonEl.style.display =\n",
              "          google.colab.kernel.accessAllowed ? 'block' : 'none';\n",
              "\n",
              "        async function convertToInteractive(key) {\n",
              "          const element = document.querySelector('#df-57e38bd6-0fb9-4c25-84a3-3e29fbafc75d');\n",
              "          const dataTable =\n",
              "            await google.colab.kernel.invokeFunction('convertToInteractive',\n",
              "                                                     [key], {});\n",
              "          if (!dataTable) return;\n",
              "\n",
              "          const docLinkHtml = 'Like what you see? Visit the ' +\n",
              "            '<a target=\"_blank\" href=https://colab.research.google.com/notebooks/data_table.ipynb>data table notebook</a>'\n",
              "            + ' to learn more about interactive tables.';\n",
              "          element.innerHTML = '';\n",
              "          dataTable['output_type'] = 'display_data';\n",
              "          await google.colab.output.renderOutput(dataTable, element);\n",
              "          const docLink = document.createElement('div');\n",
              "          docLink.innerHTML = docLinkHtml;\n",
              "          element.appendChild(docLink);\n",
              "        }\n",
              "      </script>\n",
              "    </div>\n",
              "  </div>\n",
              "  "
            ]
          },
          "metadata": {},
          "execution_count": 134
        }
      ]
    },
    {
      "cell_type": "markdown",
      "source": [
        "To prepare data use Scikit-Learn"
      ],
      "metadata": {
        "id": "fe2uQNEXRSdh"
      }
    },
    {
      "cell_type": "code",
      "source": [
        "from sklearn.compose import make_column_transformer\n",
        "from sklearn.preprocessing import MinMaxScaler, OneHotEncoder\n",
        "from sklearn.model_selection import train_test_split\n",
        "\n",
        "# Create a column transformer\n",
        "ct = make_column_transformer(\n",
        "    (MinMaxScaler(), [\"age\", \"bmi\", \"children\"]), # turn all values in columns b/w 0 and 1\n",
        "    (OneHotEncoder(handle_unknown=\"ignore\"), [\"sex\", \"smoker\", \"region\"])\n",
        ")\n",
        "\n",
        "# Create X and y\n",
        "X = insurance.drop(\"charges\", axis=1)\n",
        "y = insurance[\"charges\"]\n",
        "\n",
        "# Create training and testing sets\n",
        "X_train, X_test, y_train, y_test = train_test_split(X, y, test_size=0.2, random_state=42)\n",
        "\n",
        "# Fit column transformer to training data\n",
        "ct.fit(X_train)\n",
        "\n",
        "# Transform training and test data w/ normalization (MinMaxScaler) and OneHotEncoder\n",
        "X_train_normal = ct.transform(X_train)\n",
        "X_test_normal = ct.transform(X_test) "
      ],
      "metadata": {
        "id": "0Zrb0rvgOkf1"
      },
      "execution_count": 137,
      "outputs": []
    },
    {
      "cell_type": "code",
      "source": [
        "# How data looks\n",
        "X_train.loc[0]"
      ],
      "metadata": {
        "colab": {
          "base_uri": "https://localhost:8080/"
        },
        "id": "Ulw3m1QsUllv",
        "outputId": "f24ec12f-0537-4b33-febf-308ef4ef79fe"
      },
      "execution_count": 138,
      "outputs": [
        {
          "output_type": "execute_result",
          "data": {
            "text/plain": [
              "age                19\n",
              "sex            female\n",
              "bmi              27.9\n",
              "children            0\n",
              "smoker            yes\n",
              "region      southwest\n",
              "Name: 0, dtype: object"
            ]
          },
          "metadata": {},
          "execution_count": 138
        }
      ]
    },
    {
      "cell_type": "code",
      "source": [
        "X_train_normal[0]"
      ],
      "metadata": {
        "colab": {
          "base_uri": "https://localhost:8080/"
        },
        "id": "cdkbnY4nUts7",
        "outputId": "0497748d-d254-4d68-f97c-0e9348d7a425"
      },
      "execution_count": 142,
      "outputs": [
        {
          "output_type": "execute_result",
          "data": {
            "text/plain": [
              "array([0.60869565, 0.10734463, 0.4       , 1.        , 0.        ,\n",
              "       1.        , 0.        , 0.        , 1.        , 0.        ,\n",
              "       0.        ])"
            ]
          },
          "metadata": {},
          "execution_count": 142
        }
      ]
    },
    {
      "cell_type": "code",
      "source": [
        "X_train.shape, X_train_normal.shape"
      ],
      "metadata": {
        "colab": {
          "base_uri": "https://localhost:8080/"
        },
        "id": "SHF0zCgfU_lr",
        "outputId": "07bfe52b-62d2-40df-8917-1ea781cc1471"
      },
      "execution_count": 143,
      "outputs": [
        {
          "output_type": "execute_result",
          "data": {
            "text/plain": [
              "((1070, 6), (1070, 11))"
            ]
          },
          "metadata": {},
          "execution_count": 143
        }
      ]
    },
    {
      "cell_type": "markdown",
      "source": [
        "Train a new neural network model on the normalized data"
      ],
      "metadata": {
        "id": "nvEOe-OtVJkr"
      }
    },
    {
      "cell_type": "code",
      "source": [
        "# Build neural network model to fit normalized data"
      ],
      "metadata": {
        "id": "EX4ub_PyVIjA"
      },
      "execution_count": null,
      "outputs": []
    },
    {
      "cell_type": "code",
      "source": [
        "X[\"age\"].plot(kind=\"hist\")\n",
        "# range roughly from 20 to 60"
      ],
      "metadata": {
        "colab": {
          "base_uri": "https://localhost:8080/",
          "height": 447
        },
        "id": "OwSuaQ5sPOox",
        "outputId": "5c50d2fa-b438-4497-c519-a011132d4d9a"
      },
      "execution_count": 130,
      "outputs": [
        {
          "output_type": "execute_result",
          "data": {
            "text/plain": [
              "<Axes: ylabel='Frequency'>"
            ]
          },
          "metadata": {},
          "execution_count": 130
        },
        {
          "output_type": "display_data",
          "data": {
            "text/plain": [
              "<Figure size 640x480 with 1 Axes>"
            ],
            "image/png": "[encoded data removed]"
          },
          "metadata": {}
        }
      ]
    },
    {
      "cell_type": "code",
      "source": [
        "X[\"bmi\"].plot(kind=\"hist\")\n",
        "# range from roughly 15 to 55"
      ],
      "metadata": {
        "colab": {
          "base_uri": "https://localhost:8080/",
          "height": 447
        },
        "id": "IqbSKO0SPT6N",
        "outputId": "2b97a5c9-5114-49af-827a-fdf7b925f532"
      },
      "execution_count": 131,
      "outputs": [
        {
          "output_type": "execute_result",
          "data": {
            "text/plain": [
              "<Axes: ylabel='Frequency'>"
            ]
          },
          "metadata": {},
          "execution_count": 131
        },
        {
          "output_type": "display_data",
          "data": {
            "text/plain": [
              "<Figure size 640x480 with 1 Axes>"
            ],
            "image/png": "[encoded data removed]"
          },
          "metadata": {}
        }
      ]
    },
    {
      "cell_type": "code",
      "source": [
        "X[\"children\"].value_counts()\n",
        "# range from 0 to 5"
      ],
      "metadata": {
        "colab": {
          "base_uri": "https://localhost:8080/"
        },
        "id": "muc6cEviPcl7",
        "outputId": "9524798e-31cf-4f57-bfdd-05f400223f5f"
      },
      "execution_count": 132,
      "outputs": [
        {
          "output_type": "execute_result",
          "data": {
            "text/plain": [
              "0    574\n",
              "1    324\n",
              "2    240\n",
              "3    157\n",
              "4     25\n",
              "5     18\n",
              "Name: children, dtype: int64"
            ]
          },
          "metadata": {},
          "execution_count": 132
        }
      ]
    },
    {
      "cell_type": "markdown",
      "source": [
        "Goal of normalization is to get the above value ranges on a similar scale w/o distorting the differences in range of values.\n",
        "Ex: Get all the above values only b/w 0 and 1 w/o changing differences or distribution"
      ],
      "metadata": {
        "id": "RgiFlwWnPhNC"
      }
    },
    {
      "cell_type": "code",
      "source": [],
      "metadata": {
        "id": "JP8KazT6QBZJ"
      },
      "execution_count": null,
      "outputs": []
    }
  ]
}
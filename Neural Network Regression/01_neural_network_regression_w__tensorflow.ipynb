{
  "nbformat": 4,
  "nbformat_minor": 0,
  "metadata": {
    "colab": {
      "provenance": [],
      "authorship_tag": "ABX9TyOv71MvxZlpZbjmIIlp8N3k",
      "include_colab_link": true
    },
    "kernelspec": {
      "name": "python3",
      "display_name": "Python 3"
    },
    "language_info": {
      "name": "python"
    }
  },
  "cells": [
    {
      "cell_type": "markdown",
      "metadata": {
        "id": "view-in-github",
        "colab_type": "text"
      },
      "source": [
        "<a href=\"https://colab.research.google.com/github/pranavrao87/Machine-Learning/blob/main/Neural%20Network%20Regression/01_neural_network_regression_w__tensorflow.ipynb\" target=\"_parent\"><img src=\"https://colab.research.google.com/assets/colab-badge.svg\" alt=\"Open In Colab\"/></a>"
      ]
    },
    {
      "cell_type": "markdown",
      "source": [
        "# Regression w/ neural networks in Tensorflow\n",
        "\n",
        "Regression problem - predicting a numerical variable based on combination of inputs, essentially predicting a number"
      ],
      "metadata": {
        "id": "5BWNZ9pEPchh"
      }
    },
    {
      "cell_type": "code",
      "source": [
        "import tensorflow as tf\n",
        "print(tf.__version__)"
      ],
      "metadata": {
        "colab": {
          "base_uri": "https://localhost:8080/"
        },
        "id": "ZCdqiB3KQFH6",
        "outputId": "dbb26e55-7b52-4209-8e05-8f4f9ea2c45e"
      },
      "execution_count": 2,
      "outputs": [
        {
          "output_type": "stream",
          "name": "stdout",
          "text": [
            "2.12.0\n"
          ]
        }
      ]
    },
    {
      "cell_type": "markdown",
      "source": [
        "## Creating data to view and fit"
      ],
      "metadata": {
        "id": "uTaRvggJQJE7"
      }
    },
    {
      "cell_type": "code",
      "source": [
        "import numpy as np\n",
        "import matplotlib.pyplot as plt\n",
        "\n",
        "# Create features (input data)\n",
        "X = np.array([-7.0, -4.0, -1.0, 2.0, 5.0, 8.0, 11.0, 14.0])\n",
        "\n",
        "# Create labels\n",
        "y = np.array([3.0, 6.0, 9.0, 12.0, 15.0, 18.0, 21.0, 24.0])\n",
        "\n",
        "# Visualize\n",
        "plt.scatter(X, y)"
      ],
      "metadata": {
        "colab": {
          "base_uri": "https://localhost:8080/",
          "height": 452
        },
        "id": "y150jbkfQWiy",
        "outputId": "a9042d82-7e9f-4636-9459-93b5a97b41ef"
      },
      "execution_count": 3,
      "outputs": [
        {
          "output_type": "execute_result",
          "data": {
            "text/plain": [
              "<matplotlib.collections.PathCollection at 0x7f99b05a2290>"
            ]
          },
          "metadata": {},
          "execution_count": 3
        },
        {
          "output_type": "display_data",
          "data": {
            "text/plain": [
              "<Figure size 640x480 with 1 Axes>"
            ],
            "image/png": "[encoded data removed]"
          },
          "metadata": {}
        }
      ]
    },
    {
      "cell_type": "code",
      "source": [
        "y == X + 10"
      ],
      "metadata": {
        "colab": {
          "base_uri": "https://localhost:8080/"
        },
        "id": "4wAY4qkkQ-bY",
        "outputId": "bf4a3f11-e74d-4d33-b88e-c1e039900cdf"
      },
      "execution_count": 4,
      "outputs": [
        {
          "output_type": "execute_result",
          "data": {
            "text/plain": [
              "array([ True,  True,  True,  True,  True,  True,  True,  True])"
            ]
          },
          "metadata": {},
          "execution_count": 4
        }
      ]
    },
    {
      "cell_type": "markdown",
      "source": [
        "## Input and output shapes"
      ],
      "metadata": {
        "id": "R3LZO9WBRPdL"
      }
    },
    {
      "cell_type": "code",
      "source": [
        "# Create demo tensor for hosuing price prediction problem\n",
        "house_info = tf.constant([\"bedroom\", \"bathroom\", \"garage\"])\n",
        "house_price = tf.constant([939700])\n",
        "house_info, house_price"
      ],
      "metadata": {
        "colab": {
          "base_uri": "https://localhost:8080/"
        },
        "id": "ZpArt6w0RW6H",
        "outputId": "a5b49523-541c-4349-f00e-00f9bf93617d"
      },
      "execution_count": 5,
      "outputs": [
        {
          "output_type": "execute_result",
          "data": {
            "text/plain": [
              "(<tf.Tensor: shape=(3,), dtype=string, numpy=array([b'bedroom', b'bathroom', b'garage'], dtype=object)>,\n",
              " <tf.Tensor: shape=(1,), dtype=int32, numpy=array([939700], dtype=int32)>)"
            ]
          },
          "metadata": {},
          "execution_count": 5
        }
      ]
    },
    {
      "cell_type": "code",
      "source": [
        "X[0], y[0]"
      ],
      "metadata": {
        "colab": {
          "base_uri": "https://localhost:8080/"
        },
        "id": "8vahFD5MSHdS",
        "outputId": "28a90931-4cbc-4944-9afd-ec56f30ea2bd"
      },
      "execution_count": 6,
      "outputs": [
        {
          "output_type": "execute_result",
          "data": {
            "text/plain": [
              "(-7.0, 3.0)"
            ]
          },
          "metadata": {},
          "execution_count": 6
        }
      ]
    },
    {
      "cell_type": "code",
      "source": [
        "X[1], y[1]"
      ],
      "metadata": {
        "colab": {
          "base_uri": "https://localhost:8080/"
        },
        "id": "-1IuhY8DSKCM",
        "outputId": "a2decb7d-a3f6-45c9-87e4-dae183fb818f"
      },
      "execution_count": 7,
      "outputs": [
        {
          "output_type": "execute_result",
          "data": {
            "text/plain": [
              "(-4.0, 6.0)"
            ]
          },
          "metadata": {},
          "execution_count": 7
        }
      ]
    },
    {
      "cell_type": "code",
      "source": [
        "input_shape = X[0].shape # --> X[0] is a scalar!\n",
        "output_shape = y[0].shape\n",
        "input_shape, output_shape"
      ],
      "metadata": {
        "colab": {
          "base_uri": "https://localhost:8080/"
        },
        "id": "3GNzP0MSR1DX",
        "outputId": "ad550d08-0b8f-4611-87c5-19ba1d7d6b15"
      },
      "execution_count": 8,
      "outputs": [
        {
          "output_type": "execute_result",
          "data": {
            "text/plain": [
              "((), ())"
            ]
          },
          "metadata": {},
          "execution_count": 8
        }
      ]
    },
    {
      "cell_type": "code",
      "source": [
        "# Turn NumPy arrays into tensors\n",
        "X = tf.cast(tf.constant(X), dtype=tf.float32)\n",
        "y = tf.cast(tf.constant(y), dtype=tf.float32)\n",
        "X, y"
      ],
      "metadata": {
        "colab": {
          "base_uri": "https://localhost:8080/"
        },
        "id": "_QBc46_aSDjT",
        "outputId": "1e1bc409-a784-43c2-a68c-f86db6c5fe5f"
      },
      "execution_count": 9,
      "outputs": [
        {
          "output_type": "execute_result",
          "data": {
            "text/plain": [
              "(<tf.Tensor: shape=(8,), dtype=float32, numpy=array([-7., -4., -1.,  2.,  5.,  8., 11., 14.], dtype=float32)>,\n",
              " <tf.Tensor: shape=(8,), dtype=float32, numpy=array([ 3.,  6.,  9., 12., 15., 18., 21., 24.], dtype=float32)>)"
            ]
          },
          "metadata": {},
          "execution_count": 9
        }
      ]
    },
    {
      "cell_type": "code",
      "source": [
        "input_shape = X[0].shape\n",
        "output_shape = y[0].shape\n",
        "input_shape, output_shape"
      ],
      "metadata": {
        "colab": {
          "base_uri": "https://localhost:8080/"
        },
        "id": "5ondxt5YW_OP",
        "outputId": "81195fc9-237f-4bdd-9d30-5909dd7f65f4"
      },
      "execution_count": 10,
      "outputs": [
        {
          "output_type": "execute_result",
          "data": {
            "text/plain": [
              "(TensorShape([]), TensorShape([]))"
            ]
          },
          "metadata": {},
          "execution_count": 10
        }
      ]
    },
    {
      "cell_type": "code",
      "source": [
        "plt.scatter(X, y)"
      ],
      "metadata": {
        "colab": {
          "base_uri": "https://localhost:8080/",
          "height": 452
        },
        "id": "WIsX7KBhXFY7",
        "outputId": "f3d0cdc5-f820-423b-e5db-753c6b6d9a94"
      },
      "execution_count": 11,
      "outputs": [
        {
          "output_type": "execute_result",
          "data": {
            "text/plain": [
              "<matplotlib.collections.PathCollection at 0x7f99ae4e2c20>"
            ]
          },
          "metadata": {},
          "execution_count": 11
        },
        {
          "output_type": "display_data",
          "data": {
            "text/plain": [
              "<Figure size 640x480 with 1 Axes>"
            ],
            "image/png": "[encoded data removed]"
          },
          "metadata": {}
        }
      ]
    },
    {
      "cell_type": "markdown",
      "source": [
        "## Steps in modelling w/ TensorFlow\n",
        "\n",
        "1.   **Creating a model** - define input and output layers, as well as the hidden layers of deep learning model.\n",
        "2.   **Compiling a model** - define loss function (function which tells model how wrong it is) and the optimizer (tells model how to improve the patterns model is learning) and evaluation metrics (what to use to interpret the performance of model)\n",
        "3.    **Fitting model** - letting model try to find patterns b/w X and y (features and labels)\n",
        "\n"
      ],
      "metadata": {
        "id": "b-4dyC0uXN4c"
      }
    },
    {
      "cell_type": "code",
      "source": [
        "# Set random seed\n",
        "tf.random.set_seed(42)\n",
        "\n",
        "# 1. Creating a model using the sequential API\n",
        "model = tf.keras.Sequential([\n",
        "    tf.keras.layers.Dense(1)\n",
        "])\n",
        "\n",
        "# 2. Compile model\n",
        "model.compile(loss=tf.keras.losses.mae, #mae is short for mean absolute error\n",
        "              optimizer=tf.keras.optimizers.SGD(), #SGD - Stochastic gradient descent\n",
        "              metrics=[\"mae\"])\n",
        "\n",
        "# 3. Fit model\n",
        "model.fit(tf.expand_dims(X, -1), y, epochs=5)"
      ],
      "metadata": {
        "colab": {
          "base_uri": "https://localhost:8080/"
        },
        "id": "9Owf2g3JXS8j",
        "outputId": "0e99dbb7-e598-4e39-dc73-a52c147a001e"
      },
      "execution_count": 12,
      "outputs": [
        {
          "output_type": "stream",
          "name": "stdout",
          "text": [
            "Epoch 1/5\n",
            "1/1 [==============================] - 2s 2s/step - loss: 20.2294 - mae: 20.2294\n",
            "Epoch 2/5\n",
            "1/1 [==============================] - 0s 20ms/step - loss: 19.9481 - mae: 19.9481\n",
            "Epoch 3/5\n",
            "1/1 [==============================] - 0s 29ms/step - loss: 19.6669 - mae: 19.6669\n",
            "Epoch 4/5\n",
            "1/1 [==============================] - 0s 16ms/step - loss: 19.3856 - mae: 19.3856\n",
            "Epoch 5/5\n",
            "1/1 [==============================] - 0s 21ms/step - loss: 19.1044 - mae: 19.1044\n"
          ]
        },
        {
          "output_type": "execute_result",
          "data": {
            "text/plain": [
              "<keras.callbacks.History at 0x7f99ac437ca0>"
            ]
          },
          "metadata": {},
          "execution_count": 12
        }
      ]
    },
    {
      "cell_type": "code",
      "source": [
        "# Check out X and y\n",
        "X, y"
      ],
      "metadata": {
        "colab": {
          "base_uri": "https://localhost:8080/"
        },
        "id": "jaikOq2KcqXb",
        "outputId": "515a1cfa-9a9b-48c1-84df-346487e5d48e"
      },
      "execution_count": 13,
      "outputs": [
        {
          "output_type": "execute_result",
          "data": {
            "text/plain": [
              "(<tf.Tensor: shape=(8,), dtype=float32, numpy=array([-7., -4., -1.,  2.,  5.,  8., 11., 14.], dtype=float32)>,\n",
              " <tf.Tensor: shape=(8,), dtype=float32, numpy=array([ 3.,  6.,  9., 12., 15., 18., 21., 24.], dtype=float32)>)"
            ]
          },
          "metadata": {},
          "execution_count": 13
        }
      ]
    },
    {
      "cell_type": "code",
      "source": [
        "# Try and make prediction using model\n",
        "y_pred = model.predict([17.0])\n",
        "y_pred"
      ],
      "metadata": {
        "colab": {
          "base_uri": "https://localhost:8080/"
        },
        "id": "yOe4SpU4csW5",
        "outputId": "a7ef5a75-68c9-4d9f-866b-214ebe6ae8bd"
      },
      "execution_count": 14,
      "outputs": [
        {
          "output_type": "stream",
          "name": "stdout",
          "text": [
            "1/1 [==============================] - 0s 491ms/step\n"
          ]
        },
        {
          "output_type": "execute_result",
          "data": {
            "text/plain": [
              "array([[-19.718863]], dtype=float32)"
            ]
          },
          "metadata": {},
          "execution_count": 14
        }
      ]
    },
    {
      "cell_type": "code",
      "source": [
        "y_pred + 11"
      ],
      "metadata": {
        "colab": {
          "base_uri": "https://localhost:8080/"
        },
        "id": "mKU9-zS7c39G",
        "outputId": "4aec0d90-e2cb-427f-f4a1-06cde7ff5e34"
      },
      "execution_count": 15,
      "outputs": [
        {
          "output_type": "execute_result",
          "data": {
            "text/plain": [
              "array([[-8.718863]], dtype=float32)"
            ]
          },
          "metadata": {},
          "execution_count": 15
        }
      ]
    },
    {
      "cell_type": "markdown",
      "source": [
        "## Improve Model\n",
        "\n",
        "Can improve model by altering steps taken to create model\n",
        "\n",
        "1. **Creating a model** - add more layers, increase # of hidden layers, increase # of neurons/layer, change activation function of each layer\n",
        "2. **Compiling a model** - change optimization function or **learning rate** of optmization function\n",
        "3. **Fitting a model** - fit model for more epochs (increase epochs or give mode more data/examples)"
      ],
      "metadata": {
        "id": "fKcjT3RkdHKa"
      }
    },
    {
      "cell_type": "code",
      "source": [
        "# Rebuild model\n",
        "\n",
        "# 1. Create model\n",
        "tf.keras.Sequential([\n",
        "    tf.keras.layers.Dense(1)\n",
        "])\n",
        "\n",
        "#2. Compile model\n",
        "model.compile(loss=tf.keras.losses.mae,\n",
        "              optimizer=tf.keras.optimizers.SGD(),\n",
        "              metrics=[\"mae\"])\n",
        "\n",
        "#3. Fit model (this time w/ inc. epochs or training time)\n",
        "model.fit(tf.expand_dims(X, -1), y, epochs=100)"
      ],
      "metadata": {
        "colab": {
          "base_uri": "https://localhost:8080/"
        },
        "id": "DkOdu1tAdLkw",
        "outputId": "805a1b2d-9424-477c-d2a7-3cda28a9aaa1"
      },
      "execution_count": 16,
      "outputs": [
        {
          "output_type": "stream",
          "name": "stdout",
          "text": [
            "Epoch 1/100\n",
            "1/1 [==============================] - 1s 1s/step - loss: 18.8231 - mae: 18.8231\n",
            "Epoch 2/100\n",
            "1/1 [==============================] - 0s 43ms/step - loss: 18.5419 - mae: 18.5419\n",
            "Epoch 3/100\n",
            "1/1 [==============================] - 0s 22ms/step - loss: 18.2606 - mae: 18.2606\n",
            "Epoch 4/100\n",
            "1/1 [==============================] - 0s 19ms/step - loss: 17.9794 - mae: 17.9794\n",
            "Epoch 5/100\n",
            "1/1 [==============================] - 0s 24ms/step - loss: 17.6981 - mae: 17.6981\n",
            "Epoch 6/100\n",
            "1/1 [==============================] - 0s 23ms/step - loss: 17.4169 - mae: 17.4169\n",
            "Epoch 7/100\n",
            "1/1 [==============================] - 0s 15ms/step - loss: 17.1356 - mae: 17.1356\n",
            "Epoch 8/100\n",
            "1/1 [==============================] - 0s 24ms/step - loss: 16.8544 - mae: 16.8544\n",
            "Epoch 9/100\n",
            "1/1 [==============================] - 0s 16ms/step - loss: 16.5731 - mae: 16.5731\n",
            "Epoch 10/100\n",
            "1/1 [==============================] - 0s 23ms/step - loss: 16.2919 - mae: 16.2919\n",
            "Epoch 11/100\n",
            "1/1 [==============================] - 0s 18ms/step - loss: 16.0106 - mae: 16.0106\n",
            "Epoch 12/100\n",
            "1/1 [==============================] - 0s 14ms/step - loss: 15.7294 - mae: 15.7294\n",
            "Epoch 13/100\n",
            "1/1 [==============================] - 0s 15ms/step - loss: 15.4481 - mae: 15.4481\n",
            "Epoch 14/100\n",
            "1/1 [==============================] - 0s 21ms/step - loss: 15.1669 - mae: 15.1669\n",
            "Epoch 15/100\n",
            "1/1 [==============================] - 0s 15ms/step - loss: 14.8856 - mae: 14.8856\n",
            "Epoch 16/100\n",
            "1/1 [==============================] - 0s 21ms/step - loss: 14.6612 - mae: 14.6612\n",
            "Epoch 17/100\n",
            "1/1 [==============================] - 0s 19ms/step - loss: 14.5287 - mae: 14.5287\n",
            "Epoch 18/100\n",
            "1/1 [==============================] - 0s 17ms/step - loss: 14.3962 - mae: 14.3962\n",
            "Epoch 19/100\n",
            "1/1 [==============================] - 0s 16ms/step - loss: 14.2637 - mae: 14.2637\n",
            "Epoch 20/100\n",
            "1/1 [==============================] - 0s 15ms/step - loss: 14.1312 - mae: 14.1312\n",
            "Epoch 21/100\n",
            "1/1 [==============================] - 0s 15ms/step - loss: 13.9987 - mae: 13.9987\n",
            "Epoch 22/100\n",
            "1/1 [==============================] - 0s 31ms/step - loss: 13.8662 - mae: 13.8662\n",
            "Epoch 23/100\n",
            "1/1 [==============================] - 0s 20ms/step - loss: 13.7337 - mae: 13.7337\n",
            "Epoch 24/100\n",
            "1/1 [==============================] - 0s 15ms/step - loss: 13.6012 - mae: 13.6012\n",
            "Epoch 25/100\n",
            "1/1 [==============================] - 0s 11ms/step - loss: 13.4687 - mae: 13.4687\n",
            "Epoch 26/100\n",
            "1/1 [==============================] - 0s 12ms/step - loss: 13.3362 - mae: 13.3362\n",
            "Epoch 27/100\n",
            "1/1 [==============================] - 0s 25ms/step - loss: 13.2037 - mae: 13.2037\n",
            "Epoch 28/100\n",
            "1/1 [==============================] - 0s 17ms/step - loss: 13.0712 - mae: 13.0712\n",
            "Epoch 29/100\n",
            "1/1 [==============================] - 0s 25ms/step - loss: 12.9387 - mae: 12.9387\n",
            "Epoch 30/100\n",
            "1/1 [==============================] - 0s 27ms/step - loss: 12.8062 - mae: 12.8062\n",
            "Epoch 31/100\n",
            "1/1 [==============================] - 0s 21ms/step - loss: 12.6737 - mae: 12.6737\n",
            "Epoch 32/100\n",
            "1/1 [==============================] - 0s 26ms/step - loss: 12.5412 - mae: 12.5412\n",
            "Epoch 33/100\n",
            "1/1 [==============================] - 0s 16ms/step - loss: 12.4087 - mae: 12.4087\n",
            "Epoch 34/100\n",
            "1/1 [==============================] - 0s 17ms/step - loss: 12.2762 - mae: 12.2762\n",
            "Epoch 35/100\n",
            "1/1 [==============================] - 0s 16ms/step - loss: 12.1437 - mae: 12.1437\n",
            "Epoch 36/100\n",
            "1/1 [==============================] - 0s 19ms/step - loss: 12.0112 - mae: 12.0112\n",
            "Epoch 37/100\n",
            "1/1 [==============================] - 0s 16ms/step - loss: 11.8787 - mae: 11.8787\n",
            "Epoch 38/100\n",
            "1/1 [==============================] - 0s 16ms/step - loss: 11.7462 - mae: 11.7462\n",
            "Epoch 39/100\n",
            "1/1 [==============================] - 0s 17ms/step - loss: 11.6137 - mae: 11.6137\n",
            "Epoch 40/100\n",
            "1/1 [==============================] - 0s 12ms/step - loss: 11.4812 - mae: 11.4812\n",
            "Epoch 41/100\n",
            "1/1 [==============================] - 0s 19ms/step - loss: 11.3487 - mae: 11.3487\n",
            "Epoch 42/100\n",
            "1/1 [==============================] - 0s 14ms/step - loss: 11.2162 - mae: 11.2162\n",
            "Epoch 43/100\n",
            "1/1 [==============================] - 0s 12ms/step - loss: 11.0837 - mae: 11.0837\n",
            "Epoch 44/100\n",
            "1/1 [==============================] - 0s 14ms/step - loss: 10.9512 - mae: 10.9512\n",
            "Epoch 45/100\n",
            "1/1 [==============================] - 0s 13ms/step - loss: 10.8187 - mae: 10.8187\n",
            "Epoch 46/100\n",
            "1/1 [==============================] - 0s 11ms/step - loss: 10.6862 - mae: 10.6862\n",
            "Epoch 47/100\n",
            "1/1 [==============================] - 0s 10ms/step - loss: 10.5537 - mae: 10.5537\n",
            "Epoch 48/100\n",
            "1/1 [==============================] - 0s 13ms/step - loss: 10.4212 - mae: 10.4212\n",
            "Epoch 49/100\n",
            "1/1 [==============================] - 0s 10ms/step - loss: 10.2887 - mae: 10.2887\n",
            "Epoch 50/100\n",
            "1/1 [==============================] - 0s 12ms/step - loss: 10.1562 - mae: 10.1562\n",
            "Epoch 51/100\n",
            "1/1 [==============================] - 0s 12ms/step - loss: 10.0237 - mae: 10.0237\n",
            "Epoch 52/100\n",
            "1/1 [==============================] - 0s 12ms/step - loss: 9.8912 - mae: 9.8912\n",
            "Epoch 53/100\n",
            "1/1 [==============================] - 0s 14ms/step - loss: 9.7587 - mae: 9.7587\n",
            "Epoch 54/100\n",
            "1/1 [==============================] - 0s 41ms/step - loss: 9.6262 - mae: 9.6262\n",
            "Epoch 55/100\n",
            "1/1 [==============================] - 0s 25ms/step - loss: 9.4937 - mae: 9.4937\n",
            "Epoch 56/100\n",
            "1/1 [==============================] - 0s 28ms/step - loss: 9.3612 - mae: 9.3612\n",
            "Epoch 57/100\n",
            "1/1 [==============================] - 0s 23ms/step - loss: 9.2287 - mae: 9.2287\n",
            "Epoch 58/100\n",
            "1/1 [==============================] - 0s 24ms/step - loss: 9.0962 - mae: 9.0962\n",
            "Epoch 59/100\n",
            "1/1 [==============================] - 0s 21ms/step - loss: 8.9637 - mae: 8.9637\n",
            "Epoch 60/100\n",
            "1/1 [==============================] - 0s 31ms/step - loss: 8.8312 - mae: 8.8312\n",
            "Epoch 61/100\n",
            "1/1 [==============================] - 0s 35ms/step - loss: 8.6987 - mae: 8.6987\n",
            "Epoch 62/100\n",
            "1/1 [==============================] - 0s 36ms/step - loss: 8.5662 - mae: 8.5662\n",
            "Epoch 63/100\n",
            "1/1 [==============================] - 0s 23ms/step - loss: 8.4337 - mae: 8.4337\n",
            "Epoch 64/100\n",
            "1/1 [==============================] - 0s 19ms/step - loss: 8.3012 - mae: 8.3012\n",
            "Epoch 65/100\n",
            "1/1 [==============================] - 0s 18ms/step - loss: 8.1687 - mae: 8.1687\n",
            "Epoch 66/100\n",
            "1/1 [==============================] - 0s 15ms/step - loss: 8.0362 - mae: 8.0362\n",
            "Epoch 67/100\n",
            "1/1 [==============================] - 0s 25ms/step - loss: 7.9037 - mae: 7.9037\n",
            "Epoch 68/100\n",
            "1/1 [==============================] - 0s 14ms/step - loss: 7.7712 - mae: 7.7712\n",
            "Epoch 69/100\n",
            "1/1 [==============================] - 0s 15ms/step - loss: 7.6387 - mae: 7.6387\n",
            "Epoch 70/100\n",
            "1/1 [==============================] - 0s 22ms/step - loss: 7.5062 - mae: 7.5062\n",
            "Epoch 71/100\n",
            "1/1 [==============================] - 0s 15ms/step - loss: 7.3737 - mae: 7.3737\n",
            "Epoch 72/100\n",
            "1/1 [==============================] - 0s 11ms/step - loss: 7.2412 - mae: 7.2412\n",
            "Epoch 73/100\n",
            "1/1 [==============================] - 0s 10ms/step - loss: 7.1087 - mae: 7.1087\n",
            "Epoch 74/100\n",
            "1/1 [==============================] - 0s 11ms/step - loss: 6.9762 - mae: 6.9762\n",
            "Epoch 75/100\n",
            "1/1 [==============================] - 0s 9ms/step - loss: 6.9450 - mae: 6.9450\n",
            "Epoch 76/100\n",
            "1/1 [==============================] - 0s 14ms/step - loss: 6.9394 - mae: 6.9394\n",
            "Epoch 77/100\n",
            "1/1 [==============================] - 0s 21ms/step - loss: 6.9338 - mae: 6.9338\n",
            "Epoch 78/100\n",
            "1/1 [==============================] - 0s 12ms/step - loss: 6.9281 - mae: 6.9281\n",
            "Epoch 79/100\n",
            "1/1 [==============================] - 0s 15ms/step - loss: 6.9225 - mae: 6.9225\n",
            "Epoch 80/100\n",
            "1/1 [==============================] - 0s 24ms/step - loss: 6.9169 - mae: 6.9169\n",
            "Epoch 81/100\n",
            "1/1 [==============================] - 0s 33ms/step - loss: 6.9113 - mae: 6.9113\n",
            "Epoch 82/100\n",
            "1/1 [==============================] - 0s 16ms/step - loss: 6.9056 - mae: 6.9056\n",
            "Epoch 83/100\n",
            "1/1 [==============================] - 0s 15ms/step - loss: 6.9000 - mae: 6.9000\n",
            "Epoch 84/100\n",
            "1/1 [==============================] - 0s 33ms/step - loss: 6.8944 - mae: 6.8944\n",
            "Epoch 85/100\n",
            "1/1 [==============================] - 0s 18ms/step - loss: 6.8888 - mae: 6.8888\n",
            "Epoch 86/100\n",
            "1/1 [==============================] - 0s 44ms/step - loss: 6.8831 - mae: 6.8831\n",
            "Epoch 87/100\n",
            "1/1 [==============================] - 0s 46ms/step - loss: 6.8775 - mae: 6.8775\n",
            "Epoch 88/100\n",
            "1/1 [==============================] - 0s 45ms/step - loss: 6.8719 - mae: 6.8719\n",
            "Epoch 89/100\n",
            "1/1 [==============================] - 0s 23ms/step - loss: 6.8663 - mae: 6.8663\n",
            "Epoch 90/100\n",
            "1/1 [==============================] - 0s 22ms/step - loss: 6.8606 - mae: 6.8606\n",
            "Epoch 91/100\n",
            "1/1 [==============================] - 0s 28ms/step - loss: 6.8550 - mae: 6.8550\n",
            "Epoch 92/100\n",
            "1/1 [==============================] - 0s 26ms/step - loss: 6.8494 - mae: 6.8494\n",
            "Epoch 93/100\n",
            "1/1 [==============================] - 0s 21ms/step - loss: 6.8438 - mae: 6.8438\n",
            "Epoch 94/100\n",
            "1/1 [==============================] - 0s 15ms/step - loss: 6.8381 - mae: 6.8381\n",
            "Epoch 95/100\n",
            "1/1 [==============================] - 0s 22ms/step - loss: 6.8325 - mae: 6.8325\n",
            "Epoch 96/100\n",
            "1/1 [==============================] - 0s 22ms/step - loss: 6.8269 - mae: 6.8269\n",
            "Epoch 97/100\n",
            "1/1 [==============================] - 0s 25ms/step - loss: 6.8213 - mae: 6.8213\n",
            "Epoch 98/100\n",
            "1/1 [==============================] - 0s 15ms/step - loss: 6.8156 - mae: 6.8156\n",
            "Epoch 99/100\n",
            "1/1 [==============================] - 0s 20ms/step - loss: 6.8100 - mae: 6.8100\n",
            "Epoch 100/100\n",
            "1/1 [==============================] - 0s 19ms/step - loss: 6.8044 - mae: 6.8044\n"
          ]
        },
        {
          "output_type": "execute_result",
          "data": {
            "text/plain": [
              "<keras.callbacks.History at 0x7f99ac0c2590>"
            ]
          },
          "metadata": {},
          "execution_count": 16
        }
      ]
    },
    {
      "cell_type": "code",
      "source": [
        "X, y"
      ],
      "metadata": {
        "colab": {
          "base_uri": "https://localhost:8080/"
        },
        "id": "xhHL2Z2EhVb0",
        "outputId": "acd616a8-91f9-44ae-81e4-ce97b0019b79"
      },
      "execution_count": 17,
      "outputs": [
        {
          "output_type": "execute_result",
          "data": {
            "text/plain": [
              "(<tf.Tensor: shape=(8,), dtype=float32, numpy=array([-7., -4., -1.,  2.,  5.,  8., 11., 14.], dtype=float32)>,\n",
              " <tf.Tensor: shape=(8,), dtype=float32, numpy=array([ 3.,  6.,  9., 12., 15., 18., 21., 24.], dtype=float32)>)"
            ]
          },
          "metadata": {},
          "execution_count": 17
        }
      ]
    },
    {
      "cell_type": "code",
      "source": [
        "# Predict w/ improved model\n",
        "model.predict([17.0])"
      ],
      "metadata": {
        "colab": {
          "base_uri": "https://localhost:8080/"
        },
        "id": "igIqHalKhWUw",
        "outputId": "60cceb38-8e5b-4ce2-eacb-bac7eb8839ae"
      },
      "execution_count": 18,
      "outputs": [
        {
          "output_type": "stream",
          "name": "stdout",
          "text": [
            "1/1 [==============================] - 0s 168ms/step\n"
          ]
        },
        {
          "output_type": "execute_result",
          "data": {
            "text/plain": [
              "array([[29.671135]], dtype=float32)"
            ]
          },
          "metadata": {},
          "execution_count": 18
        }
      ]
    },
    {
      "cell_type": "code",
      "source": [
        "# Rebuild model\n",
        "\n",
        "# 1. Create model \n",
        "tf.keras.Sequential([\n",
        "    tf.keras.layers.Dense(50, activation=None),\n",
        "    tf.keras.layers.Dense(1)\n",
        "])\n",
        "\n",
        "#2. Compile model\n",
        "model.compile(loss=tf.keras.losses.mae,\n",
        "              optimizer=tf.keras.optimizers.Adam(lr=0.01),\n",
        "              metrics=[\"mae\"])\n",
        "\n",
        "#3. Fit model\n",
        "model.fit(tf.expand_dims(X, 1), y, epochs=100)"
      ],
      "metadata": {
        "colab": {
          "base_uri": "https://localhost:8080/"
        },
        "id": "qy6IhBzclAxD",
        "outputId": "f84b4b26-88d7-4d11-e50a-2ae83ac0d125"
      },
      "execution_count": 19,
      "outputs": [
        {
          "output_type": "stream",
          "name": "stderr",
          "text": [
            "WARNING:absl:`lr` is deprecated in Keras optimizer, please use `learning_rate` or use the legacy optimizer, e.g.,tf.keras.optimizers.legacy.Adam.\n"
          ]
        },
        {
          "output_type": "stream",
          "name": "stdout",
          "text": [
            "Epoch 1/100\n",
            "1/1 [==============================] - 1s 879ms/step - loss: 6.7988 - mae: 6.7988\n",
            "Epoch 2/100\n",
            "1/1 [==============================] - 0s 26ms/step - loss: 6.7980 - mae: 6.7980\n",
            "Epoch 3/100\n",
            "1/1 [==============================] - 0s 22ms/step - loss: 6.7973 - mae: 6.7973\n",
            "Epoch 4/100\n",
            "1/1 [==============================] - 0s 20ms/step - loss: 6.7965 - mae: 6.7965\n",
            "Epoch 5/100\n",
            "1/1 [==============================] - 0s 15ms/step - loss: 6.7958 - mae: 6.7958\n",
            "Epoch 6/100\n",
            "1/1 [==============================] - 0s 11ms/step - loss: 6.7950 - mae: 6.7950\n",
            "Epoch 7/100\n",
            "1/1 [==============================] - 0s 11ms/step - loss: 6.7943 - mae: 6.7943\n",
            "Epoch 8/100\n",
            "1/1 [==============================] - 0s 11ms/step - loss: 6.7935 - mae: 6.7935\n",
            "Epoch 9/100\n",
            "1/1 [==============================] - 0s 12ms/step - loss: 6.7928 - mae: 6.7928\n",
            "Epoch 10/100\n",
            "1/1 [==============================] - 0s 12ms/step - loss: 6.7920 - mae: 6.7920\n",
            "Epoch 11/100\n",
            "1/1 [==============================] - 0s 12ms/step - loss: 6.7913 - mae: 6.7913\n",
            "Epoch 12/100\n",
            "1/1 [==============================] - 0s 14ms/step - loss: 6.7905 - mae: 6.7905\n",
            "Epoch 13/100\n",
            "1/1 [==============================] - 0s 26ms/step - loss: 6.7898 - mae: 6.7898\n",
            "Epoch 14/100\n",
            "1/1 [==============================] - 0s 24ms/step - loss: 6.7890 - mae: 6.7890\n",
            "Epoch 15/100\n",
            "1/1 [==============================] - 0s 24ms/step - loss: 6.7883 - mae: 6.7883\n",
            "Epoch 16/100\n",
            "1/1 [==============================] - 0s 13ms/step - loss: 6.7875 - mae: 6.7875\n",
            "Epoch 17/100\n",
            "1/1 [==============================] - 0s 16ms/step - loss: 6.7868 - mae: 6.7868\n",
            "Epoch 18/100\n",
            "1/1 [==============================] - 0s 14ms/step - loss: 6.7860 - mae: 6.7860\n",
            "Epoch 19/100\n",
            "1/1 [==============================] - 0s 16ms/step - loss: 6.7853 - mae: 6.7853\n",
            "Epoch 20/100\n",
            "1/1 [==============================] - 0s 17ms/step - loss: 6.7845 - mae: 6.7845\n",
            "Epoch 21/100\n",
            "1/1 [==============================] - 0s 17ms/step - loss: 6.7838 - mae: 6.7838\n",
            "Epoch 22/100\n",
            "1/1 [==============================] - 0s 18ms/step - loss: 6.7830 - mae: 6.7830\n",
            "Epoch 23/100\n",
            "1/1 [==============================] - 0s 27ms/step - loss: 6.7823 - mae: 6.7823\n",
            "Epoch 24/100\n",
            "1/1 [==============================] - 0s 40ms/step - loss: 6.7815 - mae: 6.7815\n",
            "Epoch 25/100\n",
            "1/1 [==============================] - 0s 25ms/step - loss: 6.7808 - mae: 6.7808\n",
            "Epoch 26/100\n",
            "1/1 [==============================] - 0s 25ms/step - loss: 6.7800 - mae: 6.7800\n",
            "Epoch 27/100\n",
            "1/1 [==============================] - 0s 15ms/step - loss: 6.7793 - mae: 6.7793\n",
            "Epoch 28/100\n",
            "1/1 [==============================] - 0s 38ms/step - loss: 6.7785 - mae: 6.7785\n",
            "Epoch 29/100\n",
            "1/1 [==============================] - 0s 38ms/step - loss: 6.7778 - mae: 6.7778\n",
            "Epoch 30/100\n",
            "1/1 [==============================] - 0s 26ms/step - loss: 6.7770 - mae: 6.7770\n",
            "Epoch 31/100\n",
            "1/1 [==============================] - 0s 31ms/step - loss: 6.7763 - mae: 6.7763\n",
            "Epoch 32/100\n",
            "1/1 [==============================] - 0s 20ms/step - loss: 6.7755 - mae: 6.7755\n",
            "Epoch 33/100\n",
            "1/1 [==============================] - 0s 19ms/step - loss: 6.7748 - mae: 6.7748\n",
            "Epoch 34/100\n",
            "1/1 [==============================] - 0s 15ms/step - loss: 6.7740 - mae: 6.7740\n",
            "Epoch 35/100\n",
            "1/1 [==============================] - 0s 11ms/step - loss: 6.7733 - mae: 6.7733\n",
            "Epoch 36/100\n",
            "1/1 [==============================] - 0s 10ms/step - loss: 6.7725 - mae: 6.7725\n",
            "Epoch 37/100\n",
            "1/1 [==============================] - 0s 29ms/step - loss: 6.7718 - mae: 6.7718\n",
            "Epoch 38/100\n",
            "1/1 [==============================] - 0s 24ms/step - loss: 6.7710 - mae: 6.7710\n",
            "Epoch 39/100\n",
            "1/1 [==============================] - 0s 19ms/step - loss: 6.7703 - mae: 6.7703\n",
            "Epoch 40/100\n",
            "1/1 [==============================] - 0s 30ms/step - loss: 6.7695 - mae: 6.7695\n",
            "Epoch 41/100\n",
            "1/1 [==============================] - 0s 33ms/step - loss: 6.7688 - mae: 6.7688\n",
            "Epoch 42/100\n",
            "1/1 [==============================] - 0s 34ms/step - loss: 6.7680 - mae: 6.7680\n",
            "Epoch 43/100\n",
            "1/1 [==============================] - 0s 29ms/step - loss: 6.7673 - mae: 6.7673\n",
            "Epoch 44/100\n",
            "1/1 [==============================] - 0s 20ms/step - loss: 6.7665 - mae: 6.7665\n",
            "Epoch 45/100\n",
            "1/1 [==============================] - 0s 27ms/step - loss: 6.7658 - mae: 6.7658\n",
            "Epoch 46/100\n",
            "1/1 [==============================] - 0s 24ms/step - loss: 6.7650 - mae: 6.7650\n",
            "Epoch 47/100\n",
            "1/1 [==============================] - 0s 24ms/step - loss: 6.7643 - mae: 6.7643\n",
            "Epoch 48/100\n",
            "1/1 [==============================] - 0s 25ms/step - loss: 6.7635 - mae: 6.7635\n",
            "Epoch 49/100\n",
            "1/1 [==============================] - 0s 28ms/step - loss: 6.7628 - mae: 6.7628\n",
            "Epoch 50/100\n",
            "1/1 [==============================] - 0s 25ms/step - loss: 6.7620 - mae: 6.7620\n",
            "Epoch 51/100\n",
            "1/1 [==============================] - 0s 18ms/step - loss: 6.7613 - mae: 6.7613\n",
            "Epoch 52/100\n",
            "1/1 [==============================] - 0s 29ms/step - loss: 6.7605 - mae: 6.7605\n",
            "Epoch 53/100\n",
            "1/1 [==============================] - 0s 28ms/step - loss: 6.7598 - mae: 6.7598\n",
            "Epoch 54/100\n",
            "1/1 [==============================] - 0s 27ms/step - loss: 6.7590 - mae: 6.7590\n",
            "Epoch 55/100\n",
            "1/1 [==============================] - 0s 31ms/step - loss: 6.7583 - mae: 6.7583\n",
            "Epoch 56/100\n",
            "1/1 [==============================] - 0s 23ms/step - loss: 6.7575 - mae: 6.7575\n",
            "Epoch 57/100\n",
            "1/1 [==============================] - 0s 31ms/step - loss: 6.7568 - mae: 6.7568\n",
            "Epoch 58/100\n",
            "1/1 [==============================] - 0s 28ms/step - loss: 6.7560 - mae: 6.7560\n",
            "Epoch 59/100\n",
            "1/1 [==============================] - 0s 32ms/step - loss: 6.7553 - mae: 6.7553\n",
            "Epoch 60/100\n",
            "1/1 [==============================] - 0s 21ms/step - loss: 6.7545 - mae: 6.7545\n",
            "Epoch 61/100\n",
            "1/1 [==============================] - 0s 27ms/step - loss: 6.7538 - mae: 6.7538\n",
            "Epoch 62/100\n",
            "1/1 [==============================] - 0s 17ms/step - loss: 6.7530 - mae: 6.7530\n",
            "Epoch 63/100\n",
            "1/1 [==============================] - 0s 27ms/step - loss: 6.7523 - mae: 6.7523\n",
            "Epoch 64/100\n",
            "1/1 [==============================] - 0s 26ms/step - loss: 6.7515 - mae: 6.7515\n",
            "Epoch 65/100\n",
            "1/1 [==============================] - 0s 18ms/step - loss: 6.7508 - mae: 6.7508\n",
            "Epoch 66/100\n",
            "1/1 [==============================] - 0s 24ms/step - loss: 6.7500 - mae: 6.7500\n",
            "Epoch 67/100\n",
            "1/1 [==============================] - 0s 19ms/step - loss: 6.7493 - mae: 6.7493\n",
            "Epoch 68/100\n",
            "1/1 [==============================] - 0s 24ms/step - loss: 6.7485 - mae: 6.7485\n",
            "Epoch 69/100\n",
            "1/1 [==============================] - 0s 21ms/step - loss: 6.7478 - mae: 6.7478\n",
            "Epoch 70/100\n",
            "1/1 [==============================] - 0s 20ms/step - loss: 6.7470 - mae: 6.7470\n",
            "Epoch 71/100\n",
            "1/1 [==============================] - 0s 17ms/step - loss: 6.7463 - mae: 6.7463\n",
            "Epoch 72/100\n",
            "1/1 [==============================] - 0s 17ms/step - loss: 6.7455 - mae: 6.7455\n",
            "Epoch 73/100\n",
            "1/1 [==============================] - 0s 19ms/step - loss: 6.7448 - mae: 6.7448\n",
            "Epoch 74/100\n",
            "1/1 [==============================] - 0s 21ms/step - loss: 6.7440 - mae: 6.7440\n",
            "Epoch 75/100\n",
            "1/1 [==============================] - 0s 21ms/step - loss: 6.7433 - mae: 6.7433\n",
            "Epoch 76/100\n",
            "1/1 [==============================] - 0s 44ms/step - loss: 6.7425 - mae: 6.7425\n",
            "Epoch 77/100\n",
            "1/1 [==============================] - 0s 22ms/step - loss: 6.7418 - mae: 6.7418\n",
            "Epoch 78/100\n",
            "1/1 [==============================] - 0s 26ms/step - loss: 6.7410 - mae: 6.7410\n",
            "Epoch 79/100\n",
            "1/1 [==============================] - 0s 24ms/step - loss: 6.7403 - mae: 6.7403\n",
            "Epoch 80/100\n",
            "1/1 [==============================] - 0s 33ms/step - loss: 6.7395 - mae: 6.7395\n",
            "Epoch 81/100\n",
            "1/1 [==============================] - 0s 17ms/step - loss: 6.7388 - mae: 6.7388\n",
            "Epoch 82/100\n",
            "1/1 [==============================] - 0s 34ms/step - loss: 6.7380 - mae: 6.7380\n",
            "Epoch 83/100\n",
            "1/1 [==============================] - 0s 21ms/step - loss: 6.7373 - mae: 6.7373\n",
            "Epoch 84/100\n",
            "1/1 [==============================] - 0s 23ms/step - loss: 6.7365 - mae: 6.7365\n",
            "Epoch 85/100\n",
            "1/1 [==============================] - 0s 21ms/step - loss: 6.7358 - mae: 6.7358\n",
            "Epoch 86/100\n",
            "1/1 [==============================] - 0s 20ms/step - loss: 6.7350 - mae: 6.7350\n",
            "Epoch 87/100\n",
            "1/1 [==============================] - 0s 25ms/step - loss: 6.7343 - mae: 6.7343\n",
            "Epoch 88/100\n",
            "1/1 [==============================] - 0s 26ms/step - loss: 6.7335 - mae: 6.7335\n",
            "Epoch 89/100\n",
            "1/1 [==============================] - 0s 21ms/step - loss: 6.7327 - mae: 6.7327\n",
            "Epoch 90/100\n",
            "1/1 [==============================] - 0s 18ms/step - loss: 6.7320 - mae: 6.7320\n",
            "Epoch 91/100\n",
            "1/1 [==============================] - 0s 34ms/step - loss: 6.7313 - mae: 6.7313\n",
            "Epoch 92/100\n",
            "1/1 [==============================] - 0s 21ms/step - loss: 6.7305 - mae: 6.7305\n",
            "Epoch 93/100\n",
            "1/1 [==============================] - 0s 16ms/step - loss: 6.7298 - mae: 6.7298\n",
            "Epoch 94/100\n",
            "1/1 [==============================] - 0s 19ms/step - loss: 6.7290 - mae: 6.7290\n",
            "Epoch 95/100\n",
            "1/1 [==============================] - 0s 21ms/step - loss: 6.7283 - mae: 6.7283\n",
            "Epoch 96/100\n",
            "1/1 [==============================] - 0s 19ms/step - loss: 6.7275 - mae: 6.7275\n",
            "Epoch 97/100\n",
            "1/1 [==============================] - 0s 12ms/step - loss: 6.7268 - mae: 6.7268\n",
            "Epoch 98/100\n",
            "1/1 [==============================] - 0s 13ms/step - loss: 6.7260 - mae: 6.7260\n",
            "Epoch 99/100\n",
            "1/1 [==============================] - 0s 23ms/step - loss: 6.7253 - mae: 6.7253\n",
            "Epoch 100/100\n",
            "1/1 [==============================] - 0s 15ms/step - loss: 6.7245 - mae: 6.7245\n"
          ]
        },
        {
          "output_type": "execute_result",
          "data": {
            "text/plain": [
              "<keras.callbacks.History at 0x7f999df15510>"
            ]
          },
          "metadata": {},
          "execution_count": 19
        }
      ]
    },
    {
      "cell_type": "code",
      "source": [
        "X, y"
      ],
      "metadata": {
        "colab": {
          "base_uri": "https://localhost:8080/"
        },
        "id": "0jvPIIW7l0iJ",
        "outputId": "cb558e28-000b-46ed-90c9-228ab76f6ea2"
      },
      "execution_count": 20,
      "outputs": [
        {
          "output_type": "execute_result",
          "data": {
            "text/plain": [
              "(<tf.Tensor: shape=(8,), dtype=float32, numpy=array([-7., -4., -1.,  2.,  5.,  8., 11., 14.], dtype=float32)>,\n",
              " <tf.Tensor: shape=(8,), dtype=float32, numpy=array([ 3.,  6.,  9., 12., 15., 18., 21., 24.], dtype=float32)>)"
            ]
          },
          "metadata": {},
          "execution_count": 20
        }
      ]
    },
    {
      "cell_type": "code",
      "source": [
        "# Predict w/ newer model\n",
        "model.predict([17.0])"
      ],
      "metadata": {
        "colab": {
          "base_uri": "https://localhost:8080/"
        },
        "id": "9m6TVuPJmIxF",
        "outputId": "25284b4c-4ca5-49ca-8da3-5b687aee86e2"
      },
      "execution_count": 21,
      "outputs": [
        {
          "output_type": "stream",
          "name": "stdout",
          "text": [
            "1/1 [==============================] - 0s 315ms/step\n"
          ]
        },
        {
          "output_type": "execute_result",
          "data": {
            "text/plain": [
              "array([[29.771135]], dtype=float32)"
            ]
          },
          "metadata": {},
          "execution_count": 21
        }
      ]
    },
    {
      "cell_type": "markdown",
      "source": [
        "## Evaluating a model\n",
        "\n",
        "Build model --> fit model --> evaluate it --> tweak model --> Repeat...\n",
        "\n",
        "Visualizing is very important:\n",
        "- The data: what does data look like?\n",
        "- The model - what does model look like?\n",
        "- The training of a model- how does model perform while it learns?\n",
        "- The predictions of the model - how does the model's predictions line up w/ original labels or expected outcomes"
      ],
      "metadata": {
        "id": "KHaaoOJzmMfS"
      }
    },
    {
      "cell_type": "code",
      "source": [
        " # Make bigger dataset\n",
        " X = tf.range(-100, 100, 4)\n",
        " X"
      ],
      "metadata": {
        "colab": {
          "base_uri": "https://localhost:8080/"
        },
        "id": "n6eHZBW2n23N",
        "outputId": "6a1bf784-1b2f-4ded-8ad4-c04b2682f095"
      },
      "execution_count": 22,
      "outputs": [
        {
          "output_type": "execute_result",
          "data": {
            "text/plain": [
              "<tf.Tensor: shape=(50,), dtype=int32, numpy=\n",
              "array([-100,  -96,  -92,  -88,  -84,  -80,  -76,  -72,  -68,  -64,  -60,\n",
              "        -56,  -52,  -48,  -44,  -40,  -36,  -32,  -28,  -24,  -20,  -16,\n",
              "        -12,   -8,   -4,    0,    4,    8,   12,   16,   20,   24,   28,\n",
              "         32,   36,   40,   44,   48,   52,   56,   60,   64,   68,   72,\n",
              "         76,   80,   84,   88,   92,   96], dtype=int32)>"
            ]
          },
          "metadata": {},
          "execution_count": 22
        }
      ]
    },
    {
      "cell_type": "code",
      "source": [
        "# Make labels for dataset\n",
        "y = X + 10\n",
        "y"
      ],
      "metadata": {
        "colab": {
          "base_uri": "https://localhost:8080/"
        },
        "id": "AbvdwKL2p259",
        "outputId": "13325089-14aa-4b94-ec45-35679b5b4aab"
      },
      "execution_count": 23,
      "outputs": [
        {
          "output_type": "execute_result",
          "data": {
            "text/plain": [
              "<tf.Tensor: shape=(50,), dtype=int32, numpy=\n",
              "array([-90, -86, -82, -78, -74, -70, -66, -62, -58, -54, -50, -46, -42,\n",
              "       -38, -34, -30, -26, -22, -18, -14, -10,  -6,  -2,   2,   6,  10,\n",
              "        14,  18,  22,  26,  30,  34,  38,  42,  46,  50,  54,  58,  62,\n",
              "        66,  70,  74,  78,  82,  86,  90,  94,  98, 102, 106], dtype=int32)>"
            ]
          },
          "metadata": {},
          "execution_count": 23
        }
      ]
    },
    {
      "cell_type": "code",
      "source": [
        "# Visualize data\n",
        "\n",
        "import matplotlib.pyplot as plt\n",
        "plt.scatter(X, y)"
      ],
      "metadata": {
        "colab": {
          "base_uri": "https://localhost:8080/",
          "height": 447
        },
        "id": "r_mp3zGFp_cH",
        "outputId": "59adb3b8-4384-4394-a9f0-ca632ce94e45"
      },
      "execution_count": 24,
      "outputs": [
        {
          "output_type": "execute_result",
          "data": {
            "text/plain": [
              "<matplotlib.collections.PathCollection at 0x7f999f71dde0>"
            ]
          },
          "metadata": {},
          "execution_count": 24
        },
        {
          "output_type": "display_data",
          "data": {
            "text/plain": [
              "<Figure size 640x480 with 1 Axes>"
            ],
            "image/png": "[encoded data removed]"
          },
          "metadata": {}
        }
      ]
    },
    {
      "cell_type": "markdown",
      "source": [
        "### The 3 sets: \n",
        "\n",
        "- **Training set** - model learns from data, typically 70-80% of total data available\n",
        "- **Validation set** - model is tuned based on this data, 10-15% of available data\n",
        "- **Test set** - model is evaluated on data to test what it has learned, typically 10-15% of total available data"
      ],
      "metadata": {
        "id": "LN6svG2TqIxD"
      }
    },
    {
      "cell_type": "code",
      "source": [
        "# Check length of num of samples\n",
        "len(X)"
      ],
      "metadata": {
        "colab": {
          "base_uri": "https://localhost:8080/"
        },
        "id": "YML8l712rMP8",
        "outputId": "e7e881db-64eb-4d87-c658-6cd2bba5e2bb"
      },
      "execution_count": 25,
      "outputs": [
        {
          "output_type": "execute_result",
          "data": {
            "text/plain": [
              "50"
            ]
          },
          "metadata": {},
          "execution_count": 25
        }
      ]
    },
    {
      "cell_type": "code",
      "source": [
        "# Split data into test and train sets\n",
        "X_train = X[:40] # first 40 training samples(80% of total data)\n",
        "y_train = y[:40]\n",
        "\n",
        "X_test = X[40:] # last testing samples (20% of total data)\n",
        "y_test = y[40:]\n",
        "\n",
        "len(X_train), len(X_test), len(y_train), len(y_test)"
      ],
      "metadata": {
        "colab": {
          "base_uri": "https://localhost:8080/"
        },
        "id": "K5AoYbr8rfxn",
        "outputId": "b64fc90d-8e72-4a76-fe15-c91f9c7913b7"
      },
      "execution_count": 26,
      "outputs": [
        {
          "output_type": "execute_result",
          "data": {
            "text/plain": [
              "(40, 10, 40, 10)"
            ]
          },
          "metadata": {},
          "execution_count": 26
        }
      ]
    },
    {
      "cell_type": "markdown",
      "source": [
        "### Visualizing data in newly created training and test sets\n"
      ],
      "metadata": {
        "id": "c_2HqvE-saM2"
      }
    },
    {
      "cell_type": "code",
      "source": [
        "plt.figure(figsize=(10, 7))\n",
        "# Plot training data in blue\n",
        "plt.scatter(X_train, y_train, c=\"b\", label=\"Training data\") # model learns on training data\n",
        "# Plot test data in green\n",
        "plt.scatter(X_test, y_test, c=\"g\", label=\"Testing data\") # moedl tested on testing data\n",
        "# Show legend\n",
        "plt.legend()"
      ],
      "metadata": {
        "colab": {
          "base_uri": "https://localhost:8080/",
          "height": 616
        },
        "id": "VRsiwzy2sf1q",
        "outputId": "fca9cab7-3368-4721-d110-73d4bbd0942b"
      },
      "execution_count": 27,
      "outputs": [
        {
          "output_type": "execute_result",
          "data": {
            "text/plain": [
              "<matplotlib.legend.Legend at 0x7f999dfd6230>"
            ]
          },
          "metadata": {},
          "execution_count": 27
        },
        {
          "output_type": "display_data",
          "data": {
            "text/plain": [
              "<Figure size 1000x700 with 1 Axes>"
            ],
            "image/png": "[encoded data removed]"
          },
          "metadata": {}
        }
      ]
    },
    {
      "cell_type": "code",
      "source": [
        "# 1. Create model\n",
        "model = tf.keras.Sequential([\n",
        "    tf.keras.layers.Dense(1)\n",
        "])\n",
        "\n",
        "#2. Compile model\n",
        "model.compile(loss=tf.keras.losses.mae,\n",
        "              optimizer=tf.keras.optimizers.SGD(),\n",
        "              metrics=[\"mae\"])\n",
        "\n",
        "#3. Fit model\n",
        "#model.fit(X_train, y_train, epochs=100) #Fit model only on training"
      ],
      "metadata": {
        "id": "1uBhpSZws9mo"
      },
      "execution_count": 28,
      "outputs": []
    },
    {
      "cell_type": "markdown",
      "source": [
        "### Visualizing the model"
      ],
      "metadata": {
        "id": "yYcJVrsd7oEO"
      }
    },
    {
      "cell_type": "code",
      "source": [
        "model.summary()"
      ],
      "metadata": {
        "colab": {
          "base_uri": "https://localhost:8080/",
          "height": 305
        },
        "id": "2IaKafO07q5S",
        "outputId": "d696fb01-9f3f-4162-ece4-6b5f2347f801"
      },
      "execution_count": 30,
      "outputs": [
        {
          "output_type": "error",
          "ename": "ValueError",
          "evalue": "ignored",
          "traceback": [
            "\u001b[0;31m---------------------------------------------------------------------------\u001b[0m",
            "\u001b[0;31mValueError\u001b[0m                                Traceback (most recent call last)",
            "\u001b[0;32m<ipython-input-30-5f15418b3570>\u001b[0m in \u001b[0;36m<cell line: 1>\u001b[0;34m()\u001b[0m\n\u001b[0;32m----> 1\u001b[0;31m \u001b[0mmodel\u001b[0m\u001b[0;34m.\u001b[0m\u001b[0msummary\u001b[0m\u001b[0;34m(\u001b[0m\u001b[0;34m)\u001b[0m\u001b[0;34m\u001b[0m\u001b[0;34m\u001b[0m\u001b[0m\n\u001b[0m",
            "\u001b[0;32m/usr/local/lib/python3.10/dist-packages/keras/engine/training.py\u001b[0m in \u001b[0;36msummary\u001b[0;34m(self, line_length, positions, print_fn, expand_nested, show_trainable, layer_range)\u001b[0m\n\u001b[1;32m   3227\u001b[0m         \"\"\"\n\u001b[1;32m   3228\u001b[0m         \u001b[0;32mif\u001b[0m \u001b[0;32mnot\u001b[0m \u001b[0mself\u001b[0m\u001b[0;34m.\u001b[0m\u001b[0mbuilt\u001b[0m\u001b[0;34m:\u001b[0m\u001b[0;34m\u001b[0m\u001b[0;34m\u001b[0m\u001b[0m\n\u001b[0;32m-> 3229\u001b[0;31m             raise ValueError(\n\u001b[0m\u001b[1;32m   3230\u001b[0m                 \u001b[0;34m\"This model has not yet been built. \"\u001b[0m\u001b[0;34m\u001b[0m\u001b[0;34m\u001b[0m\u001b[0m\n\u001b[1;32m   3231\u001b[0m                 \u001b[0;34m\"Build the model first by calling `build()` or by calling \"\u001b[0m\u001b[0;34m\u001b[0m\u001b[0;34m\u001b[0m\u001b[0m\n",
            "\u001b[0;31mValueError\u001b[0m: This model has not yet been built. Build the model first by calling `build()` or by calling the model on a batch of data."
          ]
        }
      ]
    },
    {
      "cell_type": "code",
      "source": [
        "# Create model which builds automatically by defining input_shape arg in first layer\n",
        "tf.random.set_seed(42)\n",
        "\n",
        "# 1. Create model\n",
        "model = tf.keras.Sequential([\n",
        "    tf.keras.layers.Dense(1, input_shape=[1]) # input_shape = 1 b/c both X[0] and y[0] are scalars w/ shape of [1] or 1 number\n",
        "])\n",
        "\n",
        "# 2. Compile model\n",
        "model.compile(loss = tf.keras.losses.mae,\n",
        "              optimizer=tf.keras.optimizers.SGD(),\n",
        "              metrics=[\"mae\"])"
      ],
      "metadata": {
        "id": "Mt94-2Hi7tBa"
      },
      "execution_count": 31,
      "outputs": []
    },
    {
      "cell_type": "code",
      "source": [
        "model.summary()"
      ],
      "metadata": {
        "colab": {
          "base_uri": "https://localhost:8080/"
        },
        "id": "bjNCVH_671Ow",
        "outputId": "a32f363d-002a-44d1-b0ea-fb34a558efbd"
      },
      "execution_count": 32,
      "outputs": [
        {
          "output_type": "stream",
          "name": "stdout",
          "text": [
            "Model: \"sequential_4\"\n",
            "_________________________________________________________________\n",
            " Layer (type)                Output Shape              Param #   \n",
            "=================================================================\n",
            " dense_5 (Dense)             (None, 1)                 2         \n",
            "                                                                 \n",
            "=================================================================\n",
            "Total params: 2\n",
            "Trainable params: 2\n",
            "Non-trainable params: 0\n",
            "_________________________________________________________________\n"
          ]
        }
      ]
    },
    {
      "cell_type": "markdown",
      "source": [
        "- Total params - total # of params in model\n",
        "- Trainable params - params (patterns) model can update as it trains\n",
        "- Non-trainable params - params aren't updated during training (typical when importing already learned patterns or params through **transfer learning**)"
      ],
      "metadata": {
        "id": "8EY2kcTa8w9M"
      }
    },
    {
      "cell_type": "code",
      "source": [
        "# Experimenting w/ # of hidden layers and trainable params/total params\n",
        "tf.random.set_seed(42)\n",
        "\n",
        "# 1. Create model\n",
        "model = tf.keras.Sequential([\n",
        "   tf.keras.layers.Dense(10, input_shape=[1], name = \"input_layer\"), #input_shape = 1 b/c both X[0] and y[0] are scalars w/ shape of [1] or 1 number\n",
        "   tf.keras.layers.Dense(1, name=\"output_layer\")\n",
        "], name = \"model_1\")\n",
        "\n",
        "# 2. Compile model\n",
        "model.compile(loss = tf.keras.losses.mae,\n",
        "              optimizer=tf.keras.optimizers.SGD(),\n",
        "              metrics=[\"mae\"])\n",
        "model.summary()"
      ],
      "metadata": {
        "colab": {
          "base_uri": "https://localhost:8080/"
        },
        "id": "60O7tPxq_O52",
        "outputId": "64033ebf-5333-4839-915b-35371b68bd22"
      },
      "execution_count": 33,
      "outputs": [
        {
          "output_type": "stream",
          "name": "stdout",
          "text": [
            "Model: \"model_1\"\n",
            "_________________________________________________________________\n",
            " Layer (type)                Output Shape              Param #   \n",
            "=================================================================\n",
            " input_layer (Dense)         (None, 10)                20        \n",
            "                                                                 \n",
            " output_layer (Dense)        (None, 1)                 11        \n",
            "                                                                 \n",
            "=================================================================\n",
            "Total params: 31\n",
            "Trainable params: 31\n",
            "Non-trainable params: 0\n",
            "_________________________________________________________________\n"
          ]
        }
      ]
    },
    {
      "cell_type": "markdown",
      "source": [
        "For every hidden layer added there are 2 trainable params per layer b/c number of layers * 2 = total params"
      ],
      "metadata": {
        "id": "GTntjzGV_fE1"
      }
    },
    {
      "cell_type": "code",
      "source": [
        "# Fitting original model to trianing\n",
        "model.fit(X_train, y_train, epochs=100, verbose=2)"
      ],
      "metadata": {
        "colab": {
          "base_uri": "https://localhost:8080/"
        },
        "id": "YYZaWEqj-zvO",
        "outputId": "df95f378-65aa-4b18-ae89-087beb670a65"
      },
      "execution_count": 34,
      "outputs": [
        {
          "output_type": "stream",
          "name": "stdout",
          "text": [
            "Epoch 1/100\n",
            "2/2 - 0s - loss: 46.8432 - mae: 46.8432 - 441ms/epoch - 221ms/step\n",
            "Epoch 2/100\n",
            "2/2 - 0s - loss: 34.2249 - mae: 34.2249 - 8ms/epoch - 4ms/step\n",
            "Epoch 3/100\n",
            "2/2 - 0s - loss: 36.9426 - mae: 36.9426 - 9ms/epoch - 5ms/step\n",
            "Epoch 4/100\n",
            "2/2 - 0s - loss: 18.8182 - mae: 18.8182 - 11ms/epoch - 6ms/step\n",
            "Epoch 5/100\n",
            "2/2 - 0s - loss: 24.4091 - mae: 24.4091 - 8ms/epoch - 4ms/step\n",
            "Epoch 6/100\n",
            "2/2 - 0s - loss: 11.4027 - mae: 11.4027 - 6ms/epoch - 3ms/step\n",
            "Epoch 7/100\n",
            "2/2 - 0s - loss: 12.5255 - mae: 12.5255 - 8ms/epoch - 4ms/step\n",
            "Epoch 8/100\n",
            "2/2 - 0s - loss: 11.1316 - mae: 11.1316 - 8ms/epoch - 4ms/step\n",
            "Epoch 9/100\n",
            "2/2 - 0s - loss: 40.0537 - mae: 40.0537 - 9ms/epoch - 5ms/step\n",
            "Epoch 10/100\n",
            "2/2 - 0s - loss: 27.5023 - mae: 27.5023 - 8ms/epoch - 4ms/step\n",
            "Epoch 11/100\n",
            "2/2 - 0s - loss: 10.2705 - mae: 10.2705 - 8ms/epoch - 4ms/step\n",
            "Epoch 12/100\n",
            "2/2 - 0s - loss: 25.5515 - mae: 25.5515 - 8ms/epoch - 4ms/step\n",
            "Epoch 13/100\n",
            "2/2 - 0s - loss: 16.8507 - mae: 16.8507 - 8ms/epoch - 4ms/step\n",
            "Epoch 14/100\n",
            "2/2 - 0s - loss: 25.6643 - mae: 25.6643 - 8ms/epoch - 4ms/step\n",
            "Epoch 15/100\n",
            "2/2 - 0s - loss: 17.5397 - mae: 17.5397 - 8ms/epoch - 4ms/step\n",
            "Epoch 16/100\n",
            "2/2 - 0s - loss: 10.0402 - mae: 10.0402 - 8ms/epoch - 4ms/step\n",
            "Epoch 17/100\n",
            "2/2 - 0s - loss: 18.5586 - mae: 18.5586 - 9ms/epoch - 4ms/step\n",
            "Epoch 18/100\n",
            "2/2 - 0s - loss: 11.3756 - mae: 11.3756 - 10ms/epoch - 5ms/step\n",
            "Epoch 19/100\n",
            "2/2 - 0s - loss: 13.9735 - mae: 13.9735 - 11ms/epoch - 5ms/step\n",
            "Epoch 20/100\n",
            "2/2 - 0s - loss: 11.2161 - mae: 11.2161 - 11ms/epoch - 6ms/step\n",
            "Epoch 21/100\n",
            "2/2 - 0s - loss: 17.2953 - mae: 17.2953 - 9ms/epoch - 4ms/step\n",
            "Epoch 22/100\n",
            "2/2 - 0s - loss: 15.5324 - mae: 15.5324 - 8ms/epoch - 4ms/step\n",
            "Epoch 23/100\n",
            "2/2 - 0s - loss: 9.2392 - mae: 9.2392 - 9ms/epoch - 4ms/step\n",
            "Epoch 24/100\n",
            "2/2 - 0s - loss: 17.2589 - mae: 17.2589 - 8ms/epoch - 4ms/step\n",
            "Epoch 25/100\n",
            "2/2 - 0s - loss: 15.9348 - mae: 15.9348 - 9ms/epoch - 4ms/step\n",
            "Epoch 26/100\n",
            "2/2 - 0s - loss: 20.9202 - mae: 20.9202 - 9ms/epoch - 4ms/step\n",
            "Epoch 27/100\n",
            "2/2 - 0s - loss: 25.9872 - mae: 25.9872 - 11ms/epoch - 5ms/step\n",
            "Epoch 28/100\n",
            "2/2 - 0s - loss: 18.4821 - mae: 18.4821 - 16ms/epoch - 8ms/step\n",
            "Epoch 29/100\n",
            "2/2 - 0s - loss: 9.2441 - mae: 9.2441 - 8ms/epoch - 4ms/step\n",
            "Epoch 30/100\n",
            "2/2 - 0s - loss: 29.0986 - mae: 29.0986 - 9ms/epoch - 5ms/step\n",
            "Epoch 31/100\n",
            "2/2 - 0s - loss: 52.7046 - mae: 52.7046 - 10ms/epoch - 5ms/step\n",
            "Epoch 32/100\n",
            "2/2 - 0s - loss: 11.9324 - mae: 11.9324 - 14ms/epoch - 7ms/step\n",
            "Epoch 33/100\n",
            "2/2 - 0s - loss: 15.5285 - mae: 15.5285 - 11ms/epoch - 5ms/step\n",
            "Epoch 34/100\n",
            "2/2 - 0s - loss: 12.6191 - mae: 12.6191 - 11ms/epoch - 6ms/step\n",
            "Epoch 35/100\n",
            "2/2 - 0s - loss: 9.2075 - mae: 9.2075 - 11ms/epoch - 5ms/step\n",
            "Epoch 36/100\n",
            "2/2 - 0s - loss: 16.5166 - mae: 16.5166 - 13ms/epoch - 6ms/step\n",
            "Epoch 37/100\n",
            "2/2 - 0s - loss: 11.0754 - mae: 11.0754 - 9ms/epoch - 4ms/step\n",
            "Epoch 38/100\n",
            "2/2 - 0s - loss: 18.2037 - mae: 18.2037 - 8ms/epoch - 4ms/step\n",
            "Epoch 39/100\n",
            "2/2 - 0s - loss: 19.1370 - mae: 19.1370 - 9ms/epoch - 4ms/step\n",
            "Epoch 40/100\n",
            "2/2 - 0s - loss: 20.4967 - mae: 20.4967 - 11ms/epoch - 6ms/step\n",
            "Epoch 41/100\n",
            "2/2 - 0s - loss: 14.8309 - mae: 14.8309 - 13ms/epoch - 7ms/step\n",
            "Epoch 42/100\n",
            "2/2 - 0s - loss: 12.2215 - mae: 12.2215 - 10ms/epoch - 5ms/step\n",
            "Epoch 43/100\n",
            "2/2 - 0s - loss: 10.7034 - mae: 10.7034 - 9ms/epoch - 5ms/step\n",
            "Epoch 44/100\n",
            "2/2 - 0s - loss: 32.3326 - mae: 32.3326 - 12ms/epoch - 6ms/step\n",
            "Epoch 45/100\n",
            "2/2 - 0s - loss: 12.4873 - mae: 12.4873 - 11ms/epoch - 5ms/step\n",
            "Epoch 46/100\n",
            "2/2 - 0s - loss: 17.5672 - mae: 17.5672 - 10ms/epoch - 5ms/step\n",
            "Epoch 47/100\n",
            "2/2 - 0s - loss: 15.7378 - mae: 15.7378 - 12ms/epoch - 6ms/step\n",
            "Epoch 48/100\n",
            "2/2 - 0s - loss: 8.3651 - mae: 8.3651 - 11ms/epoch - 5ms/step\n",
            "Epoch 49/100\n",
            "2/2 - 0s - loss: 13.9705 - mae: 13.9705 - 12ms/epoch - 6ms/step\n",
            "Epoch 50/100\n",
            "2/2 - 0s - loss: 12.8136 - mae: 12.8136 - 12ms/epoch - 6ms/step\n",
            "Epoch 51/100\n",
            "2/2 - 0s - loss: 14.8276 - mae: 14.8276 - 10ms/epoch - 5ms/step\n",
            "Epoch 52/100\n",
            "2/2 - 0s - loss: 18.7153 - mae: 18.7153 - 10ms/epoch - 5ms/step\n",
            "Epoch 53/100\n",
            "2/2 - 0s - loss: 24.1531 - mae: 24.1531 - 9ms/epoch - 5ms/step\n",
            "Epoch 54/100\n",
            "2/2 - 0s - loss: 23.2156 - mae: 23.2156 - 9ms/epoch - 4ms/step\n",
            "Epoch 55/100\n",
            "2/2 - 0s - loss: 24.0738 - mae: 24.0738 - 9ms/epoch - 5ms/step\n",
            "Epoch 56/100\n",
            "2/2 - 0s - loss: 11.1752 - mae: 11.1752 - 10ms/epoch - 5ms/step\n",
            "Epoch 57/100\n",
            "2/2 - 0s - loss: 13.1345 - mae: 13.1345 - 14ms/epoch - 7ms/step\n",
            "Epoch 58/100\n",
            "2/2 - 0s - loss: 9.8214 - mae: 9.8214 - 9ms/epoch - 5ms/step\n",
            "Epoch 59/100\n",
            "2/2 - 0s - loss: 13.3224 - mae: 13.3224 - 9ms/epoch - 5ms/step\n",
            "Epoch 60/100\n",
            "2/2 - 0s - loss: 10.8812 - mae: 10.8812 - 9ms/epoch - 4ms/step\n",
            "Epoch 61/100\n",
            "2/2 - 0s - loss: 13.4861 - mae: 13.4861 - 9ms/epoch - 5ms/step\n",
            "Epoch 62/100\n",
            "2/2 - 0s - loss: 17.5238 - mae: 17.5238 - 10ms/epoch - 5ms/step\n",
            "Epoch 63/100\n",
            "2/2 - 0s - loss: 9.1663 - mae: 9.1663 - 10ms/epoch - 5ms/step\n",
            "Epoch 64/100\n",
            "2/2 - 0s - loss: 18.3946 - mae: 18.3946 - 10ms/epoch - 5ms/step\n",
            "Epoch 65/100\n",
            "2/2 - 0s - loss: 10.1217 - mae: 10.1217 - 11ms/epoch - 6ms/step\n",
            "Epoch 66/100\n",
            "2/2 - 0s - loss: 24.2606 - mae: 24.2606 - 12ms/epoch - 6ms/step\n",
            "Epoch 67/100\n",
            "2/2 - 0s - loss: 10.8923 - mae: 10.8923 - 12ms/epoch - 6ms/step\n",
            "Epoch 68/100\n",
            "2/2 - 0s - loss: 10.7737 - mae: 10.7737 - 11ms/epoch - 6ms/step\n",
            "Epoch 69/100\n",
            "2/2 - 0s - loss: 23.2461 - mae: 23.2461 - 10ms/epoch - 5ms/step\n",
            "Epoch 70/100\n",
            "2/2 - 0s - loss: 8.8168 - mae: 8.8168 - 9ms/epoch - 4ms/step\n",
            "Epoch 71/100\n",
            "2/2 - 0s - loss: 15.9833 - mae: 15.9833 - 8ms/epoch - 4ms/step\n",
            "Epoch 72/100\n",
            "2/2 - 0s - loss: 8.1450 - mae: 8.1450 - 9ms/epoch - 5ms/step\n",
            "Epoch 73/100\n",
            "2/2 - 0s - loss: 9.4661 - mae: 9.4661 - 9ms/epoch - 5ms/step\n",
            "Epoch 74/100\n",
            "2/2 - 0s - loss: 28.1588 - mae: 28.1588 - 9ms/epoch - 4ms/step\n",
            "Epoch 75/100\n",
            "2/2 - 0s - loss: 10.1966 - mae: 10.1966 - 9ms/epoch - 5ms/step\n",
            "Epoch 76/100\n",
            "2/2 - 0s - loss: 13.1461 - mae: 13.1461 - 9ms/epoch - 5ms/step\n",
            "Epoch 77/100\n",
            "2/2 - 0s - loss: 18.3804 - mae: 18.3804 - 9ms/epoch - 5ms/step\n",
            "Epoch 78/100\n",
            "2/2 - 0s - loss: 9.0162 - mae: 9.0162 - 9ms/epoch - 5ms/step\n",
            "Epoch 79/100\n",
            "2/2 - 0s - loss: 23.4279 - mae: 23.4279 - 10ms/epoch - 5ms/step\n",
            "Epoch 80/100\n",
            "2/2 - 0s - loss: 26.0965 - mae: 26.0965 - 12ms/epoch - 6ms/step\n",
            "Epoch 81/100\n",
            "2/2 - 0s - loss: 11.3838 - mae: 11.3838 - 11ms/epoch - 6ms/step\n",
            "Epoch 82/100\n",
            "2/2 - 0s - loss: 12.4998 - mae: 12.4998 - 12ms/epoch - 6ms/step\n",
            "Epoch 83/100\n",
            "2/2 - 0s - loss: 17.1895 - mae: 17.1895 - 12ms/epoch - 6ms/step\n",
            "Epoch 84/100\n",
            "2/2 - 0s - loss: 6.5977 - mae: 6.5977 - 11ms/epoch - 5ms/step\n",
            "Epoch 85/100\n",
            "2/2 - 0s - loss: 20.2802 - mae: 20.2802 - 9ms/epoch - 5ms/step\n",
            "Epoch 86/100\n",
            "2/2 - 0s - loss: 10.1665 - mae: 10.1665 - 9ms/epoch - 4ms/step\n",
            "Epoch 87/100\n",
            "2/2 - 0s - loss: 24.3213 - mae: 24.3213 - 9ms/epoch - 4ms/step\n",
            "Epoch 88/100\n",
            "2/2 - 0s - loss: 18.9867 - mae: 18.9867 - 9ms/epoch - 5ms/step\n",
            "Epoch 89/100\n",
            "2/2 - 0s - loss: 7.1650 - mae: 7.1650 - 9ms/epoch - 4ms/step\n",
            "Epoch 90/100\n",
            "2/2 - 0s - loss: 18.2644 - mae: 18.2644 - 11ms/epoch - 6ms/step\n",
            "Epoch 91/100\n",
            "2/2 - 0s - loss: 13.3149 - mae: 13.3149 - 11ms/epoch - 5ms/step\n",
            "Epoch 92/100\n",
            "2/2 - 0s - loss: 8.7220 - mae: 8.7220 - 9ms/epoch - 4ms/step\n",
            "Epoch 93/100\n",
            "2/2 - 0s - loss: 14.1762 - mae: 14.1762 - 11ms/epoch - 6ms/step\n",
            "Epoch 94/100\n",
            "2/2 - 0s - loss: 17.1768 - mae: 17.1768 - 11ms/epoch - 6ms/step\n",
            "Epoch 95/100\n",
            "2/2 - 0s - loss: 16.7523 - mae: 16.7523 - 12ms/epoch - 6ms/step\n",
            "Epoch 96/100\n",
            "2/2 - 0s - loss: 11.1207 - mae: 11.1207 - 9ms/epoch - 4ms/step\n",
            "Epoch 97/100\n",
            "2/2 - 0s - loss: 21.1693 - mae: 21.1693 - 12ms/epoch - 6ms/step\n",
            "Epoch 98/100\n",
            "2/2 - 0s - loss: 10.4995 - mae: 10.4995 - 8ms/epoch - 4ms/step\n",
            "Epoch 99/100\n",
            "2/2 - 0s - loss: 14.6010 - mae: 14.6010 - 9ms/epoch - 4ms/step\n",
            "Epoch 100/100\n",
            "2/2 - 0s - loss: 17.7770 - mae: 17.7770 - 9ms/epoch - 4ms/step\n"
          ]
        },
        {
          "output_type": "execute_result",
          "data": {
            "text/plain": [
              "<keras.callbacks.History at 0x7f999dff9000>"
            ]
          },
          "metadata": {},
          "execution_count": 34
        }
      ]
    },
    {
      "cell_type": "code",
      "source": [
        "from tensorflow.keras.utils import plot_model\n",
        "\n",
        "plot_model(model=model, show_shapes=True)"
      ],
      "metadata": {
        "colab": {
          "base_uri": "https://localhost:8080/",
          "height": 312
        },
        "id": "TO3ci-GhgOGM",
        "outputId": "0b53370b-5bde-4a49-937d-e02bc46d5ee9"
      },
      "execution_count": 35,
      "outputs": [
        {
          "output_type": "execute_result",
          "data": {
            "image/png": "[encoded data removed]",
            "text/plain": [
              "<IPython.core.display.Image object>"
            ]
          },
          "metadata": {},
          "execution_count": 35
        }
      ]
    },
    {
      "cell_type": "code",
      "source": [
        "# Get summary of model\n",
        "model.summary()"
      ],
      "metadata": {
        "colab": {
          "base_uri": "https://localhost:8080/"
        },
        "id": "E-nPInR2h94s",
        "outputId": "c6935fde-4d97-4b93-9145-30e8792ba8de"
      },
      "execution_count": 36,
      "outputs": [
        {
          "output_type": "stream",
          "name": "stdout",
          "text": [
            "Model: \"model_1\"\n",
            "_________________________________________________________________\n",
            " Layer (type)                Output Shape              Param #   \n",
            "=================================================================\n",
            " input_layer (Dense)         (None, 10)                20        \n",
            "                                                                 \n",
            " output_layer (Dense)        (None, 1)                 11        \n",
            "                                                                 \n",
            "=================================================================\n",
            "Total params: 31\n",
            "Trainable params: 31\n",
            "Non-trainable params: 0\n",
            "_________________________________________________________________\n"
          ]
        }
      ]
    },
    {
      "cell_type": "markdown",
      "source": [
        "### More model visualization and experimentation"
      ],
      "metadata": {
        "id": "-QGf6rUfikE0"
      }
    },
    {
      "cell_type": "code",
      "source": [
        "# Experimenting w/ # of hidden layers and trainable params/total params\n",
        "tf.random.set_seed(42)\n",
        "\n",
        "# 1. Create model\n",
        "model = tf.keras.Sequential([\n",
        "   tf.keras.layers.Dense(10, input_shape=[1], name = \"input_layer\"), #input_shape = 1 b/c both X[0] and y[0] are scalars w/ shape of [1] or 1 number\n",
        "   tf.keras.layers.Dense(100, name=\"hidden_layer1\"),\n",
        "   tf.keras.layers.Dense(10, name=\"hidden_layer2\"),\n",
        "   tf.keras.layers.Dense(1, name=\"output_layer1\")\n",
        "], name = \"model_2\")\n",
        "\n",
        "# 2. Compile model\n",
        "model.compile(loss = tf.keras.losses.mae,\n",
        "              optimizer=tf.keras.optimizers.SGD(),\n",
        "              metrics=[\"mae\"])\n",
        "model.summary()"
      ],
      "metadata": {
        "colab": {
          "base_uri": "https://localhost:8080/"
        },
        "id": "r-LkhodRijyj",
        "outputId": "b44b7a7b-bf1d-4920-9f05-0e65137fc22e"
      },
      "execution_count": 37,
      "outputs": [
        {
          "output_type": "stream",
          "name": "stdout",
          "text": [
            "Model: \"model_2\"\n",
            "_________________________________________________________________\n",
            " Layer (type)                Output Shape              Param #   \n",
            "=================================================================\n",
            " input_layer (Dense)         (None, 10)                20        \n",
            "                                                                 \n",
            " hidden_layer1 (Dense)       (None, 100)               1100      \n",
            "                                                                 \n",
            " hidden_layer2 (Dense)       (None, 10)                1010      \n",
            "                                                                 \n",
            " output_layer1 (Dense)       (None, 1)                 11        \n",
            "                                                                 \n",
            "=================================================================\n",
            "Total params: 2,141\n",
            "Trainable params: 2,141\n",
            "Non-trainable params: 0\n",
            "_________________________________________________________________\n"
          ]
        }
      ]
    },
    {
      "cell_type": "code",
      "source": [
        "plot_model(model=model, show_shapes=True)"
      ],
      "metadata": {
        "colab": {
          "base_uri": "https://localhost:8080/",
          "height": 533
        },
        "id": "en_xKdxmkV4i",
        "outputId": "93067184-5024-4c4e-a4f6-ef011e525232"
      },
      "execution_count": 38,
      "outputs": [
        {
          "output_type": "execute_result",
          "data": {
            "image/png": "[encoded data removed]",
            "text/plain": [
              "<IPython.core.display.Image object>"
            ]
          },
          "metadata": {},
          "execution_count": 38
        }
      ]
    },
    {
      "cell_type": "markdown",
      "source": [
        "### Visualizing model predictions\n",
        "\n",
        "(Predictions from the original model from cell 75)\n",
        "\n",
        "To visualize predictions: plot predictions vs actual values.\n",
        "\n",
        "'y_test' or 'y_pred' vs 'y_pred' (actual vs model predictions)"
      ],
      "metadata": {
        "id": "7hXwfsxNiAuU"
      }
    },
    {
      "cell_type": "code",
      "source": [
        "# Making predictions\n",
        "y_pred = model.predict(X_test)\n",
        "y_pred"
      ],
      "metadata": {
        "colab": {
          "base_uri": "https://localhost:8080/"
        },
        "id": "zeBKQLoqiOfm",
        "outputId": "d04f8146-09b4-4c08-f513-ddd7e07fe035"
      },
      "execution_count": 39,
      "outputs": [
        {
          "output_type": "stream",
          "name": "stdout",
          "text": [
            "1/1 [==============================] - 0s 100ms/step\n"
          ]
        },
        {
          "output_type": "execute_result",
          "data": {
            "text/plain": [
              "array([[ -8.561949],\n",
              "       [ -9.132744],\n",
              "       [ -9.703542],\n",
              "       [-10.274341],\n",
              "       [-10.845123],\n",
              "       [-11.415926],\n",
              "       [-11.986731],\n",
              "       [-12.557528],\n",
              "       [-13.128319],\n",
              "       [-13.699125]], dtype=float32)"
            ]
          },
          "metadata": {},
          "execution_count": 39
        }
      ]
    },
    {
      "cell_type": "code",
      "source": [
        "y_test"
      ],
      "metadata": {
        "colab": {
          "base_uri": "https://localhost:8080/"
        },
        "id": "MPpfyV9vlCA3",
        "outputId": "bf718a43-0471-4e57-cc20-5ce0690cffca"
      },
      "execution_count": 40,
      "outputs": [
        {
          "output_type": "execute_result",
          "data": {
            "text/plain": [
              "<tf.Tensor: shape=(10,), dtype=int32, numpy=array([ 70,  74,  78,  82,  86,  90,  94,  98, 102, 106], dtype=int32)>"
            ]
          },
          "metadata": {},
          "execution_count": 40
        }
      ]
    },
    {
      "cell_type": "code",
      "source": [
        "# Creating plot function\n",
        "def plot_predictions(train_data=X_train,\n",
        "                     train_labels=y_train,\n",
        "                     test_data=X_test,\n",
        "                     test_labels=y_test,\n",
        "                     predictions=y_pred):\n",
        "\n",
        "  \"\"\" \n",
        "  Plots training data, test data and compares predictions to actual value\n",
        "  \"\"\"\n",
        "  plt.figure(figsize=(10,7))\n",
        "  # Plot training data in blue\n",
        "  plt.scatter(train_data, train_labels, c=\"b\", label=\"Training data\")\n",
        "  # Plot testing data in green\n",
        "  plt.scatter(test_data, test_labels, c=\"g\", label=\"Testing data\")\n",
        "  # Plot model's predictions in red\n",
        "  plt.scatter(test_data, predictions, c=\"r\", label=\"Predictions\")\n",
        "  # Show legend\n",
        "  plt.legend()"
      ],
      "metadata": {
        "id": "LbLATlMLlD_b"
      },
      "execution_count": 41,
      "outputs": []
    },
    {
      "cell_type": "code",
      "source": [
        "plot_predictions(train_data=X_train,\n",
        "                 train_labels=y_train,\n",
        "                 test_data=X_test,\n",
        "                 test_labels=y_test,\n",
        "                 predictions=y_pred\n",
        "                 )"
      ],
      "metadata": {
        "colab": {
          "base_uri": "https://localhost:8080/",
          "height": 599
        },
        "id": "JwmDSPqQmVht",
        "outputId": "ab83e9fa-f6cc-49de-f153-cc1f3997105f"
      },
      "execution_count": 42,
      "outputs": [
        {
          "output_type": "display_data",
          "data": {
            "text/plain": [
              "<Figure size 1000x700 with 1 Axes>"
            ],
            "image/png": "[encoded data removed]"
          },
          "metadata": {}
        }
      ]
    },
    {
      "cell_type": "markdown",
      "source": [
        "### Evaluating model's predictions w/ regression evaluation metrics\n",
        "\n",
        "Depending on problem, there will be diff evaluation metrics to evaluate model's performance. \n",
        "\n",
        "Current problem: regression problem, therefore 2 of the main metrics are:\n",
        "- MAE - mean absolute error, \"On avg how wrong is each model's prediction\"\n",
        "- MSE - mean square error, \"square avg errors\" (when larger errors are more significant than smaller errors)\n",
        "- Huber - combination of MSE and MAE (less sensitive to outliers than MSE)"
      ],
      "metadata": {
        "id": "la94hpxCma3x"
      }
    },
    {
      "cell_type": "code",
      "source": [
        "# Evaluate model on test set\n",
        "model.evaluate(X_test, y_test)"
      ],
      "metadata": {
        "colab": {
          "base_uri": "https://localhost:8080/"
        },
        "id": "mYKGtAnCo6Ta",
        "outputId": "99f00d88-0aec-48ae-bdaa-0f4ea39e207e"
      },
      "execution_count": 43,
      "outputs": [
        {
          "output_type": "stream",
          "name": "stdout",
          "text": [
            "1/1 [==============================] - 0s 378ms/step - loss: 99.1305 - mae: 99.1305\n"
          ]
        },
        {
          "output_type": "execute_result",
          "data": {
            "text/plain": [
              "[99.13053894042969, 99.13053894042969]"
            ]
          },
          "metadata": {},
          "execution_count": 43
        }
      ]
    },
    {
      "cell_type": "code",
      "source": [
        "y_pred"
      ],
      "metadata": {
        "colab": {
          "base_uri": "https://localhost:8080/"
        },
        "id": "2NbWa9yIquu6",
        "outputId": "fc7712e1-7902-4cb0-e321-765ca1c39957"
      },
      "execution_count": 44,
      "outputs": [
        {
          "output_type": "execute_result",
          "data": {
            "text/plain": [
              "array([[ -8.561949],\n",
              "       [ -9.132744],\n",
              "       [ -9.703542],\n",
              "       [-10.274341],\n",
              "       [-10.845123],\n",
              "       [-11.415926],\n",
              "       [-11.986731],\n",
              "       [-12.557528],\n",
              "       [-13.128319],\n",
              "       [-13.699125]], dtype=float32)"
            ]
          },
          "metadata": {},
          "execution_count": 44
        }
      ]
    },
    {
      "cell_type": "code",
      "source": [
        "y_test"
      ],
      "metadata": {
        "colab": {
          "base_uri": "https://localhost:8080/"
        },
        "id": "tAqbHZnNq6jr",
        "outputId": "78a5042a-1bf8-4f64-b984-9d6ebf121714"
      },
      "execution_count": 45,
      "outputs": [
        {
          "output_type": "execute_result",
          "data": {
            "text/plain": [
              "<tf.Tensor: shape=(10,), dtype=int32, numpy=array([ 70,  74,  78,  82,  86,  90,  94,  98, 102, 106], dtype=int32)>"
            ]
          },
          "metadata": {},
          "execution_count": 45
        }
      ]
    },
    {
      "cell_type": "code",
      "source": [
        "# Calculate mean absolute error\n",
        "mae = tf.keras.losses.MAE(y_true=y_test, y_pred=tf.constant(y_pred))\n",
        "mae"
      ],
      "metadata": {
        "colab": {
          "base_uri": "https://localhost:8080/"
        },
        "id": "3Lh_ogjAq7vK",
        "outputId": "25e806c2-f724-4341-9a4b-526df6d408cc"
      },
      "execution_count": 46,
      "outputs": [
        {
          "output_type": "execute_result",
          "data": {
            "text/plain": [
              "<tf.Tensor: shape=(10,), dtype=float32, numpy=\n",
              "array([ 96.56195 ,  97.132744,  97.703545,  98.27434 ,  98.84512 ,\n",
              "        99.415924,  99.98673 , 100.557526, 101.12832 , 101.69913 ],\n",
              "      dtype=float32)>"
            ]
          },
          "metadata": {},
          "execution_count": 46
        }
      ]
    },
    {
      "cell_type": "markdown",
      "source": [
        "Doesn't seem to be working right b/c it isn't outputting the same value as above in the evaluate model call (cell 99)"
      ],
      "metadata": {
        "id": "utI5wExUuZzl"
      }
    },
    {
      "cell_type": "code",
      "source": [
        "tf.constant(y_pred)"
      ],
      "metadata": {
        "colab": {
          "base_uri": "https://localhost:8080/"
        },
        "id": "XrEH6S6dtpdx",
        "outputId": "ebf97c45-30ac-4eba-fb68-7e55611f88f1"
      },
      "execution_count": 47,
      "outputs": [
        {
          "output_type": "execute_result",
          "data": {
            "text/plain": [
              "<tf.Tensor: shape=(10, 1), dtype=float32, numpy=\n",
              "array([[ -8.561949],\n",
              "       [ -9.132744],\n",
              "       [ -9.703542],\n",
              "       [-10.274341],\n",
              "       [-10.845123],\n",
              "       [-11.415926],\n",
              "       [-11.986731],\n",
              "       [-12.557528],\n",
              "       [-13.128319],\n",
              "       [-13.699125]], dtype=float32)>"
            ]
          },
          "metadata": {},
          "execution_count": 47
        }
      ]
    },
    {
      "cell_type": "code",
      "source": [
        "y_test"
      ],
      "metadata": {
        "colab": {
          "base_uri": "https://localhost:8080/"
        },
        "id": "Fod6fWxBtsgU",
        "outputId": "9d8e9447-24d0-4f3a-b6dc-420e635bb64f"
      },
      "execution_count": 48,
      "outputs": [
        {
          "output_type": "execute_result",
          "data": {
            "text/plain": [
              "<tf.Tensor: shape=(10,), dtype=int32, numpy=array([ 70,  74,  78,  82,  86,  90,  94,  98, 102, 106], dtype=int32)>"
            ]
          },
          "metadata": {},
          "execution_count": 48
        }
      ]
    },
    {
      "cell_type": "markdown",
      "source": [
        "**Shape of y_test and y_pred tensor isn't equal therefore that is messing w/ calculating the MAE**"
      ],
      "metadata": {
        "id": "kPVrwv9yuk18"
      }
    },
    {
      "cell_type": "code",
      "source": [
        "# Squeeze shape of y_pred tensor to get its shape to be same as y_test tensor\n",
        "tf.squeeze(y_pred)"
      ],
      "metadata": {
        "colab": {
          "base_uri": "https://localhost:8080/"
        },
        "id": "Svo8XrnMtxOj",
        "outputId": "bcede170-b960-49de-a5bf-cdcd59941b10"
      },
      "execution_count": 49,
      "outputs": [
        {
          "output_type": "execute_result",
          "data": {
            "text/plain": [
              "<tf.Tensor: shape=(10,), dtype=float32, numpy=\n",
              "array([ -8.561949,  -9.132744,  -9.703542, -10.274341, -10.845123,\n",
              "       -11.415926, -11.986731, -12.557528, -13.128319, -13.699125],\n",
              "      dtype=float32)>"
            ]
          },
          "metadata": {},
          "execution_count": 49
        }
      ]
    },
    {
      "cell_type": "code",
      "source": [
        "# Calculate mean absolute error\n",
        "mae = tf.metrics.mean_absolute_error(y_true=y_test, y_pred=tf.squeeze(y_pred))\n",
        "mae"
      ],
      "metadata": {
        "colab": {
          "base_uri": "https://localhost:8080/"
        },
        "id": "OKXvu_nPuD70",
        "outputId": "658311b3-8f91-4555-d2b2-b14a8ee0d935"
      },
      "execution_count": 50,
      "outputs": [
        {
          "output_type": "execute_result",
          "data": {
            "text/plain": [
              "<tf.Tensor: shape=(), dtype=float32, numpy=99.13054>"
            ]
          },
          "metadata": {},
          "execution_count": 50
        }
      ]
    },
    {
      "cell_type": "code",
      "source": [
        "# Calculate mean square error\n",
        "mse = tf.keras.losses.MSE(y_true=y_test, y_pred=tf.squeeze(y_pred))\n",
        "mse"
      ],
      "metadata": {
        "colab": {
          "base_uri": "https://localhost:8080/"
        },
        "id": "jhDZLqNUrLbI",
        "outputId": "1a72929e-5f5f-485e-a8ca-ac8723a4ff5c"
      },
      "execution_count": 51,
      "outputs": [
        {
          "output_type": "execute_result",
          "data": {
            "text/plain": [
              "<tf.Tensor: shape=(), dtype=float32, numpy=9999.222>"
            ]
          },
          "metadata": {},
          "execution_count": 51
        }
      ]
    },
    {
      "cell_type": "code",
      "source": [
        "# Make functions to reuse MAE and MSE\n",
        "def mae(y_true, y_pred):\n",
        "  return tf.metrics.mean_absolute_error(y_true=y_true,\n",
        "                                        y_pred=tf.squeeze(y_pred))\n",
        "\n",
        "def mse(y_true, y_pred):\n",
        "  return tf.metrics.mean_squared_error(y_true=y_true,\n",
        "                                        y_pred=tf.squeeze(y_pred))"
      ],
      "metadata": {
        "id": "bP67DJwqrWNq"
      },
      "execution_count": 52,
      "outputs": []
    },
    {
      "cell_type": "markdown",
      "source": [
        "### Running experiments to improve model\n",
        "\n",
        "How to improve model:\n",
        "1. Get more data - more examples for model to train on (more opportunities to learn patterns or relationships b/w features and labels).\n",
        "2. Make model larger (using a more complex model) - more layers or more hidden units per layer.\n",
        "3. Train longer - give model more time/data to find patterns in data.\n",
        "\n",
        "3 modelling experiments that are done in section below:\n",
        "1. 'model_1' - same as original model, 1 layer, trained for 100 epochs.\n",
        "2. 'model_2' - 2 layers, trained for 100 epochs\n",
        "3. 'model_3' - 2 layers, trained for 500 epochs\n",
        "4. 'model_4' - \n",
        "5. 'model_5' - "
      ],
      "metadata": {
        "id": "ja2TJmHLvZeZ"
      }
    },
    {
      "cell_type": "code",
      "source": [
        "X_train, y_train"
      ],
      "metadata": {
        "colab": {
          "base_uri": "https://localhost:8080/"
        },
        "id": "_W3k-0uHxRZy",
        "outputId": "6cd114a0-7d02-49ab-b456-d4051b34e569"
      },
      "execution_count": 53,
      "outputs": [
        {
          "output_type": "execute_result",
          "data": {
            "text/plain": [
              "(<tf.Tensor: shape=(40,), dtype=int32, numpy=\n",
              " array([-100,  -96,  -92,  -88,  -84,  -80,  -76,  -72,  -68,  -64,  -60,\n",
              "         -56,  -52,  -48,  -44,  -40,  -36,  -32,  -28,  -24,  -20,  -16,\n",
              "         -12,   -8,   -4,    0,    4,    8,   12,   16,   20,   24,   28,\n",
              "          32,   36,   40,   44,   48,   52,   56], dtype=int32)>,\n",
              " <tf.Tensor: shape=(40,), dtype=int32, numpy=\n",
              " array([-90, -86, -82, -78, -74, -70, -66, -62, -58, -54, -50, -46, -42,\n",
              "        -38, -34, -30, -26, -22, -18, -14, -10,  -6,  -2,   2,   6,  10,\n",
              "         14,  18,  22,  26,  30,  34,  38,  42,  46,  50,  54,  58,  62,\n",
              "         66], dtype=int32)>)"
            ]
          },
          "metadata": {},
          "execution_count": 53
        }
      ]
    },
    {
      "cell_type": "code",
      "source": [
        "# Set random seed for reproducibility\n",
        "tf.random.set_seed(42)\n",
        "\n",
        "# 1. Create model\n",
        "model_1 = tf.keras.Sequential([\n",
        "    tf.keras.layers.Dense(1)\n",
        "])\n",
        "\n",
        "# 2. Compile model\n",
        "model_1.compile(loss=tf.keras.losses.mae,\n",
        "                optimizer=tf.keras.optimizers.SGD(),\n",
        "                metrics=[\"mae\"])\n",
        "\n",
        "# 3. Fit model\n",
        "model_1.fit(tf.expand_dims(X_train, -1), y_train, epochs=100)"
      ],
      "metadata": {
        "colab": {
          "base_uri": "https://localhost:8080/"
        },
        "id": "QCK4N-Env_GJ",
        "outputId": "e67beec7-8b7a-4dbf-e9ec-0b8deed23a29"
      },
      "execution_count": 54,
      "outputs": [
        {
          "output_type": "stream",
          "name": "stdout",
          "text": [
            "Epoch 1/100\n",
            "2/2 [==============================] - 0s 13ms/step - loss: 49.1648 - mae: 49.1648\n",
            "Epoch 2/100\n",
            "2/2 [==============================] - 0s 8ms/step - loss: 16.8697 - mae: 16.8697\n",
            "Epoch 3/100\n",
            "2/2 [==============================] - 0s 13ms/step - loss: 15.9810 - mae: 15.9810\n",
            "Epoch 4/100\n",
            "2/2 [==============================] - 0s 8ms/step - loss: 8.4801 - mae: 8.4801\n",
            "Epoch 5/100\n",
            "2/2 [==============================] - 0s 9ms/step - loss: 11.0222 - mae: 11.0222\n",
            "Epoch 6/100\n",
            "2/2 [==============================] - 0s 11ms/step - loss: 10.1838 - mae: 10.1838\n",
            "Epoch 7/100\n",
            "2/2 [==============================] - 0s 10ms/step - loss: 9.2018 - mae: 9.2018\n",
            "Epoch 8/100\n",
            "2/2 [==============================] - 0s 10ms/step - loss: 9.1412 - mae: 9.1412\n",
            "Epoch 9/100\n",
            "2/2 [==============================] - 0s 12ms/step - loss: 11.7477 - mae: 11.7477\n",
            "Epoch 10/100\n",
            "2/2 [==============================] - 0s 10ms/step - loss: 13.6650 - mae: 13.6650\n",
            "Epoch 11/100\n",
            "2/2 [==============================] - 0s 9ms/step - loss: 11.7275 - mae: 11.7275\n",
            "Epoch 12/100\n",
            "2/2 [==============================] - 0s 10ms/step - loss: 16.4809 - mae: 16.4809\n",
            "Epoch 13/100\n",
            "2/2 [==============================] - 0s 9ms/step - loss: 11.9979 - mae: 11.9979\n",
            "Epoch 14/100\n",
            "2/2 [==============================] - 0s 11ms/step - loss: 13.9432 - mae: 13.9432\n",
            "Epoch 15/100\n",
            "2/2 [==============================] - 0s 10ms/step - loss: 11.3347 - mae: 11.3347\n",
            "Epoch 16/100\n",
            "2/2 [==============================] - 0s 14ms/step - loss: 8.5733 - mae: 8.5733\n",
            "Epoch 17/100\n",
            "2/2 [==============================] - 0s 16ms/step - loss: 13.7017 - mae: 13.7017\n",
            "Epoch 18/100\n",
            "2/2 [==============================] - 0s 10ms/step - loss: 11.5438 - mae: 11.5438\n",
            "Epoch 19/100\n",
            "2/2 [==============================] - 0s 7ms/step - loss: 17.8382 - mae: 17.8382\n",
            "Epoch 20/100\n",
            "2/2 [==============================] - 0s 14ms/step - loss: 14.9734 - mae: 14.9734\n",
            "Epoch 21/100\n",
            "2/2 [==============================] - 0s 11ms/step - loss: 10.8554 - mae: 10.8554\n",
            "Epoch 22/100\n",
            "2/2 [==============================] - 0s 10ms/step - loss: 8.6069 - mae: 8.6069\n",
            "Epoch 23/100\n",
            "2/2 [==============================] - 0s 16ms/step - loss: 9.7188 - mae: 9.7188\n",
            "Epoch 24/100\n",
            "2/2 [==============================] - 0s 12ms/step - loss: 10.9674 - mae: 10.9674\n",
            "Epoch 25/100\n",
            "2/2 [==============================] - 0s 9ms/step - loss: 9.1712 - mae: 9.1712\n",
            "Epoch 26/100\n",
            "2/2 [==============================] - 0s 8ms/step - loss: 13.2052 - mae: 13.2052\n",
            "Epoch 27/100\n",
            "2/2 [==============================] - 0s 9ms/step - loss: 10.6765 - mae: 10.6765\n",
            "Epoch 28/100\n",
            "2/2 [==============================] - 0s 10ms/step - loss: 12.8980 - mae: 12.8980\n",
            "Epoch 29/100\n",
            "2/2 [==============================] - 0s 9ms/step - loss: 9.5198 - mae: 9.5198\n",
            "Epoch 30/100\n",
            "2/2 [==============================] - 0s 9ms/step - loss: 16.4227 - mae: 16.4227\n",
            "Epoch 31/100\n",
            "2/2 [==============================] - 0s 9ms/step - loss: 23.5757 - mae: 23.5757\n",
            "Epoch 32/100\n",
            "2/2 [==============================] - 0s 9ms/step - loss: 7.6183 - mae: 7.6183\n",
            "Epoch 33/100\n",
            "2/2 [==============================] - 0s 9ms/step - loss: 9.3148 - mae: 9.3148\n",
            "Epoch 34/100\n",
            "2/2 [==============================] - 0s 9ms/step - loss: 13.6857 - mae: 13.6857\n",
            "Epoch 35/100\n",
            "2/2 [==============================] - 0s 9ms/step - loss: 11.1655 - mae: 11.1655\n",
            "Epoch 36/100\n",
            "2/2 [==============================] - 0s 11ms/step - loss: 13.3879 - mae: 13.3879\n",
            "Epoch 37/100\n",
            "2/2 [==============================] - 0s 12ms/step - loss: 9.4607 - mae: 9.4607\n",
            "Epoch 38/100\n",
            "2/2 [==============================] - 0s 11ms/step - loss: 10.1127 - mae: 10.1127\n",
            "Epoch 39/100\n",
            "2/2 [==============================] - 0s 11ms/step - loss: 10.2176 - mae: 10.2176\n",
            "Epoch 40/100\n",
            "2/2 [==============================] - 0s 12ms/step - loss: 10.9621 - mae: 10.9621\n",
            "Epoch 41/100\n",
            "2/2 [==============================] - 0s 8ms/step - loss: 7.9385 - mae: 7.9385\n",
            "Epoch 42/100\n",
            "2/2 [==============================] - 0s 8ms/step - loss: 10.5906 - mae: 10.5906\n",
            "Epoch 43/100\n",
            "2/2 [==============================] - 0s 9ms/step - loss: 7.2202 - mae: 7.2202\n",
            "Epoch 44/100\n",
            "2/2 [==============================] - 0s 12ms/step - loss: 8.0045 - mae: 8.0045\n",
            "Epoch 45/100\n",
            "2/2 [==============================] - 0s 13ms/step - loss: 9.7976 - mae: 9.7976\n",
            "Epoch 46/100\n",
            "2/2 [==============================] - 0s 12ms/step - loss: 8.8730 - mae: 8.8730\n",
            "Epoch 47/100\n",
            "2/2 [==============================] - 0s 9ms/step - loss: 7.5832 - mae: 7.5832\n",
            "Epoch 48/100\n",
            "2/2 [==============================] - 0s 9ms/step - loss: 8.5862 - mae: 8.5862\n",
            "Epoch 49/100\n",
            "2/2 [==============================] - 0s 18ms/step - loss: 10.0025 - mae: 10.0025\n",
            "Epoch 50/100\n",
            "2/2 [==============================] - 0s 9ms/step - loss: 9.0383 - mae: 9.0383\n",
            "Epoch 51/100\n",
            "2/2 [==============================] - 0s 9ms/step - loss: 10.6714 - mae: 10.6714\n",
            "Epoch 52/100\n",
            "2/2 [==============================] - 0s 10ms/step - loss: 15.3089 - mae: 15.3089\n",
            "Epoch 53/100\n",
            "2/2 [==============================] - 0s 10ms/step - loss: 14.3279 - mae: 14.3279\n",
            "Epoch 54/100\n",
            "2/2 [==============================] - 0s 8ms/step - loss: 21.6269 - mae: 21.6269\n",
            "Epoch 55/100\n",
            "2/2 [==============================] - 0s 9ms/step - loss: 15.9875 - mae: 15.9875\n",
            "Epoch 56/100\n",
            "2/2 [==============================] - 0s 8ms/step - loss: 10.3014 - mae: 10.3014\n",
            "Epoch 57/100\n",
            "2/2 [==============================] - 0s 9ms/step - loss: 9.7723 - mae: 9.7723\n",
            "Epoch 58/100\n",
            "2/2 [==============================] - 0s 9ms/step - loss: 9.0590 - mae: 9.0590\n",
            "Epoch 59/100\n",
            "2/2 [==============================] - 0s 10ms/step - loss: 8.2624 - mae: 8.2624\n",
            "Epoch 60/100\n",
            "2/2 [==============================] - 0s 10ms/step - loss: 9.3612 - mae: 9.3612\n",
            "Epoch 61/100\n",
            "2/2 [==============================] - 0s 9ms/step - loss: 11.1676 - mae: 11.1676\n",
            "Epoch 62/100\n",
            "2/2 [==============================] - 0s 11ms/step - loss: 12.0906 - mae: 12.0906\n",
            "Epoch 63/100\n",
            "2/2 [==============================] - 0s 11ms/step - loss: 7.2770 - mae: 7.2770\n",
            "Epoch 64/100\n",
            "2/2 [==============================] - 0s 10ms/step - loss: 12.4311 - mae: 12.4311\n",
            "Epoch 65/100\n",
            "2/2 [==============================] - 0s 10ms/step - loss: 10.5034 - mae: 10.5034\n",
            "Epoch 66/100\n",
            "2/2 [==============================] - 0s 8ms/step - loss: 15.6229 - mae: 15.6229\n",
            "Epoch 67/100\n",
            "2/2 [==============================] - 0s 8ms/step - loss: 10.0240 - mae: 10.0240\n",
            "Epoch 68/100\n",
            "2/2 [==============================] - 0s 8ms/step - loss: 8.7322 - mae: 8.7322\n",
            "Epoch 69/100\n",
            "2/2 [==============================] - 0s 8ms/step - loss: 13.5005 - mae: 13.5005\n",
            "Epoch 70/100\n",
            "2/2 [==============================] - 0s 9ms/step - loss: 7.4779 - mae: 7.4779\n",
            "Epoch 71/100\n",
            "2/2 [==============================] - 0s 6ms/step - loss: 12.2303 - mae: 12.2303\n",
            "Epoch 72/100\n",
            "2/2 [==============================] - 0s 6ms/step - loss: 8.5443 - mae: 8.5443\n",
            "Epoch 73/100\n",
            "2/2 [==============================] - 0s 7ms/step - loss: 7.0483 - mae: 7.0483\n",
            "Epoch 74/100\n",
            "2/2 [==============================] - 0s 7ms/step - loss: 9.9439 - mae: 9.9439\n",
            "Epoch 75/100\n",
            "2/2 [==============================] - 0s 7ms/step - loss: 9.9419 - mae: 9.9419\n",
            "Epoch 76/100\n",
            "2/2 [==============================] - 0s 7ms/step - loss: 10.1093 - mae: 10.1093\n",
            "Epoch 77/100\n",
            "2/2 [==============================] - 0s 6ms/step - loss: 12.9530 - mae: 12.9530\n",
            "Epoch 78/100\n",
            "2/2 [==============================] - 0s 7ms/step - loss: 11.1589 - mae: 11.1589\n",
            "Epoch 79/100\n",
            "2/2 [==============================] - 0s 7ms/step - loss: 14.7135 - mae: 14.7135\n",
            "Epoch 80/100\n",
            "2/2 [==============================] - 0s 6ms/step - loss: 8.9304 - mae: 8.9304\n",
            "Epoch 81/100\n",
            "2/2 [==============================] - 0s 7ms/step - loss: 10.7719 - mae: 10.7719\n",
            "Epoch 82/100\n",
            "2/2 [==============================] - 0s 7ms/step - loss: 8.4015 - mae: 8.4015\n",
            "Epoch 83/100\n",
            "2/2 [==============================] - 0s 7ms/step - loss: 9.2289 - mae: 9.2289\n",
            "Epoch 84/100\n",
            "2/2 [==============================] - 0s 7ms/step - loss: 8.9493 - mae: 8.9493\n",
            "Epoch 85/100\n",
            "2/2 [==============================] - 0s 6ms/step - loss: 13.1953 - mae: 13.1953\n",
            "Epoch 86/100\n",
            "2/2 [==============================] - 0s 8ms/step - loss: 13.7145 - mae: 13.7145\n",
            "Epoch 87/100\n",
            "2/2 [==============================] - 0s 6ms/step - loss: 13.1991 - mae: 13.1991\n",
            "Epoch 88/100\n",
            "2/2 [==============================] - 0s 7ms/step - loss: 11.5261 - mae: 11.5261\n",
            "Epoch 89/100\n",
            "2/2 [==============================] - 0s 7ms/step - loss: 7.8135 - mae: 7.8135\n",
            "Epoch 90/100\n",
            "2/2 [==============================] - 0s 7ms/step - loss: 10.9413 - mae: 10.9413\n",
            "Epoch 91/100\n",
            "2/2 [==============================] - 0s 7ms/step - loss: 6.7580 - mae: 6.7580\n",
            "Epoch 92/100\n",
            "2/2 [==============================] - 0s 7ms/step - loss: 10.1340 - mae: 10.1340\n",
            "Epoch 93/100\n",
            "2/2 [==============================] - 0s 7ms/step - loss: 7.6133 - mae: 7.6133\n",
            "Epoch 94/100\n",
            "2/2 [==============================] - 0s 6ms/step - loss: 9.2459 - mae: 9.2459\n",
            "Epoch 95/100\n",
            "2/2 [==============================] - 0s 6ms/step - loss: 10.8334 - mae: 10.8334\n",
            "Epoch 96/100\n",
            "2/2 [==============================] - 0s 6ms/step - loss: 10.3058 - mae: 10.3058\n",
            "Epoch 97/100\n",
            "2/2 [==============================] - 0s 6ms/step - loss: 7.6844 - mae: 7.6844\n",
            "Epoch 98/100\n",
            "2/2 [==============================] - 0s 7ms/step - loss: 8.6204 - mae: 8.6204\n",
            "Epoch 99/100\n",
            "2/2 [==============================] - 0s 8ms/step - loss: 9.3987 - mae: 9.3987\n",
            "Epoch 100/100\n",
            "2/2 [==============================] - 0s 6ms/step - loss: 8.8453 - mae: 8.8453\n"
          ]
        },
        {
          "output_type": "execute_result",
          "data": {
            "text/plain": [
              "<keras.callbacks.History at 0x7f999f6dd240>"
            ]
          },
          "metadata": {},
          "execution_count": 54
        }
      ]
    },
    {
      "cell_type": "code",
      "source": [
        "# Make and plot predictions for model_1\n",
        "y_preds_1 = model_1.predict(X_test)\n",
        "plot_predictions(predictions=y_preds_1)"
      ],
      "metadata": {
        "colab": {
          "base_uri": "https://localhost:8080/",
          "height": 654
        },
        "id": "GWXiaInBwAuV",
        "outputId": "39034d46-13e0-4c85-91e3-2331fd683e9d"
      },
      "execution_count": 55,
      "outputs": [
        {
          "output_type": "stream",
          "name": "stderr",
          "text": [
            "WARNING:tensorflow:5 out of the last 5 calls to <function Model.make_predict_function.<locals>.predict_function at 0x7f99ac20e710> triggered tf.function retracing. Tracing is expensive and the excessive number of tracings could be due to (1) creating @tf.function repeatedly in a loop, (2) passing tensors with different shapes, (3) passing Python objects instead of tensors. For (1), please define your @tf.function outside of the loop. For (2), @tf.function has reduce_retracing=True option that can avoid unnecessary retracing. For (3), please refer to https://www.tensorflow.org/guide/function#controlling_retracing and https://www.tensorflow.org/api_docs/python/tf/function for  more details.\n"
          ]
        },
        {
          "output_type": "stream",
          "name": "stdout",
          "text": [
            "1/1 [==============================] - 0s 60ms/step\n"
          ]
        },
        {
          "output_type": "display_data",
          "data": {
            "text/plain": [
              "<Figure size 1000x700 with 1 Axes>"
            ],
            "image/png": "[encoded data removed]"
          },
          "metadata": {}
        }
      ]
    },
    {
      "cell_type": "code",
      "source": [
        "# Calculate mode_1 evaluation metrics\n",
        "mae_1 = mae(y_test, y_preds_1)\n",
        "mse_1 = mse(y_test, y_preds_1)\n",
        "mae_1, mse_1"
      ],
      "metadata": {
        "colab": {
          "base_uri": "https://localhost:8080/"
        },
        "id": "LQVZLDhyyJs8",
        "outputId": "3bb1ce77-2dde-430d-f5ef-8794747e2255"
      },
      "execution_count": 56,
      "outputs": [
        {
          "output_type": "execute_result",
          "data": {
            "text/plain": [
              "(<tf.Tensor: shape=(), dtype=float32, numpy=8.590669>,\n",
              " <tf.Tensor: shape=(), dtype=float32, numpy=80.29356>)"
            ]
          },
          "metadata": {},
          "execution_count": 56
        }
      ]
    },
    {
      "cell_type": "markdown",
      "source": [
        "**model_2**\n",
        "\n",
        "- 2 dense layers created for 100 epochs"
      ],
      "metadata": {
        "id": "Wji14Mzzy5Np"
      }
    },
    {
      "cell_type": "code",
      "source": [
        "# Set random seed\n",
        "tf.random.set_seed(42)\n",
        "\n",
        "# 1. Create model\n",
        "model_2 = tf.keras.Sequential([\n",
        "    tf.keras.layers.Dense(10),\n",
        "    tf.keras.layers.Dense(1)\n",
        "])\n",
        "\n",
        "# 2. Compile model\n",
        "model_2.compile(loss=tf.keras.losses.mae,\n",
        "                optimizer=tf.keras.optimizers.SGD(),\n",
        "                metrics=[\"mse\"])\n",
        "\n",
        "# 3. Fit model\n",
        "model_2.fit(tf.expand_dims(X_train, -1), y_train, epochs=100)"
      ],
      "metadata": {
        "colab": {
          "base_uri": "https://localhost:8080/"
        },
        "id": "n1htlLjfzOkH",
        "outputId": "49450448-24fd-47fd-c2c9-c16d4b2d3461"
      },
      "execution_count": 57,
      "outputs": [
        {
          "output_type": "stream",
          "name": "stdout",
          "text": [
            "Epoch 1/100\n",
            "2/2 [==============================] - 1s 11ms/step - loss: 28.6440 - mse: 1153.4548\n",
            "Epoch 2/100\n",
            "2/2 [==============================] - 0s 8ms/step - loss: 25.3283 - mse: 826.3195\n",
            "Epoch 3/100\n",
            "2/2 [==============================] - 0s 7ms/step - loss: 30.8916 - mse: 1415.5175\n",
            "Epoch 4/100\n",
            "2/2 [==============================] - 0s 7ms/step - loss: 25.9535 - mse: 982.3679\n",
            "Epoch 5/100\n",
            "2/2 [==============================] - 0s 8ms/step - loss: 14.2573 - mse: 249.4157\n",
            "Epoch 6/100\n",
            "2/2 [==============================] - 0s 7ms/step - loss: 11.3915 - mse: 147.0318\n",
            "Epoch 7/100\n",
            "2/2 [==============================] - 0s 7ms/step - loss: 12.4164 - mse: 201.3645\n",
            "Epoch 8/100\n",
            "2/2 [==============================] - 0s 7ms/step - loss: 10.9565 - mse: 142.7287\n",
            "Epoch 9/100\n",
            "2/2 [==============================] - 0s 8ms/step - loss: 38.7705 - mse: 2339.4609\n",
            "Epoch 10/100\n",
            "2/2 [==============================] - 0s 7ms/step - loss: 26.3822 - mse: 978.2631\n",
            "Epoch 11/100\n",
            "2/2 [==============================] - 0s 7ms/step - loss: 11.8126 - mse: 216.6367\n",
            "Epoch 12/100\n",
            "2/2 [==============================] - 0s 6ms/step - loss: 23.6395 - mse: 791.2264\n",
            "Epoch 13/100\n",
            "2/2 [==============================] - 0s 6ms/step - loss: 21.0455 - mse: 630.7208\n",
            "Epoch 14/100\n",
            "2/2 [==============================] - 0s 6ms/step - loss: 23.4753 - mse: 844.1895\n",
            "Epoch 15/100\n",
            "2/2 [==============================] - 0s 8ms/step - loss: 15.2672 - mse: 314.2941\n",
            "Epoch 16/100\n",
            "2/2 [==============================] - 0s 8ms/step - loss: 11.3616 - mse: 150.0191\n",
            "Epoch 17/100\n",
            "2/2 [==============================] - 0s 9ms/step - loss: 23.2049 - mse: 753.9489\n",
            "Epoch 18/100\n",
            "2/2 [==============================] - 0s 7ms/step - loss: 11.7866 - mse: 213.2588\n",
            "Epoch 19/100\n",
            "2/2 [==============================] - 0s 15ms/step - loss: 16.4905 - mse: 436.1540\n",
            "Epoch 20/100\n",
            "2/2 [==============================] - 0s 9ms/step - loss: 8.2431 - mse: 93.3713\n",
            "Epoch 21/100\n",
            "2/2 [==============================] - 0s 9ms/step - loss: 14.4199 - mse: 288.4830\n",
            "Epoch 22/100\n",
            "2/2 [==============================] - 0s 7ms/step - loss: 12.8334 - mse: 245.6815\n",
            "Epoch 23/100\n",
            "2/2 [==============================] - 0s 7ms/step - loss: 15.4715 - mse: 314.8610\n",
            "Epoch 24/100\n",
            "2/2 [==============================] - 0s 6ms/step - loss: 15.2606 - mse: 315.7166\n",
            "Epoch 25/100\n",
            "2/2 [==============================] - 0s 7ms/step - loss: 14.3371 - mse: 272.6848\n",
            "Epoch 26/100\n",
            "2/2 [==============================] - 0s 7ms/step - loss: 19.3373 - mse: 567.4830\n",
            "Epoch 27/100\n",
            "2/2 [==============================] - 0s 7ms/step - loss: 11.4594 - mse: 169.4814\n",
            "Epoch 28/100\n",
            "2/2 [==============================] - 0s 6ms/step - loss: 29.1237 - mse: 1378.8484\n",
            "Epoch 29/100\n",
            "2/2 [==============================] - 0s 7ms/step - loss: 9.2539 - mse: 94.4693\n",
            "Epoch 30/100\n",
            "2/2 [==============================] - 0s 6ms/step - loss: 29.8522 - mse: 1614.7775\n",
            "Epoch 31/100\n",
            "2/2 [==============================] - 0s 7ms/step - loss: 54.1714 - mse: 5257.6250\n",
            "Epoch 32/100\n",
            "2/2 [==============================] - 0s 8ms/step - loss: 9.5769 - mse: 101.2604\n",
            "Epoch 33/100\n",
            "2/2 [==============================] - 0s 6ms/step - loss: 12.1691 - mse: 181.4415\n",
            "Epoch 34/100\n",
            "2/2 [==============================] - 0s 7ms/step - loss: 23.9150 - mse: 866.6134\n",
            "Epoch 35/100\n",
            "2/2 [==============================] - 0s 11ms/step - loss: 12.6233 - mse: 242.8513\n",
            "Epoch 36/100\n",
            "2/2 [==============================] - 0s 7ms/step - loss: 21.5310 - mse: 661.1899\n",
            "Epoch 37/100\n",
            "2/2 [==============================] - 0s 6ms/step - loss: 11.3808 - mse: 150.1253\n",
            "Epoch 38/100\n",
            "2/2 [==============================] - 0s 7ms/step - loss: 13.4632 - mse: 269.0893\n",
            "Epoch 39/100\n",
            "2/2 [==============================] - 0s 6ms/step - loss: 10.7915 - mse: 139.1993\n",
            "Epoch 40/100\n",
            "2/2 [==============================] - 0s 7ms/step - loss: 16.5950 - mse: 399.6032\n",
            "Epoch 41/100\n",
            "2/2 [==============================] - 0s 7ms/step - loss: 10.9737 - mse: 179.9690\n",
            "Epoch 42/100\n",
            "2/2 [==============================] - 0s 6ms/step - loss: 9.3013 - mse: 115.1807\n",
            "Epoch 43/100\n",
            "2/2 [==============================] - 0s 6ms/step - loss: 9.5948 - mse: 111.0324\n",
            "Epoch 44/100\n",
            "2/2 [==============================] - 0s 7ms/step - loss: 27.9870 - mse: 1256.1963\n",
            "Epoch 45/100\n",
            "2/2 [==============================] - 0s 7ms/step - loss: 11.2856 - mse: 146.9627\n",
            "Epoch 46/100\n",
            "2/2 [==============================] - 0s 7ms/step - loss: 14.0663 - mse: 288.7146\n",
            "Epoch 47/100\n",
            "2/2 [==============================] - 0s 6ms/step - loss: 13.5047 - mse: 256.6965\n",
            "Epoch 48/100\n",
            "2/2 [==============================] - 0s 8ms/step - loss: 17.3426 - mse: 408.0522\n",
            "Epoch 49/100\n",
            "2/2 [==============================] - 0s 10ms/step - loss: 9.5166 - mse: 98.6272\n",
            "Epoch 50/100\n",
            "2/2 [==============================] - 0s 9ms/step - loss: 13.7055 - mse: 253.4561\n",
            "Epoch 51/100\n",
            "2/2 [==============================] - 0s 7ms/step - loss: 11.5614 - mse: 153.0439\n",
            "Epoch 52/100\n",
            "2/2 [==============================] - 0s 7ms/step - loss: 30.2137 - mse: 1574.2520\n",
            "Epoch 53/100\n",
            "2/2 [==============================] - 0s 6ms/step - loss: 13.7287 - mse: 278.8264\n",
            "Epoch 54/100\n",
            "2/2 [==============================] - 0s 7ms/step - loss: 26.4356 - mse: 1071.7673\n",
            "Epoch 55/100\n",
            "2/2 [==============================] - 0s 6ms/step - loss: 26.0252 - mse: 1027.7139\n",
            "Epoch 56/100\n",
            "2/2 [==============================] - 0s 7ms/step - loss: 11.2396 - mse: 171.4623\n",
            "Epoch 57/100\n",
            "2/2 [==============================] - 0s 7ms/step - loss: 13.2182 - mse: 218.4156\n",
            "Epoch 58/100\n",
            "2/2 [==============================] - 0s 7ms/step - loss: 9.8709 - mse: 107.5333\n",
            "Epoch 59/100\n",
            "2/2 [==============================] - 0s 6ms/step - loss: 13.4105 - mse: 255.1023\n",
            "Epoch 60/100\n",
            "2/2 [==============================] - 0s 6ms/step - loss: 10.9366 - mse: 141.5667\n",
            "Epoch 61/100\n",
            "2/2 [==============================] - 0s 6ms/step - loss: 13.5601 - mse: 246.3454\n",
            "Epoch 62/100\n",
            "2/2 [==============================] - 0s 7ms/step - loss: 17.8782 - mse: 486.6781\n",
            "Epoch 63/100\n",
            "2/2 [==============================] - 0s 7ms/step - loss: 8.7389 - mse: 92.0631\n",
            "Epoch 64/100\n",
            "2/2 [==============================] - 0s 7ms/step - loss: 16.1387 - mse: 373.3454\n",
            "Epoch 65/100\n",
            "2/2 [==============================] - 0s 7ms/step - loss: 10.7475 - mse: 146.6776\n",
            "Epoch 66/100\n",
            "2/2 [==============================] - 0s 7ms/step - loss: 22.1884 - mse: 729.3943\n",
            "Epoch 67/100\n",
            "2/2 [==============================] - 0s 9ms/step - loss: 10.2698 - mse: 121.2462\n",
            "Epoch 68/100\n",
            "2/2 [==============================] - 0s 7ms/step - loss: 13.4713 - mse: 269.1719\n",
            "Epoch 69/100\n",
            "2/2 [==============================] - 0s 6ms/step - loss: 11.4349 - mse: 163.2634\n",
            "Epoch 70/100\n",
            "2/2 [==============================] - 0s 9ms/step - loss: 13.6201 - mse: 245.9526\n",
            "Epoch 71/100\n",
            "2/2 [==============================] - 0s 8ms/step - loss: 15.6301 - mse: 347.1012\n",
            "Epoch 72/100\n",
            "2/2 [==============================] - 0s 8ms/step - loss: 11.8550 - mse: 168.4949\n",
            "Epoch 73/100\n",
            "2/2 [==============================] - 0s 8ms/step - loss: 16.6323 - mse: 372.7490\n",
            "Epoch 74/100\n",
            "2/2 [==============================] - 0s 5ms/step - loss: 24.1537 - mse: 918.2096\n",
            "Epoch 75/100\n",
            "2/2 [==============================] - 0s 6ms/step - loss: 9.6342 - mse: 149.2308\n",
            "Epoch 76/100\n",
            "2/2 [==============================] - 0s 8ms/step - loss: 12.4866 - mse: 189.9152\n",
            "Epoch 77/100\n",
            "2/2 [==============================] - 0s 7ms/step - loss: 16.7243 - mse: 433.6470\n",
            "Epoch 78/100\n",
            "2/2 [==============================] - 0s 11ms/step - loss: 9.0869 - mse: 96.5172\n",
            "Epoch 79/100\n",
            "2/2 [==============================] - 0s 8ms/step - loss: 24.0479 - mse: 870.8041\n",
            "Epoch 80/100\n",
            "2/2 [==============================] - 0s 7ms/step - loss: 26.8444 - mse: 1113.3865\n",
            "Epoch 81/100\n",
            "2/2 [==============================] - 0s 7ms/step - loss: 11.7317 - mse: 172.9876\n",
            "Epoch 82/100\n",
            "2/2 [==============================] - 0s 6ms/step - loss: 12.0036 - mse: 211.7081\n",
            "Epoch 83/100\n",
            "2/2 [==============================] - 0s 7ms/step - loss: 17.3958 - mse: 394.2217\n",
            "Epoch 84/100\n",
            "2/2 [==============================] - 0s 7ms/step - loss: 7.2728 - mse: 73.4218\n",
            "Epoch 85/100\n",
            "2/2 [==============================] - 0s 8ms/step - loss: 14.9499 - mse: 312.2109\n",
            "Epoch 86/100\n",
            "2/2 [==============================] - 0s 8ms/step - loss: 15.2760 - mse: 315.2181\n",
            "Epoch 87/100\n",
            "2/2 [==============================] - 0s 6ms/step - loss: 19.0808 - mse: 519.9593\n",
            "Epoch 88/100\n",
            "2/2 [==============================] - 0s 7ms/step - loss: 29.9013 - mse: 1294.4558\n",
            "Epoch 89/100\n",
            "2/2 [==============================] - 0s 9ms/step - loss: 10.2013 - mse: 124.4740\n",
            "Epoch 90/100\n",
            "2/2 [==============================] - 0s 7ms/step - loss: 21.5833 - mse: 667.6909\n",
            "Epoch 91/100\n",
            "2/2 [==============================] - 0s 7ms/step - loss: 10.6002 - mse: 161.8537\n",
            "Epoch 92/100\n",
            "2/2 [==============================] - 0s 7ms/step - loss: 18.4483 - mse: 466.7973\n",
            "Epoch 93/100\n",
            "2/2 [==============================] - 0s 6ms/step - loss: 7.4314 - mse: 81.9446\n",
            "Epoch 94/100\n",
            "2/2 [==============================] - 0s 6ms/step - loss: 17.7795 - mse: 447.8835\n",
            "Epoch 95/100\n",
            "2/2 [==============================] - 0s 7ms/step - loss: 11.1422 - mse: 165.2314\n",
            "Epoch 96/100\n",
            "2/2 [==============================] - 0s 8ms/step - loss: 19.4756 - mse: 512.6156\n",
            "Epoch 97/100\n",
            "2/2 [==============================] - 0s 8ms/step - loss: 12.5140 - mse: 224.7282\n",
            "Epoch 98/100\n",
            "2/2 [==============================] - 0s 8ms/step - loss: 10.3078 - mse: 137.4860\n",
            "Epoch 99/100\n",
            "2/2 [==============================] - 0s 7ms/step - loss: 13.8395 - mse: 263.2436\n",
            "Epoch 100/100\n",
            "2/2 [==============================] - 0s 8ms/step - loss: 20.1331 - mse: 602.8698\n"
          ]
        },
        {
          "output_type": "execute_result",
          "data": {
            "text/plain": [
              "<keras.callbacks.History at 0x7f999de4da50>"
            ]
          },
          "metadata": {},
          "execution_count": 57
        }
      ]
    },
    {
      "cell_type": "code",
      "source": [
        "# Make and plot predictions\n",
        "y_preds_2 = model_2.predict(X_test)\n",
        "plot_predictions(predictions=y_preds_2)"
      ],
      "metadata": {
        "colab": {
          "base_uri": "https://localhost:8080/",
          "height": 654
        },
        "id": "gmaeRo3bz8wt",
        "outputId": "72fb0543-6572-470d-880d-381b0ed5cc12"
      },
      "execution_count": 58,
      "outputs": [
        {
          "output_type": "stream",
          "name": "stderr",
          "text": [
            "WARNING:tensorflow:6 out of the last 6 calls to <function Model.make_predict_function.<locals>.predict_function at 0x7f999f68e5f0> triggered tf.function retracing. Tracing is expensive and the excessive number of tracings could be due to (1) creating @tf.function repeatedly in a loop, (2) passing tensors with different shapes, (3) passing Python objects instead of tensors. For (1), please define your @tf.function outside of the loop. For (2), @tf.function has reduce_retracing=True option that can avoid unnecessary retracing. For (3), please refer to https://www.tensorflow.org/guide/function#controlling_retracing and https://www.tensorflow.org/api_docs/python/tf/function for  more details.\n"
          ]
        },
        {
          "output_type": "stream",
          "name": "stdout",
          "text": [
            "1/1 [==============================] - 0s 55ms/step\n"
          ]
        },
        {
          "output_type": "display_data",
          "data": {
            "text/plain": [
              "<Figure size 1000x700 with 1 Axes>"
            ],
            "image/png": "[encoded data removed]"
          },
          "metadata": {}
        }
      ]
    },
    {
      "cell_type": "code",
      "source": [
        "# Calculate model_2 evaluation metrics\n",
        "mae_2 = mae(y_test, y_preds_2)\n",
        "mse_2 = mse(y_test, y_preds_2)\n",
        "mae_2, mse_2"
      ],
      "metadata": {
        "colab": {
          "base_uri": "https://localhost:8080/"
        },
        "id": "yKBcHwMx0XTL",
        "outputId": "e388b2b2-9608-4c34-b251-9eeeb59e248a"
      },
      "execution_count": 59,
      "outputs": [
        {
          "output_type": "execute_result",
          "data": {
            "text/plain": [
              "(<tf.Tensor: shape=(), dtype=float32, numpy=2.910614>,\n",
              " <tf.Tensor: shape=(), dtype=float32, numpy=11.194093>)"
            ]
          },
          "metadata": {},
          "execution_count": 59
        }
      ]
    },
    {
      "cell_type": "markdown",
      "source": [
        "**'model_3'**"
      ],
      "metadata": {
        "id": "omf6RCPS0koA"
      }
    },
    {
      "cell_type": "code",
      "source": [
        "# Set random seed\n",
        "tf.random.set_seed(42)\n",
        "\n",
        "# 1. Create model\n",
        "model_3 = tf.keras.Sequential([\n",
        "    tf.keras.layers.Dense(10),\n",
        "    tf.keras.layers.Dense(1)\n",
        "])\n",
        "\n",
        "# 2. Compile model\n",
        "model_3.compile(loss=tf.keras.losses.mae,\n",
        "                optimizer=tf.keras.optimizers.SGD(),\n",
        "                metrics=[\"mae\"])\n",
        "\n",
        "# 3. Fit model\n",
        "model_3.fit(tf.expand_dims(X_train, -1), y_train, epochs=500)"
      ],
      "metadata": {
        "colab": {
          "base_uri": "https://localhost:8080/"
        },
        "id": "1IZjHe580vUF",
        "outputId": "5b1b94e3-5903-45e5-e813-f11e5bc9a075"
      },
      "execution_count": 60,
      "outputs": [
        {
          "output_type": "stream",
          "name": "stdout",
          "text": [
            "Epoch 1/500\n",
            "2/2 [==============================] - 0s 10ms/step - loss: 50.1000 - mae: 50.1000\n",
            "Epoch 2/500\n",
            "2/2 [==============================] - 0s 10ms/step - loss: 11.2580 - mae: 11.2580\n",
            "Epoch 3/500\n",
            "2/2 [==============================] - 0s 7ms/step - loss: 28.7033 - mae: 28.7033\n",
            "Epoch 4/500\n",
            "2/2 [==============================] - 0s 6ms/step - loss: 14.3769 - mae: 14.3769\n",
            "Epoch 5/500\n",
            "2/2 [==============================] - 0s 8ms/step - loss: 16.5628 - mae: 16.5628\n",
            "Epoch 6/500\n",
            "2/2 [==============================] - 0s 7ms/step - loss: 11.2647 - mae: 11.2647\n",
            "Epoch 7/500\n",
            "2/2 [==============================] - 0s 9ms/step - loss: 12.3274 - mae: 12.3274\n",
            "Epoch 8/500\n",
            "2/2 [==============================] - 0s 12ms/step - loss: 10.9954 - mae: 10.9954\n",
            "Epoch 9/500\n",
            "2/2 [==============================] - 0s 7ms/step - loss: 38.9591 - mae: 38.9591\n",
            "Epoch 10/500\n",
            "2/2 [==============================] - 0s 7ms/step - loss: 26.5489 - mae: 26.5489\n",
            "Epoch 11/500\n",
            "2/2 [==============================] - 0s 6ms/step - loss: 11.8114 - mae: 11.8114\n",
            "Epoch 12/500\n",
            "2/2 [==============================] - 0s 7ms/step - loss: 23.6362 - mae: 23.6362\n",
            "Epoch 13/500\n",
            "2/2 [==============================] - 0s 6ms/step - loss: 21.1861 - mae: 21.1861\n",
            "Epoch 14/500\n",
            "2/2 [==============================] - 0s 7ms/step - loss: 23.6508 - mae: 23.6508\n",
            "Epoch 15/500\n",
            "2/2 [==============================] - 0s 10ms/step - loss: 15.7324 - mae: 15.7324\n",
            "Epoch 16/500\n",
            "2/2 [==============================] - 0s 7ms/step - loss: 10.4202 - mae: 10.4202\n",
            "Epoch 17/500\n",
            "2/2 [==============================] - 0s 6ms/step - loss: 19.6531 - mae: 19.6531\n",
            "Epoch 18/500\n",
            "2/2 [==============================] - 0s 6ms/step - loss: 13.2919 - mae: 13.2919\n",
            "Epoch 19/500\n",
            "2/2 [==============================] - 0s 6ms/step - loss: 16.0697 - mae: 16.0697\n",
            "Epoch 20/500\n",
            "2/2 [==============================] - 0s 8ms/step - loss: 10.2004 - mae: 10.2004\n",
            "Epoch 21/500\n",
            "2/2 [==============================] - 0s 6ms/step - loss: 13.7529 - mae: 13.7529\n",
            "Epoch 22/500\n",
            "2/2 [==============================] - 0s 6ms/step - loss: 21.9932 - mae: 21.9932\n",
            "Epoch 23/500\n",
            "2/2 [==============================] - 0s 7ms/step - loss: 10.4411 - mae: 10.4411\n",
            "Epoch 24/500\n",
            "2/2 [==============================] - 0s 7ms/step - loss: 15.7298 - mae: 15.7298\n",
            "Epoch 25/500\n",
            "2/2 [==============================] - 0s 9ms/step - loss: 14.8848 - mae: 14.8848\n",
            "Epoch 26/500\n",
            "2/2 [==============================] - 0s 6ms/step - loss: 19.4986 - mae: 19.4986\n",
            "Epoch 27/500\n",
            "2/2 [==============================] - 0s 6ms/step - loss: 20.5796 - mae: 20.5796\n",
            "Epoch 28/500\n",
            "2/2 [==============================] - 0s 7ms/step - loss: 14.9398 - mae: 14.9398\n",
            "Epoch 29/500\n",
            "2/2 [==============================] - 0s 5ms/step - loss: 9.2588 - mae: 9.2588\n",
            "Epoch 30/500\n",
            "2/2 [==============================] - 0s 7ms/step - loss: 30.3345 - mae: 30.3345\n",
            "Epoch 31/500\n",
            "2/2 [==============================] - 0s 6ms/step - loss: 55.1168 - mae: 55.1168\n",
            "Epoch 32/500\n",
            "2/2 [==============================] - 0s 7ms/step - loss: 9.6912 - mae: 9.6912\n",
            "Epoch 33/500\n",
            "2/2 [==============================] - 0s 7ms/step - loss: 12.3015 - mae: 12.3015\n",
            "Epoch 34/500\n",
            "2/2 [==============================] - 0s 7ms/step - loss: 24.4671 - mae: 24.4671\n",
            "Epoch 35/500\n",
            "2/2 [==============================] - 0s 6ms/step - loss: 11.9532 - mae: 11.9532\n",
            "Epoch 36/500\n",
            "2/2 [==============================] - 0s 7ms/step - loss: 22.1941 - mae: 22.1941\n",
            "Epoch 37/500\n",
            "2/2 [==============================] - 0s 6ms/step - loss: 17.4106 - mae: 17.4106\n",
            "Epoch 38/500\n",
            "2/2 [==============================] - 0s 6ms/step - loss: 10.6781 - mae: 10.6781\n",
            "Epoch 39/500\n",
            "2/2 [==============================] - 0s 7ms/step - loss: 11.1947 - mae: 11.1947\n",
            "Epoch 40/500\n",
            "2/2 [==============================] - 0s 7ms/step - loss: 18.0347 - mae: 18.0347\n",
            "Epoch 41/500\n",
            "2/2 [==============================] - 0s 6ms/step - loss: 10.4198 - mae: 10.4198\n",
            "Epoch 42/500\n",
            "2/2 [==============================] - 0s 7ms/step - loss: 7.2631 - mae: 7.2631\n",
            "Epoch 43/500\n",
            "2/2 [==============================] - 0s 7ms/step - loss: 18.9951 - mae: 18.9951\n",
            "Epoch 44/500\n",
            "2/2 [==============================] - 0s 7ms/step - loss: 20.1611 - mae: 20.1611\n",
            "Epoch 45/500\n",
            "2/2 [==============================] - 0s 7ms/step - loss: 10.1343 - mae: 10.1343\n",
            "Epoch 46/500\n",
            "2/2 [==============================] - 0s 7ms/step - loss: 11.4046 - mae: 11.4046\n",
            "Epoch 47/500\n",
            "2/2 [==============================] - 0s 8ms/step - loss: 9.8042 - mae: 9.8042\n",
            "Epoch 48/500\n",
            "2/2 [==============================] - 0s 6ms/step - loss: 17.5808 - mae: 17.5808\n",
            "Epoch 49/500\n",
            "2/2 [==============================] - 0s 7ms/step - loss: 9.3463 - mae: 9.3463\n",
            "Epoch 50/500\n",
            "2/2 [==============================] - 0s 7ms/step - loss: 13.4090 - mae: 13.4090\n",
            "Epoch 51/500\n",
            "2/2 [==============================] - 0s 6ms/step - loss: 11.4431 - mae: 11.4431\n",
            "Epoch 52/500\n",
            "2/2 [==============================] - 0s 6ms/step - loss: 29.4997 - mae: 29.4997\n",
            "Epoch 53/500\n",
            "2/2 [==============================] - 0s 10ms/step - loss: 16.8056 - mae: 16.8056\n",
            "Epoch 54/500\n",
            "2/2 [==============================] - 0s 7ms/step - loss: 21.7996 - mae: 21.7996\n",
            "Epoch 55/500\n",
            "2/2 [==============================] - 0s 7ms/step - loss: 22.4192 - mae: 22.4192\n",
            "Epoch 56/500\n",
            "2/2 [==============================] - 0s 7ms/step - loss: 10.6456 - mae: 10.6456\n",
            "Epoch 57/500\n",
            "2/2 [==============================] - 0s 7ms/step - loss: 12.4158 - mae: 12.4158\n",
            "Epoch 58/500\n",
            "2/2 [==============================] - 0s 8ms/step - loss: 9.4184 - mae: 9.4184\n",
            "Epoch 59/500\n",
            "2/2 [==============================] - 0s 8ms/step - loss: 12.2109 - mae: 12.2109\n",
            "Epoch 60/500\n",
            "2/2 [==============================] - 0s 7ms/step - loss: 11.6858 - mae: 11.6858\n",
            "Epoch 61/500\n",
            "2/2 [==============================] - 0s 7ms/step - loss: 16.1582 - mae: 16.1582\n",
            "Epoch 62/500\n",
            "2/2 [==============================] - 0s 11ms/step - loss: 11.1961 - mae: 11.1961\n",
            "Epoch 63/500\n",
            "2/2 [==============================] - 0s 6ms/step - loss: 12.4704 - mae: 12.4704\n",
            "Epoch 64/500\n",
            "2/2 [==============================] - 0s 7ms/step - loss: 15.8548 - mae: 15.8548\n",
            "Epoch 65/500\n",
            "2/2 [==============================] - 0s 7ms/step - loss: 10.6416 - mae: 10.6416\n",
            "Epoch 66/500\n",
            "2/2 [==============================] - 0s 7ms/step - loss: 21.6205 - mae: 21.6205\n",
            "Epoch 67/500\n",
            "2/2 [==============================] - 0s 7ms/step - loss: 10.6641 - mae: 10.6641\n",
            "Epoch 68/500\n",
            "2/2 [==============================] - 0s 7ms/step - loss: 10.6045 - mae: 10.6045\n",
            "Epoch 69/500\n",
            "2/2 [==============================] - 0s 7ms/step - loss: 22.4952 - mae: 22.4952\n",
            "Epoch 70/500\n",
            "2/2 [==============================] - 0s 7ms/step - loss: 9.3732 - mae: 9.3732\n",
            "Epoch 71/500\n",
            "2/2 [==============================] - 0s 6ms/step - loss: 15.5037 - mae: 15.5037\n",
            "Epoch 72/500\n",
            "2/2 [==============================] - 0s 7ms/step - loss: 7.0221 - mae: 7.0221\n",
            "Epoch 73/500\n",
            "2/2 [==============================] - 0s 8ms/step - loss: 12.2488 - mae: 12.2488\n",
            "Epoch 74/500\n",
            "2/2 [==============================] - 0s 8ms/step - loss: 17.4101 - mae: 17.4101\n",
            "Epoch 75/500\n",
            "2/2 [==============================] - 0s 8ms/step - loss: 7.2369 - mae: 7.2369\n",
            "Epoch 76/500\n",
            "2/2 [==============================] - 0s 6ms/step - loss: 9.9922 - mae: 9.9922\n",
            "Epoch 77/500\n",
            "2/2 [==============================] - 0s 7ms/step - loss: 21.4713 - mae: 21.4713\n",
            "Epoch 78/500\n",
            "2/2 [==============================] - 0s 7ms/step - loss: 18.8377 - mae: 18.8377\n",
            "Epoch 79/500\n",
            "2/2 [==============================] - 0s 7ms/step - loss: 16.1019 - mae: 16.1019\n",
            "Epoch 80/500\n",
            "2/2 [==============================] - 0s 7ms/step - loss: 23.8344 - mae: 23.8344\n",
            "Epoch 81/500\n",
            "2/2 [==============================] - 0s 7ms/step - loss: 11.0988 - mae: 11.0988\n",
            "Epoch 82/500\n",
            "2/2 [==============================] - 0s 8ms/step - loss: 12.6494 - mae: 12.6494\n",
            "Epoch 83/500\n",
            "2/2 [==============================] - 0s 8ms/step - loss: 17.3879 - mae: 17.3879\n",
            "Epoch 84/500\n",
            "2/2 [==============================] - 0s 8ms/step - loss: 7.2764 - mae: 7.2764\n",
            "Epoch 85/500\n",
            "2/2 [==============================] - 0s 6ms/step - loss: 14.9467 - mae: 14.9467\n",
            "Epoch 86/500\n",
            "2/2 [==============================] - 0s 6ms/step - loss: 15.2745 - mae: 15.2745\n",
            "Epoch 87/500\n",
            "2/2 [==============================] - 0s 7ms/step - loss: 19.0766 - mae: 19.0766\n",
            "Epoch 88/500\n",
            "2/2 [==============================] - 0s 7ms/step - loss: 29.9137 - mae: 29.9137\n",
            "Epoch 89/500\n",
            "2/2 [==============================] - 0s 10ms/step - loss: 10.2081 - mae: 10.2081\n",
            "Epoch 90/500\n",
            "2/2 [==============================] - 0s 7ms/step - loss: 21.5887 - mae: 21.5887\n",
            "Epoch 91/500\n",
            "2/2 [==============================] - 0s 7ms/step - loss: 10.6058 - mae: 10.6058\n",
            "Epoch 92/500\n",
            "2/2 [==============================] - 0s 7ms/step - loss: 18.4495 - mae: 18.4495\n",
            "Epoch 93/500\n",
            "2/2 [==============================] - 0s 7ms/step - loss: 7.4356 - mae: 7.4356\n",
            "Epoch 94/500\n",
            "2/2 [==============================] - 0s 7ms/step - loss: 17.7773 - mae: 17.7773\n",
            "Epoch 95/500\n",
            "2/2 [==============================] - 0s 7ms/step - loss: 11.1447 - mae: 11.1447\n",
            "Epoch 96/500\n",
            "2/2 [==============================] - 0s 7ms/step - loss: 19.4711 - mae: 19.4711\n",
            "Epoch 97/500\n",
            "2/2 [==============================] - 0s 7ms/step - loss: 12.1899 - mae: 12.1899\n",
            "Epoch 98/500\n",
            "2/2 [==============================] - 0s 7ms/step - loss: 11.5919 - mae: 11.5919\n",
            "Epoch 99/500\n",
            "2/2 [==============================] - 0s 8ms/step - loss: 13.9016 - mae: 13.9016\n",
            "Epoch 100/500\n",
            "2/2 [==============================] - 0s 8ms/step - loss: 20.2410 - mae: 20.2410\n",
            "Epoch 101/500\n",
            "2/2 [==============================] - 0s 7ms/step - loss: 11.4690 - mae: 11.4690\n",
            "Epoch 102/500\n",
            "2/2 [==============================] - 0s 7ms/step - loss: 17.4946 - mae: 17.4946\n",
            "Epoch 103/500\n",
            "2/2 [==============================] - 0s 7ms/step - loss: 7.0388 - mae: 7.0388\n",
            "Epoch 104/500\n",
            "2/2 [==============================] - 0s 7ms/step - loss: 23.5886 - mae: 23.5886\n",
            "Epoch 105/500\n",
            "2/2 [==============================] - 0s 7ms/step - loss: 16.8793 - mae: 16.8793\n",
            "Epoch 106/500\n",
            "2/2 [==============================] - 0s 8ms/step - loss: 9.3096 - mae: 9.3096\n",
            "Epoch 107/500\n",
            "2/2 [==============================] - 0s 7ms/step - loss: 25.3875 - mae: 25.3875\n",
            "Epoch 108/500\n",
            "2/2 [==============================] - 0s 7ms/step - loss: 13.4484 - mae: 13.4484\n",
            "Epoch 109/500\n",
            "2/2 [==============================] - 0s 7ms/step - loss: 9.5289 - mae: 9.5289\n",
            "Epoch 110/500\n",
            "2/2 [==============================] - 0s 7ms/step - loss: 9.6771 - mae: 9.6771\n",
            "Epoch 111/500\n",
            "2/2 [==============================] - 0s 7ms/step - loss: 14.5825 - mae: 14.5825\n",
            "Epoch 112/500\n",
            "2/2 [==============================] - 0s 7ms/step - loss: 9.5731 - mae: 9.5731\n",
            "Epoch 113/500\n",
            "2/2 [==============================] - 0s 7ms/step - loss: 17.7652 - mae: 17.7652\n",
            "Epoch 114/500\n",
            "2/2 [==============================] - 0s 7ms/step - loss: 17.1365 - mae: 17.1365\n",
            "Epoch 115/500\n",
            "2/2 [==============================] - 0s 7ms/step - loss: 11.1187 - mae: 11.1187\n",
            "Epoch 116/500\n",
            "2/2 [==============================] - 0s 7ms/step - loss: 23.2403 - mae: 23.2403\n",
            "Epoch 117/500\n",
            "2/2 [==============================] - 0s 7ms/step - loss: 9.6079 - mae: 9.6079\n",
            "Epoch 118/500\n",
            "2/2 [==============================] - 0s 7ms/step - loss: 10.6767 - mae: 10.6767\n",
            "Epoch 119/500\n",
            "2/2 [==============================] - 0s 6ms/step - loss: 8.0485 - mae: 8.0485\n",
            "Epoch 120/500\n",
            "2/2 [==============================] - 0s 7ms/step - loss: 29.5705 - mae: 29.5705\n",
            "Epoch 121/500\n",
            "2/2 [==============================] - 0s 6ms/step - loss: 8.0838 - mae: 8.0838\n",
            "Epoch 122/500\n",
            "2/2 [==============================] - 0s 7ms/step - loss: 28.2067 - mae: 28.2067\n",
            "Epoch 123/500\n",
            "2/2 [==============================] - 0s 7ms/step - loss: 32.7742 - mae: 32.7742\n",
            "Epoch 124/500\n",
            "2/2 [==============================] - 0s 7ms/step - loss: 19.5377 - mae: 19.5377\n",
            "Epoch 125/500\n",
            "2/2 [==============================] - 0s 7ms/step - loss: 6.3896 - mae: 6.3896\n",
            "Epoch 126/500\n",
            "2/2 [==============================] - 0s 7ms/step - loss: 26.8304 - mae: 26.8304\n",
            "Epoch 127/500\n",
            "2/2 [==============================] - 0s 9ms/step - loss: 8.5886 - mae: 8.5886\n",
            "Epoch 128/500\n",
            "2/2 [==============================] - 0s 7ms/step - loss: 13.8455 - mae: 13.8455\n",
            "Epoch 129/500\n",
            "2/2 [==============================] - 0s 7ms/step - loss: 11.3143 - mae: 11.3143\n",
            "Epoch 130/500\n",
            "2/2 [==============================] - 0s 7ms/step - loss: 11.5280 - mae: 11.5280\n",
            "Epoch 131/500\n",
            "2/2 [==============================] - 0s 6ms/step - loss: 20.6858 - mae: 20.6858\n",
            "Epoch 132/500\n",
            "2/2 [==============================] - 0s 6ms/step - loss: 8.0213 - mae: 8.0213\n",
            "Epoch 133/500\n",
            "2/2 [==============================] - 0s 6ms/step - loss: 8.8355 - mae: 8.8355\n",
            "Epoch 134/500\n",
            "2/2 [==============================] - 0s 7ms/step - loss: 21.5274 - mae: 21.5274\n",
            "Epoch 135/500\n",
            "2/2 [==============================] - 0s 9ms/step - loss: 10.9049 - mae: 10.9049\n",
            "Epoch 136/500\n",
            "2/2 [==============================] - 0s 10ms/step - loss: 19.4069 - mae: 19.4069\n",
            "Epoch 137/500\n",
            "2/2 [==============================] - 0s 7ms/step - loss: 22.6180 - mae: 22.6180\n",
            "Epoch 138/500\n",
            "2/2 [==============================] - 0s 9ms/step - loss: 8.9297 - mae: 8.9297\n",
            "Epoch 139/500\n",
            "2/2 [==============================] - 0s 8ms/step - loss: 7.1113 - mae: 7.1113\n",
            "Epoch 140/500\n",
            "2/2 [==============================] - 0s 12ms/step - loss: 21.3050 - mae: 21.3050\n",
            "Epoch 141/500\n",
            "2/2 [==============================] - 0s 9ms/step - loss: 8.4484 - mae: 8.4484\n",
            "Epoch 142/500\n",
            "2/2 [==============================] - 0s 13ms/step - loss: 37.4776 - mae: 37.4776\n",
            "Epoch 143/500\n",
            "2/2 [==============================] - 0s 9ms/step - loss: 26.0175 - mae: 26.0175\n",
            "Epoch 144/500\n",
            "2/2 [==============================] - 0s 10ms/step - loss: 9.5328 - mae: 9.5328\n",
            "Epoch 145/500\n",
            "2/2 [==============================] - 0s 12ms/step - loss: 26.4904 - mae: 26.4904\n",
            "Epoch 146/500\n",
            "2/2 [==============================] - 0s 12ms/step - loss: 8.9111 - mae: 8.9111\n",
            "Epoch 147/500\n",
            "2/2 [==============================] - 0s 12ms/step - loss: 15.5242 - mae: 15.5242\n",
            "Epoch 148/500\n",
            "2/2 [==============================] - 0s 11ms/step - loss: 18.1740 - mae: 18.1740\n",
            "Epoch 149/500\n",
            "2/2 [==============================] - 0s 9ms/step - loss: 8.3259 - mae: 8.3259\n",
            "Epoch 150/500\n",
            "2/2 [==============================] - 0s 10ms/step - loss: 7.5507 - mae: 7.5507\n",
            "Epoch 151/500\n",
            "2/2 [==============================] - 0s 10ms/step - loss: 18.6277 - mae: 18.6277\n",
            "Epoch 152/500\n",
            "2/2 [==============================] - 0s 10ms/step - loss: 10.3747 - mae: 10.3747\n",
            "Epoch 153/500\n",
            "2/2 [==============================] - 0s 9ms/step - loss: 30.0792 - mae: 30.0792\n",
            "Epoch 154/500\n",
            "2/2 [==============================] - 0s 10ms/step - loss: 10.4800 - mae: 10.4800\n",
            "Epoch 155/500\n",
            "2/2 [==============================] - 0s 10ms/step - loss: 15.3836 - mae: 15.3836\n",
            "Epoch 156/500\n",
            "2/2 [==============================] - 0s 9ms/step - loss: 16.8551 - mae: 16.8551\n",
            "Epoch 157/500\n",
            "2/2 [==============================] - 0s 10ms/step - loss: 33.2541 - mae: 33.2541\n",
            "Epoch 158/500\n",
            "2/2 [==============================] - 0s 9ms/step - loss: 10.8459 - mae: 10.8459\n",
            "Epoch 159/500\n",
            "2/2 [==============================] - 0s 9ms/step - loss: 8.9749 - mae: 8.9749\n",
            "Epoch 160/500\n",
            "2/2 [==============================] - 0s 9ms/step - loss: 22.4340 - mae: 22.4340\n",
            "Epoch 161/500\n",
            "2/2 [==============================] - 0s 9ms/step - loss: 11.8372 - mae: 11.8372\n",
            "Epoch 162/500\n",
            "2/2 [==============================] - 0s 9ms/step - loss: 21.8479 - mae: 21.8479\n",
            "Epoch 163/500\n",
            "2/2 [==============================] - 0s 10ms/step - loss: 19.5109 - mae: 19.5109\n",
            "Epoch 164/500\n",
            "2/2 [==============================] - 0s 9ms/step - loss: 11.4006 - mae: 11.4006\n",
            "Epoch 165/500\n",
            "2/2 [==============================] - 0s 10ms/step - loss: 11.6041 - mae: 11.6041\n",
            "Epoch 166/500\n",
            "2/2 [==============================] - 0s 10ms/step - loss: 21.3483 - mae: 21.3483\n",
            "Epoch 167/500\n",
            "2/2 [==============================] - 0s 9ms/step - loss: 26.8978 - mae: 26.8978\n",
            "Epoch 168/500\n",
            "2/2 [==============================] - 0s 9ms/step - loss: 9.9877 - mae: 9.9877\n",
            "Epoch 169/500\n",
            "2/2 [==============================] - 0s 10ms/step - loss: 23.1594 - mae: 23.1594\n",
            "Epoch 170/500\n",
            "2/2 [==============================] - 0s 9ms/step - loss: 9.5751 - mae: 9.5751\n",
            "Epoch 171/500\n",
            "2/2 [==============================] - 0s 9ms/step - loss: 15.8419 - mae: 15.8419\n",
            "Epoch 172/500\n",
            "2/2 [==============================] - 0s 9ms/step - loss: 13.8731 - mae: 13.8731\n",
            "Epoch 173/500\n",
            "2/2 [==============================] - 0s 8ms/step - loss: 22.5605 - mae: 22.5605\n",
            "Epoch 174/500\n",
            "2/2 [==============================] - 0s 9ms/step - loss: 11.3556 - mae: 11.3556\n",
            "Epoch 175/500\n",
            "2/2 [==============================] - 0s 9ms/step - loss: 20.1412 - mae: 20.1412\n",
            "Epoch 176/500\n",
            "2/2 [==============================] - 0s 9ms/step - loss: 7.4101 - mae: 7.4101\n",
            "Epoch 177/500\n",
            "2/2 [==============================] - 0s 9ms/step - loss: 8.5936 - mae: 8.5936\n",
            "Epoch 178/500\n",
            "2/2 [==============================] - 0s 9ms/step - loss: 15.5337 - mae: 15.5337\n",
            "Epoch 179/500\n",
            "2/2 [==============================] - 0s 10ms/step - loss: 9.2632 - mae: 9.2632\n",
            "Epoch 180/500\n",
            "2/2 [==============================] - 0s 10ms/step - loss: 8.1278 - mae: 8.1278\n",
            "Epoch 181/500\n",
            "2/2 [==============================] - 0s 10ms/step - loss: 18.7918 - mae: 18.7918\n",
            "Epoch 182/500\n",
            "2/2 [==============================] - 0s 9ms/step - loss: 10.7928 - mae: 10.7928\n",
            "Epoch 183/500\n",
            "2/2 [==============================] - 0s 12ms/step - loss: 11.5029 - mae: 11.5029\n",
            "Epoch 184/500\n",
            "2/2 [==============================] - 0s 12ms/step - loss: 29.8016 - mae: 29.8016\n",
            "Epoch 185/500\n",
            "2/2 [==============================] - 0s 9ms/step - loss: 7.5384 - mae: 7.5384\n",
            "Epoch 186/500\n",
            "2/2 [==============================] - 0s 9ms/step - loss: 16.4456 - mae: 16.4456\n",
            "Epoch 187/500\n",
            "2/2 [==============================] - 0s 7ms/step - loss: 10.7127 - mae: 10.7127\n",
            "Epoch 188/500\n",
            "2/2 [==============================] - 0s 6ms/step - loss: 22.5254 - mae: 22.5254\n",
            "Epoch 189/500\n",
            "2/2 [==============================] - 0s 6ms/step - loss: 11.6787 - mae: 11.6787\n",
            "Epoch 190/500\n",
            "2/2 [==============================] - 0s 7ms/step - loss: 9.4264 - mae: 9.4264\n",
            "Epoch 191/500\n",
            "2/2 [==============================] - 0s 7ms/step - loss: 15.6291 - mae: 15.6291\n",
            "Epoch 192/500\n",
            "2/2 [==============================] - 0s 7ms/step - loss: 12.8385 - mae: 12.8385\n",
            "Epoch 193/500\n",
            "2/2 [==============================] - 0s 7ms/step - loss: 27.8060 - mae: 27.8060\n",
            "Epoch 194/500\n",
            "2/2 [==============================] - 0s 7ms/step - loss: 7.1153 - mae: 7.1153\n",
            "Epoch 195/500\n",
            "2/2 [==============================] - 0s 7ms/step - loss: 7.0305 - mae: 7.0305\n",
            "Epoch 196/500\n",
            "2/2 [==============================] - 0s 7ms/step - loss: 21.9147 - mae: 21.9147\n",
            "Epoch 197/500\n",
            "2/2 [==============================] - 0s 7ms/step - loss: 21.0473 - mae: 21.0473\n",
            "Epoch 198/500\n",
            "2/2 [==============================] - 0s 8ms/step - loss: 12.5833 - mae: 12.5833\n",
            "Epoch 199/500\n",
            "2/2 [==============================] - 0s 7ms/step - loss: 18.0869 - mae: 18.0869\n",
            "Epoch 200/500\n",
            "2/2 [==============================] - 0s 7ms/step - loss: 13.9125 - mae: 13.9125\n",
            "Epoch 201/500\n",
            "2/2 [==============================] - 0s 8ms/step - loss: 6.0091 - mae: 6.0091\n",
            "Epoch 202/500\n",
            "2/2 [==============================] - 0s 7ms/step - loss: 22.9912 - mae: 22.9912\n",
            "Epoch 203/500\n",
            "2/2 [==============================] - 0s 8ms/step - loss: 8.9515 - mae: 8.9515\n",
            "Epoch 204/500\n",
            "2/2 [==============================] - 0s 8ms/step - loss: 18.9557 - mae: 18.9557\n",
            "Epoch 205/500\n",
            "2/2 [==============================] - 0s 8ms/step - loss: 9.3787 - mae: 9.3787\n",
            "Epoch 206/500\n",
            "2/2 [==============================] - 0s 8ms/step - loss: 11.0235 - mae: 11.0235\n",
            "Epoch 207/500\n",
            "2/2 [==============================] - 0s 9ms/step - loss: 17.5174 - mae: 17.5174\n",
            "Epoch 208/500\n",
            "2/2 [==============================] - 0s 11ms/step - loss: 14.2464 - mae: 14.2464\n",
            "Epoch 209/500\n",
            "2/2 [==============================] - 0s 7ms/step - loss: 16.5737 - mae: 16.5737\n",
            "Epoch 210/500\n",
            "2/2 [==============================] - 0s 7ms/step - loss: 18.0612 - mae: 18.0612\n",
            "Epoch 211/500\n",
            "2/2 [==============================] - 0s 6ms/step - loss: 9.8627 - mae: 9.8627\n",
            "Epoch 212/500\n",
            "2/2 [==============================] - 0s 7ms/step - loss: 18.5391 - mae: 18.5391\n",
            "Epoch 213/500\n",
            "2/2 [==============================] - 0s 7ms/step - loss: 14.9725 - mae: 14.9725\n",
            "Epoch 214/500\n",
            "2/2 [==============================] - 0s 7ms/step - loss: 14.5435 - mae: 14.5435\n",
            "Epoch 215/500\n",
            "2/2 [==============================] - 0s 6ms/step - loss: 23.2206 - mae: 23.2206\n",
            "Epoch 216/500\n",
            "2/2 [==============================] - 0s 6ms/step - loss: 13.4938 - mae: 13.4938\n",
            "Epoch 217/500\n",
            "2/2 [==============================] - 0s 6ms/step - loss: 9.9441 - mae: 9.9441\n",
            "Epoch 218/500\n",
            "2/2 [==============================] - 0s 9ms/step - loss: 12.4460 - mae: 12.4460\n",
            "Epoch 219/500\n",
            "2/2 [==============================] - 0s 7ms/step - loss: 5.2779 - mae: 5.2779\n",
            "Epoch 220/500\n",
            "2/2 [==============================] - 0s 7ms/step - loss: 12.4209 - mae: 12.4209\n",
            "Epoch 221/500\n",
            "2/2 [==============================] - 0s 7ms/step - loss: 22.4344 - mae: 22.4344\n",
            "Epoch 222/500\n",
            "2/2 [==============================] - 0s 6ms/step - loss: 21.5687 - mae: 21.5687\n",
            "Epoch 223/500\n",
            "2/2 [==============================] - 0s 7ms/step - loss: 11.6435 - mae: 11.6435\n",
            "Epoch 224/500\n",
            "2/2 [==============================] - 0s 6ms/step - loss: 15.1147 - mae: 15.1147\n",
            "Epoch 225/500\n",
            "2/2 [==============================] - 0s 7ms/step - loss: 17.1765 - mae: 17.1765\n",
            "Epoch 226/500\n",
            "2/2 [==============================] - 0s 6ms/step - loss: 16.3475 - mae: 16.3475\n",
            "Epoch 227/500\n",
            "2/2 [==============================] - 0s 6ms/step - loss: 16.7234 - mae: 16.7234\n",
            "Epoch 228/500\n",
            "2/2 [==============================] - 0s 6ms/step - loss: 10.0968 - mae: 10.0968\n",
            "Epoch 229/500\n",
            "2/2 [==============================] - 0s 7ms/step - loss: 18.0271 - mae: 18.0271\n",
            "Epoch 230/500\n",
            "2/2 [==============================] - 0s 6ms/step - loss: 15.5924 - mae: 15.5924\n",
            "Epoch 231/500\n",
            "2/2 [==============================] - 0s 9ms/step - loss: 21.1690 - mae: 21.1690\n",
            "Epoch 232/500\n",
            "2/2 [==============================] - 0s 6ms/step - loss: 25.3567 - mae: 25.3567\n",
            "Epoch 233/500\n",
            "2/2 [==============================] - 0s 6ms/step - loss: 16.3808 - mae: 16.3808\n",
            "Epoch 234/500\n",
            "2/2 [==============================] - 0s 7ms/step - loss: 7.2825 - mae: 7.2825\n",
            "Epoch 235/500\n",
            "2/2 [==============================] - 0s 6ms/step - loss: 17.0340 - mae: 17.0340\n",
            "Epoch 236/500\n",
            "2/2 [==============================] - 0s 10ms/step - loss: 7.1401 - mae: 7.1401\n",
            "Epoch 237/500\n",
            "2/2 [==============================] - 0s 7ms/step - loss: 9.2340 - mae: 9.2340\n",
            "Epoch 238/500\n",
            "2/2 [==============================] - 0s 7ms/step - loss: 8.1088 - mae: 8.1088\n",
            "Epoch 239/500\n",
            "2/2 [==============================] - 0s 8ms/step - loss: 17.1305 - mae: 17.1305\n",
            "Epoch 240/500\n",
            "2/2 [==============================] - 0s 7ms/step - loss: 8.8868 - mae: 8.8868\n",
            "Epoch 241/500\n",
            "2/2 [==============================] - 0s 6ms/step - loss: 13.2259 - mae: 13.2259\n",
            "Epoch 242/500\n",
            "2/2 [==============================] - 0s 6ms/step - loss: 8.8056 - mae: 8.8056\n",
            "Epoch 243/500\n",
            "2/2 [==============================] - 0s 9ms/step - loss: 19.0025 - mae: 19.0025\n",
            "Epoch 244/500\n",
            "2/2 [==============================] - 0s 9ms/step - loss: 13.9670 - mae: 13.9670\n",
            "Epoch 245/500\n",
            "2/2 [==============================] - 0s 7ms/step - loss: 14.6072 - mae: 14.6072\n",
            "Epoch 246/500\n",
            "2/2 [==============================] - 0s 10ms/step - loss: 15.7359 - mae: 15.7359\n",
            "Epoch 247/500\n",
            "2/2 [==============================] - 0s 10ms/step - loss: 17.5905 - mae: 17.5905\n",
            "Epoch 248/500\n",
            "2/2 [==============================] - 0s 7ms/step - loss: 13.1523 - mae: 13.1523\n",
            "Epoch 249/500\n",
            "2/2 [==============================] - 0s 7ms/step - loss: 14.4554 - mae: 14.4554\n",
            "Epoch 250/500\n",
            "2/2 [==============================] - 0s 7ms/step - loss: 23.1358 - mae: 23.1358\n",
            "Epoch 251/500\n",
            "2/2 [==============================] - 0s 6ms/step - loss: 10.0636 - mae: 10.0636\n",
            "Epoch 252/500\n",
            "2/2 [==============================] - 0s 9ms/step - loss: 32.5396 - mae: 32.5396\n",
            "Epoch 253/500\n",
            "2/2 [==============================] - 0s 9ms/step - loss: 18.5957 - mae: 18.5957\n",
            "Epoch 254/500\n",
            "2/2 [==============================] - 0s 7ms/step - loss: 6.3260 - mae: 6.3260\n",
            "Epoch 255/500\n",
            "2/2 [==============================] - 0s 7ms/step - loss: 19.4561 - mae: 19.4561\n",
            "Epoch 256/500\n",
            "2/2 [==============================] - 0s 7ms/step - loss: 33.4702 - mae: 33.4702\n",
            "Epoch 257/500\n",
            "2/2 [==============================] - 0s 7ms/step - loss: 16.5339 - mae: 16.5339\n",
            "Epoch 258/500\n",
            "2/2 [==============================] - 0s 6ms/step - loss: 5.7925 - mae: 5.7925\n",
            "Epoch 259/500\n",
            "2/2 [==============================] - 0s 6ms/step - loss: 14.8187 - mae: 14.8187\n",
            "Epoch 260/500\n",
            "2/2 [==============================] - 0s 6ms/step - loss: 14.9521 - mae: 14.9521\n",
            "Epoch 261/500\n",
            "2/2 [==============================] - 0s 6ms/step - loss: 17.4330 - mae: 17.4330\n",
            "Epoch 262/500\n",
            "2/2 [==============================] - 0s 7ms/step - loss: 15.7624 - mae: 15.7624\n",
            "Epoch 263/500\n",
            "2/2 [==============================] - 0s 7ms/step - loss: 10.9251 - mae: 10.9251\n",
            "Epoch 264/500\n",
            "2/2 [==============================] - 0s 7ms/step - loss: 18.5092 - mae: 18.5092\n",
            "Epoch 265/500\n",
            "2/2 [==============================] - 0s 6ms/step - loss: 13.5073 - mae: 13.5073\n",
            "Epoch 266/500\n",
            "2/2 [==============================] - 0s 6ms/step - loss: 10.0170 - mae: 10.0170\n",
            "Epoch 267/500\n",
            "2/2 [==============================] - 0s 6ms/step - loss: 4.8928 - mae: 4.8928\n",
            "Epoch 268/500\n",
            "2/2 [==============================] - 0s 6ms/step - loss: 14.9870 - mae: 14.9870\n",
            "Epoch 269/500\n",
            "2/2 [==============================] - 0s 6ms/step - loss: 24.1526 - mae: 24.1526\n",
            "Epoch 270/500\n",
            "2/2 [==============================] - 0s 6ms/step - loss: 16.6590 - mae: 16.6590\n",
            "Epoch 271/500\n",
            "2/2 [==============================] - 0s 6ms/step - loss: 15.0875 - mae: 15.0875\n",
            "Epoch 272/500\n",
            "2/2 [==============================] - 0s 7ms/step - loss: 29.1707 - mae: 29.1707\n",
            "Epoch 273/500\n",
            "2/2 [==============================] - 0s 7ms/step - loss: 5.4289 - mae: 5.4289\n",
            "Epoch 274/500\n",
            "2/2 [==============================] - 0s 6ms/step - loss: 13.9485 - mae: 13.9485\n",
            "Epoch 275/500\n",
            "2/2 [==============================] - 0s 6ms/step - loss: 17.0123 - mae: 17.0123\n",
            "Epoch 276/500\n",
            "2/2 [==============================] - 0s 7ms/step - loss: 12.8060 - mae: 12.8060\n",
            "Epoch 277/500\n",
            "2/2 [==============================] - 0s 7ms/step - loss: 30.4078 - mae: 30.4078\n",
            "Epoch 278/500\n",
            "2/2 [==============================] - 0s 7ms/step - loss: 11.2261 - mae: 11.2261\n",
            "Epoch 279/500\n",
            "2/2 [==============================] - 0s 7ms/step - loss: 16.0173 - mae: 16.0173\n",
            "Epoch 280/500\n",
            "2/2 [==============================] - 0s 7ms/step - loss: 21.0684 - mae: 21.0684\n",
            "Epoch 281/500\n",
            "2/2 [==============================] - 0s 7ms/step - loss: 18.1475 - mae: 18.1475\n",
            "Epoch 282/500\n",
            "2/2 [==============================] - 0s 7ms/step - loss: 6.8541 - mae: 6.8541\n",
            "Epoch 283/500\n",
            "2/2 [==============================] - 0s 7ms/step - loss: 8.0409 - mae: 8.0409\n",
            "Epoch 284/500\n",
            "2/2 [==============================] - 0s 7ms/step - loss: 24.7227 - mae: 24.7227\n",
            "Epoch 285/500\n",
            "2/2 [==============================] - 0s 7ms/step - loss: 13.5244 - mae: 13.5244\n",
            "Epoch 286/500\n",
            "2/2 [==============================] - 0s 7ms/step - loss: 7.7183 - mae: 7.7183\n",
            "Epoch 287/500\n",
            "2/2 [==============================] - 0s 7ms/step - loss: 23.3819 - mae: 23.3819\n",
            "Epoch 288/500\n",
            "2/2 [==============================] - 0s 6ms/step - loss: 23.5712 - mae: 23.5712\n",
            "Epoch 289/500\n",
            "2/2 [==============================] - 0s 7ms/step - loss: 11.9871 - mae: 11.9871\n",
            "Epoch 290/500\n",
            "2/2 [==============================] - 0s 7ms/step - loss: 16.5551 - mae: 16.5551\n",
            "Epoch 291/500\n",
            "2/2 [==============================] - 0s 6ms/step - loss: 16.8232 - mae: 16.8232\n",
            "Epoch 292/500\n",
            "2/2 [==============================] - 0s 7ms/step - loss: 9.4353 - mae: 9.4353\n",
            "Epoch 293/500\n",
            "2/2 [==============================] - 0s 7ms/step - loss: 15.2611 - mae: 15.2611\n",
            "Epoch 294/500\n",
            "2/2 [==============================] - 0s 9ms/step - loss: 22.7275 - mae: 22.7275\n",
            "Epoch 295/500\n",
            "2/2 [==============================] - 0s 10ms/step - loss: 17.8918 - mae: 17.8918\n",
            "Epoch 296/500\n",
            "2/2 [==============================] - 0s 8ms/step - loss: 6.1070 - mae: 6.1070\n",
            "Epoch 297/500\n",
            "2/2 [==============================] - 0s 7ms/step - loss: 10.9176 - mae: 10.9176\n",
            "Epoch 298/500\n",
            "2/2 [==============================] - 0s 8ms/step - loss: 23.1397 - mae: 23.1397\n",
            "Epoch 299/500\n",
            "2/2 [==============================] - 0s 6ms/step - loss: 17.7594 - mae: 17.7594\n",
            "Epoch 300/500\n",
            "2/2 [==============================] - 0s 6ms/step - loss: 6.9293 - mae: 6.9293\n",
            "Epoch 301/500\n",
            "2/2 [==============================] - 0s 6ms/step - loss: 25.2101 - mae: 25.2101\n",
            "Epoch 302/500\n",
            "2/2 [==============================] - 0s 8ms/step - loss: 9.3718 - mae: 9.3718\n",
            "Epoch 303/500\n",
            "2/2 [==============================] - 0s 8ms/step - loss: 14.3537 - mae: 14.3537\n",
            "Epoch 304/500\n",
            "2/2 [==============================] - 0s 6ms/step - loss: 10.7380 - mae: 10.7380\n",
            "Epoch 305/500\n",
            "2/2 [==============================] - 0s 6ms/step - loss: 12.6227 - mae: 12.6227\n",
            "Epoch 306/500\n",
            "2/2 [==============================] - 0s 6ms/step - loss: 8.2102 - mae: 8.2102\n",
            "Epoch 307/500\n",
            "2/2 [==============================] - 0s 6ms/step - loss: 13.0755 - mae: 13.0755\n",
            "Epoch 308/500\n",
            "2/2 [==============================] - 0s 6ms/step - loss: 8.0897 - mae: 8.0897\n",
            "Epoch 309/500\n",
            "2/2 [==============================] - 0s 6ms/step - loss: 12.0288 - mae: 12.0288\n",
            "Epoch 310/500\n",
            "2/2 [==============================] - 0s 7ms/step - loss: 5.0181 - mae: 5.0181\n",
            "Epoch 311/500\n",
            "2/2 [==============================] - 0s 6ms/step - loss: 13.7948 - mae: 13.7948\n",
            "Epoch 312/500\n",
            "2/2 [==============================] - 0s 9ms/step - loss: 30.3989 - mae: 30.3989\n",
            "Epoch 313/500\n",
            "2/2 [==============================] - 0s 6ms/step - loss: 6.8776 - mae: 6.8776\n",
            "Epoch 314/500\n",
            "2/2 [==============================] - 0s 8ms/step - loss: 11.0441 - mae: 11.0441\n",
            "Epoch 315/500\n",
            "2/2 [==============================] - 0s 9ms/step - loss: 23.2812 - mae: 23.2812\n",
            "Epoch 316/500\n",
            "2/2 [==============================] - 0s 6ms/step - loss: 14.9128 - mae: 14.9128\n",
            "Epoch 317/500\n",
            "2/2 [==============================] - 0s 8ms/step - loss: 20.7624 - mae: 20.7624\n",
            "Epoch 318/500\n",
            "2/2 [==============================] - 0s 10ms/step - loss: 7.7899 - mae: 7.7899\n",
            "Epoch 319/500\n",
            "2/2 [==============================] - 0s 9ms/step - loss: 17.7308 - mae: 17.7308\n",
            "Epoch 320/500\n",
            "2/2 [==============================] - 0s 6ms/step - loss: 10.0492 - mae: 10.0492\n",
            "Epoch 321/500\n",
            "2/2 [==============================] - 0s 7ms/step - loss: 8.1603 - mae: 8.1603\n",
            "Epoch 322/500\n",
            "2/2 [==============================] - 0s 6ms/step - loss: 4.1995 - mae: 4.1995\n",
            "Epoch 323/500\n",
            "2/2 [==============================] - 0s 7ms/step - loss: 14.6546 - mae: 14.6546\n",
            "Epoch 324/500\n",
            "2/2 [==============================] - 0s 6ms/step - loss: 18.8336 - mae: 18.8336\n",
            "Epoch 325/500\n",
            "2/2 [==============================] - 0s 6ms/step - loss: 17.5883 - mae: 17.5883\n",
            "Epoch 326/500\n",
            "2/2 [==============================] - 0s 6ms/step - loss: 24.1387 - mae: 24.1387\n",
            "Epoch 327/500\n",
            "2/2 [==============================] - 0s 6ms/step - loss: 9.3069 - mae: 9.3069\n",
            "Epoch 328/500\n",
            "2/2 [==============================] - 0s 6ms/step - loss: 10.3221 - mae: 10.3221\n",
            "Epoch 329/500\n",
            "2/2 [==============================] - 0s 7ms/step - loss: 16.0103 - mae: 16.0103\n",
            "Epoch 330/500\n",
            "2/2 [==============================] - 0s 6ms/step - loss: 14.3328 - mae: 14.3328\n",
            "Epoch 331/500\n",
            "2/2 [==============================] - 0s 6ms/step - loss: 25.7936 - mae: 25.7936\n",
            "Epoch 332/500\n",
            "2/2 [==============================] - 0s 6ms/step - loss: 17.0852 - mae: 17.0852\n",
            "Epoch 333/500\n",
            "2/2 [==============================] - 0s 6ms/step - loss: 8.3873 - mae: 8.3873\n",
            "Epoch 334/500\n",
            "2/2 [==============================] - 0s 7ms/step - loss: 13.3196 - mae: 13.3196\n",
            "Epoch 335/500\n",
            "2/2 [==============================] - 0s 6ms/step - loss: 13.0443 - mae: 13.0443\n",
            "Epoch 336/500\n",
            "2/2 [==============================] - 0s 6ms/step - loss: 32.5672 - mae: 32.5672\n",
            "Epoch 337/500\n",
            "2/2 [==============================] - 0s 6ms/step - loss: 11.0961 - mae: 11.0961\n",
            "Epoch 338/500\n",
            "2/2 [==============================] - 0s 6ms/step - loss: 20.0736 - mae: 20.0736\n",
            "Epoch 339/500\n",
            "2/2 [==============================] - 0s 7ms/step - loss: 33.9710 - mae: 33.9710\n",
            "Epoch 340/500\n",
            "2/2 [==============================] - 0s 8ms/step - loss: 8.5555 - mae: 8.5555\n",
            "Epoch 341/500\n",
            "2/2 [==============================] - 0s 6ms/step - loss: 21.7265 - mae: 21.7265\n",
            "Epoch 342/500\n",
            "2/2 [==============================] - 0s 7ms/step - loss: 14.0051 - mae: 14.0051\n",
            "Epoch 343/500\n",
            "2/2 [==============================] - 0s 7ms/step - loss: 11.5184 - mae: 11.5184\n",
            "Epoch 344/500\n",
            "2/2 [==============================] - 0s 6ms/step - loss: 10.6040 - mae: 10.6040\n",
            "Epoch 345/500\n",
            "2/2 [==============================] - 0s 6ms/step - loss: 30.8062 - mae: 30.8062\n",
            "Epoch 346/500\n",
            "2/2 [==============================] - 0s 8ms/step - loss: 10.5492 - mae: 10.5492\n",
            "Epoch 347/500\n",
            "2/2 [==============================] - 0s 9ms/step - loss: 25.4039 - mae: 25.4039\n",
            "Epoch 348/500\n",
            "2/2 [==============================] - 0s 8ms/step - loss: 13.6312 - mae: 13.6312\n",
            "Epoch 349/500\n",
            "2/2 [==============================] - 0s 7ms/step - loss: 12.8649 - mae: 12.8649\n",
            "Epoch 350/500\n",
            "2/2 [==============================] - 0s 7ms/step - loss: 15.3189 - mae: 15.3189\n",
            "Epoch 351/500\n",
            "2/2 [==============================] - 0s 10ms/step - loss: 32.7847 - mae: 32.7847\n",
            "Epoch 352/500\n",
            "2/2 [==============================] - 0s 6ms/step - loss: 13.9358 - mae: 13.9358\n",
            "Epoch 353/500\n",
            "2/2 [==============================] - 0s 7ms/step - loss: 17.5837 - mae: 17.5837\n",
            "Epoch 354/500\n",
            "2/2 [==============================] - 0s 9ms/step - loss: 11.2534 - mae: 11.2534\n",
            "Epoch 355/500\n",
            "2/2 [==============================] - 0s 9ms/step - loss: 26.5901 - mae: 26.5901\n",
            "Epoch 356/500\n",
            "2/2 [==============================] - 0s 7ms/step - loss: 10.7335 - mae: 10.7335\n",
            "Epoch 357/500\n",
            "2/2 [==============================] - 0s 7ms/step - loss: 12.9757 - mae: 12.9757\n",
            "Epoch 358/500\n",
            "2/2 [==============================] - 0s 8ms/step - loss: 14.2902 - mae: 14.2902\n",
            "Epoch 359/500\n",
            "2/2 [==============================] - 0s 7ms/step - loss: 12.3665 - mae: 12.3665\n",
            "Epoch 360/500\n",
            "2/2 [==============================] - 0s 7ms/step - loss: 20.4413 - mae: 20.4413\n",
            "Epoch 361/500\n",
            "2/2 [==============================] - 0s 7ms/step - loss: 10.6944 - mae: 10.6944\n",
            "Epoch 362/500\n",
            "2/2 [==============================] - 0s 7ms/step - loss: 6.6950 - mae: 6.6950\n",
            "Epoch 363/500\n",
            "2/2 [==============================] - 0s 7ms/step - loss: 23.6355 - mae: 23.6355\n",
            "Epoch 364/500\n",
            "2/2 [==============================] - 0s 9ms/step - loss: 29.2587 - mae: 29.2587\n",
            "Epoch 365/500\n",
            "2/2 [==============================] - 0s 7ms/step - loss: 8.1121 - mae: 8.1121\n",
            "Epoch 366/500\n",
            "2/2 [==============================] - 0s 6ms/step - loss: 6.0084 - mae: 6.0084\n",
            "Epoch 367/500\n",
            "2/2 [==============================] - 0s 6ms/step - loss: 34.4715 - mae: 34.4715\n",
            "Epoch 368/500\n",
            "2/2 [==============================] - 0s 7ms/step - loss: 7.2236 - mae: 7.2236\n",
            "Epoch 369/500\n",
            "2/2 [==============================] - 0s 8ms/step - loss: 9.0392 - mae: 9.0392\n",
            "Epoch 370/500\n",
            "2/2 [==============================] - 0s 6ms/step - loss: 10.7451 - mae: 10.7451\n",
            "Epoch 371/500\n",
            "2/2 [==============================] - 0s 7ms/step - loss: 8.8167 - mae: 8.8167\n",
            "Epoch 372/500\n",
            "2/2 [==============================] - 0s 7ms/step - loss: 7.6525 - mae: 7.6525\n",
            "Epoch 373/500\n",
            "2/2 [==============================] - 0s 7ms/step - loss: 25.1130 - mae: 25.1130\n",
            "Epoch 374/500\n",
            "2/2 [==============================] - 0s 7ms/step - loss: 13.0816 - mae: 13.0816\n",
            "Epoch 375/500\n",
            "2/2 [==============================] - 0s 6ms/step - loss: 11.8812 - mae: 11.8812\n",
            "Epoch 376/500\n",
            "2/2 [==============================] - 0s 9ms/step - loss: 14.1751 - mae: 14.1751\n",
            "Epoch 377/500\n",
            "2/2 [==============================] - 0s 8ms/step - loss: 15.7219 - mae: 15.7219\n",
            "Epoch 378/500\n",
            "2/2 [==============================] - 0s 9ms/step - loss: 17.0642 - mae: 17.0642\n",
            "Epoch 379/500\n",
            "2/2 [==============================] - 0s 9ms/step - loss: 28.4357 - mae: 28.4357\n",
            "Epoch 380/500\n",
            "2/2 [==============================] - 0s 6ms/step - loss: 24.3113 - mae: 24.3113\n",
            "Epoch 381/500\n",
            "2/2 [==============================] - 0s 13ms/step - loss: 6.7385 - mae: 6.7385\n",
            "Epoch 382/500\n",
            "2/2 [==============================] - 0s 8ms/step - loss: 16.9490 - mae: 16.9490\n",
            "Epoch 383/500\n",
            "2/2 [==============================] - 0s 6ms/step - loss: 22.8716 - mae: 22.8716\n",
            "Epoch 384/500\n",
            "2/2 [==============================] - 0s 8ms/step - loss: 11.6063 - mae: 11.6063\n",
            "Epoch 385/500\n",
            "2/2 [==============================] - 0s 7ms/step - loss: 15.5677 - mae: 15.5677\n",
            "Epoch 386/500\n",
            "2/2 [==============================] - 0s 7ms/step - loss: 25.9137 - mae: 25.9137\n",
            "Epoch 387/500\n",
            "2/2 [==============================] - 0s 9ms/step - loss: 13.0919 - mae: 13.0919\n",
            "Epoch 388/500\n",
            "2/2 [==============================] - 0s 7ms/step - loss: 7.2965 - mae: 7.2965\n",
            "Epoch 389/500\n",
            "2/2 [==============================] - 0s 7ms/step - loss: 17.0611 - mae: 17.0611\n",
            "Epoch 390/500\n",
            "2/2 [==============================] - 0s 8ms/step - loss: 22.9187 - mae: 22.9187\n",
            "Epoch 391/500\n",
            "2/2 [==============================] - 0s 9ms/step - loss: 18.7531 - mae: 18.7531\n",
            "Epoch 392/500\n",
            "2/2 [==============================] - 0s 7ms/step - loss: 5.8023 - mae: 5.8023\n",
            "Epoch 393/500\n",
            "2/2 [==============================] - 0s 9ms/step - loss: 20.3798 - mae: 20.3798\n",
            "Epoch 394/500\n",
            "2/2 [==============================] - 0s 8ms/step - loss: 22.6024 - mae: 22.6024\n",
            "Epoch 395/500\n",
            "2/2 [==============================] - 0s 8ms/step - loss: 17.6994 - mae: 17.6994\n",
            "Epoch 396/500\n",
            "2/2 [==============================] - 0s 6ms/step - loss: 7.6590 - mae: 7.6590\n",
            "Epoch 397/500\n",
            "2/2 [==============================] - 0s 7ms/step - loss: 9.1866 - mae: 9.1866\n",
            "Epoch 398/500\n",
            "2/2 [==============================] - 0s 9ms/step - loss: 11.8632 - mae: 11.8632\n",
            "Epoch 399/500\n",
            "2/2 [==============================] - 0s 7ms/step - loss: 10.5853 - mae: 10.5853\n",
            "Epoch 400/500\n",
            "2/2 [==============================] - 0s 8ms/step - loss: 21.8446 - mae: 21.8446\n",
            "Epoch 401/500\n",
            "2/2 [==============================] - 0s 7ms/step - loss: 14.9948 - mae: 14.9948\n",
            "Epoch 402/500\n",
            "2/2 [==============================] - 0s 8ms/step - loss: 8.4752 - mae: 8.4752\n",
            "Epoch 403/500\n",
            "2/2 [==============================] - 0s 6ms/step - loss: 10.4749 - mae: 10.4749\n",
            "Epoch 404/500\n",
            "2/2 [==============================] - 0s 7ms/step - loss: 10.3205 - mae: 10.3205\n",
            "Epoch 405/500\n",
            "2/2 [==============================] - 0s 8ms/step - loss: 6.3043 - mae: 6.3043\n",
            "Epoch 406/500\n",
            "2/2 [==============================] - 0s 9ms/step - loss: 19.8867 - mae: 19.8867\n",
            "Epoch 407/500\n",
            "2/2 [==============================] - 0s 11ms/step - loss: 9.6833 - mae: 9.6833\n",
            "Epoch 408/500\n",
            "2/2 [==============================] - 0s 9ms/step - loss: 21.3422 - mae: 21.3422\n",
            "Epoch 409/500\n",
            "2/2 [==============================] - 0s 8ms/step - loss: 29.5214 - mae: 29.5214\n",
            "Epoch 410/500\n",
            "2/2 [==============================] - 0s 7ms/step - loss: 9.9905 - mae: 9.9905\n",
            "Epoch 411/500\n",
            "2/2 [==============================] - 0s 7ms/step - loss: 14.8246 - mae: 14.8246\n",
            "Epoch 412/500\n",
            "2/2 [==============================] - 0s 7ms/step - loss: 21.6721 - mae: 21.6721\n",
            "Epoch 413/500\n",
            "2/2 [==============================] - 0s 8ms/step - loss: 12.7155 - mae: 12.7155\n",
            "Epoch 414/500\n",
            "2/2 [==============================] - 0s 8ms/step - loss: 5.4879 - mae: 5.4879\n",
            "Epoch 415/500\n",
            "2/2 [==============================] - 0s 8ms/step - loss: 13.5995 - mae: 13.5995\n",
            "Epoch 416/500\n",
            "2/2 [==============================] - 0s 7ms/step - loss: 28.1986 - mae: 28.1986\n",
            "Epoch 417/500\n",
            "2/2 [==============================] - 0s 7ms/step - loss: 8.0772 - mae: 8.0772\n",
            "Epoch 418/500\n",
            "2/2 [==============================] - 0s 6ms/step - loss: 8.0724 - mae: 8.0724\n",
            "Epoch 419/500\n",
            "2/2 [==============================] - 0s 8ms/step - loss: 15.3363 - mae: 15.3363\n",
            "Epoch 420/500\n",
            "2/2 [==============================] - 0s 6ms/step - loss: 23.6487 - mae: 23.6487\n",
            "Epoch 421/500\n",
            "2/2 [==============================] - 0s 8ms/step - loss: 20.2588 - mae: 20.2588\n",
            "Epoch 422/500\n",
            "2/2 [==============================] - 0s 7ms/step - loss: 5.8137 - mae: 5.8137\n",
            "Epoch 423/500\n",
            "2/2 [==============================] - 0s 6ms/step - loss: 21.7684 - mae: 21.7684\n",
            "Epoch 424/500\n",
            "2/2 [==============================] - 0s 6ms/step - loss: 5.8626 - mae: 5.8626\n",
            "Epoch 425/500\n",
            "2/2 [==============================] - 0s 6ms/step - loss: 21.8476 - mae: 21.8476\n",
            "Epoch 426/500\n",
            "2/2 [==============================] - 0s 6ms/step - loss: 10.3068 - mae: 10.3068\n",
            "Epoch 427/500\n",
            "2/2 [==============================] - 0s 6ms/step - loss: 4.2671 - mae: 4.2671\n",
            "Epoch 428/500\n",
            "2/2 [==============================] - 0s 7ms/step - loss: 19.0001 - mae: 19.0001\n",
            "Epoch 429/500\n",
            "2/2 [==============================] - 0s 6ms/step - loss: 31.5719 - mae: 31.5719\n",
            "Epoch 430/500\n",
            "2/2 [==============================] - 0s 9ms/step - loss: 23.8958 - mae: 23.8958\n",
            "Epoch 431/500\n",
            "2/2 [==============================] - 0s 6ms/step - loss: 15.5533 - mae: 15.5533\n",
            "Epoch 432/500\n",
            "2/2 [==============================] - 0s 6ms/step - loss: 10.6623 - mae: 10.6623\n",
            "Epoch 433/500\n",
            "2/2 [==============================] - 0s 9ms/step - loss: 9.4259 - mae: 9.4259\n",
            "Epoch 434/500\n",
            "2/2 [==============================] - 0s 11ms/step - loss: 30.9337 - mae: 30.9337\n",
            "Epoch 435/500\n",
            "2/2 [==============================] - 0s 11ms/step - loss: 11.7871 - mae: 11.7871\n",
            "Epoch 436/500\n",
            "2/2 [==============================] - 0s 6ms/step - loss: 28.7114 - mae: 28.7114\n",
            "Epoch 437/500\n",
            "2/2 [==============================] - 0s 8ms/step - loss: 7.4926 - mae: 7.4926\n",
            "Epoch 438/500\n",
            "2/2 [==============================] - 0s 8ms/step - loss: 13.1244 - mae: 13.1244\n",
            "Epoch 439/500\n",
            "2/2 [==============================] - 0s 6ms/step - loss: 34.0936 - mae: 34.0936\n",
            "Epoch 440/500\n",
            "2/2 [==============================] - 0s 6ms/step - loss: 15.6861 - mae: 15.6861\n",
            "Epoch 441/500\n",
            "2/2 [==============================] - 0s 6ms/step - loss: 18.2423 - mae: 18.2423\n",
            "Epoch 442/500\n",
            "2/2 [==============================] - 0s 6ms/step - loss: 27.2706 - mae: 27.2706\n",
            "Epoch 443/500\n",
            "2/2 [==============================] - 0s 6ms/step - loss: 10.3777 - mae: 10.3777\n",
            "Epoch 444/500\n",
            "2/2 [==============================] - 0s 10ms/step - loss: 6.2334 - mae: 6.2334\n",
            "Epoch 445/500\n",
            "2/2 [==============================] - 0s 9ms/step - loss: 7.8410 - mae: 7.8410\n",
            "Epoch 446/500\n",
            "2/2 [==============================] - 0s 11ms/step - loss: 15.9412 - mae: 15.9412\n",
            "Epoch 447/500\n",
            "2/2 [==============================] - 0s 6ms/step - loss: 9.2223 - mae: 9.2223\n",
            "Epoch 448/500\n",
            "2/2 [==============================] - 0s 6ms/step - loss: 3.2278 - mae: 3.2278\n",
            "Epoch 449/500\n",
            "2/2 [==============================] - 0s 8ms/step - loss: 14.3154 - mae: 14.3154\n",
            "Epoch 450/500\n",
            "2/2 [==============================] - 0s 6ms/step - loss: 17.0577 - mae: 17.0577\n",
            "Epoch 451/500\n",
            "2/2 [==============================] - 0s 6ms/step - loss: 14.3955 - mae: 14.3955\n",
            "Epoch 452/500\n",
            "2/2 [==============================] - 0s 6ms/step - loss: 30.8987 - mae: 30.8987\n",
            "Epoch 453/500\n",
            "2/2 [==============================] - 0s 6ms/step - loss: 9.0878 - mae: 9.0878\n",
            "Epoch 454/500\n",
            "2/2 [==============================] - 0s 8ms/step - loss: 27.2005 - mae: 27.2005\n",
            "Epoch 455/500\n",
            "2/2 [==============================] - 0s 6ms/step - loss: 11.4013 - mae: 11.4013\n",
            "Epoch 456/500\n",
            "2/2 [==============================] - 0s 7ms/step - loss: 15.6283 - mae: 15.6283\n",
            "Epoch 457/500\n",
            "2/2 [==============================] - 0s 8ms/step - loss: 19.2758 - mae: 19.2758\n",
            "Epoch 458/500\n",
            "2/2 [==============================] - 0s 10ms/step - loss: 23.0408 - mae: 23.0408\n",
            "Epoch 459/500\n",
            "2/2 [==============================] - 0s 7ms/step - loss: 16.4738 - mae: 16.4738\n",
            "Epoch 460/500\n",
            "2/2 [==============================] - 0s 6ms/step - loss: 7.4131 - mae: 7.4131\n",
            "Epoch 461/500\n",
            "2/2 [==============================] - 0s 7ms/step - loss: 15.6739 - mae: 15.6739\n",
            "Epoch 462/500\n",
            "2/2 [==============================] - 0s 6ms/step - loss: 15.1702 - mae: 15.1702\n",
            "Epoch 463/500\n",
            "2/2 [==============================] - 0s 7ms/step - loss: 16.8068 - mae: 16.8068\n",
            "Epoch 464/500\n",
            "2/2 [==============================] - 0s 7ms/step - loss: 11.2259 - mae: 11.2259\n",
            "Epoch 465/500\n",
            "2/2 [==============================] - 0s 6ms/step - loss: 21.5444 - mae: 21.5444\n",
            "Epoch 466/500\n",
            "2/2 [==============================] - 0s 6ms/step - loss: 25.0055 - mae: 25.0055\n",
            "Epoch 467/500\n",
            "2/2 [==============================] - 0s 12ms/step - loss: 14.8353 - mae: 14.8353\n",
            "Epoch 468/500\n",
            "2/2 [==============================] - 0s 9ms/step - loss: 10.3598 - mae: 10.3598\n",
            "Epoch 469/500\n",
            "2/2 [==============================] - 0s 6ms/step - loss: 27.3701 - mae: 27.3701\n",
            "Epoch 470/500\n",
            "2/2 [==============================] - 0s 10ms/step - loss: 12.4140 - mae: 12.4140\n",
            "Epoch 471/500\n",
            "2/2 [==============================] - 0s 7ms/step - loss: 12.0769 - mae: 12.0769\n",
            "Epoch 472/500\n",
            "2/2 [==============================] - 0s 7ms/step - loss: 15.5076 - mae: 15.5076\n",
            "Epoch 473/500\n",
            "2/2 [==============================] - 0s 7ms/step - loss: 15.5153 - mae: 15.5153\n",
            "Epoch 474/500\n",
            "2/2 [==============================] - 0s 6ms/step - loss: 20.2416 - mae: 20.2416\n",
            "Epoch 475/500\n",
            "2/2 [==============================] - 0s 8ms/step - loss: 5.0447 - mae: 5.0447\n",
            "Epoch 476/500\n",
            "2/2 [==============================] - 0s 8ms/step - loss: 13.3397 - mae: 13.3397\n",
            "Epoch 477/500\n",
            "2/2 [==============================] - 0s 7ms/step - loss: 29.5760 - mae: 29.5760\n",
            "Epoch 478/500\n",
            "2/2 [==============================] - 0s 7ms/step - loss: 3.6882 - mae: 3.6882\n",
            "Epoch 479/500\n",
            "2/2 [==============================] - 0s 7ms/step - loss: 16.2023 - mae: 16.2023\n",
            "Epoch 480/500\n",
            "2/2 [==============================] - 0s 9ms/step - loss: 3.8534 - mae: 3.8534\n",
            "Epoch 481/500\n",
            "2/2 [==============================] - 0s 8ms/step - loss: 15.0723 - mae: 15.0723\n",
            "Epoch 482/500\n",
            "2/2 [==============================] - 0s 8ms/step - loss: 24.5640 - mae: 24.5640\n",
            "Epoch 483/500\n",
            "2/2 [==============================] - 0s 8ms/step - loss: 18.4733 - mae: 18.4733\n",
            "Epoch 484/500\n",
            "2/2 [==============================] - 0s 6ms/step - loss: 16.5561 - mae: 16.5561\n",
            "Epoch 485/500\n",
            "2/2 [==============================] - 0s 8ms/step - loss: 9.7727 - mae: 9.7727\n",
            "Epoch 486/500\n",
            "2/2 [==============================] - 0s 6ms/step - loss: 17.9827 - mae: 17.9827\n",
            "Epoch 487/500\n",
            "2/2 [==============================] - 0s 6ms/step - loss: 10.8823 - mae: 10.8823\n",
            "Epoch 488/500\n",
            "2/2 [==============================] - 0s 7ms/step - loss: 27.0551 - mae: 27.0551\n",
            "Epoch 489/500\n",
            "2/2 [==============================] - 0s 10ms/step - loss: 5.2795 - mae: 5.2795\n",
            "Epoch 490/500\n",
            "2/2 [==============================] - 0s 11ms/step - loss: 6.0305 - mae: 6.0305\n",
            "Epoch 491/500\n",
            "2/2 [==============================] - 0s 6ms/step - loss: 19.0495 - mae: 19.0495\n",
            "Epoch 492/500\n",
            "2/2 [==============================] - 0s 7ms/step - loss: 7.3895 - mae: 7.3895\n",
            "Epoch 493/500\n",
            "2/2 [==============================] - 0s 7ms/step - loss: 18.2578 - mae: 18.2578\n",
            "Epoch 494/500\n",
            "2/2 [==============================] - 0s 8ms/step - loss: 18.4438 - mae: 18.4438\n",
            "Epoch 495/500\n",
            "2/2 [==============================] - 0s 7ms/step - loss: 6.3408 - mae: 6.3408\n",
            "Epoch 496/500\n",
            "2/2 [==============================] - 0s 9ms/step - loss: 6.3976 - mae: 6.3976\n",
            "Epoch 497/500\n",
            "2/2 [==============================] - 0s 10ms/step - loss: 13.8125 - mae: 13.8125\n",
            "Epoch 498/500\n",
            "2/2 [==============================] - 0s 10ms/step - loss: 6.7609 - mae: 6.7609\n",
            "Epoch 499/500\n",
            "2/2 [==============================] - 0s 9ms/step - loss: 17.7189 - mae: 17.7189\n",
            "Epoch 500/500\n",
            "2/2 [==============================] - 0s 8ms/step - loss: 14.2458 - mae: 14.2458\n"
          ]
        },
        {
          "output_type": "execute_result",
          "data": {
            "text/plain": [
              "<keras.callbacks.History at 0x7f999dea6aa0>"
            ]
          },
          "metadata": {},
          "execution_count": 60
        }
      ]
    },
    {
      "cell_type": "code",
      "source": [
        "# Make and plot predictions\n",
        "y_preds_3 = model_3.predict(X_test)\n",
        "plot_predictions(predictions=y_preds_3)"
      ],
      "metadata": {
        "colab": {
          "base_uri": "https://localhost:8080/",
          "height": 616
        },
        "id": "M884J_Ft1OzU",
        "outputId": "daa71e29-c321-4322-b979-6211173b9c15"
      },
      "execution_count": 61,
      "outputs": [
        {
          "output_type": "stream",
          "name": "stdout",
          "text": [
            "1/1 [==============================] - 0s 105ms/step\n"
          ]
        },
        {
          "output_type": "display_data",
          "data": {
            "text/plain": [
              "<Figure size 1000x700 with 1 Axes>"
            ],
            "image/png": "[encoded data removed]"
          },
          "metadata": {}
        }
      ]
    },
    {
      "cell_type": "code",
      "source": [
        "# Calculate model_3 evaluation metrics\n",
        "mae_3 = mae(y_test, y_preds_3)\n",
        "mse_3 = mse(y_test, y_preds_3)\n",
        "mae_3, mse_3"
      ],
      "metadata": {
        "colab": {
          "base_uri": "https://localhost:8080/"
        },
        "id": "F0CoeBO21fnZ",
        "outputId": "c8429f96-dd6e-4440-f16b-653b94f4fb00"
      },
      "execution_count": 62,
      "outputs": [
        {
          "output_type": "execute_result",
          "data": {
            "text/plain": [
              "(<tf.Tensor: shape=(), dtype=float32, numpy=67.43214>,\n",
              " <tf.Tensor: shape=(), dtype=float32, numpy=4630.632>)"
            ]
          },
          "metadata": {},
          "execution_count": 62
        }
      ]
    },
    {
      "cell_type": "markdown",
      "source": [
        "**model_4**\n",
        "\n",
        "- 3 dense layers created for 100 epochs"
      ],
      "metadata": {
        "id": "GcNjpsi33qoh"
      }
    },
    {
      "cell_type": "code",
      "source": [
        "# Set random seed\n",
        "tf.random.set_seed(42)\n",
        "\n",
        "# 1. Create model\n",
        "model_4 = tf.keras.Sequential([\n",
        "    tf.keras.layers.Dense(10),\n",
        "    tf.keras.layers.Dense(5),\n",
        "    tf.keras.layers.Dense(1)\n",
        "])\n",
        "\n",
        "# 2. Compile model\n",
        "model_4.compile(loss=tf.keras.losses.mae,\n",
        "                optimizer=tf.keras.optimizers.SGD(),\n",
        "                metrics=[\"mae\"])\n",
        "\n",
        "# 3. Fit model\n",
        "model_4.fit(tf.expand_dims(X_train, -1), y_train, epochs=100)"
      ],
      "metadata": {
        "colab": {
          "base_uri": "https://localhost:8080/"
        },
        "id": "aEiJMVIH3st0",
        "outputId": "fe319efb-98e6-4d8f-e52e-7a6f87bbf4a9"
      },
      "execution_count": 63,
      "outputs": [
        {
          "output_type": "stream",
          "name": "stdout",
          "text": [
            "Epoch 1/100\n",
            "2/2 [==============================] - 1s 17ms/step - loss: 33.3147 - mae: 33.3147\n",
            "Epoch 2/100\n",
            "2/2 [==============================] - 0s 11ms/step - loss: 32.9251 - mae: 32.9251\n",
            "Epoch 3/100\n",
            "2/2 [==============================] - 0s 8ms/step - loss: 16.8259 - mae: 16.8259\n",
            "Epoch 4/100\n",
            "2/2 [==============================] - 0s 7ms/step - loss: 12.0313 - mae: 12.0313\n",
            "Epoch 5/100\n",
            "2/2 [==============================] - 0s 7ms/step - loss: 9.9505 - mae: 9.9505\n",
            "Epoch 6/100\n",
            "2/2 [==============================] - 0s 6ms/step - loss: 26.8659 - mae: 26.8659\n",
            "Epoch 7/100\n",
            "2/2 [==============================] - 0s 6ms/step - loss: 16.0425 - mae: 16.0425\n",
            "Epoch 8/100\n",
            "2/2 [==============================] - 0s 7ms/step - loss: 8.4079 - mae: 8.4079\n",
            "Epoch 9/100\n",
            "2/2 [==============================] - 0s 7ms/step - loss: 71.8742 - mae: 71.8742\n",
            "Epoch 10/100\n",
            "2/2 [==============================] - 0s 6ms/step - loss: 20.6393 - mae: 20.6393\n",
            "Epoch 11/100\n",
            "2/2 [==============================] - 0s 7ms/step - loss: 10.7805 - mae: 10.7805\n",
            "Epoch 12/100\n",
            "2/2 [==============================] - 0s 7ms/step - loss: 39.9946 - mae: 39.9946\n",
            "Epoch 13/100\n",
            "2/2 [==============================] - 0s 7ms/step - loss: 17.3396 - mae: 17.3396\n",
            "Epoch 14/100\n",
            "2/2 [==============================] - 0s 6ms/step - loss: 27.7949 - mae: 27.7949\n",
            "Epoch 15/100\n",
            "2/2 [==============================] - 0s 6ms/step - loss: 19.3528 - mae: 19.3528\n",
            "Epoch 16/100\n",
            "2/2 [==============================] - 0s 7ms/step - loss: 18.2942 - mae: 18.2942\n",
            "Epoch 17/100\n",
            "2/2 [==============================] - 0s 7ms/step - loss: 30.4867 - mae: 30.4867\n",
            "Epoch 18/100\n",
            "2/2 [==============================] - 0s 8ms/step - loss: 9.9589 - mae: 9.9589\n",
            "Epoch 19/100\n",
            "2/2 [==============================] - 0s 8ms/step - loss: 22.9204 - mae: 22.9204\n",
            "Epoch 20/100\n",
            "2/2 [==============================] - 0s 8ms/step - loss: 20.1578 - mae: 20.1578\n",
            "Epoch 21/100\n",
            "2/2 [==============================] - 0s 7ms/step - loss: 24.4206 - mae: 24.4206\n",
            "Epoch 22/100\n",
            "2/2 [==============================] - 0s 11ms/step - loss: 17.2213 - mae: 17.2213\n",
            "Epoch 23/100\n",
            "2/2 [==============================] - 0s 8ms/step - loss: 22.2227 - mae: 22.2227\n",
            "Epoch 24/100\n",
            "2/2 [==============================] - 0s 8ms/step - loss: 25.9850 - mae: 25.9850\n",
            "Epoch 25/100\n",
            "2/2 [==============================] - 0s 8ms/step - loss: 24.4864 - mae: 24.4864\n",
            "Epoch 26/100\n",
            "2/2 [==============================] - 0s 9ms/step - loss: 16.6428 - mae: 16.6428\n",
            "Epoch 27/100\n",
            "2/2 [==============================] - 0s 10ms/step - loss: 31.8096 - mae: 31.8096\n",
            "Epoch 28/100\n",
            "2/2 [==============================] - 0s 10ms/step - loss: 13.3364 - mae: 13.3364\n",
            "Epoch 29/100\n",
            "2/2 [==============================] - 0s 12ms/step - loss: 26.0020 - mae: 26.0020\n",
            "Epoch 30/100\n",
            "2/2 [==============================] - 0s 11ms/step - loss: 33.5526 - mae: 33.5526\n",
            "Epoch 31/100\n",
            "2/2 [==============================] - 0s 18ms/step - loss: 14.8986 - mae: 14.8986\n",
            "Epoch 32/100\n",
            "2/2 [==============================] - 0s 9ms/step - loss: 13.3816 - mae: 13.3816\n",
            "Epoch 33/100\n",
            "2/2 [==============================] - 0s 12ms/step - loss: 30.6174 - mae: 30.6174\n",
            "Epoch 34/100\n",
            "2/2 [==============================] - 0s 10ms/step - loss: 8.8718 - mae: 8.8718\n",
            "Epoch 35/100\n",
            "2/2 [==============================] - 0s 11ms/step - loss: 9.9329 - mae: 9.9329\n",
            "Epoch 36/100\n",
            "2/2 [==============================] - 0s 8ms/step - loss: 29.6449 - mae: 29.6449\n",
            "Epoch 37/100\n",
            "2/2 [==============================] - 0s 11ms/step - loss: 27.5348 - mae: 27.5348\n",
            "Epoch 38/100\n",
            "2/2 [==============================] - 0s 12ms/step - loss: 18.0097 - mae: 18.0097\n",
            "Epoch 39/100\n",
            "2/2 [==============================] - 0s 8ms/step - loss: 18.4574 - mae: 18.4574\n",
            "Epoch 40/100\n",
            "2/2 [==============================] - 0s 14ms/step - loss: 31.1298 - mae: 31.1298\n",
            "Epoch 41/100\n",
            "2/2 [==============================] - 0s 14ms/step - loss: 10.1316 - mae: 10.1316\n",
            "Epoch 42/100\n",
            "2/2 [==============================] - 0s 17ms/step - loss: 27.1589 - mae: 27.1589\n",
            "Epoch 43/100\n",
            "2/2 [==============================] - 0s 10ms/step - loss: 15.4201 - mae: 15.4201\n",
            "Epoch 44/100\n",
            "2/2 [==============================] - 0s 11ms/step - loss: 21.3997 - mae: 21.3997\n",
            "Epoch 45/100\n",
            "2/2 [==============================] - 0s 9ms/step - loss: 18.0279 - mae: 18.0279\n",
            "Epoch 46/100\n",
            "2/2 [==============================] - 0s 10ms/step - loss: 16.5779 - mae: 16.5779\n",
            "Epoch 47/100\n",
            "2/2 [==============================] - 0s 11ms/step - loss: 9.9322 - mae: 9.9322\n",
            "Epoch 48/100\n",
            "2/2 [==============================] - 0s 10ms/step - loss: 26.4771 - mae: 26.4771\n",
            "Epoch 49/100\n",
            "2/2 [==============================] - 0s 9ms/step - loss: 11.4319 - mae: 11.4319\n",
            "Epoch 50/100\n",
            "2/2 [==============================] - 0s 10ms/step - loss: 14.3556 - mae: 14.3556\n",
            "Epoch 51/100\n",
            "2/2 [==============================] - 0s 10ms/step - loss: 13.2621 - mae: 13.2621\n",
            "Epoch 52/100\n",
            "2/2 [==============================] - 0s 10ms/step - loss: 38.6424 - mae: 38.6424\n",
            "Epoch 53/100\n",
            "2/2 [==============================] - 0s 11ms/step - loss: 34.4692 - mae: 34.4692\n",
            "Epoch 54/100\n",
            "2/2 [==============================] - 0s 8ms/step - loss: 17.2667 - mae: 17.2667\n",
            "Epoch 55/100\n",
            "2/2 [==============================] - 0s 11ms/step - loss: 32.9791 - mae: 32.9791\n",
            "Epoch 56/100\n",
            "2/2 [==============================] - 0s 8ms/step - loss: 15.9430 - mae: 15.9430\n",
            "Epoch 57/100\n",
            "2/2 [==============================] - 0s 9ms/step - loss: 29.3532 - mae: 29.3532\n",
            "Epoch 58/100\n",
            "2/2 [==============================] - 0s 8ms/step - loss: 9.6791 - mae: 9.6791\n",
            "Epoch 59/100\n",
            "2/2 [==============================] - 0s 10ms/step - loss: 11.2708 - mae: 11.2708\n",
            "Epoch 60/100\n",
            "2/2 [==============================] - 0s 9ms/step - loss: 10.0216 - mae: 10.0216\n",
            "Epoch 61/100\n",
            "2/2 [==============================] - 0s 9ms/step - loss: 12.5482 - mae: 12.5482\n",
            "Epoch 62/100\n",
            "2/2 [==============================] - 0s 9ms/step - loss: 13.2177 - mae: 13.2177\n",
            "Epoch 63/100\n",
            "2/2 [==============================] - 0s 9ms/step - loss: 14.2334 - mae: 14.2334\n",
            "Epoch 64/100\n",
            "2/2 [==============================] - 0s 10ms/step - loss: 11.0852 - mae: 11.0852\n",
            "Epoch 65/100\n",
            "2/2 [==============================] - 0s 9ms/step - loss: 12.0360 - mae: 12.0360\n",
            "Epoch 66/100\n",
            "2/2 [==============================] - 0s 9ms/step - loss: 30.7633 - mae: 30.7633\n",
            "Epoch 67/100\n",
            "2/2 [==============================] - 0s 15ms/step - loss: 19.7624 - mae: 19.7624\n",
            "Epoch 68/100\n",
            "2/2 [==============================] - 0s 10ms/step - loss: 20.3771 - mae: 20.3771\n",
            "Epoch 69/100\n",
            "2/2 [==============================] - 0s 8ms/step - loss: 30.0696 - mae: 30.0696\n",
            "Epoch 70/100\n",
            "2/2 [==============================] - 0s 7ms/step - loss: 8.0512 - mae: 8.0512\n",
            "Epoch 71/100\n",
            "2/2 [==============================] - 0s 8ms/step - loss: 31.5898 - mae: 31.5898\n",
            "Epoch 72/100\n",
            "2/2 [==============================] - 0s 7ms/step - loss: 19.5007 - mae: 19.5007\n",
            "Epoch 73/100\n",
            "2/2 [==============================] - 0s 7ms/step - loss: 15.0579 - mae: 15.0579\n",
            "Epoch 74/100\n",
            "2/2 [==============================] - 0s 6ms/step - loss: 32.3039 - mae: 32.3039\n",
            "Epoch 75/100\n",
            "2/2 [==============================] - 0s 7ms/step - loss: 16.3290 - mae: 16.3290\n",
            "Epoch 76/100\n",
            "2/2 [==============================] - 0s 6ms/step - loss: 33.3736 - mae: 33.3736\n",
            "Epoch 77/100\n",
            "2/2 [==============================] - 0s 7ms/step - loss: 17.8306 - mae: 17.8306\n",
            "Epoch 78/100\n",
            "2/2 [==============================] - 0s 6ms/step - loss: 31.5288 - mae: 31.5288\n",
            "Epoch 79/100\n",
            "2/2 [==============================] - 0s 6ms/step - loss: 11.1465 - mae: 11.1465\n",
            "Epoch 80/100\n",
            "2/2 [==============================] - 0s 7ms/step - loss: 37.3078 - mae: 37.3078\n",
            "Epoch 81/100\n",
            "2/2 [==============================] - 0s 6ms/step - loss: 30.7042 - mae: 30.7042\n",
            "Epoch 82/100\n",
            "2/2 [==============================] - 0s 7ms/step - loss: 16.3759 - mae: 16.3759\n",
            "Epoch 83/100\n",
            "2/2 [==============================] - 0s 8ms/step - loss: 25.9573 - mae: 25.9573\n",
            "Epoch 84/100\n",
            "2/2 [==============================] - 0s 10ms/step - loss: 14.4378 - mae: 14.4378\n",
            "Epoch 85/100\n",
            "2/2 [==============================] - 0s 9ms/step - loss: 31.9213 - mae: 31.9213\n",
            "Epoch 86/100\n",
            "2/2 [==============================] - 0s 7ms/step - loss: 18.6803 - mae: 18.6803\n",
            "Epoch 87/100\n",
            "2/2 [==============================] - 0s 7ms/step - loss: 29.6196 - mae: 29.6196\n",
            "Epoch 88/100\n",
            "2/2 [==============================] - 0s 6ms/step - loss: 13.0581 - mae: 13.0581\n",
            "Epoch 89/100\n",
            "2/2 [==============================] - 0s 8ms/step - loss: 13.1279 - mae: 13.1279\n",
            "Epoch 90/100\n",
            "2/2 [==============================] - 0s 10ms/step - loss: 29.2151 - mae: 29.2151\n",
            "Epoch 91/100\n",
            "2/2 [==============================] - 0s 7ms/step - loss: 18.7407 - mae: 18.7407\n",
            "Epoch 92/100\n",
            "2/2 [==============================] - 0s 6ms/step - loss: 17.3506 - mae: 17.3506\n",
            "Epoch 93/100\n",
            "2/2 [==============================] - 0s 7ms/step - loss: 23.1869 - mae: 23.1869\n",
            "Epoch 94/100\n",
            "2/2 [==============================] - 0s 7ms/step - loss: 21.6864 - mae: 21.6864\n",
            "Epoch 95/100\n",
            "2/2 [==============================] - 0s 7ms/step - loss: 18.1475 - mae: 18.1475\n",
            "Epoch 96/100\n",
            "2/2 [==============================] - 0s 6ms/step - loss: 21.8954 - mae: 21.8954\n",
            "Epoch 97/100\n",
            "2/2 [==============================] - 0s 7ms/step - loss: 54.6948 - mae: 54.6948\n",
            "Epoch 98/100\n",
            "2/2 [==============================] - 0s 7ms/step - loss: 25.8097 - mae: 25.8097\n",
            "Epoch 99/100\n",
            "2/2 [==============================] - 0s 7ms/step - loss: 27.7733 - mae: 27.7733\n",
            "Epoch 100/100\n",
            "2/2 [==============================] - 0s 7ms/step - loss: 16.9064 - mae: 16.9064\n"
          ]
        },
        {
          "output_type": "execute_result",
          "data": {
            "text/plain": [
              "<keras.callbacks.History at 0x7f999f258100>"
            ]
          },
          "metadata": {},
          "execution_count": 63
        }
      ]
    },
    {
      "cell_type": "code",
      "source": [
        "# Make and plot predictions\n",
        "y_preds_4 = model_4.predict(X_test)\n",
        "plot_predictions(predictions=y_preds_4)"
      ],
      "metadata": {
        "colab": {
          "base_uri": "https://localhost:8080/",
          "height": 616
        },
        "id": "oEdRKwP34Cgj",
        "outputId": "45d22c75-4423-44bf-ace7-3f49d3ca0e38"
      },
      "execution_count": 64,
      "outputs": [
        {
          "output_type": "stream",
          "name": "stdout",
          "text": [
            "1/1 [==============================] - 0s 73ms/step\n"
          ]
        },
        {
          "output_type": "display_data",
          "data": {
            "text/plain": [
              "<Figure size 1000x700 with 1 Axes>"
            ],
            "image/png": "[encoded data removed]"
          },
          "metadata": {}
        }
      ]
    },
    {
      "cell_type": "code",
      "source": [
        "# Calculate model_4 evaluation metrics\n",
        "mae_4 = mae(y_test, y_preds_4)\n",
        "mse_4 = mse(y_test, y_preds_4)\n",
        "mae_4, mse_4"
      ],
      "metadata": {
        "colab": {
          "base_uri": "https://localhost:8080/"
        },
        "id": "vlhDVAmO4S4-",
        "outputId": "b02fd6ee-7d14-40f8-a195-02dd5a3b05b7"
      },
      "execution_count": 65,
      "outputs": [
        {
          "output_type": "execute_result",
          "data": {
            "text/plain": [
              "(<tf.Tensor: shape=(), dtype=float32, numpy=75.76247>,\n",
              " <tf.Tensor: shape=(), dtype=float32, numpy=5836.2905>)"
            ]
          },
          "metadata": {},
          "execution_count": 65
        }
      ]
    },
    {
      "cell_type": "markdown",
      "source": [
        "**model_5**\n",
        "2 dense layers for 100 epochs but w/ Adam optimization lr=0.0001"
      ],
      "metadata": {
        "id": "4zSkVEZt4bGw"
      }
    },
    {
      "cell_type": "code",
      "source": [
        "# Set random seed\n",
        "tf.random.set_seed(42)\n",
        "\n",
        "# 1. Create model\n",
        "model_5 = tf.keras.Sequential([\n",
        "    tf.keras.layers.Dense(10),\n",
        "    tf.keras.layers.Dense(1)\n",
        "])\n",
        "\n",
        "# 2. Compile model\n",
        "model_5.compile(loss=tf.keras.losses.mae,\n",
        "                optimizer=tf.keras.optimizers.Adam(lr=0.001),\n",
        "                metrics=[\"mae\"])\n",
        "\n",
        "# 3. Fit model\n",
        "model_5.fit(tf.expand_dims(X_train, -1), y_train, epochs=100)"
      ],
      "metadata": {
        "colab": {
          "base_uri": "https://localhost:8080/"
        },
        "id": "meicz1Kl4rtj",
        "outputId": "98209727-f828-408f-972a-947cde384618"
      },
      "execution_count": 66,
      "outputs": [
        {
          "output_type": "stream",
          "name": "stderr",
          "text": [
            "WARNING:absl:`lr` is deprecated in Keras optimizer, please use `learning_rate` or use the legacy optimizer, e.g.,tf.keras.optimizers.legacy.Adam.\n"
          ]
        },
        {
          "output_type": "stream",
          "name": "stdout",
          "text": [
            "Epoch 1/100\n",
            "2/2 [==============================] - 1s 10ms/step - loss: 10.4440 - mae: 10.4440\n",
            "Epoch 2/100\n",
            "2/2 [==============================] - 0s 6ms/step - loss: 10.0709 - mae: 10.0709\n",
            "Epoch 3/100\n",
            "2/2 [==============================] - 0s 9ms/step - loss: 9.7606 - mae: 9.7606\n",
            "Epoch 4/100\n",
            "2/2 [==============================] - 0s 8ms/step - loss: 9.4384 - mae: 9.4384\n",
            "Epoch 5/100\n",
            "2/2 [==============================] - 0s 7ms/step - loss: 9.1275 - mae: 9.1275\n",
            "Epoch 6/100\n",
            "2/2 [==============================] - 0s 6ms/step - loss: 8.7939 - mae: 8.7939\n",
            "Epoch 7/100\n",
            "2/2 [==============================] - 0s 7ms/step - loss: 8.5000 - mae: 8.5000\n",
            "Epoch 8/100\n",
            "2/2 [==============================] - 0s 7ms/step - loss: 8.1573 - mae: 8.1573\n",
            "Epoch 9/100\n",
            "2/2 [==============================] - 0s 8ms/step - loss: 7.9051 - mae: 7.9051\n",
            "Epoch 10/100\n",
            "2/2 [==============================] - 0s 6ms/step - loss: 7.6731 - mae: 7.6731\n",
            "Epoch 11/100\n",
            "2/2 [==============================] - 0s 6ms/step - loss: 7.5447 - mae: 7.5447\n",
            "Epoch 12/100\n",
            "2/2 [==============================] - 0s 7ms/step - loss: 7.5708 - mae: 7.5708\n",
            "Epoch 13/100\n",
            "2/2 [==============================] - 0s 9ms/step - loss: 7.6046 - mae: 7.6046\n",
            "Epoch 14/100\n",
            "2/2 [==============================] - 0s 7ms/step - loss: 7.6168 - mae: 7.6168\n",
            "Epoch 15/100\n",
            "2/2 [==============================] - 0s 7ms/step - loss: 7.6137 - mae: 7.6137\n",
            "Epoch 16/100\n",
            "2/2 [==============================] - 0s 7ms/step - loss: 7.6017 - mae: 7.6017\n",
            "Epoch 17/100\n",
            "2/2 [==============================] - 0s 6ms/step - loss: 7.5743 - mae: 7.5743\n",
            "Epoch 18/100\n",
            "2/2 [==============================] - 0s 6ms/step - loss: 7.5518 - mae: 7.5518\n",
            "Epoch 19/100\n",
            "2/2 [==============================] - 0s 6ms/step - loss: 7.5196 - mae: 7.5196\n",
            "Epoch 20/100\n",
            "2/2 [==============================] - 0s 6ms/step - loss: 7.4990 - mae: 7.4990\n",
            "Epoch 21/100\n",
            "2/2 [==============================] - 0s 6ms/step - loss: 7.4908 - mae: 7.4908\n",
            "Epoch 22/100\n",
            "2/2 [==============================] - 0s 7ms/step - loss: 7.4802 - mae: 7.4802\n",
            "Epoch 23/100\n",
            "2/2 [==============================] - 0s 6ms/step - loss: 7.4960 - mae: 7.4960\n",
            "Epoch 24/100\n",
            "2/2 [==============================] - 0s 8ms/step - loss: 7.4840 - mae: 7.4840\n",
            "Epoch 25/100\n",
            "2/2 [==============================] - 0s 6ms/step - loss: 7.4764 - mae: 7.4764\n",
            "Epoch 26/100\n",
            "2/2 [==============================] - 0s 8ms/step - loss: 7.4666 - mae: 7.4666\n",
            "Epoch 27/100\n",
            "2/2 [==============================] - 0s 5ms/step - loss: 7.4526 - mae: 7.4526\n",
            "Epoch 28/100\n",
            "2/2 [==============================] - 0s 7ms/step - loss: 7.4428 - mae: 7.4428\n",
            "Epoch 29/100\n",
            "2/2 [==============================] - 0s 6ms/step - loss: 7.4423 - mae: 7.4423\n",
            "Epoch 30/100\n",
            "2/2 [==============================] - 0s 7ms/step - loss: 7.4354 - mae: 7.4354\n",
            "Epoch 31/100\n",
            "2/2 [==============================] - 0s 6ms/step - loss: 7.4295 - mae: 7.4295\n",
            "Epoch 32/100\n",
            "2/2 [==============================] - 0s 6ms/step - loss: 7.4247 - mae: 7.4247\n",
            "Epoch 33/100\n",
            "2/2 [==============================] - 0s 8ms/step - loss: 7.4285 - mae: 7.4285\n",
            "Epoch 34/100\n",
            "2/2 [==============================] - 0s 6ms/step - loss: 7.4246 - mae: 7.4246\n",
            "Epoch 35/100\n",
            "2/2 [==============================] - 0s 6ms/step - loss: 7.4187 - mae: 7.4187\n",
            "Epoch 36/100\n",
            "2/2 [==============================] - 0s 7ms/step - loss: 7.4109 - mae: 7.4109\n",
            "Epoch 37/100\n",
            "2/2 [==============================] - 0s 7ms/step - loss: 7.4098 - mae: 7.4098\n",
            "Epoch 38/100\n",
            "2/2 [==============================] - 0s 7ms/step - loss: 7.4114 - mae: 7.4114\n",
            "Epoch 39/100\n",
            "2/2 [==============================] - 0s 10ms/step - loss: 7.4078 - mae: 7.4078\n",
            "Epoch 40/100\n",
            "2/2 [==============================] - 0s 8ms/step - loss: 7.4001 - mae: 7.4001\n",
            "Epoch 41/100\n",
            "2/2 [==============================] - 0s 6ms/step - loss: 7.3893 - mae: 7.3893\n",
            "Epoch 42/100\n",
            "2/2 [==============================] - 0s 6ms/step - loss: 7.3728 - mae: 7.3728\n",
            "Epoch 43/100\n",
            "2/2 [==============================] - 0s 6ms/step - loss: 7.3549 - mae: 7.3549\n",
            "Epoch 44/100\n",
            "2/2 [==============================] - 0s 7ms/step - loss: 7.3532 - mae: 7.3532\n",
            "Epoch 45/100\n",
            "2/2 [==============================] - 0s 6ms/step - loss: 7.3369 - mae: 7.3369\n",
            "Epoch 46/100\n",
            "2/2 [==============================] - 0s 7ms/step - loss: 7.3285 - mae: 7.3285\n",
            "Epoch 47/100\n",
            "2/2 [==============================] - 0s 6ms/step - loss: 7.3219 - mae: 7.3219\n",
            "Epoch 48/100\n",
            "2/2 [==============================] - 0s 11ms/step - loss: 7.3191 - mae: 7.3191\n",
            "Epoch 49/100\n",
            "2/2 [==============================] - 0s 8ms/step - loss: 7.3222 - mae: 7.3222\n",
            "Epoch 50/100\n",
            "2/2 [==============================] - 0s 7ms/step - loss: 7.3229 - mae: 7.3229\n",
            "Epoch 51/100\n",
            "2/2 [==============================] - 0s 7ms/step - loss: 7.3256 - mae: 7.3256\n",
            "Epoch 52/100\n",
            "2/2 [==============================] - 0s 8ms/step - loss: 7.3180 - mae: 7.3180\n",
            "Epoch 53/100\n",
            "2/2 [==============================] - 0s 6ms/step - loss: 7.2970 - mae: 7.2970\n",
            "Epoch 54/100\n",
            "2/2 [==============================] - 0s 8ms/step - loss: 7.2822 - mae: 7.2822\n",
            "Epoch 55/100\n",
            "2/2 [==============================] - 0s 7ms/step - loss: 7.2716 - mae: 7.2716\n",
            "Epoch 56/100\n",
            "2/2 [==============================] - 0s 8ms/step - loss: 7.2648 - mae: 7.2648\n",
            "Epoch 57/100\n",
            "2/2 [==============================] - 0s 7ms/step - loss: 7.2511 - mae: 7.2511\n",
            "Epoch 58/100\n",
            "2/2 [==============================] - 0s 6ms/step - loss: 7.2510 - mae: 7.2510\n",
            "Epoch 59/100\n",
            "2/2 [==============================] - 0s 8ms/step - loss: 7.2537 - mae: 7.2537\n",
            "Epoch 60/100\n",
            "2/2 [==============================] - 0s 7ms/step - loss: 7.2494 - mae: 7.2494\n",
            "Epoch 61/100\n",
            "2/2 [==============================] - 0s 8ms/step - loss: 7.2429 - mae: 7.2429\n",
            "Epoch 62/100\n",
            "2/2 [==============================] - 0s 6ms/step - loss: 7.2331 - mae: 7.2331\n",
            "Epoch 63/100\n",
            "2/2 [==============================] - 0s 6ms/step - loss: 7.2151 - mae: 7.2151\n",
            "Epoch 64/100\n",
            "2/2 [==============================] - 0s 7ms/step - loss: 7.2184 - mae: 7.2184\n",
            "Epoch 65/100\n",
            "2/2 [==============================] - 0s 7ms/step - loss: 7.2047 - mae: 7.2047\n",
            "Epoch 66/100\n",
            "2/2 [==============================] - 0s 6ms/step - loss: 7.1986 - mae: 7.1986\n",
            "Epoch 67/100\n",
            "2/2 [==============================] - 0s 6ms/step - loss: 7.1915 - mae: 7.1915\n",
            "Epoch 68/100\n",
            "2/2 [==============================] - 0s 6ms/step - loss: 7.1865 - mae: 7.1865\n",
            "Epoch 69/100\n",
            "2/2 [==============================] - 0s 7ms/step - loss: 7.1745 - mae: 7.1745\n",
            "Epoch 70/100\n",
            "2/2 [==============================] - 0s 7ms/step - loss: 7.1675 - mae: 7.1675\n",
            "Epoch 71/100\n",
            "2/2 [==============================] - 0s 6ms/step - loss: 7.1545 - mae: 7.1545\n",
            "Epoch 72/100\n",
            "2/2 [==============================] - 0s 8ms/step - loss: 7.1575 - mae: 7.1575\n",
            "Epoch 73/100\n",
            "2/2 [==============================] - 0s 9ms/step - loss: 7.1624 - mae: 7.1624\n",
            "Epoch 74/100\n",
            "2/2 [==============================] - 0s 6ms/step - loss: 7.1830 - mae: 7.1830\n",
            "Epoch 75/100\n",
            "2/2 [==============================] - 0s 6ms/step - loss: 7.1964 - mae: 7.1964\n",
            "Epoch 76/100\n",
            "2/2 [==============================] - 0s 8ms/step - loss: 7.1797 - mae: 7.1797\n",
            "Epoch 77/100\n",
            "2/2 [==============================] - 0s 7ms/step - loss: 7.1432 - mae: 7.1432\n",
            "Epoch 78/100\n",
            "2/2 [==============================] - 0s 6ms/step - loss: 7.1058 - mae: 7.1058\n",
            "Epoch 79/100\n",
            "2/2 [==============================] - 0s 6ms/step - loss: 7.1221 - mae: 7.1221\n",
            "Epoch 80/100\n",
            "2/2 [==============================] - 0s 6ms/step - loss: 7.1117 - mae: 7.1117\n",
            "Epoch 81/100\n",
            "2/2 [==============================] - 0s 7ms/step - loss: 7.1131 - mae: 7.1131\n",
            "Epoch 82/100\n",
            "2/2 [==============================] - 0s 7ms/step - loss: 7.1098 - mae: 7.1098\n",
            "Epoch 83/100\n",
            "2/2 [==============================] - 0s 7ms/step - loss: 7.1034 - mae: 7.1034\n",
            "Epoch 84/100\n",
            "2/2 [==============================] - 0s 7ms/step - loss: 7.0872 - mae: 7.0872\n",
            "Epoch 85/100\n",
            "2/2 [==============================] - 0s 8ms/step - loss: 7.0758 - mae: 7.0758\n",
            "Epoch 86/100\n",
            "2/2 [==============================] - 0s 6ms/step - loss: 7.0557 - mae: 7.0557\n",
            "Epoch 87/100\n",
            "2/2 [==============================] - 0s 6ms/step - loss: 7.0430 - mae: 7.0430\n",
            "Epoch 88/100\n",
            "2/2 [==============================] - 0s 6ms/step - loss: 7.0399 - mae: 7.0399\n",
            "Epoch 89/100\n",
            "2/2 [==============================] - 0s 7ms/step - loss: 7.0499 - mae: 7.0499\n",
            "Epoch 90/100\n",
            "2/2 [==============================] - 0s 6ms/step - loss: 7.0619 - mae: 7.0619\n",
            "Epoch 91/100\n",
            "2/2 [==============================] - 0s 6ms/step - loss: 7.0554 - mae: 7.0554\n",
            "Epoch 92/100\n",
            "2/2 [==============================] - 0s 6ms/step - loss: 7.0325 - mae: 7.0325\n",
            "Epoch 93/100\n",
            "2/2 [==============================] - 0s 7ms/step - loss: 7.0133 - mae: 7.0133\n",
            "Epoch 94/100\n",
            "2/2 [==============================] - 0s 6ms/step - loss: 6.9950 - mae: 6.9950\n",
            "Epoch 95/100\n",
            "2/2 [==============================] - 0s 14ms/step - loss: 6.9877 - mae: 6.9877\n",
            "Epoch 96/100\n",
            "2/2 [==============================] - 0s 6ms/step - loss: 7.0021 - mae: 7.0021\n",
            "Epoch 97/100\n",
            "2/2 [==============================] - 0s 7ms/step - loss: 6.9921 - mae: 6.9921\n",
            "Epoch 98/100\n",
            "2/2 [==============================] - 0s 8ms/step - loss: 6.9797 - mae: 6.9797\n",
            "Epoch 99/100\n",
            "2/2 [==============================] - 0s 7ms/step - loss: 6.9677 - mae: 6.9677\n",
            "Epoch 100/100\n",
            "2/2 [==============================] - 0s 7ms/step - loss: 6.9549 - mae: 6.9549\n"
          ]
        },
        {
          "output_type": "execute_result",
          "data": {
            "text/plain": [
              "<keras.callbacks.History at 0x7f999e6540a0>"
            ]
          },
          "metadata": {},
          "execution_count": 66
        }
      ]
    },
    {
      "cell_type": "code",
      "source": [
        "# Make and plot predictions for model_5\n",
        "y_preds_5 = model_5.predict(X_test)\n",
        "plot_predictions(predictions=y_preds_5)"
      ],
      "metadata": {
        "colab": {
          "base_uri": "https://localhost:8080/",
          "height": 616
        },
        "id": "PFVXFo3Y46JC",
        "outputId": "4bef0e56-ce7c-41c6-a0f9-510ab0c58f9a"
      },
      "execution_count": 67,
      "outputs": [
        {
          "output_type": "stream",
          "name": "stdout",
          "text": [
            "1/1 [==============================] - 0s 53ms/step\n"
          ]
        },
        {
          "output_type": "display_data",
          "data": {
            "text/plain": [
              "<Figure size 1000x700 with 1 Axes>"
            ],
            "image/png": "[encoded data removed]"
          },
          "metadata": {}
        }
      ]
    },
    {
      "cell_type": "code",
      "source": [
        "# Calculate model_4 evaluation metrics\n",
        "mae_5 = mae(y_test, y_preds_5)\n",
        "mse_5 = mse(y_test, y_preds_5)\n",
        "mae_5, mse_5"
      ],
      "metadata": {
        "colab": {
          "base_uri": "https://localhost:8080/"
        },
        "id": "lZayZKBc5Bis",
        "outputId": "7ba5d861-6ae1-4345-cfd5-589894f80d2f"
      },
      "execution_count": 68,
      "outputs": [
        {
          "output_type": "execute_result",
          "data": {
            "text/plain": [
              "(<tf.Tensor: shape=(), dtype=float32, numpy=17.660603>,\n",
              " <tf.Tensor: shape=(), dtype=float32, numpy=313.47998>)"
            ]
          },
          "metadata": {},
          "execution_count": 68
        }
      ]
    },
    {
      "cell_type": "markdown",
      "source": [
        "## Comparing results of experiments"
      ],
      "metadata": {
        "id": "XPNE62Wk14wv"
      }
    },
    {
      "cell_type": "code",
      "source": [
        "# Compare model's results using pandas DataFrame\n",
        "import pandas as pd\n",
        "\n",
        "model_results = [[\"model_1\", mae_1.numpy(), mse_1.numpy()],\n",
        "                 [\"model_2\", mae_2.numpy(), mse_2.numpy()],\n",
        "                 [\"model_3\", mae_3.numpy(), mse_3.numpy()],\n",
        "                 [\"model_4\", mae_4.numpy(), mse_4.numpy()],\n",
        "                 [\"model_5\", mae_5.numpy(), mse_5.numpy()]]\n",
        "\n",
        "all_results = pd.DataFrame(model_results, columns=[\"model\", \"mae\", \"mse\"])\n",
        "all_results"
      ],
      "metadata": {
        "colab": {
          "base_uri": "https://localhost:8080/",
          "height": 206
        },
        "id": "rQ0OI8tu6jds",
        "outputId": "73bd8a07-0aec-4ddb-93b6-1efd45f8cbb2"
      },
      "execution_count": 69,
      "outputs": [
        {
          "output_type": "execute_result",
          "data": {
            "text/plain": [
              "     model        mae          mse\n",
              "0  model_1   8.590669    80.293556\n",
              "1  model_2   2.910614    11.194093\n",
              "2  model_3  67.432137  4630.631836\n",
              "3  model_4  75.762466  5836.290527\n",
              "4  model_5  17.660603   313.479980"
            ],
            "text/html": [
              "\n",
              "  <div id=\"df-526cc496-7406-4631-83e7-6e5334ef5cb4\">\n",
              "    <div class=\"colab-df-container\">\n",
              "      <div>\n",
              "<style scoped>\n",
              "    .dataframe tbody tr th:only-of-type {\n",
              "        vertical-align: middle;\n",
              "    }\n",
              "\n",
              "    .dataframe tbody tr th {\n",
              "        vertical-align: top;\n",
              "    }\n",
              "\n",
              "    .dataframe thead th {\n",
              "        text-align: right;\n",
              "    }\n",
              "</style>\n",
              "<table border=\"1\" class=\"dataframe\">\n",
              "  <thead>\n",
              "    <tr style=\"text-align: right;\">\n",
              "      <th></th>\n",
              "      <th>model</th>\n",
              "      <th>mae</th>\n",
              "      <th>mse</th>\n",
              "    </tr>\n",
              "  </thead>\n",
              "  <tbody>\n",
              "    <tr>\n",
              "      <th>0</th>\n",
              "      <td>model_1</td>\n",
              "      <td>8.590669</td>\n",
              "      <td>80.293556</td>\n",
              "    </tr>\n",
              "    <tr>\n",
              "      <th>1</th>\n",
              "      <td>model_2</td>\n",
              "      <td>2.910614</td>\n",
              "      <td>11.194093</td>\n",
              "    </tr>\n",
              "    <tr>\n",
              "      <th>2</th>\n",
              "      <td>model_3</td>\n",
              "      <td>67.432137</td>\n",
              "      <td>4630.631836</td>\n",
              "    </tr>\n",
              "    <tr>\n",
              "      <th>3</th>\n",
              "      <td>model_4</td>\n",
              "      <td>75.762466</td>\n",
              "      <td>5836.290527</td>\n",
              "    </tr>\n",
              "    <tr>\n",
              "      <th>4</th>\n",
              "      <td>model_5</td>\n",
              "      <td>17.660603</td>\n",
              "      <td>313.479980</td>\n",
              "    </tr>\n",
              "  </tbody>\n",
              "</table>\n",
              "</div>\n",
              "      <button class=\"colab-df-convert\" onclick=\"convertToInteractive('df-526cc496-7406-4631-83e7-6e5334ef5cb4')\"\n",
              "              title=\"Convert this dataframe to an interactive table.\"\n",
              "              style=\"display:none;\">\n",
              "        \n",
              "  <svg xmlns=\"http://www.w3.org/2000/svg\" height=\"24px\"viewBox=\"0 0 24 24\"\n",
              "       width=\"24px\">\n",
              "    <path d=\"M0 0h24v24H0V0z\" fill=\"none\"/>\n",
              "    <path d=\"M18.56 5.44l.94 2.06.94-2.06 2.06-.94-2.06-.94-.94-2.06-.94 2.06-2.06.94zm-11 1L8.5 8.5l.94-2.06 2.06-.94-2.06-.94L8.5 2.5l-.94 2.06-2.06.94zm10 10l.94 2.06.94-2.06 2.06-.94-2.06-.94-.94-2.06-.94 2.06-2.06.94z\"/><path d=\"M17.41 7.96l-1.37-1.37c-.4-.4-.92-.59-1.43-.59-.52 0-1.04.2-1.43.59L10.3 9.45l-7.72 7.72c-.78.78-.78 2.05 0 2.83L4 21.41c.39.39.9.59 1.41.59.51 0 1.02-.2 1.41-.59l7.78-7.78 2.81-2.81c.8-.78.8-2.07 0-2.86zM5.41 20L4 18.59l7.72-7.72 1.47 1.35L5.41 20z\"/>\n",
              "  </svg>\n",
              "      </button>\n",
              "      \n",
              "  <style>\n",
              "    .colab-df-container {\n",
              "      display:flex;\n",
              "      flex-wrap:wrap;\n",
              "      gap: 12px;\n",
              "    }\n",
              "\n",
              "    .colab-df-convert {\n",
              "      background-color: #E8F0FE;\n",
              "      border: none;\n",
              "      border-radius: 50%;\n",
              "      cursor: pointer;\n",
              "      display: none;\n",
              "      fill: #1967D2;\n",
              "      height: 32px;\n",
              "      padding: 0 0 0 0;\n",
              "      width: 32px;\n",
              "    }\n",
              "\n",
              "    .colab-df-convert:hover {\n",
              "      background-color: #E2EBFA;\n",
              "      box-shadow: 0px 1px 2px rgba(60, 64, 67, 0.3), 0px 1px 3px 1px rgba(60, 64, 67, 0.15);\n",
              "      fill: #174EA6;\n",
              "    }\n",
              "\n",
              "    [theme=dark] .colab-df-convert {\n",
              "      background-color: #3B4455;\n",
              "      fill: #D2E3FC;\n",
              "    }\n",
              "\n",
              "    [theme=dark] .colab-df-convert:hover {\n",
              "      background-color: #434B5C;\n",
              "      box-shadow: 0px 1px 3px 1px rgba(0, 0, 0, 0.15);\n",
              "      filter: drop-shadow(0px 1px 2px rgba(0, 0, 0, 0.3));\n",
              "      fill: #FFFFFF;\n",
              "    }\n",
              "  </style>\n",
              "\n",
              "      <script>\n",
              "        const buttonEl =\n",
              "          document.querySelector('#df-526cc496-7406-4631-83e7-6e5334ef5cb4 button.colab-df-convert');\n",
              "        buttonEl.style.display =\n",
              "          google.colab.kernel.accessAllowed ? 'block' : 'none';\n",
              "\n",
              "        async function convertToInteractive(key) {\n",
              "          const element = document.querySelector('#df-526cc496-7406-4631-83e7-6e5334ef5cb4');\n",
              "          const dataTable =\n",
              "            await google.colab.kernel.invokeFunction('convertToInteractive',\n",
              "                                                     [key], {});\n",
              "          if (!dataTable) return;\n",
              "\n",
              "          const docLinkHtml = 'Like what you see? Visit the ' +\n",
              "            '<a target=\"_blank\" href=https://colab.research.google.com/notebooks/data_table.ipynb>data table notebook</a>'\n",
              "            + ' to learn more about interactive tables.';\n",
              "          element.innerHTML = '';\n",
              "          dataTable['output_type'] = 'display_data';\n",
              "          await google.colab.output.renderOutput(dataTable, element);\n",
              "          const docLink = document.createElement('div');\n",
              "          docLink.innerHTML = docLinkHtml;\n",
              "          element.appendChild(docLink);\n",
              "        }\n",
              "      </script>\n",
              "    </div>\n",
              "  </div>\n",
              "  "
            ]
          },
          "metadata": {},
          "execution_count": 69
        }
      ]
    },
    {
      "cell_type": "markdown",
      "source": [
        "model_2 performs the best"
      ],
      "metadata": {
        "id": "1FkMquKA7s7i"
      }
    },
    {
      "cell_type": "code",
      "source": [
        "model_2.summary()"
      ],
      "metadata": {
        "colab": {
          "base_uri": "https://localhost:8080/"
        },
        "id": "6yEy1Iux7Wt1",
        "outputId": "79d1bf68-7816-4a5e-d590-c0ca918d84af"
      },
      "execution_count": 70,
      "outputs": [
        {
          "output_type": "stream",
          "name": "stdout",
          "text": [
            "Model: \"sequential_6\"\n",
            "_________________________________________________________________\n",
            " Layer (type)                Output Shape              Param #   \n",
            "=================================================================\n",
            " dense_7 (Dense)             (None, 10)                20        \n",
            "                                                                 \n",
            " dense_8 (Dense)             (None, 1)                 11        \n",
            "                                                                 \n",
            "=================================================================\n",
            "Total params: 31\n",
            "Trainable params: 31\n",
            "Non-trainable params: 0\n",
            "_________________________________________________________________\n"
          ]
        }
      ]
    },
    {
      "cell_type": "markdown",
      "source": [
        "### Saving Models\n",
        "\n",
        "Saving models enables models to be used outside of colab notebooks elsewhere\n",
        "\n",
        "2 main formats to save model to:\n",
        "- SavedModel format\n",
        "- HDF5 format "
      ],
      "metadata": {
        "id": "Kx1uebR-7gHD"
      }
    },
    {
      "cell_type": "code",
      "source": [
        "# Save model w/ SavedModel format\n",
        "model_2.save(\"best_model_SavedModel_format\")"
      ],
      "metadata": {
        "colab": {
          "base_uri": "https://localhost:8080/"
        },
        "id": "NwTBUeLGpz1N",
        "outputId": "dfaadc8a-f35a-4c58-d77e-5689b4bdc344"
      },
      "execution_count": 71,
      "outputs": [
        {
          "output_type": "stream",
          "name": "stderr",
          "text": [
            "WARNING:absl:Found untraced functions such as _update_step_xla while saving (showing 1 of 1). These functions will not be directly callable after loading.\n"
          ]
        }
      ]
    },
    {
      "cell_type": "code",
      "source": [
        "# Save model using HDF5 format\n",
        "model_2.save(\"best_model_HDF5_format.h5\")"
      ],
      "metadata": {
        "id": "PWSGzZ522PJB"
      },
      "execution_count": 72,
      "outputs": []
    },
    {
      "cell_type": "markdown",
      "source": [
        "## Loading in a saved model"
      ],
      "metadata": {
        "id": "BmF5y7Z56drf"
      }
    },
    {
      "cell_type": "code",
      "source": [
        "# Load in a SavedModel format model\n",
        "loaded_SavedModel_format = tf.keras.models.load_model(\"/content/best_model_SavedModel_format\")\n",
        "loaded_SavedModel_format.summary()"
      ],
      "metadata": {
        "colab": {
          "base_uri": "https://localhost:8080/"
        },
        "id": "Db2VQzl96lpj",
        "outputId": "bc593821-955b-480d-9546-92d3d18ff20b"
      },
      "execution_count": 73,
      "outputs": [
        {
          "output_type": "stream",
          "name": "stdout",
          "text": [
            "Model: \"sequential_6\"\n",
            "_________________________________________________________________\n",
            " Layer (type)                Output Shape              Param #   \n",
            "=================================================================\n",
            " dense_7 (Dense)             (None, 10)                20        \n",
            "                                                                 \n",
            " dense_8 (Dense)             (None, 1)                 11        \n",
            "                                                                 \n",
            "=================================================================\n",
            "Total params: 31\n",
            "Trainable params: 31\n",
            "Non-trainable params: 0\n",
            "_________________________________________________________________\n"
          ]
        }
      ]
    },
    {
      "cell_type": "code",
      "source": [
        "# Compare model_2 predictions w/ savedModel format model predictions\n",
        "model_2_preds = model_2.predict(X_test)\n",
        "loaded_SavedModel_format_preds = loaded_SavedModel_format.predict(X_test)\n",
        "model_2_preds == loaded_SavedModel_format_preds"
      ],
      "metadata": {
        "colab": {
          "base_uri": "https://localhost:8080/"
        },
        "id": "Ct23JFId65H7",
        "outputId": "1c7dfbb0-b85c-425d-e457-67f982b24a31"
      },
      "execution_count": 74,
      "outputs": [
        {
          "output_type": "stream",
          "name": "stdout",
          "text": [
            "1/1 [==============================] - 0s 48ms/step\n",
            "1/1 [==============================] - 0s 87ms/step\n"
          ]
        },
        {
          "output_type": "execute_result",
          "data": {
            "text/plain": [
              "array([[ True],\n",
              "       [ True],\n",
              "       [ True],\n",
              "       [ True],\n",
              "       [ True],\n",
              "       [ True],\n",
              "       [ True],\n",
              "       [ True],\n",
              "       [ True],\n",
              "       [ True]])"
            ]
          },
          "metadata": {},
          "execution_count": 74
        }
      ]
    },
    {
      "cell_type": "code",
      "source": [
        "# Compared mae of loaded model and model_2\n",
        "mae(y_true=y_test, y_pred=model_2_preds) == mae(y_true=y_test, y_pred=loaded_SavedModel_format_preds)"
      ],
      "metadata": {
        "colab": {
          "base_uri": "https://localhost:8080/"
        },
        "id": "xQez9aEh696K",
        "outputId": "d623f571-e2e5-4a02-cb04-0dc95af7d970"
      },
      "execution_count": 75,
      "outputs": [
        {
          "output_type": "execute_result",
          "data": {
            "text/plain": [
              "<tf.Tensor: shape=(), dtype=bool, numpy=True>"
            ]
          },
          "metadata": {},
          "execution_count": 75
        }
      ]
    },
    {
      "cell_type": "code",
      "source": [
        "# Load in a model using .h5 format\n",
        "loaded_h5_model = tf.keras.models.load_model(\"/content/best_model_HDF5_format.h5\")\n",
        "loaded_h5_model.summary()"
      ],
      "metadata": {
        "colab": {
          "base_uri": "https://localhost:8080/"
        },
        "id": "DlrRPA3V76IF",
        "outputId": "f955c481-8a56-421b-87a7-ed4acc2b5ed1"
      },
      "execution_count": 76,
      "outputs": [
        {
          "output_type": "stream",
          "name": "stdout",
          "text": [
            "Model: \"sequential_6\"\n",
            "_________________________________________________________________\n",
            " Layer (type)                Output Shape              Param #   \n",
            "=================================================================\n",
            " dense_7 (Dense)             (None, 10)                20        \n",
            "                                                                 \n",
            " dense_8 (Dense)             (None, 1)                 11        \n",
            "                                                                 \n",
            "=================================================================\n",
            "Total params: 31\n",
            "Trainable params: 31\n",
            "Non-trainable params: 0\n",
            "_________________________________________________________________\n"
          ]
        }
      ]
    },
    {
      "cell_type": "code",
      "source": [
        "model_2.summary()"
      ],
      "metadata": {
        "colab": {
          "base_uri": "https://localhost:8080/"
        },
        "id": "C06xKhwyWBVJ",
        "outputId": "bc2ede53-716c-4c99-a59f-e617c6368f55"
      },
      "execution_count": 77,
      "outputs": [
        {
          "output_type": "stream",
          "name": "stdout",
          "text": [
            "Model: \"sequential_6\"\n",
            "_________________________________________________________________\n",
            " Layer (type)                Output Shape              Param #   \n",
            "=================================================================\n",
            " dense_7 (Dense)             (None, 10)                20        \n",
            "                                                                 \n",
            " dense_8 (Dense)             (None, 1)                 11        \n",
            "                                                                 \n",
            "=================================================================\n",
            "Total params: 31\n",
            "Trainable params: 31\n",
            "Non-trainable params: 0\n",
            "_________________________________________________________________\n"
          ]
        }
      ]
    },
    {
      "cell_type": "code",
      "source": [
        "# Compare predictions w/ model_2 and loaded h5 model\n",
        "model_2_preds = model_2.predict(X_test)\n",
        "loaded_h5_model_preds = loaded_h5_model.predict(X_test)\n",
        "model_2_preds == loaded_h5_model_preds"
      ],
      "metadata": {
        "colab": {
          "base_uri": "https://localhost:8080/"
        },
        "id": "75Gu-ypPWC5a",
        "outputId": "80e426ce-d5ca-4f5a-9b16-73c14036e9b3"
      },
      "execution_count": 78,
      "outputs": [
        {
          "output_type": "stream",
          "name": "stdout",
          "text": [
            "1/1 [==============================] - 0s 31ms/step\n",
            "1/1 [==============================] - 0s 73ms/step\n"
          ]
        },
        {
          "output_type": "execute_result",
          "data": {
            "text/plain": [
              "array([[ True],\n",
              "       [ True],\n",
              "       [ True],\n",
              "       [ True],\n",
              "       [ True],\n",
              "       [ True],\n",
              "       [ True],\n",
              "       [ True],\n",
              "       [ True],\n",
              "       [ True]])"
            ]
          },
          "metadata": {},
          "execution_count": 78
        }
      ]
    },
    {
      "cell_type": "markdown",
      "source": [
        "## A larger Example\n"
      ],
      "metadata": {
        "id": "aZrJBvNzWRVV"
      }
    },
    {
      "cell_type": "code",
      "source": [
        "# Import libs\n",
        "import tensorflow as tf\n",
        "import pandas as pd\n",
        "import matplotlib.pyplot as plt\n"
      ],
      "metadata": {
        "id": "LMUuAoisYgBM"
      },
      "execution_count": 79,
      "outputs": []
    },
    {
      "cell_type": "code",
      "source": [
        "# Read in insurance dataset\n",
        "insurance = pd.read_csv(\"https://raw.githubusercontent.com/stedy/Machine-Learning-with-R-datasets/master/insurance.csv\")\n",
        "insurance"
      ],
      "metadata": {
        "colab": {
          "base_uri": "https://localhost:8080/",
          "height": 423
        },
        "id": "xApZ4_RJcPsj",
        "outputId": "76bd6287-6811-401a-f21e-73d8dc190114"
      },
      "execution_count": 80,
      "outputs": [
        {
          "output_type": "execute_result",
          "data": {
            "text/plain": [
              "      age     sex     bmi  children smoker     region      charges\n",
              "0      19  female  27.900         0    yes  southwest  16884.92400\n",
              "1      18    male  33.770         1     no  southeast   1725.55230\n",
              "2      28    male  33.000         3     no  southeast   4449.46200\n",
              "3      33    male  22.705         0     no  northwest  21984.47061\n",
              "4      32    male  28.880         0     no  northwest   3866.85520\n",
              "...   ...     ...     ...       ...    ...        ...          ...\n",
              "1333   50    male  30.970         3     no  northwest  10600.54830\n",
              "1334   18  female  31.920         0     no  northeast   2205.98080\n",
              "1335   18  female  36.850         0     no  southeast   1629.83350\n",
              "1336   21  female  25.800         0     no  southwest   2007.94500\n",
              "1337   61  female  29.070         0    yes  northwest  29141.36030\n",
              "\n",
              "[1338 rows x 7 columns]"
            ],
            "text/html": [
              "\n",
              "  <div id=\"df-70cb8413-b3c6-4de1-9591-935208b8a9f4\">\n",
              "    <div class=\"colab-df-container\">\n",
              "      <div>\n",
              "<style scoped>\n",
              "    .dataframe tbody tr th:only-of-type {\n",
              "        vertical-align: middle;\n",
              "    }\n",
              "\n",
              "    .dataframe tbody tr th {\n",
              "        vertical-align: top;\n",
              "    }\n",
              "\n",
              "    .dataframe thead th {\n",
              "        text-align: right;\n",
              "    }\n",
              "</style>\n",
              "<table border=\"1\" class=\"dataframe\">\n",
              "  <thead>\n",
              "    <tr style=\"text-align: right;\">\n",
              "      <th></th>\n",
              "      <th>age</th>\n",
              "      <th>sex</th>\n",
              "      <th>bmi</th>\n",
              "      <th>children</th>\n",
              "      <th>smoker</th>\n",
              "      <th>region</th>\n",
              "      <th>charges</th>\n",
              "    </tr>\n",
              "  </thead>\n",
              "  <tbody>\n",
              "    <tr>\n",
              "      <th>0</th>\n",
              "      <td>19</td>\n",
              "      <td>female</td>\n",
              "      <td>27.900</td>\n",
              "      <td>0</td>\n",
              "      <td>yes</td>\n",
              "      <td>southwest</td>\n",
              "      <td>16884.92400</td>\n",
              "    </tr>\n",
              "    <tr>\n",
              "      <th>1</th>\n",
              "      <td>18</td>\n",
              "      <td>male</td>\n",
              "      <td>33.770</td>\n",
              "      <td>1</td>\n",
              "      <td>no</td>\n",
              "      <td>southeast</td>\n",
              "      <td>1725.55230</td>\n",
              "    </tr>\n",
              "    <tr>\n",
              "      <th>2</th>\n",
              "      <td>28</td>\n",
              "      <td>male</td>\n",
              "      <td>33.000</td>\n",
              "      <td>3</td>\n",
              "      <td>no</td>\n",
              "      <td>southeast</td>\n",
              "      <td>4449.46200</td>\n",
              "    </tr>\n",
              "    <tr>\n",
              "      <th>3</th>\n",
              "      <td>33</td>\n",
              "      <td>male</td>\n",
              "      <td>22.705</td>\n",
              "      <td>0</td>\n",
              "      <td>no</td>\n",
              "      <td>northwest</td>\n",
              "      <td>21984.47061</td>\n",
              "    </tr>\n",
              "    <tr>\n",
              "      <th>4</th>\n",
              "      <td>32</td>\n",
              "      <td>male</td>\n",
              "      <td>28.880</td>\n",
              "      <td>0</td>\n",
              "      <td>no</td>\n",
              "      <td>northwest</td>\n",
              "      <td>3866.85520</td>\n",
              "    </tr>\n",
              "    <tr>\n",
              "      <th>...</th>\n",
              "      <td>...</td>\n",
              "      <td>...</td>\n",
              "      <td>...</td>\n",
              "      <td>...</td>\n",
              "      <td>...</td>\n",
              "      <td>...</td>\n",
              "      <td>...</td>\n",
              "    </tr>\n",
              "    <tr>\n",
              "      <th>1333</th>\n",
              "      <td>50</td>\n",
              "      <td>male</td>\n",
              "      <td>30.970</td>\n",
              "      <td>3</td>\n",
              "      <td>no</td>\n",
              "      <td>northwest</td>\n",
              "      <td>10600.54830</td>\n",
              "    </tr>\n",
              "    <tr>\n",
              "      <th>1334</th>\n",
              "      <td>18</td>\n",
              "      <td>female</td>\n",
              "      <td>31.920</td>\n",
              "      <td>0</td>\n",
              "      <td>no</td>\n",
              "      <td>northeast</td>\n",
              "      <td>2205.98080</td>\n",
              "    </tr>\n",
              "    <tr>\n",
              "      <th>1335</th>\n",
              "      <td>18</td>\n",
              "      <td>female</td>\n",
              "      <td>36.850</td>\n",
              "      <td>0</td>\n",
              "      <td>no</td>\n",
              "      <td>southeast</td>\n",
              "      <td>1629.83350</td>\n",
              "    </tr>\n",
              "    <tr>\n",
              "      <th>1336</th>\n",
              "      <td>21</td>\n",
              "      <td>female</td>\n",
              "      <td>25.800</td>\n",
              "      <td>0</td>\n",
              "      <td>no</td>\n",
              "      <td>southwest</td>\n",
              "      <td>2007.94500</td>\n",
              "    </tr>\n",
              "    <tr>\n",
              "      <th>1337</th>\n",
              "      <td>61</td>\n",
              "      <td>female</td>\n",
              "      <td>29.070</td>\n",
              "      <td>0</td>\n",
              "      <td>yes</td>\n",
              "      <td>northwest</td>\n",
              "      <td>29141.36030</td>\n",
              "    </tr>\n",
              "  </tbody>\n",
              "</table>\n",
              "<p>1338 rows × 7 columns</p>\n",
              "</div>\n",
              "      <button class=\"colab-df-convert\" onclick=\"convertToInteractive('df-70cb8413-b3c6-4de1-9591-935208b8a9f4')\"\n",
              "              title=\"Convert this dataframe to an interactive table.\"\n",
              "              style=\"display:none;\">\n",
              "        \n",
              "  <svg xmlns=\"http://www.w3.org/2000/svg\" height=\"24px\"viewBox=\"0 0 24 24\"\n",
              "       width=\"24px\">\n",
              "    <path d=\"M0 0h24v24H0V0z\" fill=\"none\"/>\n",
              "    <path d=\"M18.56 5.44l.94 2.06.94-2.06 2.06-.94-2.06-.94-.94-2.06-.94 2.06-2.06.94zm-11 1L8.5 8.5l.94-2.06 2.06-.94-2.06-.94L8.5 2.5l-.94 2.06-2.06.94zm10 10l.94 2.06.94-2.06 2.06-.94-2.06-.94-.94-2.06-.94 2.06-2.06.94z\"/><path d=\"M17.41 7.96l-1.37-1.37c-.4-.4-.92-.59-1.43-.59-.52 0-1.04.2-1.43.59L10.3 9.45l-7.72 7.72c-.78.78-.78 2.05 0 2.83L4 21.41c.39.39.9.59 1.41.59.51 0 1.02-.2 1.41-.59l7.78-7.78 2.81-2.81c.8-.78.8-2.07 0-2.86zM5.41 20L4 18.59l7.72-7.72 1.47 1.35L5.41 20z\"/>\n",
              "  </svg>\n",
              "      </button>\n",
              "      \n",
              "  <style>\n",
              "    .colab-df-container {\n",
              "      display:flex;\n",
              "      flex-wrap:wrap;\n",
              "      gap: 12px;\n",
              "    }\n",
              "\n",
              "    .colab-df-convert {\n",
              "      background-color: #E8F0FE;\n",
              "      border: none;\n",
              "      border-radius: 50%;\n",
              "      cursor: pointer;\n",
              "      display: none;\n",
              "      fill: #1967D2;\n",
              "      height: 32px;\n",
              "      padding: 0 0 0 0;\n",
              "      width: 32px;\n",
              "    }\n",
              "\n",
              "    .colab-df-convert:hover {\n",
              "      background-color: #E2EBFA;\n",
              "      box-shadow: 0px 1px 2px rgba(60, 64, 67, 0.3), 0px 1px 3px 1px rgba(60, 64, 67, 0.15);\n",
              "      fill: #174EA6;\n",
              "    }\n",
              "\n",
              "    [theme=dark] .colab-df-convert {\n",
              "      background-color: #3B4455;\n",
              "      fill: #D2E3FC;\n",
              "    }\n",
              "\n",
              "    [theme=dark] .colab-df-convert:hover {\n",
              "      background-color: #434B5C;\n",
              "      box-shadow: 0px 1px 3px 1px rgba(0, 0, 0, 0.15);\n",
              "      filter: drop-shadow(0px 1px 2px rgba(0, 0, 0, 0.3));\n",
              "      fill: #FFFFFF;\n",
              "    }\n",
              "  </style>\n",
              "\n",
              "      <script>\n",
              "        const buttonEl =\n",
              "          document.querySelector('#df-70cb8413-b3c6-4de1-9591-935208b8a9f4 button.colab-df-convert');\n",
              "        buttonEl.style.display =\n",
              "          google.colab.kernel.accessAllowed ? 'block' : 'none';\n",
              "\n",
              "        async function convertToInteractive(key) {\n",
              "          const element = document.querySelector('#df-70cb8413-b3c6-4de1-9591-935208b8a9f4');\n",
              "          const dataTable =\n",
              "            await google.colab.kernel.invokeFunction('convertToInteractive',\n",
              "                                                     [key], {});\n",
              "          if (!dataTable) return;\n",
              "\n",
              "          const docLinkHtml = 'Like what you see? Visit the ' +\n",
              "            '<a target=\"_blank\" href=https://colab.research.google.com/notebooks/data_table.ipynb>data table notebook</a>'\n",
              "            + ' to learn more about interactive tables.';\n",
              "          element.innerHTML = '';\n",
              "          dataTable['output_type'] = 'display_data';\n",
              "          await google.colab.output.renderOutput(dataTable, element);\n",
              "          const docLink = document.createElement('div');\n",
              "          docLink.innerHTML = docLinkHtml;\n",
              "          element.appendChild(docLink);\n",
              "        }\n",
              "      </script>\n",
              "    </div>\n",
              "  </div>\n",
              "  "
            ]
          },
          "metadata": {},
          "execution_count": 80
        }
      ]
    },
    {
      "cell_type": "code",
      "source": [
        "# One hot encoding dataframe so it's all numbers\n",
        "insurance_one_hot = pd.get_dummies(insurance)\n",
        "insurance_one_hot.head()"
      ],
      "metadata": {
        "colab": {
          "base_uri": "https://localhost:8080/",
          "height": 270
        },
        "id": "uTKj5wx2cYJ3",
        "outputId": "3a3584d8-173c-4f64-aa6e-bf752c6b4352"
      },
      "execution_count": 81,
      "outputs": [
        {
          "output_type": "execute_result",
          "data": {
            "text/plain": [
              "   age     bmi  children      charges  sex_female  sex_male  smoker_no  \\\n",
              "0   19  27.900         0  16884.92400           1         0          0   \n",
              "1   18  33.770         1   1725.55230           0         1          1   \n",
              "2   28  33.000         3   4449.46200           0         1          1   \n",
              "3   33  22.705         0  21984.47061           0         1          1   \n",
              "4   32  28.880         0   3866.85520           0         1          1   \n",
              "\n",
              "   smoker_yes  region_northeast  region_northwest  region_southeast  \\\n",
              "0           1                 0                 0                 0   \n",
              "1           0                 0                 0                 1   \n",
              "2           0                 0                 0                 1   \n",
              "3           0                 0                 1                 0   \n",
              "4           0                 0                 1                 0   \n",
              "\n",
              "   region_southwest  \n",
              "0                 1  \n",
              "1                 0  \n",
              "2                 0  \n",
              "3                 0  \n",
              "4                 0  "
            ],
            "text/html": [
              "\n",
              "  <div id=\"df-06e6060b-75d2-428e-9c09-e1b1e8148aba\">\n",
              "    <div class=\"colab-df-container\">\n",
              "      <div>\n",
              "<style scoped>\n",
              "    .dataframe tbody tr th:only-of-type {\n",
              "        vertical-align: middle;\n",
              "    }\n",
              "\n",
              "    .dataframe tbody tr th {\n",
              "        vertical-align: top;\n",
              "    }\n",
              "\n",
              "    .dataframe thead th {\n",
              "        text-align: right;\n",
              "    }\n",
              "</style>\n",
              "<table border=\"1\" class=\"dataframe\">\n",
              "  <thead>\n",
              "    <tr style=\"text-align: right;\">\n",
              "      <th></th>\n",
              "      <th>age</th>\n",
              "      <th>bmi</th>\n",
              "      <th>children</th>\n",
              "      <th>charges</th>\n",
              "      <th>sex_female</th>\n",
              "      <th>sex_male</th>\n",
              "      <th>smoker_no</th>\n",
              "      <th>smoker_yes</th>\n",
              "      <th>region_northeast</th>\n",
              "      <th>region_northwest</th>\n",
              "      <th>region_southeast</th>\n",
              "      <th>region_southwest</th>\n",
              "    </tr>\n",
              "  </thead>\n",
              "  <tbody>\n",
              "    <tr>\n",
              "      <th>0</th>\n",
              "      <td>19</td>\n",
              "      <td>27.900</td>\n",
              "      <td>0</td>\n",
              "      <td>16884.92400</td>\n",
              "      <td>1</td>\n",
              "      <td>0</td>\n",
              "      <td>0</td>\n",
              "      <td>1</td>\n",
              "      <td>0</td>\n",
              "      <td>0</td>\n",
              "      <td>0</td>\n",
              "      <td>1</td>\n",
              "    </tr>\n",
              "    <tr>\n",
              "      <th>1</th>\n",
              "      <td>18</td>\n",
              "      <td>33.770</td>\n",
              "      <td>1</td>\n",
              "      <td>1725.55230</td>\n",
              "      <td>0</td>\n",
              "      <td>1</td>\n",
              "      <td>1</td>\n",
              "      <td>0</td>\n",
              "      <td>0</td>\n",
              "      <td>0</td>\n",
              "      <td>1</td>\n",
              "      <td>0</td>\n",
              "    </tr>\n",
              "    <tr>\n",
              "      <th>2</th>\n",
              "      <td>28</td>\n",
              "      <td>33.000</td>\n",
              "      <td>3</td>\n",
              "      <td>4449.46200</td>\n",
              "      <td>0</td>\n",
              "      <td>1</td>\n",
              "      <td>1</td>\n",
              "      <td>0</td>\n",
              "      <td>0</td>\n",
              "      <td>0</td>\n",
              "      <td>1</td>\n",
              "      <td>0</td>\n",
              "    </tr>\n",
              "    <tr>\n",
              "      <th>3</th>\n",
              "      <td>33</td>\n",
              "      <td>22.705</td>\n",
              "      <td>0</td>\n",
              "      <td>21984.47061</td>\n",
              "      <td>0</td>\n",
              "      <td>1</td>\n",
              "      <td>1</td>\n",
              "      <td>0</td>\n",
              "      <td>0</td>\n",
              "      <td>1</td>\n",
              "      <td>0</td>\n",
              "      <td>0</td>\n",
              "    </tr>\n",
              "    <tr>\n",
              "      <th>4</th>\n",
              "      <td>32</td>\n",
              "      <td>28.880</td>\n",
              "      <td>0</td>\n",
              "      <td>3866.85520</td>\n",
              "      <td>0</td>\n",
              "      <td>1</td>\n",
              "      <td>1</td>\n",
              "      <td>0</td>\n",
              "      <td>0</td>\n",
              "      <td>1</td>\n",
              "      <td>0</td>\n",
              "      <td>0</td>\n",
              "    </tr>\n",
              "  </tbody>\n",
              "</table>\n",
              "</div>\n",
              "      <button class=\"colab-df-convert\" onclick=\"convertToInteractive('df-06e6060b-75d2-428e-9c09-e1b1e8148aba')\"\n",
              "              title=\"Convert this dataframe to an interactive table.\"\n",
              "              style=\"display:none;\">\n",
              "        \n",
              "  <svg xmlns=\"http://www.w3.org/2000/svg\" height=\"24px\"viewBox=\"0 0 24 24\"\n",
              "       width=\"24px\">\n",
              "    <path d=\"M0 0h24v24H0V0z\" fill=\"none\"/>\n",
              "    <path d=\"M18.56 5.44l.94 2.06.94-2.06 2.06-.94-2.06-.94-.94-2.06-.94 2.06-2.06.94zm-11 1L8.5 8.5l.94-2.06 2.06-.94-2.06-.94L8.5 2.5l-.94 2.06-2.06.94zm10 10l.94 2.06.94-2.06 2.06-.94-2.06-.94-.94-2.06-.94 2.06-2.06.94z\"/><path d=\"M17.41 7.96l-1.37-1.37c-.4-.4-.92-.59-1.43-.59-.52 0-1.04.2-1.43.59L10.3 9.45l-7.72 7.72c-.78.78-.78 2.05 0 2.83L4 21.41c.39.39.9.59 1.41.59.51 0 1.02-.2 1.41-.59l7.78-7.78 2.81-2.81c.8-.78.8-2.07 0-2.86zM5.41 20L4 18.59l7.72-7.72 1.47 1.35L5.41 20z\"/>\n",
              "  </svg>\n",
              "      </button>\n",
              "      \n",
              "  <style>\n",
              "    .colab-df-container {\n",
              "      display:flex;\n",
              "      flex-wrap:wrap;\n",
              "      gap: 12px;\n",
              "    }\n",
              "\n",
              "    .colab-df-convert {\n",
              "      background-color: #E8F0FE;\n",
              "      border: none;\n",
              "      border-radius: 50%;\n",
              "      cursor: pointer;\n",
              "      display: none;\n",
              "      fill: #1967D2;\n",
              "      height: 32px;\n",
              "      padding: 0 0 0 0;\n",
              "      width: 32px;\n",
              "    }\n",
              "\n",
              "    .colab-df-convert:hover {\n",
              "      background-color: #E2EBFA;\n",
              "      box-shadow: 0px 1px 2px rgba(60, 64, 67, 0.3), 0px 1px 3px 1px rgba(60, 64, 67, 0.15);\n",
              "      fill: #174EA6;\n",
              "    }\n",
              "\n",
              "    [theme=dark] .colab-df-convert {\n",
              "      background-color: #3B4455;\n",
              "      fill: #D2E3FC;\n",
              "    }\n",
              "\n",
              "    [theme=dark] .colab-df-convert:hover {\n",
              "      background-color: #434B5C;\n",
              "      box-shadow: 0px 1px 3px 1px rgba(0, 0, 0, 0.15);\n",
              "      filter: drop-shadow(0px 1px 2px rgba(0, 0, 0, 0.3));\n",
              "      fill: #FFFFFF;\n",
              "    }\n",
              "  </style>\n",
              "\n",
              "      <script>\n",
              "        const buttonEl =\n",
              "          document.querySelector('#df-06e6060b-75d2-428e-9c09-e1b1e8148aba button.colab-df-convert');\n",
              "        buttonEl.style.display =\n",
              "          google.colab.kernel.accessAllowed ? 'block' : 'none';\n",
              "\n",
              "        async function convertToInteractive(key) {\n",
              "          const element = document.querySelector('#df-06e6060b-75d2-428e-9c09-e1b1e8148aba');\n",
              "          const dataTable =\n",
              "            await google.colab.kernel.invokeFunction('convertToInteractive',\n",
              "                                                     [key], {});\n",
              "          if (!dataTable) return;\n",
              "\n",
              "          const docLinkHtml = 'Like what you see? Visit the ' +\n",
              "            '<a target=\"_blank\" href=https://colab.research.google.com/notebooks/data_table.ipynb>data table notebook</a>'\n",
              "            + ' to learn more about interactive tables.';\n",
              "          element.innerHTML = '';\n",
              "          dataTable['output_type'] = 'display_data';\n",
              "          await google.colab.output.renderOutput(dataTable, element);\n",
              "          const docLink = document.createElement('div');\n",
              "          docLink.innerHTML = docLinkHtml;\n",
              "          element.appendChild(docLink);\n",
              "        }\n",
              "      </script>\n",
              "    </div>\n",
              "  </div>\n",
              "  "
            ]
          },
          "metadata": {},
          "execution_count": 81
        }
      ]
    },
    {
      "cell_type": "code",
      "source": [
        "# Creating X & y values (features and labels)\n",
        "X = insurance_one_hot.drop(\"charges\", axis=1)\n",
        "y = insurance_one_hot[\"charges\"]"
      ],
      "metadata": {
        "id": "oSegXOiu5V0s"
      },
      "execution_count": 82,
      "outputs": []
    },
    {
      "cell_type": "code",
      "source": [
        "X.head()"
      ],
      "metadata": {
        "colab": {
          "base_uri": "https://localhost:8080/",
          "height": 206
        },
        "id": "CuVxmOye9-6u",
        "outputId": "ca2c2165-d03a-4241-ba58-985b6ae95b75"
      },
      "execution_count": 83,
      "outputs": [
        {
          "output_type": "execute_result",
          "data": {
            "text/plain": [
              "   age     bmi  children  sex_female  sex_male  smoker_no  smoker_yes  \\\n",
              "0   19  27.900         0           1         0          0           1   \n",
              "1   18  33.770         1           0         1          1           0   \n",
              "2   28  33.000         3           0         1          1           0   \n",
              "3   33  22.705         0           0         1          1           0   \n",
              "4   32  28.880         0           0         1          1           0   \n",
              "\n",
              "   region_northeast  region_northwest  region_southeast  region_southwest  \n",
              "0                 0                 0                 0                 1  \n",
              "1                 0                 0                 1                 0  \n",
              "2                 0                 0                 1                 0  \n",
              "3                 0                 1                 0                 0  \n",
              "4                 0                 1                 0                 0  "
            ],
            "text/html": [
              "\n",
              "  <div id=\"df-d8effaed-18ce-4982-86be-9536a62b2630\">\n",
              "    <div class=\"colab-df-container\">\n",
              "      <div>\n",
              "<style scoped>\n",
              "    .dataframe tbody tr th:only-of-type {\n",
              "        vertical-align: middle;\n",
              "    }\n",
              "\n",
              "    .dataframe tbody tr th {\n",
              "        vertical-align: top;\n",
              "    }\n",
              "\n",
              "    .dataframe thead th {\n",
              "        text-align: right;\n",
              "    }\n",
              "</style>\n",
              "<table border=\"1\" class=\"dataframe\">\n",
              "  <thead>\n",
              "    <tr style=\"text-align: right;\">\n",
              "      <th></th>\n",
              "      <th>age</th>\n",
              "      <th>bmi</th>\n",
              "      <th>children</th>\n",
              "      <th>sex_female</th>\n",
              "      <th>sex_male</th>\n",
              "      <th>smoker_no</th>\n",
              "      <th>smoker_yes</th>\n",
              "      <th>region_northeast</th>\n",
              "      <th>region_northwest</th>\n",
              "      <th>region_southeast</th>\n",
              "      <th>region_southwest</th>\n",
              "    </tr>\n",
              "  </thead>\n",
              "  <tbody>\n",
              "    <tr>\n",
              "      <th>0</th>\n",
              "      <td>19</td>\n",
              "      <td>27.900</td>\n",
              "      <td>0</td>\n",
              "      <td>1</td>\n",
              "      <td>0</td>\n",
              "      <td>0</td>\n",
              "      <td>1</td>\n",
              "      <td>0</td>\n",
              "      <td>0</td>\n",
              "      <td>0</td>\n",
              "      <td>1</td>\n",
              "    </tr>\n",
              "    <tr>\n",
              "      <th>1</th>\n",
              "      <td>18</td>\n",
              "      <td>33.770</td>\n",
              "      <td>1</td>\n",
              "      <td>0</td>\n",
              "      <td>1</td>\n",
              "      <td>1</td>\n",
              "      <td>0</td>\n",
              "      <td>0</td>\n",
              "      <td>0</td>\n",
              "      <td>1</td>\n",
              "      <td>0</td>\n",
              "    </tr>\n",
              "    <tr>\n",
              "      <th>2</th>\n",
              "      <td>28</td>\n",
              "      <td>33.000</td>\n",
              "      <td>3</td>\n",
              "      <td>0</td>\n",
              "      <td>1</td>\n",
              "      <td>1</td>\n",
              "      <td>0</td>\n",
              "      <td>0</td>\n",
              "      <td>0</td>\n",
              "      <td>1</td>\n",
              "      <td>0</td>\n",
              "    </tr>\n",
              "    <tr>\n",
              "      <th>3</th>\n",
              "      <td>33</td>\n",
              "      <td>22.705</td>\n",
              "      <td>0</td>\n",
              "      <td>0</td>\n",
              "      <td>1</td>\n",
              "      <td>1</td>\n",
              "      <td>0</td>\n",
              "      <td>0</td>\n",
              "      <td>1</td>\n",
              "      <td>0</td>\n",
              "      <td>0</td>\n",
              "    </tr>\n",
              "    <tr>\n",
              "      <th>4</th>\n",
              "      <td>32</td>\n",
              "      <td>28.880</td>\n",
              "      <td>0</td>\n",
              "      <td>0</td>\n",
              "      <td>1</td>\n",
              "      <td>1</td>\n",
              "      <td>0</td>\n",
              "      <td>0</td>\n",
              "      <td>1</td>\n",
              "      <td>0</td>\n",
              "      <td>0</td>\n",
              "    </tr>\n",
              "  </tbody>\n",
              "</table>\n",
              "</div>\n",
              "      <button class=\"colab-df-convert\" onclick=\"convertToInteractive('df-d8effaed-18ce-4982-86be-9536a62b2630')\"\n",
              "              title=\"Convert this dataframe to an interactive table.\"\n",
              "              style=\"display:none;\">\n",
              "        \n",
              "  <svg xmlns=\"http://www.w3.org/2000/svg\" height=\"24px\"viewBox=\"0 0 24 24\"\n",
              "       width=\"24px\">\n",
              "    <path d=\"M0 0h24v24H0V0z\" fill=\"none\"/>\n",
              "    <path d=\"M18.56 5.44l.94 2.06.94-2.06 2.06-.94-2.06-.94-.94-2.06-.94 2.06-2.06.94zm-11 1L8.5 8.5l.94-2.06 2.06-.94-2.06-.94L8.5 2.5l-.94 2.06-2.06.94zm10 10l.94 2.06.94-2.06 2.06-.94-2.06-.94-.94-2.06-.94 2.06-2.06.94z\"/><path d=\"M17.41 7.96l-1.37-1.37c-.4-.4-.92-.59-1.43-.59-.52 0-1.04.2-1.43.59L10.3 9.45l-7.72 7.72c-.78.78-.78 2.05 0 2.83L4 21.41c.39.39.9.59 1.41.59.51 0 1.02-.2 1.41-.59l7.78-7.78 2.81-2.81c.8-.78.8-2.07 0-2.86zM5.41 20L4 18.59l7.72-7.72 1.47 1.35L5.41 20z\"/>\n",
              "  </svg>\n",
              "      </button>\n",
              "      \n",
              "  <style>\n",
              "    .colab-df-container {\n",
              "      display:flex;\n",
              "      flex-wrap:wrap;\n",
              "      gap: 12px;\n",
              "    }\n",
              "\n",
              "    .colab-df-convert {\n",
              "      background-color: #E8F0FE;\n",
              "      border: none;\n",
              "      border-radius: 50%;\n",
              "      cursor: pointer;\n",
              "      display: none;\n",
              "      fill: #1967D2;\n",
              "      height: 32px;\n",
              "      padding: 0 0 0 0;\n",
              "      width: 32px;\n",
              "    }\n",
              "\n",
              "    .colab-df-convert:hover {\n",
              "      background-color: #E2EBFA;\n",
              "      box-shadow: 0px 1px 2px rgba(60, 64, 67, 0.3), 0px 1px 3px 1px rgba(60, 64, 67, 0.15);\n",
              "      fill: #174EA6;\n",
              "    }\n",
              "\n",
              "    [theme=dark] .colab-df-convert {\n",
              "      background-color: #3B4455;\n",
              "      fill: #D2E3FC;\n",
              "    }\n",
              "\n",
              "    [theme=dark] .colab-df-convert:hover {\n",
              "      background-color: #434B5C;\n",
              "      box-shadow: 0px 1px 3px 1px rgba(0, 0, 0, 0.15);\n",
              "      filter: drop-shadow(0px 1px 2px rgba(0, 0, 0, 0.3));\n",
              "      fill: #FFFFFF;\n",
              "    }\n",
              "  </style>\n",
              "\n",
              "      <script>\n",
              "        const buttonEl =\n",
              "          document.querySelector('#df-d8effaed-18ce-4982-86be-9536a62b2630 button.colab-df-convert');\n",
              "        buttonEl.style.display =\n",
              "          google.colab.kernel.accessAllowed ? 'block' : 'none';\n",
              "\n",
              "        async function convertToInteractive(key) {\n",
              "          const element = document.querySelector('#df-d8effaed-18ce-4982-86be-9536a62b2630');\n",
              "          const dataTable =\n",
              "            await google.colab.kernel.invokeFunction('convertToInteractive',\n",
              "                                                     [key], {});\n",
              "          if (!dataTable) return;\n",
              "\n",
              "          const docLinkHtml = 'Like what you see? Visit the ' +\n",
              "            '<a target=\"_blank\" href=https://colab.research.google.com/notebooks/data_table.ipynb>data table notebook</a>'\n",
              "            + ' to learn more about interactive tables.';\n",
              "          element.innerHTML = '';\n",
              "          dataTable['output_type'] = 'display_data';\n",
              "          await google.colab.output.renderOutput(dataTable, element);\n",
              "          const docLink = document.createElement('div');\n",
              "          docLink.innerHTML = docLinkHtml;\n",
              "          element.appendChild(docLink);\n",
              "        }\n",
              "      </script>\n",
              "    </div>\n",
              "  </div>\n",
              "  "
            ]
          },
          "metadata": {},
          "execution_count": 83
        }
      ]
    },
    {
      "cell_type": "code",
      "source": [
        "y.head()"
      ],
      "metadata": {
        "colab": {
          "base_uri": "https://localhost:8080/"
        },
        "id": "6sWrdWVI-AgO",
        "outputId": "fdb860d9-c7ca-4533-9765-b37a91619818"
      },
      "execution_count": 84,
      "outputs": [
        {
          "output_type": "execute_result",
          "data": {
            "text/plain": [
              "0    16884.92400\n",
              "1     1725.55230\n",
              "2     4449.46200\n",
              "3    21984.47061\n",
              "4     3866.85520\n",
              "Name: charges, dtype: float64"
            ]
          },
          "metadata": {},
          "execution_count": 84
        }
      ]
    },
    {
      "cell_type": "code",
      "source": [
        "# Creating training and test sets\n",
        "from sklearn.model_selection import train_test_split\n",
        "X_train, X_test, y_train, y_test = train_test_split(X, y, test_size=0.2, random_state=42)\n",
        "len(X), len(X_train), len(X_test)"
      ],
      "metadata": {
        "colab": {
          "base_uri": "https://localhost:8080/"
        },
        "id": "yg0VRz73-Bqg",
        "outputId": "e60b9508-3bdd-42b0-9bc9-abf3e5f58b00"
      },
      "execution_count": 85,
      "outputs": [
        {
          "output_type": "execute_result",
          "data": {
            "text/plain": [
              "(1338, 1070, 268)"
            ]
          },
          "metadata": {},
          "execution_count": 85
        }
      ]
    },
    {
      "cell_type": "code",
      "source": [
        "# Build neural network like model_2\n",
        "tf.random.set_seed(42)\n",
        "\n",
        "# 1. Create model\n",
        "insurance_model = tf.keras.Sequential([\n",
        "    tf.keras.layers.Dense(10),\n",
        "    tf.keras.layers.Dense(1)\n",
        "])\n",
        "\n",
        "# 2. Compile model\n",
        "insurance_model.compile(loss=tf.keras.losses.mae,\n",
        "                        optimizer=tf.keras.optimizers.SGD(),\n",
        "                        metrics=[\"mae\"])\n",
        "\n",
        "# 3. Fit model\n",
        "insurance_model.fit(X_train, y_train, epochs=100)"
      ],
      "metadata": {
        "colab": {
          "base_uri": "https://localhost:8080/"
        },
        "id": "G0sgUL0H-KOI",
        "outputId": "10698f64-e883-4dd8-c889-f072564562c0"
      },
      "execution_count": 86,
      "outputs": [
        {
          "output_type": "stream",
          "name": "stdout",
          "text": [
            "Epoch 1/100\n",
            "34/34 [==============================] - 0s 2ms/step - loss: 8647.0674 - mae: 8647.0674\n",
            "Epoch 2/100\n",
            "34/34 [==============================] - 0s 2ms/step - loss: 7886.2271 - mae: 7886.2271\n",
            "Epoch 3/100\n",
            "34/34 [==============================] - 0s 2ms/step - loss: 7552.0508 - mae: 7552.0508\n",
            "Epoch 4/100\n",
            "34/34 [==============================] - 0s 2ms/step - loss: 7764.5708 - mae: 7764.5708\n",
            "Epoch 5/100\n",
            "34/34 [==============================] - 0s 1ms/step - loss: 7661.6191 - mae: 7661.6191\n",
            "Epoch 6/100\n",
            "34/34 [==============================] - 0s 2ms/step - loss: 7569.7593 - mae: 7569.7593\n",
            "Epoch 7/100\n",
            "34/34 [==============================] - 0s 2ms/step - loss: 7652.3237 - mae: 7652.3237\n",
            "Epoch 8/100\n",
            "34/34 [==============================] - 0s 2ms/step - loss: 7765.7397 - mae: 7765.7397\n",
            "Epoch 9/100\n",
            "34/34 [==============================] - 0s 2ms/step - loss: 7444.5776 - mae: 7444.5776\n",
            "Epoch 10/100\n",
            "34/34 [==============================] - 0s 2ms/step - loss: 7724.3008 - mae: 7724.3008\n",
            "Epoch 11/100\n",
            "34/34 [==============================] - 0s 2ms/step - loss: 7577.7886 - mae: 7577.7886\n",
            "Epoch 12/100\n",
            "34/34 [==============================] - 0s 2ms/step - loss: 7579.8643 - mae: 7579.8643\n",
            "Epoch 13/100\n",
            "34/34 [==============================] - 0s 2ms/step - loss: 7695.9463 - mae: 7695.9463\n",
            "Epoch 14/100\n",
            "34/34 [==============================] - 0s 2ms/step - loss: 7592.9429 - mae: 7592.9429\n",
            "Epoch 15/100\n",
            "34/34 [==============================] - 0s 2ms/step - loss: 7396.5747 - mae: 7396.5747\n",
            "Epoch 16/100\n",
            "34/34 [==============================] - 0s 2ms/step - loss: 7741.4795 - mae: 7741.4795\n",
            "Epoch 17/100\n",
            "34/34 [==============================] - 0s 2ms/step - loss: 7583.3433 - mae: 7583.3433\n",
            "Epoch 18/100\n",
            "34/34 [==============================] - 0s 2ms/step - loss: 7865.8066 - mae: 7865.8066\n",
            "Epoch 19/100\n",
            "34/34 [==============================] - 0s 2ms/step - loss: 7768.1426 - mae: 7768.1426\n",
            "Epoch 20/100\n",
            "34/34 [==============================] - 0s 2ms/step - loss: 7872.4429 - mae: 7872.4429\n",
            "Epoch 21/100\n",
            "34/34 [==============================] - 0s 2ms/step - loss: 7487.6123 - mae: 7487.6123\n",
            "Epoch 22/100\n",
            "34/34 [==============================] - 0s 2ms/step - loss: 7888.9736 - mae: 7888.9736\n",
            "Epoch 23/100\n",
            "34/34 [==============================] - 0s 2ms/step - loss: 7635.0874 - mae: 7635.0874\n",
            "Epoch 24/100\n",
            "34/34 [==============================] - 0s 2ms/step - loss: 7592.2559 - mae: 7592.2559\n",
            "Epoch 25/100\n",
            "34/34 [==============================] - 0s 3ms/step - loss: 7686.1729 - mae: 7686.1729\n",
            "Epoch 26/100\n",
            "34/34 [==============================] - 0s 2ms/step - loss: 7618.5176 - mae: 7618.5176\n",
            "Epoch 27/100\n",
            "34/34 [==============================] - 0s 2ms/step - loss: 7551.6436 - mae: 7551.6436\n",
            "Epoch 28/100\n",
            "34/34 [==============================] - 0s 3ms/step - loss: 7411.9932 - mae: 7411.9932\n",
            "Epoch 29/100\n",
            "34/34 [==============================] - 0s 3ms/step - loss: 7694.7710 - mae: 7694.7710\n",
            "Epoch 30/100\n",
            "34/34 [==============================] - 0s 2ms/step - loss: 7637.5596 - mae: 7637.5596\n",
            "Epoch 31/100\n",
            "34/34 [==============================] - 0s 3ms/step - loss: 7720.3818 - mae: 7720.3818\n",
            "Epoch 32/100\n",
            "34/34 [==============================] - 0s 2ms/step - loss: 7484.3286 - mae: 7484.3286\n",
            "Epoch 33/100\n",
            "34/34 [==============================] - 0s 2ms/step - loss: 7464.7651 - mae: 7464.7651\n",
            "Epoch 34/100\n",
            "34/34 [==============================] - 0s 2ms/step - loss: 7461.1284 - mae: 7461.1284\n",
            "Epoch 35/100\n",
            "34/34 [==============================] - 0s 2ms/step - loss: 7611.7744 - mae: 7611.7744\n",
            "Epoch 36/100\n",
            "34/34 [==============================] - 0s 2ms/step - loss: 7550.0269 - mae: 7550.0269\n",
            "Epoch 37/100\n",
            "34/34 [==============================] - 0s 2ms/step - loss: 7657.3252 - mae: 7657.3252\n",
            "Epoch 38/100\n",
            "34/34 [==============================] - 0s 1ms/step - loss: 7411.8154 - mae: 7411.8154\n",
            "Epoch 39/100\n",
            "34/34 [==============================] - 0s 1ms/step - loss: 7593.6206 - mae: 7593.6206\n",
            "Epoch 40/100\n",
            "34/34 [==============================] - 0s 2ms/step - loss: 7445.9009 - mae: 7445.9009\n",
            "Epoch 41/100\n",
            "34/34 [==============================] - 0s 2ms/step - loss: 7718.9609 - mae: 7718.9609\n",
            "Epoch 42/100\n",
            "34/34 [==============================] - 0s 2ms/step - loss: 7698.0234 - mae: 7698.0234\n",
            "Epoch 43/100\n",
            "34/34 [==============================] - 0s 2ms/step - loss: 7761.0137 - mae: 7761.0137\n",
            "Epoch 44/100\n",
            "34/34 [==============================] - 0s 2ms/step - loss: 7437.7334 - mae: 7437.7334\n",
            "Epoch 45/100\n",
            "34/34 [==============================] - 0s 2ms/step - loss: 7541.6157 - mae: 7541.6157\n",
            "Epoch 46/100\n",
            "34/34 [==============================] - 0s 2ms/step - loss: 7295.9907 - mae: 7295.9907\n",
            "Epoch 47/100\n",
            "34/34 [==============================] - 0s 2ms/step - loss: 7435.6675 - mae: 7435.6675\n",
            "Epoch 48/100\n",
            "34/34 [==============================] - 0s 2ms/step - loss: 7510.5239 - mae: 7510.5239\n",
            "Epoch 49/100\n",
            "34/34 [==============================] - 0s 2ms/step - loss: 7511.1313 - mae: 7511.1313\n",
            "Epoch 50/100\n",
            "34/34 [==============================] - 0s 2ms/step - loss: 7508.7163 - mae: 7508.7163\n",
            "Epoch 51/100\n",
            "34/34 [==============================] - 0s 2ms/step - loss: 7424.7578 - mae: 7424.7578\n",
            "Epoch 52/100\n",
            "34/34 [==============================] - 0s 2ms/step - loss: 7444.1768 - mae: 7444.1768\n",
            "Epoch 53/100\n",
            "34/34 [==============================] - 0s 2ms/step - loss: 7566.6851 - mae: 7566.6851\n",
            "Epoch 54/100\n",
            "34/34 [==============================] - 0s 2ms/step - loss: 7315.4141 - mae: 7315.4141\n",
            "Epoch 55/100\n",
            "34/34 [==============================] - 0s 2ms/step - loss: 7309.9521 - mae: 7309.9521\n",
            "Epoch 56/100\n",
            "34/34 [==============================] - 0s 2ms/step - loss: 7434.7661 - mae: 7434.7661\n",
            "Epoch 57/100\n",
            "34/34 [==============================] - 0s 2ms/step - loss: 7483.1274 - mae: 7483.1274\n",
            "Epoch 58/100\n",
            "34/34 [==============================] - 0s 2ms/step - loss: 7574.1362 - mae: 7574.1362\n",
            "Epoch 59/100\n",
            "34/34 [==============================] - 0s 2ms/step - loss: 7520.5298 - mae: 7520.5298\n",
            "Epoch 60/100\n",
            "34/34 [==============================] - 0s 2ms/step - loss: 7501.7139 - mae: 7501.7139\n",
            "Epoch 61/100\n",
            "34/34 [==============================] - 0s 2ms/step - loss: 7421.9556 - mae: 7421.9556\n",
            "Epoch 62/100\n",
            "34/34 [==============================] - 0s 2ms/step - loss: 7443.0322 - mae: 7443.0322\n",
            "Epoch 63/100\n",
            "34/34 [==============================] - 0s 2ms/step - loss: 7322.4009 - mae: 7322.4009\n",
            "Epoch 64/100\n",
            "34/34 [==============================] - 0s 2ms/step - loss: 7323.6016 - mae: 7323.6016\n",
            "Epoch 65/100\n",
            "34/34 [==============================] - 0s 2ms/step - loss: 7439.2739 - mae: 7439.2739\n",
            "Epoch 66/100\n",
            "34/34 [==============================] - 0s 2ms/step - loss: 7192.5664 - mae: 7192.5664\n",
            "Epoch 67/100\n",
            "34/34 [==============================] - 0s 2ms/step - loss: 7374.7983 - mae: 7374.7983\n",
            "Epoch 68/100\n",
            "34/34 [==============================] - 0s 2ms/step - loss: 7480.7896 - mae: 7480.7896\n",
            "Epoch 69/100\n",
            "34/34 [==============================] - 0s 2ms/step - loss: 7582.0923 - mae: 7582.0923\n",
            "Epoch 70/100\n",
            "34/34 [==============================] - 0s 2ms/step - loss: 7511.0024 - mae: 7511.0024\n",
            "Epoch 71/100\n",
            "34/34 [==============================] - 0s 2ms/step - loss: 7220.7227 - mae: 7220.7227\n",
            "Epoch 72/100\n",
            "34/34 [==============================] - 0s 2ms/step - loss: 7376.5625 - mae: 7376.5625\n",
            "Epoch 73/100\n",
            "34/34 [==============================] - 0s 2ms/step - loss: 7173.5435 - mae: 7173.5435\n",
            "Epoch 74/100\n",
            "34/34 [==============================] - 0s 2ms/step - loss: 7440.3677 - mae: 7440.3677\n",
            "Epoch 75/100\n",
            "34/34 [==============================] - 0s 2ms/step - loss: 7231.1123 - mae: 7231.1123\n",
            "Epoch 76/100\n",
            "34/34 [==============================] - 0s 2ms/step - loss: 7105.5610 - mae: 7105.5610\n",
            "Epoch 77/100\n",
            "34/34 [==============================] - 0s 2ms/step - loss: 7274.6533 - mae: 7274.6533\n",
            "Epoch 78/100\n",
            "34/34 [==============================] - 0s 2ms/step - loss: 7276.2974 - mae: 7276.2974\n",
            "Epoch 79/100\n",
            "34/34 [==============================] - 0s 2ms/step - loss: 7402.5952 - mae: 7402.5952\n",
            "Epoch 80/100\n",
            "34/34 [==============================] - 0s 2ms/step - loss: 6956.5532 - mae: 6956.5532\n",
            "Epoch 81/100\n",
            "34/34 [==============================] - 0s 2ms/step - loss: 7258.3491 - mae: 7258.3491\n",
            "Epoch 82/100\n",
            "34/34 [==============================] - 0s 2ms/step - loss: 7266.5063 - mae: 7266.5063\n",
            "Epoch 83/100\n",
            "34/34 [==============================] - 0s 2ms/step - loss: 7392.7153 - mae: 7392.7153\n",
            "Epoch 84/100\n",
            "34/34 [==============================] - 0s 2ms/step - loss: 7223.7158 - mae: 7223.7158\n",
            "Epoch 85/100\n",
            "34/34 [==============================] - 0s 2ms/step - loss: 7655.6030 - mae: 7655.6030\n",
            "Epoch 86/100\n",
            "34/34 [==============================] - 0s 2ms/step - loss: 7465.6665 - mae: 7465.6665\n",
            "Epoch 87/100\n",
            "34/34 [==============================] - 0s 2ms/step - loss: 7344.9888 - mae: 7344.9888\n",
            "Epoch 88/100\n",
            "34/34 [==============================] - 0s 2ms/step - loss: 7223.1304 - mae: 7223.1304\n",
            "Epoch 89/100\n",
            "34/34 [==============================] - 0s 2ms/step - loss: 7387.1548 - mae: 7387.1548\n",
            "Epoch 90/100\n",
            "34/34 [==============================] - 0s 2ms/step - loss: 7076.7754 - mae: 7076.7754\n",
            "Epoch 91/100\n",
            "34/34 [==============================] - 0s 2ms/step - loss: 7434.5742 - mae: 7434.5742\n",
            "Epoch 92/100\n",
            "34/34 [==============================] - 0s 2ms/step - loss: 7363.2988 - mae: 7363.2988\n",
            "Epoch 93/100\n",
            "34/34 [==============================] - 0s 2ms/step - loss: 7400.2920 - mae: 7400.2920\n",
            "Epoch 94/100\n",
            "34/34 [==============================] - 0s 2ms/step - loss: 7179.5220 - mae: 7179.5220\n",
            "Epoch 95/100\n",
            "34/34 [==============================] - 0s 2ms/step - loss: 7470.8774 - mae: 7470.8774\n",
            "Epoch 96/100\n",
            "34/34 [==============================] - 0s 2ms/step - loss: 7049.3730 - mae: 7049.3730\n",
            "Epoch 97/100\n",
            "34/34 [==============================] - 0s 2ms/step - loss: 7129.2334 - mae: 7129.2334\n",
            "Epoch 98/100\n",
            "34/34 [==============================] - 0s 2ms/step - loss: 7367.6636 - mae: 7367.6636\n",
            "Epoch 99/100\n",
            "34/34 [==============================] - 0s 2ms/step - loss: 7285.2925 - mae: 7285.2925\n",
            "Epoch 100/100\n",
            "34/34 [==============================] - 0s 2ms/step - loss: 7277.0039 - mae: 7277.0039\n"
          ]
        },
        {
          "output_type": "execute_result",
          "data": {
            "text/plain": [
              "<keras.callbacks.History at 0x7f9997fd4c70>"
            ]
          },
          "metadata": {},
          "execution_count": 86
        }
      ]
    },
    {
      "cell_type": "code",
      "source": [
        " insurance_model.evaluate(X_test, y_test)"
      ],
      "metadata": {
        "colab": {
          "base_uri": "https://localhost:8080/"
        },
        "id": "0ecCExLQDfJY",
        "outputId": "b7953330-7ed0-4cd5-e41c-dd9874976e41"
      },
      "execution_count": 87,
      "outputs": [
        {
          "output_type": "stream",
          "name": "stdout",
          "text": [
            "9/9 [==============================] - 0s 3ms/step - loss: 7014.1436 - mae: 7014.1436\n"
          ]
        },
        {
          "output_type": "execute_result",
          "data": {
            "text/plain": [
              "[7014.1435546875, 7014.1435546875]"
            ]
          },
          "metadata": {},
          "execution_count": 87
        }
      ]
    },
    {
      "cell_type": "code",
      "source": [
        "y_train.median(), y_train.mean()"
      ],
      "metadata": {
        "colab": {
          "base_uri": "https://localhost:8080/"
        },
        "id": "ZbpyGa6nEzC3",
        "outputId": "8be31260-3817-488b-949a-602a5f62e77d"
      },
      "execution_count": 88,
      "outputs": [
        {
          "output_type": "execute_result",
          "data": {
            "text/plain": [
              "(9575.4421, 13346.089736364485)"
            ]
          },
          "metadata": {},
          "execution_count": 88
        }
      ]
    },
    {
      "cell_type": "markdown",
      "source": [
        "### Improving the Model\n",
        "\n",
        "1. Add extra layer w/ more hidden units and used Adam optimizer\n",
        "2. Train for longer\n",
        "\n"
      ],
      "metadata": {
        "id": "QGi3YZ6BE1Pl"
      }
    },
    {
      "cell_type": "code",
      "source": [
        "# Set random seed\n",
        "tf.random.set_seed(42)\n",
        "\n",
        "# 1. Create model w/ more layers\n",
        "insurance_model_2 = tf.keras.Sequential([\n",
        "    tf.keras.layers.Dense(100),\n",
        "    tf.keras.layers.Dense(10),\n",
        "    tf.keras.layers.Dense(1)\n",
        "])\n",
        "\n",
        "# 2. Compile model\n",
        "insurance_model_2.compile(loss=tf.keras.losses.mae,\n",
        "                          optimizer=tf.keras.optimizers.Adam(),\n",
        "                          metrics=[\"mae\"])\n",
        "\n",
        "# 3. Fit model\n",
        "insurance_model_2.fit(X_train, y_train, epochs=100, verbose=1)"
      ],
      "metadata": {
        "colab": {
          "base_uri": "https://localhost:8080/"
        },
        "id": "c81n2r9eFdYU",
        "outputId": "403f50a4-1d8d-45c6-c1b7-7b93467c8812"
      },
      "execution_count": 89,
      "outputs": [
        {
          "output_type": "stream",
          "name": "stdout",
          "text": [
            "Epoch 1/100\n",
            "34/34 [==============================] - 1s 2ms/step - loss: 13302.6240 - mae: 13302.6240\n",
            "Epoch 2/100\n",
            "34/34 [==============================] - 0s 2ms/step - loss: 13116.5820 - mae: 13116.5820\n",
            "Epoch 3/100\n",
            "34/34 [==============================] - 0s 2ms/step - loss: 12748.6631 - mae: 12748.6631\n",
            "Epoch 4/100\n",
            "34/34 [==============================] - 0s 2ms/step - loss: 12045.0137 - mae: 12045.0137\n",
            "Epoch 5/100\n",
            "34/34 [==============================] - 0s 2ms/step - loss: 10885.2695 - mae: 10885.2695\n",
            "Epoch 6/100\n",
            "34/34 [==============================] - 0s 2ms/step - loss: 9418.3438 - mae: 9418.3438\n",
            "Epoch 7/100\n",
            "34/34 [==============================] - 0s 2ms/step - loss: 8105.2793 - mae: 8105.2793\n",
            "Epoch 8/100\n",
            "34/34 [==============================] - 0s 2ms/step - loss: 7508.0269 - mae: 7508.0269\n",
            "Epoch 9/100\n",
            "34/34 [==============================] - 0s 2ms/step - loss: 7418.1221 - mae: 7418.1221\n",
            "Epoch 10/100\n",
            "34/34 [==============================] - 0s 3ms/step - loss: 7398.5640 - mae: 7398.5640\n",
            "Epoch 11/100\n",
            "34/34 [==============================] - 0s 3ms/step - loss: 7379.6909 - mae: 7379.6909\n",
            "Epoch 12/100\n",
            "34/34 [==============================] - 0s 3ms/step - loss: 7357.3682 - mae: 7357.3682\n",
            "Epoch 13/100\n",
            "34/34 [==============================] - 0s 4ms/step - loss: 7336.5786 - mae: 7336.5786\n",
            "Epoch 14/100\n",
            "34/34 [==============================] - 0s 3ms/step - loss: 7313.9941 - mae: 7313.9941\n",
            "Epoch 15/100\n",
            "34/34 [==============================] - 0s 3ms/step - loss: 7294.8906 - mae: 7294.8906\n",
            "Epoch 16/100\n",
            "34/34 [==============================] - 0s 3ms/step - loss: 7272.2808 - mae: 7272.2808\n",
            "Epoch 17/100\n",
            "34/34 [==============================] - 0s 3ms/step - loss: 7251.2168 - mae: 7251.2168\n",
            "Epoch 18/100\n",
            "34/34 [==============================] - 0s 3ms/step - loss: 7227.3560 - mae: 7227.3560\n",
            "Epoch 19/100\n",
            "34/34 [==============================] - 0s 3ms/step - loss: 7204.5166 - mae: 7204.5166\n",
            "Epoch 20/100\n",
            "34/34 [==============================] - 0s 3ms/step - loss: 7180.1284 - mae: 7180.1284\n",
            "Epoch 21/100\n",
            "34/34 [==============================] - 0s 3ms/step - loss: 7160.5781 - mae: 7160.5781\n",
            "Epoch 22/100\n",
            "34/34 [==============================] - 0s 4ms/step - loss: 7131.7559 - mae: 7131.7559\n",
            "Epoch 23/100\n",
            "34/34 [==============================] - 0s 3ms/step - loss: 7105.9248 - mae: 7105.9248\n",
            "Epoch 24/100\n",
            "34/34 [==============================] - 0s 4ms/step - loss: 7079.0034 - mae: 7079.0034\n",
            "Epoch 25/100\n",
            "34/34 [==============================] - 0s 2ms/step - loss: 7059.7720 - mae: 7059.7720\n",
            "Epoch 26/100\n",
            "34/34 [==============================] - 0s 3ms/step - loss: 7025.9502 - mae: 7025.9502\n",
            "Epoch 27/100\n",
            "34/34 [==============================] - 0s 3ms/step - loss: 6996.0693 - mae: 6996.0693\n",
            "Epoch 28/100\n",
            "34/34 [==============================] - 0s 3ms/step - loss: 6966.0151 - mae: 6966.0151\n",
            "Epoch 29/100\n",
            "34/34 [==============================] - 0s 3ms/step - loss: 6935.6431 - mae: 6935.6431\n",
            "Epoch 30/100\n",
            "34/34 [==============================] - 0s 3ms/step - loss: 6907.0684 - mae: 6907.0684\n",
            "Epoch 31/100\n",
            "34/34 [==============================] - 0s 3ms/step - loss: 6873.8394 - mae: 6873.8394\n",
            "Epoch 32/100\n",
            "34/34 [==============================] - 0s 3ms/step - loss: 6842.5981 - mae: 6842.5981\n",
            "Epoch 33/100\n",
            "34/34 [==============================] - 0s 3ms/step - loss: 6808.8257 - mae: 6808.8257\n",
            "Epoch 34/100\n",
            "34/34 [==============================] - 0s 3ms/step - loss: 6775.1445 - mae: 6775.1445\n",
            "Epoch 35/100\n",
            "34/34 [==============================] - 0s 4ms/step - loss: 6737.3618 - mae: 6737.3618\n",
            "Epoch 36/100\n",
            "34/34 [==============================] - 0s 3ms/step - loss: 6701.4653 - mae: 6701.4653\n",
            "Epoch 37/100\n",
            "34/34 [==============================] - 0s 3ms/step - loss: 6662.9844 - mae: 6662.9844\n",
            "Epoch 38/100\n",
            "34/34 [==============================] - 0s 3ms/step - loss: 6630.8867 - mae: 6630.8867\n",
            "Epoch 39/100\n",
            "34/34 [==============================] - 0s 3ms/step - loss: 6591.5278 - mae: 6591.5278\n",
            "Epoch 40/100\n",
            "34/34 [==============================] - 0s 3ms/step - loss: 6559.0933 - mae: 6559.0933\n",
            "Epoch 41/100\n",
            "34/34 [==============================] - 0s 3ms/step - loss: 6533.5117 - mae: 6533.5117\n",
            "Epoch 42/100\n",
            "34/34 [==============================] - 0s 3ms/step - loss: 6510.5229 - mae: 6510.5229\n",
            "Epoch 43/100\n",
            "34/34 [==============================] - 0s 3ms/step - loss: 6488.5186 - mae: 6488.5186\n",
            "Epoch 44/100\n",
            "34/34 [==============================] - 0s 3ms/step - loss: 6469.6733 - mae: 6469.6733\n",
            "Epoch 45/100\n",
            "34/34 [==============================] - 0s 3ms/step - loss: 6462.1523 - mae: 6462.1523\n",
            "Epoch 46/100\n",
            "34/34 [==============================] - 0s 3ms/step - loss: 6442.2788 - mae: 6442.2788\n",
            "Epoch 47/100\n",
            "34/34 [==============================] - 0s 3ms/step - loss: 6427.0312 - mae: 6427.0312\n",
            "Epoch 48/100\n",
            "34/34 [==============================] - 0s 3ms/step - loss: 6412.5430 - mae: 6412.5430\n",
            "Epoch 49/100\n",
            "34/34 [==============================] - 0s 3ms/step - loss: 6401.3647 - mae: 6401.3647\n",
            "Epoch 50/100\n",
            "34/34 [==============================] - 0s 3ms/step - loss: 6386.5088 - mae: 6386.5088\n",
            "Epoch 51/100\n",
            "34/34 [==============================] - 0s 5ms/step - loss: 6372.1411 - mae: 6372.1411\n",
            "Epoch 52/100\n",
            "34/34 [==============================] - 1s 18ms/step - loss: 6358.8623 - mae: 6358.8623\n",
            "Epoch 53/100\n",
            "34/34 [==============================] - 1s 20ms/step - loss: 6344.0566 - mae: 6344.0566\n",
            "Epoch 54/100\n",
            "34/34 [==============================] - 0s 9ms/step - loss: 6329.5996 - mae: 6329.5996\n",
            "Epoch 55/100\n",
            "34/34 [==============================] - 0s 4ms/step - loss: 6315.0483 - mae: 6315.0483\n",
            "Epoch 56/100\n",
            "34/34 [==============================] - 0s 3ms/step - loss: 6300.7480 - mae: 6300.7480\n",
            "Epoch 57/100\n",
            "34/34 [==============================] - 0s 2ms/step - loss: 6286.2554 - mae: 6286.2554\n",
            "Epoch 58/100\n",
            "34/34 [==============================] - 0s 2ms/step - loss: 6271.6387 - mae: 6271.6387\n",
            "Epoch 59/100\n",
            "34/34 [==============================] - 0s 2ms/step - loss: 6254.5352 - mae: 6254.5352\n",
            "Epoch 60/100\n",
            "34/34 [==============================] - 0s 2ms/step - loss: 6242.6504 - mae: 6242.6504\n",
            "Epoch 61/100\n",
            "34/34 [==============================] - 0s 2ms/step - loss: 6220.6196 - mae: 6220.6196\n",
            "Epoch 62/100\n",
            "34/34 [==============================] - 0s 2ms/step - loss: 6208.4312 - mae: 6208.4312\n",
            "Epoch 63/100\n",
            "34/34 [==============================] - 0s 2ms/step - loss: 6188.3530 - mae: 6188.3530\n",
            "Epoch 64/100\n",
            "34/34 [==============================] - 0s 2ms/step - loss: 6169.7339 - mae: 6169.7339\n",
            "Epoch 65/100\n",
            "34/34 [==============================] - 0s 2ms/step - loss: 6151.2339 - mae: 6151.2339\n",
            "Epoch 66/100\n",
            "34/34 [==============================] - 0s 2ms/step - loss: 6132.0361 - mae: 6132.0361\n",
            "Epoch 67/100\n",
            "34/34 [==============================] - 0s 2ms/step - loss: 6117.9160 - mae: 6117.9160\n",
            "Epoch 68/100\n",
            "34/34 [==============================] - 0s 2ms/step - loss: 6093.2407 - mae: 6093.2407\n",
            "Epoch 69/100\n",
            "34/34 [==============================] - 0s 2ms/step - loss: 6075.0967 - mae: 6075.0967\n",
            "Epoch 70/100\n",
            "34/34 [==============================] - 0s 2ms/step - loss: 6052.9316 - mae: 6052.9316\n",
            "Epoch 71/100\n",
            "34/34 [==============================] - 0s 2ms/step - loss: 6030.8496 - mae: 6030.8496\n",
            "Epoch 72/100\n",
            "34/34 [==============================] - 0s 2ms/step - loss: 6008.9199 - mae: 6008.9199\n",
            "Epoch 73/100\n",
            "34/34 [==============================] - 0s 2ms/step - loss: 5992.9141 - mae: 5992.9141\n",
            "Epoch 74/100\n",
            "34/34 [==============================] - 0s 2ms/step - loss: 5960.7007 - mae: 5960.7007\n",
            "Epoch 75/100\n",
            "34/34 [==============================] - 0s 2ms/step - loss: 5936.7163 - mae: 5936.7163\n",
            "Epoch 76/100\n",
            "34/34 [==============================] - 0s 2ms/step - loss: 5917.6523 - mae: 5917.6523\n",
            "Epoch 77/100\n",
            "34/34 [==============================] - 0s 2ms/step - loss: 5883.8423 - mae: 5883.8423\n",
            "Epoch 78/100\n",
            "34/34 [==============================] - 0s 2ms/step - loss: 5856.8892 - mae: 5856.8892\n",
            "Epoch 79/100\n",
            "34/34 [==============================] - 0s 2ms/step - loss: 5828.4053 - mae: 5828.4053\n",
            "Epoch 80/100\n",
            "34/34 [==============================] - 0s 2ms/step - loss: 5797.1182 - mae: 5797.1182\n",
            "Epoch 81/100\n",
            "34/34 [==============================] - 0s 2ms/step - loss: 5768.1890 - mae: 5768.1890\n",
            "Epoch 82/100\n",
            "34/34 [==============================] - 0s 2ms/step - loss: 5735.0161 - mae: 5735.0161\n",
            "Epoch 83/100\n",
            "34/34 [==============================] - 0s 2ms/step - loss: 5703.0659 - mae: 5703.0659\n",
            "Epoch 84/100\n",
            "34/34 [==============================] - 0s 2ms/step - loss: 5664.9316 - mae: 5664.9316\n",
            "Epoch 85/100\n",
            "34/34 [==============================] - 0s 2ms/step - loss: 5633.9316 - mae: 5633.9316\n",
            "Epoch 86/100\n",
            "34/34 [==============================] - 0s 2ms/step - loss: 5596.2822 - mae: 5596.2822\n",
            "Epoch 87/100\n",
            "34/34 [==============================] - 0s 2ms/step - loss: 5552.8042 - mae: 5552.8042\n",
            "Epoch 88/100\n",
            "34/34 [==============================] - 0s 3ms/step - loss: 5511.7524 - mae: 5511.7524\n",
            "Epoch 89/100\n",
            "34/34 [==============================] - 0s 2ms/step - loss: 5466.8716 - mae: 5466.8716\n",
            "Epoch 90/100\n",
            "34/34 [==============================] - 0s 3ms/step - loss: 5418.1357 - mae: 5418.1357\n",
            "Epoch 91/100\n",
            "34/34 [==============================] - 0s 2ms/step - loss: 5374.7729 - mae: 5374.7729\n",
            "Epoch 92/100\n",
            "34/34 [==============================] - 0s 3ms/step - loss: 5323.2925 - mae: 5323.2925\n",
            "Epoch 93/100\n",
            "34/34 [==============================] - 0s 2ms/step - loss: 5272.5527 - mae: 5272.5527\n",
            "Epoch 94/100\n",
            "34/34 [==============================] - 0s 2ms/step - loss: 5218.4175 - mae: 5218.4175\n",
            "Epoch 95/100\n",
            "34/34 [==============================] - 0s 2ms/step - loss: 5158.7178 - mae: 5158.7178\n",
            "Epoch 96/100\n",
            "34/34 [==============================] - 0s 2ms/step - loss: 5107.0869 - mae: 5107.0869\n",
            "Epoch 97/100\n",
            "34/34 [==============================] - 0s 2ms/step - loss: 5045.9741 - mae: 5045.9741\n",
            "Epoch 98/100\n",
            "34/34 [==============================] - 0s 2ms/step - loss: 4979.9717 - mae: 4979.9717\n",
            "Epoch 99/100\n",
            "34/34 [==============================] - 0s 3ms/step - loss: 4907.4014 - mae: 4907.4014\n",
            "Epoch 100/100\n",
            "34/34 [==============================] - 0s 2ms/step - loss: 4849.4526 - mae: 4849.4526\n"
          ]
        },
        {
          "output_type": "execute_result",
          "data": {
            "text/plain": [
              "<keras.callbacks.History at 0x7f999cbc6110>"
            ]
          },
          "metadata": {},
          "execution_count": 89
        }
      ]
    },
    {
      "cell_type": "code",
      "source": [
        "# Evaluate model2\n",
        "insurance_model_2.evaluate(X_test, y_test)"
      ],
      "metadata": {
        "colab": {
          "base_uri": "https://localhost:8080/"
        },
        "id": "04OVfctRGKLf",
        "outputId": "ef568f8c-e8ce-4de1-d24b-a97b8cb6e087"
      },
      "execution_count": 90,
      "outputs": [
        {
          "output_type": "stream",
          "name": "stdout",
          "text": [
            "9/9 [==============================] - 0s 5ms/step - loss: 4726.7725 - mae: 4726.7725\n"
          ]
        },
        {
          "output_type": "execute_result",
          "data": {
            "text/plain": [
              "[4726.7724609375, 4726.7724609375]"
            ]
          },
          "metadata": {},
          "execution_count": 90
        }
      ]
    },
    {
      "cell_type": "code",
      "source": [
        "# Set random seed\n",
        "tf.random.set_seed(42)\n",
        "\n",
        "# 1. Create model\n",
        "insurance_model_3 = tf.keras.Sequential([\n",
        "    tf.keras.layers.Dense(100),\n",
        "    tf.keras.layers.Dense(10),\n",
        "    tf.keras.layers.Dense(1)\n",
        "])\n",
        "\n",
        "# 2. Compile model\n",
        "insurance_model_3.compile(loss=tf.keras.losses.mae,\n",
        "                          optimizer=tf.keras.optimizers.Adam(),\n",
        "                          metrics=[\"mae\"])\n",
        "\n",
        "# 3. Fit model\n",
        "history = insurance_model_3.fit(X_test, y_test, epochs=500, verbose=0)"
      ],
      "metadata": {
        "id": "gUA4oZnEG4wG"
      },
      "execution_count": 91,
      "outputs": []
    },
    {
      "cell_type": "code",
      "source": [
        "insurance_model_3.evaluate(X_test, y_test)"
      ],
      "metadata": {
        "colab": {
          "base_uri": "https://localhost:8080/"
        },
        "id": "k7Dw1x0PKfPg",
        "outputId": "2ad7f9a6-61f7-4ff9-d43c-a7a8d9ea8f81"
      },
      "execution_count": 92,
      "outputs": [
        {
          "output_type": "stream",
          "name": "stdout",
          "text": [
            "9/9 [==============================] - 0s 2ms/step - loss: 3579.9780 - mae: 3579.9780\n"
          ]
        },
        {
          "output_type": "execute_result",
          "data": {
            "text/plain": [
              "[3579.97802734375, 3579.97802734375]"
            ]
          },
          "metadata": {},
          "execution_count": 92
        }
      ]
    },
    {
      "cell_type": "code",
      "source": [
        "insurance_model.evaluate(X_test, y_test)"
      ],
      "metadata": {
        "colab": {
          "base_uri": "https://localhost:8080/"
        },
        "id": "sYIQ2C3TLOeU",
        "outputId": "85d46762-0a5b-42db-c239-e08c4cd34ab1"
      },
      "execution_count": 93,
      "outputs": [
        {
          "output_type": "stream",
          "name": "stdout",
          "text": [
            "9/9 [==============================] - 0s 4ms/step - loss: 7014.1436 - mae: 7014.1436\n"
          ]
        },
        {
          "output_type": "execute_result",
          "data": {
            "text/plain": [
              "[7014.1435546875, 7014.1435546875]"
            ]
          },
          "metadata": {},
          "execution_count": 93
        }
      ]
    },
    {
      "cell_type": "code",
      "source": [
        "# Plot history (also known as loss curve or training curve)\n",
        "pd.DataFrame(history.history).plot()\n",
        "plt.ylabel(\"loss\")\n",
        "plt.xlabel(\"epochs\")"
      ],
      "metadata": {
        "colab": {
          "base_uri": "https://localhost:8080/",
          "height": 466
        },
        "id": "irttXt2zNDhe",
        "outputId": "06d93b6b-9282-4dfe-ef69-826f9a3f71f4"
      },
      "execution_count": 94,
      "outputs": [
        {
          "output_type": "execute_result",
          "data": {
            "text/plain": [
              "Text(0.5, 0, 'epochs')"
            ]
          },
          "metadata": {},
          "execution_count": 94
        },
        {
          "output_type": "display_data",
          "data": {
            "text/plain": [
              "<Figure size 640x480 with 1 Axes>"
            ],
            "image/png": "[encoded data removed]"
          },
          "metadata": {}
        }
      ]
    },
    {
      "cell_type": "markdown",
      "source": [
        "## Preprocessing data (normalization and standardization)\n",
        "\n",
        "In terms or scalaing values, neural networks tend to prefer normalization\n",
        "\n",
        "try both and see which performs better"
      ],
      "metadata": {
        "id": "aw02CLtkNTj-"
      }
    },
    {
      "cell_type": "code",
      "source": [
        "import pandas as pd\n",
        "import matplotlib.pyplot as plt\n",
        "import tensorflow as tf\n",
        "\n",
        "# Read in insurance dataframe\n",
        "insurance = pd.read_csv(\"https://raw.githubusercontent.com/stedy/Machine-Learning-with-R-datasets/master/insurance.csv\")\n",
        "insurance\n"
      ],
      "metadata": {
        "colab": {
          "base_uri": "https://localhost:8080/",
          "height": 423
        },
        "id": "q6uB8wGuQz8x",
        "outputId": "3ae958c5-e31b-4138-ccc6-99c63bb8fefc"
      },
      "execution_count": 95,
      "outputs": [
        {
          "output_type": "execute_result",
          "data": {
            "text/plain": [
              "      age     sex     bmi  children smoker     region      charges\n",
              "0      19  female  27.900         0    yes  southwest  16884.92400\n",
              "1      18    male  33.770         1     no  southeast   1725.55230\n",
              "2      28    male  33.000         3     no  southeast   4449.46200\n",
              "3      33    male  22.705         0     no  northwest  21984.47061\n",
              "4      32    male  28.880         0     no  northwest   3866.85520\n",
              "...   ...     ...     ...       ...    ...        ...          ...\n",
              "1333   50    male  30.970         3     no  northwest  10600.54830\n",
              "1334   18  female  31.920         0     no  northeast   2205.98080\n",
              "1335   18  female  36.850         0     no  southeast   1629.83350\n",
              "1336   21  female  25.800         0     no  southwest   2007.94500\n",
              "1337   61  female  29.070         0    yes  northwest  29141.36030\n",
              "\n",
              "[1338 rows x 7 columns]"
            ],
            "text/html": [
              "\n",
              "  <div id=\"df-ef63fd3a-28dd-4e6e-af95-1c1c41a6abeb\">\n",
              "    <div class=\"colab-df-container\">\n",
              "      <div>\n",
              "<style scoped>\n",
              "    .dataframe tbody tr th:only-of-type {\n",
              "        vertical-align: middle;\n",
              "    }\n",
              "\n",
              "    .dataframe tbody tr th {\n",
              "        vertical-align: top;\n",
              "    }\n",
              "\n",
              "    .dataframe thead th {\n",
              "        text-align: right;\n",
              "    }\n",
              "</style>\n",
              "<table border=\"1\" class=\"dataframe\">\n",
              "  <thead>\n",
              "    <tr style=\"text-align: right;\">\n",
              "      <th></th>\n",
              "      <th>age</th>\n",
              "      <th>sex</th>\n",
              "      <th>bmi</th>\n",
              "      <th>children</th>\n",
              "      <th>smoker</th>\n",
              "      <th>region</th>\n",
              "      <th>charges</th>\n",
              "    </tr>\n",
              "  </thead>\n",
              "  <tbody>\n",
              "    <tr>\n",
              "      <th>0</th>\n",
              "      <td>19</td>\n",
              "      <td>female</td>\n",
              "      <td>27.900</td>\n",
              "      <td>0</td>\n",
              "      <td>yes</td>\n",
              "      <td>southwest</td>\n",
              "      <td>16884.92400</td>\n",
              "    </tr>\n",
              "    <tr>\n",
              "      <th>1</th>\n",
              "      <td>18</td>\n",
              "      <td>male</td>\n",
              "      <td>33.770</td>\n",
              "      <td>1</td>\n",
              "      <td>no</td>\n",
              "      <td>southeast</td>\n",
              "      <td>1725.55230</td>\n",
              "    </tr>\n",
              "    <tr>\n",
              "      <th>2</th>\n",
              "      <td>28</td>\n",
              "      <td>male</td>\n",
              "      <td>33.000</td>\n",
              "      <td>3</td>\n",
              "      <td>no</td>\n",
              "      <td>southeast</td>\n",
              "      <td>4449.46200</td>\n",
              "    </tr>\n",
              "    <tr>\n",
              "      <th>3</th>\n",
              "      <td>33</td>\n",
              "      <td>male</td>\n",
              "      <td>22.705</td>\n",
              "      <td>0</td>\n",
              "      <td>no</td>\n",
              "      <td>northwest</td>\n",
              "      <td>21984.47061</td>\n",
              "    </tr>\n",
              "    <tr>\n",
              "      <th>4</th>\n",
              "      <td>32</td>\n",
              "      <td>male</td>\n",
              "      <td>28.880</td>\n",
              "      <td>0</td>\n",
              "      <td>no</td>\n",
              "      <td>northwest</td>\n",
              "      <td>3866.85520</td>\n",
              "    </tr>\n",
              "    <tr>\n",
              "      <th>...</th>\n",
              "      <td>...</td>\n",
              "      <td>...</td>\n",
              "      <td>...</td>\n",
              "      <td>...</td>\n",
              "      <td>...</td>\n",
              "      <td>...</td>\n",
              "      <td>...</td>\n",
              "    </tr>\n",
              "    <tr>\n",
              "      <th>1333</th>\n",
              "      <td>50</td>\n",
              "      <td>male</td>\n",
              "      <td>30.970</td>\n",
              "      <td>3</td>\n",
              "      <td>no</td>\n",
              "      <td>northwest</td>\n",
              "      <td>10600.54830</td>\n",
              "    </tr>\n",
              "    <tr>\n",
              "      <th>1334</th>\n",
              "      <td>18</td>\n",
              "      <td>female</td>\n",
              "      <td>31.920</td>\n",
              "      <td>0</td>\n",
              "      <td>no</td>\n",
              "      <td>northeast</td>\n",
              "      <td>2205.98080</td>\n",
              "    </tr>\n",
              "    <tr>\n",
              "      <th>1335</th>\n",
              "      <td>18</td>\n",
              "      <td>female</td>\n",
              "      <td>36.850</td>\n",
              "      <td>0</td>\n",
              "      <td>no</td>\n",
              "      <td>southeast</td>\n",
              "      <td>1629.83350</td>\n",
              "    </tr>\n",
              "    <tr>\n",
              "      <th>1336</th>\n",
              "      <td>21</td>\n",
              "      <td>female</td>\n",
              "      <td>25.800</td>\n",
              "      <td>0</td>\n",
              "      <td>no</td>\n",
              "      <td>southwest</td>\n",
              "      <td>2007.94500</td>\n",
              "    </tr>\n",
              "    <tr>\n",
              "      <th>1337</th>\n",
              "      <td>61</td>\n",
              "      <td>female</td>\n",
              "      <td>29.070</td>\n",
              "      <td>0</td>\n",
              "      <td>yes</td>\n",
              "      <td>northwest</td>\n",
              "      <td>29141.36030</td>\n",
              "    </tr>\n",
              "  </tbody>\n",
              "</table>\n",
              "<p>1338 rows × 7 columns</p>\n",
              "</div>\n",
              "      <button class=\"colab-df-convert\" onclick=\"convertToInteractive('df-ef63fd3a-28dd-4e6e-af95-1c1c41a6abeb')\"\n",
              "              title=\"Convert this dataframe to an interactive table.\"\n",
              "              style=\"display:none;\">\n",
              "        \n",
              "  <svg xmlns=\"http://www.w3.org/2000/svg\" height=\"24px\"viewBox=\"0 0 24 24\"\n",
              "       width=\"24px\">\n",
              "    <path d=\"M0 0h24v24H0V0z\" fill=\"none\"/>\n",
              "    <path d=\"M18.56 5.44l.94 2.06.94-2.06 2.06-.94-2.06-.94-.94-2.06-.94 2.06-2.06.94zm-11 1L8.5 8.5l.94-2.06 2.06-.94-2.06-.94L8.5 2.5l-.94 2.06-2.06.94zm10 10l.94 2.06.94-2.06 2.06-.94-2.06-.94-.94-2.06-.94 2.06-2.06.94z\"/><path d=\"M17.41 7.96l-1.37-1.37c-.4-.4-.92-.59-1.43-.59-.52 0-1.04.2-1.43.59L10.3 9.45l-7.72 7.72c-.78.78-.78 2.05 0 2.83L4 21.41c.39.39.9.59 1.41.59.51 0 1.02-.2 1.41-.59l7.78-7.78 2.81-2.81c.8-.78.8-2.07 0-2.86zM5.41 20L4 18.59l7.72-7.72 1.47 1.35L5.41 20z\"/>\n",
              "  </svg>\n",
              "      </button>\n",
              "      \n",
              "  <style>\n",
              "    .colab-df-container {\n",
              "      display:flex;\n",
              "      flex-wrap:wrap;\n",
              "      gap: 12px;\n",
              "    }\n",
              "\n",
              "    .colab-df-convert {\n",
              "      background-color: #E8F0FE;\n",
              "      border: none;\n",
              "      border-radius: 50%;\n",
              "      cursor: pointer;\n",
              "      display: none;\n",
              "      fill: #1967D2;\n",
              "      height: 32px;\n",
              "      padding: 0 0 0 0;\n",
              "      width: 32px;\n",
              "    }\n",
              "\n",
              "    .colab-df-convert:hover {\n",
              "      background-color: #E2EBFA;\n",
              "      box-shadow: 0px 1px 2px rgba(60, 64, 67, 0.3), 0px 1px 3px 1px rgba(60, 64, 67, 0.15);\n",
              "      fill: #174EA6;\n",
              "    }\n",
              "\n",
              "    [theme=dark] .colab-df-convert {\n",
              "      background-color: #3B4455;\n",
              "      fill: #D2E3FC;\n",
              "    }\n",
              "\n",
              "    [theme=dark] .colab-df-convert:hover {\n",
              "      background-color: #434B5C;\n",
              "      box-shadow: 0px 1px 3px 1px rgba(0, 0, 0, 0.15);\n",
              "      filter: drop-shadow(0px 1px 2px rgba(0, 0, 0, 0.3));\n",
              "      fill: #FFFFFF;\n",
              "    }\n",
              "  </style>\n",
              "\n",
              "      <script>\n",
              "        const buttonEl =\n",
              "          document.querySelector('#df-ef63fd3a-28dd-4e6e-af95-1c1c41a6abeb button.colab-df-convert');\n",
              "        buttonEl.style.display =\n",
              "          google.colab.kernel.accessAllowed ? 'block' : 'none';\n",
              "\n",
              "        async function convertToInteractive(key) {\n",
              "          const element = document.querySelector('#df-ef63fd3a-28dd-4e6e-af95-1c1c41a6abeb');\n",
              "          const dataTable =\n",
              "            await google.colab.kernel.invokeFunction('convertToInteractive',\n",
              "                                                     [key], {});\n",
              "          if (!dataTable) return;\n",
              "\n",
              "          const docLinkHtml = 'Like what you see? Visit the ' +\n",
              "            '<a target=\"_blank\" href=https://colab.research.google.com/notebooks/data_table.ipynb>data table notebook</a>'\n",
              "            + ' to learn more about interactive tables.';\n",
              "          element.innerHTML = '';\n",
              "          dataTable['output_type'] = 'display_data';\n",
              "          await google.colab.output.renderOutput(dataTable, element);\n",
              "          const docLink = document.createElement('div');\n",
              "          docLink.innerHTML = docLinkHtml;\n",
              "          element.appendChild(docLink);\n",
              "        }\n",
              "      </script>\n",
              "    </div>\n",
              "  </div>\n",
              "  "
            ]
          },
          "metadata": {},
          "execution_count": 95
        }
      ]
    },
    {
      "cell_type": "markdown",
      "source": [
        "To prepare data use Scikit-Learn"
      ],
      "metadata": {
        "id": "fe2uQNEXRSdh"
      }
    },
    {
      "cell_type": "code",
      "source": [
        "from sklearn.compose import make_column_transformer\n",
        "from sklearn.preprocessing import MinMaxScaler, OneHotEncoder\n",
        "from sklearn.model_selection import train_test_split\n",
        "\n",
        "# Create a column transformer\n",
        "ct = make_column_transformer(\n",
        "    (MinMaxScaler(), [\"age\", \"bmi\", \"children\"]), # turn all values in columns b/w 0 and 1\n",
        "    (OneHotEncoder(handle_unknown=\"ignore\"), [\"sex\", \"smoker\", \"region\"])\n",
        ")\n",
        "\n",
        "# Create X and y\n",
        "X = insurance.drop(\"charges\", axis=1)\n",
        "y = insurance[\"charges\"]\n",
        "\n",
        "# Create training and testing sets\n",
        "X_train, X_test, y_train, y_test = train_test_split(X, y, test_size=0.2, random_state=42)\n",
        "\n",
        "# Fit column transformer to training data\n",
        "ct.fit(X_train)\n",
        "\n",
        "# Transform training and test data w/ normalization (MinMaxScaler) and OneHotEncoder\n",
        "X_train_normal = ct.transform(X_train)\n",
        "X_test_normal = ct.transform(X_test) "
      ],
      "metadata": {
        "id": "0Zrb0rvgOkf1"
      },
      "execution_count": 96,
      "outputs": []
    },
    {
      "cell_type": "code",
      "source": [
        "# How data looks\n",
        "X_train.loc[0]"
      ],
      "metadata": {
        "colab": {
          "base_uri": "https://localhost:8080/"
        },
        "id": "Ulw3m1QsUllv",
        "outputId": "f3c74808-7d10-4eed-e579-d0ee71f00fec"
      },
      "execution_count": 97,
      "outputs": [
        {
          "output_type": "execute_result",
          "data": {
            "text/plain": [
              "age                19\n",
              "sex            female\n",
              "bmi              27.9\n",
              "children            0\n",
              "smoker            yes\n",
              "region      southwest\n",
              "Name: 0, dtype: object"
            ]
          },
          "metadata": {},
          "execution_count": 97
        }
      ]
    },
    {
      "cell_type": "code",
      "source": [
        "X_train_normal[0]"
      ],
      "metadata": {
        "colab": {
          "base_uri": "https://localhost:8080/"
        },
        "id": "cdkbnY4nUts7",
        "outputId": "c2350fb9-2952-4a2b-f03a-a5c30217424e"
      },
      "execution_count": 98,
      "outputs": [
        {
          "output_type": "execute_result",
          "data": {
            "text/plain": [
              "array([0.60869565, 0.10734463, 0.4       , 1.        , 0.        ,\n",
              "       1.        , 0.        , 0.        , 1.        , 0.        ,\n",
              "       0.        ])"
            ]
          },
          "metadata": {},
          "execution_count": 98
        }
      ]
    },
    {
      "cell_type": "code",
      "source": [
        "X_train.shape, X_train_normal.shape"
      ],
      "metadata": {
        "colab": {
          "base_uri": "https://localhost:8080/"
        },
        "id": "SHF0zCgfU_lr",
        "outputId": "b5919e9a-a651-47dd-9a03-53c4b9c1f5b0"
      },
      "execution_count": 99,
      "outputs": [
        {
          "output_type": "execute_result",
          "data": {
            "text/plain": [
              "((1070, 6), (1070, 11))"
            ]
          },
          "metadata": {},
          "execution_count": 99
        }
      ]
    },
    {
      "cell_type": "markdown",
      "source": [
        "Train a new neural network model on the normalized data"
      ],
      "metadata": {
        "id": "nvEOe-OtVJkr"
      }
    },
    {
      "cell_type": "code",
      "source": [
        "# Build neural network model to fit normalized data"
      ],
      "metadata": {
        "id": "EX4ub_PyVIjA"
      },
      "execution_count": 100,
      "outputs": []
    },
    {
      "cell_type": "code",
      "source": [
        "X[\"age\"].plot(kind=\"hist\")\n",
        "# range roughly from 20 to 60"
      ],
      "metadata": {
        "colab": {
          "base_uri": "https://localhost:8080/",
          "height": 447
        },
        "id": "OwSuaQ5sPOox",
        "outputId": "cc6172b3-b45b-4e21-cab8-6f60d203fec2"
      },
      "execution_count": 101,
      "outputs": [
        {
          "output_type": "execute_result",
          "data": {
            "text/plain": [
              "<Axes: ylabel='Frequency'>"
            ]
          },
          "metadata": {},
          "execution_count": 101
        },
        {
          "output_type": "display_data",
          "data": {
            "text/plain": [
              "<Figure size 640x480 with 1 Axes>"
            ],
            "image/png": "[encoded data removed]"
          },
          "metadata": {}
        }
      ]
    },
    {
      "cell_type": "code",
      "source": [
        "X[\"bmi\"].plot(kind=\"hist\")\n",
        "# range from roughly 15 to 55"
      ],
      "metadata": {
        "colab": {
          "base_uri": "https://localhost:8080/",
          "height": 447
        },
        "id": "IqbSKO0SPT6N",
        "outputId": "649fe4ea-2260-437d-ed32-b5239c728163"
      },
      "execution_count": 102,
      "outputs": [
        {
          "output_type": "execute_result",
          "data": {
            "text/plain": [
              "<Axes: ylabel='Frequency'>"
            ]
          },
          "metadata": {},
          "execution_count": 102
        },
        {
          "output_type": "display_data",
          "data": {
            "text/plain": [
              "<Figure size 640x480 with 1 Axes>"
            ],
            "image/png": "[encoded data removed]"
          },
          "metadata": {}
        }
      ]
    },
    {
      "cell_type": "code",
      "source": [
        "X[\"children\"].value_counts()\n",
        "# range from 0 to 5"
      ],
      "metadata": {
        "colab": {
          "base_uri": "https://localhost:8080/"
        },
        "id": "muc6cEviPcl7",
        "outputId": "2cf934e4-30fd-4a84-fa87-a66729670817"
      },
      "execution_count": 103,
      "outputs": [
        {
          "output_type": "execute_result",
          "data": {
            "text/plain": [
              "0    574\n",
              "1    324\n",
              "2    240\n",
              "3    157\n",
              "4     25\n",
              "5     18\n",
              "Name: children, dtype: int64"
            ]
          },
          "metadata": {},
          "execution_count": 103
        }
      ]
    }
  ]
}